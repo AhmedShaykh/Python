{
  "cells": [
    {
      "cell_type": "markdown",
      "metadata": {
        "id": "O_1sJ5XVERLA"
      },
      "source": [
        "# **For LOOP Apply In All Types**"
      ]
    },
    {
      "cell_type": "code",
      "execution_count": 31,
      "metadata": {
        "colab": {
          "base_uri": "https://localhost:8080/"
        },
        "id": "YPMawuhkERLE",
        "outputId": "58336868-7662-4fa0-ac1e-b46403c2878a"
      },
      "outputs": [
        {
          "output_type": "stream",
          "name": "stdout",
          "text": [
            "1\n",
            "2\n",
            "3\n",
            "4\n",
            "5\n",
            "6\n"
          ]
        }
      ],
      "source": [
        "from typing import List;\n",
        "\n",
        "li : List[int] = [1,2,3,4,5,6];\n",
        "\n",
        "for n in li:\n",
        "\n",
        "    print(n);"
      ]
    },
    {
      "cell_type": "code",
      "execution_count": 32,
      "metadata": {
        "colab": {
          "base_uri": "https://localhost:8080/"
        },
        "id": "zrEfbx2xERLJ",
        "outputId": "d36f34f0-03c5-41c8-fc97-e4730e866090"
      },
      "outputs": [
        {
          "output_type": "stream",
          "name": "stdout",
          "text": [
            "Current Number 1\n",
            "Current Number 2\n",
            "Current Number 3\n",
            "Current Number 4\n",
            "Current Number 5\n",
            "Current Number 6\n"
          ]
        }
      ],
      "source": [
        "from typing import Tuple;\n",
        "\n",
        "li : Tuple[int] = (1,2,3,4,5,6);\n",
        "\n",
        "for n in li:\n",
        "\n",
        "    print(f\"Current Number {n}\");"
      ]
    },
    {
      "cell_type": "code",
      "execution_count": 33,
      "metadata": {
        "colab": {
          "base_uri": "https://localhost:8080/"
        },
        "id": "VmdqwFzIERLK",
        "outputId": "c4a7093d-fb8b-4d48-fa0d-b08fcad9d7d7"
      },
      "outputs": [
        {
          "output_type": "stream",
          "name": "stdout",
          "text": [
            "Set Item 1\n",
            "Set Item 2\n",
            "Set Item 3\n",
            "Set Item 4\n",
            "Set Item 5\n",
            "Set Item 7\n"
          ]
        }
      ],
      "source": [
        "from typing import Set;\n",
        "\n",
        "li : Set[int] = {1,1,2,3,4,2,5,7}; # Unique Value\n",
        "\n",
        "for key in li:\n",
        "\n",
        "    print(f\"Set Item {key}\");"
      ]
    },
    {
      "cell_type": "code",
      "execution_count": 34,
      "metadata": {
        "colab": {
          "base_uri": "https://localhost:8080/"
        },
        "id": "xyM-8qhoERLL",
        "outputId": "c3f964d6-dd90-4fb7-d1a8-c2e5b2cb1486"
      },
      "outputs": [
        {
          "output_type": "stream",
          "name": "stdout",
          "text": [
            "Current Character P\n",
            "Current Character a\n",
            "Current Character k\n",
            "Current Character i\n",
            "Current Character s\n",
            "Current Character t\n",
            "Current Character a\n",
            "Current Character n\n"
          ]
        }
      ],
      "source": [
        "li : str = \"Pakistan\";\n",
        "\n",
        "for n in li:\n",
        "\n",
        "    print(f\"Current Character {n}\");"
      ]
    },
    {
      "cell_type": "code",
      "execution_count": 36,
      "metadata": {
        "colab": {
          "base_uri": "https://localhost:8080/"
        },
        "id": "pK_WJdtHERLM",
        "outputId": "7d89d36b-f4e2-43b7-f3bb-a70ebff1bb9e"
      },
      "outputs": [
        {
          "output_type": "stream",
          "name": "stdout",
          "text": [
            "My Name Is Ahmed\n"
          ]
        }
      ],
      "source": [
        "from typing import Dict;\n",
        "\n",
        "li : Dict[str, str] = { \"Name\": \"Ahmed\" };\n",
        "\n",
        "for key in li:\n",
        "\n",
        "    print(f\"My {key} Is {li[key]}\");"
      ]
    },
    {
      "cell_type": "code",
      "execution_count": 37,
      "metadata": {
        "colab": {
          "base_uri": "https://localhost:8080/"
        },
        "id": "Sz8M6QpcERLM",
        "outputId": "325c964b-7ea5-4054-a521-dc307fd40294"
      },
      "outputs": [
        {
          "output_type": "stream",
          "name": "stdout",
          "text": [
            "<class 'list'>\n",
            "Value From List Of Set: 1\n",
            "Value From List Of Set: 2\n",
            "Value From List Of Set: 3\n",
            "Value From List Of Set: 4\n",
            "Value From List Of Set: 5\n",
            "Value From List Of Set: 7\n"
          ]
        }
      ],
      "source": [
        "from typing import List, Set;\n",
        "\n",
        "li : List[Set[int]] = list({1,1,2,3,4,2,5,7});\n",
        "\n",
        "print(type(li));\n",
        "\n",
        "for n in li:\n",
        "\n",
        "    print(f\"Value From List Of Set: {n}\"); # Set Value No List"
      ]
    },
    {
      "cell_type": "code",
      "execution_count": 38,
      "metadata": {
        "colab": {
          "base_uri": "https://localhost:8080/"
        },
        "id": "eK5frcaoERLN",
        "outputId": "4cbb5694-4cca-4dd2-bc82-8e06e91240cb"
      },
      "outputs": [
        {
          "output_type": "stream",
          "name": "stdout",
          "text": [
            "<zip object at 0x7c090320c780>\n",
            "[('a', 'x', 1), ('b', 'y', 2), ('c', 'z', 3)]\n"
          ]
        }
      ],
      "source": [
        "data : list[str] = [\"a\",\"b\",\"c\"];\n",
        "\n",
        "data2 : list[str] = [\"x\",\"y\",\"z\"];\n",
        "\n",
        "data3 : list[int] = [1,2,3];\n",
        "\n",
        "print(zip(data, data2, data3));\n",
        "\n",
        "print(list(zip(data, data2, data3)));"
      ]
    },
    {
      "cell_type": "code",
      "execution_count": 39,
      "metadata": {
        "colab": {
          "base_uri": "https://localhost:8080/"
        },
        "id": "lwuJPRQBERLN",
        "outputId": "97494620-8025-4855-a8aa-1c02111e3f83"
      },
      "outputs": [
        {
          "output_type": "stream",
          "name": "stdout",
          "text": [
            "a x 1\n",
            "b y 2\n",
            "c z 3\n"
          ]
        }
      ],
      "source": [
        "for val, val2, val3 in zip(data, data2, data3):\n",
        "\n",
        "    print(f\"{val} {val2} {val3}\");"
      ]
    },
    {
      "cell_type": "markdown",
      "metadata": {
        "id": "VzRWJ05mERLO"
      },
      "source": [
        "# **While LOOP & Input**"
      ]
    },
    {
      "cell_type": "code",
      "execution_count": 40,
      "metadata": {
        "colab": {
          "base_uri": "https://localhost:8080/"
        },
        "id": "A98RGXzjERLO",
        "outputId": "162b0fd6-c45c-47ef-90a0-24f74c4ba934"
      },
      "outputs": [
        {
          "output_type": "stream",
          "name": "stdout",
          "text": [
            "What Is Your Name?: Ahmed\n",
            "<class 'str'>\n",
            "My Name Is Ahmed!\n"
          ]
        }
      ],
      "source": [
        "name : str = input(\"What Is Your Name?: \");\n",
        "\n",
        "print(type(name));\n",
        "\n",
        "print(f\"My Name Is {name}!\");"
      ]
    },
    {
      "cell_type": "code",
      "execution_count": 41,
      "metadata": {
        "colab": {
          "base_uri": "https://localhost:8080/"
        },
        "id": "BbAstYN_ERLP",
        "outputId": "9fc88a14-0ecb-472d-c94a-9c78cccecf64"
      },
      "outputs": [
        {
          "output_type": "stream",
          "name": "stdout",
          "text": [
            "No. 0\n",
            "No. 1\n",
            "No. 2\n",
            "No. 3\n",
            "No. 4\n",
            "No. 5\n",
            "No. 6\n",
            "No. 7\n",
            "No. 8\n",
            "No. 9\n"
          ]
        }
      ],
      "source": [
        "flag : bool = True;\n",
        "\n",
        "number : int = 0;\n",
        "\n",
        "while flag:\n",
        "\n",
        "    print(f\"No. {number}\");\n",
        "\n",
        "    number += 1;\n",
        "\n",
        "    if number == 10:\n",
        "\n",
        "        break;"
      ]
    },
    {
      "cell_type": "code",
      "execution_count": 42,
      "metadata": {
        "colab": {
          "base_uri": "https://localhost:8080/"
        },
        "id": "J_fEGufkERLQ",
        "outputId": "0225518d-7787-4044-f131-0530926f586e"
      },
      "outputs": [
        {
          "output_type": "stream",
          "name": "stdout",
          "text": [
            "Current Index Is: 0 & List Value Is 100\n",
            "Current Index Is: 1 & List Value Is 200\n",
            "Current Index Is: 2 & List Value Is 300\n"
          ]
        }
      ],
      "source": [
        "li: list[int] = [100,200,300];\n",
        "\n",
        "index : int = 0;\n",
        "\n",
        "while index < len(li):\n",
        "\n",
        "    print(f\"Current Index Is: {index} & List Value Is {li[index]}\");\n",
        "\n",
        "    index += 1;"
      ]
    },
    {
      "cell_type": "code",
      "execution_count": 43,
      "metadata": {
        "colab": {
          "base_uri": "https://localhost:8080/",
          "height": 139
        },
        "id": "vtW273XLERLQ",
        "outputId": "0dd7c42a-fa13-4f6c-d998-53c0f7e97a61"
      },
      "outputs": [
        {
          "name": "stdout",
          "output_type": "stream",
          "text": [
            "Write Quit Or Exit To Stop This Program\n",
            "Enter Your Name: Ahmed\n",
            "Enter Your Education: Exit\n",
            "Write Quit Or Exit To Stop This Program\n",
            "Enter Your Name: Ahmed\n",
            "Enter Your Education: exit\n"
          ]
        },
        {
          "output_type": "display_data",
          "data": {
            "text/plain": [
              "[{'name': 'Ahmed', 'education': 'Exit'}]"
            ]
          },
          "metadata": {}
        }
      ],
      "source": [
        "data : list[dict[str,str]] = [];\n",
        "\n",
        "flag : bool = True;\n",
        "\n",
        "while flag:\n",
        "\n",
        "    print(\"Write Quit Or Exit To Stop This Program\");\n",
        "\n",
        "    name : str = input(\"Enter Your Name: \");\n",
        "\n",
        "    eduction: str = input(\"Enter Your Education: \");\n",
        "\n",
        "    if name in [\"Exit\",\"Quit\",\"Close\",\"Stop\"] or eduction in [\"exit\",\"quit\",\"close\",\"stop\"]:\n",
        "\n",
        "        flag = False\n",
        "\n",
        "        break;\n",
        "\n",
        "    data.append(\n",
        "                {\"name\":name,\n",
        "                \"education\": eduction}\n",
        "                );\n",
        "\n",
        "display(data);"
      ]
    },
    {
      "cell_type": "code",
      "execution_count": 44,
      "metadata": {
        "colab": {
          "base_uri": "https://localhost:8080/"
        },
        "id": "tpZgRQ1oERLR",
        "outputId": "37f515bc-ac68-4655-ced7-527a14e2c4b0"
      },
      "outputs": [
        {
          "output_type": "stream",
          "name": "stdout",
          "text": [
            "1\n",
            "2\n",
            "3\n",
            "4\n",
            "5\n"
          ]
        }
      ],
      "source": [
        "for i in range(1,11):\n",
        "\n",
        "    print(i);\n",
        "\n",
        "    if i == 5:\n",
        "\n",
        "        break;"
      ]
    },
    {
      "cell_type": "code",
      "execution_count": 45,
      "metadata": {
        "colab": {
          "base_uri": "https://localhost:8080/"
        },
        "id": "SqhO5kHbERLR",
        "outputId": "1b12c8b3-6896-42a6-c006-a9852e54723e"
      },
      "outputs": [
        {
          "output_type": "stream",
          "name": "stdout",
          "text": [
            "2 X 1 = 2\n"
          ]
        }
      ],
      "source": [
        "for i in range(1,11):\n",
        "\n",
        "    print(f\"2 X {i} = {i*2}\");\n",
        "\n",
        "    break;"
      ]
    },
    {
      "cell_type": "code",
      "execution_count": 46,
      "metadata": {
        "colab": {
          "base_uri": "https://localhost:8080/"
        },
        "id": "1wLwRsJbERLR",
        "outputId": "a17f2512-f1e5-45f8-dd3d-48fdfa883c3e"
      },
      "outputs": [
        {
          "output_type": "stream",
          "name": "stdout",
          "text": [
            "2 X 1 = 2\n",
            "2 X 2 = 4\n",
            "2 X 3 = 6\n",
            "2 X 4 = 8\n",
            "2 X 5 = 10\n",
            "2 X 6 = 12\n",
            "2 X 7 = 14\n",
            "2 X 8 = 16\n",
            "2 X 9 = 18\n",
            "2 X 10 = 20\n"
          ]
        }
      ],
      "source": [
        "for i in range(1,11):\n",
        "\n",
        "    print(f\"2 X {i} = {i*2}\");"
      ]
    },
    {
      "cell_type": "code",
      "execution_count": 47,
      "metadata": {
        "colab": {
          "base_uri": "https://localhost:8080/"
        },
        "id": "Rl598Xb4ERLS",
        "outputId": "8ab1fe80-0be5-428e-c0b7-9198245974ba"
      },
      "outputs": [
        {
          "output_type": "stream",
          "name": "stdout",
          "text": [
            "1\n",
            "2\n",
            "3\n",
            "4\n",
            "Number 5\n",
            "6\n",
            "7\n",
            "8\n",
            "9\n",
            "10\n"
          ]
        }
      ],
      "source": [
        "for i in range(1, 11):\n",
        "\n",
        "    if i == 5:\n",
        "\n",
        "        print(f\"Number {i}\");\n",
        "\n",
        "        continue;\n",
        "\n",
        "    print(i);"
      ]
    },
    {
      "cell_type": "code",
      "execution_count": 48,
      "metadata": {
        "colab": {
          "base_uri": "https://localhost:8080/"
        },
        "id": "wOuc0yeZERLT",
        "outputId": "0a46f3f1-aa7e-499c-d076-75dfd27c1c8d"
      },
      "outputs": [
        {
          "output_type": "stream",
          "name": "stdout",
          "text": [
            "Your Name: Ahmed Saleem\n",
            "Ahmed Saleem\n",
            "Free Palestine\n"
          ]
        }
      ],
      "source": [
        "if True:\n",
        "\n",
        "    name : str = input(\"Your Name: \");\n",
        "\n",
        "    print(name);\n",
        "\n",
        "print(\"Free Palestine\");"
      ]
    },
    {
      "cell_type": "code",
      "execution_count": 49,
      "metadata": {
        "colab": {
          "base_uri": "https://localhost:8080/"
        },
        "id": "Lg6PbuZzERLU",
        "outputId": "63cf06b1-69d7-471f-968b-39a1576fcdff"
      },
      "outputs": [
        {
          "output_type": "stream",
          "name": "stdout",
          "text": [
            "Free Palestine\n"
          ]
        }
      ],
      "source": [
        "if True:\n",
        "\n",
        "    pass; # Escape The Logic Go To Next Line\n",
        "\n",
        "print(\"Free Palestine\");"
      ]
    },
    {
      "cell_type": "code",
      "execution_count": 50,
      "metadata": {
        "colab": {
          "base_uri": "https://localhost:8080/"
        },
        "id": "8wVlS8RYERLU",
        "outputId": "0ca57206-164f-4dab-dc26-b059fac827a3"
      },
      "outputs": [
        {
          "output_type": "stream",
          "name": "stdout",
          "text": [
            "15\n",
            "15\n"
          ]
        }
      ],
      "source": [
        "print(1 + 7 + 3 + 4);\n",
        "\n",
        "print(1 + 7 \\\n",
        "      + 3 \\\n",
        "         + 4);"
      ]
    },
    {
      "cell_type": "code",
      "execution_count": 51,
      "metadata": {
        "colab": {
          "base_uri": "https://localhost:8080/"
        },
        "id": "4W1dvkGcERLV",
        "outputId": "a47bbb3c-b4b0-4eab-839e-05d88360b49e"
      },
      "outputs": [
        {
          "output_type": "stream",
          "name": "stdout",
          "text": [
            "If You Share Your Name, We Can Personalize The Messages You See. What Is Your First Name: AHM X\n",
            "\n",
            "Hello, AHM X!\n"
          ]
        }
      ],
      "source": [
        "prompt = \"\"\"If You Share Your Name, We Can Personalize The Messages You See. \\\n",
        "What Is Your First Name: \"\"\";\n",
        "\n",
        "name = input(prompt);\n",
        "\n",
        "print(f\"\\nHello, {name}!\");"
      ]
    },
    {
      "cell_type": "code",
      "execution_count": 52,
      "metadata": {
        "colab": {
          "base_uri": "https://localhost:8080/"
        },
        "id": "DZuNiMmPERLV",
        "outputId": "661507fb-4f39-4f98-9b73-3fad376ebd78"
      },
      "outputs": [
        {
          "output_type": "stream",
          "name": "stdout",
          "text": [
            "How Old Are You: 24\n",
            "True\n",
            "24\n"
          ]
        }
      ],
      "source": [
        "age: int = int(input(\"How Old Are You: \"));\n",
        "\n",
        "print(age >= 18);\n",
        "\n",
        "print(age);"
      ]
    },
    {
      "cell_type": "code",
      "execution_count": 53,
      "metadata": {
        "colab": {
          "base_uri": "https://localhost:8080/"
        },
        "id": "8fDDczsKERLW",
        "outputId": "25508ecb-fb02-4870-ea0c-f310e5564501"
      },
      "outputs": [
        {
          "output_type": "stream",
          "name": "stdout",
          "text": [
            "[6, 18]\n"
          ]
        }
      ],
      "source": [
        "data: list[int] = [1, 3, 5, 6, 3, 15, 18];\n",
        "\n",
        "print([ i for i in data if i % 2 == 0 ]);"
      ]
    },
    {
      "cell_type": "code",
      "execution_count": 54,
      "metadata": {
        "colab": {
          "base_uri": "https://localhost:8080/"
        },
        "id": "Z3cuZbSAERLX",
        "outputId": "d5d70fa6-3902-4537-fb9f-4074babfb740"
      },
      "outputs": [
        {
          "output_type": "stream",
          "name": "stdout",
          "text": [
            "[1, 3, 5, 3, 15]\n"
          ]
        }
      ],
      "source": [
        "data: list[int] = [1, 3, 5, 6, 3, 15, 18];\n",
        "\n",
        "print([ i for i in data if i % 2 != 0 ]);"
      ]
    },
    {
      "cell_type": "code",
      "execution_count": 55,
      "metadata": {
        "colab": {
          "base_uri": "https://localhost:8080/"
        },
        "id": "BCYYvnTkERLX",
        "outputId": "b3ab61d5-6cb2-479f-e7d0-10d0b13d01d4"
      },
      "outputs": [
        {
          "output_type": "stream",
          "name": "stdout",
          "text": [
            "2\n",
            "4\n",
            "6\n",
            "8\n",
            "10\n"
          ]
        }
      ],
      "source": [
        "currentNumber = 0;\n",
        "\n",
        "while currentNumber < 10:\n",
        "\n",
        "    currentNumber += 1;\n",
        "\n",
        "    if currentNumber % 2 != 0:\n",
        "\n",
        "        continue;\n",
        "\n",
        "    print(currentNumber);"
      ]
    },
    {
      "cell_type": "code",
      "execution_count": 56,
      "metadata": {
        "colab": {
          "base_uri": "https://localhost:8080/"
        },
        "id": "zyMw8PUFERLY",
        "outputId": "b5ff6113-6738-4f73-b880-3fa4c892b0f7"
      },
      "outputs": [
        {
          "output_type": "stream",
          "name": "stdout",
          "text": [
            "1\n",
            "3\n",
            "5\n",
            "7\n",
            "9\n"
          ]
        }
      ],
      "source": [
        "currentNumber = 0;\n",
        "\n",
        "while currentNumber < 10:\n",
        "\n",
        "    currentNumber += 1;\n",
        "\n",
        "    if currentNumber % 2 == 0:\n",
        "\n",
        "        continue;\n",
        "\n",
        "    print(currentNumber);"
      ]
    },
    {
      "cell_type": "code",
      "execution_count": 57,
      "metadata": {
        "colab": {
          "base_uri": "https://localhost:8080/"
        },
        "id": "R7aS_s6vERLZ",
        "outputId": "e1db126e-9889-43a8-cc94-8b66fdf88de2"
      },
      "outputs": [
        {
          "output_type": "stream",
          "name": "stdout",
          "text": [
            "Enter Value: Quit\n",
            "Quit\n"
          ]
        }
      ],
      "source": [
        "prompt: str = \"Enter Value: \";\n",
        "\n",
        "message: str = \"\";\n",
        "\n",
        "while message != \"Quit\":\n",
        "\n",
        "    message = input(prompt);\n",
        "\n",
        "    print(message);"
      ]
    },
    {
      "cell_type": "code",
      "execution_count": 58,
      "metadata": {
        "colab": {
          "base_uri": "https://localhost:8080/"
        },
        "id": "GQEVRdW5ERLZ",
        "outputId": "5b46bb42-f31e-40a4-86d2-c2524c414eb2"
      },
      "outputs": [
        {
          "name": "stdout",
          "output_type": "stream",
          "text": [
            "Enter Value: quit\n",
            "quit\n",
            "Enter Value: Quit\n"
          ]
        }
      ],
      "source": [
        "prompt: str = \"Enter Value: \";\n",
        "\n",
        "active = True;\n",
        "\n",
        "while active:\n",
        "\n",
        "    message = input(prompt);\n",
        "\n",
        "    if message == \"Quit\":\n",
        "\n",
        "        active = False;\n",
        "\n",
        "    else:\n",
        "\n",
        "        print(message);"
      ]
    },
    {
      "cell_type": "code",
      "execution_count": 59,
      "metadata": {
        "colab": {
          "base_uri": "https://localhost:8080/"
        },
        "id": "t1NlGCkrERLa",
        "outputId": "81eebf33-0bce-4121-fa32-f2da2d6694f4"
      },
      "outputs": [
        {
          "output_type": "stream",
          "name": "stdout",
          "text": [
            "3\n",
            "2\n",
            "1\n"
          ]
        }
      ],
      "source": [
        "data: list[int] = [1,2,3];\n",
        "\n",
        "while data:\n",
        "\n",
        "    n : int = data.pop();\n",
        "\n",
        "    print(n);"
      ]
    },
    {
      "cell_type": "code",
      "execution_count": 60,
      "metadata": {
        "colab": {
          "base_uri": "https://localhost:8080/"
        },
        "id": "-uSTDi2gERLa",
        "outputId": "2f0ba79a-0f39-4266-a18c-b9129a8d1ade"
      },
      "outputs": [
        {
          "output_type": "stream",
          "name": "stdout",
          "text": [
            "['Dog', 'Cat', 'Sparrow', 'Goldfish', 'Cat', 'Rabbit', 'Cat']\n",
            "['Dog', 'Sparrow', 'Goldfish', 'Rabbit']\n"
          ]
        }
      ],
      "source": [
        "pets: list[str] = [\"Dog\", \"Cat\", \"Sparrow\", \"Goldfish\", \"Cat\", \"Rabbit\", \"Cat\"];\n",
        "\n",
        "print(pets);\n",
        "\n",
        "while \"Cat\" in pets:\n",
        "\n",
        "    pets.remove(\"Cat\");\n",
        "\n",
        "print(pets);"
      ]
    },
    {
      "cell_type": "code",
      "execution_count": 61,
      "metadata": {
        "colab": {
          "base_uri": "https://localhost:8080/"
        },
        "id": "4t8kJ0ABERLa",
        "outputId": "3adbca16-d8d2-45f7-dff4-df345125cc9d"
      },
      "outputs": [
        {
          "output_type": "stream",
          "name": "stdout",
          "text": [
            "Verifying user: USMAN\n",
            "Verifying user: YASEEN\n",
            "Verifying user: MANI\n",
            "\n",
            "The Following Users Have Been Confirmed:\n",
            "Usman\n",
            "Yaseen\n",
            "Mani\n"
          ]
        }
      ],
      "source": [
        "unConfirmedUsers: list[str] = [\"Mani\", \"Yaseen\", \"Usman\"];\n",
        "\n",
        "confirmedUsers: list[str] = [];\n",
        "\n",
        "while unConfirmedUsers:\n",
        "\n",
        "    currentUser = unConfirmedUsers.pop();\n",
        "\n",
        "    print(f\"Verifying user: {currentUser.upper()}\");\n",
        "\n",
        "    confirmedUsers.append(currentUser);\n",
        "\n",
        "print(\"\\nThe Following Users Have Been Confirmed:\");\n",
        "\n",
        "for confirmedUser in confirmedUsers:\n",
        "\n",
        "    print(confirmedUser);"
      ]
    }
  ],
  "metadata": {
    "kernelspec": {
      "display_name": "base",
      "language": "python",
      "name": "python3"
    },
    "language_info": {
      "codemirror_mode": {
        "name": "ipython",
        "version": 3
      },
      "file_extension": ".py",
      "mimetype": "text/x-python",
      "name": "python",
      "nbconvert_exporter": "python",
      "pygments_lexer": "ipython3",
      "version": "3.12.0"
    },
    "colab": {
      "provenance": []
    }
  },
  "nbformat": 4,
  "nbformat_minor": 0
}