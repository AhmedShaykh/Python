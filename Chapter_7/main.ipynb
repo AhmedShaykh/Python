{
 "cells": [
  {
   "cell_type": "markdown",
   "metadata": {},
   "source": [
    "# **For LOOP Apply In All Types**"
   ]
  },
  {
   "cell_type": "code",
   "execution_count": 1,
   "metadata": {},
   "outputs": [
    {
     "name": "stdout",
     "output_type": "stream",
     "text": [
      "1\n",
      "2\n",
      "3\n",
      "4\n",
      "5\n",
      "6\n"
     ]
    }
   ],
   "source": [
    "from typing import List;\n",
    "\n",
    "li : List[int] = [1,2,3,4,5,6];\n",
    "\n",
    "for n in li:\n",
    "\n",
    "    print(n);"
   ]
  },
  {
   "cell_type": "code",
   "execution_count": 2,
   "metadata": {},
   "outputs": [
    {
     "name": "stdout",
     "output_type": "stream",
     "text": [
      "Current Number 1\n",
      "Current Number 2\n",
      "Current Number 3\n",
      "Current Number 4\n",
      "Current Number 5\n",
      "Current Number 6\n"
     ]
    }
   ],
   "source": [
    "from typing import Tuple;\n",
    "\n",
    "li : Tuple[int] = (1,2,3,4,5,6);\n",
    "\n",
    "for n in li:\n",
    "\n",
    "    print(f\"Current Number {n}\");"
   ]
  },
  {
   "cell_type": "code",
   "execution_count": 3,
   "metadata": {},
   "outputs": [
    {
     "name": "stdout",
     "output_type": "stream",
     "text": [
      "Set Item 1\n",
      "Set Item 2\n",
      "Set Item 3\n",
      "Set Item 4\n",
      "Set Item 5\n",
      "Set Item 7\n"
     ]
    }
   ],
   "source": [
    "from typing import Set;\n",
    "\n",
    "li : Set[int] = {1,1,2,3,4,2,5,7}; # Unique Value\n",
    "\n",
    "for key in li:\n",
    "\n",
    "    print(f\"Set Item {key}\");"
   ]
  },
  {
   "cell_type": "code",
   "execution_count": 4,
   "metadata": {},
   "outputs": [
    {
     "name": "stdout",
     "output_type": "stream",
     "text": [
      "Current Character P\n",
      "Current Character a\n",
      "Current Character k\n",
      "Current Character i\n",
      "Current Character s\n",
      "Current Character t\n",
      "Current Character a\n",
      "Current Character n\n"
     ]
    }
   ],
   "source": [
    "li : str = \"Pakistan\";\n",
    "\n",
    "for n in li:\n",
    "\n",
    "    print(f\"Current Character {n}\");"
   ]
  },
  {
   "cell_type": "code",
   "execution_count": 5,
   "metadata": {},
   "outputs": [
    {
     "name": "stdout",
     "output_type": "stream",
     "text": [
      "My Name Is Ahmed\n"
     ]
    }
   ],
   "source": [
    "from typing import Dict;\n",
    "\n",
    "li : Dict[str, str] = { \"Name\": \"Ahmed\" };\n",
    "\n",
    "for key in li:\n",
    "\n",
    "    print(f\"My {key} Is {li[key]}\");"
   ]
  },
  {
   "cell_type": "code",
   "execution_count": 6,
   "metadata": {},
   "outputs": [
    {
     "name": "stdout",
     "output_type": "stream",
     "text": [
      "<class 'list'>\n",
      "Value From List Of Set: 1\n",
      "Value From List Of Set: 2\n",
      "Value From List Of Set: 3\n",
      "Value From List Of Set: 4\n",
      "Value From List Of Set: 5\n",
      "Value From List Of Set: 7\n"
     ]
    }
   ],
   "source": [
    "from typing import List, Set;\n",
    "\n",
    "li : List[Set[int]] = list({1,1,2,3,4,2,5,7});\n",
    "\n",
    "print(type(li));\n",
    "\n",
    "for n in li:\n",
    "\n",
    "    print(f\"Value From List Of Set: {n}\"); # Set Value No List"
   ]
  },
  {
   "cell_type": "code",
   "execution_count": 7,
   "metadata": {},
   "outputs": [
    {
     "name": "stdout",
     "output_type": "stream",
     "text": [
      "<zip object at 0x000001720E808600>\n",
      "[('a', 'x', 1), ('b', 'y', 2), ('c', 'z', 3)]\n"
     ]
    }
   ],
   "source": [
    "data : list[str] = [\"a\",\"b\",\"c\"];\n",
    "\n",
    "data2 : list[str] = [\"x\",\"y\",\"z\"];\n",
    "\n",
    "data3 : list[int] = [1,2,3];\n",
    "\n",
    "print(zip(data, data2, data3));\n",
    "\n",
    "print(list(zip(data, data2, data3)));"
   ]
  },
  {
   "cell_type": "code",
   "execution_count": 8,
   "metadata": {},
   "outputs": [
    {
     "name": "stdout",
     "output_type": "stream",
     "text": [
      "a x 1\n",
      "b y 2\n",
      "c z 3\n"
     ]
    }
   ],
   "source": [
    "for val, val2, val3 in zip(data, data2, data3):\n",
    "\n",
    "    print(f\"{val} {val2} {val3}\");"
   ]
  },
  {
   "cell_type": "markdown",
   "metadata": {},
   "source": [
    "# **While LOOP & Input**"
   ]
  },
  {
   "cell_type": "code",
   "execution_count": 22,
   "metadata": {},
   "outputs": [
    {
     "name": "stdout",
     "output_type": "stream",
     "text": [
      "<class 'str'>\n",
      "My Name Is AHM X!\n"
     ]
    }
   ],
   "source": [
    "name : str = input(\"What Is Your Name?: \");\n",
    "\n",
    "print(type(name));\n",
    "\n",
    "print(f\"My Name Is {name}!\");"
   ]
  },
  {
   "cell_type": "code",
   "execution_count": 9,
   "metadata": {},
   "outputs": [
    {
     "name": "stdout",
     "output_type": "stream",
     "text": [
      "No. 0\n",
      "No. 1\n",
      "No. 2\n",
      "No. 3\n",
      "No. 4\n",
      "No. 5\n",
      "No. 6\n",
      "No. 7\n",
      "No. 8\n",
      "No. 9\n"
     ]
    }
   ],
   "source": [
    "flag : bool = True;\n",
    "\n",
    "number : int = 0;\n",
    "\n",
    "while flag:\n",
    "\n",
    "    print(f\"No. {number}\");\n",
    "\n",
    "    number += 1;\n",
    "\n",
    "    if number == 10:\n",
    "\n",
    "        break;"
   ]
  },
  {
   "cell_type": "code",
   "execution_count": 10,
   "metadata": {},
   "outputs": [
    {
     "name": "stdout",
     "output_type": "stream",
     "text": [
      "Current Index Is: 0 & List Value Is 100\n",
      "Current Index Is: 1 & List Value Is 200\n",
      "Current Index Is: 2 & List Value Is 300\n"
     ]
    }
   ],
   "source": [
    "li: list[int] = [100,200,300];\n",
    "\n",
    "index : int = 0;\n",
    "\n",
    "while index < len(li):\n",
    "\n",
    "    print(f\"Current Index Is: {index} & List Value Is {li[index]}\");\n",
    "\n",
    "    index += 1;"
   ]
  },
  {
   "cell_type": "code",
   "execution_count": 11,
   "metadata": {},
   "outputs": [
    {
     "name": "stdout",
     "output_type": "stream",
     "text": [
      "Write Quit Or Exit To Stop This Program\n",
      "Write Quit Or Exit To Stop This Program\n"
     ]
    },
    {
     "data": {
      "text/plain": [
       "[{'name': 'Ahmed', 'education': 'Full Stack AI Developer'}]"
      ]
     },
     "metadata": {},
     "output_type": "display_data"
    }
   ],
   "source": [
    "data : list[dict[str,str]] = [];\n",
    "\n",
    "flag : bool = True;\n",
    "\n",
    "while flag:\n",
    "\n",
    "    print(\"Write Quit Or Exit To Stop This Program\");\n",
    "\n",
    "    name : str = input(\"Enter Your Name: \");\n",
    "\n",
    "    eduction: str = input(\"Enter Your Education: \");\n",
    "\n",
    "    if name in [\"Exit\",\"Quit\",\"Close\",\"Stop\"] or eduction in [\"exit\",\"quit\",\"close\",\"stop\"]:\n",
    "\n",
    "        flag = False\n",
    "\n",
    "        break;\n",
    "\n",
    "    data.append(\n",
    "                {\"name\":name,\n",
    "                \"education\": eduction}\n",
    "                );\n",
    "\n",
    "display(data);"
   ]
  },
  {
   "cell_type": "code",
   "execution_count": 22,
   "metadata": {},
   "outputs": [
    {
     "name": "stdout",
     "output_type": "stream",
     "text": [
      "1\n",
      "2\n",
      "3\n",
      "4\n",
      "5\n"
     ]
    }
   ],
   "source": [
    "for i in range(1,11):\n",
    "\n",
    "    print(i);\n",
    "\n",
    "    if i == 5:\n",
    "\n",
    "        break;"
   ]
  },
  {
   "cell_type": "code",
   "execution_count": 24,
   "metadata": {},
   "outputs": [
    {
     "name": "stdout",
     "output_type": "stream",
     "text": [
      "2 X 1 = 2\n"
     ]
    }
   ],
   "source": [
    "for i in range(1,11):\n",
    "    \n",
    "    print(f\"2 X {i} = {i*2}\");\n",
    "\n",
    "    break;"
   ]
  },
  {
   "cell_type": "code",
   "execution_count": 25,
   "metadata": {},
   "outputs": [
    {
     "name": "stdout",
     "output_type": "stream",
     "text": [
      "2 X 1 = 2\n",
      "2 X 2 = 4\n",
      "2 X 3 = 6\n",
      "2 X 4 = 8\n",
      "2 X 5 = 10\n",
      "2 X 6 = 12\n",
      "2 X 7 = 14\n",
      "2 X 8 = 16\n",
      "2 X 9 = 18\n",
      "2 X 10 = 20\n"
     ]
    }
   ],
   "source": [
    "for i in range(1,11):\n",
    "    \n",
    "    print(f\"2 X {i} = {i*2}\");"
   ]
  },
  {
   "cell_type": "code",
   "execution_count": 24,
   "metadata": {},
   "outputs": [
    {
     "name": "stdout",
     "output_type": "stream",
     "text": [
      "1\n",
      "2\n",
      "3\n",
      "4\n",
      "Number 5\n",
      "6\n",
      "7\n",
      "8\n",
      "9\n",
      "10\n"
     ]
    }
   ],
   "source": [
    "for i in range(1, 11):\n",
    "\n",
    "    if i == 5:\n",
    "\n",
    "        print(f\"Number {i}\");\n",
    "\n",
    "        continue;\n",
    "    \n",
    "    print(i);"
   ]
  },
  {
   "cell_type": "code",
   "execution_count": 37,
   "metadata": {},
   "outputs": [
    {
     "name": "stdout",
     "output_type": "stream",
     "text": [
      "Ahmed\n",
      "Free Palestine\n"
     ]
    }
   ],
   "source": [
    "if True:\n",
    "\n",
    "    name : str = input(\"Your Name:\");\n",
    "\n",
    "    print(name);\n",
    "\n",
    "print(\"Free Palestine\");"
   ]
  },
  {
   "cell_type": "code",
   "execution_count": 25,
   "metadata": {},
   "outputs": [
    {
     "name": "stdout",
     "output_type": "stream",
     "text": [
      "Free Palestine\n"
     ]
    }
   ],
   "source": [
    "if True:\n",
    "\n",
    "    pass; # Escape The Logic Go To Next Line\n",
    "\n",
    "print(\"Free Palestine\");"
   ]
  },
  {
   "cell_type": "code",
   "execution_count": 41,
   "metadata": {},
   "outputs": [
    {
     "name": "stdout",
     "output_type": "stream",
     "text": [
      "15\n",
      "15\n"
     ]
    }
   ],
   "source": [
    "print(1 + 7 + 3 + 4);\n",
    "\n",
    "print(1 + 7 \\\n",
    "      + 3 \\\n",
    "         + 4);"
   ]
  },
  {
   "cell_type": "code",
   "execution_count": 26,
   "metadata": {},
   "outputs": [
    {
     "name": "stdout",
     "output_type": "stream",
     "text": [
      "\n",
      "Hello, Ahmed!\n"
     ]
    }
   ],
   "source": [
    "prompt = \"\"\"If You Share Your Name, We Can Personalize The Messages You See. \\\n",
    "What Is Your First Name: \"\"\";\n",
    "\n",
    "name = input(prompt);\n",
    "\n",
    "print(f\"\\nHello, {name}!\");"
   ]
  },
  {
   "cell_type": "code",
   "execution_count": 29,
   "metadata": {},
   "outputs": [
    {
     "name": "stdout",
     "output_type": "stream",
     "text": [
      "False\n",
      "12\n"
     ]
    }
   ],
   "source": [
    "age: int = int(input(\"How Old Are You: \"));\n",
    "\n",
    "print(age >= 18);\n",
    "\n",
    "print(age);"
   ]
  },
  {
   "cell_type": "code",
   "execution_count": 45,
   "metadata": {},
   "outputs": [
    {
     "name": "stdout",
     "output_type": "stream",
     "text": [
      "[6, 18]\n"
     ]
    }
   ],
   "source": [
    "data: list[int] = [1, 3, 5, 6, 3, 15, 18];\n",
    "\n",
    "print([ i for i in data if i % 2 == 0 ]);"
   ]
  },
  {
   "cell_type": "code",
   "execution_count": 30,
   "metadata": {},
   "outputs": [
    {
     "name": "stdout",
     "output_type": "stream",
     "text": [
      "[1, 3, 5, 3, 15]\n"
     ]
    }
   ],
   "source": [
    "data: list[int] = [1, 3, 5, 6, 3, 15, 18];\n",
    "\n",
    "print([ i for i in data if i % 2 != 0 ]);"
   ]
  },
  {
   "cell_type": "code",
   "execution_count": 31,
   "metadata": {},
   "outputs": [
    {
     "name": "stdout",
     "output_type": "stream",
     "text": [
      "2\n",
      "4\n",
      "6\n",
      "8\n",
      "10\n"
     ]
    }
   ],
   "source": [
    "currentNumber = 0;\n",
    "\n",
    "while currentNumber < 10:\n",
    "\n",
    "    currentNumber += 1;\n",
    "\n",
    "    if currentNumber % 2 != 0:\n",
    "\n",
    "        continue;\n",
    "    \n",
    "    print(currentNumber);"
   ]
  },
  {
   "cell_type": "code",
   "execution_count": 32,
   "metadata": {},
   "outputs": [
    {
     "name": "stdout",
     "output_type": "stream",
     "text": [
      "1\n",
      "3\n",
      "5\n",
      "7\n",
      "9\n"
     ]
    }
   ],
   "source": [
    "currentNumber = 0;\n",
    "\n",
    "while currentNumber < 10:\n",
    "\n",
    "    currentNumber += 1;\n",
    "\n",
    "    if currentNumber % 2 == 0:\n",
    "\n",
    "        continue;\n",
    "    \n",
    "    print(currentNumber);"
   ]
  },
  {
   "cell_type": "code",
   "execution_count": 34,
   "metadata": {},
   "outputs": [
    {
     "name": "stdout",
     "output_type": "stream",
     "text": [
      "AI\n",
      "Web 3\n",
      "Quit\n"
     ]
    }
   ],
   "source": [
    "prompt: str = \"Enter Value: \";\n",
    "\n",
    "message: str = \"\";\n",
    "\n",
    "while message != \"Quit\":\n",
    "\n",
    "    message = input(prompt);\n",
    "\n",
    "    print(message);"
   ]
  },
  {
   "cell_type": "code",
   "execution_count": 36,
   "metadata": {},
   "outputs": [
    {
     "name": "stdout",
     "output_type": "stream",
     "text": [
      "Iphone\n",
      "MacBook\n"
     ]
    }
   ],
   "source": [
    "prompt: str = \"Enter Value:\";\n",
    "\n",
    "active = True;\n",
    "\n",
    "while active:\n",
    "\n",
    "    message = input(prompt);\n",
    "\n",
    "    if message == \"Quit\":\n",
    "\n",
    "        active = False;\n",
    "    \n",
    "    else:\n",
    "\n",
    "        print(message);"
   ]
  },
  {
   "cell_type": "code",
   "execution_count": 41,
   "metadata": {},
   "outputs": [
    {
     "name": "stdout",
     "output_type": "stream",
     "text": [
      "3\n",
      "2\n",
      "1\n"
     ]
    }
   ],
   "source": [
    "data: list[int] = [1,2,3];\n",
    "\n",
    "while data:\n",
    "\n",
    "    n : int = data.pop();\n",
    "\n",
    "    print(n);"
   ]
  },
  {
   "cell_type": "code",
   "execution_count": 45,
   "metadata": {},
   "outputs": [
    {
     "name": "stdout",
     "output_type": "stream",
     "text": [
      "['Dog', 'Cat', 'Sparrow', 'Goldfish', 'Cat', 'Rabbit', 'Cat']\n",
      "['Dog', 'Sparrow', 'Goldfish', 'Rabbit']\n"
     ]
    }
   ],
   "source": [
    "pets: list[str] = [\"Dog\", \"Cat\", \"Sparrow\", \"Goldfish\", \"Cat\", \"Rabbit\", \"Cat\"];\n",
    "\n",
    "print(pets);\n",
    "\n",
    "while \"Cat\" in pets:\n",
    "\n",
    "    pets.remove(\"Cat\");\n",
    "\n",
    "print(pets);"
   ]
  },
  {
   "cell_type": "code",
   "execution_count": 47,
   "metadata": {},
   "outputs": [
    {
     "name": "stdout",
     "output_type": "stream",
     "text": [
      "Verifying user: USMAN\n",
      "Verifying user: YASEEN\n",
      "Verifying user: BILAL\n",
      "\n",
      "The Following Users Have Been Confirmed:\n",
      "Usman\n",
      "Yaseen\n",
      "Bilal\n"
     ]
    }
   ],
   "source": [
    "unConfirmedUsers: list[str] = [\"Bilal\", \"Yaseen\", \"Usman\"];\n",
    "\n",
    "confirmedUsers: list[str] = [];\n",
    "\n",
    "while unConfirmedUsers:\n",
    "\n",
    "    currentUser = unConfirmedUsers.pop();\n",
    "\n",
    "    print(f\"Verifying user: {currentUser.upper()}\");\n",
    "\n",
    "    confirmedUsers.append(currentUser);\n",
    "\n",
    "print(\"\\nThe Following Users Have Been Confirmed:\");\n",
    "\n",
    "for confirmedUser in confirmedUsers:\n",
    "\n",
    "    print(confirmedUser);"
   ]
  }
 ],
 "metadata": {
  "kernelspec": {
   "display_name": "base",
   "language": "python",
   "name": "python3"
  },
  "language_info": {
   "codemirror_mode": {
    "name": "ipython",
    "version": 3
   },
   "file_extension": ".py",
   "mimetype": "text/x-python",
   "name": "python",
   "nbconvert_exporter": "python",
   "pygments_lexer": "ipython3",
   "version": "3.12.0"
  }
 },
 "nbformat": 4,
 "nbformat_minor": 2
}
