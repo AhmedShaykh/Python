{
 "cells": [
  {
   "cell_type": "markdown",
   "metadata": {},
   "source": [
    "# **For LOOP Apply In All Types**"
   ]
  },
  {
   "cell_type": "code",
   "execution_count": 16,
   "metadata": {},
   "outputs": [
    {
     "name": "stdout",
     "output_type": "stream",
     "text": [
      "1\n",
      "2\n",
      "3\n",
      "4\n",
      "5\n",
      "6\n"
     ]
    }
   ],
   "source": [
    "from typing import List;\n",
    "\n",
    "li : List[int] = [1,2,3,4,5,6];\n",
    "\n",
    "for n in li:\n",
    "\n",
    "    print(n);"
   ]
  },
  {
   "cell_type": "code",
   "execution_count": 17,
   "metadata": {},
   "outputs": [
    {
     "name": "stdout",
     "output_type": "stream",
     "text": [
      "Current Number 1\n",
      "Current Number 2\n",
      "Current Number 3\n",
      "Current Number 4\n",
      "Current Number 5\n",
      "Current Number 6\n"
     ]
    }
   ],
   "source": [
    "from typing import Tuple;\n",
    "\n",
    "li : Tuple[int] = (1,2,3,4,5,6);\n",
    "\n",
    "for n in li:\n",
    "\n",
    "    print(f\"Current Number {n}\");"
   ]
  },
  {
   "cell_type": "code",
   "execution_count": 18,
   "metadata": {},
   "outputs": [
    {
     "name": "stdout",
     "output_type": "stream",
     "text": [
      "Set Item 1\n",
      "Set Item 2\n",
      "Set Item 3\n",
      "Set Item 4\n",
      "Set Item 5\n",
      "Set Item 7\n"
     ]
    }
   ],
   "source": [
    "from typing import Set;\n",
    "\n",
    "li : Set[int] = {1,1,2,3,4,2,5,7};\n",
    "\n",
    "for key in li:\n",
    "\n",
    "    print(f\"Set Item {key}\");"
   ]
  },
  {
   "cell_type": "code",
   "execution_count": 19,
   "metadata": {},
   "outputs": [
    {
     "name": "stdout",
     "output_type": "stream",
     "text": [
      "Current Character P\n",
      "Current Character a\n",
      "Current Character k\n",
      "Current Character i\n",
      "Current Character s\n",
      "Current Character t\n",
      "Current Character a\n",
      "Current Character n\n"
     ]
    }
   ],
   "source": [
    "li : str = \"Pakistan\";\n",
    "\n",
    "for n in li:\n",
    "\n",
    "    print(f\"Current Character {n}\");"
   ]
  },
  {
   "cell_type": "code",
   "execution_count": 20,
   "metadata": {},
   "outputs": [
    {
     "name": "stdout",
     "output_type": "stream",
     "text": [
      "My Name Is Ahmed\n"
     ]
    }
   ],
   "source": [
    "from typing import Dict;\n",
    "\n",
    "li : Dict[str, str] = { \"Name\": \"Ahmed\" };\n",
    "\n",
    "for key in li:\n",
    "\n",
    "    print(f\"My {key} Is {li[key]}\");"
   ]
  },
  {
   "cell_type": "code",
   "execution_count": 21,
   "metadata": {},
   "outputs": [
    {
     "name": "stdout",
     "output_type": "stream",
     "text": [
      "Value From List Of Set: 1\n",
      "Value From List Of Set: 2\n",
      "Value From List Of Set: 3\n",
      "Value From List Of Set: 4\n",
      "Value From List Of Set: 5\n",
      "Value From List Of Set: 7\n"
     ]
    }
   ],
   "source": [
    "from typing import List, Set;\n",
    "\n",
    "li : List[Set[int]] = list({1,1,2,3,4,2,5,7});\n",
    "\n",
    "for n in li:\n",
    "\n",
    "    print(f\"Value From List Of Set: {n}\");"
   ]
  },
  {
   "cell_type": "code",
   "execution_count": 6,
   "metadata": {},
   "outputs": [
    {
     "name": "stdout",
     "output_type": "stream",
     "text": [
      "<zip object at 0x0000024B1B324580>\n",
      "[('a', 'x', 1), ('b', 'y', 2), ('c', 'z', 3)]\n"
     ]
    }
   ],
   "source": [
    "data : list[str] = [\"a\",\"b\",\"c\"];\n",
    "\n",
    "data2 : list[str] = [\"x\",\"y\",\"z\"];\n",
    "\n",
    "data3 : list[int] = [1,2,3];\n",
    "\n",
    "print(zip(data, data2, data3));\n",
    "\n",
    "print(list(zip(data, data2, data3)));"
   ]
  },
  {
   "cell_type": "code",
   "execution_count": 7,
   "metadata": {},
   "outputs": [
    {
     "name": "stdout",
     "output_type": "stream",
     "text": [
      "a x 1\n",
      "b y 2\n",
      "c z 3\n"
     ]
    }
   ],
   "source": [
    "for val, val2, val3 in zip(data, data2, data3):\n",
    "\n",
    "    print(f\"{val} {val2} {val3}\");"
   ]
  },
  {
   "cell_type": "markdown",
   "metadata": {},
   "source": [
    "# **While LOOP**"
   ]
  },
  {
   "cell_type": "code",
   "execution_count": 12,
   "metadata": {},
   "outputs": [
    {
     "name": "stdout",
     "output_type": "stream",
     "text": [
      "No. 0\n",
      "No. 1\n",
      "No. 2\n",
      "No. 3\n",
      "No. 4\n",
      "No. 5\n",
      "No. 6\n",
      "No. 7\n",
      "No. 8\n",
      "No. 9\n"
     ]
    }
   ],
   "source": [
    "flag : bool = True;\n",
    "\n",
    "number : int = 0;\n",
    "\n",
    "while flag:\n",
    "\n",
    "    print(f\"No. {number}\");\n",
    "\n",
    "    number += 1;\n",
    "\n",
    "    if number == 10:\n",
    "\n",
    "        break;"
   ]
  },
  {
   "cell_type": "code",
   "execution_count": 13,
   "metadata": {},
   "outputs": [
    {
     "name": "stdout",
     "output_type": "stream",
     "text": [
      "Current Index Is :0 & List Value Is 100\n",
      "Current Index Is :1 & List Value Is 200\n",
      "Current Index Is :2 & List Value Is 300\n"
     ]
    }
   ],
   "source": [
    "li: list[int] = [100,200,300];\n",
    "\n",
    "index : int = 0;\n",
    "\n",
    "while index < len(li):\n",
    "\n",
    "    print(f\"Current Index Is :{index} & List Value Is {li[index]}\");\n",
    "\n",
    "    index += 1;"
   ]
  },
  {
   "cell_type": "markdown",
   "metadata": {},
   "source": [
    "# **Input**"
   ]
  },
  {
   "cell_type": "code",
   "execution_count": 22,
   "metadata": {},
   "outputs": [
    {
     "name": "stdout",
     "output_type": "stream",
     "text": [
      "<class 'str'>\n",
      "My Name Is Ahmed!\n"
     ]
    }
   ],
   "source": [
    "name : str = input(\"What Is Your Name?: \");\n",
    "\n",
    "print(type(name));\n",
    "\n",
    "print(f\"My Name Is {name}!\");"
   ]
  }
 ],
 "metadata": {
  "kernelspec": {
   "display_name": "base",
   "language": "python",
   "name": "python3"
  },
  "language_info": {
   "codemirror_mode": {
    "name": "ipython",
    "version": 3
   },
   "file_extension": ".py",
   "mimetype": "text/x-python",
   "name": "python",
   "nbconvert_exporter": "python",
   "pygments_lexer": "ipython3",
   "version": "3.11.5"
  }
 },
 "nbformat": 4,
 "nbformat_minor": 2
}
