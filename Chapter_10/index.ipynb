{
  "cells": [
    {
      "cell_type": "markdown",
      "metadata": {
        "id": "bzcNHu0G7e-w"
      },
      "source": [
        "# **OOP (Object Oriented Programming)**"
      ]
    },
    {
      "cell_type": "code",
      "execution_count": 1,
      "metadata": {
        "colab": {
          "base_uri": "https://localhost:8080/"
        },
        "id": "Nb3W9fyD7e-z",
        "outputId": "07d28dff-bbf5-4579-bb44-959c28f943ce"
      },
      "outputs": [
        {
          "output_type": "stream",
          "name": "stdout",
          "text": [
            "Name: Sir Zia Khan, ID: 1 & Organiztion: PIAIC \n",
            "\n",
            "Name: Sir Qasim, ID: 2 & Organiztion: PIAIC\n"
          ]
        }
      ],
      "source": [
        "class Teacher:\n",
        "\n",
        "    def __init__(self, teacherId : int, teacherName : str) -> None: # Method / Constructor (__Init__)\n",
        "\n",
        "        self.name : str = teacherName; # Attribute\n",
        "\n",
        "        self.teacherId : int  = teacherId;\n",
        "\n",
        "        self.organizationName: str = \"PIAIC\";\n",
        "\n",
        "    def quarter(self, quarter : int ) -> None: # Method\n",
        "\n",
        "        print(f\"This Is Quarter {quarter}\");\n",
        "\n",
        "    def teaching(self, subject : str ) -> None:\n",
        "\n",
        "        print(f\"{self.name} Is Teaching {subject}...!\");\n",
        "\n",
        "obj1 : Teacher = Teacher(1, \"Sir Zia Khan\");\n",
        "\n",
        "obj2 : Teacher = Teacher(2, \"Sir Qasim\");\n",
        "\n",
        "print(f\"Name: {obj1.name}, ID: {obj1.teacherId} & Organiztion: {obj1.organizationName} \\n\");\n",
        "\n",
        "print(f\"Name: {obj2.name}, ID: {obj2.teacherId} & Organiztion: {obj2.organizationName}\");"
      ]
    },
    {
      "cell_type": "code",
      "execution_count": 2,
      "metadata": {
        "colab": {
          "base_uri": "https://localhost:8080/"
        },
        "id": "emnj2B_z7e-3",
        "outputId": "dbff6760-7686-428d-9fd3-60698c04d8ae"
      },
      "outputs": [
        {
          "output_type": "stream",
          "name": "stdout",
          "text": [
            "Sir Zia Khan Is Teaching BlockChain...!\n",
            "Sir Qasim Is Teaching Generative AI...!\n"
          ]
        }
      ],
      "source": [
        "obj1.teaching(\"BlockChain\")\n",
        "\n",
        "obj2.teaching(\"Generative AI\")"
      ]
    },
    {
      "cell_type": "code",
      "execution_count": 3,
      "metadata": {
        "colab": {
          "base_uri": "https://localhost:8080/"
        },
        "id": "QwVtXaDB7e-4",
        "outputId": "7b7a9cdd-d1e6-437d-b2cc-37b9a85170d2"
      },
      "outputs": [
        {
          "output_type": "execute_result",
          "data": {
            "text/plain": [
              "['__class__',\n",
              " '__delattr__',\n",
              " '__dict__',\n",
              " '__dir__',\n",
              " '__doc__',\n",
              " '__eq__',\n",
              " '__format__',\n",
              " '__ge__',\n",
              " '__getattribute__',\n",
              " '__getstate__',\n",
              " '__gt__',\n",
              " '__hash__',\n",
              " '__init__',\n",
              " '__init_subclass__',\n",
              " '__le__',\n",
              " '__lt__',\n",
              " '__module__',\n",
              " '__ne__',\n",
              " '__new__',\n",
              " '__reduce__',\n",
              " '__reduce_ex__',\n",
              " '__repr__',\n",
              " '__setattr__',\n",
              " '__sizeof__',\n",
              " '__str__',\n",
              " '__subclasshook__',\n",
              " '__weakref__',\n",
              " 'name',\n",
              " 'organizationName',\n",
              " 'quarter',\n",
              " 'teacherId',\n",
              " 'teaching']"
            ]
          },
          "metadata": {},
          "execution_count": 3
        }
      ],
      "source": [
        "dir(obj1)"
      ]
    },
    {
      "cell_type": "code",
      "execution_count": 4,
      "metadata": {
        "colab": {
          "base_uri": "https://localhost:8080/"
        },
        "id": "KGqan3Nz7e-5",
        "outputId": "55e80c88-7343-4f92-85ec-575200fd86f5"
      },
      "outputs": [
        {
          "output_type": "stream",
          "name": "stdout",
          "text": [
            "Name: Sir Zia Khan, ID: 1 & Organiztion: PIAIC \n",
            "\n",
            "Name: Sir Qasim, ID: 2 & Organiztion: PIAIC \n",
            "\n",
            "Sir Zia Khan Is Teaching BlockChain...!\n",
            "Sir Qasim Is Teaching Generative AI...!\n"
          ]
        }
      ],
      "source": [
        "class Teacher:\n",
        "\n",
        "    def __init__(this, teacherId : int, teacherName : str) -> None:\n",
        "\n",
        "        this.name : str = teacherName;\n",
        "\n",
        "        this.teacherId : int  = teacherId;\n",
        "\n",
        "        this.organizationName: str = \"PIAIC\";\n",
        "\n",
        "    def quarter(this, quarter : int ) -> None:\n",
        "\n",
        "        print(f\"This Is Quarter {quarter}\");\n",
        "\n",
        "    def teaching(this, subject : str ) -> None:\n",
        "\n",
        "        print(f\"{this.name} Is Teaching {subject}...!\");\n",
        "\n",
        "obj1 : Teacher = Teacher(1, \"Sir Zia Khan\");\n",
        "\n",
        "obj2 : Teacher = Teacher(2, \"Sir Qasim\");\n",
        "\n",
        "print(f\"Name: {obj1.name}, ID: {obj1.teacherId} & Organiztion: {obj1.organizationName} \\n\");\n",
        "\n",
        "print(f\"Name: {obj2.name}, ID: {obj2.teacherId} & Organiztion: {obj2.organizationName} \\n\");\n",
        "\n",
        "obj1.teaching(\"BlockChain\")\n",
        "\n",
        "obj2.teaching(\"Generative AI\")"
      ]
    },
    {
      "cell_type": "code",
      "execution_count": 5,
      "metadata": {
        "id": "1tPyvdfi7e-7"
      },
      "outputs": [],
      "source": [
        "class Teacher:\n",
        "\n",
        "    counter : int = 0; # Variable\n",
        "\n",
        "    classTiming : str = \"8 PM\";\n",
        "\n",
        "    def __init__(self, teacherId : int, teacherName : str) -> None:\n",
        "\n",
        "        self.name : str = teacherName;\n",
        "\n",
        "        self.teacherId : int  = teacherId;\n",
        "\n",
        "        self.organizationName: str = \"PIAIC\";\n",
        "\n",
        "        Teacher.counter += 1;\n",
        "\n",
        "    def quarter(self, quarter : int ) -> None:\n",
        "\n",
        "        print(f\"This Is Quarter {quarter}\");\n",
        "\n",
        "    def teaching(self, subject : str ) -> None:\n",
        "\n",
        "        print(f\"{self.name} Is Teaching {subject}...!\");\n",
        "\n",
        "    def details(self) -> None:\n",
        "\n",
        "        information : str = f\"\"\"\n",
        "        Teacher Name Is {self.name}\n",
        "        Class Timing is {Teacher.classTiming}\n",
        "        \"\"\";\n",
        "\n",
        "        print(information);"
      ]
    },
    {
      "cell_type": "code",
      "execution_count": 6,
      "metadata": {
        "colab": {
          "base_uri": "https://localhost:8080/"
        },
        "id": "brthstK57e-8",
        "outputId": "d6a5cba4-112d-4c08-a7a5-2f850fb8e447"
      },
      "outputs": [
        {
          "output_type": "stream",
          "name": "stdout",
          "text": [
            "0\n",
            "1\n",
            "1\n",
            "2\n",
            "2\n",
            "2\n"
          ]
        }
      ],
      "source": [
        "print(Teacher.counter);\n",
        "\n",
        "obj1 : Teacher = Teacher(1, \"Sir Zia Khan\"); # Create New Object Then Increase The Value Of Counter\n",
        "\n",
        "print(obj1.counter); # And Also Run The Object Increase The Value Of Counter\n",
        "\n",
        "print(Teacher.counter);\n",
        "\n",
        "obj2 : Teacher = Teacher(2, \"Sir Qasim\");\n",
        "\n",
        "print(obj1.counter);\n",
        "\n",
        "print(obj2.counter);\n",
        "\n",
        "print(Teacher.counter);"
      ]
    },
    {
      "cell_type": "code",
      "execution_count": 7,
      "metadata": {
        "colab": {
          "base_uri": "https://localhost:8080/"
        },
        "id": "Jsnhwdei7e--",
        "outputId": "94569c3d-625e-4883-d7bc-60e0a4434058"
      },
      "outputs": [
        {
          "output_type": "stream",
          "name": "stdout",
          "text": [
            "\n",
            "        Teacher Name Is Sir Zia Khan\n",
            "        Class Timing is 8 PM\n",
            "        \n"
          ]
        }
      ],
      "source": [
        "obj1.details();"
      ]
    },
    {
      "cell_type": "code",
      "execution_count": 8,
      "metadata": {
        "colab": {
          "base_uri": "https://localhost:8080/"
        },
        "id": "xdqzkKaz7e-_",
        "outputId": "2e90763f-e1f2-4660-86d0-d01aec22cc35"
      },
      "outputs": [
        {
          "output_type": "stream",
          "name": "stdout",
          "text": [
            "139199179749328\n"
          ]
        }
      ],
      "source": [
        "print(id(obj2));"
      ]
    },
    {
      "cell_type": "markdown",
      "metadata": {
        "id": "fM9pHFpZ7e-_"
      },
      "source": [
        "# **1. Inheritance**"
      ]
    },
    {
      "cell_type": "code",
      "execution_count": 9,
      "metadata": {
        "colab": {
          "base_uri": "https://localhost:8080/"
        },
        "id": "KeSULBn37e_A",
        "outputId": "12197b1e-ce50-4256-b523-028649bd250d"
      },
      "outputs": [
        {
          "output_type": "stream",
          "name": "stdout",
          "text": [
            "Brown\n",
            "Black\n",
            "Parent Method Speak: Pakistan Zindabad\n",
            "You Are Looking TV \n",
            "\n",
            "Parent Method Speak: Free Palestine\n",
            "You Are Looking Youtube\n",
            "Brown\n",
            "Black\n"
          ]
        }
      ],
      "source": [
        "class Parents():\n",
        "\n",
        "    def __init__(self) -> None:\n",
        "\n",
        "        self.eyeColor : str = \"Brown\";\n",
        "\n",
        "        self.hairColor : str = \"Black\";\n",
        "\n",
        "    def speak(self, words: str) -> None:\n",
        "\n",
        "        print(f\"Parent Method Speak: {words}\");\n",
        "\n",
        "    def watching(sef, objectName : str) -> None:\n",
        "\n",
        "        print(f\"You Are Looking {objectName}\");\n",
        "\n",
        "class Child(Parents):\n",
        "\n",
        "    pass;\n",
        "\n",
        "obj1 : Parents = Parents();\n",
        "\n",
        "print(obj1.eyeColor);\n",
        "\n",
        "print(obj1.hairColor);\n",
        "\n",
        "obj1.speak(\"Pakistan Zindabad\");\n",
        "\n",
        "obj1.watching(\"TV \\n\");\n",
        "\n",
        "obj2 : Child = Child();\n",
        "\n",
        "obj2.speak(\"Free Palestine\");\n",
        "\n",
        "obj2.watching(\"Youtube\");\n",
        "\n",
        "print(obj2.eyeColor);\n",
        "\n",
        "print(obj2.hairColor);"
      ]
    },
    {
      "cell_type": "code",
      "execution_count": 10,
      "metadata": {
        "colab": {
          "base_uri": "https://localhost:8080/"
        },
        "id": "wDPAYWnq7e_B",
        "outputId": "0915d587-b910-41f5-ff51-5b96aaa20a36"
      },
      "outputs": [
        {
          "output_type": "stream",
          "name": "stdout",
          "text": [
            "Brown\n",
            "Black\n",
            "Parent Method Speak: Pakistan Zindabad\n",
            "You Are Looking TV \n",
            "\n",
            "Parent Method Speak: Free Palestine\n",
            "You Are Looking Youtube\n",
            "Brown\n",
            "Black\n",
            "I Love EDM\n"
          ]
        }
      ],
      "source": [
        "class Parents():\n",
        "\n",
        "    def __init__(self) -> None:\n",
        "\n",
        "        self.eyeColor : str = \"Brown\";\n",
        "\n",
        "        self.hairColor : str = \"Black\";\n",
        "\n",
        "    def speak(self, words: str) -> None:\n",
        "\n",
        "        print(f\"Parent Method Speak: {words}\");\n",
        "\n",
        "    def watching(sef, objectName : str) -> None:\n",
        "\n",
        "        print(f\"You Are Looking {objectName}\");\n",
        "\n",
        "class Child(Parents):\n",
        "\n",
        "    def music(self, genre : str) -> None:\n",
        "\n",
        "        print(f\"I Love {genre}\");\n",
        "\n",
        "obj1 : Parents = Parents();\n",
        "\n",
        "print(obj1.eyeColor);\n",
        "\n",
        "print(obj1.hairColor);\n",
        "\n",
        "obj1.speak(\"Pakistan Zindabad\");\n",
        "\n",
        "obj1.watching(\"TV \\n\");\n",
        "\n",
        "obj2 : Child = Child();\n",
        "\n",
        "obj2.speak(\"Free Palestine\");\n",
        "\n",
        "obj2.watching(\"Youtube\");\n",
        "\n",
        "print(obj2.eyeColor);\n",
        "\n",
        "print(obj2.hairColor);\n",
        "\n",
        "obj2.music(\"EDM\");"
      ]
    },
    {
      "cell_type": "code",
      "execution_count": 11,
      "metadata": {
        "colab": {
          "base_uri": "https://localhost:8080/"
        },
        "id": "9MBNAJwA7e_C",
        "outputId": "41f1a839-5c3f-48bf-bea5-0d8b21b61812"
      },
      "outputs": [
        {
          "output_type": "stream",
          "name": "stdout",
          "text": [
            "Ahsan\n",
            "Animation Artist\n",
            "Gen AI Engineer\n",
            "['JavaScript', 'TypeScript', 'Python']\n"
          ]
        }
      ],
      "source": [
        "from typing import List;\n",
        "\n",
        "class Employee():\n",
        "\n",
        "    def __init__(self, name : str) -> None:\n",
        "\n",
        "        self.name : str = name;\n",
        "\n",
        "class Designer(Employee):\n",
        "\n",
        "    def __init__(self, title : str, name: str) -> None:\n",
        "\n",
        "        super().__init__(name);\n",
        "\n",
        "        self.title : str = title;\n",
        "\n",
        "class Developer(Employee):\n",
        "\n",
        "    def __init__(self, title : str, name: str) -> None:\n",
        "\n",
        "        super().__init__(name);\n",
        "\n",
        "        self.title: str = title;\n",
        "\n",
        "        self.programming_skills : List[str] = [\"JavaScript\", \"TypeScript\", \"Python\"];\n",
        "\n",
        "design: Designer = Designer(\"Animation Artist\", \"Ahsan\");\n",
        "\n",
        "dev: Developer = Developer(\"Gen AI Engineer\", \"Ahmed\");\n",
        "\n",
        "print(design.name);\n",
        "\n",
        "print(design.title);\n",
        "\n",
        "print(dev.title);\n",
        "\n",
        "print(dev.programming_skills);"
      ]
    },
    {
      "cell_type": "code",
      "execution_count": 12,
      "metadata": {
        "colab": {
          "base_uri": "https://localhost:8080/"
        },
        "id": "DSL1IwsG7e_C",
        "outputId": "3af4fd3e-a7ad-4aba-b658-8567e9ad8b6d"
      },
      "outputs": [
        {
          "output_type": "stream",
          "name": "stdout",
          "text": [
            "Imran Khan Height 7 Feet\n",
            "Imran Khan Eye Color Blue\n",
            "Imran Khan Speaking: Absolutely Not\n"
          ]
        }
      ],
      "source": [
        "class Mother:\n",
        "\n",
        "    def __init__(self, name: str) -> None:\n",
        "\n",
        "        self.name : str = name;\n",
        "\n",
        "        self.eyeColor : str = \"Blue\";\n",
        "\n",
        "class Father:\n",
        "\n",
        "    def __init__(self, name: str) -> None:\n",
        "\n",
        "        self.name : str = name;\n",
        "\n",
        "        self.height : str = \"7 Feet\";\n",
        "\n",
        "class Child(Mother, Father):\n",
        "\n",
        "    def __init__(self, motherName: str, fatherName: str , childName: str) -> None:\n",
        "\n",
        "        Mother.__init__(self, motherName);\n",
        "\n",
        "        Father.__init__(self, fatherName);\n",
        "\n",
        "        self.childName : str = childName;\n",
        "\n",
        "    def speaking(self, words: str) -> str:\n",
        "\n",
        "        return f\"Imran Khan Speaking: {words}\";\n",
        "\n",
        "imran : Child = Child(\"Shaukat Khanum\", \"Ikramullah Khan\",\"Imran Khan\");\n",
        "\n",
        "print(f\"Imran Khan Height {imran.height}\");\n",
        "\n",
        "print(f\"Imran Khan Eye Color {imran.eyeColor}\");\n",
        "\n",
        "print(imran.speaking(\"Absolutely Not\"));"
      ]
    },
    {
      "cell_type": "code",
      "execution_count": 13,
      "metadata": {
        "colab": {
          "base_uri": "https://localhost:8080/"
        },
        "id": "M7A-iuO57e_D",
        "outputId": "ad6618c4-b345-4e14-c85b-3ab0ccfc1b5a"
      },
      "outputs": [
        {
          "output_type": "stream",
          "name": "stdout",
          "text": [
            "['childName', 'eyeColor', 'height', 'name', 'speaking']\n"
          ]
        }
      ],
      "source": [
        "print([i for i in dir(imran) if \"__\" not in i]);"
      ]
    },
    {
      "cell_type": "markdown",
      "metadata": {
        "id": "UgCjaZZq7e_E"
      },
      "source": [
        "# **Overloading**"
      ]
    },
    {
      "cell_type": "code",
      "execution_count": 14,
      "metadata": {
        "colab": {
          "base_uri": "https://localhost:8080/"
        },
        "id": "1kbUCKRr7e_F",
        "outputId": "8a6997c1-ba3e-44d4-e19f-ead30e23d6f6"
      },
      "outputs": [
        {
          "output_type": "stream",
          "name": "stdout",
          "text": [
            "3\n",
            "5.0\n",
            "Hello World!\n"
          ]
        }
      ],
      "source": [
        "from typing import Union, overload;\n",
        "\n",
        "@overload\n",
        "def add(self, x: int, y: int) -> int:\n",
        "    ...\n",
        "\n",
        "@overload\n",
        "def add(self, x: float, y: float) -> float:\n",
        "    ...\n",
        "\n",
        "@overload\n",
        "def add(self, x: str, y: str) -> str:\n",
        "    ...\n",
        "\n",
        "def add(x: Union[int, float, str], y: Union[int, float, str]) -> Union[int, float, str]:\n",
        "    if isinstance(x, int) and isinstance(y, int):\n",
        "        return x + y;\n",
        "    elif isinstance(x, float) and isinstance(y, float):\n",
        "        return x + y;\n",
        "    elif isinstance(x, str) and isinstance(y, str):\n",
        "        return x + y;\n",
        "    else:\n",
        "        raise TypeError(\"Invalid Argument Types!\");\n",
        "\n",
        "result1 = add(1, 2);\n",
        "\n",
        "result2 = add(2.5, 2.5);\n",
        "\n",
        "result3 = add(\"Hello\", \" World!\");\n",
        "\n",
        "print(result1);\n",
        "\n",
        "print(result2);\n",
        "\n",
        "print(result3);"
      ]
    },
    {
      "cell_type": "code",
      "execution_count": 15,
      "metadata": {
        "colab": {
          "base_uri": "https://localhost:8080/"
        },
        "id": "utr748C17e_I",
        "outputId": "875952b1-0eec-4af3-fac5-a4db65d703ab"
      },
      "outputs": [
        {
          "output_type": "stream",
          "name": "stdout",
          "text": [
            "4\n",
            "4\n",
            "Free Palestine!\n"
          ]
        }
      ],
      "source": [
        "from typing import Union, overload;\n",
        "\n",
        "class Adder:\n",
        "\n",
        "    @overload\n",
        "    def add(self, x: int, y: int) -> int:\n",
        "        ...\n",
        "\n",
        "    @overload\n",
        "    def add(self, x: float, y: float) -> float:\n",
        "        ...\n",
        "\n",
        "    @overload\n",
        "    def add(self, x: str, y: str) -> str:\n",
        "        ...\n",
        "\n",
        "    def add(self, x: Union[int, float, str], y: Union[int, float, str]) -> Union[int, float, str]:\n",
        "        if isinstance(x, int) and isinstance(y, int):\n",
        "            return x + y;\n",
        "        elif isinstance(x, float) and isinstance(y, float):\n",
        "            return x + y;\n",
        "        elif isinstance(x, str) and isinstance(y, str):\n",
        "            return x + y;\n",
        "        else:\n",
        "            raise TypeError(\"Invalid Argument Types!\");\n",
        "\n",
        "adder: Adder = Adder();\n",
        "\n",
        "result1 = adder.add(2, 2);\n",
        "\n",
        "result2 = adder.add(2, 2);\n",
        "\n",
        "result3 = adder.add(\"Free\", \" Palestine!\");\n",
        "\n",
        "print(result1);\n",
        "\n",
        "print(result2);\n",
        "\n",
        "print(result3);"
      ]
    },
    {
      "cell_type": "markdown",
      "metadata": {
        "id": "KbYqlh8A7e_J"
      },
      "source": [
        "# **2. Polymorphism**"
      ]
    },
    {
      "cell_type": "code",
      "execution_count": 16,
      "metadata": {
        "colab": {
          "base_uri": "https://localhost:8080/"
        },
        "id": "VeI3cY4K7e_J",
        "outputId": "0256dd28-06f1-4ba9-aa87-f87c2a2cfc61"
      },
      "outputs": [
        {
          "output_type": "stream",
          "name": "stdout",
          "text": [
            "Bird Is Eating Bread\n",
            "Animal Is Eating Grain\n",
            "<class '__main__.Animal'>\n"
          ]
        }
      ],
      "source": [
        "class Animal():\n",
        "\n",
        "    def eating(self, food: str ) -> None:\n",
        "\n",
        "        print(f\"Animal Is Eating {food}\");\n",
        "\n",
        "class Bird(Animal):\n",
        "\n",
        "    def eating(self, food: str) -> None:\n",
        "\n",
        "        print(f\"Bird Is Eating {food}\"); # OverWrite\n",
        "\n",
        "bird : Bird = Bird();\n",
        "\n",
        "bird.eating(\"Bread\");\n",
        "\n",
        "animal : Animal = Animal();\n",
        "\n",
        "animal.eating(\"Grain\");\n",
        "\n",
        "print(type(animal));"
      ]
    },
    {
      "cell_type": "code",
      "execution_count": 17,
      "metadata": {
        "colab": {
          "base_uri": "https://localhost:8080/"
        },
        "id": "0UOAUgkK7e_K",
        "outputId": "6c18ee74-bced-4d1f-bf20-583e3457a4f4"
      },
      "outputs": [
        {
          "output_type": "stream",
          "name": "stdout",
          "text": [
            "Bird Is Eating Seeds\n",
            "<class '__main__.Bird'>\n",
            "Animal Is Eating Seeds\n"
          ]
        }
      ],
      "source": [
        "animal2 : Animal = Bird(); # Object Will Decide Which Object Method It Will Be Run\n",
        "\n",
        "animal2.eating(\"Seeds\");\n",
        "\n",
        "print(type(animal2));\n",
        "\n",
        "bird2 : Bird = Animal(); # It's Called Polymorphism\n",
        "\n",
        "bird2.eating(\"Seeds\");"
      ]
    },
    {
      "cell_type": "code",
      "execution_count": 18,
      "metadata": {
        "colab": {
          "base_uri": "https://localhost:8080/"
        },
        "id": "_iypzHRv7e_K",
        "outputId": "05999949-ba0a-42a6-fb68-1f9a67b9041c"
      },
      "outputs": [
        {
          "output_type": "stream",
          "name": "stdout",
          "text": [
            "Imran Khan Height 7 Feet\n",
            "Imran Khan Eye Color Blue\n",
            "Imran Khan Mother Speaking: Pakistan Zindabad!\n"
          ]
        }
      ],
      "source": [
        "class Mother:\n",
        "\n",
        "    def __init__(self, name: str) -> None:\n",
        "\n",
        "        self.name : str = name;\n",
        "\n",
        "        self.eyeColor : str = \"Blue\";\n",
        "\n",
        "    def speaking(self, words: str) -> str:\n",
        "\n",
        "        return f\"Imran Khan Mother Speaking: {words}\";\n",
        "\n",
        "class Father:\n",
        "\n",
        "    def __init__(self, name: str) -> None:\n",
        "\n",
        "        self.name : str = name;\n",
        "\n",
        "        self.height : str = \"7 Feet\";\n",
        "\n",
        "    def speaking(self, words: str) -> str:\n",
        "\n",
        "        return f\"Imran Khan Father Speaking: {words}\";\n",
        "\n",
        "class Child(Mother, Father):\n",
        "\n",
        "    def __init__(self, motherName: str, fatherName: str ,childName: str) -> None:\n",
        "\n",
        "        Mother.__init__(self, motherName);\n",
        "\n",
        "        Father.__init__(self, fatherName);\n",
        "\n",
        "        self.childName : str = childName;\n",
        "\n",
        "imran : Child = Child(\"Shaukat Khanum\", \"Ikramullah Khan\",\"Imran Khan\");\n",
        "\n",
        "print(f\"Imran Khan Height {imran.height}\");\n",
        "\n",
        "print(f\"Imran Khan Eye Color {imran.eyeColor}\");\n",
        "\n",
        "print(imran.speaking(\"Pakistan Zindabad!\"));"
      ]
    },
    {
      "cell_type": "code",
      "execution_count": 19,
      "metadata": {
        "colab": {
          "base_uri": "https://localhost:8080/"
        },
        "id": "1zlNVOjh7e_M",
        "outputId": "2e6a382d-dd6d-405c-8c56-1230919a95af"
      },
      "outputs": [
        {
          "output_type": "stream",
          "name": "stdout",
          "text": [
            "Imran Khan Height 7 Feet\n",
            "Imran Khan Eye Color Blue\n",
            "Imran Khan Father Speaking: Pakistan Zindabad!\n"
          ]
        }
      ],
      "source": [
        "class Mother:\n",
        "\n",
        "    def __init__(self, name: str) -> None:\n",
        "\n",
        "        self.name : str = name;\n",
        "\n",
        "        self.eyeColor : str = \"Blue\";\n",
        "\n",
        "    def speaking(self, words: str) -> str:\n",
        "\n",
        "        return f\"Imran Khan Mother Speaking: {words}\";\n",
        "\n",
        "class Father:\n",
        "\n",
        "    def __init__(self, name: str) -> None:\n",
        "\n",
        "        self.name : str = name;\n",
        "\n",
        "        self.height : str = \"7 Feet\";\n",
        "\n",
        "    def speaking(self, words: str) -> str:\n",
        "\n",
        "        return f\"Imran Khan Father Speaking: {words}\";\n",
        "\n",
        "class Child(Father, Mother):\n",
        "\n",
        "    def __init__(self, motherName: str, fatherName: str ,childName: str) -> None:\n",
        "\n",
        "        Mother.__init__(self, motherName);\n",
        "\n",
        "        Father.__init__(self, fatherName);\n",
        "\n",
        "        self.childName : str = childName;\n",
        "\n",
        "imran : Child = Child(\"Shaukat Khanum\", \"Ikramullah Khan\",\"Imran Khan\");\n",
        "\n",
        "print(f\"Imran Khan Height {imran.height}\");\n",
        "\n",
        "print(f\"Imran Khan Eye Color {imran.eyeColor}\");\n",
        "\n",
        "print(imran.speaking(\"Pakistan Zindabad!\"));"
      ]
    },
    {
      "cell_type": "markdown",
      "metadata": {
        "id": "5khyKmeE7e_M"
      },
      "source": [
        "# **Static Methods & Variables**"
      ]
    },
    {
      "cell_type": "code",
      "execution_count": 20,
      "metadata": {
        "colab": {
          "base_uri": "https://localhost:8080/"
        },
        "id": "IOf2MPU-7e_N",
        "outputId": "19b88549-bfe7-4724-fbeb-70c46b6ff44a"
      },
      "outputs": [
        {
          "output_type": "stream",
          "name": "stdout",
          "text": [
            "Addition: 30\n",
            "Multiplication: 200\n",
            "PIAIC\n"
          ]
        }
      ],
      "source": [
        "class MathOperations:\n",
        "\n",
        "    organization : str = \"PIAIC\";\n",
        "\n",
        "    @staticmethod\n",
        "    def add(x: int, y: int) -> int:\n",
        "\n",
        "        return x + y;\n",
        "\n",
        "    @staticmethod\n",
        "    def multiply(x: int, y: int) -> int:\n",
        "\n",
        "        return x * y;\n",
        "\n",
        "resultAdd = MathOperations.add(10, 20); # In Static Method & Variable Direct Access To Variable & Method With Class Name\n",
        "\n",
        "resultMultiply = MathOperations.multiply(10, 20); # No Need Create The Object\n",
        "\n",
        "print(\"Addition:\", resultAdd);\n",
        "\n",
        "print(\"Multiplication:\", resultMultiply);\n",
        "\n",
        "print(MathOperations.organization);"
      ]
    },
    {
      "cell_type": "markdown",
      "metadata": {
        "id": "LY1Xgm-n7e_N"
      },
      "source": [
        "# **Everything Is An Object**"
      ]
    },
    {
      "cell_type": "code",
      "execution_count": 21,
      "metadata": {
        "colab": {
          "base_uri": "https://localhost:8080/"
        },
        "id": "GGqmkcRM7e_O",
        "outputId": "17ae53e2-cf16-46f0-9e0e-79e57288de17"
      },
      "outputs": [
        {
          "output_type": "stream",
          "name": "stdout",
          "text": [
            "Ali Loves Biryani\n"
          ]
        }
      ],
      "source": [
        "class Ali():\n",
        "\n",
        "    def eating(self, food : str) -> None:\n",
        "\n",
        "        print(f\"Ali Loves {food}\");\n",
        "\n",
        "obj1 : Ali = Ali();\n",
        "\n",
        "obj1.eating(\"Biryani\");"
      ]
    },
    {
      "cell_type": "code",
      "execution_count": 22,
      "metadata": {
        "colab": {
          "base_uri": "https://localhost:8080/"
        },
        "id": "otHWMYPs7e_O",
        "outputId": "7c5231d2-b0f0-4319-e219-8f7bf8d48fd3"
      },
      "outputs": [
        {
          "output_type": "execute_result",
          "data": {
            "text/plain": [
              "['__class__',\n",
              " '__delattr__',\n",
              " '__dict__',\n",
              " '__dir__',\n",
              " '__doc__',\n",
              " '__eq__',\n",
              " '__format__',\n",
              " '__ge__',\n",
              " '__getattribute__',\n",
              " '__getstate__',\n",
              " '__gt__',\n",
              " '__hash__',\n",
              " '__init__',\n",
              " '__init_subclass__',\n",
              " '__le__',\n",
              " '__lt__',\n",
              " '__module__',\n",
              " '__ne__',\n",
              " '__new__',\n",
              " '__reduce__',\n",
              " '__reduce_ex__',\n",
              " '__repr__',\n",
              " '__setattr__',\n",
              " '__sizeof__',\n",
              " '__str__',\n",
              " '__subclasshook__',\n",
              " '__weakref__',\n",
              " 'eating']"
            ]
          },
          "metadata": {},
          "execution_count": 22
        }
      ],
      "source": [
        "dir(obj1)"
      ]
    },
    {
      "cell_type": "code",
      "execution_count": 23,
      "metadata": {
        "colab": {
          "base_uri": "https://localhost:8080/"
        },
        "id": "5wB-RL1k7e_P",
        "outputId": "2649266b-ed4a-40f6-82e0-238bbce7d822"
      },
      "outputs": [
        {
          "output_type": "execute_result",
          "data": {
            "text/plain": [
              "['__class__',\n",
              " '__delattr__',\n",
              " '__dir__',\n",
              " '__doc__',\n",
              " '__eq__',\n",
              " '__format__',\n",
              " '__ge__',\n",
              " '__getattribute__',\n",
              " '__getstate__',\n",
              " '__gt__',\n",
              " '__hash__',\n",
              " '__init__',\n",
              " '__init_subclass__',\n",
              " '__le__',\n",
              " '__lt__',\n",
              " '__ne__',\n",
              " '__new__',\n",
              " '__reduce__',\n",
              " '__reduce_ex__',\n",
              " '__repr__',\n",
              " '__setattr__',\n",
              " '__sizeof__',\n",
              " '__str__',\n",
              " '__subclasshook__']"
            ]
          },
          "metadata": {},
          "execution_count": 23
        }
      ],
      "source": [
        "dir(object) # Everything Is An Object In Python"
      ]
    },
    {
      "cell_type": "code",
      "execution_count": 24,
      "metadata": {
        "colab": {
          "base_uri": "https://localhost:8080/"
        },
        "id": "tfbOdGP67e_P",
        "outputId": "d27dc564-999b-4dab-a304-6c6f03140872"
      },
      "outputs": [
        {
          "output_type": "stream",
          "name": "stdout",
          "text": [
            "Ahmed Loves Tea\n"
          ]
        }
      ],
      "source": [
        "class Ahmed(object): # Default Object Parameter\n",
        "\n",
        "    def drinking(self, drink : str) -> None:\n",
        "\n",
        "        print(f\"Ahmed Loves {drink}\");\n",
        "\n",
        "obj2 : Ahmed = Ahmed();\n",
        "\n",
        "obj2.drinking(\"Tea\");"
      ]
    },
    {
      "cell_type": "code",
      "execution_count": 25,
      "metadata": {
        "colab": {
          "base_uri": "https://localhost:8080/"
        },
        "id": "7HoUJ3Fp7e_Q",
        "outputId": "0d3356c6-6335-4612-ae08-5207f64ba677"
      },
      "outputs": [
        {
          "output_type": "execute_result",
          "data": {
            "text/plain": [
              "['__class__',\n",
              " '__delattr__',\n",
              " '__dict__',\n",
              " '__dir__',\n",
              " '__doc__',\n",
              " '__eq__',\n",
              " '__format__',\n",
              " '__ge__',\n",
              " '__getattribute__',\n",
              " '__getstate__',\n",
              " '__gt__',\n",
              " '__hash__',\n",
              " '__init__',\n",
              " '__init_subclass__',\n",
              " '__le__',\n",
              " '__lt__',\n",
              " '__module__',\n",
              " '__ne__',\n",
              " '__new__',\n",
              " '__reduce__',\n",
              " '__reduce_ex__',\n",
              " '__repr__',\n",
              " '__setattr__',\n",
              " '__sizeof__',\n",
              " '__str__',\n",
              " '__subclasshook__',\n",
              " '__weakref__',\n",
              " 'drinking']"
            ]
          },
          "metadata": {},
          "execution_count": 25
        }
      ],
      "source": [
        "dir(obj2)"
      ]
    },
    {
      "cell_type": "markdown",
      "metadata": {
        "id": "13zdhF-h7e_Q"
      },
      "source": [
        "# **Callable**"
      ]
    },
    {
      "cell_type": "code",
      "execution_count": 26,
      "metadata": {
        "colab": {
          "base_uri": "https://localhost:8080/"
        },
        "id": "8uCRe74W7e_R",
        "outputId": "fd68386d-0292-4ef3-bbb5-2308f4eeae88"
      },
      "outputs": [
        {
          "output_type": "stream",
          "name": "stdout",
          "text": [
            "Martin Garrix\n"
          ]
        }
      ],
      "source": [
        "def greet():\n",
        "\n",
        "    print(\"Martin Garrix\");\n",
        "\n",
        "greet.__call__(); # Callable Method Is Built-In Method In Every Object"
      ]
    },
    {
      "cell_type": "code",
      "execution_count": 27,
      "metadata": {
        "colab": {
          "base_uri": "https://localhost:8080/"
        },
        "id": "TgpFlM1S7e_S",
        "outputId": "5f45e841-f5a3-49ab-af66-5c196fcafe53"
      },
      "outputs": [
        {
          "output_type": "execute_result",
          "data": {
            "text/plain": [
              "['__annotations__',\n",
              " '__builtins__',\n",
              " '__call__',\n",
              " '__class__',\n",
              " '__closure__',\n",
              " '__code__',\n",
              " '__defaults__',\n",
              " '__delattr__',\n",
              " '__dict__',\n",
              " '__dir__',\n",
              " '__doc__',\n",
              " '__eq__',\n",
              " '__format__',\n",
              " '__ge__',\n",
              " '__get__',\n",
              " '__getattribute__',\n",
              " '__getstate__',\n",
              " '__globals__',\n",
              " '__gt__',\n",
              " '__hash__',\n",
              " '__init__',\n",
              " '__init_subclass__',\n",
              " '__kwdefaults__',\n",
              " '__le__',\n",
              " '__lt__',\n",
              " '__module__',\n",
              " '__name__',\n",
              " '__ne__',\n",
              " '__new__',\n",
              " '__qualname__',\n",
              " '__reduce__',\n",
              " '__reduce_ex__',\n",
              " '__repr__',\n",
              " '__setattr__',\n",
              " '__sizeof__',\n",
              " '__str__',\n",
              " '__subclasshook__']"
            ]
          },
          "metadata": {},
          "execution_count": 27
        }
      ],
      "source": [
        "dir(greet) # Everything Is An Object In Python"
      ]
    },
    {
      "cell_type": "code",
      "execution_count": 28,
      "metadata": {
        "colab": {
          "base_uri": "https://localhost:8080/"
        },
        "id": "LFE8ioPr7e_S",
        "outputId": "0d5bb47e-ab15-4266-9afe-3341cf61fe5d"
      },
      "outputs": [
        {
          "output_type": "stream",
          "name": "stdout",
          "text": [
            "Showing The App Main Window...\n"
          ]
        }
      ],
      "source": [
        "class MainWindow:\n",
        "\n",
        "    def show(self):\n",
        "\n",
        "        print(\"Showing The App Main Window...\");\n",
        "\n",
        "    def __call__(self): # Default Function Or Method\n",
        "\n",
        "        self.show();\n",
        "\n",
        "window = MainWindow();\n",
        "\n",
        "window(); # Callable Is Built-In Method So I Not Give The Method Name But It Run"
      ]
    },
    {
      "cell_type": "code",
      "execution_count": 29,
      "metadata": {
        "colab": {
          "base_uri": "https://localhost:8080/"
        },
        "id": "hxVaOnmP7e_T",
        "outputId": "bfefe131-5c26-4a45-d2ee-7ddeae57c437"
      },
      "outputs": [
        {
          "output_type": "stream",
          "name": "stdout",
          "text": [
            "Human Is Eating Nihari!\n",
            "Human Is Eating Biryani\n",
            "<class 'type'>\n"
          ]
        }
      ],
      "source": [
        "class Human(object):\n",
        "\n",
        "    def eating(self, food : str) -> None:\n",
        "\n",
        "        print(f\"Human Is Eating {food}\");\n",
        "\n",
        "    def __call__(self) -> None: # Default Run\n",
        "\n",
        "        self.eating(\"Nihari!\");\n",
        "\n",
        "obj : Human = Human();\n",
        "\n",
        "obj(); # Nameless Method\n",
        "\n",
        "obj.eating(\"Biryani\");\n",
        "\n",
        "print(type(Human));"
      ]
    },
    {
      "cell_type": "code",
      "execution_count": 30,
      "metadata": {
        "colab": {
          "base_uri": "https://localhost:8080/"
        },
        "id": "Z-JIwqDk7e_T",
        "outputId": "a5d1b65b-6a94-4417-d9b0-2260d655649a"
      },
      "outputs": [
        {
          "output_type": "execute_result",
          "data": {
            "text/plain": [
              "['__abstractmethods__',\n",
              " '__annotations__',\n",
              " '__base__',\n",
              " '__bases__',\n",
              " '__basicsize__',\n",
              " '__call__',\n",
              " '__class__',\n",
              " '__delattr__',\n",
              " '__dict__',\n",
              " '__dictoffset__',\n",
              " '__dir__',\n",
              " '__doc__',\n",
              " '__eq__',\n",
              " '__flags__',\n",
              " '__format__',\n",
              " '__ge__',\n",
              " '__getattribute__',\n",
              " '__getstate__',\n",
              " '__gt__',\n",
              " '__hash__',\n",
              " '__init__',\n",
              " '__init_subclass__',\n",
              " '__instancecheck__',\n",
              " '__itemsize__',\n",
              " '__le__',\n",
              " '__lt__',\n",
              " '__module__',\n",
              " '__mro__',\n",
              " '__name__',\n",
              " '__ne__',\n",
              " '__new__',\n",
              " '__or__',\n",
              " '__prepare__',\n",
              " '__qualname__',\n",
              " '__reduce__',\n",
              " '__reduce_ex__',\n",
              " '__repr__',\n",
              " '__ror__',\n",
              " '__setattr__',\n",
              " '__sizeof__',\n",
              " '__str__',\n",
              " '__subclasscheck__',\n",
              " '__subclasses__',\n",
              " '__subclasshook__',\n",
              " '__text_signature__',\n",
              " '__weakrefoffset__',\n",
              " 'mro']"
            ]
          },
          "metadata": {},
          "execution_count": 30
        }
      ],
      "source": [
        "dir(type) # Call Method Is Built-In In Every Object"
      ]
    },
    {
      "cell_type": "code",
      "execution_count": 31,
      "metadata": {
        "colab": {
          "base_uri": "https://localhost:8080/"
        },
        "id": "q3VOy44s7e_U",
        "outputId": "63885504-f40d-4bad-83e6-e8d279107e05"
      },
      "outputs": [
        {
          "output_type": "execute_result",
          "data": {
            "text/plain": [
              "['__call__',\n",
              " '__class__',\n",
              " '__delattr__',\n",
              " '__dir__',\n",
              " '__doc__',\n",
              " '__eq__',\n",
              " '__format__',\n",
              " '__func__',\n",
              " '__ge__',\n",
              " '__getattribute__',\n",
              " '__getstate__',\n",
              " '__gt__',\n",
              " '__hash__',\n",
              " '__init__',\n",
              " '__init_subclass__',\n",
              " '__le__',\n",
              " '__lt__',\n",
              " '__ne__',\n",
              " '__new__',\n",
              " '__reduce__',\n",
              " '__reduce_ex__',\n",
              " '__repr__',\n",
              " '__self__',\n",
              " '__setattr__',\n",
              " '__sizeof__',\n",
              " '__str__',\n",
              " '__subclasshook__']"
            ]
          },
          "metadata": {},
          "execution_count": 31
        }
      ],
      "source": [
        "class SampleClass:\n",
        "\n",
        "     def method(self):\n",
        "\n",
        "         print(\"You Called Method!\");\n",
        "\n",
        "sampleInstance = SampleClass();\n",
        "\n",
        "dir(sampleInstance.method)"
      ]
    },
    {
      "cell_type": "code",
      "execution_count": 32,
      "metadata": {
        "colab": {
          "base_uri": "https://localhost:8080/"
        },
        "id": "FQlbjp4J7e_U",
        "outputId": "16994c82-4692-40e6-d1b6-cda7b72793bf"
      },
      "outputs": [
        {
          "output_type": "stream",
          "name": "stdout",
          "text": [
            "True\n",
            "True\n"
          ]
        }
      ],
      "source": [
        "class NonCallable:\n",
        "\n",
        "    def __call__(self):\n",
        "\n",
        "        raise TypeError(\"Not Really Callable\");\n",
        "\n",
        "instance : NonCallable = NonCallable();\n",
        "\n",
        "print(callable(instance));\n",
        "\n",
        "print(callable(NonCallable));"
      ]
    },
    {
      "cell_type": "code",
      "execution_count": 33,
      "metadata": {
        "colab": {
          "base_uri": "https://localhost:8080/"
        },
        "id": "A7CAr8Em7e_i",
        "outputId": "322644c2-664e-4d57-986b-54b41e393b12"
      },
      "outputs": [
        {
          "output_type": "stream",
          "name": "stdout",
          "text": [
            "False\n"
          ]
        }
      ],
      "source": [
        "calling = \"Callable\";\n",
        "\n",
        "print(callable(calling));"
      ]
    },
    {
      "cell_type": "code",
      "execution_count": 34,
      "metadata": {
        "colab": {
          "base_uri": "https://localhost:8080/"
        },
        "id": "6cJb5YHr7e_i",
        "outputId": "5e0da3d1-8686-4ee5-a6c0-6c146cfb1d47"
      },
      "outputs": [
        {
          "output_type": "stream",
          "name": "stdout",
          "text": [
            "2\n",
            "64\n"
          ]
        }
      ],
      "source": [
        "class PowerFactory:\n",
        "\n",
        "    def __init__(self, exponent: int = 2):\n",
        "\n",
        "        self.exponent = exponent;\n",
        "\n",
        "    def __call__(self, base: int):\n",
        "\n",
        "        return base ** self.exponent;\n",
        "\n",
        "a : PowerFactory = PowerFactory(); # Run __init__\n",
        "\n",
        "print(a.exponent);\n",
        "\n",
        "print(a(8));"
      ]
    },
    {
      "cell_type": "code",
      "execution_count": 35,
      "metadata": {
        "colab": {
          "base_uri": "https://localhost:8080/"
        },
        "id": "0KQ7isJW7e_j",
        "outputId": "6ff2521f-c2c0-4ade-e0db-3b3f2d25cd15"
      },
      "outputs": [
        {
          "output_type": "stream",
          "name": "stdout",
          "text": [
            "[]\n",
            "[12]\n",
            "12.0\n",
            "[12, 13]\n",
            "12.5\n",
            "[12, 13, 11]\n",
            "12.0\n",
            "[12, 13, 11, 10]\n",
            "11.5\n"
          ]
        }
      ],
      "source": [
        "class CumulativeAverager:\n",
        "\n",
        "    def __init__(self):\n",
        "\n",
        "        self.data = [];\n",
        "\n",
        "    def __call__(self, newValue):\n",
        "\n",
        "        self.data.append(newValue);\n",
        "\n",
        "        print(self.data);\n",
        "\n",
        "        return sum(self.data) / len(self.data);\n",
        "\n",
        "streamAverage = CumulativeAverager();\n",
        "\n",
        "print(streamAverage.data);\n",
        "\n",
        "print(streamAverage(12)); # Data = [12] (12/1)\n",
        "\n",
        "print(streamAverage(13)); # Data = [12, 13] (12 + 13 / 2)\n",
        "\n",
        "print(streamAverage(11));\n",
        "\n",
        "print(streamAverage(10));"
      ]
    },
    {
      "cell_type": "code",
      "execution_count": 36,
      "metadata": {
        "colab": {
          "base_uri": "https://localhost:8080/"
        },
        "id": "0edleAfG7e_l",
        "outputId": "9f627c7b-cda2-493e-f592-d44253ae16af"
      },
      "outputs": [
        {
          "output_type": "stream",
          "name": "stdout",
          "text": [
            "{0: 1, 1: 1}\n",
            "{0: 1, 1: 1, 2: 2, 3: 6, 4: 24, 5: 120, 6: 720, 7: 5040, 8: 40320, 9: 362880, 10: 3628800}\n"
          ]
        }
      ],
      "source": [
        "class Factorial:\n",
        "\n",
        "    def __init__(self):\n",
        "\n",
        "        self.cache = { 0: 1, 1: 1 };\n",
        "\n",
        "    def __call__(self, number):\n",
        "\n",
        "        if number not in self.cache:\n",
        "\n",
        "            self.cache[number] = number * self(number - 1);\n",
        "\n",
        "        return self.cache[number];\n",
        "\n",
        "factorialOf = Factorial();\n",
        "\n",
        "print(factorialOf.cache);\n",
        "\n",
        "factorialOf(4);\n",
        "\n",
        "factorialOf(5);\n",
        "\n",
        "factorialOf(4);\n",
        "\n",
        "factorialOf(10);\n",
        "\n",
        "print(factorialOf.cache);"
      ]
    },
    {
      "cell_type": "markdown",
      "metadata": {
        "id": "6Dp_t6Vd7e_o"
      },
      "source": [
        "# **Access Modifiers**"
      ]
    },
    {
      "cell_type": "code",
      "execution_count": 37,
      "metadata": {
        "colab": {
          "base_uri": "https://localhost:8080/"
        },
        "id": "hkRLMs4N7e_p",
        "outputId": "10126c4b-c816-475b-8a07-18228bce1e44"
      },
      "outputs": [
        {
          "output_type": "stream",
          "name": "stdout",
          "text": [
            "123456789\n"
          ]
        }
      ],
      "source": [
        "class Piaic:\n",
        "\n",
        "      def __init__(self) -> None:\n",
        "\n",
        "        self.piaicHelpline : str = \"123456789\"; # Public\n",
        "\n",
        "        self._totalExpense : int = 6000000; # Protected\n",
        "\n",
        "        self.__testAnouncement : str = \"5 Nov 2023\"; # Private\n",
        "\n",
        "imran : Piaic = Piaic();\n",
        "\n",
        "print(imran.piaicHelpline);"
      ]
    },
    {
      "cell_type": "code",
      "execution_count": 38,
      "metadata": {
        "colab": {
          "base_uri": "https://localhost:8080/"
        },
        "id": "JedHuHG47e_q",
        "outputId": "e4ab7680-9d66-4902-d9b9-7bd6a80ac336"
      },
      "outputs": [
        {
          "output_type": "stream",
          "name": "stdout",
          "text": [
            "1234567890\n"
          ]
        }
      ],
      "source": [
        "imran.piaicHelpline = \"1234567890\";\n",
        "\n",
        "print(imran.piaicHelpline);"
      ]
    },
    {
      "cell_type": "code",
      "execution_count": 39,
      "metadata": {
        "colab": {
          "base_uri": "https://localhost:8080/"
        },
        "id": "jSyRIcN67e_r",
        "outputId": "05d975fb-d230-44eb-9717-03f704f80787"
      },
      "outputs": [
        {
          "output_type": "stream",
          "name": "stdout",
          "text": [
            "5 Nov 2023\n"
          ]
        }
      ],
      "source": [
        "print(imran._Piaic__testAnouncement); # It's Not Pure Object Oriented"
      ]
    },
    {
      "cell_type": "code",
      "execution_count": 40,
      "metadata": {
        "colab": {
          "base_uri": "https://localhost:8080/"
        },
        "id": "KjAmNDAq7e_s",
        "outputId": "2c0c1164-ecd0-4f48-cdef-8b52a27c2c2d"
      },
      "outputs": [
        {
          "output_type": "stream",
          "name": "stdout",
          "text": [
            "6000000\n"
          ]
        }
      ],
      "source": [
        "print(imran._totalExpense); # It Python Side Problem Not My Code"
      ]
    },
    {
      "cell_type": "markdown",
      "metadata": {
        "id": "Dc3Pa_Fn7e_t"
      },
      "source": [
        "# **3. Encapsulation**"
      ]
    },
    {
      "cell_type": "code",
      "execution_count": 41,
      "metadata": {
        "id": "FBTX6Krx7e_t"
      },
      "outputs": [],
      "source": [
        "class StudentLogin():\n",
        "\n",
        "    def __init__(self) -> None:\n",
        "\n",
        "        self.__username : str = \"Admin\";\n",
        "\n",
        "        self.__password : str = \"Admin\";\n",
        "\n",
        "    def __dbConnectivity(self, user: str, passwrod: str) -> str:\n",
        "\n",
        "        print(\"Successfully Connected\");\n",
        "\n",
        "        if user == self.__username and passwrod == self.__password:\n",
        "\n",
        "            return \"Valid User\";\n",
        "\n",
        "        else:\n",
        "\n",
        "            return \"Invalid User\";\n",
        "\n",
        "    def updatePassword(self, password: str) -> None:\n",
        "\n",
        "        self.__password = password; # Setter Method\n",
        "\n",
        "        print(\"Password Updated!\");\n",
        "\n",
        "    def login(self, user1: str , pass1: str):\n",
        "\n",
        "        message: str = self.__dbConnectivity(user1, pass1);\n",
        "\n",
        "        print(message);\n",
        "\n",
        "    def displayInformation(self):\n",
        "\n",
        "        print(f\"Hello Dear {self.__username}\"); # Getter Method"
      ]
    },
    {
      "cell_type": "code",
      "execution_count": 42,
      "metadata": {
        "colab": {
          "base_uri": "https://localhost:8080/"
        },
        "id": "T2JmgUYs7e_v",
        "outputId": "18e2a3ca-f41a-48b8-a548-473da1b604e3"
      },
      "outputs": [
        {
          "output_type": "stream",
          "name": "stdout",
          "text": [
            "Successfully Connected\n",
            "Invalid User\n"
          ]
        }
      ],
      "source": [
        "ahmed : StudentLogin = StudentLogin();\n",
        "\n",
        "ahmed.login(\"Admin\", \"Ahmed\");"
      ]
    },
    {
      "cell_type": "code",
      "execution_count": 43,
      "metadata": {
        "colab": {
          "base_uri": "https://localhost:8080/"
        },
        "id": "tgbrAzYZ7e_w",
        "outputId": "91835fbc-e514-4e00-9a34-73ecedc90098"
      },
      "outputs": [
        {
          "output_type": "stream",
          "name": "stdout",
          "text": [
            "Successfully Connected\n",
            "Valid User\n"
          ]
        }
      ],
      "source": [
        "ahmed.login(\"Admin\", \"Admin\");"
      ]
    },
    {
      "cell_type": "code",
      "execution_count": 44,
      "metadata": {
        "colab": {
          "base_uri": "https://localhost:8080/"
        },
        "id": "Lg8-RdC37e_x",
        "outputId": "a8bcc0b9-9c4f-4154-d57e-8d3243d90050"
      },
      "outputs": [
        {
          "output_type": "stream",
          "name": "stdout",
          "text": [
            "Password Updated!\n"
          ]
        }
      ],
      "source": [
        "ahmed.updatePassword(\"Admin1234\");"
      ]
    },
    {
      "cell_type": "code",
      "execution_count": 45,
      "metadata": {
        "colab": {
          "base_uri": "https://localhost:8080/"
        },
        "id": "EpF-FwrK7e_y",
        "outputId": "8c538890-b224-4545-f3cf-91a2a896c682"
      },
      "outputs": [
        {
          "output_type": "stream",
          "name": "stdout",
          "text": [
            "Hello Dear Admin\n"
          ]
        }
      ],
      "source": [
        "ahmed.displayInformation();"
      ]
    },
    {
      "cell_type": "code",
      "execution_count": 46,
      "metadata": {
        "colab": {
          "base_uri": "https://localhost:8080/"
        },
        "id": "ar2KUn4E7e_y",
        "outputId": "f4223d64-e839-4bcb-d021-a30862ec59d4"
      },
      "outputs": [
        {
          "output_type": "stream",
          "name": "stdout",
          "text": [
            "Successfully Connected\n",
            "Valid User\n"
          ]
        }
      ],
      "source": [
        "ahmed.login(\"Admin\", \"Admin1234\");"
      ]
    },
    {
      "cell_type": "markdown",
      "metadata": {
        "id": "l_VBY6DZ7e_z"
      },
      "source": [
        "# **__Str__ Method**"
      ]
    },
    {
      "cell_type": "code",
      "execution_count": 47,
      "metadata": {
        "colab": {
          "base_uri": "https://localhost:8080/"
        },
        "id": "L4fbNbtf7e_z",
        "outputId": "fb03d6a8-0137-42e0-e9c6-ee91c3eddb5b"
      },
      "outputs": [
        {
          "output_type": "stream",
          "name": "stdout",
          "text": [
            "<__main__.Teacher object at 0x7e99d5aeb850>\n",
            "Sir Zia\n"
          ]
        }
      ],
      "source": [
        "class Teacher():\n",
        "\n",
        "    def __init__(self,name) -> None:\n",
        "\n",
        "        self.name : str = name;\n",
        "\n",
        "sir : Teacher = Teacher(\"Sir Zia\");\n",
        "\n",
        "print(sir);\n",
        "\n",
        "print(sir.name);"
      ]
    },
    {
      "cell_type": "code",
      "execution_count": 48,
      "metadata": {
        "colab": {
          "base_uri": "https://localhost:8080/"
        },
        "id": "AmMxnR9V7e_0",
        "outputId": "58b512a6-b85d-4edc-fd4d-3e5de73b8d44"
      },
      "outputs": [
        {
          "output_type": "stream",
          "name": "stdout",
          "text": [
            "Teacher Name Is: Sir Zia\n",
            "<class '__main__.Teacher'>\n"
          ]
        }
      ],
      "source": [
        "class Teacher():\n",
        "\n",
        "    def __init__(self,name) -> None:\n",
        "\n",
        "        self.name : str = name;\n",
        "\n",
        "    def __str__(self) -> str:\n",
        "\n",
        "        return f\"Teacher Name Is: {self.name}\";\n",
        "\n",
        "sir : Teacher = Teacher(\"Sir Zia\");\n",
        "\n",
        "print(sir); # Default Call __Str__ Method\n",
        "\n",
        "print(type(sir));"
      ]
    },
    {
      "cell_type": "markdown",
      "metadata": {
        "id": "q70857Sg7e_1"
      },
      "source": [
        "# **4. Abstraction**"
      ]
    },
    {
      "cell_type": "code",
      "execution_count": 49,
      "metadata": {
        "colab": {
          "base_uri": "https://localhost:8080/"
        },
        "id": "6x0_k-iK7e_1",
        "outputId": "270c916d-ca2e-4f48-c3f9-f76067343691"
      },
      "outputs": [
        {
          "output_type": "stream",
          "name": "stdout",
          "text": [
            "True\n",
            "Cat Is Eating Fish\n"
          ]
        }
      ],
      "source": [
        "from abc import ABC, abstractmethod; # ABC Means (Abstract Base Classes)\n",
        "\n",
        "class Animal(ABC):\n",
        "\n",
        "    @abstractmethod\n",
        "    def __init__(self) -> None:\n",
        "\n",
        "        super().__init__();\n",
        "\n",
        "        self.livingThing : bool = True;\n",
        "\n",
        "    @abstractmethod\n",
        "    def eat(self, food: str):\n",
        "        ...\n",
        "\n",
        "class Cat(Animal):\n",
        "\n",
        "    def __init__(self) -> None:\n",
        "\n",
        "        super().__init__();\n",
        "\n",
        "    def eat(self, food: str):\n",
        "\n",
        "        return f\"Cat Is Eating {food}\";\n",
        "\n",
        "myCat : Cat = Cat();\n",
        "\n",
        "print(myCat.livingThing);\n",
        "\n",
        "print(myCat.eat(\"Fish\"));"
      ]
    },
    {
      "cell_type": "markdown",
      "metadata": {
        "id": "NEwbSpaV7e_2"
      },
      "source": [
        "# **Duck Typing**"
      ]
    },
    {
      "cell_type": "code",
      "execution_count": 50,
      "metadata": {
        "colab": {
          "base_uri": "https://localhost:8080/"
        },
        "id": "mwqJgHvy7e_5",
        "outputId": "b11fd4ac-f184-4413-99a9-0cd16f1f7986"
      },
      "outputs": [
        {
          "output_type": "stream",
          "name": "stdout",
          "text": [
            "Quack!\n",
            "I'm Quacking Like A Duck!\n"
          ]
        }
      ],
      "source": [
        "class Duck:\n",
        "\n",
        "    def quack(self) -> str:\n",
        "\n",
        "        return \"Quack!\";\n",
        "\n",
        "class Person:\n",
        "\n",
        "    def quack(self) -> str:\n",
        "\n",
        "        return \"I\\'m Quacking Like A Duck!\";\n",
        "\n",
        "def inTheForest(param):\n",
        "\n",
        "    print(param.quack());\n",
        "\n",
        "donald : Duck = Duck();\n",
        "\n",
        "john : Person = Person();\n",
        "\n",
        "inTheForest(donald);\n",
        "\n",
        "inTheForest(john);"
      ]
    },
    {
      "cell_type": "markdown",
      "metadata": {
        "id": "JrzEt7f77e_6"
      },
      "source": [
        "# **Generic**"
      ]
    },
    {
      "cell_type": "code",
      "execution_count": 51,
      "metadata": {
        "colab": {
          "base_uri": "https://localhost:8080/"
        },
        "id": "kbPte5Uk7e_7",
        "outputId": "77aab0cb-dec7-4a67-d55a-64bb1921b72b"
      },
      "outputs": [
        {
          "output_type": "stream",
          "name": "stdout",
          "text": [
            "Hello World!\n",
            "42\n"
          ]
        }
      ],
      "source": [
        "from typing import TypeVar, Generic;\n",
        "\n",
        "T = TypeVar(\"T\");\n",
        "\n",
        "class BoxContainer(Generic[T]):\n",
        "\n",
        "    def __init__(self, item: T = None) -> None:\n",
        "\n",
        "        self.item = item;\n",
        "\n",
        "    def getItem(self) -> T:\n",
        "\n",
        "        return self.item;\n",
        "\n",
        "stringBox = BoxContainer(\"Hello World!\");\n",
        "\n",
        "print(stringBox.getItem());\n",
        "\n",
        "intBox = BoxContainer(42);\n",
        "\n",
        "print(intBox.getItem());"
      ]
    }
  ],
  "metadata": {
    "kernelspec": {
      "display_name": "Python 3 (ipykernel)",
      "language": "python",
      "name": "python3"
    },
    "language_info": {
      "codemirror_mode": {
        "name": "ipython",
        "version": 3
      },
      "file_extension": ".py",
      "mimetype": "text/x-python",
      "name": "python",
      "nbconvert_exporter": "python",
      "pygments_lexer": "ipython3",
      "version": "3.12.0"
    },
    "colab": {
      "provenance": []
    }
  },
  "nbformat": 4,
  "nbformat_minor": 0
}