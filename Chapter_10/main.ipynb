{
 "cells": [
  {
   "cell_type": "markdown",
   "metadata": {},
   "source": [
    "# **OOP (Object Oriented Programming)**"
   ]
  },
  {
   "cell_type": "code",
   "execution_count": 113,
   "metadata": {},
   "outputs": [
    {
     "name": "stdout",
     "output_type": "stream",
     "text": [
      "Name: Sir Zia Khan, ID: 1 & Organiztion: PIAIC \n",
      "\n",
      "Name: Sir Qasim, ID: 2 & Organiztion: PIAIC\n"
     ]
    }
   ],
   "source": [
    "class Teacher:\n",
    "\n",
    "    def __init__(self, teacherId : int, teacherName : str) -> None: # Method / Constructor (__Init__)\n",
    "\n",
    "        self.name : str = teacherName; # Attribute\n",
    "\n",
    "        self.teacherId : int  = teacherId;\n",
    "\n",
    "        self.organizationName: str = \"PIAIC\";\n",
    "\n",
    "    def quarter(self, quarter : int ) -> None: # Method\n",
    "\n",
    "        print(f\"This Is Quarter {quarter}\");\n",
    "    \n",
    "    def teaching(self, subject : str ) -> None:\n",
    "\n",
    "        print(f\"{self.name} Is Teaching {subject}...!\");\n",
    "\n",
    "obj1 : Teacher = Teacher(1, \"Sir Zia Khan\");\n",
    "\n",
    "obj2 : Teacher = Teacher(2, \"Sir Qasim\");\n",
    "\n",
    "print(f\"Name: {obj1.name}, ID: {obj1.teacherId} & Organiztion: {obj1.organizationName} \\n\");\n",
    "\n",
    "print(f\"Name: {obj2.name}, ID: {obj2.teacherId} & Organiztion: {obj2.organizationName}\");"
   ]
  },
  {
   "cell_type": "code",
   "execution_count": 115,
   "metadata": {},
   "outputs": [
    {
     "name": "stdout",
     "output_type": "stream",
     "text": [
      "Sir Zia Khan Is Teaching BlockChain...!\n",
      "Sir Qasim Is Teaching Generative AI...!\n"
     ]
    }
   ],
   "source": [
    "obj1.teaching(\"BlockChain\")\n",
    "\n",
    "obj2.teaching(\"Generative AI\")"
   ]
  },
  {
   "cell_type": "code",
   "execution_count": 3,
   "metadata": {},
   "outputs": [
    {
     "data": {
      "text/plain": [
       "['__class__',\n",
       " '__delattr__',\n",
       " '__dict__',\n",
       " '__dir__',\n",
       " '__doc__',\n",
       " '__eq__',\n",
       " '__format__',\n",
       " '__ge__',\n",
       " '__getattribute__',\n",
       " '__getstate__',\n",
       " '__gt__',\n",
       " '__hash__',\n",
       " '__init__',\n",
       " '__init_subclass__',\n",
       " '__le__',\n",
       " '__lt__',\n",
       " '__module__',\n",
       " '__ne__',\n",
       " '__new__',\n",
       " '__reduce__',\n",
       " '__reduce_ex__',\n",
       " '__repr__',\n",
       " '__setattr__',\n",
       " '__sizeof__',\n",
       " '__str__',\n",
       " '__subclasshook__',\n",
       " '__weakref__',\n",
       " 'name',\n",
       " 'organizationName',\n",
       " 'quarter',\n",
       " 'teacherId',\n",
       " 'teaching']"
      ]
     },
     "execution_count": 3,
     "metadata": {},
     "output_type": "execute_result"
    }
   ],
   "source": [
    "dir(obj1)"
   ]
  },
  {
   "cell_type": "code",
   "execution_count": 5,
   "metadata": {},
   "outputs": [
    {
     "name": "stdout",
     "output_type": "stream",
     "text": [
      "Name: Sir Zia Khan, ID: 1 & Organiztion: PIAIC \n",
      "\n",
      "Name: Sir Qasim, ID: 2 & Organiztion: PIAIC \n",
      "\n",
      "Sir Zia Khan Is Teaching BlockChain...!\n",
      "Sir Qasim Is Teaching Generative AI...!\n"
     ]
    }
   ],
   "source": [
    "class Teacher:\n",
    "\n",
    "    def __init__(this, teacherId : int, teacherName : str) -> None:\n",
    "\n",
    "        this.name : str = teacherName;\n",
    "\n",
    "        this.teacherId : int  = teacherId;\n",
    "\n",
    "        this.organizationName: str = \"PIAIC\";\n",
    "\n",
    "    def quarter(this, quarter : int ) -> None:\n",
    "\n",
    "        print(f\"This Is Quarter {quarter}\");\n",
    "    \n",
    "    def teaching(this, subject : str ) -> None:\n",
    "\n",
    "        print(f\"{this.name} Is Teaching {subject}...!\");\n",
    "\n",
    "obj1 : Teacher = Teacher(1, \"Sir Zia Khan\");\n",
    "\n",
    "obj2 : Teacher = Teacher(2, \"Sir Qasim\");\n",
    "\n",
    "print(f\"Name: {obj1.name}, ID: {obj1.teacherId} & Organiztion: {obj1.organizationName} \\n\");\n",
    "\n",
    "print(f\"Name: {obj2.name}, ID: {obj2.teacherId} & Organiztion: {obj2.organizationName} \\n\");\n",
    "\n",
    "obj1.teaching(\"BlockChain\")\n",
    "\n",
    "obj2.teaching(\"Generative AI\")"
   ]
  },
  {
   "cell_type": "code",
   "execution_count": 27,
   "metadata": {},
   "outputs": [],
   "source": [
    "class Teacher:\n",
    "\n",
    "    counter : int = 0; # Variable\n",
    "\n",
    "    classTiming : str = \"8 PM\";\n",
    "\n",
    "    def __init__(self, teacherId : int, teacherName : str) -> None:\n",
    "\n",
    "        self.name : str = teacherName;\n",
    "\n",
    "        self.teacherId : int  = teacherId;\n",
    "\n",
    "        self.organizationName: str = \"PIAIC\";\n",
    "    \n",
    "        Teacher.counter += 1;\n",
    "\n",
    "    def quarter(self, quarter : int ) -> None:\n",
    "\n",
    "        print(f\"This Is Quarter {quarter}\");\n",
    "    \n",
    "    def teaching(self, subject : str ) -> None:\n",
    "\n",
    "        print(f\"{self.name} Is Teaching {subject}...!\");\n",
    "\n",
    "    def details(self) -> None:\n",
    "\n",
    "        information : str = f\"\"\"\n",
    "        Teacher Name Is {self.name}\n",
    "        Class Timing is {Teacher.classTiming}\n",
    "        \"\"\";\n",
    "        \n",
    "        print(information);"
   ]
  },
  {
   "cell_type": "code",
   "execution_count": 28,
   "metadata": {},
   "outputs": [
    {
     "name": "stdout",
     "output_type": "stream",
     "text": [
      "0\n",
      "1\n",
      "1\n",
      "2\n",
      "2\n",
      "2\n"
     ]
    }
   ],
   "source": [
    "print(Teacher.counter);\n",
    "\n",
    "obj1 : Teacher = Teacher(1, \"Sir Zia Khan\"); # Create New Object Then Increase The Value Of Counter\n",
    "\n",
    "print(obj1.counter); # And Also Run The Object Increase The Value Of Counter\n",
    "\n",
    "print(Teacher.counter);\n",
    "\n",
    "obj2 : Teacher = Teacher(2, \"Sir Qasim\");\n",
    "\n",
    "print(obj1.counter);\n",
    "\n",
    "print(obj2.counter);\n",
    "\n",
    "print(Teacher.counter);"
   ]
  },
  {
   "cell_type": "code",
   "execution_count": 76,
   "metadata": {},
   "outputs": [
    {
     "name": "stdout",
     "output_type": "stream",
     "text": [
      "\n",
      "        Teacher Name Is Sir Zia Khan\n",
      "        Class Timing is 8 PM\n",
      "        \n"
     ]
    }
   ],
   "source": [
    "obj1.details();"
   ]
  },
  {
   "cell_type": "code",
   "execution_count": 78,
   "metadata": {},
   "outputs": [
    {
     "name": "stdout",
     "output_type": "stream",
     "text": [
      "2549138146256\n"
     ]
    }
   ],
   "source": [
    "print(id(obj2));"
   ]
  },
  {
   "cell_type": "markdown",
   "metadata": {},
   "source": [
    "# **1. Inheritance**"
   ]
  },
  {
   "cell_type": "code",
   "execution_count": 83,
   "metadata": {},
   "outputs": [
    {
     "name": "stdout",
     "output_type": "stream",
     "text": [
      "Brown\n",
      "Black\n",
      "Parent Method Speak: Pakistan Zindabad\n",
      "You Are Looking TV \n",
      "\n",
      "Parent Method Speak: Free Palestine\n",
      "You Are Looking Youtube\n",
      "Brown\n",
      "Black\n"
     ]
    }
   ],
   "source": [
    "class Parents():\n",
    "\n",
    "    def __init__(self) -> None:\n",
    "\n",
    "        self.eyeColor : str = \"Brown\";\n",
    "\n",
    "        self.hairColor : str = \"Black\";\n",
    "\n",
    "    def speak(self, words: str) -> None:\n",
    "\n",
    "        print(f\"Parent Method Speak: {words}\");\n",
    "\n",
    "    def watching(sef, objectName : str) -> None:\n",
    "\n",
    "        print(f\"You Are Looking {objectName}\");\n",
    "\n",
    "class Child(Parents):\n",
    "\n",
    "    pass;\n",
    "\n",
    "obj1 : Parents = Parents();\n",
    "\n",
    "print(obj1.eyeColor);\n",
    "\n",
    "print(obj1.hairColor);\n",
    "\n",
    "obj1.speak(\"Pakistan Zindabad\");\n",
    "\n",
    "obj1.watching(\"TV \\n\");\n",
    "\n",
    "obj2 : Child = Child();\n",
    "\n",
    "obj2.speak(\"Free Palestine\");\n",
    "\n",
    "obj2.watching(\"Youtube\");\n",
    "\n",
    "print(obj2.eyeColor);\n",
    "\n",
    "print(obj2.hairColor);"
   ]
  },
  {
   "cell_type": "code",
   "execution_count": 84,
   "metadata": {},
   "outputs": [
    {
     "name": "stdout",
     "output_type": "stream",
     "text": [
      "Brown\n",
      "Black\n",
      "Parent Method Speak: Pakistan Zindabad\n",
      "You Are Looking TV \n",
      "\n",
      "Parent Method Speak: Free Palestine\n",
      "You Are Looking Youtube\n",
      "Brown\n",
      "Black\n",
      "I Love EDM\n"
     ]
    }
   ],
   "source": [
    "class Parents():\n",
    "\n",
    "    def __init__(self) -> None:\n",
    "\n",
    "        self.eyeColor : str = \"Brown\";\n",
    "\n",
    "        self.hairColor : str = \"Black\";\n",
    "\n",
    "    def speak(self, words: str) -> None:\n",
    "\n",
    "        print(f\"Parent Method Speak: {words}\");\n",
    "\n",
    "    def watching(sef, objectName : str) -> None:\n",
    "\n",
    "        print(f\"You Are Looking {objectName}\");\n",
    "\n",
    "class Child(Parents):\n",
    "\n",
    "    def music(self, genre : str) -> None:\n",
    "\n",
    "        print(f\"I Love {genre}\");\n",
    "\n",
    "obj1 : Parents = Parents();\n",
    "\n",
    "print(obj1.eyeColor);\n",
    "\n",
    "print(obj1.hairColor);\n",
    "\n",
    "obj1.speak(\"Pakistan Zindabad\");\n",
    "\n",
    "obj1.watching(\"TV \\n\");\n",
    "\n",
    "obj2 : Child = Child();\n",
    "\n",
    "obj2.speak(\"Free Palestine\");\n",
    "\n",
    "obj2.watching(\"Youtube\");\n",
    "\n",
    "print(obj2.eyeColor);\n",
    "\n",
    "print(obj2.hairColor);\n",
    "\n",
    "obj2.music(\"EDM\");"
   ]
  },
  {
   "cell_type": "code",
   "execution_count": 87,
   "metadata": {},
   "outputs": [
    {
     "name": "stdout",
     "output_type": "stream",
     "text": [
      "Ahsan\n",
      "Animation Artist\n",
      "Gen AI Engineer\n",
      "['JavaScript', 'TypeScript', 'Python']\n"
     ]
    }
   ],
   "source": [
    "from typing import List;\n",
    "\n",
    "class Employee():\n",
    "\n",
    "    def __init__(self, name : str) -> None:\n",
    "\n",
    "        self.name : str = name;\n",
    "\n",
    "class Designer(Employee):\n",
    "    \n",
    "    def __init__(self, title : str, name: str) -> None:\n",
    "\n",
    "        super().__init__(name);\n",
    "\n",
    "        self.title : str = title;\n",
    "\n",
    "class Developer(Employee):\n",
    "\n",
    "    def __init__(self, title : str, name: str) -> None:\n",
    "\n",
    "        super().__init__(name);\n",
    "\n",
    "        self.title: str = title;\n",
    "        \n",
    "        self.programming_skills : List[str] = [\"JavaScript\", \"TypeScript\", \"Python\"];\n",
    "\n",
    "design: Designer = Designer(\"Animation Artist\", \"Ahsan\");\n",
    "\n",
    "dev: Developer = Developer(\"Gen AI Engineer\", \"Ahmed\");\n",
    "\n",
    "print(design.name);\n",
    "\n",
    "print(design.title);\n",
    "\n",
    "print(dev.title);\n",
    "\n",
    "print(dev.programming_skills);"
   ]
  },
  {
   "cell_type": "code",
   "execution_count": 7,
   "metadata": {},
   "outputs": [
    {
     "name": "stdout",
     "output_type": "stream",
     "text": [
      "Imran Khan Height 7 Feet\n",
      "Imran Khan Eye Color Blue\n",
      "Imran Khan Speaking: Absolutely Not\n"
     ]
    }
   ],
   "source": [
    "class Mother:\n",
    "\n",
    "    def __init__(self, name: str) -> None:\n",
    "\n",
    "        self.name : str = name;\n",
    "\n",
    "        self.eyeColor : str = \"Blue\";\n",
    "\n",
    "class Father:\n",
    "\n",
    "    def __init__(self, name: str) -> None:\n",
    "\n",
    "        self.name : str = name;\n",
    "\n",
    "        self.height : str = \"7 Feet\";\n",
    "\n",
    "class Child(Mother, Father):\n",
    "\n",
    "    def __init__(self, motherName: str, fatherName: str , childName: str) -> None:\n",
    "\n",
    "        Mother.__init__(self, motherName);\n",
    "\n",
    "        Father.__init__(self, fatherName);\n",
    "\n",
    "        self.childName : str = childName;\n",
    "\n",
    "    def speaking(self, words: str) -> str:\n",
    "\n",
    "        return f\"Imran Khan Speaking: {words}\";\n",
    "\n",
    "imran : Child = Child(\"Shaukat Khanum\", \"Ikramullah Khan\",\"Imran Khan\");\n",
    "\n",
    "print(f\"Imran Khan Height {imran.height}\");\n",
    "\n",
    "print(f\"Imran Khan Eye Color {imran.eyeColor}\");\n",
    "\n",
    "print(imran.speaking(\"Absolutely Not\"));"
   ]
  },
  {
   "cell_type": "code",
   "execution_count": 8,
   "metadata": {},
   "outputs": [
    {
     "name": "stdout",
     "output_type": "stream",
     "text": [
      "['childName', 'eyeColor', 'height', 'name', 'speaking']\n"
     ]
    }
   ],
   "source": [
    "print([i for i in dir(imran) if \"__\" not in i]);"
   ]
  },
  {
   "cell_type": "markdown",
   "metadata": {},
   "source": [
    "# **Overloading**"
   ]
  },
  {
   "cell_type": "code",
   "execution_count": 29,
   "metadata": {},
   "outputs": [
    {
     "name": "stdout",
     "output_type": "stream",
     "text": [
      "3\n",
      "5.0\n",
      "Hello World!\n"
     ]
    }
   ],
   "source": [
    "from typing import Union, overload;\n",
    "\n",
    "@overload\n",
    "def add(self, x: int, y: int) -> int:\n",
    "    ...\n",
    "\n",
    "@overload\n",
    "def add(self, x: float, y: float) -> float:\n",
    "    ...\n",
    "        \n",
    "@overload\n",
    "def add(self, x: str, y: str) -> str:\n",
    "    ...\n",
    "\n",
    "def add(x: Union[int, float, str], y: Union[int, float, str]) -> Union[int, float, str]:\n",
    "    if isinstance(x, int) and isinstance(y, int):\n",
    "        return x + y;\n",
    "    elif isinstance(x, float) and isinstance(y, float):\n",
    "        return x + y;\n",
    "    elif isinstance(x, str) and isinstance(y, str):\n",
    "        return x + y;\n",
    "    else:\n",
    "        raise TypeError(\"Invalid Argument Types!\");\n",
    "\n",
    "result1 = add(1, 2);\n",
    "\n",
    "result2 = add(2.5, 2.5);\n",
    "\n",
    "result3 = add(\"Hello\", \" World!\");\n",
    "\n",
    "print(result1);\n",
    "\n",
    "print(result2);\n",
    "\n",
    "print(result3);"
   ]
  },
  {
   "cell_type": "code",
   "execution_count": 30,
   "metadata": {},
   "outputs": [
    {
     "name": "stdout",
     "output_type": "stream",
     "text": [
      "4\n",
      "4\n",
      "Free Palestine!\n"
     ]
    }
   ],
   "source": [
    "from typing import Union, overload;\n",
    "\n",
    "class Adder:\n",
    "\n",
    "    @overload\n",
    "    def add(self, x: int, y: int) -> int:\n",
    "        ...\n",
    "\n",
    "    @overload\n",
    "    def add(self, x: float, y: float) -> float:\n",
    "        ...\n",
    "        \n",
    "    @overload\n",
    "    def add(self, x: str, y: str) -> str:\n",
    "        ...\n",
    "\n",
    "    def add(self, x: Union[int, float, str], y: Union[int, float, str]) -> Union[int, float, str]:\n",
    "        if isinstance(x, int) and isinstance(y, int):\n",
    "            return x + y;\n",
    "        elif isinstance(x, float) and isinstance(y, float):\n",
    "            return x + y;\n",
    "        elif isinstance(x, str) and isinstance(y, str):\n",
    "            return x + y;\n",
    "        else:\n",
    "            raise TypeError(\"Invalid Argument Types!\");\n",
    "\n",
    "adder: Adder = Adder();\n",
    "\n",
    "result1 = adder.add(2, 2);\n",
    "\n",
    "result2 = adder.add(2, 2);\n",
    "\n",
    "result3 = adder.add(\"Free\", \" Palestine!\");\n",
    "\n",
    "print(result1);\n",
    "\n",
    "print(result2);\n",
    "\n",
    "print(result3);"
   ]
  },
  {
   "cell_type": "markdown",
   "metadata": {},
   "source": [
    "# **2. Polymorphism**"
   ]
  },
  {
   "cell_type": "code",
   "execution_count": 31,
   "metadata": {},
   "outputs": [
    {
     "name": "stdout",
     "output_type": "stream",
     "text": [
      "Bird Is Eating Bread\n",
      "Animal Is Eating Grain\n",
      "<class '__main__.Animal'>\n"
     ]
    }
   ],
   "source": [
    "class Animal():\n",
    "\n",
    "    def eating(self, food: str ) -> None:\n",
    "\n",
    "        print(f\"Animal Is Eating {food}\");\n",
    "\n",
    "class Bird(Animal):\n",
    "\n",
    "    def eating(self, food: str) -> None:\n",
    "\n",
    "        print(f\"Bird Is Eating {food}\"); # OverWrite\n",
    "\n",
    "bird : Bird = Bird();\n",
    "\n",
    "bird.eating(\"Bread\");\n",
    "\n",
    "animal : Animal = Animal();\n",
    "\n",
    "animal.eating(\"Grain\");\n",
    "\n",
    "print(type(animal));"
   ]
  },
  {
   "cell_type": "code",
   "execution_count": 17,
   "metadata": {},
   "outputs": [
    {
     "name": "stdout",
     "output_type": "stream",
     "text": [
      "Bird Is Eating Seeds\n",
      "<class '__main__.Bird'>\n",
      "Animal Is Eating Seeds\n"
     ]
    }
   ],
   "source": [
    "animal2 : Animal = Bird(); # Object Will Decide Which Object Method It Will Be Run\n",
    "\n",
    "animal2.eating(\"Seeds\");\n",
    "\n",
    "print(type(animal2));\n",
    "\n",
    "bird2 : Bird = Animal(); # It's Called Polymorphism\n",
    "\n",
    "bird2.eating(\"Seeds\");"
   ]
  },
  {
   "cell_type": "code",
   "execution_count": 32,
   "metadata": {},
   "outputs": [
    {
     "name": "stdout",
     "output_type": "stream",
     "text": [
      "Imran Khan Height 7 Feet\n",
      "Imran Khan Eye Color Blue\n",
      "Imran Khan Mother Speaking: Pakistan Zindabad!\n"
     ]
    }
   ],
   "source": [
    "class Mother:\n",
    "\n",
    "    def __init__(self, name: str) -> None:\n",
    "\n",
    "        self.name : str = name;\n",
    "\n",
    "        self.eyeColor : str = \"Blue\";\n",
    "\n",
    "    def speaking(self, words: str) -> str:\n",
    "\n",
    "        return f\"Imran Khan Mother Speaking: {words}\";\n",
    "\n",
    "class Father:\n",
    "\n",
    "    def __init__(self, name: str) -> None:\n",
    "\n",
    "        self.name : str = name;\n",
    "\n",
    "        self.height : str = \"7 Feet\";\n",
    "\n",
    "    def speaking(self, words: str) -> str:\n",
    "\n",
    "        return f\"Imran Khan Father Speaking: {words}\";\n",
    "\n",
    "class Child(Mother, Father):\n",
    "\n",
    "    def __init__(self, motherName: str, fatherName: str ,childName: str) -> None:\n",
    "\n",
    "        Mother.__init__(self, motherName);\n",
    "\n",
    "        Father.__init__(self, fatherName);\n",
    "\n",
    "        self.childName : str = childName;\n",
    "\n",
    "imran : Child = Child(\"Shaukat Khanum\", \"Ikramullah Khan\",\"Imran Khan\");\n",
    "\n",
    "print(f\"Imran Khan Height {imran.height}\");\n",
    "\n",
    "print(f\"Imran Khan Eye Color {imran.eyeColor}\");\n",
    "\n",
    "print(imran.speaking(\"Pakistan Zindabad!\"));"
   ]
  },
  {
   "cell_type": "code",
   "execution_count": 33,
   "metadata": {},
   "outputs": [
    {
     "name": "stdout",
     "output_type": "stream",
     "text": [
      "Imran Khan Height 7 Feet\n",
      "Imran Khan Eye Color Blue\n",
      "Imran Khan Father Speaking: Pakistan Zindabad!\n"
     ]
    }
   ],
   "source": [
    "class Mother:\n",
    "\n",
    "    def __init__(self, name: str) -> None:\n",
    "\n",
    "        self.name : str = name;\n",
    "\n",
    "        self.eyeColor : str = \"Blue\";\n",
    "\n",
    "    def speaking(self, words: str) -> str:\n",
    "\n",
    "        return f\"Imran Khan Mother Speaking: {words}\";\n",
    "\n",
    "class Father:\n",
    "\n",
    "    def __init__(self, name: str) -> None:\n",
    "\n",
    "        self.name : str = name;\n",
    "\n",
    "        self.height : str = \"7 Feet\";\n",
    "\n",
    "    def speaking(self, words: str) -> str:\n",
    "\n",
    "        return f\"Imran Khan Father Speaking: {words}\";\n",
    "\n",
    "class Child(Father, Mother):\n",
    "\n",
    "    def __init__(self, motherName: str, fatherName: str ,childName: str) -> None:\n",
    "\n",
    "        Mother.__init__(self, motherName);\n",
    "\n",
    "        Father.__init__(self, fatherName);\n",
    "\n",
    "        self.childName : str = childName;\n",
    "\n",
    "imran : Child = Child(\"Shaukat Khanum\", \"Ikramullah Khan\",\"Imran Khan\");\n",
    "\n",
    "print(f\"Imran Khan Height {imran.height}\");\n",
    "\n",
    "print(f\"Imran Khan Eye Color {imran.eyeColor}\");\n",
    "\n",
    "print(imran.speaking(\"Pakistan Zindabad!\"));"
   ]
  },
  {
   "cell_type": "markdown",
   "metadata": {},
   "source": [
    "# **Static Methods & Variables**"
   ]
  },
  {
   "cell_type": "code",
   "execution_count": 35,
   "metadata": {},
   "outputs": [
    {
     "name": "stdout",
     "output_type": "stream",
     "text": [
      "Addition: 30\n",
      "Multiplication: 200\n",
      "PIAIC\n"
     ]
    }
   ],
   "source": [
    "class MathOperations:\n",
    "\n",
    "    organization : str = \"PIAIC\";\n",
    "\n",
    "    @staticmethod\n",
    "    def add(x: int, y: int) -> int:\n",
    "\n",
    "        return x + y;\n",
    "\n",
    "    @staticmethod\n",
    "    def multiply(x: int, y: int) -> int:\n",
    "    \n",
    "        return x * y;\n",
    "\n",
    "resultAdd = MathOperations.add(10, 20); # In Static Method & Variable Direct Access To Variable & Method With Class Name\n",
    "\n",
    "resultMultiply = MathOperations.multiply(10, 20); # No Need Create The Object\n",
    "\n",
    "print(\"Addition:\", resultAdd);\n",
    "\n",
    "print(\"Multiplication:\", resultMultiply);\n",
    "\n",
    "print(MathOperations.organization);"
   ]
  },
  {
   "cell_type": "markdown",
   "metadata": {},
   "source": [
    "# **Everything Is An Object**"
   ]
  },
  {
   "cell_type": "code",
   "execution_count": 37,
   "metadata": {},
   "outputs": [
    {
     "name": "stdout",
     "output_type": "stream",
     "text": [
      "Bilal Loves Biryani\n"
     ]
    }
   ],
   "source": [
    "class Bilal():\n",
    "\n",
    "    def eating(self, food : str) -> None:\n",
    "\n",
    "        print(f\"Bilal Loves {food}\");\n",
    "\n",
    "obj1 : Bilal = Bilal();\n",
    "\n",
    "obj1.eating(\"Biryani\");"
   ]
  },
  {
   "cell_type": "code",
   "execution_count": 38,
   "metadata": {},
   "outputs": [
    {
     "data": {
      "text/plain": [
       "['__class__',\n",
       " '__delattr__',\n",
       " '__dict__',\n",
       " '__dir__',\n",
       " '__doc__',\n",
       " '__eq__',\n",
       " '__format__',\n",
       " '__ge__',\n",
       " '__getattribute__',\n",
       " '__getstate__',\n",
       " '__gt__',\n",
       " '__hash__',\n",
       " '__init__',\n",
       " '__init_subclass__',\n",
       " '__le__',\n",
       " '__lt__',\n",
       " '__module__',\n",
       " '__ne__',\n",
       " '__new__',\n",
       " '__reduce__',\n",
       " '__reduce_ex__',\n",
       " '__repr__',\n",
       " '__setattr__',\n",
       " '__sizeof__',\n",
       " '__str__',\n",
       " '__subclasshook__',\n",
       " '__weakref__',\n",
       " 'eating']"
      ]
     },
     "execution_count": 38,
     "metadata": {},
     "output_type": "execute_result"
    }
   ],
   "source": [
    "dir(obj1)"
   ]
  },
  {
   "cell_type": "code",
   "execution_count": 43,
   "metadata": {},
   "outputs": [
    {
     "data": {
      "text/plain": [
       "['__class__',\n",
       " '__delattr__',\n",
       " '__dir__',\n",
       " '__doc__',\n",
       " '__eq__',\n",
       " '__format__',\n",
       " '__ge__',\n",
       " '__getattribute__',\n",
       " '__getstate__',\n",
       " '__gt__',\n",
       " '__hash__',\n",
       " '__init__',\n",
       " '__init_subclass__',\n",
       " '__le__',\n",
       " '__lt__',\n",
       " '__ne__',\n",
       " '__new__',\n",
       " '__reduce__',\n",
       " '__reduce_ex__',\n",
       " '__repr__',\n",
       " '__setattr__',\n",
       " '__sizeof__',\n",
       " '__str__',\n",
       " '__subclasshook__']"
      ]
     },
     "execution_count": 43,
     "metadata": {},
     "output_type": "execute_result"
    }
   ],
   "source": [
    "dir(object) # Everything Is An Object In Python"
   ]
  },
  {
   "cell_type": "code",
   "execution_count": 46,
   "metadata": {},
   "outputs": [
    {
     "name": "stdout",
     "output_type": "stream",
     "text": [
      "Ahmed Loves Tea\n"
     ]
    }
   ],
   "source": [
    "class Ahmed(object): # Default Object Parameter\n",
    "\n",
    "    def drinking(self, drink : str) -> None:\n",
    "\n",
    "        print(f\"Ahmed Loves {drink}\");\n",
    " \n",
    "obj2 : Ahmed = Ahmed();\n",
    "\n",
    "obj2.drinking(\"Tea\");"
   ]
  },
  {
   "cell_type": "code",
   "execution_count": 47,
   "metadata": {},
   "outputs": [
    {
     "data": {
      "text/plain": [
       "['__class__',\n",
       " '__delattr__',\n",
       " '__dict__',\n",
       " '__dir__',\n",
       " '__doc__',\n",
       " '__eq__',\n",
       " '__format__',\n",
       " '__ge__',\n",
       " '__getattribute__',\n",
       " '__getstate__',\n",
       " '__gt__',\n",
       " '__hash__',\n",
       " '__init__',\n",
       " '__init_subclass__',\n",
       " '__le__',\n",
       " '__lt__',\n",
       " '__module__',\n",
       " '__ne__',\n",
       " '__new__',\n",
       " '__reduce__',\n",
       " '__reduce_ex__',\n",
       " '__repr__',\n",
       " '__setattr__',\n",
       " '__sizeof__',\n",
       " '__str__',\n",
       " '__subclasshook__',\n",
       " '__weakref__',\n",
       " 'drinking']"
      ]
     },
     "execution_count": 47,
     "metadata": {},
     "output_type": "execute_result"
    }
   ],
   "source": [
    "dir(obj2)"
   ]
  },
  {
   "cell_type": "markdown",
   "metadata": {},
   "source": [
    "# **Callable**"
   ]
  },
  {
   "cell_type": "code",
   "execution_count": 49,
   "metadata": {},
   "outputs": [
    {
     "name": "stdout",
     "output_type": "stream",
     "text": [
      "Martin Garrix\n"
     ]
    }
   ],
   "source": [
    "def greet():\n",
    "    \n",
    "    print(\"Martin Garrix\");\n",
    "\n",
    "greet.__call__(); # Callable Method Is Built-In Method In Every Object"
   ]
  },
  {
   "cell_type": "code",
   "execution_count": 53,
   "metadata": {},
   "outputs": [
    {
     "data": {
      "text/plain": [
       "['__annotations__',\n",
       " '__builtins__',\n",
       " '__call__',\n",
       " '__class__',\n",
       " '__closure__',\n",
       " '__code__',\n",
       " '__defaults__',\n",
       " '__delattr__',\n",
       " '__dict__',\n",
       " '__dir__',\n",
       " '__doc__',\n",
       " '__eq__',\n",
       " '__format__',\n",
       " '__ge__',\n",
       " '__get__',\n",
       " '__getattribute__',\n",
       " '__getstate__',\n",
       " '__globals__',\n",
       " '__gt__',\n",
       " '__hash__',\n",
       " '__init__',\n",
       " '__init_subclass__',\n",
       " '__kwdefaults__',\n",
       " '__le__',\n",
       " '__lt__',\n",
       " '__module__',\n",
       " '__name__',\n",
       " '__ne__',\n",
       " '__new__',\n",
       " '__qualname__',\n",
       " '__reduce__',\n",
       " '__reduce_ex__',\n",
       " '__repr__',\n",
       " '__setattr__',\n",
       " '__sizeof__',\n",
       " '__str__',\n",
       " '__subclasshook__',\n",
       " '__type_params__']"
      ]
     },
     "execution_count": 53,
     "metadata": {},
     "output_type": "execute_result"
    }
   ],
   "source": [
    "dir(greet) # Everything Is An Object In Python"
   ]
  },
  {
   "cell_type": "code",
   "execution_count": 66,
   "metadata": {},
   "outputs": [
    {
     "name": "stdout",
     "output_type": "stream",
     "text": [
      "Showing The App Main Window...\n"
     ]
    }
   ],
   "source": [
    "class MainWindow:\n",
    "\n",
    "    def show(self):\n",
    "\n",
    "        print(\"Showing The App Main Window...\");\n",
    "\n",
    "    def __call__(self): # Default Function Or Method\n",
    "\n",
    "        self.show();\n",
    "\n",
    "window = MainWindow();\n",
    "\n",
    "window(); # Callable Is Built-In Method So I Not Give The Method Name But It Run"
   ]
  },
  {
   "cell_type": "code",
   "execution_count": 67,
   "metadata": {},
   "outputs": [
    {
     "name": "stdout",
     "output_type": "stream",
     "text": [
      "Human Is Eating Nihari!\n",
      "Human Is Eating Biryani\n",
      "<class 'type'>\n"
     ]
    }
   ],
   "source": [
    "class Human(object):\n",
    "\n",
    "    def eating(self, food : str) -> None:\n",
    "\n",
    "        print(f\"Human Is Eating {food}\");\n",
    "\n",
    "    def __call__(self) -> None: # Default Run\n",
    "\n",
    "        self.eating(\"Nihari!\");\n",
    "\n",
    "obj : Human = Human();\n",
    "\n",
    "obj(); # Nameless Method\n",
    "\n",
    "obj.eating(\"Biryani\");\n",
    "\n",
    "print(type(Human));"
   ]
  },
  {
   "cell_type": "code",
   "execution_count": 58,
   "metadata": {},
   "outputs": [
    {
     "data": {
      "text/plain": [
       "['__abstractmethods__',\n",
       " '__annotations__',\n",
       " '__base__',\n",
       " '__bases__',\n",
       " '__basicsize__',\n",
       " '__call__',\n",
       " '__class__',\n",
       " '__delattr__',\n",
       " '__dict__',\n",
       " '__dictoffset__',\n",
       " '__dir__',\n",
       " '__doc__',\n",
       " '__eq__',\n",
       " '__flags__',\n",
       " '__format__',\n",
       " '__ge__',\n",
       " '__getattribute__',\n",
       " '__getstate__',\n",
       " '__gt__',\n",
       " '__hash__',\n",
       " '__init__',\n",
       " '__init_subclass__',\n",
       " '__instancecheck__',\n",
       " '__itemsize__',\n",
       " '__le__',\n",
       " '__lt__',\n",
       " '__module__',\n",
       " '__mro__',\n",
       " '__name__',\n",
       " '__ne__',\n",
       " '__new__',\n",
       " '__or__',\n",
       " '__prepare__',\n",
       " '__qualname__',\n",
       " '__reduce__',\n",
       " '__reduce_ex__',\n",
       " '__repr__',\n",
       " '__ror__',\n",
       " '__setattr__',\n",
       " '__sizeof__',\n",
       " '__str__',\n",
       " '__subclasscheck__',\n",
       " '__subclasses__',\n",
       " '__subclasshook__',\n",
       " '__text_signature__',\n",
       " '__type_params__',\n",
       " '__weakrefoffset__',\n",
       " 'mro']"
      ]
     },
     "execution_count": 58,
     "metadata": {},
     "output_type": "execute_result"
    }
   ],
   "source": [
    "dir(type) # Call Method Is Built-In In Every Object"
   ]
  },
  {
   "cell_type": "code",
   "execution_count": 69,
   "metadata": {},
   "outputs": [
    {
     "data": {
      "text/plain": [
       "['__call__',\n",
       " '__class__',\n",
       " '__delattr__',\n",
       " '__dir__',\n",
       " '__doc__',\n",
       " '__eq__',\n",
       " '__format__',\n",
       " '__func__',\n",
       " '__ge__',\n",
       " '__getattribute__',\n",
       " '__getstate__',\n",
       " '__gt__',\n",
       " '__hash__',\n",
       " '__init__',\n",
       " '__init_subclass__',\n",
       " '__le__',\n",
       " '__lt__',\n",
       " '__ne__',\n",
       " '__new__',\n",
       " '__reduce__',\n",
       " '__reduce_ex__',\n",
       " '__repr__',\n",
       " '__self__',\n",
       " '__setattr__',\n",
       " '__sizeof__',\n",
       " '__str__',\n",
       " '__subclasshook__']"
      ]
     },
     "execution_count": 69,
     "metadata": {},
     "output_type": "execute_result"
    }
   ],
   "source": [
    "class SampleClass:\n",
    "     \n",
    "     def method(self):\n",
    "         \n",
    "         print(\"You Called Method!\");\n",
    "\n",
    "sampleInstance = SampleClass();\n",
    "\n",
    "dir(sampleInstance.method)"
   ]
  },
  {
   "cell_type": "code",
   "execution_count": 71,
   "metadata": {},
   "outputs": [
    {
     "name": "stdout",
     "output_type": "stream",
     "text": [
      "True\n",
      "True\n"
     ]
    }
   ],
   "source": [
    "class NonCallable:\n",
    "\n",
    "    def __call__(self):\n",
    "\n",
    "        raise TypeError(\"Not Really Callable\");\n",
    "    \n",
    "instance : NonCallable = NonCallable();\n",
    "\n",
    "print(callable(instance));\n",
    "\n",
    "print(callable(NonCallable));"
   ]
  },
  {
   "cell_type": "code",
   "execution_count": 62,
   "metadata": {},
   "outputs": [
    {
     "name": "stdout",
     "output_type": "stream",
     "text": [
      "False\n"
     ]
    }
   ],
   "source": [
    "calling = \"Callable\";\n",
    "\n",
    "print(callable(calling));"
   ]
  },
  {
   "cell_type": "code",
   "execution_count": 77,
   "metadata": {},
   "outputs": [
    {
     "name": "stdout",
     "output_type": "stream",
     "text": [
      "2\n",
      "64\n"
     ]
    }
   ],
   "source": [
    "class PowerFactory:\n",
    "\n",
    "    def __init__(self, exponent: int = 2):\n",
    "\n",
    "        self.exponent = exponent;\n",
    "\n",
    "    def __call__(self, base: int):\n",
    "\n",
    "        return base ** self.exponent;\n",
    "    \n",
    "a : PowerFactory = PowerFactory(); # Run __init__\n",
    "\n",
    "print(a.exponent);\n",
    "\n",
    "print(a(8));"
   ]
  },
  {
   "cell_type": "code",
   "execution_count": 73,
   "metadata": {},
   "outputs": [
    {
     "name": "stdout",
     "output_type": "stream",
     "text": [
      "[]\n",
      "[12]\n",
      "12.0\n",
      "[12, 13]\n",
      "12.5\n",
      "[12, 13, 11]\n",
      "12.0\n",
      "[12, 13, 11, 10]\n",
      "11.5\n"
     ]
    }
   ],
   "source": [
    "class CumulativeAverager:\n",
    "\n",
    "    def __init__(self):\n",
    "\n",
    "        self.data = [];\n",
    "\n",
    "    def __call__(self, newValue):\n",
    "\n",
    "        self.data.append(newValue);\n",
    "\n",
    "        print(self.data);\n",
    "\n",
    "        return sum(self.data) / len(self.data);\n",
    "\n",
    "streamAverage = CumulativeAverager();\n",
    "\n",
    "print(streamAverage.data);\n",
    "\n",
    "print(streamAverage(12)); # Data = [12] (12/1)\n",
    "\n",
    "print(streamAverage(13)); # Data = [12, 13] (12 + 13 / 2)\n",
    "\n",
    "print(streamAverage(11));\n",
    "\n",
    "print(streamAverage(10));"
   ]
  },
  {
   "cell_type": "code",
   "execution_count": 74,
   "metadata": {},
   "outputs": [
    {
     "name": "stdout",
     "output_type": "stream",
     "text": [
      "{0: 1, 1: 1}\n",
      "{0: 1, 1: 1, 2: 2, 3: 6, 4: 24, 5: 120, 6: 720, 7: 5040, 8: 40320, 9: 362880, 10: 3628800}\n"
     ]
    }
   ],
   "source": [
    "class Factorial:\n",
    "\n",
    "    def __init__(self):\n",
    "\n",
    "        self.cache = { 0: 1, 1: 1 };\n",
    "\n",
    "    def __call__(self, number):\n",
    "\n",
    "        if number not in self.cache:\n",
    "\n",
    "            self.cache[number] = number * self(number - 1);\n",
    "        \n",
    "        return self.cache[number];\n",
    "\n",
    "factorialOf = Factorial();\n",
    "\n",
    "print(factorialOf.cache);\n",
    "\n",
    "factorialOf(4);\n",
    "\n",
    "factorialOf(5);\n",
    "\n",
    "factorialOf(4);\n",
    "\n",
    "factorialOf(10);\n",
    "\n",
    "print(factorialOf.cache);"
   ]
  },
  {
   "cell_type": "markdown",
   "metadata": {},
   "source": [
    "# **Access Modifiers**"
   ]
  },
  {
   "cell_type": "code",
   "execution_count": 78,
   "metadata": {},
   "outputs": [
    {
     "name": "stdout",
     "output_type": "stream",
     "text": [
      "123456789\n"
     ]
    }
   ],
   "source": [
    "class Piaic:\n",
    "\n",
    "      def __init__(self) -> None:\n",
    "\n",
    "        self.piaicHelpline : str = \"123456789\"; # Public\n",
    "\n",
    "        self._totalExpense : int = 6000000; # Protected\n",
    "\n",
    "        self.__testAnouncement : str = \"5 Nov 2023\"; # Private\n",
    " \n",
    "imran : Piaic = Piaic();\n",
    "\n",
    "print(imran.piaicHelpline);"
   ]
  },
  {
   "cell_type": "code",
   "execution_count": 79,
   "metadata": {},
   "outputs": [
    {
     "name": "stdout",
     "output_type": "stream",
     "text": [
      "1234567890\n"
     ]
    }
   ],
   "source": [
    "imran.piaicHelpline = \"1234567890\";\n",
    "\n",
    "print(imran.piaicHelpline);"
   ]
  },
  {
   "cell_type": "code",
   "execution_count": 85,
   "metadata": {},
   "outputs": [
    {
     "name": "stdout",
     "output_type": "stream",
     "text": [
      "5 Nov 2023\n"
     ]
    }
   ],
   "source": [
    "print(imran._Piaic__testAnouncement); # It's Not Pure Object Oriented"
   ]
  },
  {
   "cell_type": "code",
   "execution_count": 89,
   "metadata": {},
   "outputs": [
    {
     "name": "stdout",
     "output_type": "stream",
     "text": [
      "6000000\n"
     ]
    }
   ],
   "source": [
    "print(imran._totalExpense); # It Python Side Problem Not My Code"
   ]
  },
  {
   "cell_type": "markdown",
   "metadata": {},
   "source": [
    "# **3. Encapsulation**"
   ]
  },
  {
   "cell_type": "code",
   "execution_count": 90,
   "metadata": {},
   "outputs": [],
   "source": [
    "class StudentLogin():\n",
    "\n",
    "    def __init__(self) -> None:\n",
    "\n",
    "        self.__username : str = \"Admin\";\n",
    "\n",
    "        self.__password : str = \"Admin\";\n",
    "\n",
    "    def __dbConnectivity(self, user: str, passwrod: str) -> str:\n",
    "\n",
    "        print(\"Successfully Connected\");\n",
    "    \n",
    "        if user == self.__username and passwrod == self.__password:\n",
    "\n",
    "            return \"Valid User\";\n",
    "    \n",
    "        else:\n",
    "\n",
    "            return \"Invalid User\";\n",
    "\n",
    "    def updatePassword(self, password: str) -> None:\n",
    "\n",
    "        self.__password = password; # Setter Method\n",
    "    \n",
    "        print(\"Password Updated!\");\n",
    "\n",
    "    def login(self, user1: str , pass1: str):\n",
    "\n",
    "        message: str = self.__dbConnectivity(user1, pass1);\n",
    "    \n",
    "        print(message);\n",
    "\n",
    "    def displayInformation(self):\n",
    "\n",
    "        print(f\"Hello Dear {self.__username}\"); # Getter Method"
   ]
  },
  {
   "cell_type": "code",
   "execution_count": 93,
   "metadata": {},
   "outputs": [
    {
     "name": "stdout",
     "output_type": "stream",
     "text": [
      "Successfully Connected\n",
      "Invalid User\n"
     ]
    }
   ],
   "source": [
    "ahmed : StudentLogin = StudentLogin();\n",
    "\n",
    "ahmed.login(\"Admin\", \"Ahmed\");"
   ]
  },
  {
   "cell_type": "code",
   "execution_count": 94,
   "metadata": {},
   "outputs": [
    {
     "name": "stdout",
     "output_type": "stream",
     "text": [
      "Successfully Connected\n",
      "Valid User\n"
     ]
    }
   ],
   "source": [
    "ahmed.login(\"Admin\", \"Admin\");"
   ]
  },
  {
   "cell_type": "code",
   "execution_count": 95,
   "metadata": {},
   "outputs": [
    {
     "name": "stdout",
     "output_type": "stream",
     "text": [
      "Password Updated!\n"
     ]
    }
   ],
   "source": [
    "ahmed.updatePassword(\"Admin1234\");"
   ]
  },
  {
   "cell_type": "code",
   "execution_count": 96,
   "metadata": {},
   "outputs": [
    {
     "name": "stdout",
     "output_type": "stream",
     "text": [
      "Hello Dear Admin\n"
     ]
    }
   ],
   "source": [
    "ahmed.displayInformation();"
   ]
  },
  {
   "cell_type": "code",
   "execution_count": 97,
   "metadata": {},
   "outputs": [
    {
     "name": "stdout",
     "output_type": "stream",
     "text": [
      "Successfully Connected\n",
      "Valid User\n"
     ]
    }
   ],
   "source": [
    "ahmed.login(\"Admin\", \"Admin1234\");"
   ]
  },
  {
   "cell_type": "markdown",
   "metadata": {},
   "source": [
    "# **__Str__ Method**"
   ]
  },
  {
   "cell_type": "code",
   "execution_count": 100,
   "metadata": {},
   "outputs": [
    {
     "name": "stdout",
     "output_type": "stream",
     "text": [
      "<__main__.Teacher object at 0x0000027806704620>\n",
      "Sir Zia\n"
     ]
    }
   ],
   "source": [
    "class Teacher():\n",
    "\n",
    "    def __init__(self,name) -> None:\n",
    "\n",
    "        self.name : str = name;\n",
    "\n",
    "sir : Teacher = Teacher(\"Sir Zia\");\n",
    "\n",
    "print(sir);\n",
    "\n",
    "print(sir.name);"
   ]
  },
  {
   "cell_type": "code",
   "execution_count": 116,
   "metadata": {},
   "outputs": [
    {
     "name": "stdout",
     "output_type": "stream",
     "text": [
      "Teacher Name Is: Sir Zia\n",
      "<class '__main__.Teacher'>\n"
     ]
    }
   ],
   "source": [
    "class Teacher():\n",
    "\n",
    "    def __init__(self,name) -> None:\n",
    "\n",
    "        self.name : str = name;\n",
    "\n",
    "    def __str__(self) -> str:\n",
    "\n",
    "        return f\"Teacher Name Is: {self.name}\";\n",
    "\n",
    "sir : Teacher = Teacher(\"Sir Zia\");\n",
    "\n",
    "print(sir); # Default Call __Str__ Method\n",
    "\n",
    "print(type(sir));"
   ]
  },
  {
   "cell_type": "markdown",
   "metadata": {},
   "source": [
    "# **4. Abstraction**"
   ]
  },
  {
   "cell_type": "code",
   "execution_count": 104,
   "metadata": {},
   "outputs": [
    {
     "name": "stdout",
     "output_type": "stream",
     "text": [
      "True\n",
      "Cat Is Eating Fish\n"
     ]
    }
   ],
   "source": [
    "from abc import ABC, abstractmethod; # ABC Means (Abstract Base Classes)\n",
    "\n",
    "class Animal(ABC):\n",
    "\n",
    "    @abstractmethod\n",
    "    def __init__(self) -> None:\n",
    "\n",
    "        super().__init__();\n",
    "\n",
    "        self.livingThing : bool = True;\n",
    "\n",
    "    @abstractmethod\n",
    "    def eat(self, food: str):\n",
    "        ...\n",
    "    \n",
    "class Cat(Animal):\n",
    "\n",
    "    def __init__(self) -> None:\n",
    "\n",
    "        super().__init__();\n",
    "\n",
    "    def eat(self, food: str):\n",
    "\n",
    "        return f\"Cat Is Eating {food}\";\n",
    "\n",
    "myCat : Cat = Cat();\n",
    "\n",
    "print(myCat.livingThing);\n",
    "\n",
    "print(myCat.eat(\"Fish\"));"
   ]
  },
  {
   "cell_type": "markdown",
   "metadata": {},
   "source": [
    "# **Duck Typing**"
   ]
  },
  {
   "cell_type": "code",
   "execution_count": 109,
   "metadata": {},
   "outputs": [
    {
     "name": "stdout",
     "output_type": "stream",
     "text": [
      "Quack!\n",
      "I'm Quacking Like A Duck!\n"
     ]
    }
   ],
   "source": [
    "class Duck:\n",
    "\n",
    "    def quack(self) -> str:\n",
    "\n",
    "        return \"Quack!\";\n",
    "\n",
    "class Person:\n",
    "\n",
    "    def quack(self) -> str:\n",
    "\n",
    "        return \"I\\'m Quacking Like A Duck!\";\n",
    "\n",
    "def inTheForest(param):\n",
    "\n",
    "    print(param.quack());\n",
    "\n",
    "donald : Duck = Duck();\n",
    "\n",
    "john : Person = Person();\n",
    "\n",
    "inTheForest(donald);\n",
    "\n",
    "inTheForest(john);"
   ]
  },
  {
   "cell_type": "markdown",
   "metadata": {},
   "source": [
    "# **Generic**"
   ]
  },
  {
   "cell_type": "code",
   "execution_count": 110,
   "metadata": {},
   "outputs": [
    {
     "name": "stdout",
     "output_type": "stream",
     "text": [
      "Hello World!\n",
      "42\n"
     ]
    }
   ],
   "source": [
    "from typing import TypeVar, Generic;\n",
    "\n",
    "T = TypeVar(\"T\");\n",
    "\n",
    "class BoxContainer(Generic[T]):\n",
    "\n",
    "    def __init__(self, item: T = None) -> None:\n",
    "\n",
    "        self.item = item;\n",
    "\n",
    "    def getItem(self) -> T:\n",
    "\n",
    "        return self.item;\n",
    "\n",
    "stringBox = BoxContainer(\"Hello World!\");\n",
    "\n",
    "print(stringBox.getItem());\n",
    "\n",
    "intBox = BoxContainer(42);\n",
    "\n",
    "print(intBox.getItem());"
   ]
  }
 ],
 "metadata": {
  "kernelspec": {
   "display_name": "Python 3 (ipykernel)",
   "language": "python",
   "name": "python3"
  },
  "language_info": {
   "codemirror_mode": {
    "name": "ipython",
    "version": 3
   },
   "file_extension": ".py",
   "mimetype": "text/x-python",
   "name": "python",
   "nbconvert_exporter": "python",
   "pygments_lexer": "ipython3",
   "version": "3.12.0"
  }
 },
 "nbformat": 4,
 "nbformat_minor": 2
}
