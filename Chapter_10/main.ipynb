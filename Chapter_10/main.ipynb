{
 "cells": [
  {
   "cell_type": "markdown",
   "metadata": {},
   "source": [
    "# **OOP (Object Oriented Programming)**"
   ]
  },
  {
   "cell_type": "code",
   "execution_count": 70,
   "metadata": {},
   "outputs": [
    {
     "name": "stdout",
     "output_type": "stream",
     "text": [
      "Name: Sir Zia Khan, ID: 1 & Organiztion: PIAIC \n",
      "\n",
      "Name: Sir Qasim, ID: 2 & Organiztion: PIAIC\n"
     ]
    }
   ],
   "source": [
    "class Teacher:\n",
    "\n",
    "    def __init__(self, teacherId : int, teacherName : str) -> None: # Method / Constructor (__Init__)\n",
    "\n",
    "        self.name : str = teacherName; # Attribute\n",
    "\n",
    "        self.teacherId : int  = teacherId;\n",
    "\n",
    "        self.organizationName: str = \"PIAIC\";\n",
    "\n",
    "    def quarter(self, quarter : int ) -> None: # Method\n",
    "\n",
    "        print(f\"This Is Quarter {quarter}\");\n",
    "    \n",
    "    def teaching(self, subject : str ) -> None:\n",
    "\n",
    "        print(f\"{self.name} Is Teaching {subject}...!\");\n",
    "\n",
    "obj1 : Teacher = Teacher(1, \"Sir Zia Khan\");\n",
    "\n",
    "obj2 : Teacher = Teacher(2, \"Sir Qasim\");\n",
    "\n",
    "print(f\"Name: {obj1.name}, ID: {obj1.teacherId} & Organiztion: {obj1.organizationName} \\n\");\n",
    "\n",
    "print(f\"Name: {obj2.name}, ID: {obj2.teacherId} & Organiztion: {obj2.organizationName}\");"
   ]
  },
  {
   "cell_type": "code",
   "execution_count": 71,
   "metadata": {},
   "outputs": [
    {
     "name": "stdout",
     "output_type": "stream",
     "text": [
      "Sir Zia Khan Is Teaching BlockChain...!\n",
      "Sir Qasim Is Teaching Generative AI...!\n"
     ]
    }
   ],
   "source": [
    "obj1.teaching(\"BlockChain\")\n",
    "\n",
    "obj2.teaching(\"Generative AI\")"
   ]
  },
  {
   "cell_type": "code",
   "execution_count": 72,
   "metadata": {},
   "outputs": [
    {
     "data": {
      "text/plain": [
       "['__class__',\n",
       " '__delattr__',\n",
       " '__dict__',\n",
       " '__dir__',\n",
       " '__doc__',\n",
       " '__eq__',\n",
       " '__format__',\n",
       " '__ge__',\n",
       " '__getattribute__',\n",
       " '__getstate__',\n",
       " '__gt__',\n",
       " '__hash__',\n",
       " '__init__',\n",
       " '__init_subclass__',\n",
       " '__le__',\n",
       " '__lt__',\n",
       " '__module__',\n",
       " '__ne__',\n",
       " '__new__',\n",
       " '__reduce__',\n",
       " '__reduce_ex__',\n",
       " '__repr__',\n",
       " '__setattr__',\n",
       " '__sizeof__',\n",
       " '__str__',\n",
       " '__subclasshook__',\n",
       " '__weakref__',\n",
       " 'name',\n",
       " 'organizationName',\n",
       " 'quarter',\n",
       " 'teacherId',\n",
       " 'teaching']"
      ]
     },
     "execution_count": 72,
     "metadata": {},
     "output_type": "execute_result"
    }
   ],
   "source": [
    "dir(obj1)"
   ]
  },
  {
   "cell_type": "code",
   "execution_count": 73,
   "metadata": {},
   "outputs": [
    {
     "name": "stdout",
     "output_type": "stream",
     "text": [
      "Name: Sir Zia Khan, ID: 1 & Organiztion: PIAIC \n",
      "\n",
      "Name: Sir Qasim, ID: 2 & Organiztion: PIAIC \n",
      "\n",
      "Sir Zia Khan Is Teaching BlockChain...!\n",
      "Sir Qasim Is Teaching Generative AI...!\n"
     ]
    }
   ],
   "source": [
    "class Teacher:\n",
    "\n",
    "    def __init__(this, teacherId : int, teacherName : str) -> None:\n",
    "\n",
    "        this.name : str = teacherName;\n",
    "\n",
    "        this.teacherId : int  = teacherId;\n",
    "\n",
    "        this.organizationName: str = \"PIAIC\";\n",
    "\n",
    "    def quarter(this, quarter : int ) -> None:\n",
    "\n",
    "        print(f\"This Is Quarter {quarter}\");\n",
    "    \n",
    "    def teaching(this, subject : str ) -> None:\n",
    "\n",
    "        print(f\"{this.name} Is Teaching {subject}...!\");\n",
    "\n",
    "obj1 : Teacher = Teacher(1, \"Sir Zia Khan\");\n",
    "\n",
    "obj2 : Teacher = Teacher(2, \"Sir Qasim\");\n",
    "\n",
    "print(f\"Name: {obj1.name}, ID: {obj1.teacherId} & Organiztion: {obj1.organizationName} \\n\");\n",
    "\n",
    "print(f\"Name: {obj2.name}, ID: {obj2.teacherId} & Organiztion: {obj2.organizationName} \\n\");\n",
    "\n",
    "obj1.teaching(\"BlockChain\")\n",
    "\n",
    "obj2.teaching(\"Generative AI\")"
   ]
  },
  {
   "cell_type": "code",
   "execution_count": 74,
   "metadata": {},
   "outputs": [],
   "source": [
    "class Teacher:\n",
    "\n",
    "    counter : int = 0; # Variable\n",
    "\n",
    "    classTiming : str = \"8 PM\";\n",
    "\n",
    "    def __init__(self, teacherId : int, teacherName : str) -> None:\n",
    "\n",
    "        self.name : str = teacherName;\n",
    "\n",
    "        self.teacherId : int  = teacherId;\n",
    "\n",
    "        self.organizationName: str = \"PIAIC\";\n",
    "    \n",
    "        Teacher.counter += 1;\n",
    "\n",
    "    def quarter(self, quarter : int ) -> None:\n",
    "\n",
    "        print(f\"This Is Quarter {quarter}\");\n",
    "    \n",
    "    def teaching(self, subject : str ) -> None:\n",
    "\n",
    "        print(f\"{self.name} Is Teaching {subject}...!\");\n",
    "\n",
    "    def details(self) -> None:\n",
    "\n",
    "        information : str = f\"\"\"\n",
    "        Teacher Name Is {self.name}\n",
    "        Class Timing is {Teacher.classTiming}\n",
    "        \"\"\";\n",
    "        \n",
    "        print(information);"
   ]
  },
  {
   "cell_type": "code",
   "execution_count": 75,
   "metadata": {},
   "outputs": [
    {
     "name": "stdout",
     "output_type": "stream",
     "text": [
      "0\n",
      "1\n",
      "1\n",
      "1\n",
      "2\n",
      "2\n",
      "2\n"
     ]
    }
   ],
   "source": [
    "print(Teacher.counter);\n",
    "\n",
    "obj1 : Teacher = Teacher(1, \"Sir Zia Khan\"); # Create New Object Then Increase The Value Of Counter\n",
    "\n",
    "print(obj1.counter); # And Also Run The Object Increase The Value Of Counter\n",
    "\n",
    "print(obj1.counter);\n",
    "\n",
    "print(Teacher.counter);\n",
    "\n",
    "obj2 : Teacher = Teacher(2, \"Sir Qasim\");\n",
    "\n",
    "print(obj1.counter);\n",
    "\n",
    "print(obj2.counter);\n",
    "\n",
    "print(Teacher.counter);"
   ]
  },
  {
   "cell_type": "code",
   "execution_count": 76,
   "metadata": {},
   "outputs": [
    {
     "name": "stdout",
     "output_type": "stream",
     "text": [
      "\n",
      "        Teacher Name Is Sir Zia Khan\n",
      "        Class Timing is 8 PM\n",
      "        \n"
     ]
    }
   ],
   "source": [
    "obj1.details();"
   ]
  },
  {
   "cell_type": "code",
   "execution_count": 78,
   "metadata": {},
   "outputs": [
    {
     "name": "stdout",
     "output_type": "stream",
     "text": [
      "2549138146256\n"
     ]
    }
   ],
   "source": [
    "print(id(obj2));"
   ]
  },
  {
   "cell_type": "markdown",
   "metadata": {},
   "source": [
    "# **1. Inheritance**"
   ]
  },
  {
   "cell_type": "code",
   "execution_count": 83,
   "metadata": {},
   "outputs": [
    {
     "name": "stdout",
     "output_type": "stream",
     "text": [
      "Brown\n",
      "Black\n",
      "Parent Method Speak: Pakistan Zindabad\n",
      "You Are Looking TV \n",
      "\n",
      "Parent Method Speak: Free Palestine\n",
      "You Are Looking Youtube\n",
      "Brown\n",
      "Black\n"
     ]
    }
   ],
   "source": [
    "class Parents():\n",
    "\n",
    "    def __init__(self) -> None:\n",
    "\n",
    "        self.eyeColor : str = \"Brown\";\n",
    "\n",
    "        self.hairColor : str = \"Black\";\n",
    "\n",
    "    def speak(self, words: str) -> None:\n",
    "\n",
    "        print(f\"Parent Method Speak: {words}\");\n",
    "\n",
    "    def watching(sef, objectName : str) -> None:\n",
    "\n",
    "        print(f\"You Are Looking {objectName}\");\n",
    "\n",
    "class Child(Parents):\n",
    "\n",
    "    pass;\n",
    "\n",
    "obj1 : Parents = Parents();\n",
    "\n",
    "print(obj1.eyeColor);\n",
    "\n",
    "print(obj1.hairColor);\n",
    "\n",
    "obj1.speak(\"Pakistan Zindabad\");\n",
    "\n",
    "obj1.watching(\"TV \\n\");\n",
    "\n",
    "obj2 : Child = Child();\n",
    "\n",
    "obj2.speak(\"Free Palestine\");\n",
    "\n",
    "obj2.watching(\"Youtube\");\n",
    "\n",
    "print(obj2.eyeColor);\n",
    "\n",
    "print(obj2.hairColor);"
   ]
  },
  {
   "cell_type": "code",
   "execution_count": 84,
   "metadata": {},
   "outputs": [
    {
     "name": "stdout",
     "output_type": "stream",
     "text": [
      "Brown\n",
      "Black\n",
      "Parent Method Speak: Pakistan Zindabad\n",
      "You Are Looking TV \n",
      "\n",
      "Parent Method Speak: Free Palestine\n",
      "You Are Looking Youtube\n",
      "Brown\n",
      "Black\n",
      "I Love EDM\n"
     ]
    }
   ],
   "source": [
    "class Parents():\n",
    "\n",
    "    def __init__(self) -> None:\n",
    "\n",
    "        self.eyeColor : str = \"Brown\";\n",
    "\n",
    "        self.hairColor : str = \"Black\";\n",
    "\n",
    "    def speak(self, words: str) -> None:\n",
    "\n",
    "        print(f\"Parent Method Speak: {words}\");\n",
    "\n",
    "    def watching(sef, objectName : str) -> None:\n",
    "\n",
    "        print(f\"You Are Looking {objectName}\");\n",
    "\n",
    "class Child(Parents):\n",
    "\n",
    "    def music(self, genre : str) -> None:\n",
    "\n",
    "        print(f\"I Love {genre}\");\n",
    "\n",
    "obj1 : Parents = Parents();\n",
    "\n",
    "print(obj1.eyeColor);\n",
    "\n",
    "print(obj1.hairColor);\n",
    "\n",
    "obj1.speak(\"Pakistan Zindabad\");\n",
    "\n",
    "obj1.watching(\"TV \\n\");\n",
    "\n",
    "obj2 : Child = Child();\n",
    "\n",
    "obj2.speak(\"Free Palestine\");\n",
    "\n",
    "obj2.watching(\"Youtube\");\n",
    "\n",
    "print(obj2.eyeColor);\n",
    "\n",
    "print(obj2.hairColor);\n",
    "\n",
    "obj2.music(\"EDM\");"
   ]
  },
  {
   "cell_type": "code",
   "execution_count": 87,
   "metadata": {},
   "outputs": [
    {
     "name": "stdout",
     "output_type": "stream",
     "text": [
      "Ahsan\n",
      "Animation Artist\n",
      "Gen AI Engineer\n",
      "['JavaScript', 'TypeScript', 'Python']\n"
     ]
    }
   ],
   "source": [
    "from typing import List;\n",
    "\n",
    "class Employee():\n",
    "\n",
    "    def __init__(self, name : str) -> None:\n",
    "\n",
    "        self.name : str = name;\n",
    "\n",
    "class Designer(Employee):\n",
    "    \n",
    "    def __init__(self, title : str, name: str) -> None:\n",
    "\n",
    "        super().__init__(name);\n",
    "\n",
    "        self.title : str = title;\n",
    "\n",
    "class Developer(Employee):\n",
    "\n",
    "    def __init__(self, title : str, name: str) -> None:\n",
    "\n",
    "        super().__init__(name);\n",
    "\n",
    "        self.title: str = title;\n",
    "        \n",
    "        self.programming_skills : List[str] = [\"JavaScript\", \"TypeScript\", \"Python\"];\n",
    "\n",
    "design: Designer = Designer(\"Animation Artist\", \"Ahsan\");\n",
    "\n",
    "dev: Developer = Developer(\"Gen AI Engineer\", \"Ahmed\");\n",
    "\n",
    "print(design.name);\n",
    "\n",
    "print(design.title);\n",
    "\n",
    "print(dev.title);\n",
    "\n",
    "print(dev.programming_skills);"
   ]
  },
  {
   "cell_type": "code",
   "execution_count": 7,
   "metadata": {},
   "outputs": [
    {
     "name": "stdout",
     "output_type": "stream",
     "text": [
      "Imran Khan Height 7 Feet\n",
      "Imran Khan Eye Color Blue\n",
      "Imran Khan Speaking: Absolutely Not\n"
     ]
    }
   ],
   "source": [
    "class Mother:\n",
    "\n",
    "    def __init__(self, name: str) -> None:\n",
    "\n",
    "        self.name : str = name;\n",
    "\n",
    "        self.eyeColor : str = \"Blue\";\n",
    "\n",
    "class Father:\n",
    "\n",
    "    def __init__(self, name: str) -> None:\n",
    "\n",
    "        self.name : str = name;\n",
    "\n",
    "        self.height : str = \"7 Feet\";\n",
    "\n",
    "class Child(Mother, Father):\n",
    "\n",
    "    def __init__(self, motherName: str, fatherName: str ,childName: str) -> None:\n",
    "\n",
    "        Mother.__init__(self, motherName);\n",
    "\n",
    "        Father.__init__(self, fatherName);\n",
    "\n",
    "        self.childName : str = childName;\n",
    "\n",
    "    def speaking(self, words: str) -> str:\n",
    "\n",
    "        return f\"Imran Khan Speaking: {words}\";\n",
    "\n",
    "imran : Child = Child(\"Shaukat Khanum\", \"Ikramullah Khan\",\"Imran Khan\");\n",
    "\n",
    "print(f\"Imran Khan Height {imran.height}\");\n",
    "\n",
    "print(f\"Imran Khan Eye Color {imran.eyeColor}\");\n",
    "\n",
    "print(imran.speaking(\"Absolutely Not\"));"
   ]
  },
  {
   "cell_type": "code",
   "execution_count": 8,
   "metadata": {},
   "outputs": [
    {
     "name": "stdout",
     "output_type": "stream",
     "text": [
      "['childName', 'eyeColor', 'height', 'name', 'speaking']\n"
     ]
    }
   ],
   "source": [
    "print([i for i in dir(imran) if \"__\" not in i]);"
   ]
  },
  {
   "cell_type": "markdown",
   "metadata": {},
   "source": [
    "# **Overloading**"
   ]
  },
  {
   "cell_type": "code",
   "execution_count": 13,
   "metadata": {},
   "outputs": [
    {
     "name": "stdout",
     "output_type": "stream",
     "text": [
      "3\n",
      "5.0\n",
      "Hello World!\n"
     ]
    }
   ],
   "source": [
    "from typing import Union, overload;\n",
    "\n",
    "@overload\n",
    "def add(self, x: int, y: int) -> int:\n",
    "    ...\n",
    "\n",
    "@overload\n",
    "def add(self, x: float, y: float) -> float:\n",
    "    ...\n",
    "        \n",
    "@overload\n",
    "def add(self, x: str, y: str) -> str:\n",
    "    ...\n",
    "\n",
    "def add(x: Union[int, float, str], y: Union[int, float, str]) -> Union[int, float, str]:\n",
    "    if isinstance(x, int) and isinstance(y, int):\n",
    "        return x + y;\n",
    "    elif isinstance(x, float) and isinstance(y, float):\n",
    "        return x + y;\n",
    "    elif isinstance(x, str) and isinstance(y, str):\n",
    "        return x + y;\n",
    "    else:\n",
    "        raise TypeError(\"Invalid Argument Types!\");\n",
    "\n",
    "result1 = add(1, 2);\n",
    "\n",
    "result2 = add(2.5, 2.5);\n",
    "\n",
    "result3 = add(\"Hello\", \" World!\");\n",
    "\n",
    "print(result1);\n",
    "\n",
    "print(result2);\n",
    "\n",
    "print(result3);"
   ]
  },
  {
   "cell_type": "code",
   "execution_count": 14,
   "metadata": {},
   "outputs": [
    {
     "name": "stdout",
     "output_type": "stream",
     "text": [
      "4\n",
      "4\n",
      "Free Palestine!\n"
     ]
    }
   ],
   "source": [
    "from typing import Union, overload;\n",
    "\n",
    "class Adder:\n",
    "\n",
    "    @overload\n",
    "    def add(self, x: int, y: int) -> int:\n",
    "        ...\n",
    "\n",
    "    @overload\n",
    "    def add(self, x: float, y: float) -> float:\n",
    "        ...\n",
    "        \n",
    "    @overload\n",
    "    def add(self, x: str, y: str) -> str:\n",
    "        ...\n",
    "\n",
    "    def add(self, x: Union[int, float, str], y: Union[int, float, str]) -> Union[int, float, str]:\n",
    "        if isinstance(x, int) and isinstance(y, int):\n",
    "            return x + y;\n",
    "        elif isinstance(x, float) and isinstance(y, float):\n",
    "            return x + y;\n",
    "        elif isinstance(x, str) and isinstance(y, str):\n",
    "            return x + y;\n",
    "        else:\n",
    "            raise TypeError(\"Invalid Argument Types!\");\n",
    "\n",
    "adder: Adder = Adder();\n",
    "\n",
    "result1 = adder.add(2, 2);\n",
    "\n",
    "result2 = adder.add(2, 2);\n",
    "\n",
    "result3 = adder.add(\"Free\", \" Palestine!\");\n",
    "\n",
    "print(result1);\n",
    "\n",
    "print(result2);\n",
    "\n",
    "print(result3);"
   ]
  },
  {
   "cell_type": "markdown",
   "metadata": {},
   "source": [
    "# **2.Polymorphism**"
   ]
  },
  {
   "cell_type": "code",
   "execution_count": 16,
   "metadata": {},
   "outputs": [
    {
     "name": "stdout",
     "output_type": "stream",
     "text": [
      "Bird Is Eating Bread\n",
      "Animal Is Eating Grain\n"
     ]
    }
   ],
   "source": [
    "class Animal():\n",
    "\n",
    "    def eating(self, food: str ) -> None:\n",
    "\n",
    "        print(f\"Animal Is Eating {food}\");\n",
    "\n",
    "class Bird(Animal):\n",
    "\n",
    "    def eating(self, food: str) -> None:\n",
    "\n",
    "        print(f\"Bird Is Eating {food}\"); # OverRide\n",
    "\n",
    "bird : Bird = Bird();\n",
    "\n",
    "bird.eating(\"Bread\");\n",
    "\n",
    "animal : Animal = Animal();\n",
    "\n",
    "animal.eating(\"Grain\");"
   ]
  },
  {
   "cell_type": "code",
   "execution_count": 21,
   "metadata": {},
   "outputs": [
    {
     "name": "stdout",
     "output_type": "stream",
     "text": [
      "Bird Is Eating Seeds\n",
      "Animal Is Eating Seeds\n"
     ]
    }
   ],
   "source": [
    "animal2 : Animal = Bird(); # Object Will Decide Which Object Method It Will Be Run\n",
    "\n",
    "animal2.eating(\"Seeds\");\n",
    "\n",
    "bird2 : Bird = Animal(); # It's Called Polymorphism\n",
    "\n",
    "bird2.eating(\"Seeds\");"
   ]
  }
 ],
 "metadata": {
  "kernelspec": {
   "display_name": "base",
   "language": "python",
   "name": "python3"
  },
  "language_info": {
   "codemirror_mode": {
    "name": "ipython",
    "version": 3
   },
   "file_extension": ".py",
   "mimetype": "text/x-python",
   "name": "python",
   "nbconvert_exporter": "python",
   "pygments_lexer": "ipython3",
   "version": "3.11.5"
  }
 },
 "nbformat": 4,
 "nbformat_minor": 2
}
