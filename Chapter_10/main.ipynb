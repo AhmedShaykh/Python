{
 "cells": [
  {
   "cell_type": "markdown",
   "metadata": {},
   "source": [
    "# **OOP (Object Oriented Programming)**"
   ]
  },
  {
   "cell_type": "code",
   "execution_count": 70,
   "metadata": {},
   "outputs": [
    {
     "name": "stdout",
     "output_type": "stream",
     "text": [
      "Name: Sir Zia Khan, ID: 1 & Organiztion: PIAIC \n",
      "\n",
      "Name: Sir Qasim, ID: 2 & Organiztion: PIAIC\n"
     ]
    }
   ],
   "source": [
    "class Teacher:\n",
    "\n",
    "    def __init__(self, teacherId : int, teacherName : str) -> None: # Method / Constructor (__Init__)\n",
    "\n",
    "        self.name : str = teacherName; # Attribute\n",
    "\n",
    "        self.teacherId : int  = teacherId;\n",
    "\n",
    "        self.organizationName: str = \"PIAIC\";\n",
    "\n",
    "    def quarter(self, quarter : int ) -> None: # Method\n",
    "\n",
    "        print(f\"This Is Quarter {quarter}\");\n",
    "    \n",
    "    def teaching(self, subject : str ) -> None:\n",
    "\n",
    "        print(f\"{self.name} Is Teaching {subject}...!\");\n",
    "\n",
    "obj1 : Teacher = Teacher(1, \"Sir Zia Khan\");\n",
    "\n",
    "obj2 : Teacher = Teacher(2, \"Sir Qasim\");\n",
    "\n",
    "print(f\"Name: {obj1.name}, ID: {obj1.teacherId} & Organiztion: {obj1.organizationName} \\n\");\n",
    "\n",
    "print(f\"Name: {obj2.name}, ID: {obj2.teacherId} & Organiztion: {obj2.organizationName}\");"
   ]
  },
  {
   "cell_type": "code",
   "execution_count": 71,
   "metadata": {},
   "outputs": [
    {
     "name": "stdout",
     "output_type": "stream",
     "text": [
      "Sir Zia Khan Is Teaching BlockChain...!\n",
      "Sir Qasim Is Teaching Generative AI...!\n"
     ]
    }
   ],
   "source": [
    "obj1.teaching(\"BlockChain\")\n",
    "\n",
    "obj2.teaching(\"Generative AI\")"
   ]
  },
  {
   "cell_type": "code",
   "execution_count": 72,
   "metadata": {},
   "outputs": [
    {
     "data": {
      "text/plain": [
       "['__class__',\n",
       " '__delattr__',\n",
       " '__dict__',\n",
       " '__dir__',\n",
       " '__doc__',\n",
       " '__eq__',\n",
       " '__format__',\n",
       " '__ge__',\n",
       " '__getattribute__',\n",
       " '__getstate__',\n",
       " '__gt__',\n",
       " '__hash__',\n",
       " '__init__',\n",
       " '__init_subclass__',\n",
       " '__le__',\n",
       " '__lt__',\n",
       " '__module__',\n",
       " '__ne__',\n",
       " '__new__',\n",
       " '__reduce__',\n",
       " '__reduce_ex__',\n",
       " '__repr__',\n",
       " '__setattr__',\n",
       " '__sizeof__',\n",
       " '__str__',\n",
       " '__subclasshook__',\n",
       " '__weakref__',\n",
       " 'name',\n",
       " 'organizationName',\n",
       " 'quarter',\n",
       " 'teacherId',\n",
       " 'teaching']"
      ]
     },
     "execution_count": 72,
     "metadata": {},
     "output_type": "execute_result"
    }
   ],
   "source": [
    "dir(obj1)"
   ]
  },
  {
   "cell_type": "code",
   "execution_count": 73,
   "metadata": {},
   "outputs": [
    {
     "name": "stdout",
     "output_type": "stream",
     "text": [
      "Name: Sir Zia Khan, ID: 1 & Organiztion: PIAIC \n",
      "\n",
      "Name: Sir Qasim, ID: 2 & Organiztion: PIAIC \n",
      "\n",
      "Sir Zia Khan Is Teaching BlockChain...!\n",
      "Sir Qasim Is Teaching Generative AI...!\n"
     ]
    }
   ],
   "source": [
    "class Teacher:\n",
    "\n",
    "    def __init__(this, teacherId : int, teacherName : str) -> None:\n",
    "\n",
    "        this.name : str = teacherName;\n",
    "\n",
    "        this.teacherId : int  = teacherId;\n",
    "\n",
    "        this.organizationName: str = \"PIAIC\";\n",
    "\n",
    "    def quarter(this, quarter : int ) -> None:\n",
    "\n",
    "        print(f\"This Is Quarter {quarter}\");\n",
    "    \n",
    "    def teaching(this, subject : str ) -> None:\n",
    "\n",
    "        print(f\"{this.name} Is Teaching {subject}...!\");\n",
    "\n",
    "obj1 : Teacher = Teacher(1, \"Sir Zia Khan\");\n",
    "\n",
    "obj2 : Teacher = Teacher(2, \"Sir Qasim\");\n",
    "\n",
    "print(f\"Name: {obj1.name}, ID: {obj1.teacherId} & Organiztion: {obj1.organizationName} \\n\");\n",
    "\n",
    "print(f\"Name: {obj2.name}, ID: {obj2.teacherId} & Organiztion: {obj2.organizationName} \\n\");\n",
    "\n",
    "obj1.teaching(\"BlockChain\")\n",
    "\n",
    "obj2.teaching(\"Generative AI\")"
   ]
  },
  {
   "cell_type": "code",
   "execution_count": 74,
   "metadata": {},
   "outputs": [],
   "source": [
    "class Teacher:\n",
    "\n",
    "    counter : int = 0; # Variable\n",
    "\n",
    "    classTiming : str = \"8 PM\";\n",
    "\n",
    "    def __init__(self, teacherId : int, teacherName : str) -> None:\n",
    "\n",
    "        self.name : str = teacherName;\n",
    "\n",
    "        self.teacherId : int  = teacherId;\n",
    "\n",
    "        self.organizationName: str = \"PIAIC\";\n",
    "    \n",
    "        Teacher.counter += 1;\n",
    "\n",
    "    def quarter(self, quarter : int ) -> None:\n",
    "\n",
    "        print(f\"This Is Quarter {quarter}\");\n",
    "    \n",
    "    def teaching(self, subject : str ) -> None:\n",
    "\n",
    "        print(f\"{self.name} Is Teaching {subject}...!\");\n",
    "\n",
    "    def details(self) -> None:\n",
    "\n",
    "        information : str = f\"\"\"\n",
    "        Teacher Name Is {self.name}\n",
    "        Class Timing is {Teacher.classTiming}\n",
    "        \"\"\";\n",
    "        \n",
    "        print(information);"
   ]
  },
  {
   "cell_type": "code",
   "execution_count": 75,
   "metadata": {},
   "outputs": [
    {
     "name": "stdout",
     "output_type": "stream",
     "text": [
      "0\n",
      "1\n",
      "1\n",
      "1\n",
      "2\n",
      "2\n",
      "2\n"
     ]
    }
   ],
   "source": [
    "print(Teacher.counter);\n",
    "\n",
    "obj1 : Teacher = Teacher(1, \"Sir Zia Khan\"); # Create New Object Then Increase The Value Of Counter\n",
    "\n",
    "print(obj1.counter); # And Also Run The Object Increase The Value Of Counter\n",
    "\n",
    "print(obj1.counter);\n",
    "\n",
    "print(Teacher.counter);\n",
    "\n",
    "obj2 : Teacher = Teacher(2, \"Sir Qasim\");\n",
    "\n",
    "print(obj1.counter);\n",
    "\n",
    "print(obj2.counter);\n",
    "\n",
    "print(Teacher.counter);"
   ]
  },
  {
   "cell_type": "code",
   "execution_count": 76,
   "metadata": {},
   "outputs": [
    {
     "name": "stdout",
     "output_type": "stream",
     "text": [
      "\n",
      "        Teacher Name Is Sir Zia Khan\n",
      "        Class Timing is 8 PM\n",
      "        \n"
     ]
    }
   ],
   "source": [
    "obj1.details();"
   ]
  },
  {
   "cell_type": "code",
   "execution_count": 77,
   "metadata": {},
   "outputs": [
    {
     "name": "stdout",
     "output_type": "stream",
     "text": [
      "2549138146256\n"
     ]
    }
   ],
   "source": [
    "print(id(obj2));"
   ]
  }
 ],
 "metadata": {
  "kernelspec": {
   "display_name": "base",
   "language": "python",
   "name": "python3"
  },
  "language_info": {
   "codemirror_mode": {
    "name": "ipython",
    "version": 3
   },
   "file_extension": ".py",
   "mimetype": "text/x-python",
   "name": "python",
   "nbconvert_exporter": "python",
   "pygments_lexer": "ipython3",
   "version": "3.11.5"
  }
 },
 "nbformat": 4,
 "nbformat_minor": 2
}
