{
 "cells": [
  {
   "cell_type": "markdown",
   "metadata": {},
   "source": [
    "# **OOP (Object Oriented Programming)**"
   ]
  },
  {
   "cell_type": "code",
   "execution_count": 70,
   "metadata": {},
   "outputs": [
    {
     "name": "stdout",
     "output_type": "stream",
     "text": [
      "Name: Sir Zia Khan, ID: 1 & Organiztion: PIAIC \n",
      "\n",
      "Name: Sir Qasim, ID: 2 & Organiztion: PIAIC\n"
     ]
    }
   ],
   "source": [
    "class Teacher:\n",
    "\n",
    "    def __init__(self, teacherId : int, teacherName : str) -> None: # Method / Constructor (__Init__)\n",
    "\n",
    "        self.name : str = teacherName; # Attribute\n",
    "\n",
    "        self.teacherId : int  = teacherId;\n",
    "\n",
    "        self.organizationName: str = \"PIAIC\";\n",
    "\n",
    "    def quarter(self, quarter : int ) -> None: # Method\n",
    "\n",
    "        print(f\"This Is Quarter {quarter}\");\n",
    "    \n",
    "    def teaching(self, subject : str ) -> None:\n",
    "\n",
    "        print(f\"{self.name} Is Teaching {subject}...!\");\n",
    "\n",
    "obj1 : Teacher = Teacher(1, \"Sir Zia Khan\");\n",
    "\n",
    "obj2 : Teacher = Teacher(2, \"Sir Qasim\");\n",
    "\n",
    "print(f\"Name: {obj1.name}, ID: {obj1.teacherId} & Organiztion: {obj1.organizationName} \\n\");\n",
    "\n",
    "print(f\"Name: {obj2.name}, ID: {obj2.teacherId} & Organiztion: {obj2.organizationName}\");"
   ]
  },
  {
   "cell_type": "code",
   "execution_count": 71,
   "metadata": {},
   "outputs": [
    {
     "name": "stdout",
     "output_type": "stream",
     "text": [
      "Sir Zia Khan Is Teaching BlockChain...!\n",
      "Sir Qasim Is Teaching Generative AI...!\n"
     ]
    }
   ],
   "source": [
    "obj1.teaching(\"BlockChain\")\n",
    "\n",
    "obj2.teaching(\"Generative AI\")"
   ]
  },
  {
   "cell_type": "code",
   "execution_count": 72,
   "metadata": {},
   "outputs": [
    {
     "data": {
      "text/plain": [
       "['__class__',\n",
       " '__delattr__',\n",
       " '__dict__',\n",
       " '__dir__',\n",
       " '__doc__',\n",
       " '__eq__',\n",
       " '__format__',\n",
       " '__ge__',\n",
       " '__getattribute__',\n",
       " '__getstate__',\n",
       " '__gt__',\n",
       " '__hash__',\n",
       " '__init__',\n",
       " '__init_subclass__',\n",
       " '__le__',\n",
       " '__lt__',\n",
       " '__module__',\n",
       " '__ne__',\n",
       " '__new__',\n",
       " '__reduce__',\n",
       " '__reduce_ex__',\n",
       " '__repr__',\n",
       " '__setattr__',\n",
       " '__sizeof__',\n",
       " '__str__',\n",
       " '__subclasshook__',\n",
       " '__weakref__',\n",
       " 'name',\n",
       " 'organizationName',\n",
       " 'quarter',\n",
       " 'teacherId',\n",
       " 'teaching']"
      ]
     },
     "execution_count": 72,
     "metadata": {},
     "output_type": "execute_result"
    }
   ],
   "source": [
    "dir(obj1)"
   ]
  },
  {
   "cell_type": "code",
   "execution_count": 73,
   "metadata": {},
   "outputs": [
    {
     "name": "stdout",
     "output_type": "stream",
     "text": [
      "Name: Sir Zia Khan, ID: 1 & Organiztion: PIAIC \n",
      "\n",
      "Name: Sir Qasim, ID: 2 & Organiztion: PIAIC \n",
      "\n",
      "Sir Zia Khan Is Teaching BlockChain...!\n",
      "Sir Qasim Is Teaching Generative AI...!\n"
     ]
    }
   ],
   "source": [
    "class Teacher:\n",
    "\n",
    "    def __init__(this, teacherId : int, teacherName : str) -> None:\n",
    "\n",
    "        this.name : str = teacherName;\n",
    "\n",
    "        this.teacherId : int  = teacherId;\n",
    "\n",
    "        this.organizationName: str = \"PIAIC\";\n",
    "\n",
    "    def quarter(this, quarter : int ) -> None:\n",
    "\n",
    "        print(f\"This Is Quarter {quarter}\");\n",
    "    \n",
    "    def teaching(this, subject : str ) -> None:\n",
    "\n",
    "        print(f\"{this.name} Is Teaching {subject}...!\");\n",
    "\n",
    "obj1 : Teacher = Teacher(1, \"Sir Zia Khan\");\n",
    "\n",
    "obj2 : Teacher = Teacher(2, \"Sir Qasim\");\n",
    "\n",
    "print(f\"Name: {obj1.name}, ID: {obj1.teacherId} & Organiztion: {obj1.organizationName} \\n\");\n",
    "\n",
    "print(f\"Name: {obj2.name}, ID: {obj2.teacherId} & Organiztion: {obj2.organizationName} \\n\");\n",
    "\n",
    "obj1.teaching(\"BlockChain\")\n",
    "\n",
    "obj2.teaching(\"Generative AI\")"
   ]
  },
  {
   "cell_type": "code",
   "execution_count": 74,
   "metadata": {},
   "outputs": [],
   "source": [
    "class Teacher:\n",
    "\n",
    "    counter : int = 0; # Variable\n",
    "\n",
    "    classTiming : str = \"8 PM\";\n",
    "\n",
    "    def __init__(self, teacherId : int, teacherName : str) -> None:\n",
    "\n",
    "        self.name : str = teacherName;\n",
    "\n",
    "        self.teacherId : int  = teacherId;\n",
    "\n",
    "        self.organizationName: str = \"PIAIC\";\n",
    "    \n",
    "        Teacher.counter += 1;\n",
    "\n",
    "    def quarter(self, quarter : int ) -> None:\n",
    "\n",
    "        print(f\"This Is Quarter {quarter}\");\n",
    "    \n",
    "    def teaching(self, subject : str ) -> None:\n",
    "\n",
    "        print(f\"{self.name} Is Teaching {subject}...!\");\n",
    "\n",
    "    def details(self) -> None:\n",
    "\n",
    "        information : str = f\"\"\"\n",
    "        Teacher Name Is {self.name}\n",
    "        Class Timing is {Teacher.classTiming}\n",
    "        \"\"\";\n",
    "        \n",
    "        print(information);"
   ]
  },
  {
   "cell_type": "code",
   "execution_count": 75,
   "metadata": {},
   "outputs": [
    {
     "name": "stdout",
     "output_type": "stream",
     "text": [
      "0\n",
      "1\n",
      "1\n",
      "1\n",
      "2\n",
      "2\n",
      "2\n"
     ]
    }
   ],
   "source": [
    "print(Teacher.counter);\n",
    "\n",
    "obj1 : Teacher = Teacher(1, \"Sir Zia Khan\"); # Create New Object Then Increase The Value Of Counter\n",
    "\n",
    "print(obj1.counter); # And Also Run The Object Increase The Value Of Counter\n",
    "\n",
    "print(obj1.counter);\n",
    "\n",
    "print(Teacher.counter);\n",
    "\n",
    "obj2 : Teacher = Teacher(2, \"Sir Qasim\");\n",
    "\n",
    "print(obj1.counter);\n",
    "\n",
    "print(obj2.counter);\n",
    "\n",
    "print(Teacher.counter);"
   ]
  },
  {
   "cell_type": "code",
   "execution_count": 76,
   "metadata": {},
   "outputs": [
    {
     "name": "stdout",
     "output_type": "stream",
     "text": [
      "\n",
      "        Teacher Name Is Sir Zia Khan\n",
      "        Class Timing is 8 PM\n",
      "        \n"
     ]
    }
   ],
   "source": [
    "obj1.details();"
   ]
  },
  {
   "cell_type": "code",
   "execution_count": 78,
   "metadata": {},
   "outputs": [
    {
     "name": "stdout",
     "output_type": "stream",
     "text": [
      "2549138146256\n"
     ]
    }
   ],
   "source": [
    "print(id(obj2));"
   ]
  },
  {
   "cell_type": "markdown",
   "metadata": {},
   "source": [
    "# **1. Inheritance**"
   ]
  },
  {
   "cell_type": "code",
   "execution_count": 83,
   "metadata": {},
   "outputs": [
    {
     "name": "stdout",
     "output_type": "stream",
     "text": [
      "Brown\n",
      "Black\n",
      "Parent Method Speak: Pakistan Zindabad\n",
      "You Are Looking TV \n",
      "\n",
      "Parent Method Speak: Free Palestine\n",
      "You Are Looking Youtube\n",
      "Brown\n",
      "Black\n"
     ]
    }
   ],
   "source": [
    "class Parents():\n",
    "\n",
    "    def __init__(self) -> None:\n",
    "\n",
    "        self.eyeColor : str = \"Brown\";\n",
    "\n",
    "        self.hairColor : str = \"Black\";\n",
    "\n",
    "    def speak(self, words: str) -> None:\n",
    "\n",
    "        print(f\"Parent Method Speak: {words}\");\n",
    "\n",
    "    def watching(sef, objectName : str) -> None:\n",
    "\n",
    "        print(f\"You Are Looking {objectName}\");\n",
    "\n",
    "class Child(Parents):\n",
    "\n",
    "    pass;\n",
    "\n",
    "obj1 : Parents = Parents();\n",
    "\n",
    "print(obj1.eyeColor);\n",
    "\n",
    "print(obj1.hairColor);\n",
    "\n",
    "obj1.speak(\"Pakistan Zindabad\");\n",
    "\n",
    "obj1.watching(\"TV \\n\");\n",
    "\n",
    "obj2 : Child = Child();\n",
    "\n",
    "obj2.speak(\"Free Palestine\");\n",
    "\n",
    "obj2.watching(\"Youtube\");\n",
    "\n",
    "print(obj2.eyeColor);\n",
    "\n",
    "print(obj2.hairColor);"
   ]
  },
  {
   "cell_type": "code",
   "execution_count": 84,
   "metadata": {},
   "outputs": [
    {
     "name": "stdout",
     "output_type": "stream",
     "text": [
      "Brown\n",
      "Black\n",
      "Parent Method Speak: Pakistan Zindabad\n",
      "You Are Looking TV \n",
      "\n",
      "Parent Method Speak: Free Palestine\n",
      "You Are Looking Youtube\n",
      "Brown\n",
      "Black\n",
      "I Love EDM\n"
     ]
    }
   ],
   "source": [
    "class Parents():\n",
    "\n",
    "    def __init__(self) -> None:\n",
    "\n",
    "        self.eyeColor : str = \"Brown\";\n",
    "\n",
    "        self.hairColor : str = \"Black\";\n",
    "\n",
    "    def speak(self, words: str) -> None:\n",
    "\n",
    "        print(f\"Parent Method Speak: {words}\");\n",
    "\n",
    "    def watching(sef, objectName : str) -> None:\n",
    "\n",
    "        print(f\"You Are Looking {objectName}\");\n",
    "\n",
    "class Child(Parents):\n",
    "\n",
    "    def music(self, genre : str) -> None:\n",
    "\n",
    "        print(f\"I Love {genre}\");\n",
    "\n",
    "obj1 : Parents = Parents();\n",
    "\n",
    "print(obj1.eyeColor);\n",
    "\n",
    "print(obj1.hairColor);\n",
    "\n",
    "obj1.speak(\"Pakistan Zindabad\");\n",
    "\n",
    "obj1.watching(\"TV \\n\");\n",
    "\n",
    "obj2 : Child = Child();\n",
    "\n",
    "obj2.speak(\"Free Palestine\");\n",
    "\n",
    "obj2.watching(\"Youtube\");\n",
    "\n",
    "print(obj2.eyeColor);\n",
    "\n",
    "print(obj2.hairColor);\n",
    "\n",
    "obj2.music(\"EDM\");"
   ]
  },
  {
   "cell_type": "code",
   "execution_count": 87,
   "metadata": {},
   "outputs": [
    {
     "name": "stdout",
     "output_type": "stream",
     "text": [
      "Ahsan\n",
      "Animation Artist\n",
      "Gen AI Engineer\n",
      "['JavaScript', 'TypeScript', 'Python']\n"
     ]
    }
   ],
   "source": [
    "from typing import List;\n",
    "\n",
    "class Employee():\n",
    "\n",
    "    def __init__(self, name : str) -> None:\n",
    "\n",
    "        self.name : str = name;\n",
    "\n",
    "class Designer(Employee):\n",
    "    \n",
    "    def __init__(self, title : str, name: str) -> None:\n",
    "\n",
    "        super().__init__(name);\n",
    "\n",
    "        self.title : str = title;\n",
    "\n",
    "class Developer(Employee):\n",
    "\n",
    "    def __init__(self, title : str, name: str) -> None:\n",
    "\n",
    "        super().__init__(name);\n",
    "\n",
    "        self.title: str = title;\n",
    "        \n",
    "        self.programming_skills : List[str] = [\"JavaScript\", \"TypeScript\", \"Python\"];\n",
    "\n",
    "design: Designer = Designer(\"Animation Artist\", \"Ahsan\");\n",
    "\n",
    "dev: Developer = Developer(\"Gen AI Engineer\", \"Ahmed\");\n",
    "\n",
    "print(design.name);\n",
    "\n",
    "print(design.title);\n",
    "\n",
    "print(dev.title);\n",
    "\n",
    "print(dev.programming_skills);"
   ]
  }
 ],
 "metadata": {
  "kernelspec": {
   "display_name": "base",
   "language": "python",
   "name": "python3"
  },
  "language_info": {
   "codemirror_mode": {
    "name": "ipython",
    "version": 3
   },
   "file_extension": ".py",
   "mimetype": "text/x-python",
   "name": "python",
   "nbconvert_exporter": "python",
   "pygments_lexer": "ipython3",
   "version": "3.11.5"
  }
 },
 "nbformat": 4,
 "nbformat_minor": 2
}
