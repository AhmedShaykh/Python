{
  "cells": [
    {
      "cell_type": "markdown",
      "metadata": {
        "id": "4Ek2fEja-ULY"
      },
      "source": [
        "# **IF ELSE**"
      ]
    },
    {
      "cell_type": "code",
      "execution_count": 87,
      "metadata": {
        "colab": {
          "base_uri": "https://localhost:8080/"
        },
        "id": "jO1CgkZn-ULc",
        "outputId": "89ba0faf-ca60-4385-ab12-328670a13394"
      },
      "outputs": [
        {
          "output_type": "stream",
          "name": "stdout",
          "text": [
            "Pakistan Zindabad\n"
          ]
        }
      ],
      "source": [
        "if True:\n",
        "\n",
        "    print(\"Pakistan Zindabad\");\n",
        "\n",
        "else:\n",
        "\n",
        "    print(\"Hello World!\");"
      ]
    },
    {
      "cell_type": "code",
      "execution_count": 88,
      "metadata": {
        "colab": {
          "base_uri": "https://localhost:8080/"
        },
        "id": "vFtqt7LJ-ULg",
        "outputId": "2681f3ef-06c5-4aea-9ff7-e32554193d14"
      },
      "outputs": [
        {
          "output_type": "stream",
          "name": "stdout",
          "text": [
            "Hello World!\n"
          ]
        }
      ],
      "source": [
        "if False:\n",
        "\n",
        "    print(\"Pakistan Zindabad\");\n",
        "\n",
        "else:\n",
        "\n",
        "    print(\"Hello World!\");"
      ]
    },
    {
      "cell_type": "code",
      "execution_count": 89,
      "metadata": {
        "colab": {
          "base_uri": "https://localhost:8080/"
        },
        "id": "pXyfA1UC-ULh",
        "outputId": "12a6f228-7f50-4c53-e69b-5d4c8b6e7724"
      },
      "outputs": [
        {
          "output_type": "stream",
          "name": "stdout",
          "text": [
            "Pakistan Zindabad\n"
          ]
        }
      ],
      "source": [
        "print(\"Hello World!\") if False else print(\"Pakistan Zindabad\");"
      ]
    },
    {
      "cell_type": "markdown",
      "metadata": {
        "id": "ymzG8o-R-ULi"
      },
      "source": [
        "# **IF ELIF ELSE**"
      ]
    },
    {
      "cell_type": "code",
      "execution_count": 90,
      "metadata": {
        "colab": {
          "base_uri": "https://localhost:8080/"
        },
        "id": "Bkt8M3uO-ULj",
        "outputId": "623eddd1-feca-4d34-f1c3-8f765218f5e4"
      },
      "outputs": [
        {
          "output_type": "stream",
          "name": "stdout",
          "text": [
            "True\n",
            "1\n",
            "2\n"
          ]
        }
      ],
      "source": [
        "if True:\n",
        "\n",
        "    print(\"True\");\n",
        "\n",
        "print(\"1\");\n",
        "\n",
        "print(\"2\");"
      ]
    },
    {
      "cell_type": "code",
      "execution_count": 91,
      "metadata": {
        "colab": {
          "base_uri": "https://localhost:8080/"
        },
        "id": "KGBtBhQB-ULm",
        "outputId": "2161c455-943b-4f5e-a99e-9cad2d09657f"
      },
      "outputs": [
        {
          "output_type": "stream",
          "name": "stdout",
          "text": [
            "1\n",
            "2\n"
          ]
        }
      ],
      "source": [
        "if False:\n",
        "\n",
        "    print(\"True\");\n",
        "\n",
        "print(\"1\");\n",
        "\n",
        "print(\"2\");"
      ]
    },
    {
      "cell_type": "code",
      "execution_count": 92,
      "metadata": {
        "colab": {
          "base_uri": "https://localhost:8080/"
        },
        "id": "C2TXhSMU-ULn",
        "outputId": "d1d1e621-c97a-49c9-9fde-003745455fd7"
      },
      "outputs": [
        {
          "output_type": "stream",
          "name": "stdout",
          "text": [
            "True Block\n"
          ]
        }
      ],
      "source": [
        "if True:\n",
        "\n",
        "    print(\"True Block\");\n",
        "\n",
        "elif False:\n",
        "\n",
        "    print(\"Elif Logic 1\");\n",
        "\n",
        "elif False:\n",
        "\n",
        "    print(\"Elif Logic 2\");\n",
        "\n",
        "elif False:\n",
        "\n",
        "    print(\"Elif Logic 3\");\n",
        "\n",
        "else:\n",
        "\n",
        "    print(\"Final Else Block\");"
      ]
    },
    {
      "cell_type": "code",
      "execution_count": 93,
      "metadata": {
        "colab": {
          "base_uri": "https://localhost:8080/"
        },
        "id": "SM2H0lDo-ULo",
        "outputId": "8a6e4dcf-2e61-4a59-c4d7-28ffa14a26b5"
      },
      "outputs": [
        {
          "output_type": "stream",
          "name": "stdout",
          "text": [
            "Elif Logic 1\n"
          ]
        }
      ],
      "source": [
        "if False:\n",
        "\n",
        "    print(\"True Block\");\n",
        "\n",
        "elif True:\n",
        "\n",
        "    print(\"Elif Logic 1\");\n",
        "\n",
        "elif False:\n",
        "\n",
        "    print(\"Elif Logic 2\");\n",
        "\n",
        "elif False:\n",
        "\n",
        "    print(\"Elif Logic 3\");\n",
        "\n",
        "else:\n",
        "\n",
        "    print(\"Final Else Block\");"
      ]
    },
    {
      "cell_type": "code",
      "execution_count": 94,
      "metadata": {
        "colab": {
          "base_uri": "https://localhost:8080/"
        },
        "id": "uYxeMjRs-ULq",
        "outputId": "eb99338b-b70a-470e-d131-a175f492d686"
      },
      "outputs": [
        {
          "output_type": "stream",
          "name": "stdout",
          "text": [
            "Elif Logic 2\n"
          ]
        }
      ],
      "source": [
        "if False:\n",
        "\n",
        "    print(\"True Block\");\n",
        "\n",
        "elif False:\n",
        "\n",
        "    print(\"Elif Logic 1\");\n",
        "\n",
        "elif True:\n",
        "\n",
        "    print(\"Elif Logic 2\");\n",
        "\n",
        "elif True:\n",
        "\n",
        "    print(\"Elif Logic 3\");\n",
        "\n",
        "else:\n",
        "\n",
        "    print(\"Final Else Block\");"
      ]
    },
    {
      "cell_type": "code",
      "execution_count": 95,
      "metadata": {
        "colab": {
          "base_uri": "https://localhost:8080/"
        },
        "id": "TphJJigF-ULr",
        "outputId": "1564033b-75b9-463f-95fe-f9907810856f"
      },
      "outputs": [
        {
          "output_type": "stream",
          "name": "stdout",
          "text": [
            "Final Else Block\n",
            "Learning Python 3.12\n"
          ]
        }
      ],
      "source": [
        "if False:\n",
        "\n",
        "    print(\"True Block\");\n",
        "\n",
        "elif False:\n",
        "\n",
        "    print(\"Elif Logic 1\");\n",
        "\n",
        "elif False:\n",
        "\n",
        "    print(\"Elif Logic 2\");\n",
        "\n",
        "elif False:\n",
        "\n",
        "    print(\"Elif Logic 3\");\n",
        "\n",
        "else:\n",
        "\n",
        "    print(\"Final Else Block\");\n",
        "\n",
        "print(\"Learning Python 3.12\");"
      ]
    },
    {
      "cell_type": "code",
      "execution_count": 96,
      "metadata": {
        "colab": {
          "base_uri": "https://localhost:8080/"
        },
        "id": "lrYiKOte-ULs",
        "outputId": "7f19906d-e7eb-4c60-b3f7-603201817bde"
      },
      "outputs": [
        {
          "output_type": "stream",
          "name": "stdout",
          "text": [
            "Learning Python 3.12\n"
          ]
        }
      ],
      "source": [
        "if False:\n",
        "\n",
        "    print(\"True Block\");\n",
        "\n",
        "elif False:\n",
        "\n",
        "    print(\"Elif Logic 1\");\n",
        "\n",
        "elif False:\n",
        "\n",
        "    print(\"Elif Logic 2\");\n",
        "\n",
        "elif False:\n",
        "\n",
        "    print(\"Elif Logic 3\");\n",
        "\n",
        "print(\"Learning Python 3.12\");"
      ]
    },
    {
      "cell_type": "markdown",
      "metadata": {
        "id": "KDsH0VtK-ULt"
      },
      "source": [
        "# **Grading Rule**\n",
        "\n",
        "https://www.infoworld.com/article/3630372/get-started-with-python-type-hints.html"
      ]
    },
    {
      "cell_type": "code",
      "execution_count": 97,
      "metadata": {
        "colab": {
          "base_uri": "https://localhost:8080/"
        },
        "id": "ficbPTAy-ULu",
        "outputId": "62a93267-7a1c-48d7-ee7f-d1046a9abed3"
      },
      "outputs": [
        {
          "output_type": "stream",
          "name": "stdout",
          "text": [
            "Dear Student Your Percentage Is 88 Now Your Calculated Grade Is: A+\n"
          ]
        }
      ],
      "source": [
        "from typing import Union;\n",
        "\n",
        "per : Union[int, float] = 88;\n",
        "\n",
        "grade :Union[str, None] = None;\n",
        "\n",
        "if per >= 80:\n",
        "    grade = \"A+\";\n",
        "elif per >= 70:\n",
        "    grade = \"A\";\n",
        "elif per >= 60:\n",
        "    grade = \"B\";\n",
        "elif per >= 50:\n",
        "    grade = \"C\";\n",
        "elif per >= 40:\n",
        "    grade = \"D\";\n",
        "elif per >= 33:\n",
        "    grade = \"E\";\n",
        "else:\n",
        "    grade = \"Fail\";\n",
        "\n",
        "print(f\"Dear Student Your Percentage Is {per} Now Your Calculated Grade Is: {grade}\");"
      ]
    },
    {
      "cell_type": "code",
      "execution_count": 98,
      "metadata": {
        "colab": {
          "base_uri": "https://localhost:8080/"
        },
        "id": "DBbO_haw-ULv",
        "outputId": "4025ac8e-08e6-43ae-e8e8-09f1cc3f7a1e"
      },
      "outputs": [
        {
          "output_type": "stream",
          "name": "stdout",
          "text": [
            "Enter Your Percentage: 80\n",
            "Dear Student Your Percentage Is 80 Now Your Calculated Grade Is: A+\n"
          ]
        }
      ],
      "source": [
        "from typing import Union;\n",
        "\n",
        "per : Union[int, float] = int(input(\"Enter Your Percentage: \"));\n",
        "\n",
        "grade :Union[str, None] = None;\n",
        "\n",
        "if per >= 80:\n",
        "    grade = \"A+\";\n",
        "elif per >= 70:\n",
        "    grade = \"A\";\n",
        "elif per >= 60:\n",
        "    grade = \"B\";\n",
        "elif per >= 50:\n",
        "    grade = \"C\";\n",
        "elif per >= 40:\n",
        "    grade = \"D\";\n",
        "elif per >= 33:\n",
        "    grade = \"E\";\n",
        "else:\n",
        "    grade = \"Fail\";\n",
        "\n",
        "print(f\"Dear Student Your Percentage Is {per} Now Your Calculated Grade Is: {grade}\");"
      ]
    },
    {
      "cell_type": "code",
      "execution_count": 99,
      "metadata": {
        "colab": {
          "base_uri": "https://localhost:8080/"
        },
        "id": "ScKIpNiW-ULw",
        "outputId": "94324a29-9241-4119-9534-0d735a89ee06"
      },
      "outputs": [
        {
          "output_type": "stream",
          "name": "stdout",
          "text": [
            "Dear Student Your Percentage Is 32 Now Your Calculated Grade Is: Fail\n"
          ]
        }
      ],
      "source": [
        "from typing import Union, Optional;\n",
        "\n",
        "per : Union[int, float] = 32;\n",
        "\n",
        "grade :Optional[str] = None; # Optional Default Is None\n",
        "\n",
        "if per >= 80:\n",
        "    grade = \"A+\";\n",
        "elif per >= 70:\n",
        "    grade = \"A\";\n",
        "elif per >= 60:\n",
        "    grade = \"B\";\n",
        "elif per >= 50:\n",
        "    grade = \"C\";\n",
        "elif per >= 40:\n",
        "    grade = \"D\";\n",
        "elif per >= 33:\n",
        "    grade = \"E\";\n",
        "else:\n",
        "    grade = \"Fail\";\n",
        "\n",
        "print(f\"Dear Student Your Percentage Is {per} Now Your Calculated Grade Is: {grade}\");"
      ]
    },
    {
      "cell_type": "markdown",
      "metadata": {
        "id": "vJ1wO4DU-ULw"
      },
      "source": [
        "# **Logical Error**"
      ]
    },
    {
      "cell_type": "code",
      "execution_count": 100,
      "metadata": {
        "colab": {
          "base_uri": "https://localhost:8080/"
        },
        "id": "lR6qilEP-ULx",
        "outputId": "b3f2c55a-11c8-41a4-9802-e49441177619"
      },
      "outputs": [
        {
          "output_type": "stream",
          "name": "stdout",
          "text": [
            "Enter Your Percentage: 75\n",
            "Dear Student Your Percentage Is 75 Now Your Calculated Grade Is: Fail\n"
          ]
        }
      ],
      "source": [
        "from typing import Union;\n",
        "\n",
        "per : Union[int, float] = int(input(\"Enter Your Percentage: \"));\n",
        "\n",
        "grade :Union[str, None] = None;\n",
        "\n",
        "if per >= 0:\n",
        "    grade = \"Fail\";\n",
        "elif per >= 33:\n",
        "    grade = \"E\";\n",
        "elif per >= 40:\n",
        "    grade = \"D\";\n",
        "elif per >= 50:\n",
        "    grade = \"C\";\n",
        "elif per >= 60:\n",
        "    grade = \"B\";\n",
        "elif per >= 70:\n",
        "    grade = \"A\";\n",
        "else:\n",
        "    grade = \"A+\";\n",
        "\n",
        "print(f\"Dear Student Your Percentage Is {per} Now Your Calculated Grade Is: {grade}\");"
      ]
    },
    {
      "cell_type": "code",
      "execution_count": 101,
      "metadata": {
        "colab": {
          "base_uri": "https://localhost:8080/"
        },
        "id": "Z2rKni_T-ULy",
        "outputId": "307ff3af-3e62-42c6-94ff-7f7c16aef641"
      },
      "outputs": [
        {
          "output_type": "stream",
          "name": "stdout",
          "text": [
            "Enter Your Percentage: 86\n",
            "Dear Student Your Percentage Is 86 Now Your Calculated Grade Is: A+\n"
          ]
        }
      ],
      "source": [
        "from typing import Union;\n",
        "\n",
        "per : Union[int, float] = int(input(\"Enter Your Percentage: \"));\n",
        "\n",
        "grade :Union[str, None] = None;\n",
        "\n",
        "if per >= 0 and per < 33:\n",
        "    grade = \"Fail\";\n",
        "    print(f\"Dear Student Your Percentage Is {per} Now Your Calculated Grade Is: {grade}\");\n",
        "elif per >= 33 and per < 40:\n",
        "    grade = \"E\";\n",
        "    print(f\"Dear Student Your Percentage Is {per} Now Your Calculated Grade Is: {grade}\");\n",
        "elif per >= 40 and per < 50:\n",
        "    grade = \"D\";\n",
        "    print(f\"Dear Student Your Percentage Is {per} Now Your Calculated Grade Is: {grade}\");\n",
        "elif per >= 50 and per < 60:\n",
        "    grade = \"C\";\n",
        "    print(f\"Dear Student Your Percentage Is {per} Now Your Calculated Grade Is: {grade}\");\n",
        "elif per >= 60 and per < 70 :\n",
        "    grade = \"B\";\n",
        "    print(f\"Dear Student Your Percentage Is {per} Now Your Calculated Grade Is: {grade}\");\n",
        "elif per >= 70 and per < 80 :\n",
        "    grade = \"A\";\n",
        "    print(f\"Dear Student Your Percentage Is {per} Now Your Calculated Grade Is: {grade}\");\n",
        "elif per >=80 and per < 100:\n",
        "    grade = \"A+\";\n",
        "    print(f\"Dear Student Your Percentage Is {per} Now Your Calculated Grade Is: {grade}\");\n",
        "else:\n",
        "    print(\"Error 404\");"
      ]
    },
    {
      "cell_type": "code",
      "execution_count": 102,
      "metadata": {
        "colab": {
          "base_uri": "https://localhost:8080/"
        },
        "id": "eUoZKEsA-ULy",
        "outputId": "109104fa-45aa-4b87-f445-ce014c9a77af"
      },
      "outputs": [
        {
          "output_type": "stream",
          "name": "stdout",
          "text": [
            "Enter Your Percentage: 89\n",
            "Dear Student Your Percentage Is 89.0 Now Your Calculated Grade Is: A+\n"
          ]
        }
      ],
      "source": [
        "from typing import Union;\n",
        "\n",
        "per : Union[int, float] = float(input(\"Enter Your Percentage: \"));\n",
        "\n",
        "grade :Union[str, None] = None;\n",
        "\n",
        "if (per >= 0) and (per < 33):\n",
        "    grade = \"Fail\";\n",
        "    print(f\"Dear Student Your Percentage Is {per} Now Your Calculated Grade Is: {grade}\");\n",
        "elif (per >= 33) and (per < 40):\n",
        "    grade = \"E\";\n",
        "    print(f\"Dear Student Your Percentage Is {per} Now Your Calculated Grade Is: {grade}\");\n",
        "elif (per >= 40) and (per < 50):\n",
        "    grade = \"D\";\n",
        "    print(f\"Dear Student Your Percentage Is {per} Now Your Calculated Grade Is: {grade}\");\n",
        "elif (per >= 50) and (per < 60):\n",
        "    grade = \"C\";\n",
        "    print(f\"Dear Student Your Percentage Is {per} Now Your Calculated Grade Is: {grade}\");\n",
        "elif (per >= 60) and (per < 70) :\n",
        "    grade = \"B\";\n",
        "    print(f\"Dear Student Your Percentage Is {per} Now Your Calculated Grade Is: {grade}\");\n",
        "elif (per >= 70) and (per < 80) :\n",
        "    grade = \"A\";\n",
        "    print(f\"Dear Student Your Percentage Is {per} Now Your Calculated Grade Is: {grade}\");\n",
        "elif (per >=80 )and (per < 100):\n",
        "    grade = \"A+\";\n",
        "    print(f\"Dear Student Your Percentage Is {per} Now Your Calculated Grade Is: {grade}\");\n",
        "else:\n",
        "    print(\"Error 404\");"
      ]
    },
    {
      "cell_type": "markdown",
      "metadata": {
        "id": "eOZsno_r-ULz"
      },
      "source": [
        "# **Type Alias**\n",
        "\n",
        "https://peps.python.org/pep-0484/#type-aliases"
      ]
    },
    {
      "cell_type": "code",
      "execution_count": 103,
      "metadata": {
        "colab": {
          "base_uri": "https://localhost:8080/"
        },
        "id": "isd-jCVw-UL0",
        "outputId": "6b107032-291d-4e0f-e3cb-b8e3beb07270"
      },
      "outputs": [
        {
          "output_type": "stream",
          "name": "stdout",
          "text": [
            "[88, 99.9, 50, 51, 65, 70]\n",
            "['A+', 'A+', 'C', 'C', 'B', 'A']\n"
          ]
        }
      ],
      "source": [
        "from typing import Union;\n",
        "\n",
        "PerType = Union[float, int];\n",
        "\n",
        "percentages : list[PerType] = [88, 99.9, 50, 51, 65, 70];\n",
        "\n",
        "grades : list[str] = [];\n",
        "\n",
        "for per in percentages:\n",
        "\n",
        "    grade : str = \"\";\n",
        "\n",
        "    if (per >= 0) and (per < 33):\n",
        "        grade = \"Fail\";\n",
        "    elif (per >= 33) and (per < 40):\n",
        "        grade = \"E\";\n",
        "    elif (per >= 40) and (per < 50):\n",
        "        grade = \"D\";\n",
        "    elif (per >= 50) and (per < 60):\n",
        "        grade = \"C\";\n",
        "    elif (per >= 60) and (per <70) :\n",
        "        grade = \"B\";\n",
        "    elif (per >= 70) and (per <80) :\n",
        "        grade = \"A\";\n",
        "    elif (per >=80) and (per <= 100):\n",
        "        grade = \"A+\";\n",
        "\n",
        "    grades.append(grade);\n",
        "\n",
        "print(percentages);\n",
        "\n",
        "print(grades);"
      ]
    },
    {
      "cell_type": "code",
      "execution_count": 109,
      "metadata": {
        "colab": {
          "base_uri": "https://localhost:8080/"
        },
        "id": "uxd9SNey-UL1",
        "outputId": "d2b80f49-f3cc-4c0e-aae5-3d971f42bf27"
      },
      "outputs": [
        {
          "output_type": "stream",
          "name": "stdout",
          "text": [
            "<zip object at 0x7a4d2ab1f700>\n"
          ]
        }
      ],
      "source": [
        "print(zip(percentages, grades));"
      ]
    },
    {
      "cell_type": "code",
      "execution_count": 110,
      "metadata": {
        "colab": {
          "base_uri": "https://localhost:8080/"
        },
        "id": "xISRqLZo-UL2",
        "outputId": "0af41359-fc0f-473e-95ee-06bd88f9930c"
      },
      "outputs": [
        {
          "output_type": "stream",
          "name": "stdout",
          "text": [
            "[(88, 'A+'), (99.9, 'A+'), (50, 'C'), (51, 'C'), (65, 'B'), (70, 'A')]\n"
          ]
        }
      ],
      "source": [
        "print(list(zip(percentages, grades)));"
      ]
    },
    {
      "cell_type": "code",
      "execution_count": 111,
      "metadata": {
        "colab": {
          "base_uri": "https://localhost:8080/"
        },
        "id": "jm_VHIEG-UL3",
        "outputId": "451f67a3-c223-4044-fa2b-02675a391a9b"
      },
      "outputs": [
        {
          "output_type": "stream",
          "name": "stdout",
          "text": [
            "[0, 1, 2, 3, 4, 5]\n"
          ]
        }
      ],
      "source": [
        "rollNum: list[int] = list(range(len(percentages)));\n",
        "\n",
        "print(rollNum);"
      ]
    },
    {
      "cell_type": "code",
      "execution_count": 112,
      "metadata": {
        "colab": {
          "base_uri": "https://localhost:8080/"
        },
        "id": "REYsu5Ae-UL4",
        "outputId": "d9c3f8f3-3fb2-4bd4-8e16-872dd2812582"
      },
      "outputs": [
        {
          "output_type": "execute_result",
          "data": {
            "text/plain": [
              "[(0, 88, 'A+'),\n",
              " (1, 99.9, 'A+'),\n",
              " (2, 50, 'C'),\n",
              " (3, 51, 'C'),\n",
              " (4, 65, 'B'),\n",
              " (5, 70, 'A')]"
            ]
          },
          "metadata": {},
          "execution_count": 112
        }
      ],
      "source": [
        "data: list[int] = list(zip(rollNum, percentages, grades));\n",
        "\n",
        "data"
      ]
    },
    {
      "cell_type": "code",
      "execution_count": 113,
      "metadata": {
        "colab": {
          "base_uri": "https://localhost:8080/"
        },
        "id": "jlRYKzLI-UL5",
        "outputId": "d169eb31-a475-4611-e9aa-c2edca65beba"
      },
      "outputs": [
        {
          "output_type": "execute_result",
          "data": {
            "text/plain": [
              "[(0, 88, 'A+'),\n",
              " (1, 99.9, 'A+'),\n",
              " (2, 50, 'C'),\n",
              " (3, 51, 'C'),\n",
              " (4, 65, 'B'),\n",
              " (5, 70, 'A')]"
            ]
          },
          "metadata": {},
          "execution_count": 113
        }
      ],
      "source": [
        "sorted(data)"
      ]
    },
    {
      "cell_type": "code",
      "execution_count": 114,
      "metadata": {
        "colab": {
          "base_uri": "https://localhost:8080/"
        },
        "id": "h0Eoynre-UL6",
        "outputId": "45e8d73f-6ff3-4581-be23-263c090517a1"
      },
      "outputs": [
        {
          "output_type": "execute_result",
          "data": {
            "text/plain": [
              "[(2, 50, 'C'),\n",
              " (3, 51, 'C'),\n",
              " (4, 65, 'B'),\n",
              " (5, 70, 'A'),\n",
              " (0, 88, 'A+'),\n",
              " (1, 99.9, 'A+')]"
            ]
          },
          "metadata": {},
          "execution_count": 114
        }
      ],
      "source": [
        "sorted(data, key = lambda x: x[1])"
      ]
    },
    {
      "cell_type": "code",
      "execution_count": 115,
      "metadata": {
        "colab": {
          "base_uri": "https://localhost:8080/"
        },
        "id": "OcuQSTmo-UL7",
        "outputId": "4d199ba2-51c5-421f-aa5b-c58c38ebd997"
      },
      "outputs": [
        {
          "output_type": "execute_result",
          "data": {
            "text/plain": [
              "[(1, 99.9, 'A+'),\n",
              " (0, 88, 'A+'),\n",
              " (5, 70, 'A'),\n",
              " (4, 65, 'B'),\n",
              " (3, 51, 'C'),\n",
              " (2, 50, 'C')]"
            ]
          },
          "metadata": {},
          "execution_count": 115
        }
      ],
      "source": [
        "sorted(data, key = lambda x: x[1], reverse = True)"
      ]
    },
    {
      "cell_type": "code",
      "execution_count": 116,
      "metadata": {
        "colab": {
          "base_uri": "https://localhost:8080/"
        },
        "id": "xNqghn_k-UL7",
        "outputId": "f18c98ef-fd48-4915-d8e8-18cec8c9b0b5"
      },
      "outputs": [
        {
          "output_type": "stream",
          "name": "stdout",
          "text": [
            "Tesla\n",
            "BUGATTI\n",
            "Lamborghini\n",
            "Ferrari\n"
          ]
        }
      ],
      "source": [
        "cars : list[str] = [\"tesla\", \"bugatti\", \"lamborghini\", \"ferrari\"];\n",
        "\n",
        "for car in cars:\n",
        "\n",
        "    if car == \"bugatti\":\n",
        "\n",
        "     print(car.upper());\n",
        "\n",
        "    else:\n",
        "\n",
        "     print(car.title());"
      ]
    },
    {
      "cell_type": "code",
      "execution_count": 117,
      "metadata": {
        "colab": {
          "base_uri": "https://localhost:8080/"
        },
        "id": "X2qvY4mg-UL8",
        "outputId": "3c85dc1c-59b7-4c12-8778-de39243b6d69"
      },
      "outputs": [
        {
          "output_type": "execute_result",
          "data": {
            "text/plain": [
              "['Tesla', 'BUGATTI', 'Lamborghini', 'Ferrari']"
            ]
          },
          "metadata": {},
          "execution_count": 117
        }
      ],
      "source": [
        "cars : list[str] = [\"tesla\", \"bugatti\", \"lamborghini\", \"ferrari\"];\n",
        "\n",
        "[i.upper() if i == \"bugatti\" else i.title() for i in cars]"
      ]
    },
    {
      "cell_type": "code",
      "execution_count": 118,
      "metadata": {
        "colab": {
          "base_uri": "https://localhost:8080/"
        },
        "id": "jKjdzG1f-UL8",
        "outputId": "e7efea91-8b51-42bf-996d-42480f2dda74"
      },
      "outputs": [
        {
          "output_type": "stream",
          "name": "stdout",
          "text": [
            "['tesla', 'bugatti', 'lamborghini', 'ferrari']\n",
            "ferrari\n"
          ]
        },
        {
          "output_type": "execute_result",
          "data": {
            "text/plain": [
              "False"
            ]
          },
          "metadata": {},
          "execution_count": 118
        }
      ],
      "source": [
        "print(cars);\n",
        "\n",
        "print(car); # Because After Running Loop It Select Last Value\n",
        "\n",
        "car == \"bugatti\""
      ]
    },
    {
      "cell_type": "code",
      "execution_count": 119,
      "metadata": {
        "colab": {
          "base_uri": "https://localhost:8080/"
        },
        "id": "mSZy4lvz-UL9",
        "outputId": "4a79d042-4b71-4cf8-e16d-4e301742d123"
      },
      "outputs": [
        {
          "output_type": "stream",
          "name": "stdout",
          "text": [
            "Lamborghini\n"
          ]
        },
        {
          "output_type": "execute_result",
          "data": {
            "text/plain": [
              "False"
            ]
          },
          "metadata": {},
          "execution_count": 119
        }
      ],
      "source": [
        "car = \"lamborghini\";\n",
        "\n",
        "print(car.title());\n",
        "\n",
        "car == \"Audi\""
      ]
    },
    {
      "cell_type": "code",
      "execution_count": 120,
      "metadata": {
        "colab": {
          "base_uri": "https://localhost:8080/"
        },
        "id": "EKK2iEgU-UL-",
        "outputId": "50202c42-f6ac-41ec-fcfc-1f8b861f5d44"
      },
      "outputs": [
        {
          "output_type": "stream",
          "name": "stdout",
          "text": [
            "TESLA\n",
            "BUGATTI\n",
            "Civic\n",
            "LAMBORGHINI\n",
            "FERRARI\n"
          ]
        }
      ],
      "source": [
        "cars : list[str] = [\"tesla\", \"bugatti\", \"Civic\", \"lamborghini\", \"ferrari\"];\n",
        "\n",
        "for car in cars:\n",
        "\n",
        "    if car != \"Civic\":\n",
        "\n",
        "        print(car.upper());\n",
        "\n",
        "    else:\n",
        "\n",
        "        print(car.title());"
      ]
    },
    {
      "cell_type": "code",
      "execution_count": 121,
      "metadata": {
        "colab": {
          "base_uri": "https://localhost:8080/"
        },
        "id": "nw5IC3Md-UL_",
        "outputId": "28cc0fbe-e90b-48a5-c489-dc2040e6f37e"
      },
      "outputs": [
        {
          "output_type": "stream",
          "name": "stdout",
          "text": [
            "That Is Not The Correct Answer. Please Try Again!\n"
          ]
        }
      ],
      "source": [
        "answer = 17;\n",
        "\n",
        "if answer != 42:\n",
        "\n",
        "    print(\"That Is Not The Correct Answer. Please Try Again!\");"
      ]
    },
    {
      "cell_type": "code",
      "execution_count": 122,
      "metadata": {
        "colab": {
          "base_uri": "https://localhost:8080/"
        },
        "id": "iz6HSfME-UL_",
        "outputId": "925df134-3d65-41fc-c020-8a2a2207ab26"
      },
      "outputs": [
        {
          "output_type": "execute_result",
          "data": {
            "text/plain": [
              "False"
            ]
          },
          "metadata": {},
          "execution_count": 122
        }
      ],
      "source": [
        "cars : list[str] = [\"Tesla\", \"Bugatti\", \"Lamborghini\", \"Ferrari\"];\n",
        "\n",
        "\"BWM\" in cars"
      ]
    },
    {
      "cell_type": "code",
      "execution_count": 123,
      "metadata": {
        "colab": {
          "base_uri": "https://localhost:8080/"
        },
        "id": "niv5sQFB-UMA",
        "outputId": "e2afb3bf-5c2d-4304-cded-0c10ed37e9fc"
      },
      "outputs": [
        {
          "output_type": "execute_result",
          "data": {
            "text/plain": [
              "True"
            ]
          },
          "metadata": {},
          "execution_count": 123
        }
      ],
      "source": [
        "cars : list[str] = [\"Tesla\", \"Bugatti\", \"Lamborghini\", \"Ferrari\"];\n",
        "\n",
        "\"Tesla\" in cars"
      ]
    },
    {
      "cell_type": "code",
      "execution_count": 124,
      "metadata": {
        "colab": {
          "base_uri": "https://localhost:8080/"
        },
        "id": "aoW3zbBJ-UMB",
        "outputId": "307aa1d4-6e5c-49c2-f0fa-f3cbc01e5162"
      },
      "outputs": [
        {
          "output_type": "stream",
          "name": "stdout",
          "text": [
            "True\n"
          ]
        }
      ],
      "source": [
        "bannedUser : list[str] = [\"Andrew\", \"David\", \"Martin\"];\n",
        "\n",
        "user : str = \"Jay\";\n",
        "\n",
        "print(user not in bannedUser);\n",
        "\n",
        "if user in bannedUser:\n",
        "\n",
        "    print(f\"{user.title()}, You Can Post A Response If You Wish.\");"
      ]
    },
    {
      "cell_type": "code",
      "execution_count": 125,
      "metadata": {
        "colab": {
          "base_uri": "https://localhost:8080/"
        },
        "id": "JAgyXyUF-UMB",
        "outputId": "8a100c66-dc98-4e5d-8d2f-ca8fbccbb50b"
      },
      "outputs": [
        {
          "output_type": "stream",
          "name": "stdout",
          "text": [
            "Jay, You Can Post A Response If You Wish.\n"
          ]
        }
      ],
      "source": [
        "if user not in bannedUser:\n",
        "\n",
        "    print(f\"{user.title()}, You Can Post A Response If You Wish.\");"
      ]
    },
    {
      "cell_type": "code",
      "execution_count": 126,
      "metadata": {
        "colab": {
          "base_uri": "https://localhost:8080/"
        },
        "id": "KatVAPsL-UMQ",
        "outputId": "4b3c475c-0c2e-48d4-8d85-ccd7b32c8833"
      },
      "outputs": [
        {
          "output_type": "stream",
          "name": "stdout",
          "text": [
            "Sorry, You Are Too Young To Vote.\n",
            "Please Register To Vote As Soon As You Turn 18!\n"
          ]
        }
      ],
      "source": [
        "age: int = 17;\n",
        "\n",
        "if age >= 18:\n",
        "    print(\"You Are Old Enough To Vote!\");\n",
        "    print(\"Have You Registered To Vote Yet...?\");\n",
        "else:\n",
        "    print(\"Sorry, You Are Too Young To Vote.\");\n",
        "    print(\"Please Register To Vote As Soon As You Turn 18!\");"
      ]
    },
    {
      "cell_type": "code",
      "execution_count": 127,
      "metadata": {
        "colab": {
          "base_uri": "https://localhost:8080/"
        },
        "id": "-RaXTneR-UMR",
        "outputId": "27c840f7-351c-42db-b5bb-9d5d2712a5ba"
      },
      "outputs": [
        {
          "output_type": "stream",
          "name": "stdout",
          "text": [
            "Your Admission Cost Is $25.\n"
          ]
        }
      ],
      "source": [
        "age = 12;\n",
        "\n",
        "if age < 4:\n",
        "\n",
        "    print(\"Your Admission Cost Is $0.\");\n",
        "\n",
        "elif age < 18:\n",
        "\n",
        "    print(\"Your Admission Cost Is $25.\");\n",
        "\n",
        "else:\n",
        "      print(\"Your Admission Cost Is $40.\");"
      ]
    },
    {
      "cell_type": "code",
      "execution_count": 128,
      "metadata": {
        "colab": {
          "base_uri": "https://localhost:8080/"
        },
        "id": "N9YW8kYU-UMS",
        "outputId": "2b6b8543-5133-4c99-bf7b-50c0fddd0cfa"
      },
      "outputs": [
        {
          "output_type": "stream",
          "name": "stdout",
          "text": [
            "Adding Mushrooms.\n",
            "Adding Extra Cheese.\n",
            "\n",
            "Finished Making Your Pizza!\n"
          ]
        }
      ],
      "source": [
        "pizza : list[str] = [\"Mushrooms\", \"Extra Cheese\"];\n",
        "\n",
        "if \"Mushrooms\" in pizza:\n",
        "      print(\"Adding Mushrooms.\");\n",
        "\n",
        "if \"Pepperoni\" in pizza:\n",
        "    print(\"Adding Pepperoni.\");\n",
        "\n",
        "if \"Extra Cheese\" in pizza:\n",
        "    print(\"Adding Extra Cheese.\");\n",
        "\n",
        "print(\"\\nFinished Making Your Pizza!\");"
      ]
    },
    {
      "cell_type": "code",
      "execution_count": 129,
      "metadata": {
        "colab": {
          "base_uri": "https://localhost:8080/"
        },
        "id": "JPpZ8x7W-UMT",
        "outputId": "98887d42-ce26-4d34-a85f-bb1a692e4a1a"
      },
      "outputs": [
        {
          "output_type": "stream",
          "name": "stdout",
          "text": [
            "Adding Mushrooms.\n",
            "Sorry, We Are Out Of Green Peppers Right Now.\n",
            "Adding Extra Cheese.\n",
            "\n",
            "Finished Making Your Pizza!\n"
          ]
        }
      ],
      "source": [
        "pizzas : list[str] = [\"Mushrooms\", \"Green Peppers\", \"Extra Cheese\"];\n",
        "\n",
        "for pizza in pizzas:\n",
        "\n",
        "    if pizza == \"Green Peppers\":\n",
        "\n",
        "        print(f\"Sorry, We Are Out Of {pizza} Right Now.\");\n",
        "\n",
        "    else:\n",
        "\n",
        "        print(f\"Adding {pizza}.\");\n",
        "\n",
        "print(\"\\nFinished Making Your Pizza!\");"
      ]
    },
    {
      "cell_type": "code",
      "execution_count": 130,
      "metadata": {
        "colab": {
          "base_uri": "https://localhost:8080/"
        },
        "id": "mGRLA0NB-UMT",
        "outputId": "7918fa03-fa91-4927-f1a0-9d6be622a6a6"
      },
      "outputs": [
        {
          "output_type": "stream",
          "name": "stdout",
          "text": [
            "Are You Sure You Want A Plain Pizza?\n"
          ]
        }
      ],
      "source": [
        "pizzas = [];\n",
        "\n",
        "if pizzas:\n",
        "\n",
        "    for pizza in pizzas:\n",
        "\n",
        "        print(f\"Adding {pizza}.\");\n",
        "\n",
        "    print(\"\\nFinished Making Your Pizza!\");\n",
        "\n",
        "else:\n",
        "\n",
        "    print(\"Are You Sure You Want A Plain Pizza?\");"
      ]
    },
    {
      "cell_type": "code",
      "execution_count": 131,
      "metadata": {
        "colab": {
          "base_uri": "https://localhost:8080/"
        },
        "id": "w1YlWy2t-UMU",
        "outputId": "43d32d81-d5fa-41f0-9d2e-aa9ccff051fa"
      },
      "outputs": [
        {
          "output_type": "stream",
          "name": "stdout",
          "text": [
            "Adding Mushrooms.\n",
            "Sorry, We Don't Have Tikka Pizza.\n",
            "Adding Extra Cheese.\n",
            "\n",
            "Finished Making Your Pizza!\n"
          ]
        }
      ],
      "source": [
        "pizzaAvailable : list[str] = [\"Mushrooms\", \"Olives\", \"Green Peppers\", \"Extra Cheese\", \"Pepperoni\"];\n",
        "\n",
        "pizzas : list[str] = [\"Mushrooms\", \"Tikka\", \"Extra Cheese\"]; # Input Pizza\n",
        "\n",
        "for pizza in pizzas:\n",
        "\n",
        "    if pizza in pizzaAvailable:\n",
        "\n",
        "        print(f\"Adding {pizza}.\");\n",
        "\n",
        "    else:\n",
        "\n",
        "        print(f\"Sorry, We Don't Have {pizza} Pizza.\");\n",
        "\n",
        "print(\"\\nFinished Making Your Pizza!\");"
      ]
    },
    {
      "cell_type": "code",
      "execution_count": 132,
      "metadata": {
        "colab": {
          "base_uri": "https://localhost:8080/"
        },
        "id": "iKQw3Rlj-UMV",
        "outputId": "c90dfaa6-3bef-4ae6-9960-43b45f98bbcf"
      },
      "outputs": [
        {
          "name": "stdout",
          "output_type": "stream",
          "text": [
            "Enter ',' Seperated Value Ahmed,Saleem\n"
          ]
        },
        {
          "output_type": "execute_result",
          "data": {
            "text/plain": [
              "['Ahmed', 'Saleem']"
            ]
          },
          "metadata": {},
          "execution_count": 132
        }
      ],
      "source": [
        "input(\"Enter ',' Seperated Value \").split(\",\")"
      ]
    },
    {
      "cell_type": "code",
      "execution_count": 133,
      "metadata": {
        "colab": {
          "base_uri": "https://localhost:8080/"
        },
        "id": "rYt4acmB-UMW",
        "outputId": "e81863c1-5e8c-4b2b-e2c2-482ea46a048c"
      },
      "outputs": [
        {
          "output_type": "stream",
          "name": "stdout",
          "text": [
            "Enter Your Username: Ahmed\n",
            "Enter Your Password: 786\n",
            "Sent OTP On Your Registered Number\n",
            "Please Enter OTP: 123\n",
            "Welcome Ahmed\n"
          ]
        }
      ],
      "source": [
        "userName : str = input(\"Enter Your Username: \");\n",
        "\n",
        "passwrod : str = input(\"Enter Your Password: \");\n",
        "\n",
        "if userName == \"Ahmed\" and passwrod == \"786\":\n",
        "\n",
        "    print(\"Sent OTP On Your Registered Number\");\n",
        "\n",
        "    otp : str = input(\"Please Enter OTP: \");\n",
        "\n",
        "    if otp == \"123\":\n",
        "\n",
        "        print(f\"Welcome {userName}\");\n",
        "\n",
        "else:\n",
        "\n",
        "    print(\"Invalid User Or Password\");\n"
      ]
    },
    {
      "cell_type": "code",
      "execution_count": 134,
      "metadata": {
        "colab": {
          "base_uri": "https://localhost:8080/"
        },
        "id": "gxKWfgmU-UMY",
        "outputId": "c0133d42-48a4-4e11-85a7-693ce46b9b7a"
      },
      "outputs": [
        {
          "output_type": "stream",
          "name": "stdout",
          "text": [
            "Enter Your Username: Ahmed\n",
            "Enter Your Password: Shaykh\n",
            "Sent OTP On Your Registered Number\n",
            "Please Enter OTP: 124\n",
            "Incorrect Your OTP\n"
          ]
        }
      ],
      "source": [
        "userName : str = input(\"Enter Your Username: \");\n",
        "\n",
        "passwrod : str = input(\"Enter Your Password: \");\n",
        "\n",
        "if userName and passwrod:\n",
        "\n",
        "    print(\"Sent OTP On Your Registered Number\");\n",
        "\n",
        "    otp : str = input(\"Please Enter OTP: \");\n",
        "\n",
        "    if otp == \"123\":\n",
        "\n",
        "        print(f\"Welcome {userName}\");\n",
        "\n",
        "    else:\n",
        "\n",
        "        print(\"Incorrect Your OTP\");\n",
        "\n",
        "else:\n",
        "\n",
        "    print(\"Invalid User Or Password\");"
      ]
    }
  ],
  "metadata": {
    "kernelspec": {
      "display_name": "base",
      "language": "python",
      "name": "python3"
    },
    "language_info": {
      "codemirror_mode": {
        "name": "ipython",
        "version": 3
      },
      "file_extension": ".py",
      "mimetype": "text/x-python",
      "name": "python",
      "nbconvert_exporter": "python",
      "pygments_lexer": "ipython3",
      "version": "3.12.0"
    },
    "colab": {
      "provenance": []
    }
  },
  "nbformat": 4,
  "nbformat_minor": 0
}