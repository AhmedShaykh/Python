{
 "cells": [
  {
   "cell_type": "markdown",
   "metadata": {},
   "source": [
    "# **IF ELSE**"
   ]
  },
  {
   "cell_type": "code",
   "execution_count": 6,
   "metadata": {},
   "outputs": [
    {
     "name": "stdout",
     "output_type": "stream",
     "text": [
      "Pakistan Zindabad\n"
     ]
    }
   ],
   "source": [
    "if True:\n",
    "\n",
    "    print(\"Pakistan Zindabad\");\n",
    "\n",
    "else:\n",
    "\n",
    "    print(\"Hello World!\");"
   ]
  },
  {
   "cell_type": "code",
   "execution_count": 7,
   "metadata": {},
   "outputs": [
    {
     "name": "stdout",
     "output_type": "stream",
     "text": [
      "Hello World!\n"
     ]
    }
   ],
   "source": [
    "if False:\n",
    "\n",
    "    print(\"Pakistan Zindabad\");\n",
    "\n",
    "else:\n",
    "\n",
    "    print(\"Hello World!\");"
   ]
  },
  {
   "cell_type": "code",
   "execution_count": 8,
   "metadata": {},
   "outputs": [
    {
     "name": "stdout",
     "output_type": "stream",
     "text": [
      "Pakistan Zindabad\n"
     ]
    }
   ],
   "source": [
    "print(\"Hello World!\") if False else print(\"Pakistan Zindabad\");"
   ]
  },
  {
   "cell_type": "markdown",
   "metadata": {},
   "source": [
    "# **IF ELIF ELSE**"
   ]
  },
  {
   "cell_type": "code",
   "execution_count": 9,
   "metadata": {},
   "outputs": [
    {
     "name": "stdout",
     "output_type": "stream",
     "text": [
      "True\n",
      "1\n",
      "2\n"
     ]
    }
   ],
   "source": [
    "if True:\n",
    "\n",
    "    print(\"True\");\n",
    "\n",
    "print(\"1\");\n",
    "\n",
    "print(\"2\");"
   ]
  },
  {
   "cell_type": "code",
   "execution_count": 10,
   "metadata": {},
   "outputs": [
    {
     "name": "stdout",
     "output_type": "stream",
     "text": [
      "1\n",
      "2\n"
     ]
    }
   ],
   "source": [
    "if False:\n",
    "\n",
    "    print(\"True\");\n",
    "\n",
    "print(\"1\");\n",
    "\n",
    "print(\"2\");"
   ]
  },
  {
   "cell_type": "code",
   "execution_count": 11,
   "metadata": {},
   "outputs": [
    {
     "name": "stdout",
     "output_type": "stream",
     "text": [
      "True Block\n"
     ]
    }
   ],
   "source": [
    "if True:\n",
    "\n",
    "    print(\"True Block\");\n",
    "\n",
    "elif False:\n",
    "\n",
    "    print(\"Elif Logic 1\");\n",
    "\n",
    "elif False:\n",
    "\n",
    "    print(\"Elif Logic 2\");\n",
    "\n",
    "elif False:\n",
    "\n",
    "    print(\"Elif Logic 3\");\n",
    "\n",
    "else:\n",
    "\n",
    "    print(\"Final Else Block\");"
   ]
  },
  {
   "cell_type": "code",
   "execution_count": 12,
   "metadata": {},
   "outputs": [
    {
     "name": "stdout",
     "output_type": "stream",
     "text": [
      "Elif Logic 1\n"
     ]
    }
   ],
   "source": [
    "if False:\n",
    "\n",
    "    print(\"True Block\");\n",
    "\n",
    "elif True:\n",
    "\n",
    "    print(\"Elif Logic 1\");\n",
    "\n",
    "elif False:\n",
    "\n",
    "    print(\"Elif Logic 2\");\n",
    "\n",
    "elif False:\n",
    "\n",
    "    print(\"Elif Logic 3\");\n",
    "\n",
    "else:\n",
    "\n",
    "    print(\"Final Else Block\");"
   ]
  },
  {
   "cell_type": "code",
   "execution_count": 14,
   "metadata": {},
   "outputs": [
    {
     "name": "stdout",
     "output_type": "stream",
     "text": [
      "Elif Logic 2\n"
     ]
    }
   ],
   "source": [
    "if False:\n",
    "\n",
    "    print(\"True Block\");\n",
    "\n",
    "elif False:\n",
    "\n",
    "    print(\"Elif Logic 1\");\n",
    "\n",
    "elif True:\n",
    "\n",
    "    print(\"Elif Logic 2\");\n",
    "\n",
    "elif True:\n",
    "\n",
    "    print(\"Elif Logic 3\");\n",
    "\n",
    "else:\n",
    "\n",
    "    print(\"Final Else Block\");"
   ]
  },
  {
   "cell_type": "code",
   "execution_count": 15,
   "metadata": {},
   "outputs": [
    {
     "name": "stdout",
     "output_type": "stream",
     "text": [
      "Final Else Block\n",
      "Learning Python 3.12\n"
     ]
    }
   ],
   "source": [
    "if False:\n",
    "\n",
    "    print(\"True Block\");\n",
    "\n",
    "elif False:\n",
    "\n",
    "    print(\"Elif Logic 1\");\n",
    "\n",
    "elif False:\n",
    "\n",
    "    print(\"Elif Logic 2\");\n",
    "\n",
    "elif False:\n",
    "\n",
    "    print(\"Elif Logic 3\");\n",
    "\n",
    "else:\n",
    "\n",
    "    print(\"Final Else Block\");\n",
    "\n",
    "print(\"Learning Python 3.12\");"
   ]
  },
  {
   "cell_type": "code",
   "execution_count": 19,
   "metadata": {},
   "outputs": [
    {
     "name": "stdout",
     "output_type": "stream",
     "text": [
      "Learning Python 3.12\n"
     ]
    }
   ],
   "source": [
    "if False:\n",
    "\n",
    "    print(\"True Block\");\n",
    "\n",
    "elif False:\n",
    "\n",
    "    print(\"Elif Logic 1\");\n",
    "\n",
    "elif False:\n",
    "\n",
    "    print(\"Elif Logic 2\");\n",
    "\n",
    "elif False:\n",
    "\n",
    "    print(\"Elif Logic 3\");\n",
    "\n",
    "print(\"Learning Python 3.12\");"
   ]
  },
  {
   "cell_type": "markdown",
   "metadata": {},
   "source": [
    "# **Grading Rule**"
   ]
  },
  {
   "cell_type": "code",
   "execution_count": 20,
   "metadata": {},
   "outputs": [
    {
     "name": "stdout",
     "output_type": "stream",
     "text": [
      "Dear Student Your Percentage Is 88 Now Your Calculated Grade Is: A+\n"
     ]
    }
   ],
   "source": [
    "from typing import Union;\n",
    "\n",
    "per : Union[int, float] = 88;\n",
    "\n",
    "grade :Union[str, None] = None;\n",
    "\n",
    "if per >= 80:\n",
    "    grade = \"A+\";\n",
    "elif per >= 70:\n",
    "    grade = \"A\";\n",
    "elif per >= 60:\n",
    "    grade = \"B\";\n",
    "elif per >= 50:\n",
    "    grade = \"C\";\n",
    "elif per >= 40:\n",
    "    grade = \"D\";\n",
    "elif per >= 33:\n",
    "    grade = \"E\";\n",
    "else:\n",
    "    grade = \"Fail\";\n",
    "\n",
    "print(f\"Dear Student Your Percentage Is {per} Now Your Calculated Grade Is: {grade}\");"
   ]
  },
  {
   "cell_type": "code",
   "execution_count": 23,
   "metadata": {},
   "outputs": [
    {
     "name": "stdout",
     "output_type": "stream",
     "text": [
      "Dear Student Your Percentage Is 72 Now Your Calculated Grade Is: A\n"
     ]
    }
   ],
   "source": [
    "from typing import Union;\n",
    "\n",
    "per : Union[int, float] = int(input(\"Enter Your Percentage:\"));\n",
    "\n",
    "grade :Union[str, None] = None;\n",
    "\n",
    "if per >= 80:\n",
    "    grade = \"A+\";\n",
    "elif per >= 70:\n",
    "    grade = \"A\";\n",
    "elif per >= 60:\n",
    "    grade = \"B\";\n",
    "elif per >= 50:\n",
    "    grade = \"C\";\n",
    "elif per >= 40:\n",
    "    grade = \"D\";\n",
    "elif per >= 33:\n",
    "    grade = \"E\";\n",
    "else:\n",
    "    grade = \"Fail\";\n",
    "\n",
    "print(f\"Dear Student Your Percentage Is {per} Now Your Calculated Grade Is: {grade}\");"
   ]
  },
  {
   "cell_type": "code",
   "execution_count": 24,
   "metadata": {},
   "outputs": [
    {
     "name": "stdout",
     "output_type": "stream",
     "text": [
      "Dear Student Your Percentage Is 32 Now Your Calculated Grade Is: Fail\n"
     ]
    }
   ],
   "source": [
    "from typing import Union, Optional;\n",
    "\n",
    "per : Union[int, float] = 32;\n",
    "\n",
    "grade :Optional[str] = None; # Optional Default Is None\n",
    "\n",
    "if per >= 80:\n",
    "    grade = \"A+\";\n",
    "elif per >= 70:\n",
    "    grade = \"A\";\n",
    "elif per >= 60:\n",
    "    grade = \"B\";\n",
    "elif per >= 50:\n",
    "    grade = \"C\";\n",
    "elif per >= 40:\n",
    "    grade = \"D\";\n",
    "elif per >= 33:\n",
    "    grade = \"E\";\n",
    "else:\n",
    "    grade = \"Fail\";\n",
    "\n",
    "print(f\"Dear Student Your Percentage Is {per} Now Your Calculated Grade Is: {grade}\");"
   ]
  },
  {
   "cell_type": "markdown",
   "metadata": {},
   "source": [
    "# **Logical Error**"
   ]
  },
  {
   "cell_type": "code",
   "execution_count": 25,
   "metadata": {},
   "outputs": [
    {
     "name": "stdout",
     "output_type": "stream",
     "text": [
      "Dear Student Your Percentage Is 99 Now Your Calculated Grade Is: Fail\n"
     ]
    }
   ],
   "source": [
    "from typing import Union;\n",
    "\n",
    "per : Union[int, float] = int(input(\"Enter Your Percentage:\"));\n",
    "\n",
    "grade :Union[str, None] = None;\n",
    "\n",
    "if per >= 0:\n",
    "    grade = \"Fail\";\n",
    "elif per >= 33:\n",
    "    grade = \"E\";\n",
    "elif per >= 40:\n",
    "    grade = \"D\";\n",
    "elif per >= 50:\n",
    "    grade = \"C\";\n",
    "elif per >= 60:\n",
    "    grade = \"B\";\n",
    "elif per >= 70:\n",
    "    grade = \"A\";\n",
    "else:\n",
    "    grade = \"A+\";\n",
    "\n",
    "print(f\"Dear Student Your Percentage Is {per} Now Your Calculated Grade Is: {grade}\");"
   ]
  },
  {
   "cell_type": "code",
   "execution_count": 31,
   "metadata": {},
   "outputs": [
    {
     "name": "stdout",
     "output_type": "stream",
     "text": [
      "Dear Student Your Percentage Is 45 Now Your Calculated Grade Is: D\n"
     ]
    }
   ],
   "source": [
    "from typing import Union;\n",
    "\n",
    "per : Union[int, float] = int(input(\"Enter Your Percentage:\"));\n",
    "\n",
    "grade :Union[str, None] = None;\n",
    "\n",
    "if per >= 0 and per < 33:\n",
    "    grade = \"Fail\";\n",
    "    print(f\"Dear Student Your Percentage Is {per} Now Your Calculated Grade Is: {grade}\");\n",
    "elif per >= 33 and per < 40:\n",
    "    grade = \"E\";\n",
    "    print(f\"Dear Student Your Percentage Is {per} Now Your Calculated Grade Is: {grade}\");\n",
    "elif per >= 40 and per < 50:\n",
    "    grade = \"D\";\n",
    "    print(f\"Dear Student Your Percentage Is {per} Now Your Calculated Grade Is: {grade}\");\n",
    "elif per >= 50 and per < 60:\n",
    "    grade = \"C\";\n",
    "    print(f\"Dear Student Your Percentage Is {per} Now Your Calculated Grade Is: {grade}\");\n",
    "elif per >= 60 and per < 70 :\n",
    "    grade = \"B\";\n",
    "    print(f\"Dear Student Your Percentage Is {per} Now Your Calculated Grade Is: {grade}\");\n",
    "elif per >= 70 and per < 80 :\n",
    "    grade = \"A\";\n",
    "    print(f\"Dear Student Your Percentage Is {per} Now Your Calculated Grade Is: {grade}\");\n",
    "elif per >=80 and per < 100:\n",
    "    grade = \"A+\";\n",
    "    print(f\"Dear Student Your Percentage Is {per} Now Your Calculated Grade Is: {grade}\");\n",
    "else:\n",
    "    print(\"Error 404\");"
   ]
  },
  {
   "cell_type": "code",
   "execution_count": 44,
   "metadata": {},
   "outputs": [
    {
     "name": "stdout",
     "output_type": "stream",
     "text": [
      "Dear Student Your Percentage Is 79.2 Now Your Calculated Grade Is: A\n"
     ]
    }
   ],
   "source": [
    "from typing import Union;\n",
    "\n",
    "per : Union[int, float] = float(input(\"Enter Your Percentage:\"));\n",
    "\n",
    "grade :Union[str, None] = None;\n",
    "\n",
    "if (per >= 0) and (per < 33):\n",
    "    grade = \"Fail\";\n",
    "    print(f\"Dear Student Your Percentage Is {per} Now Your Calculated Grade Is: {grade}\");\n",
    "elif (per >= 33) and (per < 40):\n",
    "    grade = \"E\";\n",
    "    print(f\"Dear Student Your Percentage Is {per} Now Your Calculated Grade Is: {grade}\");\n",
    "elif (per >= 40) and (per < 50):\n",
    "    grade = \"D\";\n",
    "    print(f\"Dear Student Your Percentage Is {per} Now Your Calculated Grade Is: {grade}\");\n",
    "elif (per >= 50) and (per < 60):\n",
    "    grade = \"C\";\n",
    "    print(f\"Dear Student Your Percentage Is {per} Now Your Calculated Grade Is: {grade}\");\n",
    "elif (per >= 60) and (per < 70) :\n",
    "    grade = \"B\";\n",
    "    print(f\"Dear Student Your Percentage Is {per} Now Your Calculated Grade Is: {grade}\");\n",
    "elif (per >= 70) and (per < 80) :\n",
    "    grade = \"A\";\n",
    "    print(f\"Dear Student Your Percentage Is {per} Now Your Calculated Grade Is: {grade}\");\n",
    "elif (per >=80 )and (per < 100):\n",
    "    grade = \"A+\";\n",
    "    print(f\"Dear Student Your Percentage Is {per} Now Your Calculated Grade Is: {grade}\");\n",
    "else:\n",
    "    print(\"Error 404\");"
   ]
  }
 ],
 "metadata": {
  "kernelspec": {
   "display_name": "base",
   "language": "python",
   "name": "python3"
  },
  "language_info": {
   "codemirror_mode": {
    "name": "ipython",
    "version": 3
   },
   "file_extension": ".py",
   "mimetype": "text/x-python",
   "name": "python",
   "nbconvert_exporter": "python",
   "pygments_lexer": "ipython3",
   "version": "3.11.5"
  }
 },
 "nbformat": 4,
 "nbformat_minor": 2
}
