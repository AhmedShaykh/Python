{
 "cells": [
  {
   "cell_type": "markdown",
   "metadata": {},
   "source": [
    "# **IF ELSE**"
   ]
  },
  {
   "cell_type": "code",
   "execution_count": 6,
   "metadata": {},
   "outputs": [
    {
     "name": "stdout",
     "output_type": "stream",
     "text": [
      "Pakistan Zindabad\n"
     ]
    }
   ],
   "source": [
    "if True:\n",
    "\n",
    "    print(\"Pakistan Zindabad\");\n",
    "\n",
    "else:\n",
    "\n",
    "    print(\"Hello World!\");"
   ]
  },
  {
   "cell_type": "code",
   "execution_count": 7,
   "metadata": {},
   "outputs": [
    {
     "name": "stdout",
     "output_type": "stream",
     "text": [
      "Hello World!\n"
     ]
    }
   ],
   "source": [
    "if False:\n",
    "\n",
    "    print(\"Pakistan Zindabad\");\n",
    "\n",
    "else:\n",
    "\n",
    "    print(\"Hello World!\");"
   ]
  },
  {
   "cell_type": "code",
   "execution_count": 8,
   "metadata": {},
   "outputs": [
    {
     "name": "stdout",
     "output_type": "stream",
     "text": [
      "Pakistan Zindabad\n"
     ]
    }
   ],
   "source": [
    "print(\"Hello World!\") if False else print(\"Pakistan Zindabad\");"
   ]
  },
  {
   "cell_type": "markdown",
   "metadata": {},
   "source": [
    "# **IF ELIF ELSE**"
   ]
  },
  {
   "cell_type": "code",
   "execution_count": 9,
   "metadata": {},
   "outputs": [
    {
     "name": "stdout",
     "output_type": "stream",
     "text": [
      "True\n",
      "1\n",
      "2\n"
     ]
    }
   ],
   "source": [
    "if True:\n",
    "\n",
    "    print(\"True\");\n",
    "\n",
    "print(\"1\");\n",
    "\n",
    "print(\"2\");"
   ]
  },
  {
   "cell_type": "code",
   "execution_count": 10,
   "metadata": {},
   "outputs": [
    {
     "name": "stdout",
     "output_type": "stream",
     "text": [
      "1\n",
      "2\n"
     ]
    }
   ],
   "source": [
    "if False:\n",
    "\n",
    "    print(\"True\");\n",
    "\n",
    "print(\"1\");\n",
    "\n",
    "print(\"2\");"
   ]
  },
  {
   "cell_type": "code",
   "execution_count": 11,
   "metadata": {},
   "outputs": [
    {
     "name": "stdout",
     "output_type": "stream",
     "text": [
      "True Block\n"
     ]
    }
   ],
   "source": [
    "if True:\n",
    "\n",
    "    print(\"True Block\");\n",
    "\n",
    "elif False:\n",
    "\n",
    "    print(\"Elif Logic 1\");\n",
    "\n",
    "elif False:\n",
    "\n",
    "    print(\"Elif Logic 2\");\n",
    "\n",
    "elif False:\n",
    "\n",
    "    print(\"Elif Logic 3\");\n",
    "\n",
    "else:\n",
    "\n",
    "    print(\"Final Else Block\");"
   ]
  },
  {
   "cell_type": "code",
   "execution_count": 12,
   "metadata": {},
   "outputs": [
    {
     "name": "stdout",
     "output_type": "stream",
     "text": [
      "Elif Logic 1\n"
     ]
    }
   ],
   "source": [
    "if False:\n",
    "\n",
    "    print(\"True Block\");\n",
    "\n",
    "elif True:\n",
    "\n",
    "    print(\"Elif Logic 1\");\n",
    "\n",
    "elif False:\n",
    "\n",
    "    print(\"Elif Logic 2\");\n",
    "\n",
    "elif False:\n",
    "\n",
    "    print(\"Elif Logic 3\");\n",
    "\n",
    "else:\n",
    "\n",
    "    print(\"Final Else Block\");"
   ]
  },
  {
   "cell_type": "code",
   "execution_count": 14,
   "metadata": {},
   "outputs": [
    {
     "name": "stdout",
     "output_type": "stream",
     "text": [
      "Elif Logic 2\n"
     ]
    }
   ],
   "source": [
    "if False:\n",
    "\n",
    "    print(\"True Block\");\n",
    "\n",
    "elif False:\n",
    "\n",
    "    print(\"Elif Logic 1\");\n",
    "\n",
    "elif True:\n",
    "\n",
    "    print(\"Elif Logic 2\");\n",
    "\n",
    "elif True:\n",
    "\n",
    "    print(\"Elif Logic 3\");\n",
    "\n",
    "else:\n",
    "\n",
    "    print(\"Final Else Block\");"
   ]
  },
  {
   "cell_type": "code",
   "execution_count": 15,
   "metadata": {},
   "outputs": [
    {
     "name": "stdout",
     "output_type": "stream",
     "text": [
      "Final Else Block\n",
      "Learning Python 3.12\n"
     ]
    }
   ],
   "source": [
    "if False:\n",
    "\n",
    "    print(\"True Block\");\n",
    "\n",
    "elif False:\n",
    "\n",
    "    print(\"Elif Logic 1\");\n",
    "\n",
    "elif False:\n",
    "\n",
    "    print(\"Elif Logic 2\");\n",
    "\n",
    "elif False:\n",
    "\n",
    "    print(\"Elif Logic 3\");\n",
    "\n",
    "else:\n",
    "\n",
    "    print(\"Final Else Block\");\n",
    "\n",
    "print(\"Learning Python 3.12\");"
   ]
  },
  {
   "cell_type": "code",
   "execution_count": 19,
   "metadata": {},
   "outputs": [
    {
     "name": "stdout",
     "output_type": "stream",
     "text": [
      "Learning Python 3.12\n"
     ]
    }
   ],
   "source": [
    "if False:\n",
    "\n",
    "    print(\"True Block\");\n",
    "\n",
    "elif False:\n",
    "\n",
    "    print(\"Elif Logic 1\");\n",
    "\n",
    "elif False:\n",
    "\n",
    "    print(\"Elif Logic 2\");\n",
    "\n",
    "elif False:\n",
    "\n",
    "    print(\"Elif Logic 3\");\n",
    "\n",
    "print(\"Learning Python 3.12\");"
   ]
  },
  {
   "cell_type": "markdown",
   "metadata": {},
   "source": [
    "# **Grading Rule**\n",
    "\n",
    "https://www.infoworld.com/article/3630372/get-started-with-python-type-hints.html"
   ]
  },
  {
   "cell_type": "code",
   "execution_count": 20,
   "metadata": {},
   "outputs": [
    {
     "name": "stdout",
     "output_type": "stream",
     "text": [
      "Dear Student Your Percentage Is 88 Now Your Calculated Grade Is: A+\n"
     ]
    }
   ],
   "source": [
    "from typing import Union;\n",
    "\n",
    "per : Union[int, float] = 88;\n",
    "\n",
    "grade :Union[str, None] = None;\n",
    "\n",
    "if per >= 80:\n",
    "    grade = \"A+\";\n",
    "elif per >= 70:\n",
    "    grade = \"A\";\n",
    "elif per >= 60:\n",
    "    grade = \"B\";\n",
    "elif per >= 50:\n",
    "    grade = \"C\";\n",
    "elif per >= 40:\n",
    "    grade = \"D\";\n",
    "elif per >= 33:\n",
    "    grade = \"E\";\n",
    "else:\n",
    "    grade = \"Fail\";\n",
    "\n",
    "print(f\"Dear Student Your Percentage Is {per} Now Your Calculated Grade Is: {grade}\");"
   ]
  },
  {
   "cell_type": "code",
   "execution_count": 23,
   "metadata": {},
   "outputs": [
    {
     "name": "stdout",
     "output_type": "stream",
     "text": [
      "Dear Student Your Percentage Is 72 Now Your Calculated Grade Is: A\n"
     ]
    }
   ],
   "source": [
    "from typing import Union;\n",
    "\n",
    "per : Union[int, float] = int(input(\"Enter Your Percentage:\"));\n",
    "\n",
    "grade :Union[str, None] = None;\n",
    "\n",
    "if per >= 80:\n",
    "    grade = \"A+\";\n",
    "elif per >= 70:\n",
    "    grade = \"A\";\n",
    "elif per >= 60:\n",
    "    grade = \"B\";\n",
    "elif per >= 50:\n",
    "    grade = \"C\";\n",
    "elif per >= 40:\n",
    "    grade = \"D\";\n",
    "elif per >= 33:\n",
    "    grade = \"E\";\n",
    "else:\n",
    "    grade = \"Fail\";\n",
    "\n",
    "print(f\"Dear Student Your Percentage Is {per} Now Your Calculated Grade Is: {grade}\");"
   ]
  },
  {
   "cell_type": "code",
   "execution_count": 24,
   "metadata": {},
   "outputs": [
    {
     "name": "stdout",
     "output_type": "stream",
     "text": [
      "Dear Student Your Percentage Is 32 Now Your Calculated Grade Is: Fail\n"
     ]
    }
   ],
   "source": [
    "from typing import Union, Optional;\n",
    "\n",
    "per : Union[int, float] = 32;\n",
    "\n",
    "grade :Optional[str] = None; # Optional Default Is None\n",
    "\n",
    "if per >= 80:\n",
    "    grade = \"A+\";\n",
    "elif per >= 70:\n",
    "    grade = \"A\";\n",
    "elif per >= 60:\n",
    "    grade = \"B\";\n",
    "elif per >= 50:\n",
    "    grade = \"C\";\n",
    "elif per >= 40:\n",
    "    grade = \"D\";\n",
    "elif per >= 33:\n",
    "    grade = \"E\";\n",
    "else:\n",
    "    grade = \"Fail\";\n",
    "\n",
    "print(f\"Dear Student Your Percentage Is {per} Now Your Calculated Grade Is: {grade}\");"
   ]
  },
  {
   "cell_type": "markdown",
   "metadata": {},
   "source": [
    "# **Logical Error**"
   ]
  },
  {
   "cell_type": "code",
   "execution_count": 25,
   "metadata": {},
   "outputs": [
    {
     "name": "stdout",
     "output_type": "stream",
     "text": [
      "Dear Student Your Percentage Is 99 Now Your Calculated Grade Is: Fail\n"
     ]
    }
   ],
   "source": [
    "from typing import Union;\n",
    "\n",
    "per : Union[int, float] = int(input(\"Enter Your Percentage:\"));\n",
    "\n",
    "grade :Union[str, None] = None;\n",
    "\n",
    "if per >= 0:\n",
    "    grade = \"Fail\";\n",
    "elif per >= 33:\n",
    "    grade = \"E\";\n",
    "elif per >= 40:\n",
    "    grade = \"D\";\n",
    "elif per >= 50:\n",
    "    grade = \"C\";\n",
    "elif per >= 60:\n",
    "    grade = \"B\";\n",
    "elif per >= 70:\n",
    "    grade = \"A\";\n",
    "else:\n",
    "    grade = \"A+\";\n",
    "\n",
    "print(f\"Dear Student Your Percentage Is {per} Now Your Calculated Grade Is: {grade}\");"
   ]
  },
  {
   "cell_type": "code",
   "execution_count": 31,
   "metadata": {},
   "outputs": [
    {
     "name": "stdout",
     "output_type": "stream",
     "text": [
      "Dear Student Your Percentage Is 45 Now Your Calculated Grade Is: D\n"
     ]
    }
   ],
   "source": [
    "from typing import Union;\n",
    "\n",
    "per : Union[int, float] = int(input(\"Enter Your Percentage:\"));\n",
    "\n",
    "grade :Union[str, None] = None;\n",
    "\n",
    "if per >= 0 and per < 33:\n",
    "    grade = \"Fail\";\n",
    "    print(f\"Dear Student Your Percentage Is {per} Now Your Calculated Grade Is: {grade}\");\n",
    "elif per >= 33 and per < 40:\n",
    "    grade = \"E\";\n",
    "    print(f\"Dear Student Your Percentage Is {per} Now Your Calculated Grade Is: {grade}\");\n",
    "elif per >= 40 and per < 50:\n",
    "    grade = \"D\";\n",
    "    print(f\"Dear Student Your Percentage Is {per} Now Your Calculated Grade Is: {grade}\");\n",
    "elif per >= 50 and per < 60:\n",
    "    grade = \"C\";\n",
    "    print(f\"Dear Student Your Percentage Is {per} Now Your Calculated Grade Is: {grade}\");\n",
    "elif per >= 60 and per < 70 :\n",
    "    grade = \"B\";\n",
    "    print(f\"Dear Student Your Percentage Is {per} Now Your Calculated Grade Is: {grade}\");\n",
    "elif per >= 70 and per < 80 :\n",
    "    grade = \"A\";\n",
    "    print(f\"Dear Student Your Percentage Is {per} Now Your Calculated Grade Is: {grade}\");\n",
    "elif per >=80 and per < 100:\n",
    "    grade = \"A+\";\n",
    "    print(f\"Dear Student Your Percentage Is {per} Now Your Calculated Grade Is: {grade}\");\n",
    "else:\n",
    "    print(\"Error 404\");"
   ]
  },
  {
   "cell_type": "code",
   "execution_count": 44,
   "metadata": {},
   "outputs": [
    {
     "name": "stdout",
     "output_type": "stream",
     "text": [
      "Dear Student Your Percentage Is 79.2 Now Your Calculated Grade Is: A\n"
     ]
    }
   ],
   "source": [
    "from typing import Union;\n",
    "\n",
    "per : Union[int, float] = float(input(\"Enter Your Percentage:\"));\n",
    "\n",
    "grade :Union[str, None] = None;\n",
    "\n",
    "if (per >= 0) and (per < 33):\n",
    "    grade = \"Fail\";\n",
    "    print(f\"Dear Student Your Percentage Is {per} Now Your Calculated Grade Is: {grade}\");\n",
    "elif (per >= 33) and (per < 40):\n",
    "    grade = \"E\";\n",
    "    print(f\"Dear Student Your Percentage Is {per} Now Your Calculated Grade Is: {grade}\");\n",
    "elif (per >= 40) and (per < 50):\n",
    "    grade = \"D\";\n",
    "    print(f\"Dear Student Your Percentage Is {per} Now Your Calculated Grade Is: {grade}\");\n",
    "elif (per >= 50) and (per < 60):\n",
    "    grade = \"C\";\n",
    "    print(f\"Dear Student Your Percentage Is {per} Now Your Calculated Grade Is: {grade}\");\n",
    "elif (per >= 60) and (per < 70) :\n",
    "    grade = \"B\";\n",
    "    print(f\"Dear Student Your Percentage Is {per} Now Your Calculated Grade Is: {grade}\");\n",
    "elif (per >= 70) and (per < 80) :\n",
    "    grade = \"A\";\n",
    "    print(f\"Dear Student Your Percentage Is {per} Now Your Calculated Grade Is: {grade}\");\n",
    "elif (per >=80 )and (per < 100):\n",
    "    grade = \"A+\";\n",
    "    print(f\"Dear Student Your Percentage Is {per} Now Your Calculated Grade Is: {grade}\");\n",
    "else:\n",
    "    print(\"Error 404\");"
   ]
  },
  {
   "cell_type": "markdown",
   "metadata": {},
   "source": [
    "# **Type Alias**\n",
    "\n",
    "https://peps.python.org/pep-0484/#type-aliases"
   ]
  },
  {
   "cell_type": "code",
   "execution_count": 9,
   "metadata": {},
   "outputs": [
    {
     "name": "stdout",
     "output_type": "stream",
     "text": [
      "[88, 99.9, 50, 51, 65, 70]\n",
      "['A+', 'A+', 'C', 'C', 'B', 'A']\n"
     ]
    }
   ],
   "source": [
    "from typing import Union;\n",
    "\n",
    "PerType = Union[float, int];\n",
    "\n",
    "percentages : list[PerType] = [88, 99.9, 50, 51,65,70];\n",
    "\n",
    "grades : list[str] = [];\n",
    "\n",
    "for per in percentages:\n",
    "\n",
    "    grade : str = \"\";\n",
    "\n",
    "    if (per >= 0) and (per < 33):\n",
    "        grade = \"Fail\";\n",
    "    elif (per >= 33) and (per < 40):\n",
    "        grade = \"E\";\n",
    "    elif (per >= 40) and (per < 50):\n",
    "        grade = \"D\";\n",
    "    elif (per >= 50) and (per < 60):\n",
    "        grade = \"C\";\n",
    "    elif (per >= 60) and (per <70) :\n",
    "        grade = \"B\";\n",
    "    elif (per >= 70) and (per <80) :\n",
    "        grade = \"A\";\n",
    "    elif (per >=80) and (per <= 100):\n",
    "        grade = \"A+\";\n",
    "\n",
    "    grades.append(grade);\n",
    "\n",
    "print(percentages);\n",
    "\n",
    "print(grades);"
   ]
  },
  {
   "cell_type": "code",
   "execution_count": 17,
   "metadata": {},
   "outputs": [
    {
     "name": "stdout",
     "output_type": "stream",
     "text": [
      "<zip object at 0x00000186066ADF00>\n"
     ]
    }
   ],
   "source": [
    "print(zip(percentages, grades));"
   ]
  },
  {
   "cell_type": "code",
   "execution_count": 11,
   "metadata": {},
   "outputs": [
    {
     "name": "stdout",
     "output_type": "stream",
     "text": [
      "[(88, 'A+'), (99.9, 'A+'), (50, 'C'), (51, 'C'), (65, 'B'), (70, 'A')]\n"
     ]
    }
   ],
   "source": [
    "print(list(zip(percentages, grades)));"
   ]
  },
  {
   "cell_type": "code",
   "execution_count": 14,
   "metadata": {},
   "outputs": [
    {
     "name": "stdout",
     "output_type": "stream",
     "text": [
      "[0, 1, 2, 3, 4, 5]\n"
     ]
    }
   ],
   "source": [
    "rollNum: list[int] = list(range(len(percentages)));\n",
    "\n",
    "print(rollNum);"
   ]
  },
  {
   "cell_type": "code",
   "execution_count": 18,
   "metadata": {},
   "outputs": [
    {
     "data": {
      "text/plain": [
       "[(0, 88, 'A+'),\n",
       " (1, 99.9, 'A+'),\n",
       " (2, 50, 'C'),\n",
       " (3, 51, 'C'),\n",
       " (4, 65, 'B'),\n",
       " (5, 70, 'A')]"
      ]
     },
     "execution_count": 18,
     "metadata": {},
     "output_type": "execute_result"
    }
   ],
   "source": [
    "data: list[int] = list(zip(rollNum, percentages, grades));\n",
    "\n",
    "data"
   ]
  },
  {
   "cell_type": "code",
   "execution_count": 21,
   "metadata": {},
   "outputs": [
    {
     "data": {
      "text/plain": [
       "[(0, 88, 'A+'),\n",
       " (1, 99.9, 'A+'),\n",
       " (2, 50, 'C'),\n",
       " (3, 51, 'C'),\n",
       " (4, 65, 'B'),\n",
       " (5, 70, 'A')]"
      ]
     },
     "metadata": {},
     "output_type": "display_data"
    }
   ],
   "source": [
    "display(data);\n",
    "\n",
    "sorted(data)"
   ]
  },
  {
   "cell_type": "code",
   "execution_count": 22,
   "metadata": {},
   "outputs": [
    {
     "data": {
      "text/plain": [
       "[(0, 88, 'A+'),\n",
       " (1, 99.9, 'A+'),\n",
       " (2, 50, 'C'),\n",
       " (3, 51, 'C'),\n",
       " (4, 65, 'B'),\n",
       " (5, 70, 'A')]"
      ]
     },
     "metadata": {},
     "output_type": "display_data"
    },
    {
     "data": {
      "text/plain": [
       "[(2, 50, 'C'),\n",
       " (3, 51, 'C'),\n",
       " (4, 65, 'B'),\n",
       " (5, 70, 'A'),\n",
       " (0, 88, 'A+'),\n",
       " (1, 99.9, 'A+')]"
      ]
     },
     "execution_count": 22,
     "metadata": {},
     "output_type": "execute_result"
    }
   ],
   "source": [
    "display(data);\n",
    "\n",
    "sorted(data, key = lambda x:x[1])"
   ]
  },
  {
   "cell_type": "code",
   "execution_count": 24,
   "metadata": {},
   "outputs": [
    {
     "data": {
      "text/plain": [
       "[(0, 88, 'A+'),\n",
       " (1, 99.9, 'A+'),\n",
       " (2, 50, 'C'),\n",
       " (3, 51, 'C'),\n",
       " (4, 65, 'B'),\n",
       " (5, 70, 'A')]"
      ]
     },
     "metadata": {},
     "output_type": "display_data"
    },
    {
     "data": {
      "text/plain": [
       "[(1, 99.9, 'A+'),\n",
       " (0, 88, 'A+'),\n",
       " (5, 70, 'A'),\n",
       " (4, 65, 'B'),\n",
       " (3, 51, 'C'),\n",
       " (2, 50, 'C')]"
      ]
     },
     "execution_count": 24,
     "metadata": {},
     "output_type": "execute_result"
    }
   ],
   "source": [
    "display(data);\n",
    "\n",
    "sorted(data, key = lambda x:x[1], reverse = True)"
   ]
  },
  {
   "cell_type": "code",
   "execution_count": 26,
   "metadata": {},
   "outputs": [
    {
     "name": "stdout",
     "output_type": "stream",
     "text": [
      "Tesla\n",
      "BUGATTI\n",
      "Lamborghini\n",
      "Ferrari\n"
     ]
    }
   ],
   "source": [
    "cars : list[str] = [\"tesla\", \"bugatti\", \"lamborghini\", \"ferrari\"];\n",
    "\n",
    "for car in cars:\n",
    "\n",
    "    if car == \"bugatti\":\n",
    "     \n",
    "     print(car.upper());\n",
    "    \n",
    "    else:\n",
    "     \n",
    "     print(car.title());"
   ]
  },
  {
   "cell_type": "code",
   "execution_count": 28,
   "metadata": {},
   "outputs": [
    {
     "data": {
      "text/plain": [
       "['Tesla', 'BUGATTI', 'Lamborghini', 'Ferrari']"
      ]
     },
     "execution_count": 28,
     "metadata": {},
     "output_type": "execute_result"
    }
   ],
   "source": [
    "cars : list[str] = [\"tesla\", \"bugatti\", \"lamborghini\", \"ferrari\"];\n",
    "\n",
    "[i.upper() if i == \"bugatti\" else i.title() for i in cars]"
   ]
  },
  {
   "cell_type": "code",
   "execution_count": 30,
   "metadata": {},
   "outputs": [
    {
     "name": "stdout",
     "output_type": "stream",
     "text": [
      "['tesla', 'bugatti', 'lamborghini', 'ferrari']\n"
     ]
    },
    {
     "data": {
      "text/plain": [
       "False"
      ]
     },
     "execution_count": 30,
     "metadata": {},
     "output_type": "execute_result"
    }
   ],
   "source": [
    "print(cars); # Because After Running Loop It Last Value\n",
    "\n",
    "car == \"bugatti\""
   ]
  },
  {
   "cell_type": "code",
   "execution_count": 31,
   "metadata": {},
   "outputs": [
    {
     "name": "stdout",
     "output_type": "stream",
     "text": [
      "Lamborghini\n"
     ]
    }
   ],
   "source": [
    "car = \"lamborghini\";\n",
    "\n",
    "car == \"audi\"\n",
    "\n",
    "print(car.title());"
   ]
  },
  {
   "cell_type": "code",
   "execution_count": 12,
   "metadata": {},
   "outputs": [
    {
     "name": "stdout",
     "output_type": "stream",
     "text": [
      "TESLA\n",
      "BUGATTI\n",
      "Civic\n",
      "LAMBORGHINI\n",
      "FERRARI\n"
     ]
    }
   ],
   "source": [
    "cars : list[str] = [\"tesla\", \"bugatti\", \"Civic\", \"lamborghini\", \"ferrari\"];\n",
    "\n",
    "for car in cars:\n",
    "\n",
    "    if car != \"Civic\":\n",
    "\n",
    "        print(car.upper());\n",
    "    \n",
    "    else:\n",
    "\n",
    "        print(car.title());"
   ]
  },
  {
   "cell_type": "code",
   "execution_count": 13,
   "metadata": {},
   "outputs": [
    {
     "name": "stdout",
     "output_type": "stream",
     "text": [
      "That Is Not The Correct Answer. Please Try Again!\n"
     ]
    }
   ],
   "source": [
    "answer = 17;\n",
    "\n",
    "if answer != 42:\n",
    "\n",
    "    print(\"That Is Not The Correct Answer. Please Try Again!\");"
   ]
  },
  {
   "cell_type": "code",
   "execution_count": 14,
   "metadata": {},
   "outputs": [
    {
     "data": {
      "text/plain": [
       "False"
      ]
     },
     "execution_count": 14,
     "metadata": {},
     "output_type": "execute_result"
    }
   ],
   "source": [
    "cars : list[str] = [\"Tesla\", \"Bugatti\", \"Lamborghini\", \"Ferrari\"];\n",
    "\n",
    "\"BWM\" in cars"
   ]
  },
  {
   "cell_type": "code",
   "execution_count": 15,
   "metadata": {},
   "outputs": [
    {
     "data": {
      "text/plain": [
       "True"
      ]
     },
     "execution_count": 15,
     "metadata": {},
     "output_type": "execute_result"
    }
   ],
   "source": [
    "cars : list[str] = [\"Tesla\", \"Bugatti\", \"Lamborghini\", \"Ferrari\"];\n",
    "\n",
    "\"Tesla\" in cars"
   ]
  },
  {
   "cell_type": "code",
   "execution_count": 18,
   "metadata": {},
   "outputs": [
    {
     "name": "stdout",
     "output_type": "stream",
     "text": [
      "True\n",
      "Jay, You Can Post A Response If You Wish.\n"
     ]
    }
   ],
   "source": [
    "bannedUser : list[str] = [\"Andrew\", \"David\", \"Martin\"];\n",
    "\n",
    "user : str = \"Jay\";\n",
    "\n",
    "print(user not in bannedUser);\n",
    "\n",
    "if user not in bannedUser:\n",
    "\n",
    "    print(f\"{user.title()}, You Can Post A Response If You Wish.\");"
   ]
  },
  {
   "cell_type": "code",
   "execution_count": 19,
   "metadata": {},
   "outputs": [
    {
     "name": "stdout",
     "output_type": "stream",
     "text": [
      "Sorry, You Are Too Young To Vote.\n",
      "Please Register To Vote As Soon As You Turn 18!\n"
     ]
    }
   ],
   "source": [
    "age: int = 17;\n",
    "\n",
    "if age >= 18:\n",
    "    print(\"You Are Old Enough To Vote!\");\n",
    "    print(\"Have You Registered To Vote Yet...?\");\n",
    "else:\n",
    "    print(\"Sorry, You Are Too Young To Vote.\");\n",
    "    print(\"Please Register To Vote As Soon As You Turn 18!\");"
   ]
  },
  {
   "cell_type": "code",
   "execution_count": 29,
   "metadata": {},
   "outputs": [
    {
     "name": "stdout",
     "output_type": "stream",
     "text": [
      "Your Admission Cost Is $25.\n"
     ]
    }
   ],
   "source": [
    "age = 12;\n",
    "\n",
    "if age < 4:\n",
    "\n",
    "    print(\"Your Admission Cost Is $0.\");\n",
    "\n",
    "elif age < 18:\n",
    "\n",
    "    print(\"Your Admission Cost Is $25.\");\n",
    "\n",
    "else:\n",
    "      print(\"Your Admission Cost Is $40.\");"
   ]
  },
  {
   "cell_type": "code",
   "execution_count": 32,
   "metadata": {},
   "outputs": [
    {
     "name": "stdout",
     "output_type": "stream",
     "text": [
      "Adding Mushrooms.\n",
      "Adding Extra Cheese.\n",
      "\n",
      "Finished Making Your Pizza!\n"
     ]
    }
   ],
   "source": [
    "pizza : list[str] = [\"Mushrooms\", \"Extra Cheese\"];\n",
    "\n",
    "if \"Mushrooms\" in pizza:\n",
    "      print(\"Adding Mushrooms.\");\n",
    "    \n",
    "if \"Pepperoni\" in pizza: \n",
    "    print(\"Adding Pepperoni.\");\n",
    "    \n",
    "if \"Extra Cheese\" in pizza:\n",
    "    print(\"Adding Extra Cheese.\");\n",
    "    \n",
    "print(\"\\nFinished Making Your Pizza!\");"
   ]
  },
  {
   "cell_type": "code",
   "execution_count": 35,
   "metadata": {},
   "outputs": [
    {
     "name": "stdout",
     "output_type": "stream",
     "text": [
      "Adding Mushrooms.\n",
      "Sorry, We Are Out Of Green Peppers Right Now.\n",
      "Adding Extra Cheese.\n",
      "\n",
      "Finished Making Your Pizza!\n"
     ]
    }
   ],
   "source": [
    "pizzas : list[str] = [\"Mushrooms\", \"Green Peppers\", \"Extra Cheese\"];\n",
    "\n",
    "for pizza in pizzas:\n",
    "\n",
    "    if pizza == \"Green Peppers\":\n",
    "\n",
    "        print(\"Sorry, We Are Out Of Green Peppers Right Now.\");\n",
    "    \n",
    "    else:\n",
    "\n",
    "        print(f\"Adding {pizza}.\");\n",
    "\n",
    "print(\"\\nFinished Making Your Pizza!\");"
   ]
  },
  {
   "cell_type": "code",
   "execution_count": 43,
   "metadata": {},
   "outputs": [
    {
     "name": "stdout",
     "output_type": "stream",
     "text": [
      "Are You Sure You Want A Plain Pizza?\n"
     ]
    }
   ],
   "source": [
    "pizzas = [];\n",
    "\n",
    "if pizzas:\n",
    "\n",
    "    for pizza in pizzas:\n",
    "\n",
    "        print(f\"Adding {pizza}.\");\n",
    "    \n",
    "    print(\"\\nFinished Making Your Pizza!\");\n",
    "\n",
    "else:\n",
    "\n",
    "    print(\"Are You Sure You Want A Plain Pizza?\");"
   ]
  },
  {
   "cell_type": "code",
   "execution_count": 47,
   "metadata": {},
   "outputs": [
    {
     "name": "stdout",
     "output_type": "stream",
     "text": [
      "Adding Mushrooms.\n",
      "Sorry, We Don't Have Tikka.\n",
      "Adding Extra Cheese.\n",
      "\n",
      "Finished Making Your Pizza!\n"
     ]
    }
   ],
   "source": [
    "pizzaAvailable : list[str] = [\"Mushrooms\", \"Olives\", \"Green Peppers\", \"Extra Cheese\", \"Pepperoni\"];\n",
    "\n",
    "pizzas : list[str] = [\"Mushrooms\", \"Tikka\", \"Extra Cheese\"]; # Input Pizza\n",
    "\n",
    "for pizza in pizzas:\n",
    "\n",
    "    if pizza in pizzaAvailable:\n",
    "\n",
    "        print(f\"Adding {pizza}.\");\n",
    "\n",
    "    else:\n",
    "\n",
    "        print(f\"Sorry, We Don't Have {pizza}.\");\n",
    "\n",
    "print(\"\\nFinished Making Your Pizza!\");"
   ]
  },
  {
   "cell_type": "code",
   "execution_count": 49,
   "metadata": {},
   "outputs": [
    {
     "data": {
      "text/plain": [
       "['AHM X', ' 4', ' True', ' Karachi']"
      ]
     },
     "execution_count": 49,
     "metadata": {},
     "output_type": "execute_result"
    }
   ],
   "source": [
    "input(\"Enter ',' Seprated Value For Topping\").split(\",\")"
   ]
  },
  {
   "cell_type": "code",
   "execution_count": 58,
   "metadata": {},
   "outputs": [
    {
     "name": "stdout",
     "output_type": "stream",
     "text": [
      "Sent OTP On Your Registered Number\n",
      "Welcome Ahmed\n"
     ]
    }
   ],
   "source": [
    "userName : str = input(\"Enter Your Username:\");\n",
    "\n",
    "passwrod : str = input(\"Enter Your Password:\");\n",
    "\n",
    "if userName == \"Ahmed\" and passwrod == \"786\":\n",
    "\n",
    "    print(\"Sent OTP On Your Registered Number\");\n",
    "\n",
    "    otp : str = input(\"Please Enter OTP:\");\n",
    "\n",
    "    if otp == \"123\":\n",
    "\n",
    "        print(f\"Welcome {userName}\");\n",
    "\n",
    "else:\n",
    "\n",
    "    print(\"Invalid User Or Password\");\n"
   ]
  },
  {
   "cell_type": "code",
   "execution_count": 59,
   "metadata": {},
   "outputs": [
    {
     "name": "stdout",
     "output_type": "stream",
     "text": [
      "Sent OTP On Your Registered Number\n",
      "Invalid User Or Password Or OTP\n"
     ]
    }
   ],
   "source": [
    "userName : str = input(\"Enter Your Username:\");\n",
    "\n",
    "passwrod : str = input(\"Enter Your Password:\");\n",
    "\n",
    "if userName and passwrod:\n",
    "\n",
    "    print(\"Sent OTP On Your Registered Number\");\n",
    "\n",
    "    otp : str = input(\"Please Enter OTP:\");\n",
    "\n",
    "    if otp == \"123\":\n",
    "\n",
    "        print(f\"Welcome {userName}\");\n",
    "\n",
    "    else:\n",
    "\n",
    "        print(\"Invalid User Or Password Or OTP\");"
   ]
  }
 ],
 "metadata": {
  "kernelspec": {
   "display_name": "base",
   "language": "python",
   "name": "python3"
  },
  "language_info": {
   "codemirror_mode": {
    "name": "ipython",
    "version": 3
   },
   "file_extension": ".py",
   "mimetype": "text/x-python",
   "name": "python",
   "nbconvert_exporter": "python",
   "pygments_lexer": "ipython3",
   "version": "3.11.5"
  }
 },
 "nbformat": 4,
 "nbformat_minor": 2
}
