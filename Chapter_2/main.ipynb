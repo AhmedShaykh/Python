{
  "cells": [
    {
      "cell_type": "markdown",
      "metadata": {
        "id": "YQVl_wGZUdat"
      },
      "source": [
        "# **Variables**"
      ]
    },
    {
      "cell_type": "markdown",
      "metadata": {
        "id": "TarQCRg7UYuf"
      },
      "source": []
    },
    {
      "cell_type": "code",
      "execution_count": 22,
      "metadata": {
        "colab": {
          "base_uri": "https://localhost:8080/"
        },
        "id": "yde0-9D9Ua-k",
        "outputId": "c85d9dcd-8079-47d2-c21c-06b5ed761ed1"
      },
      "outputs": [
        {
          "name": "stdout",
          "output_type": "stream",
          "text": [
            "Learning Generative AI!\n"
          ]
        }
      ],
      "source": [
        "message = \"Learning Generative AI!\";\n",
        "\n",
        "print(message);"
      ]
    },
    {
      "cell_type": "code",
      "execution_count": 23,
      "metadata": {
        "colab": {
          "base_uri": "https://localhost:8080/"
        },
        "id": "KhXVihD1Tn1l",
        "outputId": "8bd137bd-2ae9-4f44-8a97-7c7e1add2012"
      },
      "outputs": [
        {
          "name": "stdout",
          "output_type": "stream",
          "text": [
            "Learning Generative AI!\n",
            "Learning Gen AI!\n"
          ]
        }
      ],
      "source": [
        "message = \"Learning Generative AI!\";\n",
        "\n",
        "print(message);\n",
        "\n",
        "message = \"Learning Gen AI!\";\n",
        "\n",
        "print(message);"
      ]
    },
    {
      "cell_type": "code",
      "execution_count": 24,
      "metadata": {
        "colab": {
          "base_uri": "https://localhost:8080/"
        },
        "id": "H6Klz3R6UvgN",
        "outputId": "3fa16e50-9279-4837-93f9-a1591b483c42"
      },
      "outputs": [
        {
          "name": "stdout",
          "output_type": "stream",
          "text": [
            "My Name Is Ahmed Shaykh\n"
          ]
        }
      ],
      "source": [
        "name = \"my name is ahmed shaykh\";\n",
        "\n",
        "print(name.title());"
      ]
    },
    {
      "cell_type": "markdown",
      "metadata": {
        "id": "yy_1_N8pU24B"
      },
      "source": [
        "# **Data Types**\n"
      ]
    },
    {
      "cell_type": "code",
      "execution_count": 26,
      "metadata": {
        "colab": {
          "base_uri": "https://localhost:8080/"
        },
        "id": "l0SnK7HwU6GA",
        "outputId": "a3f3ce13-bdf7-468b-acea-0fefdfc3a402"
      },
      "outputs": [
        {
          "name": "stdout",
          "output_type": "stream",
          "text": [
            "Ahmed Saleem Shaikh\n"
          ]
        }
      ],
      "source": [
        "name: str = \"Ahmed Saleem Shaikh\";\n",
        "\n",
        "print(name);"
      ]
    },
    {
      "cell_type": "code",
      "execution_count": 27,
      "metadata": {
        "colab": {
          "base_uri": "https://localhost:8080/"
        },
        "id": "_47uL5TMVW12",
        "outputId": "a33e4b3b-1e90-4d46-a250-42657607b486"
      },
      "outputs": [
        {
          "name": "stdout",
          "output_type": "stream",
          "text": [
            "Ahmëd Shäykh\n",
            "4\n"
          ]
        }
      ],
      "source": [
        "val: str = \"Ahmëd Shäykh\";\n",
        "\n",
        "print(val);\n",
        "\n",
        "val: int = 4;\n",
        "\n",
        "print(val);"
      ]
    },
    {
      "cell_type": "code",
      "execution_count": 31,
      "metadata": {
        "colab": {
          "base_uri": "https://localhost:8080/"
        },
        "id": "k8G-kdKYVx6_",
        "outputId": "b878e435-dfe7-48ca-e917-8ec5bba6f8f2"
      },
      "outputs": [
        {
          "name": "stdout",
          "output_type": "stream",
          "text": [
            "Sabrina Carpenter\n",
            "SABRINA CARPENTER\n",
            "sabrina carpenter\n"
          ]
        }
      ],
      "source": [
        "name: str = \"sAbrina CarpenTer\";\n",
        "\n",
        "print(name.title());\n",
        "\n",
        "print(name.upper());\n",
        "\n",
        "print(name.lower());"
      ]
    },
    {
      "cell_type": "code",
      "execution_count": 36,
      "metadata": {
        "colab": {
          "base_uri": "https://localhost:8080/"
        },
        "id": "Kt5A5Ho8WTCA",
        "outputId": "7ffb2765-7e92-430e-f755-dfecd4b1c606"
      },
      "outputs": [
        {
          "name": "stdout",
          "output_type": "stream",
          "text": [
            "Imran Khan\n",
            "Imran Khan Zindabad!\n"
          ]
        }
      ],
      "source": [
        "first_name: str = \"Imran\";\n",
        "\n",
        "last_name: str = \"Khan\";\n",
        "\n",
        "full_name = f\"{first_name} {last_name}\";\n",
        "\n",
        "print(full_name);\n",
        "\n",
        "mess: str = f\"{full_name.title()} Zindabad!\";\n",
        "\n",
        "print(mess);"
      ]
    },
    {
      "cell_type": "code",
      "execution_count": 38,
      "metadata": {
        "colab": {
          "base_uri": "https://localhost:8080/"
        },
        "id": "4tnbwtEOXX56",
        "outputId": "e11b35d0-16f8-46f0-a769-adcfdf5c60be"
      },
      "outputs": [
        {
          "name": "stdout",
          "output_type": "stream",
          "text": [
            "TypeScript\n",
            "\tPython\n"
          ]
        }
      ],
      "source": [
        "print(\"TypeScript\");\n",
        "\n",
        "print(\"\\tPython\");"
      ]
    },
    {
      "cell_type": "code",
      "execution_count": 43,
      "metadata": {
        "colab": {
          "base_uri": "https://localhost:8080/"
        },
        "id": "RfQMOLvwXw9P",
        "outputId": "1254a5e1-7c52-48de-ac66-a8d36db13424"
      },
      "outputs": [
        {
          "name": "stdout",
          "output_type": "stream",
          "text": [
            "Languages:\n",
            "\n",
            "JavaScript\n",
            "Python\n",
            "TypeScript\n"
          ]
        }
      ],
      "source": [
        "print(\"Languages:\\n\\nJavaScript\\nPython\\nTypeScript\");"
      ]
    },
    {
      "cell_type": "code",
      "execution_count": 44,
      "metadata": {
        "colab": {
          "base_uri": "https://localhost:8080/"
        },
        "id": "7zSP32v8YY3w",
        "outputId": "c3a99af2-b347-4b4b-f3b1-9cbc294d1aa7"
      },
      "outputs": [
        {
          "name": "stdout",
          "output_type": "stream",
          "text": [
            "Languages:\n",
            "\n",
            "\tTypeScript\n",
            "\tPython\n",
            "\tSolidity\n"
          ]
        }
      ],
      "source": [
        "print(\"Languages:\\n\\n\\tTypeScript\\n\\tPython\\n\\tSolidity\");"
      ]
    },
    {
      "cell_type": "code",
      "execution_count": 60,
      "metadata": {
        "colab": {
          "base_uri": "https://localhost:8080/"
        },
        "id": "pokjQ1gzZBZj",
        "outputId": "5ae934fb-9e87-4244-bb26-e1c83facd350"
      },
      "outputs": [
        {
          "name": "stdout",
          "output_type": "stream",
          "text": [
            "Python \n",
            "Python\n",
            " JavaScript\n",
            "JavaScript\n",
            "  TypeScript  \n",
            "TypeScript\n"
          ]
        }
      ],
      "source": [
        "language: str = \"Python \";\n",
        "\n",
        "print(language);\n",
        "\n",
        "print(language.rstrip()); # Remove Extra Space For Right Side\n",
        "\n",
        "language: str = \" JavaScript\";\n",
        "\n",
        "print(language);\n",
        "\n",
        "print(language.lstrip()); # Remove Extra Space For Left Side\n",
        "\n",
        "language: str = \"  TypeScript  \";\n",
        "\n",
        "print(language);\n",
        "\n",
        "print(language.strip()); # Remove Extra Space For Both Sides"
      ]
    },
    {
      "cell_type": "code",
      "execution_count": 62,
      "metadata": {
        "colab": {
          "base_uri": "https://localhost:8080/"
        },
        "id": "pMGJJnN0bgO4",
        "outputId": "07ed2709-e7da-47c1-d3f8-4966a132d772"
      },
      "outputs": [
        {
          "name": "stdout",
          "output_type": "stream",
          "text": [
            "ahmxmusic.com\n"
          ]
        }
      ],
      "source": [
        "url: str = \"https://ahmxmusic.com\";\n",
        "\n",
        "print(url.removeprefix(\"https://\"));"
      ]
    },
    {
      "cell_type": "code",
      "execution_count": 72,
      "metadata": {
        "colab": {
          "base_uri": "https://localhost:8080/"
        },
        "id": "wsOwsiImb5Wg",
        "outputId": "ce795f2d-f6a9-4284-bac3-d80fe989ebe5"
      },
      "outputs": [
        {
          "name": "stdout",
          "output_type": "stream",
          "text": [
            "JS Python\n",
            "TS JS \n"
          ]
        }
      ],
      "source": [
        "lang: str = \"TS JS Python\";\n",
        "\n",
        "print(lang.removeprefix(\"TS \"));\n",
        "\n",
        "lang: str = \"TS JS Python\";\n",
        "\n",
        "print(lang.removesuffix(\"Python\"));"
      ]
    },
    {
      "cell_type": "code",
      "execution_count": 75,
      "metadata": {
        "colab": {
          "base_uri": "https://localhost:8080/"
        },
        "id": "fD5HTRRGchwV",
        "outputId": "c795044f-eedb-4bfd-f19b-9ce21477c742"
      },
      "outputs": [
        {
          "name": "stdout",
          "output_type": "stream",
          "text": [
            "5\n",
            "6\n",
            "1.5\n",
            "256\n"
          ]
        }
      ],
      "source": [
        "num: int = 2 + 3;\n",
        "\n",
        "print(num);\n",
        "\n",
        "num: int = 2 * 3;\n",
        "\n",
        "print(num);\n",
        "\n",
        "num: int = 3 / 2;\n",
        "\n",
        "print(num);\n",
        "\n",
        "num: int = 4 ** 4;\n",
        "\n",
        "print(num);"
      ]
    },
    {
      "cell_type": "code",
      "execution_count": 76,
      "metadata": {
        "colab": {
          "base_uri": "https://localhost:8080/"
        },
        "id": "xFn6GtMQfT1y",
        "outputId": "710c229a-d3c9-45a8-ff67-f48e8b143743"
      },
      "outputs": [
        {
          "name": "stdout",
          "output_type": "stream",
          "text": [
            "14\n",
            "20\n"
          ]
        }
      ],
      "source": [
        "num: int = 2 + 3 * 4;\n",
        "\n",
        "print(num);\n",
        "\n",
        "num: int = (2 + 3) * 4;\n",
        "\n",
        "print(num);"
      ]
    },
    {
      "cell_type": "code",
      "execution_count": 87,
      "metadata": {
        "colab": {
          "base_uri": "https://localhost:8080/"
        },
        "id": "5jlJ2yPTgV-M",
        "outputId": "93f1d0bb-2480-4072-c40e-54f82a25c13d"
      },
      "outputs": [
        {
          "name": "stdout",
          "output_type": "stream",
          "text": [
            "0.2\n",
            "0.4\n",
            "0.30000000000000004\n",
            "0.30000000000000004\n",
            "2.0\n",
            "<class 'float'>\n",
            "9.0\n"
          ]
        }
      ],
      "source": [
        "floatNum: float = 0.1 + 0.1;\n",
        "\n",
        "print(floatNum);\n",
        "\n",
        "floatNum: float = 2 * 0.2;\n",
        "\n",
        "print(floatNum);\n",
        "\n",
        "floatNum: float = 0.2 + 0.1;\n",
        "\n",
        "print(floatNum);\n",
        "\n",
        "floatNum: float = 3 * 0.1;\n",
        "\n",
        "print(floatNum);\n",
        "\n",
        "num: int = 4/2;\n",
        "\n",
        "print(num);\n",
        "print(type(num));\n",
        "\n",
        "floatNum: float = 3.0 ** 2;\n",
        "\n",
        "print(floatNum);"
      ]
    },
    {
      "cell_type": "code",
      "execution_count": 89,
      "metadata": {
        "colab": {
          "base_uri": "https://localhost:8080/"
        },
        "id": "py5MEKx1hyJa",
        "outputId": "2a26eebd-ebfe-48d7-fae7-3d403e25001d"
      },
      "outputs": [
        {
          "name": "stdout",
          "output_type": "stream",
          "text": [
            "14000000000\n",
            "<class 'int'>\n"
          ]
        }
      ],
      "source": [
        "universe_age = 14_000_000_000;\n",
        "\n",
        "print(universe_age);\n",
        "print(type(universe_age));"
      ]
    },
    {
      "cell_type": "code",
      "execution_count": 96,
      "metadata": {
        "colab": {
          "base_uri": "https://localhost:8080/"
        },
        "id": "gL3ksqIXibO_",
        "outputId": "28c41a7f-3509-437b-8b71-b6c8ee5a3892"
      },
      "outputs": [
        {
          "name": "stdout",
          "output_type": "stream",
          "text": [
            "7\n",
            "6\n"
          ]
        }
      ],
      "source": [
        "x, y, z = 7, 8, 6;\n",
        "\n",
        "print(x);\n",
        "print(z);"
      ]
    },
    {
      "cell_type": "code",
      "execution_count": 105,
      "metadata": {
        "colab": {
          "base_uri": "https://localhost:8080/"
        },
        "id": "PsOzjjh9kfBO",
        "outputId": "4005f82b-022c-495d-cb9d-e26794e514c6"
      },
      "outputs": [
        {
          "name": "stdout",
          "output_type": "stream",
          "text": [
            "True\n",
            "99173244232736\n",
            "True\n",
            "<class 'bool'>\n",
            "False\n",
            "99173244232704\n",
            "<class 'bool'>\n"
          ]
        }
      ],
      "source": [
        "boolean: bool = True;\n",
        "\n",
        "print(boolean);\n",
        "print(id(boolean));\n",
        "\n",
        "boolean: bool = bool(1);\n",
        "\n",
        "print(boolean);\n",
        "print(type(boolean));\n",
        "\n",
        "boolean: bool = bool(0);\n",
        "\n",
        "print(boolean);\n",
        "print(id(boolean));\n",
        "print(type(boolean));"
      ]
    }
  ],
  "metadata": {
    "colab": {
      "provenance": []
    },
    "kernelspec": {
      "display_name": "Python 3",
      "name": "python3"
    },
    "language_info": {
      "name": "python"
    }
  },
  "nbformat": 4,
  "nbformat_minor": 0
}
