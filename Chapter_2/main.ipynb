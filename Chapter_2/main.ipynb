{
 "cells": [
  {
   "cell_type": "markdown",
   "metadata": {},
   "source": [
    "# Data Types"
   ]
  },
  {
   "cell_type": "code",
   "execution_count": 19,
   "metadata": {},
   "outputs": [
    {
     "name": "stdout",
     "output_type": "stream",
     "text": [
      "Ahmed Saleem Shaikh\n"
     ]
    }
   ],
   "source": [
    "name: str = \"Ahmed Saleem Shaikh\";\n",
    "\n",
    "print(name);"
   ]
  },
  {
   "cell_type": "code",
   "execution_count": 20,
   "metadata": {},
   "outputs": [
    {
     "name": "stdout",
     "output_type": "stream",
     "text": [
      "Ahmëd Shäykh\n",
      "4\n"
     ]
    }
   ],
   "source": [
    "val: str = \"Ahmëd Shäykh\";\n",
    "\n",
    "print(val);\n",
    "\n",
    "val: int = 4;\n",
    "\n",
    "print(val);"
   ]
  },
  {
   "cell_type": "code",
   "execution_count": 21,
   "metadata": {},
   "outputs": [
    {
     "name": "stdout",
     "output_type": "stream",
     "text": [
      "Sabrina Carpenter\n",
      "SABRINA CARPENTER\n",
      "sabrina carpenter\n"
     ]
    }
   ],
   "source": [
    "name: str = \"sAbrina CarpenTer\";\n",
    "\n",
    "print(name.title());\n",
    "\n",
    "print(name.upper());\n",
    "\n",
    "print(name.lower());"
   ]
  },
  {
   "cell_type": "code",
   "execution_count": 22,
   "metadata": {},
   "outputs": [
    {
     "name": "stdout",
     "output_type": "stream",
     "text": [
      "I Have 2 Million's Dollars\n"
     ]
    }
   ],
   "source": [
    "mess: str = 'I Have 2 Million\\'s Dollars';\n",
    "\n",
    "print(mess);"
   ]
  },
  {
   "cell_type": "code",
   "execution_count": 23,
   "metadata": {},
   "outputs": [
    {
     "name": "stdout",
     "output_type": "stream",
     "text": [
      "TypeScript\n",
      "\tPython\n"
     ]
    }
   ],
   "source": [
    "print(\"TypeScript\");\n",
    "\n",
    "print(\"\\tPython\");"
   ]
  },
  {
   "cell_type": "code",
   "execution_count": 24,
   "metadata": {},
   "outputs": [
    {
     "name": "stdout",
     "output_type": "stream",
     "text": [
      "Languages:\n",
      "\n",
      "JavaScript\n",
      "Python\n",
      "TypeScript\n"
     ]
    }
   ],
   "source": [
    "print(\"Languages:\\n\\nJavaScript\\nPython\\nTypeScript\");"
   ]
  },
  {
   "cell_type": "code",
   "execution_count": 25,
   "metadata": {},
   "outputs": [
    {
     "name": "stdout",
     "output_type": "stream",
     "text": [
      "Languages:\n",
      "\n",
      "\tTypeScript\n",
      "\tPython\n",
      "\tSolidity\n"
     ]
    }
   ],
   "source": [
    "print(\"Languages:\\n\\n\\tTypeScript\\n\\tPython\\n\\tSolidity\");"
   ]
  },
  {
   "cell_type": "code",
   "execution_count": 26,
   "metadata": {},
   "outputs": [
    {
     "name": "stdout",
     "output_type": "stream",
     "text": [
      "Python \n",
      "Python\n",
      " JavaScript\n",
      "JavaScript\n",
      "  TypeScript  \n",
      "TypeScript\n"
     ]
    }
   ],
   "source": [
    "language: str = \"Python \";\n",
    "\n",
    "print(language);\n",
    "\n",
    "print(language.rstrip()); # Remove Extra Space For Right Side\n",
    "\n",
    "language: str = \" JavaScript\";\n",
    "\n",
    "print(language);\n",
    "\n",
    "print(language.lstrip()); # Remove Extra Space For Left Side\n",
    "\n",
    "language: str = \"  TypeScript  \";\n",
    "\n",
    "print(language);\n",
    "\n",
    "print(language.strip()); # Remove Extra Space For Both Sides"
   ]
  },
  {
   "cell_type": "code",
   "execution_count": 27,
   "metadata": {},
   "outputs": [
    {
     "name": "stdout",
     "output_type": "stream",
     "text": [
      "AHM X\n"
     ]
    }
   ],
   "source": [
    "name: str = \"A\" + \"H\" + \"M\" + \" X\";\n",
    "\n",
    "print(name);"
   ]
  }
 ],
 "metadata": {
  "kernelspec": {
   "display_name": "py12",
   "language": "python",
   "name": "python3"
  },
  "language_info": {
   "codemirror_mode": {
    "name": "ipython",
    "version": 3
   },
   "file_extension": ".py",
   "mimetype": "text/x-python",
   "name": "python",
   "nbconvert_exporter": "python",
   "pygments_lexer": "ipython3",
   "version": "3.11.5"
  }
 },
 "nbformat": 4,
 "nbformat_minor": 2
}
