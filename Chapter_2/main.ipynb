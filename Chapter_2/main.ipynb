{
  "cells": [
    {
      "cell_type": "markdown",
      "metadata": {
        "id": "6GCq1oXvRCPx"
      },
      "source": [
        "# **Data Types**"
      ]
    },
    {
      "cell_type": "code",
      "execution_count": 97,
      "metadata": {
        "id": "B88I_vESRCP4",
        "outputId": "0f2defa6-76c7-4f81-f9bc-70e64d95403a"
      },
      "outputs": [
        {
          "name": "stdout",
          "output_type": "stream",
          "text": [
            "Ahmed Saleem Shaikh\n"
          ]
        }
      ],
      "source": [
        "name: str = \"Ahmed Saleem Shaikh\";\n",
        "\n",
        "print(name);"
      ]
    },
    {
      "cell_type": "code",
      "execution_count": 98,
      "metadata": {
        "id": "7oM5d9ziRCP8",
        "outputId": "544725f4-aa1c-4471-d355-38173af3f4b8"
      },
      "outputs": [
        {
          "name": "stdout",
          "output_type": "stream",
          "text": [
            "Ahmëd Shäykh\n",
            "4\n"
          ]
        }
      ],
      "source": [
        "val: str = \"Ahmëd Shäykh\";\n",
        "\n",
        "print(val);\n",
        "\n",
        "val: int = 4;\n",
        "\n",
        "print(val);"
      ]
    },
    {
      "cell_type": "code",
      "execution_count": 99,
      "metadata": {
        "id": "kaO_wtDXRCP9",
        "outputId": "5e62c42c-f000-4ce7-c8b7-a9742d90cf87"
      },
      "outputs": [
        {
          "name": "stdout",
          "output_type": "stream",
          "text": [
            "Sabrina Carpenter\n",
            "SABRINA CARPENTER\n",
            "sabrina carpenter\n"
          ]
        }
      ],
      "source": [
        "name: str = \"sAbrina CarpenTer\";\n",
        "\n",
        "print(name.title());\n",
        "\n",
        "print(name.upper());\n",
        "\n",
        "print(name.lower());"
      ]
    },
    {
      "cell_type": "code",
      "execution_count": 100,
      "metadata": {
        "id": "IEi3EIQsRCP-",
        "outputId": "2f9427c8-aaca-4855-fcae-db2d7364d720"
      },
      "outputs": [
        {
          "name": "stdout",
          "output_type": "stream",
          "text": [
            "I Have 2 Million's Dollars\n"
          ]
        }
      ],
      "source": [
        "mess: str = 'I Have 2 Million\\'s Dollars';\n",
        "\n",
        "print(mess);"
      ]
    },
    {
      "cell_type": "code",
      "execution_count": 101,
      "metadata": {
        "id": "rtZHNFmGRCQC",
        "outputId": "dde61d84-c83a-482b-bf80-cded61e8ce08"
      },
      "outputs": [
        {
          "name": "stdout",
          "output_type": "stream",
          "text": [
            "AHM X\n"
          ]
        }
      ],
      "source": [
        "name: str = \"A\" + \"H\" + \"M\" + \" X\";\n",
        "\n",
        "print(name);"
      ]
    },
    {
      "cell_type": "code",
      "execution_count": 102,
      "metadata": {
        "id": "n_TyAYSMRCQD",
        "outputId": "4183639a-be51-42bc-e203-96c15625a1cb"
      },
      "outputs": [
        {
          "name": "stdout",
          "output_type": "stream",
          "text": [
            "25\n"
          ]
        }
      ],
      "source": [
        "print(9 + \\\n",
        "      10 + \\\n",
        "      6); # Backslash Means Next Logical Continue In Next Line"
      ]
    },
    {
      "cell_type": "markdown",
      "metadata": {
        "id": "xM_O5MO1RCQE"
      },
      "source": [
        "# **F-String**"
      ]
    },
    {
      "cell_type": "code",
      "execution_count": 213,
      "metadata": {
        "id": "Kn4bHIAtRCQF",
        "outputId": "84141259-8aba-47d1-c54c-7608dea2f812"
      },
      "outputs": [
        {
          "name": "stdout",
          "output_type": "stream",
          "text": [
            "Imran Khan\n",
            "IMRAN KHAN ZINDABAD!\n",
            "Imran Khan Zindabad!\n"
          ]
        }
      ],
      "source": [
        "first_name: str = \"Imran\";\n",
        "\n",
        "last_name: str = \"Khan\";\n",
        "\n",
        "full_name = f\"{first_name} {last_name}\";\n",
        "\n",
        "print(full_name);\n",
        "\n",
        "mess: str = f\"{full_name.upper()} ZINDABAD!\";\n",
        "\n",
        "print(mess);\n",
        "\n",
        "print(mess.title());"
      ]
    },
    {
      "cell_type": "code",
      "execution_count": 214,
      "metadata": {
        "id": "zABXCVORRCQG",
        "outputId": "ffd40af5-459b-4a1d-81ed-60e81d0c1ae1"
      },
      "outputs": [
        {
          "name": "stdout",
          "output_type": "stream",
          "text": [
            "\n",
            "Name: Ahmed Saleem Shaikh\n",
            "Artist Name: AHM X\n",
            "age: 23\n",
            "Skills: Full Stack Developer & Music Producer\n",
            "Muslim: True\n",
            "\n"
          ]
        }
      ],
      "source": [
        "name: str = \"Ahmed Saleem Shaikh\";\n",
        "\n",
        "artistName: str = \"AHM X\";\n",
        "\n",
        "age: int = 23;\n",
        "\n",
        "skills: str = \"Full Stack Developer & Music Producer\";\n",
        "\n",
        "muslim: bool = True;\n",
        "\n",
        "visaCard: str = f\"\"\"\n",
        "Name: {name}\n",
        "Artist Name: {artistName}\n",
        "age: {age}\n",
        "Skills: {skills}\n",
        "Muslim: {muslim}\n",
        "\"\"\"; # In A F-String Value Required In Brackets\n",
        "\n",
        "print(visaCard);"
      ]
    },
    {
      "cell_type": "code",
      "execution_count": 215,
      "metadata": {
        "id": "93Yux950RCQH",
        "outputId": "e31e8bb3-46b2-45d2-e385-3fa63981807e"
      },
      "outputs": [
        {
          "name": "stdout",
          "output_type": "stream",
          "text": [
            "\n",
            "Totals: 16\n",
            "\n"
          ]
        }
      ],
      "source": [
        "total: str = f\"\"\"\n",
        "Totals: {3 + 5 + 8}\n",
        "\"\"\";\n",
        "\n",
        "print(total);"
      ]
    },
    {
      "cell_type": "code",
      "execution_count": 216,
      "metadata": {
        "colab": {
          "base_uri": "https://localhost:8080/"
        },
        "id": "wfHFORSdRCQI",
        "outputId": "e045b05d-d24a-4165-c1f2-15c24bd9edb4"
      },
      "outputs": [
        {
          "data": {
            "text/plain": [
              "['capitalize',\n",
              " 'casefold',\n",
              " 'center',\n",
              " 'count',\n",
              " 'encode',\n",
              " 'endswith',\n",
              " 'expandtabs',\n",
              " 'find',\n",
              " 'format',\n",
              " 'format_map',\n",
              " 'index',\n",
              " 'isalnum',\n",
              " 'isalpha',\n",
              " 'isascii',\n",
              " 'isdecimal',\n",
              " 'isdigit',\n",
              " 'isidentifier',\n",
              " 'islower',\n",
              " 'isnumeric',\n",
              " 'isprintable',\n",
              " 'isspace',\n",
              " 'istitle',\n",
              " 'isupper',\n",
              " 'join',\n",
              " 'ljust',\n",
              " 'lower',\n",
              " 'lstrip',\n",
              " 'maketrans',\n",
              " 'partition',\n",
              " 'removeprefix',\n",
              " 'removesuffix',\n",
              " 'replace',\n",
              " 'rfind',\n",
              " 'rindex',\n",
              " 'rjust',\n",
              " 'rpartition',\n",
              " 'rsplit',\n",
              " 'rstrip',\n",
              " 'split',\n",
              " 'splitlines',\n",
              " 'startswith',\n",
              " 'strip',\n",
              " 'swapcase',\n",
              " 'title',\n",
              " 'translate',\n",
              " 'upper',\n",
              " 'zfill']"
            ]
          },
          "execution_count": 216,
          "metadata": {},
          "output_type": "execute_result"
        }
      ],
      "source": [
        "[i for i in dir(str) if \"__\" not in i]"
      ]
    },
    {
      "cell_type": "code",
      "execution_count": 217,
      "metadata": {},
      "outputs": [
        {
          "name": "stdout",
          "output_type": "stream",
          "text": [
            "Ahmed shaikh\n",
            "ahmed shaikh\n"
          ]
        }
      ],
      "source": [
        "name : str = \"AhMed ShAikh\";\n",
        "\n",
        "print(name.capitalize());\n",
        "\n",
        "print(name.lower());"
      ]
    },
    {
      "cell_type": "code",
      "execution_count": 218,
      "metadata": {},
      "outputs": [
        {
          "name": "stdout",
          "output_type": "stream",
          "text": [
            "Value A Is = 4 & B Is = 8\n"
          ]
        }
      ],
      "source": [
        "a: int = 4;\n",
        "\n",
        "b: int = 5;\n",
        "\n",
        "val: str = \"Value A Is = {} & B Is = {}\".format(a, \"8\"); # F-String Not Accept Empty Brackets\n",
        "\n",
        "print(val);"
      ]
    },
    {
      "cell_type": "code",
      "execution_count": 109,
      "metadata": {},
      "outputs": [
        {
          "name": "stdout",
          "output_type": "stream",
          "text": [
            "\n",
            "Name: Ahmed Saleem Shaikh\n",
            "Artist Name: AHM X\n",
            "age: 23\n",
            "Skills: Full Stack Developer & Music Producer\n",
            "Muslim: True\n",
            "\n"
          ]
        }
      ],
      "source": [
        "name: str = \"Ahmed Saleem Shaikh\";\n",
        "\n",
        "artistName: str = \"AHM X\";\n",
        "\n",
        "age: int = 23;\n",
        "\n",
        "skills: str = \"Full Stack Developer & Music Producer\";\n",
        "\n",
        "muslim: bool = True;\n",
        "\n",
        "visaCard: str = \"\"\"\n",
        "Name: {}\n",
        "Artist Name: {}\n",
        "age: {}\n",
        "Skills: {}\n",
        "Muslim: {}\n",
        "\"\"\".format(name, artistName, age, skills, muslim); # This Method Not Apply In F-String\n",
        "\n",
        "print(visaCard);"
      ]
    },
    {
      "cell_type": "code",
      "execution_count": 110,
      "metadata": {},
      "outputs": [
        {
          "name": "stdout",
          "output_type": "stream",
          "text": [
            "\n",
            "Name: AHM X\n",
            "Artist Name: Ahmed Saleem Shaikh\n",
            "age: 23\n",
            "Skills: Full Stack Developer & Music Producer\n",
            "Muslim: True\n",
            "\n"
          ]
        }
      ],
      "source": [
        "visaCard: str = \"\"\"\n",
        "Name: {1}\n",
        "Artist Name: {0}\n",
        "age: {2}\n",
        "Skills: {3}\n",
        "Muslim: {4}\n",
        "\"\"\".format(name, artistName, age, skills, muslim);\n",
        "\n",
        "print(visaCard);"
      ]
    },
    {
      "cell_type": "code",
      "execution_count": 219,
      "metadata": {},
      "outputs": [
        {
          "name": "stdout",
          "output_type": "stream",
          "text": [
            "\n",
            "Name: AhMed ShAikh\n",
            "Artist Name: AHM X\n",
            "age: 23\n",
            "Skills: Full Stack Developer & Music Producer\n",
            "Muslim: True\n",
            "\n"
          ]
        }
      ],
      "source": [
        "visaCard: str = \"\"\"\n",
        "Name: {a}\n",
        "Artist Name: {b}\n",
        "age: {c}\n",
        "Skills: {d}\n",
        "Muslim: {e}\n",
        "\"\"\".format(\n",
        "    b = artistName, \n",
        "    a = name, \n",
        "    c = age,\n",
        "    d = skills,\n",
        "    e = muslim);\n",
        "\n",
        "print(visaCard);"
      ]
    },
    {
      "cell_type": "code",
      "execution_count": 220,
      "metadata": {},
      "outputs": [
        {
          "name": "stdout",
          "output_type": "stream",
          "text": [
            "My Name Is Ahmed Shaykh\n",
            "112\n",
            "\n",
            "print(\"My Name Is Ahmed Shaykh\");\n",
            "a: int = 45;\n",
            "b: int = 67;\n",
            "print(a +  b);\n",
            "\n"
          ]
        }
      ],
      "source": [
        "name: str = \"\"\"\n",
        "print(\"My Name Is Ahmed Shaykh\");\n",
        "a: int = 45;\n",
        "b: int = 67;\n",
        "print(a +  b);\n",
        "\"\"\";\n",
        "\n",
        "exec(name);\n",
        "\n",
        "print(name);"
      ]
    },
    {
      "cell_type": "code",
      "execution_count": 221,
      "metadata": {},
      "outputs": [
        {
          "name": "stdout",
          "output_type": "stream",
          "text": [
            "47\n"
          ]
        },
        {
          "data": {
            "text/plain": [
              "['capitalize',\n",
              " 'casefold',\n",
              " 'center',\n",
              " 'count',\n",
              " 'encode',\n",
              " 'endswith',\n",
              " 'expandtabs',\n",
              " 'find',\n",
              " 'format',\n",
              " 'format_map',\n",
              " 'index',\n",
              " 'isalnum',\n",
              " 'isalpha',\n",
              " 'isascii',\n",
              " 'isdecimal',\n",
              " 'isdigit',\n",
              " 'isidentifier',\n",
              " 'islower',\n",
              " 'isnumeric',\n",
              " 'isprintable',\n",
              " 'isspace',\n",
              " 'istitle',\n",
              " 'isupper',\n",
              " 'join',\n",
              " 'ljust',\n",
              " 'lower',\n",
              " 'lstrip',\n",
              " 'maketrans',\n",
              " 'partition',\n",
              " 'removeprefix',\n",
              " 'removesuffix',\n",
              " 'replace',\n",
              " 'rfind',\n",
              " 'rindex',\n",
              " 'rjust',\n",
              " 'rpartition',\n",
              " 'rsplit',\n",
              " 'rstrip',\n",
              " 'split',\n",
              " 'splitlines',\n",
              " 'startswith',\n",
              " 'strip',\n",
              " 'swapcase',\n",
              " 'title',\n",
              " 'translate',\n",
              " 'upper',\n",
              " 'zfill']"
            ]
          },
          "metadata": {},
          "output_type": "display_data"
        }
      ],
      "source": [
        "a: list[str] = [i for i in dir(str) if \"__\" not in i];\n",
        "\n",
        "print(len(a));\n",
        "\n",
        "display(a);"
      ]
    },
    {
      "cell_type": "code",
      "execution_count": 222,
      "metadata": {},
      "outputs": [
        {
          "name": "stdout",
          "output_type": "stream",
          "text": [
            "GEN Ai\n",
            "gen ai\n",
            "gen ai\n"
          ]
        }
      ],
      "source": [
        "ai: str = \"GEN Ai\";\n",
        "\n",
        "print(ai);\n",
        "\n",
        "print(ai.lower());\n",
        "\n",
        "print(ai.casefold());"
      ]
    },
    {
      "cell_type": "code",
      "execution_count": 115,
      "metadata": {},
      "outputs": [
        {
          "name": "stdout",
          "output_type": "stream",
          "text": [
            "Python     \n",
            "Python\n",
            "      JavaScript\n",
            "JavaScript\n",
            "     TypeScript      \n",
            "TypeScript\n"
          ]
        }
      ],
      "source": [
        "language: str = \"Python     \";\n",
        "\n",
        "print(language);\n",
        "\n",
        "print(language.rstrip()); # Remove Extra Space For Right Side\n",
        "\n",
        "language: str = \"      JavaScript\";\n",
        "\n",
        "print(language);\n",
        "\n",
        "print(language.lstrip()); # Remove Extra Space For Left Side\n",
        "\n",
        "language: str = \"     TypeScript      \";\n",
        "\n",
        "print(language);\n",
        "\n",
        "print(language.strip()); # Remove Extra Space For Both Sides"
      ]
    },
    {
      "cell_type": "code",
      "execution_count": 223,
      "metadata": {},
      "outputs": [
        {
          "data": {
            "text/plain": [
              "'Python     '"
            ]
          },
          "metadata": {},
          "output_type": "display_data"
        },
        {
          "data": {
            "text/plain": [
              "'Python'"
            ]
          },
          "metadata": {},
          "output_type": "display_data"
        },
        {
          "data": {
            "text/plain": [
              "'      JavaScript'"
            ]
          },
          "metadata": {},
          "output_type": "display_data"
        },
        {
          "data": {
            "text/plain": [
              "'JavaScript'"
            ]
          },
          "metadata": {},
          "output_type": "display_data"
        },
        {
          "data": {
            "text/plain": [
              "'     TypeScript      '"
            ]
          },
          "metadata": {},
          "output_type": "display_data"
        },
        {
          "data": {
            "text/plain": [
              "'TypeScript'"
            ]
          },
          "metadata": {},
          "output_type": "display_data"
        }
      ],
      "source": [
        "language: str = \"Python     \";\n",
        "\n",
        "display(language);\n",
        "\n",
        "display(language.rstrip()); # Remove Extra Space For Right Side\n",
        "\n",
        "language: str = \"      JavaScript\";\n",
        "\n",
        "display(language);\n",
        "\n",
        "display(language.lstrip()); # Remove Extra Space For Left Side\n",
        "\n",
        "language: str = \"     TypeScript      \";\n",
        "\n",
        "display(language);\n",
        "\n",
        "display(language.strip()); # Remove Extra Space For Both Sides"
      ]
    },
    {
      "cell_type": "code",
      "execution_count": 117,
      "metadata": {},
      "outputs": [
        {
          "data": {
            "text/plain": [
              "'Free Palenstine'"
            ]
          },
          "metadata": {},
          "output_type": "display_data"
        }
      ],
      "source": [
        "free: str = \"        FrEE         PAlenStiNE     \";\n",
        "\n",
        "freedom = \" \".join(free.strip().split()).title();\n",
        "\n",
        "display(freedom);"
      ]
    },
    {
      "cell_type": "code",
      "execution_count": 224,
      "metadata": {},
      "outputs": [
        {
          "data": {
            "text/plain": [
              "'        FrEE         PAlenStiNE     '"
            ]
          },
          "metadata": {},
          "output_type": "display_data"
        },
        {
          "data": {
            "text/plain": [
              "'Free Palenstine'"
            ]
          },
          "metadata": {},
          "output_type": "display_data"
        }
      ],
      "source": [
        "import re; # Regex (Regular Expression)\n",
        "\n",
        "free: str = \"        FrEE         PAlenStiNE     \";\n",
        "\n",
        "display(free);\n",
        "\n",
        "freedom: str = re.sub(\" {2,100} \", \" \", free).strip().title(); # Remove Extra Space In Words Middle\n",
        "\n",
        "display(freedom);"
      ]
    },
    {
      "cell_type": "code",
      "execution_count": 225,
      "metadata": {},
      "outputs": [
        {
          "name": "stdout",
          "output_type": "stream",
          "text": [
            "TypeScript\n",
            "\tPython\n"
          ]
        }
      ],
      "source": [
        "print(\"TypeScript\");\n",
        "\n",
        "print(\"\\tPython\");"
      ]
    },
    {
      "cell_type": "code",
      "execution_count": 120,
      "metadata": {},
      "outputs": [
        {
          "name": "stdout",
          "output_type": "stream",
          "text": [
            "Languages:\n",
            "\n",
            "JavaScript\n",
            "Python\n",
            "TypeScript\n"
          ]
        }
      ],
      "source": [
        "print(\"Languages:\\n\\nJavaScript\\nPython\\nTypeScript\");"
      ]
    },
    {
      "cell_type": "code",
      "execution_count": 121,
      "metadata": {},
      "outputs": [
        {
          "name": "stdout",
          "output_type": "stream",
          "text": [
            "Languages:\n",
            "\n",
            "\tTypeScript\n",
            "\tPython\n",
            "\tSolidity\n"
          ]
        }
      ],
      "source": [
        "print(\"Languages:\\n\\n\\tTypeScript\\n\\tPython\\n\\tSolidity\");"
      ]
    },
    {
      "cell_type": "code",
      "execution_count": 122,
      "metadata": {},
      "outputs": [
        {
          "name": "stdout",
          "output_type": "stream",
          "text": [
            "ahmxmusic.com\n"
          ]
        }
      ],
      "source": [
        "nostarch_url: str = \"https://ahmxmusic.com\";\n",
        "\n",
        "print(nostarch_url.removeprefix(\"https://\"));"
      ]
    },
    {
      "cell_type": "code",
      "execution_count": 123,
      "metadata": {},
      "outputs": [
        {
          "name": "stdout",
          "output_type": "stream",
          "text": [
            "JS Python\n",
            "TS JS \n",
            "TS Python\n"
          ]
        }
      ],
      "source": [
        "lang: str = \"TS JS Python\";\n",
        "\n",
        "print(lang.removeprefix(\"TS \"));\n",
        "\n",
        "lang: str = \"TS JS Python\";\n",
        "\n",
        "print(lang.removesuffix(\"Python\"));\n",
        "\n",
        "lang: str = \"TS JS Python\";\n",
        "\n",
        "print(lang.replace(\" JS \", \" \"));"
      ]
    },
    {
      "cell_type": "code",
      "execution_count": 124,
      "metadata": {},
      "outputs": [
        {
          "name": "stdout",
          "output_type": "stream",
          "text": [
            "Name:Imran Khan\n"
          ]
        }
      ],
      "source": [
        "print(\"Name: \\bImran Khan\"); # Remove 1 Letter Space"
      ]
    },
    {
      "cell_type": "code",
      "execution_count": 226,
      "metadata": {},
      "outputs": [
        {
          "name": "stdout",
          "output_type": "stream",
          "text": [
            "True\n",
            "140726669544144\n",
            "True\n",
            "<class 'bool'>\n",
            "False\n",
            "140726669544176\n",
            "<class 'bool'>\n"
          ]
        }
      ],
      "source": [
        "boolean: bool = True;\n",
        "\n",
        "print(boolean);\n",
        "print(id(boolean));\n",
        "\n",
        "boolean: bool = bool(1);\n",
        "\n",
        "print(boolean);\n",
        "print(type(boolean));\n",
        "\n",
        "boolean: bool = bool(0);\n",
        "\n",
        "print(boolean);\n",
        "print(id(boolean));\n",
        "print(type(boolean));"
      ]
    },
    {
      "cell_type": "markdown",
      "metadata": {},
      "source": [
        "# **Operators**"
      ]
    },
    {
      "cell_type": "markdown",
      "metadata": {},
      "source": [
        "# **Arithmetic Operators**"
      ]
    },
    {
      "cell_type": "code",
      "execution_count": 126,
      "metadata": {},
      "outputs": [
        {
          "data": {
            "text/html": [
              "<div>\n",
              "<style scoped>\n",
              "    .dataframe tbody tr th:only-of-type {\n",
              "        vertical-align: middle;\n",
              "    }\n",
              "\n",
              "    .dataframe tbody tr th {\n",
              "        vertical-align: top;\n",
              "    }\n",
              "\n",
              "    .dataframe thead th {\n",
              "        text-align: right;\n",
              "    }\n",
              "</style>\n",
              "<table border=\"1\" class=\"dataframe\">\n",
              "  <thead>\n",
              "    <tr style=\"text-align: right;\">\n",
              "      <th></th>\n",
              "      <th>Operator</th>\n",
              "      <th>Name</th>\n",
              "      <th>Example</th>\n",
              "      <th>Try it</th>\n",
              "    </tr>\n",
              "  </thead>\n",
              "  <tbody>\n",
              "    <tr>\n",
              "      <th>0</th>\n",
              "      <td>+</td>\n",
              "      <td>Addition</td>\n",
              "      <td>x + y</td>\n",
              "      <td>Try it »</td>\n",
              "    </tr>\n",
              "    <tr>\n",
              "      <th>1</th>\n",
              "      <td>-</td>\n",
              "      <td>Subtraction</td>\n",
              "      <td>x - y</td>\n",
              "      <td>Try it »</td>\n",
              "    </tr>\n",
              "    <tr>\n",
              "      <th>2</th>\n",
              "      <td>*</td>\n",
              "      <td>Multiplication</td>\n",
              "      <td>x * y</td>\n",
              "      <td>Try it »</td>\n",
              "    </tr>\n",
              "    <tr>\n",
              "      <th>3</th>\n",
              "      <td>/</td>\n",
              "      <td>Division</td>\n",
              "      <td>x / y</td>\n",
              "      <td>Try it »</td>\n",
              "    </tr>\n",
              "    <tr>\n",
              "      <th>4</th>\n",
              "      <td>%</td>\n",
              "      <td>Modulus</td>\n",
              "      <td>x % y</td>\n",
              "      <td>Try it »</td>\n",
              "    </tr>\n",
              "    <tr>\n",
              "      <th>5</th>\n",
              "      <td>**</td>\n",
              "      <td>Exponentiation</td>\n",
              "      <td>x ** y</td>\n",
              "      <td>Try it »</td>\n",
              "    </tr>\n",
              "    <tr>\n",
              "      <th>6</th>\n",
              "      <td>//</td>\n",
              "      <td>Floor division</td>\n",
              "      <td>x // y</td>\n",
              "      <td>Try it »</td>\n",
              "    </tr>\n",
              "  </tbody>\n",
              "</table>\n",
              "</div>"
            ],
            "text/plain": [
              "  Operator            Name Example    Try it\n",
              "0        +        Addition   x + y  Try it »\n",
              "1        -     Subtraction   x - y  Try it »\n",
              "2        *  Multiplication   x * y  Try it »\n",
              "3        /        Division   x / y  Try it »\n",
              "4        %         Modulus   x % y  Try it »\n",
              "5       **  Exponentiation  x ** y  Try it »\n",
              "6       //  Floor division  x // y  Try it »"
            ]
          },
          "execution_count": 126,
          "metadata": {},
          "output_type": "execute_result"
        }
      ],
      "source": [
        "# !conda install lxml -y (HTML TO XML)\n",
        "\n",
        "import pandas as pd;\n",
        "\n",
        "table = pd.read_html(\"https://www.w3schools.com/python/python_operators.asp\");\n",
        "\n",
        "table[0]"
      ]
    },
    {
      "cell_type": "code",
      "execution_count": 127,
      "metadata": {},
      "outputs": [
        {
          "name": "stdout",
          "output_type": "stream",
          "text": [
            "5\n",
            "6\n",
            "1.5\n",
            "256\n"
          ]
        }
      ],
      "source": [
        "num: int = 2 + 3;\n",
        "\n",
        "print(num);\n",
        "\n",
        "num: int = 2 * 3;\n",
        "\n",
        "print(num);\n",
        "\n",
        "num: int = 3 / 2;\n",
        "\n",
        "print(num);\n",
        "\n",
        "num: int = 4 ** 4;\n",
        "\n",
        "print(num);"
      ]
    },
    {
      "cell_type": "code",
      "execution_count": 128,
      "metadata": {},
      "outputs": [
        {
          "name": "stdout",
          "output_type": "stream",
          "text": [
            "0\n",
            "2\n"
          ]
        }
      ],
      "source": [
        "a : int = 11;\n",
        "\n",
        "b : int = 3;\n",
        "\n",
        "print(12 % b); # Reminder\n",
        "\n",
        "print(a % b);"
      ]
    },
    {
      "cell_type": "code",
      "execution_count": 227,
      "metadata": {},
      "outputs": [
        {
          "name": "stdout",
          "output_type": "stream",
          "text": [
            "4.0\n",
            "4\n",
            "4.933333333333334\n",
            "4.0\n",
            "5\n"
          ]
        }
      ],
      "source": [
        "print(12 / 3); # Normal Division Value Return In Float\n",
        "\n",
        "print( 12 // 3); # Floor Division Value Return In Integer\n",
        "\n",
        "print(14.8 / 3);\n",
        "\n",
        "print(14.8 // 3);\n",
        "\n",
        "print(17 // 3);"
      ]
    },
    {
      "cell_type": "markdown",
      "metadata": {},
      "source": [
        "# **Assignment Operators**"
      ]
    },
    {
      "cell_type": "code",
      "execution_count": 228,
      "metadata": {},
      "outputs": [
        {
          "data": {
            "text/html": [
              "<div>\n",
              "<style scoped>\n",
              "    .dataframe tbody tr th:only-of-type {\n",
              "        vertical-align: middle;\n",
              "    }\n",
              "\n",
              "    .dataframe tbody tr th {\n",
              "        vertical-align: top;\n",
              "    }\n",
              "\n",
              "    .dataframe thead th {\n",
              "        text-align: right;\n",
              "    }\n",
              "</style>\n",
              "<table border=\"1\" class=\"dataframe\">\n",
              "  <thead>\n",
              "    <tr style=\"text-align: right;\">\n",
              "      <th></th>\n",
              "      <th>Operator</th>\n",
              "      <th>Example</th>\n",
              "      <th>Same As</th>\n",
              "      <th>Try it</th>\n",
              "    </tr>\n",
              "  </thead>\n",
              "  <tbody>\n",
              "    <tr>\n",
              "      <th>0</th>\n",
              "      <td>=</td>\n",
              "      <td>x = 5</td>\n",
              "      <td>x = 5</td>\n",
              "      <td>Try it »</td>\n",
              "    </tr>\n",
              "    <tr>\n",
              "      <th>1</th>\n",
              "      <td>+=</td>\n",
              "      <td>x += 3</td>\n",
              "      <td>x = x + 3</td>\n",
              "      <td>Try it »</td>\n",
              "    </tr>\n",
              "    <tr>\n",
              "      <th>2</th>\n",
              "      <td>-=</td>\n",
              "      <td>x -= 3</td>\n",
              "      <td>x = x - 3</td>\n",
              "      <td>Try it »</td>\n",
              "    </tr>\n",
              "    <tr>\n",
              "      <th>3</th>\n",
              "      <td>*=</td>\n",
              "      <td>x *= 3</td>\n",
              "      <td>x = x * 3</td>\n",
              "      <td>Try it »</td>\n",
              "    </tr>\n",
              "    <tr>\n",
              "      <th>4</th>\n",
              "      <td>/=</td>\n",
              "      <td>x /= 3</td>\n",
              "      <td>x = x / 3</td>\n",
              "      <td>Try it »</td>\n",
              "    </tr>\n",
              "    <tr>\n",
              "      <th>5</th>\n",
              "      <td>%=</td>\n",
              "      <td>x %= 3</td>\n",
              "      <td>x = x % 3</td>\n",
              "      <td>Try it »</td>\n",
              "    </tr>\n",
              "    <tr>\n",
              "      <th>6</th>\n",
              "      <td>//=</td>\n",
              "      <td>x //= 3</td>\n",
              "      <td>x = x // 3</td>\n",
              "      <td>Try it »</td>\n",
              "    </tr>\n",
              "    <tr>\n",
              "      <th>7</th>\n",
              "      <td>**=</td>\n",
              "      <td>x **= 3</td>\n",
              "      <td>x = x ** 3</td>\n",
              "      <td>Try it »</td>\n",
              "    </tr>\n",
              "    <tr>\n",
              "      <th>8</th>\n",
              "      <td>&amp;=</td>\n",
              "      <td>x &amp;= 3</td>\n",
              "      <td>x = x &amp; 3</td>\n",
              "      <td>Try it »</td>\n",
              "    </tr>\n",
              "    <tr>\n",
              "      <th>9</th>\n",
              "      <td>|=</td>\n",
              "      <td>x |= 3</td>\n",
              "      <td>x = x | 3</td>\n",
              "      <td>Try it »</td>\n",
              "    </tr>\n",
              "    <tr>\n",
              "      <th>10</th>\n",
              "      <td>^=</td>\n",
              "      <td>x ^= 3</td>\n",
              "      <td>x = x ^ 3</td>\n",
              "      <td>Try it »</td>\n",
              "    </tr>\n",
              "    <tr>\n",
              "      <th>11</th>\n",
              "      <td>&gt;&gt;=</td>\n",
              "      <td>x &gt;&gt;= 3</td>\n",
              "      <td>x = x &gt;&gt; 3</td>\n",
              "      <td>Try it »</td>\n",
              "    </tr>\n",
              "    <tr>\n",
              "      <th>12</th>\n",
              "      <td>&lt;&lt;=</td>\n",
              "      <td>x &lt;&lt;= 3</td>\n",
              "      <td>x = x &lt;&lt; 3</td>\n",
              "      <td>Try it »</td>\n",
              "    </tr>\n",
              "  </tbody>\n",
              "</table>\n",
              "</div>"
            ],
            "text/plain": [
              "   Operator  Example     Same As    Try it\n",
              "0         =    x = 5       x = 5  Try it »\n",
              "1        +=   x += 3   x = x + 3  Try it »\n",
              "2        -=   x -= 3   x = x - 3  Try it »\n",
              "3        *=   x *= 3   x = x * 3  Try it »\n",
              "4        /=   x /= 3   x = x / 3  Try it »\n",
              "5        %=   x %= 3   x = x % 3  Try it »\n",
              "6       //=  x //= 3  x = x // 3  Try it »\n",
              "7       **=  x **= 3  x = x ** 3  Try it »\n",
              "8        &=   x &= 3   x = x & 3  Try it »\n",
              "9        |=   x |= 3   x = x | 3  Try it »\n",
              "10       ^=   x ^= 3   x = x ^ 3  Try it »\n",
              "11      >>=  x >>= 3  x = x >> 3  Try it »\n",
              "12      <<=  x <<= 3  x = x << 3  Try it »"
            ]
          },
          "execution_count": 228,
          "metadata": {},
          "output_type": "execute_result"
        }
      ],
      "source": [
        "table[1]"
      ]
    },
    {
      "cell_type": "code",
      "execution_count": 131,
      "metadata": {},
      "outputs": [
        {
          "name": "stdout",
          "output_type": "stream",
          "text": [
            "9\n",
            "10\n"
          ]
        }
      ],
      "source": [
        "a : int = 7;\n",
        "\n",
        "a = a + 2;\n",
        "\n",
        "print(a);\n",
        "\n",
        "a += 1;\n",
        "\n",
        "print(a);"
      ]
    },
    {
      "cell_type": "code",
      "execution_count": 132,
      "metadata": {},
      "outputs": [
        {
          "name": "stdout",
          "output_type": "stream",
          "text": [
            "2\n",
            "2\n"
          ]
        }
      ],
      "source": [
        "x: int = 5;\n",
        "\n",
        "x -= 3;\n",
        "\n",
        "print(x);\n",
        "\n",
        "x: int = 5;\n",
        "\n",
        "x %= 3;\n",
        "\n",
        "print(x);\n"
      ]
    },
    {
      "cell_type": "code",
      "execution_count": 133,
      "metadata": {},
      "outputs": [
        {
          "name": "stdout",
          "output_type": "stream",
          "text": [
            "1.6666666666666667\n",
            "1\n",
            "125\n"
          ]
        }
      ],
      "source": [
        "x: int = 5;\n",
        "\n",
        "x /= 3;\n",
        "\n",
        "print(x);\n",
        "\n",
        "x: int = 5;\n",
        "\n",
        "x //= 3;\n",
        "\n",
        "print(x);\n",
        "\n",
        "x: int = 5;\n",
        "\n",
        "x **= 3;\n",
        "\n",
        "print(x);"
      ]
    },
    {
      "cell_type": "markdown",
      "metadata": {},
      "source": [
        "# **Comparison Operators**"
      ]
    },
    {
      "cell_type": "code",
      "execution_count": 134,
      "metadata": {},
      "outputs": [
        {
          "data": {
            "text/html": [
              "<div>\n",
              "<style scoped>\n",
              "    .dataframe tbody tr th:only-of-type {\n",
              "        vertical-align: middle;\n",
              "    }\n",
              "\n",
              "    .dataframe tbody tr th {\n",
              "        vertical-align: top;\n",
              "    }\n",
              "\n",
              "    .dataframe thead th {\n",
              "        text-align: right;\n",
              "    }\n",
              "</style>\n",
              "<table border=\"1\" class=\"dataframe\">\n",
              "  <thead>\n",
              "    <tr style=\"text-align: right;\">\n",
              "      <th></th>\n",
              "      <th>Operator</th>\n",
              "      <th>Name</th>\n",
              "      <th>Example</th>\n",
              "      <th>Try it</th>\n",
              "    </tr>\n",
              "  </thead>\n",
              "  <tbody>\n",
              "    <tr>\n",
              "      <th>0</th>\n",
              "      <td>==</td>\n",
              "      <td>Equal</td>\n",
              "      <td>x == y</td>\n",
              "      <td>Try it »</td>\n",
              "    </tr>\n",
              "    <tr>\n",
              "      <th>1</th>\n",
              "      <td>!=</td>\n",
              "      <td>Not equal</td>\n",
              "      <td>x != y</td>\n",
              "      <td>Try it »</td>\n",
              "    </tr>\n",
              "    <tr>\n",
              "      <th>2</th>\n",
              "      <td>&gt;</td>\n",
              "      <td>Greater than</td>\n",
              "      <td>x &gt; y</td>\n",
              "      <td>Try it »</td>\n",
              "    </tr>\n",
              "    <tr>\n",
              "      <th>3</th>\n",
              "      <td>&lt;</td>\n",
              "      <td>Less than</td>\n",
              "      <td>x &lt; y</td>\n",
              "      <td>Try it »</td>\n",
              "    </tr>\n",
              "    <tr>\n",
              "      <th>4</th>\n",
              "      <td>&gt;=</td>\n",
              "      <td>Greater than or equal to</td>\n",
              "      <td>x &gt;= y</td>\n",
              "      <td>Try it »</td>\n",
              "    </tr>\n",
              "    <tr>\n",
              "      <th>5</th>\n",
              "      <td>&lt;=</td>\n",
              "      <td>Less than or equal to</td>\n",
              "      <td>x &lt;= y</td>\n",
              "      <td>Try it »</td>\n",
              "    </tr>\n",
              "  </tbody>\n",
              "</table>\n",
              "</div>"
            ],
            "text/plain": [
              "  Operator                      Name Example    Try it\n",
              "0       ==                     Equal  x == y  Try it »\n",
              "1       !=                 Not equal  x != y  Try it »\n",
              "2        >              Greater than   x > y  Try it »\n",
              "3        <                 Less than   x < y  Try it »\n",
              "4       >=  Greater than or equal to  x >= y  Try it »\n",
              "5       <=     Less than or equal to  x <= y  Try it »"
            ]
          },
          "execution_count": 134,
          "metadata": {},
          "output_type": "execute_result"
        }
      ],
      "source": [
        "table[2]"
      ]
    },
    {
      "cell_type": "code",
      "execution_count": 135,
      "metadata": {},
      "outputs": [
        {
          "name": "stdout",
          "output_type": "stream",
          "text": [
            "False\n",
            "True\n",
            "True\n"
          ]
        }
      ],
      "source": [
        "a : int = 7;\n",
        "\n",
        "b : str = \"7\";\n",
        "\n",
        "print(a == b);\n",
        "\n",
        "print(a == int(b));\n",
        "\n",
        "print(a != b);"
      ]
    },
    {
      "cell_type": "code",
      "execution_count": 166,
      "metadata": {},
      "outputs": [
        {
          "name": "stdout",
          "output_type": "stream",
          "text": [
            "False\n",
            "True\n",
            "True\n"
          ]
        }
      ],
      "source": [
        "a : int = 67;\n",
        "\n",
        "b : str = 49;\n",
        "\n",
        "print(a < b);\n",
        "\n",
        "print(a > b);\n",
        "\n",
        "print(a >= b);"
      ]
    },
    {
      "cell_type": "markdown",
      "metadata": {},
      "source": [
        "### **ASCII Code**\n",
        "\n",
        "A = 65\n",
        "B = 66\n",
        "Z = 90\n",
        "\n",
        "a = 97\n",
        "b = 98\n",
        "z = 122\n",
        "\n",
        "0 = 48\n",
        "1 = 49\n",
        "9 = 57"
      ]
    },
    {
      "cell_type": "code",
      "execution_count": 229,
      "metadata": {},
      "outputs": [
        {
          "name": "stdout",
          "output_type": "stream",
          "text": [
            "65\n"
          ]
        }
      ],
      "source": [
        "print(ord(\"A\"));"
      ]
    },
    {
      "cell_type": "code",
      "execution_count": 230,
      "metadata": {},
      "outputs": [
        {
          "name": "stdout",
          "output_type": "stream",
          "text": [
            "A\n"
          ]
        }
      ],
      "source": [
        "print(chr(65));"
      ]
    },
    {
      "cell_type": "code",
      "execution_count": 237,
      "metadata": {},
      "outputs": [
        {
          "name": "stdout",
          "output_type": "stream",
          "text": [
            "True\n",
            "True\n"
          ]
        }
      ],
      "source": [
        "a : str = \"A\";\n",
        "\n",
        "b : str = \"B\";\n",
        "\n",
        "print(a <= b);\n",
        "\n",
        "print(12 >= 12);"
      ]
    },
    {
      "cell_type": "markdown",
      "metadata": {},
      "source": [
        "# **Logical Operators**"
      ]
    },
    {
      "cell_type": "code",
      "execution_count": 140,
      "metadata": {},
      "outputs": [
        {
          "data": {
            "text/html": [
              "<div>\n",
              "<style scoped>\n",
              "    .dataframe tbody tr th:only-of-type {\n",
              "        vertical-align: middle;\n",
              "    }\n",
              "\n",
              "    .dataframe tbody tr th {\n",
              "        vertical-align: top;\n",
              "    }\n",
              "\n",
              "    .dataframe thead th {\n",
              "        text-align: right;\n",
              "    }\n",
              "</style>\n",
              "<table border=\"1\" class=\"dataframe\">\n",
              "  <thead>\n",
              "    <tr style=\"text-align: right;\">\n",
              "      <th></th>\n",
              "      <th>Operator</th>\n",
              "      <th>Description</th>\n",
              "      <th>Example</th>\n",
              "      <th>Try it</th>\n",
              "    </tr>\n",
              "  </thead>\n",
              "  <tbody>\n",
              "    <tr>\n",
              "      <th>0</th>\n",
              "      <td>and</td>\n",
              "      <td>Returns True if both statements are true</td>\n",
              "      <td>x &lt; 5 and x &lt; 10</td>\n",
              "      <td>Try it »</td>\n",
              "    </tr>\n",
              "    <tr>\n",
              "      <th>1</th>\n",
              "      <td>or</td>\n",
              "      <td>Returns True if one of the statements is true</td>\n",
              "      <td>x &lt; 5 or x &lt; 4</td>\n",
              "      <td>Try it »</td>\n",
              "    </tr>\n",
              "    <tr>\n",
              "      <th>2</th>\n",
              "      <td>not</td>\n",
              "      <td>Reverse the result, returns False if the resul...</td>\n",
              "      <td>not(x &lt; 5 and x &lt; 10)</td>\n",
              "      <td>Try it »</td>\n",
              "    </tr>\n",
              "  </tbody>\n",
              "</table>\n",
              "</div>"
            ],
            "text/plain": [
              "  Operator                                        Description  \\\n",
              "0      and           Returns True if both statements are true   \n",
              "1       or      Returns True if one of the statements is true   \n",
              "2      not  Reverse the result, returns False if the resul...   \n",
              "\n",
              "                 Example    Try it  \n",
              "0       x < 5 and x < 10  Try it »  \n",
              "1         x < 5 or x < 4  Try it »  \n",
              "2  not(x < 5 and x < 10)  Try it »  "
            ]
          },
          "execution_count": 140,
          "metadata": {},
          "output_type": "execute_result"
        }
      ],
      "source": [
        "table[3]"
      ]
    },
    {
      "cell_type": "code",
      "execution_count": 238,
      "metadata": {},
      "outputs": [
        {
          "name": "stdout",
          "output_type": "stream",
          "text": [
            "True\n",
            "False\n",
            "False\n"
          ]
        }
      ],
      "source": [
        "print(True and True and True and True);\n",
        "\n",
        "print(True and False and False and True);\n",
        "\n",
        "print(False and False and False and True);"
      ]
    },
    {
      "cell_type": "code",
      "execution_count": 239,
      "metadata": {},
      "outputs": [
        {
          "name": "stdout",
          "output_type": "stream",
          "text": [
            "True\n",
            "True\n",
            "True\n",
            "False\n"
          ]
        }
      ],
      "source": [
        "print(True or True or True or True);\n",
        "\n",
        "print(True or True or False or True);\n",
        "\n",
        "print(False or False or False or True);\n",
        "\n",
        "print(False or False or False or False);"
      ]
    },
    {
      "cell_type": "code",
      "execution_count": 240,
      "metadata": {},
      "outputs": [
        {
          "name": "stdout",
          "output_type": "stream",
          "text": [
            "True\n"
          ]
        }
      ],
      "source": [
        "print(not False); # Reverse Value"
      ]
    },
    {
      "cell_type": "code",
      "execution_count": 241,
      "metadata": {},
      "outputs": [
        {
          "name": "stdout",
          "output_type": "stream",
          "text": [
            "False\n",
            "True\n"
          ]
        }
      ],
      "source": [
        "name : str = \"Ahmed\";\n",
        "\n",
        "print(not name == \"Ahmed\");\n",
        "\n",
        "name : str = \"Ahmed\";\n",
        "\n",
        "print(not name != \"Ahmed\");"
      ]
    },
    {
      "cell_type": "markdown",
      "metadata": {},
      "source": [
        "# **Identity Operators**"
      ]
    },
    {
      "cell_type": "code",
      "execution_count": 242,
      "metadata": {},
      "outputs": [
        {
          "data": {
            "text/html": [
              "<div>\n",
              "<style scoped>\n",
              "    .dataframe tbody tr th:only-of-type {\n",
              "        vertical-align: middle;\n",
              "    }\n",
              "\n",
              "    .dataframe tbody tr th {\n",
              "        vertical-align: top;\n",
              "    }\n",
              "\n",
              "    .dataframe thead th {\n",
              "        text-align: right;\n",
              "    }\n",
              "</style>\n",
              "<table border=\"1\" class=\"dataframe\">\n",
              "  <thead>\n",
              "    <tr style=\"text-align: right;\">\n",
              "      <th></th>\n",
              "      <th>Operator</th>\n",
              "      <th>Description</th>\n",
              "      <th>Example</th>\n",
              "      <th>Try it</th>\n",
              "    </tr>\n",
              "  </thead>\n",
              "  <tbody>\n",
              "    <tr>\n",
              "      <th>0</th>\n",
              "      <td>is</td>\n",
              "      <td>Returns True if both variables are the same ob...</td>\n",
              "      <td>x is y</td>\n",
              "      <td>Try it »</td>\n",
              "    </tr>\n",
              "    <tr>\n",
              "      <th>1</th>\n",
              "      <td>is not</td>\n",
              "      <td>Returns True if both variables are not the sam...</td>\n",
              "      <td>x is not y</td>\n",
              "      <td>Try it »</td>\n",
              "    </tr>\n",
              "  </tbody>\n",
              "</table>\n",
              "</div>"
            ],
            "text/plain": [
              "  Operator                                        Description     Example  \\\n",
              "0       is  Returns True if both variables are the same ob...      x is y   \n",
              "1   is not  Returns True if both variables are not the sam...  x is not y   \n",
              "\n",
              "     Try it  \n",
              "0  Try it »  \n",
              "1  Try it »  "
            ]
          },
          "execution_count": 242,
          "metadata": {},
          "output_type": "execute_result"
        }
      ],
      "source": [
        "table[4]"
      ]
    },
    {
      "cell_type": "code",
      "execution_count": 245,
      "metadata": {},
      "outputs": [
        {
          "name": "stdout",
          "output_type": "stream",
          "text": [
            "140726669807880\n",
            "1622506574672\n",
            "True\n",
            "False\n",
            "True\n"
          ]
        }
      ],
      "source": [
        "x : str = \"abc\";\n",
        "\n",
        "z : str = \"xyz\";\n",
        "\n",
        "print(id(x));\n",
        "\n",
        "print(id(z));\n",
        "\n",
        "a : str = \"abc\";\n",
        "\n",
        "print(a is x);\n",
        "\n",
        "print(z is not z);\n",
        "\n",
        "print(z is not a);"
      ]
    },
    {
      "cell_type": "markdown",
      "metadata": {},
      "source": [
        "# **Membership Operators**"
      ]
    },
    {
      "cell_type": "code",
      "execution_count": 246,
      "metadata": {},
      "outputs": [
        {
          "data": {
            "text/html": [
              "<div>\n",
              "<style scoped>\n",
              "    .dataframe tbody tr th:only-of-type {\n",
              "        vertical-align: middle;\n",
              "    }\n",
              "\n",
              "    .dataframe tbody tr th {\n",
              "        vertical-align: top;\n",
              "    }\n",
              "\n",
              "    .dataframe thead th {\n",
              "        text-align: right;\n",
              "    }\n",
              "</style>\n",
              "<table border=\"1\" class=\"dataframe\">\n",
              "  <thead>\n",
              "    <tr style=\"text-align: right;\">\n",
              "      <th></th>\n",
              "      <th>Operator</th>\n",
              "      <th>Description</th>\n",
              "      <th>Example</th>\n",
              "      <th>Try it</th>\n",
              "    </tr>\n",
              "  </thead>\n",
              "  <tbody>\n",
              "    <tr>\n",
              "      <th>0</th>\n",
              "      <td>in</td>\n",
              "      <td>Returns True if a sequence with the specified ...</td>\n",
              "      <td>x in y</td>\n",
              "      <td>Try it »</td>\n",
              "    </tr>\n",
              "    <tr>\n",
              "      <th>1</th>\n",
              "      <td>not in</td>\n",
              "      <td>Returns True if a sequence with the specified ...</td>\n",
              "      <td>x not in y</td>\n",
              "      <td>Try it »</td>\n",
              "    </tr>\n",
              "  </tbody>\n",
              "</table>\n",
              "</div>"
            ],
            "text/plain": [
              "  Operator                                        Description     Example  \\\n",
              "0       in  Returns True if a sequence with the specified ...      x in y   \n",
              "1   not in  Returns True if a sequence with the specified ...  x not in y   \n",
              "\n",
              "     Try it  \n",
              "0  Try it »  \n",
              "1  Try it »  "
            ]
          },
          "execution_count": 246,
          "metadata": {},
          "output_type": "execute_result"
        }
      ],
      "source": [
        "table[5]"
      ]
    },
    {
      "cell_type": "code",
      "execution_count": 148,
      "metadata": {},
      "outputs": [
        {
          "data": {
            "text/plain": [
              "['A',\n",
              " 'B',\n",
              " 'C',\n",
              " 'D',\n",
              " 'E',\n",
              " 'F',\n",
              " 'G',\n",
              " 'H',\n",
              " 'I',\n",
              " 'J',\n",
              " 'K',\n",
              " 'L',\n",
              " 'M',\n",
              " 'N',\n",
              " 'O',\n",
              " 'P',\n",
              " 'Q',\n",
              " 'R',\n",
              " 'S',\n",
              " 'T',\n",
              " 'U',\n",
              " 'V',\n",
              " 'W',\n",
              " 'X',\n",
              " 'Y',\n",
              " 'Z']"
            ]
          },
          "execution_count": 148,
          "metadata": {},
          "output_type": "execute_result"
        }
      ],
      "source": [
        "alphabet: list[str] = [chr(i) for i in range(65,91)];\n",
        "\n",
        "alphabet"
      ]
    },
    {
      "cell_type": "code",
      "execution_count": 149,
      "metadata": {},
      "outputs": [
        {
          "name": "stdout",
          "output_type": "stream",
          "text": [
            "0 A\n",
            "1 B\n",
            "2 C\n",
            "3 D\n",
            "4 E\n",
            "5 F\n",
            "6 G\n",
            "7 H\n",
            "8 I\n",
            "9 J\n",
            "10 K\n",
            "11 L\n",
            "12 M\n",
            "13 N\n",
            "14 O\n",
            "15 P\n",
            "16 Q\n",
            "17 R\n",
            "18 S\n",
            "19 T\n",
            "20 U\n",
            "21 V\n",
            "22 W\n",
            "23 X\n",
            "24 Y\n",
            "25 Z\n"
          ]
        }
      ],
      "source": [
        "for i in range(len(alphabet)):\n",
        "\n",
        "    print(i, alphabet[i]);"
      ]
    },
    {
      "cell_type": "code",
      "execution_count": 248,
      "metadata": {},
      "outputs": [
        {
          "name": "stdout",
          "output_type": "stream",
          "text": [
            "0 A\n",
            "1 B\n",
            "2 C\n",
            "3 D\n",
            "True\n"
          ]
        }
      ],
      "source": [
        "for i in range(len(alphabet)):\n",
        "\n",
        "    print(i, alphabet[i]);\n",
        "\n",
        "    if alphabet[i] ==  \"D\":\n",
        "\n",
        "        print(\"True\");\n",
        "\n",
        "        break;"
      ]
    },
    {
      "cell_type": "code",
      "execution_count": 249,
      "metadata": {},
      "outputs": [
        {
          "name": "stdout",
          "output_type": "stream",
          "text": [
            "['A', 'B', 'C', 'D', 'E', 'F', 'G', 'H', 'I', 'J', 'K', 'L', 'M', 'N', 'O', 'P', 'Q', 'R', 'S', 'T', 'U', 'V', 'W', 'X', 'Y', 'Z']\n"
          ]
        },
        {
          "data": {
            "text/plain": [
              "True"
            ]
          },
          "execution_count": 249,
          "metadata": {},
          "output_type": "execute_result"
        }
      ],
      "source": [
        "alphabet: list[str] = [chr(i) for i in range(65,91)];\n",
        "\n",
        "print(alphabet);\n",
        "\n",
        "\"X\" in alphabet"
      ]
    },
    {
      "cell_type": "code",
      "execution_count": 250,
      "metadata": {},
      "outputs": [
        {
          "data": {
            "text/plain": [
              "False"
            ]
          },
          "execution_count": 250,
          "metadata": {},
          "output_type": "execute_result"
        }
      ],
      "source": [
        "\"AHM X\" in alphabet"
      ]
    },
    {
      "cell_type": "code",
      "execution_count": 251,
      "metadata": {},
      "outputs": [
        {
          "data": {
            "text/plain": [
              "False"
            ]
          },
          "execution_count": 251,
          "metadata": {},
          "output_type": "execute_result"
        }
      ],
      "source": [
        "names : list[str] = [\"Ahmed\",\"Saleem\",\"Shaikh\"];\n",
        "\n",
        "uinput : str = input(\"Enter Your Name\");\n",
        "\n",
        "uinput in names"
      ]
    },
    {
      "cell_type": "code",
      "execution_count": 253,
      "metadata": {},
      "outputs": [
        {
          "data": {
            "text/plain": [
              "True"
            ]
          },
          "execution_count": 253,
          "metadata": {},
          "output_type": "execute_result"
        }
      ],
      "source": [
        "names : list[str] = [\"Ahmed\",\"Saleem\",\"Shaikh\"];\n",
        "\n",
        "uinput : str = input(\"Enter Your Name\");\n",
        "\n",
        "uinput not in names"
      ]
    },
    {
      "cell_type": "markdown",
      "metadata": {},
      "source": [
        "# **PEMDAS**"
      ]
    },
    {
      "cell_type": "code",
      "execution_count": 191,
      "metadata": {},
      "outputs": [
        {
          "name": "stdout",
          "output_type": "stream",
          "text": [
            "14\n",
            "20\n"
          ]
        }
      ],
      "source": [
        "num: int = 2 + 3 * 4;\n",
        "\n",
        "print(num);\n",
        "\n",
        "num: int = (2 + 3) * 4;\n",
        "\n",
        "print(num);"
      ]
    },
    {
      "cell_type": "code",
      "execution_count": 156,
      "metadata": {},
      "outputs": [
        {
          "name": "stdout",
          "output_type": "stream",
          "text": [
            "3.0\n",
            "3\n"
          ]
        }
      ],
      "source": [
        "print(3 + 2 - 2 * 4 / 2 + 2);\n",
        "\n",
        "print(3 + 2 - 2 * 4 // 2 + 2);"
      ]
    },
    {
      "cell_type": "code",
      "execution_count": 256,
      "metadata": {},
      "outputs": [
        {
          "name": "stdout",
          "output_type": "stream",
          "text": [
            "0.2\n",
            "0.4\n",
            "0.30000000000000004\n",
            "0.30000000000000004\n",
            "2.0\n",
            "<class 'float'>\n",
            "2\n",
            "<class 'int'>\n",
            "9.0\n"
          ]
        }
      ],
      "source": [
        "floatNum: float = 0.1 + 0.1;\n",
        "\n",
        "print(floatNum);\n",
        "\n",
        "floatNum: float = 2 * 0.2;\n",
        "\n",
        "print(floatNum);\n",
        "\n",
        "floatNum: float = 0.2 + 0.1;\n",
        "\n",
        "print(floatNum);\n",
        "\n",
        "floatNum: float = 3 * 0.1;\n",
        "\n",
        "print(floatNum);\n",
        "\n",
        "num: int = 4 / 2;\n",
        "\n",
        "print(num);\n",
        "\n",
        "print(type(num));\n",
        "\n",
        "num: int = 4 // 2;\n",
        "\n",
        "print(num);\n",
        "\n",
        "print(type(num));\n",
        "\n",
        "floatNum: float = 3.0 ** 2;\n",
        "\n",
        "print(floatNum);"
      ]
    },
    {
      "cell_type": "code",
      "execution_count": 257,
      "metadata": {},
      "outputs": [
        {
          "name": "stdout",
          "output_type": "stream",
          "text": [
            "0\n"
          ]
        }
      ],
      "source": [
        "print((6 + 3) - (6 + 3));"
      ]
    },
    {
      "cell_type": "code",
      "execution_count": 258,
      "metadata": {},
      "outputs": [
        {
          "name": "stdout",
          "output_type": "stream",
          "text": [
            "14000000000\n",
            "<class 'int'>\n"
          ]
        }
      ],
      "source": [
        "universe_age = 14_000_000_000;\n",
        "\n",
        "print(universe_age);\n",
        "\n",
        "print(type(universe_age));"
      ]
    },
    {
      "cell_type": "code",
      "execution_count": 260,
      "metadata": {},
      "outputs": [
        {
          "name": "stdout",
          "output_type": "stream",
          "text": [
            "Web\n",
            "3.0\n",
            "Web 3.0\n"
          ]
        }
      ],
      "source": [
        "x, z = \"Web\", 3.0;\n",
        "\n",
        "print(x);\n",
        "print(z);\n",
        "\n",
        "print(x, z);"
      ]
    },
    {
      "cell_type": "code",
      "execution_count": 261,
      "metadata": {},
      "outputs": [
        {
          "name": "stdout",
          "output_type": "stream",
          "text": [
            "Ahmed\n",
            "True\n",
            "Ahmed 4 True\n"
          ]
        }
      ],
      "source": [
        "a, b, c = (\"Ahmed\", 4, True);\n",
        "\n",
        "print(a);\n",
        "\n",
        "print(c);\n",
        "\n",
        "data = (\"Ahmed\", 4, True); # Tuple\n",
        "\n",
        "print(data[0], data[1], data[2]);"
      ]
    },
    {
      "cell_type": "code",
      "execution_count": 263,
      "metadata": {},
      "outputs": [
        {
          "name": "stdout",
          "output_type": "stream",
          "text": [
            "Ahmed 4 True\n"
          ]
        }
      ],
      "source": [
        "print( * data);"
      ]
    },
    {
      "cell_type": "code",
      "execution_count": 265,
      "metadata": {},
      "outputs": [
        {
          "name": "stdout",
          "output_type": "stream",
          "text": [
            "4\n",
            "aaa\n"
          ]
        }
      ],
      "source": [
        "print(2 * 2);\n",
        "\n",
        "print(\"a\" * 3);"
      ]
    }
  ],
  "metadata": {
    "colab": {
      "provenance": []
    },
    "kernelspec": {
      "display_name": "py12",
      "language": "python",
      "name": "python3"
    },
    "language_info": {
      "codemirror_mode": {
        "name": "ipython",
        "version": 3
      },
      "file_extension": ".py",
      "mimetype": "text/x-python",
      "name": "python",
      "nbconvert_exporter": "python",
      "pygments_lexer": "ipython3",
      "version": "3.12.0"
    }
  },
  "nbformat": 4,
  "nbformat_minor": 0
}
