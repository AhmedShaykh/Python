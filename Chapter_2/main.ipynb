{
  "nbformat": 4,
  "nbformat_minor": 0,
  "metadata": {
    "colab": {
      "provenance": []
    },
    "kernelspec": {
      "name": "python3",
      "display_name": "Python 3"
    },
    "language_info": {
      "name": "python"
    }
  },
  "cells": [
    {
      "cell_type": "markdown",
      "source": [
        "# **Variables**"
      ],
      "metadata": {
        "id": "YQVl_wGZUdat"
      }
    },
    {
      "cell_type": "markdown",
      "source": [],
      "metadata": {
        "id": "TarQCRg7UYuf"
      }
    },
    {
      "cell_type": "code",
      "source": [
        "message = \"Learning Generative AI!\";\n",
        "\n",
        "print(message);"
      ],
      "metadata": {
        "colab": {
          "base_uri": "https://localhost:8080/"
        },
        "id": "yde0-9D9Ua-k",
        "outputId": "c85d9dcd-8079-47d2-c21c-06b5ed761ed1"
      },
      "execution_count": 22,
      "outputs": [
        {
          "output_type": "stream",
          "name": "stdout",
          "text": [
            "Learning Generative AI!\n"
          ]
        }
      ]
    },
    {
      "cell_type": "code",
      "source": [
        "message = \"Learning Generative AI!\";\n",
        "\n",
        "print(message);\n",
        "\n",
        "message = \"Learning Gen AI!\";\n",
        "\n",
        "print(message);"
      ],
      "metadata": {
        "colab": {
          "base_uri": "https://localhost:8080/"
        },
        "id": "KhXVihD1Tn1l",
        "outputId": "8bd137bd-2ae9-4f44-8a97-7c7e1add2012"
      },
      "execution_count": 23,
      "outputs": [
        {
          "output_type": "stream",
          "name": "stdout",
          "text": [
            "Learning Generative AI!\n",
            "Learning Gen AI!\n"
          ]
        }
      ]
    },
    {
      "cell_type": "code",
      "source": [
        "name = \"my name is ahmed shaykh\";\n",
        "\n",
        "print(name.title());"
      ],
      "metadata": {
        "colab": {
          "base_uri": "https://localhost:8080/"
        },
        "id": "H6Klz3R6UvgN",
        "outputId": "3fa16e50-9279-4837-93f9-a1591b483c42"
      },
      "execution_count": 24,
      "outputs": [
        {
          "output_type": "stream",
          "name": "stdout",
          "text": [
            "My Name Is Ahmed Shaykh\n"
          ]
        }
      ]
    },
    {
      "cell_type": "markdown",
      "source": [
        "# **Data Types**\n"
      ],
      "metadata": {
        "id": "yy_1_N8pU24B"
      }
    },
    {
      "cell_type": "code",
      "source": [
        "name: str = \"Ahmed Saleem Shaikh\";\n",
        "\n",
        "print(name);"
      ],
      "metadata": {
        "colab": {
          "base_uri": "https://localhost:8080/"
        },
        "id": "l0SnK7HwU6GA",
        "outputId": "a3f3ce13-bdf7-468b-acea-0fefdfc3a402"
      },
      "execution_count": 26,
      "outputs": [
        {
          "output_type": "stream",
          "name": "stdout",
          "text": [
            "Ahmed Saleem Shaikh\n"
          ]
        }
      ]
    },
    {
      "cell_type": "code",
      "source": [
        "val: str = \"Ahmëd Shäykh\";\n",
        "\n",
        "print(val);\n",
        "\n",
        "val: int = 4;\n",
        "\n",
        "print(val);"
      ],
      "metadata": {
        "colab": {
          "base_uri": "https://localhost:8080/"
        },
        "id": "_47uL5TMVW12",
        "outputId": "a33e4b3b-1e90-4d46-a250-42657607b486"
      },
      "execution_count": 27,
      "outputs": [
        {
          "output_type": "stream",
          "name": "stdout",
          "text": [
            "Ahmëd Shäykh\n",
            "4\n"
          ]
        }
      ]
    },
    {
      "cell_type": "code",
      "source": [
        "name: str = \"sAbrina CarpenTer\";\n",
        "\n",
        "print(name.title());\n",
        "\n",
        "print(name.upper());\n",
        "\n",
        "print(name.lower());"
      ],
      "metadata": {
        "colab": {
          "base_uri": "https://localhost:8080/"
        },
        "id": "k8G-kdKYVx6_",
        "outputId": "b878e435-dfe7-48ca-e917-8ec5bba6f8f2"
      },
      "execution_count": 31,
      "outputs": [
        {
          "output_type": "stream",
          "name": "stdout",
          "text": [
            "Sabrina Carpenter\n",
            "SABRINA CARPENTER\n",
            "sabrina carpenter\n"
          ]
        }
      ]
    },
    {
      "cell_type": "code",
      "source": [
        "first_name: str = \"Imran\";\n",
        "\n",
        "last_name: str = \"Khan\";\n",
        "\n",
        "full_name = f\"{first_name} {last_name}\";\n",
        "\n",
        "print(full_name);\n",
        "\n",
        "mess: str = f\"{full_name.title()} Zindabad!\";\n",
        "\n",
        "print(mess);"
      ],
      "metadata": {
        "colab": {
          "base_uri": "https://localhost:8080/"
        },
        "id": "Kt5A5Ho8WTCA",
        "outputId": "7ffb2765-7e92-430e-f755-dfecd4b1c606"
      },
      "execution_count": 36,
      "outputs": [
        {
          "output_type": "stream",
          "name": "stdout",
          "text": [
            "Imran Khan\n",
            "Imran Khan Zindabad!\n"
          ]
        }
      ]
    },
    {
      "cell_type": "code",
      "source": [
        "print(\"TypeScript\");\n",
        "\n",
        "print(\"\\tPython\");"
      ],
      "metadata": {
        "colab": {
          "base_uri": "https://localhost:8080/"
        },
        "id": "4tnbwtEOXX56",
        "outputId": "e11b35d0-16f8-46f0-a769-adcfdf5c60be"
      },
      "execution_count": 38,
      "outputs": [
        {
          "output_type": "stream",
          "name": "stdout",
          "text": [
            "TypeScript\n",
            "\tPython\n"
          ]
        }
      ]
    },
    {
      "cell_type": "code",
      "source": [
        "print(\"Languages:\\n\\nJavaScript\\nPython\\nTypeScript\");"
      ],
      "metadata": {
        "colab": {
          "base_uri": "https://localhost:8080/"
        },
        "id": "RfQMOLvwXw9P",
        "outputId": "1254a5e1-7c52-48de-ac66-a8d36db13424"
      },
      "execution_count": 43,
      "outputs": [
        {
          "output_type": "stream",
          "name": "stdout",
          "text": [
            "Languages:\n",
            "\n",
            "JavaScript\n",
            "Python\n",
            "TypeScript\n"
          ]
        }
      ]
    },
    {
      "cell_type": "code",
      "source": [
        "print(\"Languages:\\n\\n\\tTypeScript\\n\\tPython\\n\\tSolidity\");"
      ],
      "metadata": {
        "colab": {
          "base_uri": "https://localhost:8080/"
        },
        "id": "7zSP32v8YY3w",
        "outputId": "c3a99af2-b347-4b4b-f3b1-9cbc294d1aa7"
      },
      "execution_count": 44,
      "outputs": [
        {
          "output_type": "stream",
          "name": "stdout",
          "text": [
            "Languages:\n",
            "\n",
            "\tTypeScript\n",
            "\tPython\n",
            "\tSolidity\n"
          ]
        }
      ]
    },
    {
      "cell_type": "code",
      "source": [
        "language: str = \"Python \";\n",
        "\n",
        "print(language);\n",
        "\n",
        "print(language.rstrip()); # Remove Extra Space For Right Side\n",
        "\n",
        "language: str = \" JavaScript\";\n",
        "\n",
        "print(language);\n",
        "\n",
        "print(language.lstrip()); # Remove Extra Space For Left Side\n",
        "\n",
        "language: str = \"  TypeScript  \";\n",
        "\n",
        "print(language);\n",
        "\n",
        "print(language.strip()); # Remove Extra Space For Both Sides"
      ],
      "metadata": {
        "colab": {
          "base_uri": "https://localhost:8080/"
        },
        "id": "pokjQ1gzZBZj",
        "outputId": "5ae934fb-9e87-4244-bb26-e1c83facd350"
      },
      "execution_count": 60,
      "outputs": [
        {
          "output_type": "stream",
          "name": "stdout",
          "text": [
            "Python \n",
            "Python\n",
            " JavaScript\n",
            "JavaScript\n",
            "  TypeScript  \n",
            "TypeScript\n"
          ]
        }
      ]
    },
    {
      "cell_type": "code",
      "source": [
        "nostarch_url: str = \"https://ahmxmusic.com\";\n",
        "\n",
        "print(nostarch_url.removeprefix(\"https://\"));"
      ],
      "metadata": {
        "colab": {
          "base_uri": "https://localhost:8080/"
        },
        "id": "pMGJJnN0bgO4",
        "outputId": "07ed2709-e7da-47c1-d3f8-4966a132d772"
      },
      "execution_count": 62,
      "outputs": [
        {
          "output_type": "stream",
          "name": "stdout",
          "text": [
            "ahmxmusic.com\n"
          ]
        }
      ]
    },
    {
      "cell_type": "code",
      "source": [
        "lang: str = \"TS JS Python\";\n",
        "\n",
        "print(lang.removeprefix(\"TS \"));\n",
        "\n",
        "lang: str = \"TS JS Python\";\n",
        "\n",
        "print(lang.removesuffix(\"Python\"));"
      ],
      "metadata": {
        "colab": {
          "base_uri": "https://localhost:8080/"
        },
        "id": "wsOwsiImb5Wg",
        "outputId": "ce795f2d-f6a9-4284-bac3-d80fe989ebe5"
      },
      "execution_count": 72,
      "outputs": [
        {
          "output_type": "stream",
          "name": "stdout",
          "text": [
            "JS Python\n",
            "TS JS \n"
          ]
        }
      ]
    },
    {
      "cell_type": "code",
      "source": [
        "num: int = 2 + 3;\n",
        "\n",
        "print(num);\n",
        "\n",
        "num: int = 2 * 3;\n",
        "\n",
        "print(num);\n",
        "\n",
        "num: int = 3 / 2;\n",
        "\n",
        "print(num);\n",
        "\n",
        "num: int = 4 ** 4;\n",
        "\n",
        "print(num);"
      ],
      "metadata": {
        "colab": {
          "base_uri": "https://localhost:8080/"
        },
        "id": "fD5HTRRGchwV",
        "outputId": "c795044f-eedb-4bfd-f19b-9ce21477c742"
      },
      "execution_count": 75,
      "outputs": [
        {
          "output_type": "stream",
          "name": "stdout",
          "text": [
            "5\n",
            "6\n",
            "1.5\n",
            "256\n"
          ]
        }
      ]
    },
    {
      "cell_type": "code",
      "source": [
        "num: int = 2 + 3*4;\n",
        "\n",
        "print(num);\n",
        "\n",
        "num: int = (2 + 3) * 4;\n",
        "\n",
        "print(num);"
      ],
      "metadata": {
        "colab": {
          "base_uri": "https://localhost:8080/"
        },
        "id": "xFn6GtMQfT1y",
        "outputId": "710c229a-d3c9-45a8-ff67-f48e8b143743"
      },
      "execution_count": 76,
      "outputs": [
        {
          "output_type": "stream",
          "name": "stdout",
          "text": [
            "14\n",
            "20\n"
          ]
        }
      ]
    },
    {
      "cell_type": "code",
      "source": [
        "floatNum: float = 0.1 + 0.1;\n",
        "\n",
        "print(floatNum);\n",
        "\n",
        "floatNum: float = 2 * 0.2;\n",
        "\n",
        "print(floatNum);\n",
        "\n",
        "floatNum: float = 0.2 + 0.1;\n",
        "\n",
        "print(floatNum);\n",
        "\n",
        "floatNum: float = 3 * 0.1;\n",
        "\n",
        "print(floatNum);\n",
        "\n",
        "num: int = 4/2;\n",
        "\n",
        "print(num);\n",
        "print(type(num));\n",
        "\n",
        "floatNum: float = 3.0 ** 2;\n",
        "\n",
        "print(floatNum);"
      ],
      "metadata": {
        "colab": {
          "base_uri": "https://localhost:8080/"
        },
        "id": "5jlJ2yPTgV-M",
        "outputId": "93f1d0bb-2480-4072-c40e-54f82a25c13d"
      },
      "execution_count": 87,
      "outputs": [
        {
          "output_type": "stream",
          "name": "stdout",
          "text": [
            "0.2\n",
            "0.4\n",
            "0.30000000000000004\n",
            "0.30000000000000004\n",
            "2.0\n",
            "<class 'float'>\n",
            "9.0\n"
          ]
        }
      ]
    },
    {
      "cell_type": "code",
      "source": [
        "universe_age = 14_000_000_000;\n",
        "\n",
        "print(universe_age);\n",
        "print(type(universe_age));"
      ],
      "metadata": {
        "colab": {
          "base_uri": "https://localhost:8080/"
        },
        "id": "py5MEKx1hyJa",
        "outputId": "2a26eebd-ebfe-48d7-fae7-3d403e25001d"
      },
      "execution_count": 89,
      "outputs": [
        {
          "output_type": "stream",
          "name": "stdout",
          "text": [
            "14000000000\n",
            "<class 'int'>\n"
          ]
        }
      ]
    },
    {
      "cell_type": "code",
      "source": [
        "x, y, z = 7, 8, 6;\n",
        "\n",
        "print(x);\n",
        "print(z);"
      ],
      "metadata": {
        "colab": {
          "base_uri": "https://localhost:8080/"
        },
        "id": "gL3ksqIXibO_",
        "outputId": "28c41a7f-3509-437b-8b71-b6c8ee5a3892"
      },
      "execution_count": 96,
      "outputs": [
        {
          "output_type": "stream",
          "name": "stdout",
          "text": [
            "7\n",
            "6\n"
          ]
        }
      ]
    }
  ]
}