{
  "cells": [
    {
      "cell_type": "markdown",
      "metadata": {
        "id": "6GCq1oXvRCPx"
      },
      "source": [
        "# **Data Types**"
      ]
    },
    {
      "cell_type": "code",
      "execution_count": 144,
      "metadata": {
        "id": "B88I_vESRCP4",
        "outputId": "0f2defa6-76c7-4f81-f9bc-70e64d95403a"
      },
      "outputs": [
        {
          "name": "stdout",
          "output_type": "stream",
          "text": [
            "Ahmed Saleem Shaikh\n"
          ]
        }
      ],
      "source": [
        "name: str = \"Ahmed Saleem Shaikh\";\n",
        "\n",
        "print(name);"
      ]
    },
    {
      "cell_type": "code",
      "execution_count": 145,
      "metadata": {
        "id": "7oM5d9ziRCP8",
        "outputId": "544725f4-aa1c-4471-d355-38173af3f4b8"
      },
      "outputs": [
        {
          "name": "stdout",
          "output_type": "stream",
          "text": [
            "Ahmëd Shäykh\n",
            "4\n"
          ]
        }
      ],
      "source": [
        "val: str = \"Ahmëd Shäykh\";\n",
        "\n",
        "print(val);\n",
        "\n",
        "val: int = 4;\n",
        "\n",
        "print(val);"
      ]
    },
    {
      "cell_type": "code",
      "execution_count": 146,
      "metadata": {
        "id": "kaO_wtDXRCP9",
        "outputId": "5e62c42c-f000-4ce7-c8b7-a9742d90cf87"
      },
      "outputs": [
        {
          "name": "stdout",
          "output_type": "stream",
          "text": [
            "Sabrina Carpenter\n",
            "SABRINA CARPENTER\n",
            "sabrina carpenter\n"
          ]
        }
      ],
      "source": [
        "name: str = \"sAbrina CarpenTer\";\n",
        "\n",
        "print(name.title());\n",
        "\n",
        "print(name.upper());\n",
        "\n",
        "print(name.lower());"
      ]
    },
    {
      "cell_type": "code",
      "execution_count": 147,
      "metadata": {
        "id": "IEi3EIQsRCP-",
        "outputId": "2f9427c8-aaca-4855-fcae-db2d7364d720"
      },
      "outputs": [
        {
          "name": "stdout",
          "output_type": "stream",
          "text": [
            "I Have 2 Million's Dollars\n"
          ]
        }
      ],
      "source": [
        "mess: str = 'I Have 2 Million\\'s Dollars';\n",
        "\n",
        "print(mess);"
      ]
    },
    {
      "cell_type": "code",
      "execution_count": 148,
      "metadata": {
        "id": "rtZHNFmGRCQC",
        "outputId": "dde61d84-c83a-482b-bf80-cded61e8ce08"
      },
      "outputs": [
        {
          "name": "stdout",
          "output_type": "stream",
          "text": [
            "AHM X\n"
          ]
        }
      ],
      "source": [
        "name: str = \"A\" + \"H\" + \"M\" + \" X\";\n",
        "\n",
        "print(name);"
      ]
    },
    {
      "cell_type": "code",
      "execution_count": 149,
      "metadata": {
        "id": "n_TyAYSMRCQD",
        "outputId": "4183639a-be51-42bc-e203-96c15625a1cb"
      },
      "outputs": [
        {
          "name": "stdout",
          "output_type": "stream",
          "text": [
            "25\n"
          ]
        }
      ],
      "source": [
        "print(9 + \\\n",
        "      10 + \\\n",
        "      6); # Backslash Means Next Logical Continue In Next Line"
      ]
    },
    {
      "cell_type": "markdown",
      "metadata": {
        "id": "xM_O5MO1RCQE"
      },
      "source": [
        "# **F-String**"
      ]
    },
    {
      "cell_type": "code",
      "execution_count": 150,
      "metadata": {
        "id": "Kn4bHIAtRCQF",
        "outputId": "84141259-8aba-47d1-c54c-7608dea2f812"
      },
      "outputs": [
        {
          "name": "stdout",
          "output_type": "stream",
          "text": [
            "Imran Khan\n",
            "Imran Khan Zindabad!\n"
          ]
        }
      ],
      "source": [
        "first_name: str = \"Imran\";\n",
        "\n",
        "last_name: str = \"Khan\";\n",
        "\n",
        "full_name = f\"{first_name} {last_name}\";\n",
        "\n",
        "print(full_name);\n",
        "\n",
        "mess: str = f\"{full_name.title()} Zindabad!\";\n",
        "\n",
        "print(mess);"
      ]
    },
    {
      "cell_type": "code",
      "execution_count": 151,
      "metadata": {
        "id": "zABXCVORRCQG",
        "outputId": "ffd40af5-459b-4a1d-81ed-60e81d0c1ae1"
      },
      "outputs": [
        {
          "name": "stdout",
          "output_type": "stream",
          "text": [
            "\n",
            "Name: Ahmed Saleem Shaikh\n",
            "Artist Name: AHM X\n",
            "age: 23\n",
            "Skills: Full Stack Developer & Music Producer\n",
            "Muslim: True\n",
            "\n"
          ]
        }
      ],
      "source": [
        "name: str = \"Ahmed Saleem Shaikh\";\n",
        "\n",
        "artistName: str = \"AHM X\";\n",
        "\n",
        "age: int = 23;\n",
        "\n",
        "skills: str = \"Full Stack Developer & Music Producer\";\n",
        "\n",
        "muslim: bool = True;\n",
        "\n",
        "visaCard: str = f\"\"\"\n",
        "Name: {name}\n",
        "Artist Name: {artistName}\n",
        "age: {age}\n",
        "Skills: {skills}\n",
        "Muslim: {muslim}\n",
        "\"\"\";\n",
        "\n",
        "print(visaCard);"
      ]
    },
    {
      "cell_type": "code",
      "execution_count": 152,
      "metadata": {
        "id": "93Yux950RCQH",
        "outputId": "e31e8bb3-46b2-45d2-e385-3fa63981807e"
      },
      "outputs": [
        {
          "name": "stdout",
          "output_type": "stream",
          "text": [
            "\n",
            "Totals: 16\n",
            "\n"
          ]
        }
      ],
      "source": [
        "total: str = f\"\"\"\n",
        "Totals: {3 + 5 + 8}\n",
        "\"\"\";\n",
        "\n",
        "print(total);"
      ]
    },
    {
      "cell_type": "code",
      "execution_count": 153,
      "metadata": {
        "colab": {
          "base_uri": "https://localhost:8080/"
        },
        "id": "wfHFORSdRCQI",
        "outputId": "e045b05d-d24a-4165-c1f2-15c24bd9edb4"
      },
      "outputs": [
        {
          "data": {
            "text/plain": [
              "['capitalize',\n",
              " 'casefold',\n",
              " 'center',\n",
              " 'count',\n",
              " 'encode',\n",
              " 'endswith',\n",
              " 'expandtabs',\n",
              " 'find',\n",
              " 'format',\n",
              " 'format_map',\n",
              " 'index',\n",
              " 'isalnum',\n",
              " 'isalpha',\n",
              " 'isascii',\n",
              " 'isdecimal',\n",
              " 'isdigit',\n",
              " 'isidentifier',\n",
              " 'islower',\n",
              " 'isnumeric',\n",
              " 'isprintable',\n",
              " 'isspace',\n",
              " 'istitle',\n",
              " 'isupper',\n",
              " 'join',\n",
              " 'ljust',\n",
              " 'lower',\n",
              " 'lstrip',\n",
              " 'maketrans',\n",
              " 'partition',\n",
              " 'removeprefix',\n",
              " 'removesuffix',\n",
              " 'replace',\n",
              " 'rfind',\n",
              " 'rindex',\n",
              " 'rjust',\n",
              " 'rpartition',\n",
              " 'rsplit',\n",
              " 'rstrip',\n",
              " 'split',\n",
              " 'splitlines',\n",
              " 'startswith',\n",
              " 'strip',\n",
              " 'swapcase',\n",
              " 'title',\n",
              " 'translate',\n",
              " 'upper',\n",
              " 'zfill']"
            ]
          },
          "execution_count": 153,
          "metadata": {},
          "output_type": "execute_result"
        }
      ],
      "source": [
        "[i for i in dir(str) if \"__\" not in i]"
      ]
    },
    {
      "cell_type": "code",
      "execution_count": 154,
      "metadata": {},
      "outputs": [
        {
          "name": "stdout",
          "output_type": "stream",
          "text": [
            "Ahmed shaikh\n",
            "ahmed shaikh\n"
          ]
        }
      ],
      "source": [
        "name : str = \"AhMed ShAikh\";\n",
        "\n",
        "print(name.capitalize());\n",
        "\n",
        "print(name.lower());"
      ]
    },
    {
      "cell_type": "code",
      "execution_count": 155,
      "metadata": {},
      "outputs": [
        {
          "name": "stdout",
          "output_type": "stream",
          "text": [
            "Value A Is = 4 & B Is = 5\n"
          ]
        }
      ],
      "source": [
        "a: int = 4;\n",
        "\n",
        "b: int = 5;\n",
        "\n",
        "val: str = \"Value A Is = {} & B Is = {}\".format(a, b);\n",
        "\n",
        "print(val);"
      ]
    },
    {
      "cell_type": "code",
      "execution_count": 156,
      "metadata": {},
      "outputs": [
        {
          "name": "stdout",
          "output_type": "stream",
          "text": [
            "\n",
            "Name: Ahmed Saleem Shaikh\n",
            "Artist Name: AHM X\n",
            "age: 23\n",
            "Skills: Full Stack Developer & Music Producer\n",
            "Muslim: True\n",
            "\n"
          ]
        }
      ],
      "source": [
        "name: str = \"Ahmed Saleem Shaikh\";\n",
        "\n",
        "artistName: str = \"AHM X\";\n",
        "\n",
        "age: int = 23;\n",
        "\n",
        "skills: str = \"Full Stack Developer & Music Producer\";\n",
        "\n",
        "muslim: bool = True;\n",
        "\n",
        "visaCard: str = \"\"\"\n",
        "Name: {}\n",
        "Artist Name: {}\n",
        "age: {}\n",
        "Skills: {}\n",
        "Muslim: {}\n",
        "\"\"\".format(name, artistName, age, skills, muslim);\n",
        "\n",
        "print(visaCard);"
      ]
    },
    {
      "cell_type": "code",
      "execution_count": 157,
      "metadata": {},
      "outputs": [
        {
          "name": "stdout",
          "output_type": "stream",
          "text": [
            "\n",
            "Name: AHM X\n",
            "Artist Name: Ahmed Saleem Shaikh\n",
            "age: 23\n",
            "Skills: Full Stack Developer & Music Producer\n",
            "Muslim: True\n",
            "\n"
          ]
        }
      ],
      "source": [
        "visaCard: str = \"\"\"\n",
        "Name: {1}\n",
        "Artist Name: {0}\n",
        "age: {2}\n",
        "Skills: {3}\n",
        "Muslim: {4}\n",
        "\"\"\".format(name, artistName, age, skills, muslim);\n",
        "\n",
        "print(visaCard);"
      ]
    },
    {
      "cell_type": "code",
      "execution_count": 158,
      "metadata": {},
      "outputs": [
        {
          "name": "stdout",
          "output_type": "stream",
          "text": [
            "\n",
            "Name: Ahmed Saleem Shaikh\n",
            "Artist Name: AHM X\n",
            "age: 23\n",
            "Skills: Full Stack Developer & Music Producer\n",
            "Muslim: True\n",
            "\n"
          ]
        }
      ],
      "source": [
        "visaCard: str = \"\"\"\n",
        "Name: {a}\n",
        "Artist Name: {b}\n",
        "age: {c}\n",
        "Skills: {d}\n",
        "Muslim: {e}\n",
        "\"\"\".format(\n",
        "    b = artistName, \n",
        "    a = name, \n",
        "    c = age, \n",
        "    d = skills,\n",
        "    e = muslim);\n",
        "\n",
        "print(visaCard);"
      ]
    },
    {
      "cell_type": "code",
      "execution_count": 159,
      "metadata": {},
      "outputs": [
        {
          "name": "stdout",
          "output_type": "stream",
          "text": [
            "My Name Is Ahmed Shaykh\n",
            "112\n"
          ]
        }
      ],
      "source": [
        "name: str = \"\"\"\n",
        "print(\"My Name Is Ahmed Shaykh\");\n",
        "a: int = 45;\n",
        "b: int = 67;\n",
        "print(a +  b);\n",
        "\"\"\";\n",
        "\n",
        "exec(name);"
      ]
    },
    {
      "cell_type": "code",
      "execution_count": 160,
      "metadata": {},
      "outputs": [
        {
          "name": "stdout",
          "output_type": "stream",
          "text": [
            "['capitalize', 'casefold', 'center', 'count', 'encode', 'endswith', 'expandtabs', 'find', 'format', 'format_map', 'index', 'isalnum', 'isalpha', 'isascii', 'isdecimal', 'isdigit', 'isidentifier', 'islower', 'isnumeric', 'isprintable', 'isspace', 'istitle', 'isupper', 'join', 'ljust', 'lower', 'lstrip', 'maketrans', 'partition', 'removeprefix', 'removesuffix', 'replace', 'rfind', 'rindex', 'rjust', 'rpartition', 'rsplit', 'rstrip', 'split', 'splitlines', 'startswith', 'strip', 'swapcase', 'title', 'translate', 'upper', 'zfill']\n",
            "47\n"
          ]
        }
      ],
      "source": [
        "a: list[str] = [i for i in dir(str) if \"__\" not in i];\n",
        "\n",
        "print(a);\n",
        "\n",
        "print(len(a));"
      ]
    },
    {
      "cell_type": "code",
      "execution_count": 161,
      "metadata": {},
      "outputs": [
        {
          "name": "stdout",
          "output_type": "stream",
          "text": [
            "GEN Ai\n",
            "gen ai\n",
            "gen ai\n"
          ]
        }
      ],
      "source": [
        "ai: str = \"GEN Ai\";\n",
        "\n",
        "print(ai);\n",
        "\n",
        "print(ai.lower());\n",
        "\n",
        "print(ai.casefold());"
      ]
    },
    {
      "cell_type": "code",
      "execution_count": 162,
      "metadata": {},
      "outputs": [
        {
          "name": "stdout",
          "output_type": "stream",
          "text": [
            "Python     \n",
            "Python\n",
            "      JavaScript\n",
            "JavaScript\n",
            "     TypeScript      \n",
            "TypeScript\n"
          ]
        }
      ],
      "source": [
        "language: str = \"Python     \";\n",
        "\n",
        "print(language);\n",
        "\n",
        "print(language.rstrip()); # Remove Extra Space For Right Side\n",
        "\n",
        "language: str = \"      JavaScript\";\n",
        "\n",
        "print(language);\n",
        "\n",
        "print(language.lstrip()); # Remove Extra Space For Left Side\n",
        "\n",
        "language: str = \"     TypeScript      \";\n",
        "\n",
        "print(language);\n",
        "\n",
        "print(language.strip()); # Remove Extra Space For Both Sides"
      ]
    },
    {
      "cell_type": "code",
      "execution_count": 163,
      "metadata": {},
      "outputs": [
        {
          "data": {
            "text/plain": [
              "'Python     '"
            ]
          },
          "metadata": {},
          "output_type": "display_data"
        },
        {
          "data": {
            "text/plain": [
              "'Python'"
            ]
          },
          "metadata": {},
          "output_type": "display_data"
        },
        {
          "data": {
            "text/plain": [
              "'      JavaScript'"
            ]
          },
          "metadata": {},
          "output_type": "display_data"
        },
        {
          "data": {
            "text/plain": [
              "'JavaScript'"
            ]
          },
          "metadata": {},
          "output_type": "display_data"
        },
        {
          "data": {
            "text/plain": [
              "'     TypeScript      '"
            ]
          },
          "metadata": {},
          "output_type": "display_data"
        },
        {
          "data": {
            "text/plain": [
              "'TypeScript'"
            ]
          },
          "metadata": {},
          "output_type": "display_data"
        }
      ],
      "source": [
        "language: str = \"Python     \";\n",
        "\n",
        "display(language);\n",
        "\n",
        "display(language.rstrip()); # Remove Extra Space For Right Side\n",
        "\n",
        "language: str = \"      JavaScript\";\n",
        "\n",
        "display(language);\n",
        "\n",
        "display(language.lstrip()); # Remove Extra Space For Left Side\n",
        "\n",
        "language: str = \"     TypeScript      \";\n",
        "\n",
        "display(language);\n",
        "\n",
        "display(language.strip()); # Remove Extra Space For Both Sides"
      ]
    },
    {
      "cell_type": "code",
      "execution_count": 164,
      "metadata": {},
      "outputs": [
        {
          "data": {
            "text/plain": [
              "'        FrEE         PAlenStiNE     '"
            ]
          },
          "metadata": {},
          "output_type": "display_data"
        },
        {
          "data": {
            "text/plain": [
              "'Free Palenstine'"
            ]
          },
          "metadata": {},
          "output_type": "display_data"
        }
      ],
      "source": [
        "import re;\n",
        "\n",
        "free: str = \"        FrEE         PAlenStiNE     \";\n",
        "\n",
        "display(free);\n",
        "\n",
        "freedom: str = re.sub(\" {2,100} \", \" \", free).strip().title(); # Remove Extra Space In Words Middle\n",
        "\n",
        "display(freedom);"
      ]
    },
    {
      "cell_type": "code",
      "execution_count": 165,
      "metadata": {},
      "outputs": [
        {
          "name": "stdout",
          "output_type": "stream",
          "text": [
            "TypeScript\n",
            "\tPython\n"
          ]
        }
      ],
      "source": [
        "print(\"TypeScript\");\n",
        "\n",
        "print(\"\\tPython\");"
      ]
    },
    {
      "cell_type": "code",
      "execution_count": 166,
      "metadata": {},
      "outputs": [
        {
          "name": "stdout",
          "output_type": "stream",
          "text": [
            "Languages:\n",
            "\n",
            "JavaScript\n",
            "Python\n",
            "TypeScript\n"
          ]
        }
      ],
      "source": [
        "print(\"Languages:\\n\\nJavaScript\\nPython\\nTypeScript\");"
      ]
    },
    {
      "cell_type": "code",
      "execution_count": 167,
      "metadata": {},
      "outputs": [
        {
          "name": "stdout",
          "output_type": "stream",
          "text": [
            "Languages:\n",
            "\n",
            "\tTypeScript\n",
            "\tPython\n",
            "\tSolidity\n"
          ]
        }
      ],
      "source": [
        "print(\"Languages:\\n\\n\\tTypeScript\\n\\tPython\\n\\tSolidity\");"
      ]
    },
    {
      "cell_type": "code",
      "execution_count": 168,
      "metadata": {},
      "outputs": [
        {
          "name": "stdout",
          "output_type": "stream",
          "text": [
            "ahmxmusic.com\n"
          ]
        }
      ],
      "source": [
        "nostarch_url: str = \"https://ahmxmusic.com\";\n",
        "\n",
        "print(nostarch_url.removeprefix(\"https://\"));"
      ]
    },
    {
      "cell_type": "code",
      "execution_count": 169,
      "metadata": {},
      "outputs": [
        {
          "name": "stdout",
          "output_type": "stream",
          "text": [
            "JS Python\n",
            "TS JS \n"
          ]
        }
      ],
      "source": [
        "lang: str = \"TS JS Python\";\n",
        "\n",
        "print(lang.removeprefix(\"TS \"));\n",
        "\n",
        "lang: str = \"TS JS Python\";\n",
        "\n",
        "print(lang.removesuffix(\"Python\"));"
      ]
    },
    {
      "cell_type": "code",
      "execution_count": 176,
      "metadata": {},
      "outputs": [
        {
          "name": "stdout",
          "output_type": "stream",
          "text": [
            "Name:Imran Khan\n",
            "Name:         Imran Khan\n"
          ]
        }
      ],
      "source": [
        "print(\"Name: \\bImran Khan\");\n",
        "\n",
        "print(\"Name:          \\bImran Khan\"); # Remove 1 Letter Space"
      ]
    }
  ],
  "metadata": {
    "colab": {
      "provenance": []
    },
    "kernelspec": {
      "display_name": "py12",
      "language": "python",
      "name": "python3"
    },
    "language_info": {
      "codemirror_mode": {
        "name": "ipython",
        "version": 3
      },
      "file_extension": ".py",
      "mimetype": "text/x-python",
      "name": "python",
      "nbconvert_exporter": "python",
      "pygments_lexer": "ipython3",
      "version": "3.11.5"
    }
  },
  "nbformat": 4,
  "nbformat_minor": 0
}
