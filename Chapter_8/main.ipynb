{
 "cells": [
  {
   "cell_type": "markdown",
   "metadata": {},
   "source": [
    "# **Function**"
   ]
  },
  {
   "cell_type": "code",
   "execution_count": 125,
   "metadata": {},
   "outputs": [
    {
     "name": "stdout",
     "output_type": "stream",
     "text": [
      "Pakistan\n",
      "None\n"
     ]
    }
   ],
   "source": [
    "a : str = print(\"Pakistan\"); # Print Is Non-Return Function\n",
    "\n",
    "print(a);"
   ]
  },
  {
   "cell_type": "code",
   "execution_count": 126,
   "metadata": {},
   "outputs": [
    {
     "name": "stdout",
     "output_type": "stream",
     "text": [
      "8\n"
     ]
    }
   ],
   "source": [
    "a : int = len(\"Pakistan\"); # Length Is Return Function\n",
    "\n",
    "print(a);"
   ]
  },
  {
   "cell_type": "code",
   "execution_count": 127,
   "metadata": {},
   "outputs": [
    {
     "name": "stdout",
     "output_type": "stream",
     "text": [
      "Learning Generative AI\n",
      "Artificial Intelligence\n"
     ]
    }
   ],
   "source": [
    "def piaic() -> None: # Default Function\n",
    "\n",
    "    print(\"Learning Generative AI\");\n",
    "\n",
    "    print(\"Artificial Intelligence\");\n",
    "\n",
    "piaic();"
   ]
  },
  {
   "cell_type": "code",
   "execution_count": 128,
   "metadata": {},
   "outputs": [
    {
     "name": "stdout",
     "output_type": "stream",
     "text": [
      "27\n"
     ]
    }
   ],
   "source": [
    "def addNumbers(num1: int , num2: int) -> int:\n",
    "\n",
    "    return num1 + num2;\n",
    "\n",
    "print(addNumbers(7,20));"
   ]
  },
  {
   "cell_type": "code",
   "execution_count": 129,
   "metadata": {},
   "outputs": [
    {
     "name": "stdout",
     "output_type": "stream",
     "text": [
      "98\n",
      "4\n"
     ]
    }
   ],
   "source": [
    "def addNumbers(num1: int , num2: int = 0) -> int:\n",
    "\n",
    "    print(num1 + num2);\n",
    "\n",
    "    return num1 + num2;\n",
    "\n",
    "addNumbers(56,42);\n",
    "\n",
    "addNumbers(4);"
   ]
  },
  {
   "cell_type": "markdown",
   "metadata": {},
   "source": [
    "# **Lambda Function**"
   ]
  },
  {
   "cell_type": "code",
   "execution_count": 130,
   "metadata": {},
   "outputs": [
    {
     "name": "stdout",
     "output_type": "stream",
     "text": [
      "32\n"
     ]
    }
   ],
   "source": [
    "num = lambda num1, num2 : num1 + num2;\n",
    "\n",
    "print(num(12, 20));"
   ]
  },
  {
   "cell_type": "code",
   "execution_count": 131,
   "metadata": {},
   "outputs": [
    {
     "name": "stdout",
     "output_type": "stream",
     "text": [
      "30\n"
     ]
    }
   ],
   "source": [
    "from typing import Callable;\n",
    "\n",
    "add: Callable[[int, int], int] = lambda x, y: x + y;\n",
    "\n",
    "result = add(10, 20);\n",
    "\n",
    "print(result);"
   ]
  },
  {
   "cell_type": "code",
   "execution_count": 132,
   "metadata": {},
   "outputs": [
    {
     "name": "stdout",
     "output_type": "stream",
     "text": [
      "[1, 4, 9, 16, 25, 36, 49, 64, 81, 100]\n"
     ]
    }
   ],
   "source": [
    "from typing import List;\n",
    "\n",
    "data: List[int] = [1,2,3,4,5,6,7,8,9,10];\n",
    "\n",
    "data = list(map(lambda x: x ** 2, data));\n",
    "\n",
    "print(data);"
   ]
  },
  {
   "cell_type": "code",
   "execution_count": 133,
   "metadata": {},
   "outputs": [
    {
     "name": "stdout",
     "output_type": "stream",
     "text": [
      "[2, 4, 6, 8, 10]\n"
     ]
    }
   ],
   "source": [
    "data: List[int] = [1,2,3,4,5,6,7,8,9,10];\n",
    "\n",
    "data = list(filter(lambda x: x % 2 == 0, data));\n",
    "\n",
    "print(data);"
   ]
  },
  {
   "cell_type": "code",
   "execution_count": 134,
   "metadata": {},
   "outputs": [
    {
     "name": "stdout",
     "output_type": "stream",
     "text": [
      "[1, 3, 5, 7, 9]\n"
     ]
    }
   ],
   "source": [
    "data: List[int] = [1,2,3,4,5,6,7,8,9,10];\n",
    "\n",
    "data = list(filter(lambda x: x % 2, data));\n",
    "\n",
    "print(data);"
   ]
  },
  {
   "cell_type": "code",
   "execution_count": 135,
   "metadata": {},
   "outputs": [
    {
     "name": "stdout",
     "output_type": "stream",
     "text": [
      "[2, 4, 6, 8, 10, 12, 14, 16, 18, 20, 22, 24, 26, 28, 30, 32, 34, 36, 38, 40, 42, 44, 46, 48, 50, 52, 54, 56, 58, 60, 62, 64, 66, 68, 70, 72, 74, 76, 78, 80, 82, 84, 86, 88, 90, 92, 94, 96, 98, 100]\n"
     ]
    }
   ],
   "source": [
    "data: List[int] = list(filter(lambda x: x % 2 == 0, range(1,101)));\n",
    "\n",
    "print(data);"
   ]
  },
  {
   "cell_type": "code",
   "execution_count": 136,
   "metadata": {},
   "outputs": [
    {
     "name": "stdout",
     "output_type": "stream",
     "text": [
      "2\n",
      "4\n",
      "[6, 8, 10, 12, 14, 16, 18, 20, 22, 24, 26, 28, 30, 32, 34, 36, 38, 40, 42, 44, 46, 48, 50, 52, 54, 56, 58, 60, 62, 64, 66, 68, 70, 72, 74, 76, 78, 80, 82, 84, 86, 88, 90, 92, 94, 96, 98, 100]\n"
     ]
    }
   ],
   "source": [
    "data: List[int] = filter(lambda x: x % 2 == 0, range(1,101));\n",
    "\n",
    "print(next(data)); # Next Perform Single Iteration Code By Code\n",
    "\n",
    "print(next(data));\n",
    "\n",
    "print(list(data));"
   ]
  },
  {
   "cell_type": "markdown",
   "metadata": {},
   "source": [
    "# **Generator Function**"
   ]
  },
  {
   "cell_type": "code",
   "execution_count": 137,
   "metadata": {},
   "outputs": [
    {
     "name": "stdout",
     "output_type": "stream",
     "text": [
      "<generator object myRange at 0x000001239398C220>\n",
      "[1, 2, 3, 4, 5, 6, 7, 8, 9, 10]\n"
     ]
    }
   ],
   "source": [
    "def myRange(start: int , end: int,step: int = 1):\n",
    "\n",
    "    for i in range(start, end + 1, step):\n",
    "\n",
    "        yield i; # Identity\n",
    "\n",
    "fun = myRange(1,10);\n",
    "\n",
    "print(fun);\n",
    "\n",
    "print(list(fun));"
   ]
  },
  {
   "cell_type": "code",
   "execution_count": 138,
   "metadata": {},
   "outputs": [
    {
     "name": "stdout",
     "output_type": "stream",
     "text": [
      "<generator object myRange at 0x0000012393933B50>\n",
      "1\n",
      "2\n",
      "3\n",
      "Imran Khan\n",
      "4\n"
     ]
    }
   ],
   "source": [
    "fun = myRange(1,10);\n",
    "\n",
    "print(fun);\n",
    "\n",
    "print(next(fun));\n",
    "\n",
    "print(next(fun));\n",
    "\n",
    "print(next(fun));\n",
    "\n",
    "print(\"Imran Khan\");\n",
    "\n",
    "print(next(fun));"
   ]
  },
  {
   "cell_type": "code",
   "execution_count": 139,
   "metadata": {},
   "outputs": [
    {
     "name": "stdout",
     "output_type": "stream",
     "text": [
      "1\n",
      "2\n",
      "[3, 4, 5, 6, 7, 8, 9, 10]\n",
      "<class 'generator'>\n"
     ]
    }
   ],
   "source": [
    "from collections.abc import Iterator;\n",
    "\n",
    "def myRange(start: int , end: int,step: int = 1) -> Iterator[int]:\n",
    "\n",
    "    for i in range(start, end + 1, step):\n",
    "\n",
    "        yield i;\n",
    "\n",
    "fun = myRange(1,10);\n",
    "\n",
    "print(next(fun));\n",
    "\n",
    "print(next(fun));\n",
    "\n",
    "print(list(fun));\n",
    "\n",
    "print(type(fun));"
   ]
  },
  {
   "cell_type": "code",
   "execution_count": 140,
   "metadata": {},
   "outputs": [
    {
     "name": "stdout",
     "output_type": "stream",
     "text": [
      "1\n",
      "2\n",
      "[3, 4, 5, 6, 7, 8, 9, 10]\n"
     ]
    }
   ],
   "source": [
    "from collections.abc import Iterator;\n",
    "\n",
    "def myRange(start: int , end: int,step: int = 1) -> Iterator[int]:\n",
    "\n",
    "    for i in range(start, end + 1, step):\n",
    "\n",
    "        yield i;\n",
    "\n",
    "fun = myRange(1,10);\n",
    "\n",
    "print(next(fun));\n",
    "\n",
    "print(next(fun));\n",
    "\n",
    "print(list(fun));\n",
    "\n",
    "for i in fun:\n",
    "\n",
    "    print(i);"
   ]
  },
  {
   "cell_type": "code",
   "execution_count": 141,
   "metadata": {},
   "outputs": [
    {
     "data": {
      "text/plain": [
       "['__class__',\n",
       " '__del__',\n",
       " '__delattr__',\n",
       " '__dir__',\n",
       " '__doc__',\n",
       " '__eq__',\n",
       " '__format__',\n",
       " '__ge__',\n",
       " '__getattribute__',\n",
       " '__getstate__',\n",
       " '__gt__',\n",
       " '__hash__',\n",
       " '__init__',\n",
       " '__init_subclass__',\n",
       " '__iter__',\n",
       " '__le__',\n",
       " '__lt__',\n",
       " '__name__',\n",
       " '__ne__',\n",
       " '__new__',\n",
       " '__next__',\n",
       " '__qualname__',\n",
       " '__reduce__',\n",
       " '__reduce_ex__',\n",
       " '__repr__',\n",
       " '__setattr__',\n",
       " '__sizeof__',\n",
       " '__str__',\n",
       " '__subclasshook__',\n",
       " 'close',\n",
       " 'gi_code',\n",
       " 'gi_frame',\n",
       " 'gi_running',\n",
       " 'gi_suspended',\n",
       " 'gi_yieldfrom',\n",
       " 'send',\n",
       " 'throw']"
      ]
     },
     "execution_count": 141,
     "metadata": {},
     "output_type": "execute_result"
    }
   ],
   "source": [
    "dir(fun)"
   ]
  },
  {
   "cell_type": "code",
   "execution_count": 142,
   "metadata": {},
   "outputs": [
    {
     "name": "stdout",
     "output_type": "stream",
     "text": [
      "(1, 2, 3, 3, 5, 6) <class 'tuple'>\n"
     ]
    }
   ],
   "source": [
    "def add(*nums):\n",
    "\n",
    "    print(nums, type(nums));\n",
    "\n",
    "    total = 0;\n",
    "\n",
    "    for n in nums:\n",
    "\n",
    "        total += n;\n",
    "\n",
    "    return total;\n",
    "\n",
    "add(1,2,3,3,5,6);"
   ]
  },
  {
   "cell_type": "code",
   "execution_count": 143,
   "metadata": {},
   "outputs": [
    {
     "name": "stdout",
     "output_type": "stream",
     "text": [
      "Hello Martin\n",
      "Hello Sam\n",
      "Hello Steve\n",
      "Hello Robert\n",
      "Hello Sabrina\n",
      "Hello Andrew\n"
     ]
    }
   ],
   "source": [
    "from typing import Tuple;\n",
    "\n",
    "def greet(*names: Tuple[str, ...]) -> None:\n",
    "\n",
    "    for name in names:\n",
    "\n",
    "        print(\"Hello\", name);\n",
    "\n",
    "greet(\"Martin\", \"Sam\", \"Steve\", \"Robert\", \"Sabrina\", \"Andrew\");"
   ]
  },
  {
   "cell_type": "code",
   "execution_count": 144,
   "metadata": {},
   "outputs": [
    {
     "name": "stdout",
     "output_type": "stream",
     "text": [
      "{'c': 'Pakistan', 'a': 'China', 'b': 'Russia'}\n"
     ]
    }
   ],
   "source": [
    "from typing import Dict;\n",
    "\n",
    "def greet(**xyz: Dict[str,str]) -> None:\n",
    "\n",
    "    print(xyz);\n",
    "\n",
    "greet(c = \"Pakistan\", a = \"China\", b = \"Russia\");"
   ]
  },
  {
   "cell_type": "code",
   "execution_count": 145,
   "metadata": {},
   "outputs": [
    {
     "name": "stdout",
     "output_type": "stream",
     "text": [
      "{'a': 7, 'b': 20, 'c': 30, 'x': 1, 'y': 2, 'name': 'AHM X'} <class 'dict'>\n"
     ]
    }
   ],
   "source": [
    "def xyz(**args):\n",
    "\n",
    "    print(args, type(args));\n",
    "\n",
    "xyz(a = 7, b = 20, c = 30, x = 1, y = 2, name = \"AHM X\");"
   ]
  },
  {
   "cell_type": "code",
   "execution_count": 146,
   "metadata": {},
   "outputs": [
    {
     "name": "stdout",
     "output_type": "stream",
     "text": [
      "1 2 (7, 9, 9, 9) {'c': 20, 'd': 30, 'x': 100}\n"
     ]
    }
   ],
   "source": [
    "def myfunc(a: int, b: int, *abc: Tuple[int, ...], **xyz:Dict[str,int]):\n",
    "\n",
    "    print(a, b, abc, xyz);\n",
    "\n",
    "myfunc(1, 2, 7, 9, 9, 9, c = 20, d = 30, x = 100);"
   ]
  },
  {
   "cell_type": "code",
   "execution_count": 147,
   "metadata": {},
   "outputs": [
    {
     "name": "stdout",
     "output_type": "stream",
     "text": [
      "1 2 (7, 9, 9, 9) {'c': 20, 'd': 30, 'x': 100}\n"
     ]
    }
   ],
   "source": [
    "def myfunc(a: int, b: int, *abc: int, **xyz: int) -> None:\n",
    "\n",
    "    print(a, b, abc, xyz);\n",
    "\n",
    "myfunc(1, 2, 7, 9, 9, 9, c = 20, d = 30, x = 100);"
   ]
  },
  {
   "cell_type": "markdown",
   "metadata": {},
   "source": [
    "# **Decorators**"
   ]
  },
  {
   "cell_type": "code",
   "execution_count": 148,
   "metadata": {},
   "outputs": [
    {
     "name": "stdout",
     "output_type": "stream",
     "text": [
      "Something Is Happening Before The Function Is Called.\n",
      "Hello!\n",
      "Something Is Happening After The Function Is Called.\n"
     ]
    }
   ],
   "source": [
    "from typing import Callable;\n",
    "\n",
    "def myDecorator(func: Callable[[], None])-> Callable[[], None]:\n",
    "\n",
    "    def wrapper():\n",
    "\n",
    "        print(\"Something Is Happening Before The Function Is Called.\");\n",
    "\n",
    "        func();\n",
    "\n",
    "        print(\"Something Is Happening After The Function Is Called.\");\n",
    "    \n",
    "    return wrapper;\n",
    "\n",
    "@myDecorator\n",
    "\n",
    "def sayHello():\n",
    "\n",
    "    print(\"Hello!\");\n",
    "\n",
    "sayHello();"
   ]
  },
  {
   "cell_type": "code",
   "execution_count": 149,
   "metadata": {},
   "outputs": [
    {
     "name": "stdout",
     "output_type": "stream",
     "text": [
      "Something Is Happening Before The Function Is Called.\n",
      "100\n",
      "Something Is Happening After The Function Is Called.\n"
     ]
    }
   ],
   "source": [
    "from typing import Callable;\n",
    "\n",
    "def myDecorator(func: Callable[[int], None])-> Callable[[], None]:\n",
    "\n",
    "    def wrapper(num1: int) -> None:\n",
    "\n",
    "        print(\"Something Is Happening Before The Function Is Called.\");\n",
    "\n",
    "        func(num1);\n",
    "\n",
    "        print(\"Something Is Happening After The Function Is Called.\");\n",
    "    \n",
    "    return wrapper;\n",
    "\n",
    "@myDecorator\n",
    "\n",
    "def sayHello(num1: int):\n",
    "\n",
    "    print(num1);\n",
    "\n",
    "sayHello(100);"
   ]
  },
  {
   "cell_type": "markdown",
   "metadata": {},
   "source": [
    "# **Recursive Function**"
   ]
  },
  {
   "cell_type": "code",
   "execution_count": 150,
   "metadata": {},
   "outputs": [
    {
     "name": "stdout",
     "output_type": "stream",
     "text": [
      "The Factorial Of 5 Is 120\n"
     ]
    }
   ],
   "source": [
    "def factorial(x: int) -> int:\n",
    "\n",
    "    if x == 1:\n",
    "\n",
    "        return 1;\n",
    "    \n",
    "    else:\n",
    "\n",
    "        return (x * factorial(x-1));\n",
    "\n",
    "num = 5;\n",
    "\n",
    "print(\"The Factorial Of\", num, \"Is\", factorial(num));"
   ]
  },
  {
   "cell_type": "markdown",
   "metadata": {},
   "source": [
    "# **Closures**"
   ]
  },
  {
   "cell_type": "code",
   "execution_count": 151,
   "metadata": {},
   "outputs": [
    {
     "name": "stdout",
     "output_type": "stream",
     "text": [
      "15\n"
     ]
    }
   ],
   "source": [
    "from typing import Callable;\n",
    "\n",
    "def outerFunc(x: int) -> Callable[[int], int]:\n",
    "\n",
    "    def innerFunc(y: int) -> int:\n",
    "\n",
    "        return x + y;\n",
    "\n",
    "    return innerFunc;\n",
    "\n",
    "closure = outerFunc(10);\n",
    "\n",
    "print(closure(5));"
   ]
  }
 ],
 "metadata": {
  "kernelspec": {
   "display_name": "base",
   "language": "python",
   "name": "python3"
  },
  "language_info": {
   "codemirror_mode": {
    "name": "ipython",
    "version": 3
   },
   "file_extension": ".py",
   "mimetype": "text/x-python",
   "name": "python",
   "nbconvert_exporter": "python",
   "pygments_lexer": "ipython3",
   "version": "3.11.5"
  }
 },
 "nbformat": 4,
 "nbformat_minor": 2
}
