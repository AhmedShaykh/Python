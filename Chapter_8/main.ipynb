{
 "cells": [
  {
   "cell_type": "markdown",
   "metadata": {},
   "source": [
    "# **Function**"
   ]
  },
  {
   "cell_type": "code",
   "execution_count": 2,
   "metadata": {},
   "outputs": [
    {
     "name": "stdout",
     "output_type": "stream",
     "text": [
      "Pakistan\n",
      "None\n"
     ]
    }
   ],
   "source": [
    "a : str = print(\"Pakistan\"); # Print Is Non-Return Function\n",
    "\n",
    "print(a);"
   ]
  },
  {
   "cell_type": "code",
   "execution_count": 4,
   "metadata": {},
   "outputs": [
    {
     "name": "stdout",
     "output_type": "stream",
     "text": [
      "8\n"
     ]
    }
   ],
   "source": [
    "a : int = len(\"Pakistan\"); # Length Is Return Function\n",
    "\n",
    "print(a);"
   ]
  },
  {
   "cell_type": "code",
   "execution_count": 5,
   "metadata": {},
   "outputs": [
    {
     "name": "stdout",
     "output_type": "stream",
     "text": [
      "Learning Generative AI\n",
      "Artificial Intelligence\n"
     ]
    }
   ],
   "source": [
    "def piaic() -> None: # Default Function\n",
    "\n",
    "    print(\"Learning Generative AI\");\n",
    "\n",
    "    print(\"Artificial Intelligence\");\n",
    "\n",
    "piaic();"
   ]
  },
  {
   "cell_type": "code",
   "execution_count": 7,
   "metadata": {},
   "outputs": [
    {
     "name": "stdout",
     "output_type": "stream",
     "text": [
      "27\n"
     ]
    }
   ],
   "source": [
    "def addNumbers(num1: int , num2: int) -> int:\n",
    "\n",
    "    return num1 + num2;\n",
    "\n",
    "print(addNumbers(7,20));"
   ]
  },
  {
   "cell_type": "code",
   "execution_count": 10,
   "metadata": {},
   "outputs": [
    {
     "name": "stdout",
     "output_type": "stream",
     "text": [
      "98\n",
      "4\n"
     ]
    }
   ],
   "source": [
    "def addNumbers(num1: int , num2: int = 0) -> int:\n",
    "\n",
    "    print(num1 + num2);\n",
    "\n",
    "    return num1 + num2;\n",
    "\n",
    "addNumbers(56,42);\n",
    "\n",
    "addNumbers(4);"
   ]
  },
  {
   "cell_type": "markdown",
   "metadata": {},
   "source": [
    "# **Lambda Function**"
   ]
  },
  {
   "cell_type": "code",
   "execution_count": 11,
   "metadata": {},
   "outputs": [
    {
     "name": "stdout",
     "output_type": "stream",
     "text": [
      "32\n"
     ]
    }
   ],
   "source": [
    "num = lambda num1, num2 : num1 + num2;\n",
    "\n",
    "print(num(12, 20));"
   ]
  },
  {
   "cell_type": "code",
   "execution_count": 19,
   "metadata": {},
   "outputs": [
    {
     "name": "stdout",
     "output_type": "stream",
     "text": [
      "30\n"
     ]
    }
   ],
   "source": [
    "from typing import Callable;\n",
    "\n",
    "add: Callable[[int, int], int] = lambda x, y: x + y;\n",
    "\n",
    "result = add(10, 20);\n",
    "\n",
    "print(result);"
   ]
  },
  {
   "cell_type": "code",
   "execution_count": 14,
   "metadata": {},
   "outputs": [
    {
     "name": "stdout",
     "output_type": "stream",
     "text": [
      "[1, 4, 9, 16, 25, 36, 49, 64, 81, 100]\n"
     ]
    }
   ],
   "source": [
    "from typing import List;\n",
    "\n",
    "data : List[int] = [1,2,3,4,5,6,7,8,9,10];\n",
    "\n",
    "data = list(map(lambda x: x ** 2, data));\n",
    "\n",
    "print(data);"
   ]
  },
  {
   "cell_type": "code",
   "execution_count": 17,
   "metadata": {},
   "outputs": [
    {
     "name": "stdout",
     "output_type": "stream",
     "text": [
      "[2, 4, 6, 8, 10]\n"
     ]
    }
   ],
   "source": [
    "data : List[int] = [1,2,3,4,5,6,7,8,9,10];\n",
    "\n",
    "data = list(filter(lambda x: x % 2 == 0, data));\n",
    "\n",
    "print(data);"
   ]
  },
  {
   "cell_type": "code",
   "execution_count": 18,
   "metadata": {},
   "outputs": [
    {
     "name": "stdout",
     "output_type": "stream",
     "text": [
      "[1, 3, 5, 7, 9]\n"
     ]
    }
   ],
   "source": [
    "data : List[int] = [1,2,3,4,5,6,7,8,9,10];\n",
    "\n",
    "data = list(filter(lambda x: x % 2, data));\n",
    "\n",
    "print(data);"
   ]
  },
  {
   "cell_type": "code",
   "execution_count": 2,
   "metadata": {},
   "outputs": [
    {
     "name": "stdout",
     "output_type": "stream",
     "text": [
      "<generator object myRange at 0x0000012392ADB4C0>\n",
      "[1, 2, 3, 4, 5, 6, 7, 8, 9, 10]\n"
     ]
    }
   ],
   "source": [
    "def myRange(start: int , end: int,step: int = 1): # Generator Function\n",
    "\n",
    "    for i in range(start, end + 1, step):\n",
    "\n",
    "        yield i; # Identity\n",
    "\n",
    "fun = myRange(1,10);\n",
    "\n",
    "print(fun);\n",
    "\n",
    "print(list(fun));"
   ]
  },
  {
   "cell_type": "code",
   "execution_count": 7,
   "metadata": {},
   "outputs": [
    {
     "name": "stdout",
     "output_type": "stream",
     "text": [
      "<generator object myRange at 0x0000012392A72E30>\n",
      "1\n",
      "2\n",
      "3\n",
      "Imran Khan\n",
      "4\n"
     ]
    }
   ],
   "source": [
    "fun = myRange(1,10);\n",
    "\n",
    "print(fun);\n",
    "\n",
    "print(next(fun)); # Next Perform Single Iteration Code By Code\n",
    "\n",
    "print(next(fun));\n",
    "\n",
    "print(next(fun));\n",
    "\n",
    "print(\"Imran Khan\");\n",
    "\n",
    "print(next(fun));"
   ]
  },
  {
   "cell_type": "code",
   "execution_count": 9,
   "metadata": {},
   "outputs": [],
   "source": [
    "from collections.abc import Iterator;\n",
    "\n",
    "def myRange(start: int , end: int,step: int = 1) -> Iterator[int]:\n",
    "\n",
    "    for i in range(start, end + 1, step):\n",
    "\n",
    "        yield i;\n",
    "\n"
   ]
  }
 ],
 "metadata": {
  "kernelspec": {
   "display_name": "base",
   "language": "python",
   "name": "python3"
  },
  "language_info": {
   "codemirror_mode": {
    "name": "ipython",
    "version": 3
   },
   "file_extension": ".py",
   "mimetype": "text/x-python",
   "name": "python",
   "nbconvert_exporter": "python",
   "pygments_lexer": "ipython3",
   "version": "3.11.5"
  }
 },
 "nbformat": 4,
 "nbformat_minor": 2
}
