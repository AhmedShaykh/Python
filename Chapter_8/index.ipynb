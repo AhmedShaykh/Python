{
  "cells": [
    {
      "cell_type": "markdown",
      "metadata": {
        "id": "IdHw0v7CF5vd"
      },
      "source": [
        "# **Function**"
      ]
    },
    {
      "cell_type": "code",
      "execution_count": 29,
      "metadata": {
        "colab": {
          "base_uri": "https://localhost:8080/"
        },
        "id": "x0m3s_WOF5vh",
        "outputId": "01ee16ab-f82b-4564-9407-bebb6fb34900"
      },
      "outputs": [
        {
          "output_type": "stream",
          "name": "stdout",
          "text": [
            "Netherlands\n",
            "None\n"
          ]
        }
      ],
      "source": [
        "a : str = print(\"Netherlands\"); # Print Is Non Return Function\n",
        "\n",
        "print(a);"
      ]
    },
    {
      "cell_type": "code",
      "execution_count": 30,
      "metadata": {
        "colab": {
          "base_uri": "https://localhost:8080/"
        },
        "id": "dOVgyK25F5vm",
        "outputId": "fcd7d64f-3645-466b-a11d-53e986fbacdc"
      },
      "outputs": [
        {
          "output_type": "stream",
          "name": "stdout",
          "text": [
            "8\n"
          ]
        }
      ],
      "source": [
        "a : int = len(\"Pakistan\"); # Length Is Return Function\n",
        "\n",
        "print(a);"
      ]
    },
    {
      "cell_type": "code",
      "execution_count": 31,
      "metadata": {
        "colab": {
          "base_uri": "https://localhost:8080/"
        },
        "id": "xHikKqXmF5vn",
        "outputId": "4c191544-3bc6-4ed4-a74b-be70aa90cbc7"
      },
      "outputs": [
        {
          "output_type": "stream",
          "name": "stdout",
          "text": [
            "Learning Generative AI\n",
            "Artificial Intelligence\n"
          ]
        }
      ],
      "source": [
        "def piaic() -> None: # Default Function\n",
        "\n",
        "    print(\"Learning Generative AI\");\n",
        "\n",
        "    print(\"Artificial Intelligence\");\n",
        "\n",
        "piaic();"
      ]
    },
    {
      "cell_type": "code",
      "execution_count": 32,
      "metadata": {
        "colab": {
          "base_uri": "https://localhost:8080/"
        },
        "id": "QofwwBkbF5vp",
        "outputId": "0f222413-2711-4cd9-addd-293063f0819b"
      },
      "outputs": [
        {
          "output_type": "stream",
          "name": "stdout",
          "text": [
            "27\n"
          ]
        }
      ],
      "source": [
        "def addNumbers(num1: int , num2: int) -> int:\n",
        "\n",
        "    return num1 + num2;\n",
        "\n",
        "print(addNumbers(7,20));"
      ]
    },
    {
      "cell_type": "code",
      "execution_count": 33,
      "metadata": {
        "colab": {
          "base_uri": "https://localhost:8080/"
        },
        "id": "7GD8btDSF5vr",
        "outputId": "b8d335e3-1c66-4668-81c6-c3b403ba5038"
      },
      "outputs": [
        {
          "output_type": "stream",
          "name": "stdout",
          "text": [
            "98\n",
            "4\n"
          ]
        }
      ],
      "source": [
        "def addNumbers(num1: int , num2: int = 0) -> int:\n",
        "\n",
        "    print(num1 + num2);\n",
        "\n",
        "    return num1 + num2;\n",
        "\n",
        "addNumbers(56,42);\n",
        "\n",
        "addNumbers(4);"
      ]
    },
    {
      "cell_type": "markdown",
      "metadata": {
        "id": "wItRcJKSF5vu"
      },
      "source": [
        "# **Lambda Function**"
      ]
    },
    {
      "cell_type": "code",
      "execution_count": 34,
      "metadata": {
        "colab": {
          "base_uri": "https://localhost:8080/"
        },
        "id": "ztKKZaP1F5vv",
        "outputId": "05a594e8-1abd-4432-abd5-5ac06d07b41a"
      },
      "outputs": [
        {
          "output_type": "stream",
          "name": "stdout",
          "text": [
            "32\n"
          ]
        }
      ],
      "source": [
        "num = lambda num1, num2 : num1 + num2;\n",
        "\n",
        "print(num(12, 20));"
      ]
    },
    {
      "cell_type": "code",
      "execution_count": 35,
      "metadata": {
        "colab": {
          "base_uri": "https://localhost:8080/"
        },
        "id": "0tU6t2tnF5vx",
        "outputId": "705ddff1-6a46-4876-ff17-695eb602e5a7"
      },
      "outputs": [
        {
          "output_type": "stream",
          "name": "stdout",
          "text": [
            "30\n"
          ]
        }
      ],
      "source": [
        "from typing import Callable;\n",
        "\n",
        "add: Callable[[int, int], int] = lambda x, y: x + y;\n",
        "\n",
        "result = add(10, 20);\n",
        "\n",
        "print(result);"
      ]
    },
    {
      "cell_type": "code",
      "execution_count": 36,
      "metadata": {
        "colab": {
          "base_uri": "https://localhost:8080/"
        },
        "id": "rC5_Rz-pF5vy",
        "outputId": "964e70a8-e381-4af3-f465-2cb085c95a3a"
      },
      "outputs": [
        {
          "output_type": "stream",
          "name": "stdout",
          "text": [
            "[1, 4, 9, 16, 25, 36, 49, 64, 81, 100]\n"
          ]
        }
      ],
      "source": [
        "from typing import List;\n",
        "\n",
        "data: List[int] = [1,2,3,4,5,6,7,8,9,10];\n",
        "\n",
        "dataMap = list(map(lambda x: x ** 2, data));\n",
        "\n",
        "print(dataMap);"
      ]
    },
    {
      "cell_type": "code",
      "execution_count": 37,
      "metadata": {
        "colab": {
          "base_uri": "https://localhost:8080/"
        },
        "id": "mGhhrlznF5v0",
        "outputId": "aa2fec8a-a94a-4027-cb5d-06b210079aa0"
      },
      "outputs": [
        {
          "output_type": "stream",
          "name": "stdout",
          "text": [
            "[2, 4, 6, 8, 10]\n"
          ]
        }
      ],
      "source": [
        "data: List[int] = [1,2,3,4,5,6,7,8,9,10];\n",
        "\n",
        "dataFil = list(filter(lambda x: x % 2 == 0, data));\n",
        "\n",
        "print(dataFil);"
      ]
    },
    {
      "cell_type": "code",
      "execution_count": 38,
      "metadata": {
        "colab": {
          "base_uri": "https://localhost:8080/"
        },
        "id": "iRZw74TDF5v2",
        "outputId": "7a3192dd-3c64-4f36-8837-c68095e58a68"
      },
      "outputs": [
        {
          "output_type": "stream",
          "name": "stdout",
          "text": [
            "[1, 3, 5, 7, 9]\n"
          ]
        }
      ],
      "source": [
        "data: List[int] = [1,2,3,4,5,6,7,8,9,10];\n",
        "\n",
        "dataFil = list(filter(lambda x: x % 2, data));\n",
        "\n",
        "print(dataFil);"
      ]
    },
    {
      "cell_type": "code",
      "execution_count": 39,
      "metadata": {
        "colab": {
          "base_uri": "https://localhost:8080/"
        },
        "id": "x1z-041oF5v3",
        "outputId": "b6d4ccca-0a4e-4aff-ee34-de2185e38d38"
      },
      "outputs": [
        {
          "output_type": "execute_result",
          "data": {
            "text/plain": [
              "[2,\n",
              " 4,\n",
              " 6,\n",
              " 8,\n",
              " 10,\n",
              " 12,\n",
              " 14,\n",
              " 16,\n",
              " 18,\n",
              " 20,\n",
              " 22,\n",
              " 24,\n",
              " 26,\n",
              " 28,\n",
              " 30,\n",
              " 32,\n",
              " 34,\n",
              " 36,\n",
              " 38,\n",
              " 40,\n",
              " 42,\n",
              " 44,\n",
              " 46,\n",
              " 48,\n",
              " 50,\n",
              " 52,\n",
              " 54,\n",
              " 56,\n",
              " 58,\n",
              " 60,\n",
              " 62,\n",
              " 64,\n",
              " 66,\n",
              " 68,\n",
              " 70,\n",
              " 72,\n",
              " 74,\n",
              " 76,\n",
              " 78,\n",
              " 80,\n",
              " 82,\n",
              " 84,\n",
              " 86,\n",
              " 88,\n",
              " 90,\n",
              " 92,\n",
              " 94,\n",
              " 96,\n",
              " 98,\n",
              " 100]"
            ]
          },
          "metadata": {},
          "execution_count": 39
        }
      ],
      "source": [
        "data: List[int] = list(filter(lambda x: x % 2 == 0, range(1,101)));\n",
        "\n",
        "data"
      ]
    },
    {
      "cell_type": "code",
      "execution_count": 40,
      "metadata": {
        "colab": {
          "base_uri": "https://localhost:8080/"
        },
        "id": "a4xnqRHoF5v4",
        "outputId": "0cea3d1b-1898-4c12-d49f-3e83504c275e"
      },
      "outputs": [
        {
          "output_type": "stream",
          "name": "stdout",
          "text": [
            "2\n",
            "4\n",
            "[6, 8, 10, 12, 14, 16, 18, 20, 22, 24, 26, 28, 30, 32, 34, 36, 38, 40, 42, 44, 46, 48, 50, 52, 54, 56, 58, 60, 62, 64, 66, 68, 70, 72, 74, 76, 78, 80, 82, 84, 86, 88, 90, 92, 94, 96, 98, 100]\n"
          ]
        }
      ],
      "source": [
        "data: List[int] = filter(lambda x: x % 2 == 0, range(1,101));\n",
        "\n",
        "print(next(data)); # Next Perform Single Iteration Line By Line\n",
        "\n",
        "print(next(data));\n",
        "\n",
        "print(list(data));"
      ]
    },
    {
      "cell_type": "markdown",
      "metadata": {
        "id": "bwKNOs_yF5v5"
      },
      "source": [
        "# **Generator Function**"
      ]
    },
    {
      "cell_type": "code",
      "execution_count": 41,
      "metadata": {
        "colab": {
          "base_uri": "https://localhost:8080/"
        },
        "id": "2yxR5kUXF5v6",
        "outputId": "61fec3ec-dd6b-486c-f7fd-54b2c7fb3104"
      },
      "outputs": [
        {
          "output_type": "stream",
          "name": "stdout",
          "text": [
            "<generator object myRange at 0x7f65ec530d60>\n",
            "[1, 2, 3, 4, 5, 6, 7, 8, 9, 10]\n"
          ]
        }
      ],
      "source": [
        "def myRange(start: int, end: int, step: int = 1):\n",
        "\n",
        "    for i in range(start, end + 1, step):\n",
        "\n",
        "        yield i; # Return Generator\n",
        "\n",
        "fun = myRange(1,10);\n",
        "\n",
        "print(fun);\n",
        "\n",
        "print(list(fun));"
      ]
    },
    {
      "cell_type": "code",
      "execution_count": 42,
      "metadata": {
        "colab": {
          "base_uri": "https://localhost:8080/"
        },
        "id": "rDS14CBaF5v6",
        "outputId": "2fb35c9b-3275-4d91-f942-10d19d1c6a2d"
      },
      "outputs": [
        {
          "output_type": "stream",
          "name": "stdout",
          "text": [
            "<generator object myRange at 0x7f65ec530b80>\n",
            "1\n",
            "2\n",
            "3\n",
            "Imran Khan\n",
            "4\n"
          ]
        }
      ],
      "source": [
        "fun = myRange(1,10);\n",
        "\n",
        "print(fun);\n",
        "\n",
        "print(next(fun));\n",
        "\n",
        "print(next(fun));\n",
        "\n",
        "print(next(fun));\n",
        "\n",
        "print(\"Imran Khan\");\n",
        "\n",
        "print(next(fun));"
      ]
    },
    {
      "cell_type": "code",
      "execution_count": 43,
      "metadata": {
        "colab": {
          "base_uri": "https://localhost:8080/"
        },
        "id": "hQLwODWyF5v9",
        "outputId": "e0fa6eee-35de-40eb-8912-c28dfc37ec13"
      },
      "outputs": [
        {
          "output_type": "stream",
          "name": "stdout",
          "text": [
            "1\n",
            "2\n",
            "[3, 4, 5, 6, 7, 8, 9, 10]\n",
            "<class 'generator'>\n"
          ]
        }
      ],
      "source": [
        "from collections.abc import Iterator;\n",
        "\n",
        "def myRange(start: int , end: int, step: int = 1) -> Iterator[int]:\n",
        "\n",
        "    for i in range(start, end + 1, step):\n",
        "\n",
        "        yield i;\n",
        "\n",
        "fun = myRange(1,10);\n",
        "\n",
        "print(next(fun));\n",
        "\n",
        "print(next(fun));\n",
        "\n",
        "print(list(fun));\n",
        "\n",
        "print(type(fun));"
      ]
    },
    {
      "cell_type": "code",
      "execution_count": 44,
      "metadata": {
        "colab": {
          "base_uri": "https://localhost:8080/"
        },
        "id": "X3dUSeyIF5v_",
        "outputId": "c630a2e2-f3f7-44fd-ac34-04753d6a1c51"
      },
      "outputs": [
        {
          "output_type": "stream",
          "name": "stdout",
          "text": [
            "1\n",
            "2\n",
            "[3, 4, 5, 6, 7, 8, 9, 10]\n"
          ]
        }
      ],
      "source": [
        "from collections.abc import Iterator;\n",
        "\n",
        "def myRange(start: int , end: int, step: int = 1) -> Iterator[int]:\n",
        "\n",
        "    for i in range(start, end + 1, step):\n",
        "\n",
        "        yield i;\n",
        "\n",
        "fun = myRange(1,10);\n",
        "\n",
        "print(next(fun));\n",
        "\n",
        "print(next(fun));\n",
        "\n",
        "print(list(fun));\n",
        "\n",
        "for i in fun:\n",
        "\n",
        "    print(i);"
      ]
    },
    {
      "cell_type": "code",
      "execution_count": 45,
      "metadata": {
        "colab": {
          "base_uri": "https://localhost:8080/"
        },
        "id": "jK5UGRWjF5wA",
        "outputId": "3ac31d2e-f302-4d36-9f8a-6ec30bbfbe07"
      },
      "outputs": [
        {
          "output_type": "execute_result",
          "data": {
            "text/plain": [
              "['__class__',\n",
              " '__del__',\n",
              " '__delattr__',\n",
              " '__dir__',\n",
              " '__doc__',\n",
              " '__eq__',\n",
              " '__format__',\n",
              " '__ge__',\n",
              " '__getattribute__',\n",
              " '__getstate__',\n",
              " '__gt__',\n",
              " '__hash__',\n",
              " '__init__',\n",
              " '__init_subclass__',\n",
              " '__iter__',\n",
              " '__le__',\n",
              " '__lt__',\n",
              " '__name__',\n",
              " '__ne__',\n",
              " '__new__',\n",
              " '__next__',\n",
              " '__qualname__',\n",
              " '__reduce__',\n",
              " '__reduce_ex__',\n",
              " '__repr__',\n",
              " '__setattr__',\n",
              " '__sizeof__',\n",
              " '__str__',\n",
              " '__subclasshook__',\n",
              " 'close',\n",
              " 'gi_code',\n",
              " 'gi_frame',\n",
              " 'gi_running',\n",
              " 'gi_suspended',\n",
              " 'gi_yieldfrom',\n",
              " 'send',\n",
              " 'throw']"
            ]
          },
          "metadata": {},
          "execution_count": 45
        }
      ],
      "source": [
        "dir(fun)"
      ]
    },
    {
      "cell_type": "code",
      "execution_count": 46,
      "metadata": {
        "colab": {
          "base_uri": "https://localhost:8080/"
        },
        "id": "lc0bHQSUF5wB",
        "outputId": "ff490dcf-0c49-4c13-87f5-5d0b6fce57aa"
      },
      "outputs": [
        {
          "output_type": "execute_result",
          "data": {
            "text/plain": [
              "['close',\n",
              " 'gi_code',\n",
              " 'gi_frame',\n",
              " 'gi_running',\n",
              " 'gi_suspended',\n",
              " 'gi_yieldfrom',\n",
              " 'send',\n",
              " 'throw']"
            ]
          },
          "metadata": {},
          "execution_count": 46
        }
      ],
      "source": [
        "[i for i in dir(fun) if \"__\" not in i]"
      ]
    },
    {
      "cell_type": "code",
      "execution_count": 47,
      "metadata": {
        "colab": {
          "base_uri": "https://localhost:8080/"
        },
        "id": "3k_ARrTEF5wC",
        "outputId": "c3e886f5-e767-4483-de6a-96f6a64167bb"
      },
      "outputs": [
        {
          "output_type": "stream",
          "name": "stdout",
          "text": [
            "(1, 2, 3, 3, 5, 6) <class 'tuple'>\n",
            "20\n"
          ]
        }
      ],
      "source": [
        "def add(*nums):\n",
        "\n",
        "    print(nums, type(nums));\n",
        "\n",
        "    total = 0;\n",
        "\n",
        "    for n in nums:\n",
        "\n",
        "        total += n;\n",
        "\n",
        "    return total;\n",
        "\n",
        "print(add(1,2,3,3,5,6));"
      ]
    },
    {
      "cell_type": "code",
      "execution_count": 48,
      "metadata": {
        "colab": {
          "base_uri": "https://localhost:8080/"
        },
        "id": "kLF6ckIaF5wD",
        "outputId": "6871f3ba-c5fd-4b0b-c4d2-58178c395c6b"
      },
      "outputs": [
        {
          "output_type": "stream",
          "name": "stdout",
          "text": [
            "Hello Martin\n",
            "Hello Sam\n",
            "Hello Steve\n",
            "Hello Robert\n",
            "Hello Sabrina\n",
            "Hello Andrew\n"
          ]
        }
      ],
      "source": [
        "from typing import Tuple;\n",
        "\n",
        "def greet(*names: Tuple[str, ...]) -> None:\n",
        "\n",
        "    for name in names:\n",
        "\n",
        "        print(\"Hello\", name);\n",
        "\n",
        "greet(\"Martin\", \"Sam\", \"Steve\", \"Robert\", \"Sabrina\", \"Andrew\");"
      ]
    },
    {
      "cell_type": "code",
      "execution_count": 49,
      "metadata": {
        "colab": {
          "base_uri": "https://localhost:8080/"
        },
        "id": "mbhiLsekF5wD",
        "outputId": "35a9d3f8-94c8-4a63-84da-001ac2ab9652"
      },
      "outputs": [
        {
          "output_type": "stream",
          "name": "stdout",
          "text": [
            "{'c': 'Pakistan', 'a': 'China', 'b': 'Russia'}\n"
          ]
        }
      ],
      "source": [
        "from typing import Dict;\n",
        "\n",
        "def greet(**xyz: Dict[str,str]) -> None:\n",
        "\n",
        "    print(xyz);\n",
        "\n",
        "greet(c = \"Pakistan\", a = \"China\", b = \"Russia\");"
      ]
    },
    {
      "cell_type": "code",
      "execution_count": 50,
      "metadata": {
        "colab": {
          "base_uri": "https://localhost:8080/"
        },
        "id": "y2e8c_GIF5wE",
        "outputId": "9bbfef91-f520-4ab7-d0d7-662a1eb1167c"
      },
      "outputs": [
        {
          "output_type": "stream",
          "name": "stdout",
          "text": [
            "{'a': 7, 'b': 20, 'c': 30, 'x': 1, 'y': 2, 'name': 'AHM X'} <class 'dict'>\n"
          ]
        }
      ],
      "source": [
        "def xyz(**args):\n",
        "\n",
        "    print(args, type(args));\n",
        "\n",
        "xyz(a = 7, b = 20, c = 30, x = 1, y = 2, name = \"AHM X\");"
      ]
    },
    {
      "cell_type": "code",
      "execution_count": 51,
      "metadata": {
        "colab": {
          "base_uri": "https://localhost:8080/"
        },
        "id": "dKIVJh59F5wF",
        "outputId": "e6fc2411-a7b1-4efa-8d4a-137d6cb07e20"
      },
      "outputs": [
        {
          "output_type": "stream",
          "name": "stdout",
          "text": [
            "1 2 (7, 9, 9, 9) {'c': 20, 'd': 30, 'x': 100}\n"
          ]
        }
      ],
      "source": [
        "def myfunc(a: int, b: int, *abc: Tuple[int, ...], **xyz:Dict[str,int]) -> None:\n",
        "\n",
        "    print(a, b, abc, xyz);\n",
        "\n",
        "myfunc(1, 2, 7, 9, 9, 9, c = 20, d = 30, x = 100);"
      ]
    },
    {
      "cell_type": "code",
      "execution_count": 52,
      "metadata": {
        "colab": {
          "base_uri": "https://localhost:8080/"
        },
        "id": "AnCyaFQYF5wF",
        "outputId": "5e8f829b-0f10-4144-cdb5-7e54a9b015e7"
      },
      "outputs": [
        {
          "output_type": "stream",
          "name": "stdout",
          "text": [
            "1 2 (7, 9, 9, 9) {'c': 20, 'd': 30, 'x': 100}\n",
            "<class 'tuple'>\n",
            "<class 'dict'>\n"
          ]
        }
      ],
      "source": [
        "def myfunc(a: int, b: int, *abc: int, **xyz: int) -> None:\n",
        "\n",
        "    print(a, b, abc, xyz);\n",
        "\n",
        "    print(type(abc));\n",
        "\n",
        "    print(type(xyz));\n",
        "\n",
        "myfunc(1, 2, 7, 9, 9, 9, c = 20, d = 30, x = 100);"
      ]
    },
    {
      "cell_type": "markdown",
      "metadata": {
        "id": "HFod_udCF5wF"
      },
      "source": [
        "# **Decorators**"
      ]
    },
    {
      "cell_type": "code",
      "execution_count": 53,
      "metadata": {
        "colab": {
          "base_uri": "https://localhost:8080/"
        },
        "id": "ncGcJzFfF5wG",
        "outputId": "923b3474-f3a6-46f8-d966-5f9f10b816c1"
      },
      "outputs": [
        {
          "output_type": "stream",
          "name": "stdout",
          "text": [
            "Something Is Happening Before The Function Is Called.\n",
            "Hello!\n",
            "Something Is Happening After The Function Is Called.\n"
          ]
        }
      ],
      "source": [
        "from typing import Callable;\n",
        "\n",
        "def myDecorator(func: Callable[[], None]) -> Callable[[], None]:\n",
        "\n",
        "    def wrapper():\n",
        "\n",
        "        print(\"Something Is Happening Before The Function Is Called.\");\n",
        "\n",
        "        func();\n",
        "\n",
        "        print(\"Something Is Happening After The Function Is Called.\");\n",
        "\n",
        "    return wrapper;\n",
        "\n",
        "@myDecorator\n",
        "\n",
        "def sayHello():\n",
        "\n",
        "    print(\"Hello!\");\n",
        "\n",
        "sayHello();"
      ]
    },
    {
      "cell_type": "code",
      "execution_count": 54,
      "metadata": {
        "colab": {
          "base_uri": "https://localhost:8080/"
        },
        "id": "T5_Ae3-nF5wG",
        "outputId": "e5511491-c54d-4774-d679-4072ad3f768e"
      },
      "outputs": [
        {
          "output_type": "stream",
          "name": "stdout",
          "text": [
            "Something Is Happening Before The Function Is Called.\n",
            "100\n",
            "Something Is Happening After The Function Is Called.\n"
          ]
        }
      ],
      "source": [
        "from typing import Callable;\n",
        "\n",
        "def myDecorator(func: Callable[[int], None]) -> Callable[[], None]:\n",
        "\n",
        "    def wrapper(num1: int) -> None:\n",
        "\n",
        "        print(\"Something Is Happening Before The Function Is Called.\");\n",
        "\n",
        "        func(num1);\n",
        "\n",
        "        print(\"Something Is Happening After The Function Is Called.\");\n",
        "\n",
        "    return wrapper;\n",
        "\n",
        "@myDecorator\n",
        "\n",
        "def sayHello(num1: int):\n",
        "\n",
        "    print(num1);\n",
        "\n",
        "sayHello(100);"
      ]
    },
    {
      "cell_type": "markdown",
      "metadata": {
        "id": "4pEvEcxfF5wH"
      },
      "source": [
        "# **Recursive Function**"
      ]
    },
    {
      "cell_type": "code",
      "execution_count": 55,
      "metadata": {
        "colab": {
          "base_uri": "https://localhost:8080/"
        },
        "id": "R6_4mA5OF5wH",
        "outputId": "46a46c80-bdab-4877-fb4d-58d0add30098"
      },
      "outputs": [
        {
          "output_type": "stream",
          "name": "stdout",
          "text": [
            "The Factorial Of 5 Is 120\n"
          ]
        }
      ],
      "source": [
        "def factorial(x: int) -> int:\n",
        "\n",
        "    if x == 1:\n",
        "\n",
        "        return 1;\n",
        "\n",
        "    else:\n",
        "\n",
        "        return (x * factorial(x - 1));\n",
        "\n",
        "num = 5;\n",
        "\n",
        "print(\"The Factorial Of\", num, \"Is\", factorial(num));"
      ]
    },
    {
      "cell_type": "markdown",
      "metadata": {
        "id": "dcPaHQx_F5wJ"
      },
      "source": [
        "# **Closures**"
      ]
    },
    {
      "cell_type": "code",
      "execution_count": 56,
      "metadata": {
        "colab": {
          "base_uri": "https://localhost:8080/"
        },
        "id": "etOXR8MwF5wJ",
        "outputId": "899a78da-cc09-4d29-faca-87edef96f10c"
      },
      "outputs": [
        {
          "output_type": "stream",
          "name": "stdout",
          "text": [
            "15\n"
          ]
        }
      ],
      "source": [
        "from typing import Callable;\n",
        "\n",
        "def outerFunc(x: int) -> Callable[[int], int]:\n",
        "\n",
        "    def innerFunc(y: int) -> int:\n",
        "\n",
        "        return x + y;\n",
        "\n",
        "    return innerFunc;\n",
        "\n",
        "closure = outerFunc(10);\n",
        "\n",
        "print(closure(5));"
      ]
    }
  ],
  "metadata": {
    "kernelspec": {
      "display_name": "base",
      "language": "python",
      "name": "python3"
    },
    "language_info": {
      "codemirror_mode": {
        "name": "ipython",
        "version": 3
      },
      "file_extension": ".py",
      "mimetype": "text/x-python",
      "name": "python",
      "nbconvert_exporter": "python",
      "pygments_lexer": "ipython3",
      "version": "3.12.0"
    },
    "colab": {
      "provenance": []
    }
  },
  "nbformat": 4,
  "nbformat_minor": 0
}