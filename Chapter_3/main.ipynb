{
 "cells": [
  {
   "cell_type": "markdown",
   "metadata": {},
   "source": [
    "# **List**"
   ]
  },
  {
   "cell_type": "code",
   "execution_count": 3,
   "metadata": {},
   "outputs": [
    {
     "name": "stdout",
     "output_type": "stream",
     "text": [
      "['Bilal', 'Mani', 'Yaseen', 'Saqlain', 'Majid']\n",
      "BILAL\n",
      "Yaseen\n"
     ]
    }
   ],
   "source": [
    "from typing import List;\n",
    "\n",
    "beros: List[str] = [\"Bilal\", \"Mani\", \"Yaseen\", \"Saqlain\", \"Majid\"];\n",
    "\n",
    "print(beros);\n",
    "\n",
    "print(beros[0].upper());\n",
    "\n",
    "print(beros[-3]);"
   ]
  },
  {
   "cell_type": "code",
   "execution_count": 9,
   "metadata": {},
   "outputs": [
    {
     "name": "stdout",
     "output_type": "stream",
     "text": [
      "7\n",
      "<class 'list'>\n",
      "<class 'int'>\n"
     ]
    }
   ],
   "source": [
    "from typing import Any;\n",
    "\n",
    "data : List[Any] = [\"Ahmed\", 7, False, 4.4];\n",
    "\n",
    "print(data[-3]);\n",
    "\n",
    "print(type(data));\n",
    "\n",
    "print(type(data[1]));"
   ]
  },
  {
   "cell_type": "markdown",
   "metadata": {},
   "source": [
    "# **Slicing**"
   ]
  },
  {
   "cell_type": "code",
   "execution_count": 18,
   "metadata": {},
   "outputs": [
    {
     "name": "stdout",
     "output_type": "stream",
     "text": [
      "['A', 'B', 'C', 'D', 'E', 'F', 'G', 'H', 'I', 'J', 'K', 'L', 'M', 'N', 'O', 'P', 'Q', 'R', 'S', 'T', 'U', 'V', 'W', 'X', 'Y', 'X', 'Z']\n",
      "<class 'list'>\n"
     ]
    }
   ],
   "source": [
    "abc: list[str] = list(\"ABCDEFGHIJKLMNOPQRSTUVWXYXZ\");\n",
    "\n",
    "print(abc);\n",
    "\n",
    "print(type(abc));"
   ]
  },
  {
   "cell_type": "code",
   "execution_count": 21,
   "metadata": {},
   "outputs": [
    {
     "data": {
      "text/plain": [
       "['A', 'B', 'C', 'D', 'E', 'F', 'G', 'H']"
      ]
     },
     "execution_count": 21,
     "metadata": {},
     "output_type": "execute_result"
    }
   ],
   "source": [
    "list(\"ABCDEFGH\")"
   ]
  },
  {
   "cell_type": "code",
   "execution_count": 23,
   "metadata": {},
   "outputs": [
    {
     "name": "stdout",
     "output_type": "stream",
     "text": [
      "['b', 'c', 'd']\n",
      "['a', 'b', 'c', 'd']\n",
      "['b', 'c', 'd']\n",
      "['a', 'b']\n",
      "['a', 'b']\n",
      "['e', 'd', 'c']\n"
     ]
    }
   ],
   "source": [
    "abc: list[str] = list(\"abcdef\");\n",
    "\n",
    "print(abc[1:4]);\n",
    "\n",
    "print(abc[:4]);\n",
    "\n",
    "print(abc[-5:-2]); # Default Slicing Go From (Left To Right)\n",
    "\n",
    "print(abc[0:2:1]); # Step Value Default 1 Mean Direction (Left To Right)\n",
    "\n",
    "print(abc[0:2:]);\n",
    "\n",
    "print(abc[-2:-5:-1]); # Put Step Value -1 Means Reverse Direction (Right To Left)"
   ]
  },
  {
   "cell_type": "code",
   "execution_count": 22,
   "metadata": {},
   "outputs": [
    {
     "name": "stdout",
     "output_type": "stream",
     "text": [
      "['a', 'c', 'e', 'g', 'i', 'k', 'm', 'o', 'q', 's', 'u', 'w', 'y']\n",
      "['a', 'c', 'e', 'g', 'i', 'k', 'm', 'o', 'q', 's', 'u', 'w', 'y']\n",
      "['a', 'c', 'e', 'g', 'i', 'k', 'm', 'o', 'q', 's', 'u', 'w', 'y']\n",
      "['z', 'y', 'x', 'w', 'v', 'u', 't', 's', 'r', 'q', 'p', 'o', 'n', 'm', 'l', 'k', 'j', 'i', 'h', 'g', 'f', 'e', 'd', 'c', 'b', 'a']\n"
     ]
    }
   ],
   "source": [
    "abc: list[str] = list(\"abcdefghijklmnopqrstuvwxyz\");\n",
    "\n",
    "print(abc[::2]);\n",
    "\n",
    "print(abc[0::2]);\n",
    "\n",
    "print(abc[:26:2]);\n",
    "\n",
    "print(abc[::-1]);"
   ]
  },
  {
   "cell_type": "code",
   "execution_count": 31,
   "metadata": {},
   "outputs": [
    {
     "name": "stdout",
     "output_type": "stream",
     "text": [
      "['B', 'C', 'D', 'E']\n",
      "[]\n",
      "['G', 'F', 'E']\n"
     ]
    }
   ],
   "source": [
    "abc : list[str] = [\"A\", \"B\", \"C\", \"D\", \"E\", \"F\", \"G\", \"H\"];\n",
    "\n",
    "print(abc[1:-3]);\n",
    "\n",
    "print(abc[-2:-5]);\n",
    "\n",
    "print(abc[-2:-5:-1]); # Reminder Put Step Value -1 Means Reverse Direction (Right To Left)"
   ]
  },
  {
   "cell_type": "markdown",
   "metadata": {},
   "source": [
    "# **List Method's**"
   ]
  }
 ],
 "metadata": {
  "kernelspec": {
   "display_name": "py12",
   "language": "python",
   "name": "python3"
  },
  "language_info": {
   "codemirror_mode": {
    "name": "ipython",
    "version": 3
   },
   "file_extension": ".py",
   "mimetype": "text/x-python",
   "name": "python",
   "nbconvert_exporter": "python",
   "pygments_lexer": "ipython3",
   "version": "3.11.5"
  }
 },
 "nbformat": 4,
 "nbformat_minor": 2
}
