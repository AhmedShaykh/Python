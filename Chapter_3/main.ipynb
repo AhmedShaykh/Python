{
 "cells": [
  {
   "cell_type": "markdown",
   "metadata": {},
   "source": [
    "# **List**"
   ]
  },
  {
   "cell_type": "code",
   "execution_count": 32,
   "metadata": {},
   "outputs": [
    {
     "name": "stdout",
     "output_type": "stream",
     "text": [
      "['Bilal', 'Mani', 'Yaseen', 'Saqlain', 'Majid']\n",
      "BILAL\n",
      "Yaseen\n"
     ]
    }
   ],
   "source": [
    "from typing import List;\n",
    "\n",
    "beros: List[str] = [\"Bilal\", \"Mani\", \"Yaseen\", \"Saqlain\", \"Majid\"];\n",
    "\n",
    "print(beros);\n",
    "\n",
    "print(beros[0].upper());\n",
    "\n",
    "print(beros[-3]);"
   ]
  },
  {
   "cell_type": "code",
   "execution_count": 33,
   "metadata": {},
   "outputs": [
    {
     "name": "stdout",
     "output_type": "stream",
     "text": [
      "7\n",
      "<class 'list'>\n",
      "<class 'int'>\n"
     ]
    }
   ],
   "source": [
    "from typing import Any;\n",
    "\n",
    "data : List[Any] = [\"Ahmed\", 7, False, 4.4];\n",
    "\n",
    "print(data[-3]);\n",
    "\n",
    "print(type(data));\n",
    "\n",
    "print(type(data[1]));"
   ]
  },
  {
   "cell_type": "markdown",
   "metadata": {},
   "source": [
    "# **Slicing**"
   ]
  },
  {
   "cell_type": "code",
   "execution_count": 34,
   "metadata": {},
   "outputs": [
    {
     "name": "stdout",
     "output_type": "stream",
     "text": [
      "['A', 'B', 'C', 'D', 'E', 'F', 'G', 'H', 'I', 'J', 'K', 'L', 'M', 'N', 'O', 'P', 'Q', 'R', 'S', 'T', 'U', 'V', 'W', 'X', 'Y', 'X', 'Z']\n",
      "<class 'list'>\n"
     ]
    }
   ],
   "source": [
    "abc: list[str] = list(\"ABCDEFGHIJKLMNOPQRSTUVWXYXZ\");\n",
    "\n",
    "print(abc);\n",
    "\n",
    "print(type(abc));"
   ]
  },
  {
   "cell_type": "code",
   "execution_count": 35,
   "metadata": {},
   "outputs": [
    {
     "data": {
      "text/plain": [
       "['A', 'B', 'C', 'D', 'E', 'F', 'G', 'H']"
      ]
     },
     "execution_count": 35,
     "metadata": {},
     "output_type": "execute_result"
    }
   ],
   "source": [
    "list(\"ABCDEFGH\")"
   ]
  },
  {
   "cell_type": "code",
   "execution_count": 36,
   "metadata": {},
   "outputs": [
    {
     "name": "stdout",
     "output_type": "stream",
     "text": [
      "['b', 'c', 'd']\n",
      "['a', 'b', 'c', 'd']\n",
      "['b', 'c', 'd']\n",
      "['a', 'b']\n",
      "['a', 'b']\n",
      "['e', 'd', 'c']\n"
     ]
    }
   ],
   "source": [
    "abc: list[str] = list(\"abcdef\");\n",
    "\n",
    "print(abc[1:4]);\n",
    "\n",
    "print(abc[:4]);\n",
    "\n",
    "print(abc[-5:-2]); # Default Slicing Go From (Left To Right)\n",
    "\n",
    "print(abc[0:2:1]); # Step Value Default 1 Mean Direction (Left To Right)\n",
    "\n",
    "print(abc[0:2:]);\n",
    "\n",
    "print(abc[-2:-5:-1]); # Put Step Value -1 Means Reverse Direction (Right To Left)"
   ]
  },
  {
   "cell_type": "code",
   "execution_count": 37,
   "metadata": {},
   "outputs": [
    {
     "name": "stdout",
     "output_type": "stream",
     "text": [
      "['a', 'c', 'e', 'g', 'i', 'k', 'm', 'o', 'q', 's', 'u', 'w', 'y']\n",
      "['a', 'c', 'e', 'g', 'i', 'k', 'm', 'o', 'q', 's', 'u', 'w', 'y']\n",
      "['a', 'c', 'e', 'g', 'i', 'k', 'm', 'o', 'q', 's', 'u', 'w', 'y']\n",
      "['z', 'y', 'x', 'w', 'v', 'u', 't', 's', 'r', 'q', 'p', 'o', 'n', 'm', 'l', 'k', 'j', 'i', 'h', 'g', 'f', 'e', 'd', 'c', 'b', 'a']\n"
     ]
    }
   ],
   "source": [
    "abc: list[str] = list(\"abcdefghijklmnopqrstuvwxyz\");\n",
    "\n",
    "print(abc[::2]);\n",
    "\n",
    "print(abc[0::2]);\n",
    "\n",
    "print(abc[:26:2]);\n",
    "\n",
    "print(abc[::-1]);"
   ]
  },
  {
   "cell_type": "code",
   "execution_count": 38,
   "metadata": {},
   "outputs": [
    {
     "name": "stdout",
     "output_type": "stream",
     "text": [
      "['B', 'C', 'D', 'E']\n",
      "[]\n",
      "['G', 'F', 'E']\n"
     ]
    }
   ],
   "source": [
    "abc : list[str] = [\"A\", \"B\", \"C\", \"D\", \"E\", \"F\", \"G\", \"H\"];\n",
    "\n",
    "print(abc[1:-3]);\n",
    "\n",
    "print(abc[-2:-5]);\n",
    "\n",
    "print(abc[-2:-5:-1]); # Reminder Put Step Value -1 Means Reverse Direction (Right To Left)"
   ]
  },
  {
   "cell_type": "markdown",
   "metadata": {},
   "source": [
    "# **List Method's**"
   ]
  },
  {
   "cell_type": "code",
   "execution_count": 39,
   "metadata": {},
   "outputs": [
    {
     "name": "stdout",
     "output_type": "stream",
     "text": [
      "['Revealed', 'Spinnin', 'Armada']\n",
      "['Revealed Recordings', 'Spinnin', 'Armada']\n"
     ]
    }
   ],
   "source": [
    "records: list[str] = [\"Revealed\", \"Spinnin\", \"Armada\"];\n",
    "\n",
    "print(records);\n",
    "\n",
    "records[0] = \"Revealed Recordings\"; # Mutable => Editable\n",
    "\n",
    "print(records);"
   ]
  },
  {
   "cell_type": "code",
   "execution_count": 40,
   "metadata": {},
   "outputs": [
    {
     "name": "stdout",
     "output_type": "stream",
     "text": [
      "['Revealed Recordings', 'Spinnin']\n"
     ]
    }
   ],
   "source": [
    "del records[2] # Delete 2 Index Element\n",
    "\n",
    "print(records);"
   ]
  },
  {
   "cell_type": "code",
   "execution_count": 41,
   "metadata": {},
   "outputs": [
    {
     "name": "stdout",
     "output_type": "stream",
     "text": [
      "Pakistan\n"
     ]
    },
    {
     "data": {
      "text/plain": [
       "None"
      ]
     },
     "metadata": {},
     "output_type": "display_data"
    }
   ],
   "source": [
    "a : str = print(\"Pakistan\"); # Print Is None Return Function\n",
    "\n",
    "display(a);"
   ]
  },
  {
   "cell_type": "code",
   "execution_count": 42,
   "metadata": {},
   "outputs": [
    {
     "name": "stdout",
     "output_type": "stream",
     "text": [
      "<class 'list'>\n",
      "['__add__', '__class__', '__class_getitem__', '__contains__', '__delattr__', '__delitem__', '__dir__', '__doc__', '__eq__', '__format__', '__ge__', '__getattribute__', '__getitem__', '__getstate__', '__gt__', '__hash__', '__iadd__', '__imul__', '__init__', '__init_subclass__', '__iter__', '__le__', '__len__', '__lt__', '__mul__', '__ne__', '__new__', '__reduce__', '__reduce_ex__', '__repr__', '__reversed__', '__rmul__', '__setattr__', '__setitem__', '__sizeof__', '__str__', '__subclasshook__', 'append', 'clear', 'copy', 'count', 'extend', 'index', 'insert', 'pop', 'remove', 'reverse', 'sort']\n"
     ]
    }
   ],
   "source": [
    "print(type(records));\n",
    "\n",
    "print(dir(records)); # Show List All Methods"
   ]
  },
  {
   "cell_type": "code",
   "execution_count": 43,
   "metadata": {},
   "outputs": [
    {
     "data": {
      "text/plain": [
       "['append',\n",
       " 'clear',\n",
       " 'copy',\n",
       " 'count',\n",
       " 'extend',\n",
       " 'index',\n",
       " 'insert',\n",
       " 'pop',\n",
       " 'remove',\n",
       " 'reverse',\n",
       " 'sort']"
      ]
     },
     "execution_count": 43,
     "metadata": {},
     "output_type": "execute_result"
    }
   ],
   "source": [
    "[i for i in dir(records) if \"_\" not in i]"
   ]
  },
  {
   "cell_type": "markdown",
   "metadata": {},
   "source": [
    "# **Help**"
   ]
  },
  {
   "cell_type": "code",
   "execution_count": 44,
   "metadata": {},
   "outputs": [
    {
     "name": "stdout",
     "output_type": "stream",
     "text": [
      "Help on built-in function print in module builtins:\n",
      "\n",
      "print(*args, sep=' ', end='\\n', file=None, flush=False)\n",
      "    Prints the values to a stream, or to sys.stdout by default.\n",
      "    \n",
      "    sep\n",
      "      string inserted between values, default a space.\n",
      "    end\n",
      "      string appended after the last value, default a newline.\n",
      "    file\n",
      "      a file-like object (stream); defaults to the current sys.stdout.\n",
      "    flush\n",
      "      whether to forcibly flush the stream.\n",
      "\n"
     ]
    }
   ],
   "source": [
    "help(print);"
   ]
  },
  {
   "cell_type": "code",
   "execution_count": 45,
   "metadata": {},
   "outputs": [
    {
     "name": "stdout",
     "output_type": "stream",
     "text": [
      "['Revealed', 'Armada', 'STMPD']\n"
     ]
    }
   ],
   "source": [
    "records: list[str] = [\"Revealed\", \"Spinnin\", \"Armada\", \"STMPD\"];\n",
    "\n",
    "del records[1]; # Remove Object From Memory But Not Assign In Variable\n",
    "\n",
    "print(records);"
   ]
  },
  {
   "cell_type": "code",
   "execution_count": 46,
   "metadata": {},
   "outputs": [
    {
     "name": "stdout",
     "output_type": "stream",
     "text": [
      "['Revealed', 'Armada', 'STMPD']\n",
      "['Revealed', 'Armada', 'STMPD', 'Monstercat']\n",
      "['Revealed', 'Spinnin', 'Armada', 'STMPD', 'Monstercat']\n"
     ]
    }
   ],
   "source": [
    "records: list[str] = [\"Revealed\", \"Spinnin\", \"Armada\", \"STMPD\"];\n",
    "\n",
    "record: str = records.pop(1); # Pop Assign In Variable Because It Return A Value\n",
    "\n",
    "print(records);\n",
    "\n",
    "records.append(\"Monstercat\"); # Add Element In Last\n",
    "\n",
    "print(records);\n",
    "\n",
    "records.insert(1, \"Spinnin\"); # Add Element On Particular Index Position\n",
    "\n",
    "print(records);"
   ]
  },
  {
   "cell_type": "code",
   "execution_count": 47,
   "metadata": {},
   "outputs": [
    {
     "name": "stdout",
     "output_type": "stream",
     "text": [
      "[]\n"
     ]
    }
   ],
   "source": [
    "num: list[int] = [1,2,3];\n",
    "\n",
    "num.clear(); # Remove All Element But Object Is Remain\n",
    "\n",
    "print(num);"
   ]
  },
  {
   "cell_type": "code",
   "execution_count": 48,
   "metadata": {},
   "outputs": [
    {
     "name": "stdout",
     "output_type": "stream",
     "text": [
      "['Revealed', 'Spinnin', 'Armada']\n",
      "['Revealed', 'Spinnin', 'Armada']\n",
      "Records: ['Revealed', 'STMPD', 'Armada']\n",
      "Labels: ['Revealed', 'STMPD', 'Armada']\n"
     ]
    }
   ],
   "source": [
    "records: list[str] = [\"Revealed\", \"Spinnin\", \"Armada\"];\n",
    "\n",
    "print(records);\n",
    "\n",
    "labels = records # Shallow Copy\n",
    "\n",
    "print(labels);\n",
    "\n",
    "labels[1] = \"STMPD\";\n",
    "\n",
    "print(\"Records:\", records);\n",
    "\n",
    "print(\"Labels:\", labels);"
   ]
  },
  {
   "cell_type": "code",
   "execution_count": 49,
   "metadata": {},
   "outputs": [
    {
     "name": "stdout",
     "output_type": "stream",
     "text": [
      "['Revealed', 'Spinnin', 'Armada']\n",
      "['Revealed', 'Spinnin', 'Armada']\n",
      "Records: ['Revealed', 'Spinnin', 'Armada']\n",
      "Labels: ['Revealed', 'STMPD', 'Armada']\n"
     ]
    }
   ],
   "source": [
    "records: list[str] = [\"Revealed\", \"Spinnin\", \"Armada\"];\n",
    "\n",
    "print(records);\n",
    "\n",
    "labels = records.copy() # Deep Copy\n",
    "\n",
    "print(labels);\n",
    "\n",
    "labels[1] = \"STMPD\";\n",
    "\n",
    "print(\"Records:\", records);\n",
    "\n",
    "print(\"Labels:\", labels);"
   ]
  },
  {
   "cell_type": "code",
   "execution_count": 50,
   "metadata": {},
   "outputs": [
    {
     "name": "stdout",
     "output_type": "stream",
     "text": [
      "['R', 'e', 'v', 'e', 'a', 'l', 'e', 'd']\n",
      "3\n",
      "1\n"
     ]
    }
   ],
   "source": [
    "record: list[str] = list(\"Revealed\");\n",
    "\n",
    "print(record);\n",
    "\n",
    "print(record.count(\"e\")); # Count Element\n",
    "\n",
    "print(record.count(\"a\")); # Count Element"
   ]
  },
  {
   "cell_type": "code",
   "execution_count": 51,
   "metadata": {},
   "outputs": [
    {
     "name": "stdout",
     "output_type": "stream",
     "text": [
      "['Revealed', 'Spinnin', 'Armada']\n",
      "['Revealed', 'Spinnin', 'Armada', ['STMPD', 'Monstercat']]\n"
     ]
    }
   ],
   "source": [
    "records: list[str] = [\"Revealed\", \"Spinnin\", \"Armada\"];\n",
    "\n",
    "print(records);\n",
    "\n",
    "labels: list[str] = [\"STMPD\", \"Monstercat\"];\n",
    "\n",
    "records.append(labels);\n",
    "\n",
    "print(records);"
   ]
  },
  {
   "cell_type": "code",
   "execution_count": 52,
   "metadata": {},
   "outputs": [
    {
     "name": "stdout",
     "output_type": "stream",
     "text": [
      "['Revealed', 'Spinnin', 'Armada']\n",
      "['Revealed', 'Spinnin', 'Armada', 'STMPD', 'Monstercat']\n"
     ]
    }
   ],
   "source": [
    "records: list[str] = [\"Revealed\", \"Spinnin\", \"Armada\"];\n",
    "\n",
    "print(records);\n",
    "\n",
    "labels: list[str] = [\"STMPD\", \"Monstercat\"];\n",
    "\n",
    "records.extend(labels); # All Lists Combine In One List\n",
    "\n",
    "print(records);"
   ]
  },
  {
   "cell_type": "code",
   "execution_count": 53,
   "metadata": {},
   "outputs": [
    {
     "name": "stdout",
     "output_type": "stream",
     "text": [
      "['Spinnin', 'Armada', 'STMPD', 'Monstercat']\n"
     ]
    }
   ],
   "source": [
    "records.remove(\"Revealed\");\n",
    "\n",
    "print(records);"
   ]
  },
  {
   "cell_type": "code",
   "execution_count": 54,
   "metadata": {},
   "outputs": [
    {
     "data": {
      "text/plain": [
       "4"
      ]
     },
     "execution_count": 54,
     "metadata": {},
     "output_type": "execute_result"
    }
   ],
   "source": [
    "records: list[str] = [\"Revealed\", \"Spinnin\", \"Armada\", \"STMPD\", \"Monstercat\"];\n",
    "\n",
    "records.index(\"Monstercat\")"
   ]
  },
  {
   "cell_type": "code",
   "execution_count": 55,
   "metadata": {},
   "outputs": [
    {
     "data": {
      "text/plain": [
       "5"
      ]
     },
     "execution_count": 55,
     "metadata": {},
     "output_type": "execute_result"
    }
   ],
   "source": [
    "records: list[str] = [\"Revealed\", \"Spinnin\", \"Armada\", \"STMPD\", \"Monstercat\", \"Spinnin\"];\n",
    "\n",
    "records.index(\"Spinnin\", 2)"
   ]
  },
  {
   "cell_type": "code",
   "execution_count": 56,
   "metadata": {},
   "outputs": [
    {
     "name": "stdout",
     "output_type": "stream",
     "text": [
      "['Revealed', 'Spinnin', 'Armada']\n",
      "['Armada', 'Spinnin', 'Revealed']\n"
     ]
    }
   ],
   "source": [
    "records: list[str] = [\"Revealed\", \"Spinnin\", \"Armada\"];\n",
    "\n",
    "print(records);\n",
    "\n",
    "records.reverse();\n",
    "\n",
    "print(records);"
   ]
  },
  {
   "cell_type": "code",
   "execution_count": 57,
   "metadata": {},
   "outputs": [
    {
     "name": "stdout",
     "output_type": "stream",
     "text": [
      "['Revealed', 'Spinnin', 'Armada', 'HEXAGON']\n",
      "['Armada', 'HEXAGON', 'Revealed', 'Spinnin']\n"
     ]
    }
   ],
   "source": [
    "records: list[str] = [\"Revealed\", \"Spinnin\", \"Armada\", \"HEXAGON\"];\n",
    "\n",
    "print(records);\n",
    "\n",
    "records.sort(); # Sort In Ascending Order\n",
    "\n",
    "print(records);"
   ]
  },
  {
   "cell_type": "code",
   "execution_count": 58,
   "metadata": {},
   "outputs": [
    {
     "name": "stdout",
     "output_type": "stream",
     "text": [
      "['Spinnin', 'Revealed', 'HEXAGON', 'Armada']\n",
      "4\n"
     ]
    }
   ],
   "source": [
    "records.sort(reverse=True); # Sort In Descending Order\n",
    "\n",
    "print(records);\n",
    "\n",
    "print(len(records));"
   ]
  },
  {
   "cell_type": "code",
   "execution_count": 59,
   "metadata": {},
   "outputs": [
    {
     "name": "stdout",
     "output_type": "stream",
     "text": [
      "['Revealed', 'STMPD']\n"
     ]
    }
   ],
   "source": [
    "records: list[str] = [\"Revealed\", \"Spinnin\", \"Armada\", \"Monstercat\", \"STMPD\"];\n",
    "\n",
    "del records[1:4];\n",
    "\n",
    "print(records);"
   ]
  }
 ],
 "metadata": {
  "kernelspec": {
   "display_name": "py12",
   "language": "python",
   "name": "python3"
  },
  "language_info": {
   "codemirror_mode": {
    "name": "ipython",
    "version": 3
   },
   "file_extension": ".py",
   "mimetype": "text/x-python",
   "name": "python",
   "nbconvert_exporter": "python",
   "pygments_lexer": "ipython3",
   "version": "3.11.5"
  }
 },
 "nbformat": 4,
 "nbformat_minor": 2
}
