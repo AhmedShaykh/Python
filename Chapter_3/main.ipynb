{
  "cells": [
    {
      "cell_type": "markdown",
      "source": [
        "# **List:**"
      ],
      "metadata": {
        "id": "1G8AXPdDciG7"
      },
      "id": "1G8AXPdDciG7"
    },
    {
      "cell_type": "code",
      "execution_count": 14,
      "id": "3c1cf117",
      "metadata": {
        "id": "3c1cf117",
        "outputId": "18377139-814e-44f2-e847-661eeaf079a8",
        "colab": {
          "base_uri": "https://localhost:8080/"
        }
      },
      "outputs": [
        {
          "output_type": "stream",
          "name": "stdout",
          "text": [
            "['Bilal', 'Mani', 'Yaseen', 'Saqlain', 'Majid']\n",
            "Bilal\n",
            "Yaseen\n",
            "MANI\n"
          ]
        }
      ],
      "source": [
        "from typing import List;\n",
        "\n",
        "beros: List[str] = [\"Bilal\", \"Mani\", \"Yaseen\", \"Saqlain\", \"Majid\"];\n",
        "\n",
        "print(beros);\n",
        "\n",
        "print(beros[0]);\n",
        "print(beros[2]);\n",
        "print(beros[1].upper());"
      ]
    },
    {
      "cell_type": "code",
      "execution_count": 31,
      "id": "35e14b05",
      "metadata": {
        "id": "35e14b05",
        "outputId": "81b4d248-96e0-4f37-a5c1-d43d9972e2be",
        "colab": {
          "base_uri": "https://localhost:8080/"
        }
      },
      "outputs": [
        {
          "output_type": "stream",
          "name": "stdout",
          "text": [
            "['Bilal', 'mani', 'Yaseen', 'Saqlain', 'Majid']\n",
            "Mani Is My Class Follow\n"
          ]
        }
      ],
      "source": [
        "from typing import List;\n",
        "\n",
        "beros: List[str] = [\"Bilal\", \"mani\", \"Yaseen\", \"Saqlain\", \"Majid\"];\n",
        "\n",
        "print(beros);\n",
        "\n",
        "message: str = f\"{beros[1].title()} Is My Class Follow\";\n",
        "\n",
        "print(message);"
      ]
    },
    {
      "cell_type": "code",
      "source": [
        "data = \"\"\"Alice Smith, 2007-08-05, 1, Female\n",
        "Bob Jones, 2007-09-10, 2, Male\n",
        "Charlie Williams, 2007-10-15, 3, Male\n",
        "David Brown, 2007-11-20, 4, Male\n",
        "Emily Taylor, 2007-12-25, 5, Female\n",
        "Frank Johnson, 2008-01-30, 6, Male\n",
        "Grace Miller, 2008-02-29, 7, Female\n",
        "Henry White, 2008-03-31, 8, Male\n",
        "Isabella Jones, 2008-04-30, 9, Female\n",
        "Jacob Brown, 2008-05-31, 10, Male\n",
        "\"\"\";\n",
        "\n",
        "print(data);"
      ],
      "metadata": {
        "colab": {
          "base_uri": "https://localhost:8080/"
        },
        "id": "zpAt-XwMOfB4",
        "outputId": "49afa205-3286-4af6-914f-9c6b8ace1b33"
      },
      "id": "zpAt-XwMOfB4",
      "execution_count": 16,
      "outputs": [
        {
          "output_type": "stream",
          "name": "stdout",
          "text": [
            "Alice Smith, 2007-08-05, 1, Female\n",
            "Bob Jones, 2007-09-10, 2, Male\n",
            "Charlie Williams, 2007-10-15, 3, Male\n",
            "David Brown, 2007-11-20, 4, Male\n",
            "Emily Taylor, 2007-12-25, 5, Female\n",
            "Frank Johnson, 2008-01-30, 6, Male\n",
            "Grace Miller, 2008-02-29, 7, Female\n",
            "Henry White, 2008-03-31, 8, Male\n",
            "Isabella Jones, 2008-04-30, 9, Female\n",
            "Jacob Brown, 2008-05-31, 10, Male\n",
            "\n"
          ]
        }
      ]
    },
    {
      "cell_type": "code",
      "source": [
        "import re; # Regular Expression\n",
        "\n",
        "pattern = \"\"\"Grace Miller, 2008-02-29, 7, Female\n",
        "\"\"\";\n",
        "\n",
        "rows: list[str] = re.findall(pattern, data);\n",
        "\n",
        "rows"
      ],
      "metadata": {
        "colab": {
          "base_uri": "https://localhost:8080/"
        },
        "id": "sEEWMcbIUe5Y",
        "outputId": "e18e1d49-c0b1-4846-87c9-e2101f7de89f"
      },
      "id": "sEEWMcbIUe5Y",
      "execution_count": 17,
      "outputs": [
        {
          "output_type": "execute_result",
          "data": {
            "text/plain": [
              "['Grace Miller, 2008-02-29, 7, Female\\n']"
            ]
          },
          "metadata": {},
          "execution_count": 17
        }
      ]
    },
    {
      "cell_type": "code",
      "source": [
        "import re; # Regular Expression\n",
        "\n",
        "pattern = \"\"\"(Grace Miller), 2008-02-29, 7, (Female)\n",
        "\"\"\";\n",
        "\n",
        "rows: list[str] = re.findall(pattern, data);\n",
        "\n",
        "rows"
      ],
      "metadata": {
        "colab": {
          "base_uri": "https://localhost:8080/"
        },
        "id": "35htgLzSWRpG",
        "outputId": "08ab0aa9-8725-4a47-9c5a-36fced0b896c"
      },
      "id": "35htgLzSWRpG",
      "execution_count": 18,
      "outputs": [
        {
          "output_type": "execute_result",
          "data": {
            "text/plain": [
              "[('Grace Miller', 'Female')]"
            ]
          },
          "metadata": {},
          "execution_count": 18
        }
      ]
    },
    {
      "cell_type": "code",
      "source": [
        "import re; # Regular Expression\n",
        "\n",
        "pattern = \"\"\"(Grace Miller), (\\d{4}-\\d{2}-\\d{2}), 7, (Female)\n",
        "\"\"\";\n",
        "\n",
        "rows: list[str] = re.findall(pattern, data);\n",
        "\n",
        "rows"
      ],
      "metadata": {
        "colab": {
          "base_uri": "https://localhost:8080/"
        },
        "id": "GFxeoSVxXA7P",
        "outputId": "74759bf1-9248-43a6-e502-732739098d81"
      },
      "id": "GFxeoSVxXA7P",
      "execution_count": 19,
      "outputs": [
        {
          "output_type": "execute_result",
          "data": {
            "text/plain": [
              "[('Grace Miller', '2008-02-29', 'Female')]"
            ]
          },
          "metadata": {},
          "execution_count": 19
        }
      ]
    },
    {
      "cell_type": "code",
      "source": [
        "import re; # Regular Expression\n",
        "\n",
        "pattern = \"\"\"Grace Miller, \\d{4}-\\d{2}-\\d{2}, \\d{1}, Female\n",
        "\"\"\";\n",
        "\n",
        "rows: list[str] = re.findall(pattern, data);\n",
        "\n",
        "rows"
      ],
      "metadata": {
        "colab": {
          "base_uri": "https://localhost:8080/"
        },
        "id": "ameIlT41XoEx",
        "outputId": "207c414e-e857-4f6b-e56b-7c3505b9a978"
      },
      "id": "ameIlT41XoEx",
      "execution_count": 20,
      "outputs": [
        {
          "output_type": "execute_result",
          "data": {
            "text/plain": [
              "['Grace Miller, 2008-02-29, 7, Female\\n']"
            ]
          },
          "metadata": {},
          "execution_count": 20
        }
      ]
    },
    {
      "cell_type": "code",
      "source": [
        "import re; # Regular Expression\n",
        "\n",
        "pattern = \"\"\"(.*), (\\d{4}-\\d{2}-\\d{2}), 7, (Female)\n",
        "\"\"\";\n",
        "\n",
        "rows: list[str] = re.findall(pattern, data);\n",
        "\n",
        "rows"
      ],
      "metadata": {
        "colab": {
          "base_uri": "https://localhost:8080/"
        },
        "id": "Gyo31mMRYkww",
        "outputId": "2cda31e2-1614-4b38-89d0-66a8f7cc1b40"
      },
      "id": "Gyo31mMRYkww",
      "execution_count": 21,
      "outputs": [
        {
          "output_type": "execute_result",
          "data": {
            "text/plain": [
              "[('Grace Miller', '2008-02-29', 'Female')]"
            ]
          },
          "metadata": {},
          "execution_count": 21
        }
      ]
    },
    {
      "cell_type": "code",
      "source": [
        "import re; # Regular Expression\n",
        "\n",
        "pattern = \"\"\"(\\d{4}-\\d{2}-\\d{2}), (\\d{1,2}), (Male)\n",
        "\"\"\";\n",
        "\n",
        "rows: list[str] = re.findall(pattern, data);\n",
        "\n",
        "print(len(rows));\n",
        "\n",
        "rows"
      ],
      "metadata": {
        "colab": {
          "base_uri": "https://localhost:8080/"
        },
        "id": "MZZNXkRlwCa4",
        "outputId": "34c74795-9726-4a60-f8b1-ab6c63c93025"
      },
      "id": "MZZNXkRlwCa4",
      "execution_count": 22,
      "outputs": [
        {
          "output_type": "stream",
          "name": "stdout",
          "text": [
            "6\n"
          ]
        },
        {
          "output_type": "execute_result",
          "data": {
            "text/plain": [
              "[('2007-09-10', '2', 'Male'),\n",
              " ('2007-10-15', '3', 'Male'),\n",
              " ('2007-11-20', '4', 'Male'),\n",
              " ('2008-01-30', '6', 'Male'),\n",
              " ('2008-03-31', '8', 'Male'),\n",
              " ('2008-05-31', '10', 'Male')]"
            ]
          },
          "metadata": {},
          "execution_count": 22
        }
      ]
    },
    {
      "cell_type": "code",
      "source": [
        "data = \"\"\"Ahmed, 2007-08-05, 4, AI 786\n",
        "Bilal, 2006-03-06, 1, AI-567\n",
        "Mani, 2004-01-06, 3 ,AI670\n",
        "Usman, 2002-06-09, 10, AI4302\n",
        "Ahsan, 2006-07-12, 1, AI 5678\n",
        "\"\"\";\n",
        "\n",
        "print(data);"
      ],
      "metadata": {
        "colab": {
          "base_uri": "https://localhost:8080/"
        },
        "id": "6cN1cuJ3zwJS",
        "outputId": "1c3d2793-aea5-4b42-b300-60c4d27a8037"
      },
      "id": "6cN1cuJ3zwJS",
      "execution_count": 23,
      "outputs": [
        {
          "output_type": "stream",
          "name": "stdout",
          "text": [
            "Ahmed, 2007-08-05, 4, AI 786\n",
            "Bilal, 2006-03-06, 1, AI-567\n",
            "Mani, 2004-01-06, 3 ,AI670\n",
            "Usman, 2002-06-09, 10, AI4302\n",
            "Ahsan, 2006-07-12, 1, AI 5678\n",
            "\n"
          ]
        }
      ]
    },
    {
      "cell_type": "code",
      "source": [
        "import re; # Regular Expression\n",
        "\n",
        "pattern = \"\"\"(AI-? ?\\d{3,4})\n",
        "\"\"\";\n",
        "\n",
        "rows: list[str] = re.findall(pattern, data);\n",
        "\n",
        "rows"
      ],
      "metadata": {
        "colab": {
          "base_uri": "https://localhost:8080/"
        },
        "id": "eNQvgXJx0d5_",
        "outputId": "6814d0f2-7fe5-4d39-a61a-f21e776b2372"
      },
      "id": "eNQvgXJx0d5_",
      "execution_count": 24,
      "outputs": [
        {
          "output_type": "execute_result",
          "data": {
            "text/plain": [
              "['AI 786', 'AI-567', 'AI670', 'AI4302', 'AI 5678']"
            ]
          },
          "metadata": {},
          "execution_count": 24
        }
      ]
    },
    {
      "cell_type": "code",
      "source": [
        "import re; # Regular Expression\n",
        "\n",
        "pattern = \"\"\"(.*), (\\d{1,2}), (AI-? ?\\d{3,4})\n",
        "\"\"\";\n",
        "\n",
        "rows: list[str] = re.findall(pattern, data);\n",
        "\n",
        "# print(len(rows));\n",
        "\n",
        "rows"
      ],
      "metadata": {
        "colab": {
          "base_uri": "https://localhost:8080/"
        },
        "id": "8ToA3ODC2P7h",
        "outputId": "fcd72229-346e-437e-8ab3-f15f78254525"
      },
      "id": "8ToA3ODC2P7h",
      "execution_count": 25,
      "outputs": [
        {
          "output_type": "execute_result",
          "data": {
            "text/plain": [
              "[('Ahmed, 2007-08-05', '4', 'AI 786'),\n",
              " ('Bilal, 2006-03-06', '1', 'AI-567'),\n",
              " ('Usman, 2002-06-09', '10', 'AI4302'),\n",
              " ('Ahsan, 2006-07-12', '1', 'AI 5678')]"
            ]
          },
          "metadata": {},
          "execution_count": 25
        }
      ]
    },
    {
      "cell_type": "code",
      "source": [
        "import pandas as pd;\n",
        "\n",
        "df = pd.DataFrame(rows, columns = [\"Name\", \"No.\", \"ID\"]);\n",
        "\n",
        "df"
      ],
      "metadata": {
        "colab": {
          "base_uri": "https://localhost:8080/",
          "height": 175
        },
        "id": "hqFI2oCb2N-m",
        "outputId": "3a1f9eec-dc1b-4fd0-e951-412c37e9a988"
      },
      "id": "hqFI2oCb2N-m",
      "execution_count": 26,
      "outputs": [
        {
          "output_type": "execute_result",
          "data": {
            "text/plain": [
              "                Name No.       ID\n",
              "0  Ahmed, 2007-08-05   4   AI 786\n",
              "1  Bilal, 2006-03-06   1   AI-567\n",
              "2  Usman, 2002-06-09  10   AI4302\n",
              "3  Ahsan, 2006-07-12   1  AI 5678"
            ],
            "text/html": [
              "\n",
              "  <div id=\"df-891c0b31-f024-4736-b365-43af68c39640\" class=\"colab-df-container\">\n",
              "    <div>\n",
              "<style scoped>\n",
              "    .dataframe tbody tr th:only-of-type {\n",
              "        vertical-align: middle;\n",
              "    }\n",
              "\n",
              "    .dataframe tbody tr th {\n",
              "        vertical-align: top;\n",
              "    }\n",
              "\n",
              "    .dataframe thead th {\n",
              "        text-align: right;\n",
              "    }\n",
              "</style>\n",
              "<table border=\"1\" class=\"dataframe\">\n",
              "  <thead>\n",
              "    <tr style=\"text-align: right;\">\n",
              "      <th></th>\n",
              "      <th>Name</th>\n",
              "      <th>No.</th>\n",
              "      <th>ID</th>\n",
              "    </tr>\n",
              "  </thead>\n",
              "  <tbody>\n",
              "    <tr>\n",
              "      <th>0</th>\n",
              "      <td>Ahmed, 2007-08-05</td>\n",
              "      <td>4</td>\n",
              "      <td>AI 786</td>\n",
              "    </tr>\n",
              "    <tr>\n",
              "      <th>1</th>\n",
              "      <td>Bilal, 2006-03-06</td>\n",
              "      <td>1</td>\n",
              "      <td>AI-567</td>\n",
              "    </tr>\n",
              "    <tr>\n",
              "      <th>2</th>\n",
              "      <td>Usman, 2002-06-09</td>\n",
              "      <td>10</td>\n",
              "      <td>AI4302</td>\n",
              "    </tr>\n",
              "    <tr>\n",
              "      <th>3</th>\n",
              "      <td>Ahsan, 2006-07-12</td>\n",
              "      <td>1</td>\n",
              "      <td>AI 5678</td>\n",
              "    </tr>\n",
              "  </tbody>\n",
              "</table>\n",
              "</div>\n",
              "    <div class=\"colab-df-buttons\">\n",
              "\n",
              "  <div class=\"colab-df-container\">\n",
              "    <button class=\"colab-df-convert\" onclick=\"convertToInteractive('df-891c0b31-f024-4736-b365-43af68c39640')\"\n",
              "            title=\"Convert this dataframe to an interactive table.\"\n",
              "            style=\"display:none;\">\n",
              "\n",
              "  <svg xmlns=\"http://www.w3.org/2000/svg\" height=\"24px\" viewBox=\"0 -960 960 960\">\n",
              "    <path d=\"M120-120v-720h720v720H120Zm60-500h600v-160H180v160Zm220 220h160v-160H400v160Zm0 220h160v-160H400v160ZM180-400h160v-160H180v160Zm440 0h160v-160H620v160ZM180-180h160v-160H180v160Zm440 0h160v-160H620v160Z\"/>\n",
              "  </svg>\n",
              "    </button>\n",
              "\n",
              "  <style>\n",
              "    .colab-df-container {\n",
              "      display:flex;\n",
              "      gap: 12px;\n",
              "    }\n",
              "\n",
              "    .colab-df-convert {\n",
              "      background-color: #E8F0FE;\n",
              "      border: none;\n",
              "      border-radius: 50%;\n",
              "      cursor: pointer;\n",
              "      display: none;\n",
              "      fill: #1967D2;\n",
              "      height: 32px;\n",
              "      padding: 0 0 0 0;\n",
              "      width: 32px;\n",
              "    }\n",
              "\n",
              "    .colab-df-convert:hover {\n",
              "      background-color: #E2EBFA;\n",
              "      box-shadow: 0px 1px 2px rgba(60, 64, 67, 0.3), 0px 1px 3px 1px rgba(60, 64, 67, 0.15);\n",
              "      fill: #174EA6;\n",
              "    }\n",
              "\n",
              "    .colab-df-buttons div {\n",
              "      margin-bottom: 4px;\n",
              "    }\n",
              "\n",
              "    [theme=dark] .colab-df-convert {\n",
              "      background-color: #3B4455;\n",
              "      fill: #D2E3FC;\n",
              "    }\n",
              "\n",
              "    [theme=dark] .colab-df-convert:hover {\n",
              "      background-color: #434B5C;\n",
              "      box-shadow: 0px 1px 3px 1px rgba(0, 0, 0, 0.15);\n",
              "      filter: drop-shadow(0px 1px 2px rgba(0, 0, 0, 0.3));\n",
              "      fill: #FFFFFF;\n",
              "    }\n",
              "  </style>\n",
              "\n",
              "    <script>\n",
              "      const buttonEl =\n",
              "        document.querySelector('#df-891c0b31-f024-4736-b365-43af68c39640 button.colab-df-convert');\n",
              "      buttonEl.style.display =\n",
              "        google.colab.kernel.accessAllowed ? 'block' : 'none';\n",
              "\n",
              "      async function convertToInteractive(key) {\n",
              "        const element = document.querySelector('#df-891c0b31-f024-4736-b365-43af68c39640');\n",
              "        const dataTable =\n",
              "          await google.colab.kernel.invokeFunction('convertToInteractive',\n",
              "                                                    [key], {});\n",
              "        if (!dataTable) return;\n",
              "\n",
              "        const docLinkHtml = 'Like what you see? Visit the ' +\n",
              "          '<a target=\"_blank\" href=https://colab.research.google.com/notebooks/data_table.ipynb>data table notebook</a>'\n",
              "          + ' to learn more about interactive tables.';\n",
              "        element.innerHTML = '';\n",
              "        dataTable['output_type'] = 'display_data';\n",
              "        await google.colab.output.renderOutput(dataTable, element);\n",
              "        const docLink = document.createElement('div');\n",
              "        docLink.innerHTML = docLinkHtml;\n",
              "        element.appendChild(docLink);\n",
              "      }\n",
              "    </script>\n",
              "  </div>\n",
              "\n",
              "\n",
              "<div id=\"df-1e440f75-2922-4261-89e1-26431daabeff\">\n",
              "  <button class=\"colab-df-quickchart\" onclick=\"quickchart('df-1e440f75-2922-4261-89e1-26431daabeff')\"\n",
              "            title=\"Suggest charts.\"\n",
              "            style=\"display:none;\">\n",
              "\n",
              "<svg xmlns=\"http://www.w3.org/2000/svg\" height=\"24px\"viewBox=\"0 0 24 24\"\n",
              "     width=\"24px\">\n",
              "    <g>\n",
              "        <path d=\"M19 3H5c-1.1 0-2 .9-2 2v14c0 1.1.9 2 2 2h14c1.1 0 2-.9 2-2V5c0-1.1-.9-2-2-2zM9 17H7v-7h2v7zm4 0h-2V7h2v10zm4 0h-2v-4h2v4z\"/>\n",
              "    </g>\n",
              "</svg>\n",
              "  </button>\n",
              "\n",
              "<style>\n",
              "  .colab-df-quickchart {\n",
              "      --bg-color: #E8F0FE;\n",
              "      --fill-color: #1967D2;\n",
              "      --hover-bg-color: #E2EBFA;\n",
              "      --hover-fill-color: #174EA6;\n",
              "      --disabled-fill-color: #AAA;\n",
              "      --disabled-bg-color: #DDD;\n",
              "  }\n",
              "\n",
              "  [theme=dark] .colab-df-quickchart {\n",
              "      --bg-color: #3B4455;\n",
              "      --fill-color: #D2E3FC;\n",
              "      --hover-bg-color: #434B5C;\n",
              "      --hover-fill-color: #FFFFFF;\n",
              "      --disabled-bg-color: #3B4455;\n",
              "      --disabled-fill-color: #666;\n",
              "  }\n",
              "\n",
              "  .colab-df-quickchart {\n",
              "    background-color: var(--bg-color);\n",
              "    border: none;\n",
              "    border-radius: 50%;\n",
              "    cursor: pointer;\n",
              "    display: none;\n",
              "    fill: var(--fill-color);\n",
              "    height: 32px;\n",
              "    padding: 0;\n",
              "    width: 32px;\n",
              "  }\n",
              "\n",
              "  .colab-df-quickchart:hover {\n",
              "    background-color: var(--hover-bg-color);\n",
              "    box-shadow: 0 1px 2px rgba(60, 64, 67, 0.3), 0 1px 3px 1px rgba(60, 64, 67, 0.15);\n",
              "    fill: var(--button-hover-fill-color);\n",
              "  }\n",
              "\n",
              "  .colab-df-quickchart-complete:disabled,\n",
              "  .colab-df-quickchart-complete:disabled:hover {\n",
              "    background-color: var(--disabled-bg-color);\n",
              "    fill: var(--disabled-fill-color);\n",
              "    box-shadow: none;\n",
              "  }\n",
              "\n",
              "  .colab-df-spinner {\n",
              "    border: 2px solid var(--fill-color);\n",
              "    border-color: transparent;\n",
              "    border-bottom-color: var(--fill-color);\n",
              "    animation:\n",
              "      spin 1s steps(1) infinite;\n",
              "  }\n",
              "\n",
              "  @keyframes spin {\n",
              "    0% {\n",
              "      border-color: transparent;\n",
              "      border-bottom-color: var(--fill-color);\n",
              "      border-left-color: var(--fill-color);\n",
              "    }\n",
              "    20% {\n",
              "      border-color: transparent;\n",
              "      border-left-color: var(--fill-color);\n",
              "      border-top-color: var(--fill-color);\n",
              "    }\n",
              "    30% {\n",
              "      border-color: transparent;\n",
              "      border-left-color: var(--fill-color);\n",
              "      border-top-color: var(--fill-color);\n",
              "      border-right-color: var(--fill-color);\n",
              "    }\n",
              "    40% {\n",
              "      border-color: transparent;\n",
              "      border-right-color: var(--fill-color);\n",
              "      border-top-color: var(--fill-color);\n",
              "    }\n",
              "    60% {\n",
              "      border-color: transparent;\n",
              "      border-right-color: var(--fill-color);\n",
              "    }\n",
              "    80% {\n",
              "      border-color: transparent;\n",
              "      border-right-color: var(--fill-color);\n",
              "      border-bottom-color: var(--fill-color);\n",
              "    }\n",
              "    90% {\n",
              "      border-color: transparent;\n",
              "      border-bottom-color: var(--fill-color);\n",
              "    }\n",
              "  }\n",
              "</style>\n",
              "\n",
              "  <script>\n",
              "    async function quickchart(key) {\n",
              "      const quickchartButtonEl =\n",
              "        document.querySelector('#' + key + ' button');\n",
              "      quickchartButtonEl.disabled = true;  // To prevent multiple clicks.\n",
              "      quickchartButtonEl.classList.add('colab-df-spinner');\n",
              "      try {\n",
              "        const charts = await google.colab.kernel.invokeFunction(\n",
              "            'suggestCharts', [key], {});\n",
              "      } catch (error) {\n",
              "        console.error('Error during call to suggestCharts:', error);\n",
              "      }\n",
              "      quickchartButtonEl.classList.remove('colab-df-spinner');\n",
              "      quickchartButtonEl.classList.add('colab-df-quickchart-complete');\n",
              "    }\n",
              "    (() => {\n",
              "      let quickchartButtonEl =\n",
              "        document.querySelector('#df-1e440f75-2922-4261-89e1-26431daabeff button');\n",
              "      quickchartButtonEl.style.display =\n",
              "        google.colab.kernel.accessAllowed ? 'block' : 'none';\n",
              "    })();\n",
              "  </script>\n",
              "</div>\n",
              "    </div>\n",
              "  </div>\n"
            ]
          },
          "metadata": {},
          "execution_count": 26
        }
      ]
    },
    {
      "cell_type": "code",
      "source": [
        "records: list[str] = [\"Revealed\", \"Spinnin\", \"Armada\"];\n",
        "\n",
        "print(type(records));\n",
        "\n",
        "print(type(records[-3]));"
      ],
      "metadata": {
        "colab": {
          "base_uri": "https://localhost:8080/"
        },
        "id": "NW6w3YCKTxL2",
        "outputId": "da20625a-f271-467e-bc7d-4cfa569ee2b1"
      },
      "id": "NW6w3YCKTxL2",
      "execution_count": 27,
      "outputs": [
        {
          "output_type": "stream",
          "name": "stdout",
          "text": [
            "<class 'list'>\n",
            "<class 'str'>\n"
          ]
        }
      ]
    },
    {
      "cell_type": "code",
      "source": [
        "abc: list[str] = list(\"abcdefghijklmnopqrstuvwxyz\");\n",
        "\n",
        "print(abc);"
      ],
      "metadata": {
        "colab": {
          "base_uri": "https://localhost:8080/"
        },
        "id": "6EtD7swzdLzS",
        "outputId": "6c8898f0-351e-4571-c06c-5845e939727d"
      },
      "id": "6EtD7swzdLzS",
      "execution_count": 28,
      "outputs": [
        {
          "output_type": "stream",
          "name": "stdout",
          "text": [
            "['a', 'b', 'c', 'd', 'e', 'f', 'g', 'h', 'i', 'j', 'k', 'l', 'm', 'n', 'o', 'p', 'q', 'r', 's', 't', 'u', 'v', 'w', 'x', 'y', 'z']\n"
          ]
        }
      ]
    },
    {
      "cell_type": "markdown",
      "source": [
        "# **Slicing:**"
      ],
      "metadata": {
        "id": "ur_cZSsScsAO"
      },
      "id": "ur_cZSsScsAO"
    },
    {
      "cell_type": "code",
      "source": [
        "abc: list[str] = list(\"abcdef\");\n",
        "\n",
        "print(abc[1:4]);\n",
        "\n",
        "print(abc[-4:-1]);\n",
        "\n",
        "print(abc[-2:-5]); # Step Value Default 1 Mean Direction (Left To Right)\n",
        "\n",
        "print(abc[-2:-5:-1]); # Put Step Value -1 Means Reverse Direction (Right To Lef)"
      ],
      "metadata": {
        "colab": {
          "base_uri": "https://localhost:8080/"
        },
        "id": "2_Ua6Rxrc1px",
        "outputId": "344ff546-f9a4-4b98-a746-504bb71bf193"
      },
      "id": "2_Ua6Rxrc1px",
      "execution_count": 29,
      "outputs": [
        {
          "output_type": "stream",
          "name": "stdout",
          "text": [
            "['b', 'c', 'd']\n",
            "['c', 'd', 'e']\n",
            "[]\n",
            "['e', 'd', 'c']\n"
          ]
        }
      ]
    },
    {
      "cell_type": "code",
      "source": [
        "abc: list[str] = list(\"abcdefghijklmnopqrstuvwxyz\");\n",
        "\n",
        "print(abc[::2]);\n",
        "\n",
        "print(abc[0::2]);\n",
        "\n",
        "print(abc[:26:2]);"
      ],
      "metadata": {
        "colab": {
          "base_uri": "https://localhost:8080/"
        },
        "id": "ZBqC09QMiul9",
        "outputId": "95d0b19c-bcd4-4f28-d48f-63cbf698f3a4"
      },
      "id": "ZBqC09QMiul9",
      "execution_count": 30,
      "outputs": [
        {
          "output_type": "stream",
          "name": "stdout",
          "text": [
            "['a', 'c', 'e', 'g', 'i', 'k', 'm', 'o', 'q', 's', 'u', 'w', 'y']\n",
            "['a', 'c', 'e', 'g', 'i', 'k', 'm', 'o', 'q', 's', 'u', 'w', 'y']\n",
            "['a', 'c', 'e', 'g', 'i', 'k', 'm', 'o', 'q', 's', 'u', 'w', 'y']\n"
          ]
        }
      ]
    }
  ],
  "metadata": {
    "kernelspec": {
      "display_name": "Python 3 (ipykernel)",
      "language": "python",
      "name": "python3"
    },
    "language_info": {
      "codemirror_mode": {
        "name": "ipython",
        "version": 3
      },
      "file_extension": ".py",
      "mimetype": "text/x-python",
      "name": "python",
      "nbconvert_exporter": "python",
      "pygments_lexer": "ipython3",
      "version": "3.11.5"
    },
    "colab": {
      "provenance": []
    }
  },
  "nbformat": 4,
  "nbformat_minor": 5
}