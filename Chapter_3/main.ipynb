{
 "cells": [
  {
   "cell_type": "code",
   "execution_count": 18,
   "id": "3c1cf117",
   "metadata": {},
   "outputs": [
    {
     "name": "stdout",
     "output_type": "stream",
     "text": [
      "['Bilal', 'Mani', 'Yaseen', 'Saqlain', 'Majid']\n",
      "Bilal\n",
      "Yaseen\n",
      "MANI\n"
     ]
    }
   ],
   "source": [
    "from typing import List;\n",
    "\n",
    "beros: List[str] = [\"Bilal\", \"Mani\", \"Yaseen\", \"Saqlain\", \"Majid\"];\n",
    "\n",
    "print(beros);\n",
    "\n",
    "print(beros[0]);\n",
    "print(beros[2]);\n",
    "print(beros[1].upper());"
   ]
  },
  {
   "cell_type": "code",
   "execution_count": 19,
   "id": "35e14b05",
   "metadata": {},
   "outputs": [
    {
     "name": "stdout",
     "output_type": "stream",
     "text": [
      "['Bilal', 'Mani', 'Yaseen', 'Saqlain', 'Majid']\n",
      "Mani My Class Follow\n"
     ]
    }
   ],
   "source": [
    "from typing import List;\n",
    "\n",
    "beros: List[str] = [\"Bilal\", \"Mani\", \"Yaseen\", \"Saqlain\", \"Majid\"];\n",
    "\n",
    "print(beros);\n",
    "\n",
    "message: str = f\"{beros[1]} My Class Follow\";\n",
    "\n",
    "print(message);"
   ]
  }
 ],
 "metadata": {
  "kernelspec": {
   "display_name": "Python 3 (ipykernel)",
   "language": "python",
   "name": "python3"
  },
  "language_info": {
   "codemirror_mode": {
    "name": "ipython",
    "version": 3
   },
   "file_extension": ".py",
   "mimetype": "text/x-python",
   "name": "python",
   "nbconvert_exporter": "python",
   "pygments_lexer": "ipython3",
   "version": "3.11.5"
  }
 },
 "nbformat": 4,
 "nbformat_minor": 5
}
