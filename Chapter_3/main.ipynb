{
  "cells": [
    {
      "cell_type": "markdown",
      "source": [
        "# **List:**"
      ],
      "metadata": {
        "id": "1G8AXPdDciG7"
      },
      "id": "1G8AXPdDciG7"
    },
    {
      "cell_type": "code",
      "execution_count": null,
      "id": "3c1cf117",
      "metadata": {
        "id": "3c1cf117",
        "outputId": "a0c085e1-3192-40f1-cf47-d143a4ae7b3c",
        "colab": {
          "base_uri": "https://localhost:8080/"
        }
      },
      "outputs": [
        {
          "output_type": "stream",
          "name": "stdout",
          "text": [
            "['Bilal', 'Mani', 'Yaseen', 'Saqlain', 'Majid']\n",
            "Bilal\n",
            "Yaseen\n",
            "MANI\n"
          ]
        }
      ],
      "source": [
        "from typing import List;\n",
        "\n",
        "beros: List[str] = [\"Bilal\", \"Mani\", \"Yaseen\", \"Saqlain\", \"Majid\"];\n",
        "\n",
        "print(beros);\n",
        "\n",
        "print(beros[0]);\n",
        "print(beros[2]);\n",
        "print(beros[1].upper());"
      ]
    },
    {
      "cell_type": "code",
      "execution_count": null,
      "id": "35e14b05",
      "metadata": {
        "id": "35e14b05",
        "outputId": "7a70611a-8099-472b-c88f-7c850bdbcad0",
        "colab": {
          "base_uri": "https://localhost:8080/"
        }
      },
      "outputs": [
        {
          "output_type": "stream",
          "name": "stdout",
          "text": [
            "['Bilal', 'Mani', 'Yaseen', 'Saqlain', 'Majid']\n",
            "Mani My Class Follow\n"
          ]
        }
      ],
      "source": [
        "from typing import List;\n",
        "\n",
        "beros: List[str] = [\"Bilal\", \"Mani\", \"Yaseen\", \"Saqlain\", \"Majid\"];\n",
        "\n",
        "print(beros);\n",
        "\n",
        "message: str = f\"{beros[1]} My Class Follow\";\n",
        "\n",
        "print(message);"
      ]
    },
    {
      "cell_type": "code",
      "source": [
        "data = \"\"\"Alice Smith, 2007-08-05, 1, Female\n",
        "Bob Jones, 2007-09-10, 2, Male\n",
        "Charlie Williams, 2007-10-15, 3, Male\n",
        "David Brown, 2007-11-20, 4, Male\n",
        "Emily Taylor, 2007-12-25, 5, Female\n",
        "Frank Johnson, 2008-01-30, 6, Male\n",
        "Grace Miller, 2008-02-29, 7, Female\n",
        "Henry White, 2008-03-31, 8, Male\n",
        "Isabella Jones, 2008-04-30, 9, Female\n",
        "Jacob Brown, 2008-05-31, 10, Male\n",
        "\"\"\";\n",
        "\n",
        "print(data);"
      ],
      "metadata": {
        "colab": {
          "base_uri": "https://localhost:8080/"
        },
        "id": "zpAt-XwMOfB4",
        "outputId": "922d325f-26f8-419f-8888-a64cefa7496c"
      },
      "id": "zpAt-XwMOfB4",
      "execution_count": null,
      "outputs": [
        {
          "output_type": "stream",
          "name": "stdout",
          "text": [
            "Alice Smith, 2007-08-05, 1, Female\n",
            "Bob Jones, 2007-09-10, 2, Male\n",
            "Charlie Williams, 2007-10-15, 3, Male\n",
            "David Brown, 2007-11-20, 4, Male\n",
            "Emily Taylor, 2007-12-25, 5, Female\n",
            "Frank Johnson, 2008-01-30, 6, Male\n",
            "Grace Miller, 2008-02-29, 7, Female\n",
            "Henry White, 2008-03-31, 8, Male\n",
            "Isabella Jones, 2008-04-30, 9, Female\n",
            "Jacob Brown, 2008-05-31, 10, Male\n",
            "\n"
          ]
        }
      ]
    },
    {
      "cell_type": "code",
      "source": [
        "import re; # Regular Expression\n",
        "\n",
        "pattern = \"\"\"Grace Miller, 2008-02-29, 7, Female\n",
        "\"\"\";\n",
        "\n",
        "rows: list[str] = re.findall(pattern, data);\n",
        "\n",
        "rows"
      ],
      "metadata": {
        "colab": {
          "base_uri": "https://localhost:8080/"
        },
        "id": "sEEWMcbIUe5Y",
        "outputId": "64ee26d5-b687-47b8-a31b-f6afb26e91f8"
      },
      "id": "sEEWMcbIUe5Y",
      "execution_count": null,
      "outputs": [
        {
          "output_type": "execute_result",
          "data": {
            "text/plain": [
              "['Grace Miller, 2008-02-29, 7, Female\\n']"
            ]
          },
          "metadata": {},
          "execution_count": 104
        }
      ]
    },
    {
      "cell_type": "code",
      "source": [
        "import re; # Regular Expression\n",
        "\n",
        "pattern = \"\"\"(Grace Miller), 2008-02-29, 7, (Female)\n",
        "\"\"\";\n",
        "\n",
        "rows: list[str] = re.findall(pattern, data);\n",
        "\n",
        "rows"
      ],
      "metadata": {
        "colab": {
          "base_uri": "https://localhost:8080/"
        },
        "id": "35htgLzSWRpG",
        "outputId": "0e6481bb-50c1-40f6-99b9-2ba1bd7b867e"
      },
      "id": "35htgLzSWRpG",
      "execution_count": null,
      "outputs": [
        {
          "output_type": "execute_result",
          "data": {
            "text/plain": [
              "[('Grace Miller', 'Female')]"
            ]
          },
          "metadata": {},
          "execution_count": 105
        }
      ]
    },
    {
      "cell_type": "code",
      "source": [
        "import re; # Regular Expression\n",
        "\n",
        "pattern = \"\"\"(Grace Miller), (\\d{4}-\\d{2}-\\d{2}), 7, (Female)\n",
        "\"\"\";\n",
        "\n",
        "rows: list[str] = re.findall(pattern, data);\n",
        "\n",
        "rows"
      ],
      "metadata": {
        "colab": {
          "base_uri": "https://localhost:8080/"
        },
        "id": "GFxeoSVxXA7P",
        "outputId": "5836ec81-27ca-407a-d9a9-0eb05a46cedf"
      },
      "id": "GFxeoSVxXA7P",
      "execution_count": null,
      "outputs": [
        {
          "output_type": "execute_result",
          "data": {
            "text/plain": [
              "[('Grace Miller', '2008-02-29', 'Female')]"
            ]
          },
          "metadata": {},
          "execution_count": 106
        }
      ]
    },
    {
      "cell_type": "code",
      "source": [
        "import re; # Regular Expression\n",
        "\n",
        "pattern = \"\"\"Grace Miller, \\d{4}-\\d{2}-\\d{2}, \\d{1}, Female\n",
        "\"\"\";\n",
        "\n",
        "rows: list[str] = re.findall(pattern, data);\n",
        "\n",
        "rows"
      ],
      "metadata": {
        "colab": {
          "base_uri": "https://localhost:8080/"
        },
        "id": "ameIlT41XoEx",
        "outputId": "e123b54d-be1a-491a-dad3-3e389196caf5"
      },
      "id": "ameIlT41XoEx",
      "execution_count": null,
      "outputs": [
        {
          "output_type": "execute_result",
          "data": {
            "text/plain": [
              "['Grace Miller, 2008-02-29, 7, Female\\n']"
            ]
          },
          "metadata": {},
          "execution_count": 107
        }
      ]
    },
    {
      "cell_type": "code",
      "source": [
        "import re; # Regular Expression\n",
        "\n",
        "pattern = \"\"\"(.*), (\\d{4}-\\d{2}-\\d{2}), 7, (Female)\n",
        "\"\"\";\n",
        "\n",
        "rows: list[str] = re.findall(pattern, data);\n",
        "\n",
        "rows"
      ],
      "metadata": {
        "colab": {
          "base_uri": "https://localhost:8080/"
        },
        "id": "Gyo31mMRYkww",
        "outputId": "c600c109-6463-44a9-d9d9-b6b220b707fb"
      },
      "id": "Gyo31mMRYkww",
      "execution_count": null,
      "outputs": [
        {
          "output_type": "execute_result",
          "data": {
            "text/plain": [
              "[('Grace Miller', '2008-02-29', 'Female')]"
            ]
          },
          "metadata": {},
          "execution_count": 108
        }
      ]
    },
    {
      "cell_type": "code",
      "source": [
        "import re; # Regular Expression\n",
        "\n",
        "pattern = \"\"\"(\\d{4}-\\d{2}-\\d{2}), (\\d{1,2}), (Male)\n",
        "\"\"\";\n",
        "\n",
        "rows: list[str] = re.findall(pattern, data);\n",
        "\n",
        "print(len(rows));\n",
        "\n",
        "rows"
      ],
      "metadata": {
        "colab": {
          "base_uri": "https://localhost:8080/"
        },
        "id": "MZZNXkRlwCa4",
        "outputId": "d8de9c3a-5d0d-47db-afa8-acf7ff2c7a3a"
      },
      "id": "MZZNXkRlwCa4",
      "execution_count": null,
      "outputs": [
        {
          "output_type": "stream",
          "name": "stdout",
          "text": [
            "6\n"
          ]
        },
        {
          "output_type": "execute_result",
          "data": {
            "text/plain": [
              "[('2007-09-10', '2', 'Male'),\n",
              " ('2007-10-15', '3', 'Male'),\n",
              " ('2007-11-20', '4', 'Male'),\n",
              " ('2008-01-30', '6', 'Male'),\n",
              " ('2008-03-31', '8', 'Male'),\n",
              " ('2008-05-31', '10', 'Male')]"
            ]
          },
          "metadata": {},
          "execution_count": 109
        }
      ]
    },
    {
      "cell_type": "code",
      "source": [
        "data = \"\"\"Ahmed, 2007-08-05, 4, AI 786\n",
        "Bilal, 2006-03-06, 1, AI-567\n",
        "Mani, 2004-01-06, 3 ,AI670\n",
        "Usman, 2002-06-09, 10, AI4302\n",
        "Ahsan, 2006-07-12, 1, AI 5678\n",
        "\"\"\";\n",
        "\n",
        "print(data);"
      ],
      "metadata": {
        "colab": {
          "base_uri": "https://localhost:8080/"
        },
        "id": "6cN1cuJ3zwJS",
        "outputId": "d1a42514-252f-49ea-bfb4-d4838e11400a"
      },
      "id": "6cN1cuJ3zwJS",
      "execution_count": null,
      "outputs": [
        {
          "output_type": "stream",
          "name": "stdout",
          "text": [
            "Ahmed, 2007-08-05, 4, AI 786\n",
            "Bilal, 2006-03-06, 1, AI-567\n",
            "Mani, 2004-01-06, 3 ,AI670\n",
            "Usman, 2002-06-09, 10, AI4302\n",
            "Ahsan, 2006-07-12, 1, AI 5678\n",
            "\n"
          ]
        }
      ]
    },
    {
      "cell_type": "code",
      "source": [
        "import re; # Regular Expression\n",
        "\n",
        "pattern = \"\"\"(AI-? ?\\d{3,4})\n",
        "\"\"\";\n",
        "\n",
        "rows: list[str] = re.findall(pattern, data);\n",
        "\n",
        "rows"
      ],
      "metadata": {
        "colab": {
          "base_uri": "https://localhost:8080/"
        },
        "id": "eNQvgXJx0d5_",
        "outputId": "e67a94e3-635e-402b-b3e8-3003b2e51721"
      },
      "id": "eNQvgXJx0d5_",
      "execution_count": null,
      "outputs": [
        {
          "output_type": "execute_result",
          "data": {
            "text/plain": [
              "['AI 786', 'AI-567', 'AI670', 'AI4302', 'AI 5678']"
            ]
          },
          "metadata": {},
          "execution_count": 111
        }
      ]
    },
    {
      "cell_type": "code",
      "source": [
        "import re; # Regular Expression\n",
        "\n",
        "pattern = \"\"\"(.*), (\\d{1,2}), (AI-? ?\\d{3,4})\n",
        "\"\"\";\n",
        "\n",
        "rows: list[str] = re.findall(pattern, data);\n",
        "\n",
        "# print(len(rows));\n",
        "\n",
        "rows"
      ],
      "metadata": {
        "colab": {
          "base_uri": "https://localhost:8080/"
        },
        "id": "8ToA3ODC2P7h",
        "outputId": "6d892110-00a9-4635-8b48-348f4304e740"
      },
      "id": "8ToA3ODC2P7h",
      "execution_count": null,
      "outputs": [
        {
          "output_type": "execute_result",
          "data": {
            "text/plain": [
              "[('Ahmed, 2007-08-05', '4', 'AI 786'),\n",
              " ('Bilal, 2006-03-06', '1', 'AI-567'),\n",
              " ('Usman, 2002-06-09', '10', 'AI4302'),\n",
              " ('Ahsan, 2006-07-12', '1', 'AI 5678')]"
            ]
          },
          "metadata": {},
          "execution_count": 113
        }
      ]
    },
    {
      "cell_type": "code",
      "source": [
        "import pandas as pd;\n",
        "\n",
        "df = pd.DataFrame(rows, columns = [\"Name\", \"No.\", \"ID\"]);\n",
        "\n",
        "df"
      ],
      "metadata": {
        "colab": {
          "base_uri": "https://localhost:8080/",
          "height": 175
        },
        "id": "hqFI2oCb2N-m",
        "outputId": "52add2ef-ab92-494b-d5e9-8c0e14da5b5a"
      },
      "id": "hqFI2oCb2N-m",
      "execution_count": null,
      "outputs": [
        {
          "output_type": "execute_result",
          "data": {
            "text/plain": [
              "                Name No.       ID\n",
              "0  Ahmed, 2007-08-05   4   AI 786\n",
              "1  Bilal, 2006-03-06   1   AI-567\n",
              "2  Usman, 2002-06-09  10   AI4302\n",
              "3  Ahsan, 2006-07-12   1  AI 5678"
            ],
            "text/html": [
              "\n",
              "  <div id=\"df-38b2831c-bc7d-4231-bda8-389f2febec65\" class=\"colab-df-container\">\n",
              "    <div>\n",
              "<style scoped>\n",
              "    .dataframe tbody tr th:only-of-type {\n",
              "        vertical-align: middle;\n",
              "    }\n",
              "\n",
              "    .dataframe tbody tr th {\n",
              "        vertical-align: top;\n",
              "    }\n",
              "\n",
              "    .dataframe thead th {\n",
              "        text-align: right;\n",
              "    }\n",
              "</style>\n",
              "<table border=\"1\" class=\"dataframe\">\n",
              "  <thead>\n",
              "    <tr style=\"text-align: right;\">\n",
              "      <th></th>\n",
              "      <th>Name</th>\n",
              "      <th>No.</th>\n",
              "      <th>ID</th>\n",
              "    </tr>\n",
              "  </thead>\n",
              "  <tbody>\n",
              "    <tr>\n",
              "      <th>0</th>\n",
              "      <td>Ahmed, 2007-08-05</td>\n",
              "      <td>4</td>\n",
              "      <td>AI 786</td>\n",
              "    </tr>\n",
              "    <tr>\n",
              "      <th>1</th>\n",
              "      <td>Bilal, 2006-03-06</td>\n",
              "      <td>1</td>\n",
              "      <td>AI-567</td>\n",
              "    </tr>\n",
              "    <tr>\n",
              "      <th>2</th>\n",
              "      <td>Usman, 2002-06-09</td>\n",
              "      <td>10</td>\n",
              "      <td>AI4302</td>\n",
              "    </tr>\n",
              "    <tr>\n",
              "      <th>3</th>\n",
              "      <td>Ahsan, 2006-07-12</td>\n",
              "      <td>1</td>\n",
              "      <td>AI 5678</td>\n",
              "    </tr>\n",
              "  </tbody>\n",
              "</table>\n",
              "</div>\n",
              "    <div class=\"colab-df-buttons\">\n",
              "\n",
              "  <div class=\"colab-df-container\">\n",
              "    <button class=\"colab-df-convert\" onclick=\"convertToInteractive('df-38b2831c-bc7d-4231-bda8-389f2febec65')\"\n",
              "            title=\"Convert this dataframe to an interactive table.\"\n",
              "            style=\"display:none;\">\n",
              "\n",
              "  <svg xmlns=\"http://www.w3.org/2000/svg\" height=\"24px\" viewBox=\"0 -960 960 960\">\n",
              "    <path d=\"M120-120v-720h720v720H120Zm60-500h600v-160H180v160Zm220 220h160v-160H400v160Zm0 220h160v-160H400v160ZM180-400h160v-160H180v160Zm440 0h160v-160H620v160ZM180-180h160v-160H180v160Zm440 0h160v-160H620v160Z\"/>\n",
              "  </svg>\n",
              "    </button>\n",
              "\n",
              "  <style>\n",
              "    .colab-df-container {\n",
              "      display:flex;\n",
              "      gap: 12px;\n",
              "    }\n",
              "\n",
              "    .colab-df-convert {\n",
              "      background-color: #E8F0FE;\n",
              "      border: none;\n",
              "      border-radius: 50%;\n",
              "      cursor: pointer;\n",
              "      display: none;\n",
              "      fill: #1967D2;\n",
              "      height: 32px;\n",
              "      padding: 0 0 0 0;\n",
              "      width: 32px;\n",
              "    }\n",
              "\n",
              "    .colab-df-convert:hover {\n",
              "      background-color: #E2EBFA;\n",
              "      box-shadow: 0px 1px 2px rgba(60, 64, 67, 0.3), 0px 1px 3px 1px rgba(60, 64, 67, 0.15);\n",
              "      fill: #174EA6;\n",
              "    }\n",
              "\n",
              "    .colab-df-buttons div {\n",
              "      margin-bottom: 4px;\n",
              "    }\n",
              "\n",
              "    [theme=dark] .colab-df-convert {\n",
              "      background-color: #3B4455;\n",
              "      fill: #D2E3FC;\n",
              "    }\n",
              "\n",
              "    [theme=dark] .colab-df-convert:hover {\n",
              "      background-color: #434B5C;\n",
              "      box-shadow: 0px 1px 3px 1px rgba(0, 0, 0, 0.15);\n",
              "      filter: drop-shadow(0px 1px 2px rgba(0, 0, 0, 0.3));\n",
              "      fill: #FFFFFF;\n",
              "    }\n",
              "  </style>\n",
              "\n",
              "    <script>\n",
              "      const buttonEl =\n",
              "        document.querySelector('#df-38b2831c-bc7d-4231-bda8-389f2febec65 button.colab-df-convert');\n",
              "      buttonEl.style.display =\n",
              "        google.colab.kernel.accessAllowed ? 'block' : 'none';\n",
              "\n",
              "      async function convertToInteractive(key) {\n",
              "        const element = document.querySelector('#df-38b2831c-bc7d-4231-bda8-389f2febec65');\n",
              "        const dataTable =\n",
              "          await google.colab.kernel.invokeFunction('convertToInteractive',\n",
              "                                                    [key], {});\n",
              "        if (!dataTable) return;\n",
              "\n",
              "        const docLinkHtml = 'Like what you see? Visit the ' +\n",
              "          '<a target=\"_blank\" href=https://colab.research.google.com/notebooks/data_table.ipynb>data table notebook</a>'\n",
              "          + ' to learn more about interactive tables.';\n",
              "        element.innerHTML = '';\n",
              "        dataTable['output_type'] = 'display_data';\n",
              "        await google.colab.output.renderOutput(dataTable, element);\n",
              "        const docLink = document.createElement('div');\n",
              "        docLink.innerHTML = docLinkHtml;\n",
              "        element.appendChild(docLink);\n",
              "      }\n",
              "    </script>\n",
              "  </div>\n",
              "\n",
              "\n",
              "<div id=\"df-d31df672-912a-40b0-959b-508a6ae2fbd3\">\n",
              "  <button class=\"colab-df-quickchart\" onclick=\"quickchart('df-d31df672-912a-40b0-959b-508a6ae2fbd3')\"\n",
              "            title=\"Suggest charts.\"\n",
              "            style=\"display:none;\">\n",
              "\n",
              "<svg xmlns=\"http://www.w3.org/2000/svg\" height=\"24px\"viewBox=\"0 0 24 24\"\n",
              "     width=\"24px\">\n",
              "    <g>\n",
              "        <path d=\"M19 3H5c-1.1 0-2 .9-2 2v14c0 1.1.9 2 2 2h14c1.1 0 2-.9 2-2V5c0-1.1-.9-2-2-2zM9 17H7v-7h2v7zm4 0h-2V7h2v10zm4 0h-2v-4h2v4z\"/>\n",
              "    </g>\n",
              "</svg>\n",
              "  </button>\n",
              "\n",
              "<style>\n",
              "  .colab-df-quickchart {\n",
              "      --bg-color: #E8F0FE;\n",
              "      --fill-color: #1967D2;\n",
              "      --hover-bg-color: #E2EBFA;\n",
              "      --hover-fill-color: #174EA6;\n",
              "      --disabled-fill-color: #AAA;\n",
              "      --disabled-bg-color: #DDD;\n",
              "  }\n",
              "\n",
              "  [theme=dark] .colab-df-quickchart {\n",
              "      --bg-color: #3B4455;\n",
              "      --fill-color: #D2E3FC;\n",
              "      --hover-bg-color: #434B5C;\n",
              "      --hover-fill-color: #FFFFFF;\n",
              "      --disabled-bg-color: #3B4455;\n",
              "      --disabled-fill-color: #666;\n",
              "  }\n",
              "\n",
              "  .colab-df-quickchart {\n",
              "    background-color: var(--bg-color);\n",
              "    border: none;\n",
              "    border-radius: 50%;\n",
              "    cursor: pointer;\n",
              "    display: none;\n",
              "    fill: var(--fill-color);\n",
              "    height: 32px;\n",
              "    padding: 0;\n",
              "    width: 32px;\n",
              "  }\n",
              "\n",
              "  .colab-df-quickchart:hover {\n",
              "    background-color: var(--hover-bg-color);\n",
              "    box-shadow: 0 1px 2px rgba(60, 64, 67, 0.3), 0 1px 3px 1px rgba(60, 64, 67, 0.15);\n",
              "    fill: var(--button-hover-fill-color);\n",
              "  }\n",
              "\n",
              "  .colab-df-quickchart-complete:disabled,\n",
              "  .colab-df-quickchart-complete:disabled:hover {\n",
              "    background-color: var(--disabled-bg-color);\n",
              "    fill: var(--disabled-fill-color);\n",
              "    box-shadow: none;\n",
              "  }\n",
              "\n",
              "  .colab-df-spinner {\n",
              "    border: 2px solid var(--fill-color);\n",
              "    border-color: transparent;\n",
              "    border-bottom-color: var(--fill-color);\n",
              "    animation:\n",
              "      spin 1s steps(1) infinite;\n",
              "  }\n",
              "\n",
              "  @keyframes spin {\n",
              "    0% {\n",
              "      border-color: transparent;\n",
              "      border-bottom-color: var(--fill-color);\n",
              "      border-left-color: var(--fill-color);\n",
              "    }\n",
              "    20% {\n",
              "      border-color: transparent;\n",
              "      border-left-color: var(--fill-color);\n",
              "      border-top-color: var(--fill-color);\n",
              "    }\n",
              "    30% {\n",
              "      border-color: transparent;\n",
              "      border-left-color: var(--fill-color);\n",
              "      border-top-color: var(--fill-color);\n",
              "      border-right-color: var(--fill-color);\n",
              "    }\n",
              "    40% {\n",
              "      border-color: transparent;\n",
              "      border-right-color: var(--fill-color);\n",
              "      border-top-color: var(--fill-color);\n",
              "    }\n",
              "    60% {\n",
              "      border-color: transparent;\n",
              "      border-right-color: var(--fill-color);\n",
              "    }\n",
              "    80% {\n",
              "      border-color: transparent;\n",
              "      border-right-color: var(--fill-color);\n",
              "      border-bottom-color: var(--fill-color);\n",
              "    }\n",
              "    90% {\n",
              "      border-color: transparent;\n",
              "      border-bottom-color: var(--fill-color);\n",
              "    }\n",
              "  }\n",
              "</style>\n",
              "\n",
              "  <script>\n",
              "    async function quickchart(key) {\n",
              "      const quickchartButtonEl =\n",
              "        document.querySelector('#' + key + ' button');\n",
              "      quickchartButtonEl.disabled = true;  // To prevent multiple clicks.\n",
              "      quickchartButtonEl.classList.add('colab-df-spinner');\n",
              "      try {\n",
              "        const charts = await google.colab.kernel.invokeFunction(\n",
              "            'suggestCharts', [key], {});\n",
              "      } catch (error) {\n",
              "        console.error('Error during call to suggestCharts:', error);\n",
              "      }\n",
              "      quickchartButtonEl.classList.remove('colab-df-spinner');\n",
              "      quickchartButtonEl.classList.add('colab-df-quickchart-complete');\n",
              "    }\n",
              "    (() => {\n",
              "      let quickchartButtonEl =\n",
              "        document.querySelector('#df-d31df672-912a-40b0-959b-508a6ae2fbd3 button');\n",
              "      quickchartButtonEl.style.display =\n",
              "        google.colab.kernel.accessAllowed ? 'block' : 'none';\n",
              "    })();\n",
              "  </script>\n",
              "</div>\n",
              "    </div>\n",
              "  </div>\n"
            ]
          },
          "metadata": {},
          "execution_count": 114
        }
      ]
    },
    {
      "cell_type": "code",
      "source": [
        "records: list[str] = [\"Revealed\", \"Spinnin\", \"Armada\"];\n",
        "\n",
        "print(type(records));\n",
        "\n",
        "print(type(records[-3]));"
      ],
      "metadata": {
        "colab": {
          "base_uri": "https://localhost:8080/"
        },
        "id": "NW6w3YCKTxL2",
        "outputId": "b5a98adc-2a96-453d-a0a8-7b11461d0ae7"
      },
      "id": "NW6w3YCKTxL2",
      "execution_count": 1,
      "outputs": [
        {
          "output_type": "stream",
          "name": "stdout",
          "text": [
            "<class 'list'>\n",
            "<class 'str'>\n"
          ]
        }
      ]
    },
    {
      "cell_type": "code",
      "source": [
        "abc: list[str] = list(\"abcdefghijklmnopqrstuvwxyz\");\n",
        "\n",
        "print(abc);"
      ],
      "metadata": {
        "colab": {
          "base_uri": "https://localhost:8080/"
        },
        "id": "6EtD7swzdLzS",
        "outputId": "b4a0f432-d885-4ac1-adcf-eb66233c12ae"
      },
      "id": "6EtD7swzdLzS",
      "execution_count": 2,
      "outputs": [
        {
          "output_type": "stream",
          "name": "stdout",
          "text": [
            "['a', 'b', 'c', 'd', 'e', 'f', 'g', 'h', 'i', 'j', 'k', 'l', 'm', 'n', 'o', 'p', 'q', 'r', 's', 't', 'u', 'v', 'w', 'x', 'y', 'z']\n"
          ]
        }
      ]
    },
    {
      "cell_type": "markdown",
      "source": [
        "# **Slicing:**"
      ],
      "metadata": {
        "id": "ur_cZSsScsAO"
      },
      "id": "ur_cZSsScsAO"
    },
    {
      "cell_type": "code",
      "source": [],
      "metadata": {
        "id": "2_Ua6Rxrc1px"
      },
      "id": "2_Ua6Rxrc1px",
      "execution_count": null,
      "outputs": []
    }
  ],
  "metadata": {
    "kernelspec": {
      "display_name": "Python 3 (ipykernel)",
      "language": "python",
      "name": "python3"
    },
    "language_info": {
      "codemirror_mode": {
        "name": "ipython",
        "version": 3
      },
      "file_extension": ".py",
      "mimetype": "text/x-python",
      "name": "python",
      "nbconvert_exporter": "python",
      "pygments_lexer": "ipython3",
      "version": "3.11.5"
    },
    "colab": {
      "provenance": []
    }
  },
  "nbformat": 4,
  "nbformat_minor": 5
}