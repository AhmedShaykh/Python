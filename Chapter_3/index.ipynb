{
  "cells": [
    {
      "cell_type": "markdown",
      "metadata": {
        "id": "nTf4TKh15-0P"
      },
      "source": [
        "# **List**"
      ]
    },
    {
      "cell_type": "code",
      "execution_count": 32,
      "metadata": {
        "colab": {
          "base_uri": "https://localhost:8080/"
        },
        "id": "E285pBFp5-0T",
        "outputId": "84ea19a6-4483-486c-f112-ba81fa3f58be"
      },
      "outputs": [
        {
          "output_type": "stream",
          "name": "stdout",
          "text": [
            "['Mani', 'Yaseen', 'Ali']\n",
            "MANI\n",
            "Yaseen\n"
          ]
        }
      ],
      "source": [
        "from typing import List;\n",
        "\n",
        "beros: List[str] = [\"Mani\", \"Yaseen\", \"Ali\"];\n",
        "\n",
        "print(beros);\n",
        "\n",
        "print(beros[0].upper());\n",
        "\n",
        "print(beros[-2]);"
      ]
    },
    {
      "cell_type": "code",
      "execution_count": 33,
      "metadata": {
        "colab": {
          "base_uri": "https://localhost:8080/"
        },
        "id": "TYOuY7Wv5-0W",
        "outputId": "c4b7d42c-b35f-457e-d9fd-f6be4be323ff"
      },
      "outputs": [
        {
          "output_type": "stream",
          "name": "stdout",
          "text": [
            "7\n",
            "<class 'list'>\n",
            "<class 'int'>\n"
          ]
        }
      ],
      "source": [
        "from typing import Any;\n",
        "\n",
        "data : List[Any] = [\"Ahmed\", 7, False, 4.4];\n",
        "\n",
        "print(data[-3]);\n",
        "\n",
        "print(type(data));\n",
        "\n",
        "print(type(data[1]));"
      ]
    },
    {
      "cell_type": "markdown",
      "metadata": {
        "id": "1Apo73jj5-0Y"
      },
      "source": [
        "# **Slicing**"
      ]
    },
    {
      "cell_type": "code",
      "execution_count": 34,
      "metadata": {
        "colab": {
          "base_uri": "https://localhost:8080/"
        },
        "id": "tHEIDFCm5-0Z",
        "outputId": "70122c19-f327-4de2-b004-35d3edf52e14"
      },
      "outputs": [
        {
          "output_type": "stream",
          "name": "stdout",
          "text": [
            "['A', 'B', 'C', 'D', 'E', 'F', 'G', 'H', 'I', 'J', 'K', 'L', 'M', 'N', 'O', 'P', 'Q', 'R', 'S', 'T', 'U', 'V', 'W', 'X', 'Y', 'X', 'Z']\n",
            "<class 'list'>\n"
          ]
        }
      ],
      "source": [
        "abc: list[str] = list(\"ABCDEFGHIJKLMNOPQRSTUVWXYXZ\");\n",
        "\n",
        "print(abc);\n",
        "\n",
        "print(type(abc));"
      ]
    },
    {
      "cell_type": "code",
      "execution_count": 35,
      "metadata": {
        "colab": {
          "base_uri": "https://localhost:8080/"
        },
        "id": "2KQUqzic5-0a",
        "outputId": "b35a31f1-4856-4b4c-ae5a-fb920e0105d3"
      },
      "outputs": [
        {
          "output_type": "execute_result",
          "data": {
            "text/plain": [
              "['A', 'B', 'C', 'D', 'E', 'F', 'G', 'H']"
            ]
          },
          "metadata": {},
          "execution_count": 35
        }
      ],
      "source": [
        "list(\"ABCDEFGH\")"
      ]
    },
    {
      "cell_type": "code",
      "execution_count": 36,
      "metadata": {
        "colab": {
          "base_uri": "https://localhost:8080/"
        },
        "id": "549Q35uV5-0b",
        "outputId": "28688ab7-53c6-45b8-b517-66ddebebb39f"
      },
      "outputs": [
        {
          "output_type": "stream",
          "name": "stdout",
          "text": [
            "['b', 'c', 'd']\n",
            "['a', 'b', 'c', 'd']\n",
            "['b', 'c', 'd']\n",
            "['a', 'b']\n",
            "['a', 'b']\n",
            "['a', 'c', 'e']\n",
            "['f', 'e', 'd', 'c']\n"
          ]
        }
      ],
      "source": [
        "abc: list[str] = list(\"abcdef\");\n",
        "\n",
        "print(abc[1:4]); # Default Slicing Is (Left To Right)\n",
        "\n",
        "print(abc[:4]);\n",
        "\n",
        "print(abc[-5:-2]);\n",
        "\n",
        "print(abc[0:2:1]); # Step Default Value Is 1 & It Direction (Left To Right)\n",
        "\n",
        "print(abc[0:2:]);\n",
        "\n",
        "print(abc[0:5:2]);\n",
        "\n",
        "print(abc[-1:-5:-1]); # Put Step Value -1 Then Reverse Direction (Right To Left)"
      ]
    },
    {
      "cell_type": "code",
      "execution_count": 37,
      "metadata": {
        "colab": {
          "base_uri": "https://localhost:8080/"
        },
        "id": "8kX1emw75-0b",
        "outputId": "22062068-2e94-4ab7-a0bb-bf11e5a7c4ec"
      },
      "outputs": [
        {
          "output_type": "stream",
          "name": "stdout",
          "text": [
            "['a', 'c', 'e', 'g', 'i', 'k', 'm', 'o', 'q', 's', 'u', 'w', 'y']\n",
            "['a', 'c', 'e', 'g', 'i', 'k', 'm', 'o', 'q', 's', 'u', 'w', 'y']\n",
            "['a', 'c', 'e', 'g', 'i', 'k', 'm', 'o', 'q', 's', 'u', 'w', 'y']\n",
            "['z', 'y', 'x', 'w', 'v', 'u', 't', 's', 'r', 'q', 'p', 'o', 'n', 'm', 'l', 'k', 'j', 'i', 'h', 'g', 'f', 'e', 'd', 'c', 'b', 'a']\n"
          ]
        }
      ],
      "source": [
        "abc: list[str] = list(\"abcdefghijklmnopqrstuvwxyz\");\n",
        "\n",
        "print(abc[::2]);\n",
        "\n",
        "print(abc[0::2]);\n",
        "\n",
        "print(abc[:26:2]);\n",
        "\n",
        "print(abc[::-1]);"
      ]
    },
    {
      "cell_type": "code",
      "execution_count": 38,
      "metadata": {
        "colab": {
          "base_uri": "https://localhost:8080/"
        },
        "id": "68_qWjx-5-0c",
        "outputId": "9b9b2cfa-f9a1-46de-b830-d79fad404033"
      },
      "outputs": [
        {
          "output_type": "stream",
          "name": "stdout",
          "text": [
            "['B', 'C', 'D', 'E']\n",
            "[]\n",
            "['F']\n",
            "['G', 'F', 'E']\n"
          ]
        }
      ],
      "source": [
        "abc : list[str] = [\"A\", \"B\", \"C\", \"D\", \"E\", \"F\", \"G\", \"H\"];\n",
        "\n",
        "print(abc[1:-3]); # Direction (Left To Right)\n",
        "\n",
        "print(abc[-2:-5]); # Direction (Left To Right)\n",
        "\n",
        "print(abc[-3:-2]);\n",
        "\n",
        "print(abc[-2:-5:-1]); # Reminder Put Step Value -1 Then Direction Is Reverse (Right To Left)"
      ]
    },
    {
      "cell_type": "markdown",
      "metadata": {
        "id": "pE1Xjq4v5-0d"
      },
      "source": [
        "# **List Method's**"
      ]
    },
    {
      "cell_type": "code",
      "execution_count": 39,
      "metadata": {
        "colab": {
          "base_uri": "https://localhost:8080/"
        },
        "id": "gtOC8Nwf5-0d",
        "outputId": "5ece4922-464b-4101-c8a4-f48c30b69b01"
      },
      "outputs": [
        {
          "output_type": "stream",
          "name": "stdout",
          "text": [
            "['Revealed', 'Spinnin', 'Armada']\n",
            "['Revealed Recordings', 'Spinnin', 'Armada']\n"
          ]
        }
      ],
      "source": [
        "records: list[str] = [\"Revealed\", \"Spinnin\", \"Armada\"];\n",
        "\n",
        "print(records);\n",
        "\n",
        "records[0] = \"Revealed Recordings\"; # Mutable => Editable\n",
        "\n",
        "print(records);"
      ]
    },
    {
      "cell_type": "code",
      "execution_count": 40,
      "metadata": {
        "colab": {
          "base_uri": "https://localhost:8080/"
        },
        "id": "fJaqMFUM5-0e",
        "outputId": "034337ed-1857-46d7-9b57-127dd7ee2e0e"
      },
      "outputs": [
        {
          "output_type": "stream",
          "name": "stdout",
          "text": [
            "['Revealed Recordings', 'Spinnin']\n"
          ]
        }
      ],
      "source": [
        "del records[2] # Delete 2 Index Element\n",
        "\n",
        "print(records);"
      ]
    },
    {
      "cell_type": "code",
      "execution_count": 41,
      "metadata": {
        "colab": {
          "base_uri": "https://localhost:8080/"
        },
        "id": "B0EKxdAb5-0e",
        "outputId": "4a1a0c99-3772-4916-c3a8-21e01c6b68fb"
      },
      "outputs": [
        {
          "output_type": "stream",
          "name": "stdout",
          "text": [
            "<class 'list'>\n"
          ]
        },
        {
          "output_type": "execute_result",
          "data": {
            "text/plain": [
              "['__add__',\n",
              " '__class__',\n",
              " '__class_getitem__',\n",
              " '__contains__',\n",
              " '__delattr__',\n",
              " '__delitem__',\n",
              " '__dir__',\n",
              " '__doc__',\n",
              " '__eq__',\n",
              " '__format__',\n",
              " '__ge__',\n",
              " '__getattribute__',\n",
              " '__getitem__',\n",
              " '__getstate__',\n",
              " '__gt__',\n",
              " '__hash__',\n",
              " '__iadd__',\n",
              " '__imul__',\n",
              " '__init__',\n",
              " '__init_subclass__',\n",
              " '__iter__',\n",
              " '__le__',\n",
              " '__len__',\n",
              " '__lt__',\n",
              " '__mul__',\n",
              " '__ne__',\n",
              " '__new__',\n",
              " '__reduce__',\n",
              " '__reduce_ex__',\n",
              " '__repr__',\n",
              " '__reversed__',\n",
              " '__rmul__',\n",
              " '__setattr__',\n",
              " '__setitem__',\n",
              " '__sizeof__',\n",
              " '__str__',\n",
              " '__subclasshook__',\n",
              " 'append',\n",
              " 'clear',\n",
              " 'copy',\n",
              " 'count',\n",
              " 'extend',\n",
              " 'index',\n",
              " 'insert',\n",
              " 'pop',\n",
              " 'remove',\n",
              " 'reverse',\n",
              " 'sort']"
            ]
          },
          "metadata": {},
          "execution_count": 41
        }
      ],
      "source": [
        "print(type(records));\n",
        "\n",
        "dir(records) # Show List All Methods"
      ]
    },
    {
      "cell_type": "code",
      "execution_count": 42,
      "metadata": {
        "colab": {
          "base_uri": "https://localhost:8080/"
        },
        "id": "2sAKrxFa5-0f",
        "outputId": "4dbb6bab-fe82-422e-e051-53802b527c1c"
      },
      "outputs": [
        {
          "output_type": "execute_result",
          "data": {
            "text/plain": [
              "['append',\n",
              " 'clear',\n",
              " 'copy',\n",
              " 'count',\n",
              " 'extend',\n",
              " 'index',\n",
              " 'insert',\n",
              " 'pop',\n",
              " 'remove',\n",
              " 'reverse',\n",
              " 'sort']"
            ]
          },
          "metadata": {},
          "execution_count": 42
        }
      ],
      "source": [
        "[i for i in dir(records) if \"_\" not in i]"
      ]
    },
    {
      "cell_type": "markdown",
      "metadata": {
        "id": "jjToFIJ25-0f"
      },
      "source": [
        "# **Help**"
      ]
    },
    {
      "cell_type": "code",
      "execution_count": 43,
      "metadata": {
        "colab": {
          "base_uri": "https://localhost:8080/"
        },
        "id": "EnN1j5ll5-0g",
        "outputId": "c8676e36-7ad2-42de-884c-7f8542939789"
      },
      "outputs": [
        {
          "output_type": "stream",
          "name": "stdout",
          "text": [
            "Help on built-in function print in module builtins:\n",
            "\n",
            "print(*args, sep=' ', end='\\n', file=None, flush=False)\n",
            "    Prints the values to a stream, or to sys.stdout by default.\n",
            "    \n",
            "    sep\n",
            "      string inserted between values, default a space.\n",
            "    end\n",
            "      string appended after the last value, default a newline.\n",
            "    file\n",
            "      a file-like object (stream); defaults to the current sys.stdout.\n",
            "    flush\n",
            "      whether to forcibly flush the stream.\n",
            "\n"
          ]
        }
      ],
      "source": [
        "help(print);"
      ]
    },
    {
      "cell_type": "code",
      "execution_count": 44,
      "metadata": {
        "colab": {
          "base_uri": "https://localhost:8080/"
        },
        "id": "6PLsdHqF5-0g",
        "outputId": "620a489e-24f2-4ac8-a27a-76ccfce59210"
      },
      "outputs": [
        {
          "output_type": "stream",
          "name": "stdout",
          "text": [
            "['Revealed', 'Armada', 'STMPD']\n"
          ]
        }
      ],
      "source": [
        "records: list[str] = [\"Revealed\", \"Spinnin\", \"Armada\", \"STMPD\"];\n",
        "\n",
        "del records[1]; # Remove Object From Memory But Not Assign In Variable\n",
        "\n",
        "print(records);"
      ]
    },
    {
      "cell_type": "code",
      "execution_count": 45,
      "metadata": {
        "colab": {
          "base_uri": "https://localhost:8080/"
        },
        "id": "3O-Nu1Yd5-0g",
        "outputId": "52880b0c-a8d6-41f9-cbcf-76cbfb265cbd"
      },
      "outputs": [
        {
          "output_type": "stream",
          "name": "stdout",
          "text": [
            "['Revealed', 'Armada', 'STMPD']\n",
            "['Revealed', 'Armada', 'STMPD', 'Monstercat']\n",
            "['Revealed', 'Spinnin', 'Armada', 'STMPD', 'Monstercat']\n"
          ]
        }
      ],
      "source": [
        "records: list[str] = [\"Revealed\", \"Spinnin\", \"Armada\", \"STMPD\"];\n",
        "\n",
        "record: str = records.pop(1); # Pop Assign In Variable Because It Return A Value\n",
        "\n",
        "print(records);\n",
        "\n",
        "records.append(\"Monstercat\"); # Add Element In Last\n",
        "\n",
        "print(records);\n",
        "\n",
        "records.insert(1, \"Spinnin\"); # Add Element On Particular Index Position\n",
        "\n",
        "print(records);"
      ]
    },
    {
      "cell_type": "code",
      "execution_count": 46,
      "metadata": {
        "colab": {
          "base_uri": "https://localhost:8080/"
        },
        "id": "eKdPusE_5-0h",
        "outputId": "81dd3f5b-8521-4794-8158-cbc76eaf9f36"
      },
      "outputs": [
        {
          "output_type": "stream",
          "name": "stdout",
          "text": [
            "[]\n"
          ]
        }
      ],
      "source": [
        "num: list[int] = [1,2,3];\n",
        "\n",
        "num.clear(); # Remove All Element But Object Is Remain\n",
        "\n",
        "print(num);"
      ]
    },
    {
      "cell_type": "code",
      "execution_count": 47,
      "metadata": {
        "colab": {
          "base_uri": "https://localhost:8080/"
        },
        "id": "0W7VYAko5-0i",
        "outputId": "e4bdcefc-2b86-4d53-af22-03a8e9ccc388"
      },
      "outputs": [
        {
          "output_type": "stream",
          "name": "stdout",
          "text": [
            "['Revealed', 'Spinnin', 'Armada']\n",
            "['Revealed', 'Spinnin', 'Armada']\n",
            "Records: ['Revealed', 'STMPD', 'Armada']\n",
            "Labels: ['Revealed', 'STMPD', 'Armada']\n"
          ]
        }
      ],
      "source": [
        "records: list[str] = [\"Revealed\", \"Spinnin\", \"Armada\"];\n",
        "\n",
        "print(records);\n",
        "\n",
        "labels = records # Shallow Copy\n",
        "\n",
        "print(labels);\n",
        "\n",
        "labels[1] = \"STMPD\";\n",
        "\n",
        "print(\"Records:\", records);\n",
        "\n",
        "print(\"Labels:\", labels);"
      ]
    },
    {
      "cell_type": "code",
      "execution_count": 48,
      "metadata": {
        "colab": {
          "base_uri": "https://localhost:8080/"
        },
        "id": "2bI5fZiJ5-0i",
        "outputId": "ea57fb45-918d-4330-f03e-1a325eee95cd"
      },
      "outputs": [
        {
          "output_type": "stream",
          "name": "stdout",
          "text": [
            "['Revealed', 'Spinnin', 'Armada']\n",
            "['Revealed', 'Spinnin', 'Armada']\n",
            "Records: ['Revealed', 'Spinnin', 'Armada']\n",
            "Labels: ['Revealed', 'STMPD', 'Armada']\n"
          ]
        }
      ],
      "source": [
        "records: list[str] = [\"Revealed\", \"Spinnin\", \"Armada\"];\n",
        "\n",
        "print(records);\n",
        "\n",
        "labels = records.copy(); # Deep Copy\n",
        "\n",
        "print(labels);\n",
        "\n",
        "labels[1] = \"STMPD\";\n",
        "\n",
        "print(\"Records:\", records);\n",
        "\n",
        "print(\"Labels:\", labels);"
      ]
    },
    {
      "cell_type": "code",
      "execution_count": 49,
      "metadata": {
        "colab": {
          "base_uri": "https://localhost:8080/"
        },
        "id": "rlCe_IYI5-0i",
        "outputId": "809e24d6-bcc1-4b1b-8e4f-0f83036c13f8"
      },
      "outputs": [
        {
          "output_type": "stream",
          "name": "stdout",
          "text": [
            "['A', 'f', 't', 'e', 'r', 'l', 'i', 'f', 'e']\n",
            "2\n",
            "0\n"
          ]
        }
      ],
      "source": [
        "record: list[str] = list(\"Afterlife\");\n",
        "\n",
        "print(record);\n",
        "\n",
        "print(record.count(\"e\")); # Count Element\n",
        "\n",
        "print(record.count(\"a\")); # Count Element"
      ]
    },
    {
      "cell_type": "code",
      "execution_count": 50,
      "metadata": {
        "colab": {
          "base_uri": "https://localhost:8080/"
        },
        "id": "Peu0JPUQ5-0j",
        "outputId": "f69e7bae-e996-4d85-b0ad-a2b9d9724d33"
      },
      "outputs": [
        {
          "output_type": "stream",
          "name": "stdout",
          "text": [
            "['Revealed', 'Spinnin', 'Armada']\n",
            "['Revealed', 'Spinnin', 'Armada', ['STMPD', 'Monstercat']]\n"
          ]
        }
      ],
      "source": [
        "records: list[str] = [\"Revealed\", \"Spinnin\", \"Armada\"];\n",
        "\n",
        "print(records);\n",
        "\n",
        "labels: list[str] = [\"STMPD\", \"Monstercat\"];\n",
        "\n",
        "records.append(labels);\n",
        "\n",
        "print(records);"
      ]
    },
    {
      "cell_type": "code",
      "execution_count": 51,
      "metadata": {
        "colab": {
          "base_uri": "https://localhost:8080/"
        },
        "id": "bBesud645-0j",
        "outputId": "438715f6-058f-423d-b364-68a34fc84dd8"
      },
      "outputs": [
        {
          "output_type": "stream",
          "name": "stdout",
          "text": [
            "['Revealed', 'Spinnin', 'Armada']\n",
            "['Revealed', 'Spinnin', 'Armada', 'STMPD', 'Monstercat']\n"
          ]
        }
      ],
      "source": [
        "records: list[str] = [\"Revealed\", \"Spinnin\", \"Armada\"];\n",
        "\n",
        "print(records);\n",
        "\n",
        "labels: list[str] = [\"STMPD\", \"Monstercat\"];\n",
        "\n",
        "records.extend(labels); # All Lists Combine In One List\n",
        "\n",
        "print(records);"
      ]
    },
    {
      "cell_type": "code",
      "execution_count": 52,
      "metadata": {
        "colab": {
          "base_uri": "https://localhost:8080/"
        },
        "id": "SIhylf5k5-0k",
        "outputId": "07db7a0b-cce5-410f-f487-8d57f1f476dc"
      },
      "outputs": [
        {
          "output_type": "stream",
          "name": "stdout",
          "text": [
            "['Spinnin', 'Armada', 'STMPD', 'Monstercat']\n"
          ]
        }
      ],
      "source": [
        "records.remove(\"Revealed\");\n",
        "\n",
        "print(records);"
      ]
    },
    {
      "cell_type": "code",
      "execution_count": 53,
      "metadata": {
        "colab": {
          "base_uri": "https://localhost:8080/"
        },
        "id": "ZP2pMYED5-0l",
        "outputId": "954e3e61-28d7-41bc-9a40-5346e4da9227"
      },
      "outputs": [
        {
          "output_type": "execute_result",
          "data": {
            "text/plain": [
              "4"
            ]
          },
          "metadata": {},
          "execution_count": 53
        }
      ],
      "source": [
        "records: list[str] = [\"Revealed\", \"Spinnin\", \"Armada\", \"STMPD\", \"Monstercat\"];\n",
        "\n",
        "records.index(\"Monstercat\")"
      ]
    },
    {
      "cell_type": "code",
      "execution_count": 54,
      "metadata": {
        "colab": {
          "base_uri": "https://localhost:8080/"
        },
        "id": "GBGBmoKK5-0l",
        "outputId": "1fc630bd-740f-4103-de13-a590a245c5f9"
      },
      "outputs": [
        {
          "output_type": "execute_result",
          "data": {
            "text/plain": [
              "5"
            ]
          },
          "metadata": {},
          "execution_count": 54
        }
      ],
      "source": [
        "records: list[str] = [\"Revealed\", \"Spinnin\", \"Armada\", \"STMPD\", \"Monstercat\", \"Spinnin\"];\n",
        "\n",
        "records.index(\"Spinnin\", 2)"
      ]
    },
    {
      "cell_type": "code",
      "execution_count": 55,
      "metadata": {
        "colab": {
          "base_uri": "https://localhost:8080/"
        },
        "id": "BQKxr5Dc5-0m",
        "outputId": "55052560-57c0-456c-f24c-36636661f48f"
      },
      "outputs": [
        {
          "output_type": "stream",
          "name": "stdout",
          "text": [
            "['Revealed', 'Spinnin', 'Armada']\n",
            "['Armada', 'Spinnin', 'Revealed']\n"
          ]
        }
      ],
      "source": [
        "records: list[str] = [\"Revealed\", \"Spinnin\", \"Armada\"];\n",
        "\n",
        "print(records);\n",
        "\n",
        "records.reverse();\n",
        "\n",
        "print(records);"
      ]
    },
    {
      "cell_type": "code",
      "execution_count": 56,
      "metadata": {
        "colab": {
          "base_uri": "https://localhost:8080/"
        },
        "id": "Hm8Tuah15-0n",
        "outputId": "190180c2-0ec4-4998-c1da-476f8763e7d7"
      },
      "outputs": [
        {
          "output_type": "stream",
          "name": "stdout",
          "text": [
            "['Revealed', 'Spinnin', 'Armada', 'Afterlife']\n",
            "['Afterlife', 'Armada', 'Revealed', 'Spinnin']\n"
          ]
        }
      ],
      "source": [
        "records: list[str] = [\"Revealed\", \"Spinnin\", \"Armada\", \"Afterlife\"];\n",
        "\n",
        "print(records);\n",
        "\n",
        "records.sort(); # Sort In Ascending Order\n",
        "\n",
        "print(records);"
      ]
    },
    {
      "cell_type": "code",
      "execution_count": 57,
      "metadata": {
        "colab": {
          "base_uri": "https://localhost:8080/"
        },
        "id": "__3SB0gD5-0o",
        "outputId": "0913517d-6a59-409f-d9cb-9c50ff804dd2"
      },
      "outputs": [
        {
          "output_type": "stream",
          "name": "stdout",
          "text": [
            "['Spinnin', 'Revealed', 'Armada', 'Afterlife']\n",
            "4\n"
          ]
        }
      ],
      "source": [
        "records.sort(reverse=True); # Sort In Descending Order\n",
        "\n",
        "print(records);\n",
        "\n",
        "print(len(records));"
      ]
    },
    {
      "cell_type": "code",
      "execution_count": 58,
      "metadata": {
        "colab": {
          "base_uri": "https://localhost:8080/"
        },
        "id": "Q-IE4mYx5-0p",
        "outputId": "860135af-0175-4dd5-f7e8-7fec999d11ca"
      },
      "outputs": [
        {
          "output_type": "stream",
          "name": "stdout",
          "text": [
            "['Revealed', 'STMPD']\n"
          ]
        }
      ],
      "source": [
        "records: list[str] = [\"Revealed\", \"Spinnin\", \"Armada\", \"Monstercat\", \"STMPD\"];\n",
        "\n",
        "del records[1:4];\n",
        "\n",
        "print(records);"
      ]
    }
  ],
  "metadata": {
    "kernelspec": {
      "display_name": "py12",
      "language": "python",
      "name": "python3"
    },
    "language_info": {
      "codemirror_mode": {
        "name": "ipython",
        "version": 3
      },
      "file_extension": ".py",
      "mimetype": "text/x-python",
      "name": "python",
      "nbconvert_exporter": "python",
      "pygments_lexer": "ipython3",
      "version": "3.12.0"
    },
    "colab": {
      "provenance": []
    }
  },
  "nbformat": 4,
  "nbformat_minor": 0
}