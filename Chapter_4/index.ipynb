{
  "cells": [
    {
      "cell_type": "markdown",
      "metadata": {
        "id": "RgpclgeV7oKZ"
      },
      "source": [
        "# **For LOOP**"
      ]
    },
    {
      "cell_type": "code",
      "execution_count": 45,
      "metadata": {
        "colab": {
          "base_uri": "https://localhost:8080/"
        },
        "id": "O080Sg307oKi",
        "outputId": "944c88dd-f0b2-408e-aee3-bb565809823e"
      },
      "outputs": [
        {
          "output_type": "stream",
          "name": "stdout",
          "text": [
            "['Revealed', 'Spinnin', 'Armada', 'Monstercat', 'STMPD']\n",
            "Revealed\n",
            "Spinnin\n",
            "Armada\n",
            "Monstercat\n",
            "STMPD\n"
          ]
        }
      ],
      "source": [
        "records: list[str] = [\"Revealed\", \"Spinnin\", \"Armada\", \"Monstercat\", \"STMPD\"];\n",
        "\n",
        "print(records);\n",
        "\n",
        "for record in records:\n",
        "\n",
        "    print(record);"
      ]
    },
    {
      "cell_type": "code",
      "execution_count": 46,
      "metadata": {
        "colab": {
          "base_uri": "https://localhost:8080/"
        },
        "id": "necGswRd7oKn",
        "outputId": "01f9513f-919b-4e0a-f712-88d76d31e9b3"
      },
      "outputs": [
        {
          "output_type": "stream",
          "name": "stdout",
          "text": [
            "Revealed\n",
            "Spinnin\n",
            "Armada\n",
            "Monstercat\n",
            "STMPD\n"
          ]
        }
      ],
      "source": [
        "records: list[str] = [\"Revealed\", \"Spinnin\", \"Armada\", \"Monstercat\", \"STMPD\"];\n",
        "\n",
        "i: int = 0;\n",
        "\n",
        "while i < len(records):\n",
        "\n",
        "    print(records[i]);\n",
        "\n",
        "    i += 1;"
      ]
    },
    {
      "cell_type": "code",
      "execution_count": 47,
      "metadata": {
        "colab": {
          "base_uri": "https://localhost:8080/"
        },
        "id": "ZIXzHDUf7oKp",
        "outputId": "34afc9cf-ab5a-483f-ccd1-1d2d21db5875"
      },
      "outputs": [
        {
          "output_type": "stream",
          "name": "stdout",
          "text": [
            "REVEALED\n",
            "SPINNIN\n",
            "ARMADA\n",
            "MONSTERCAT\n",
            "STMPD\n"
          ]
        }
      ],
      "source": [
        "for record in records:\n",
        "\n",
        "    print(record.upper());"
      ]
    },
    {
      "cell_type": "code",
      "execution_count": 48,
      "metadata": {
        "colab": {
          "base_uri": "https://localhost:8080/"
        },
        "id": "ZORHwst67oKw",
        "outputId": "98baa259-7076-4cff-9069-0fc57b3c0e6a"
      },
      "outputs": [
        {
          "output_type": "stream",
          "name": "stdout",
          "text": [
            "Revealed\n",
            "Is EDM Records Label \n",
            "\n",
            "Spinnin\n",
            "Is EDM Records Label \n",
            "\n",
            "Armada\n",
            "Is EDM Records Label \n",
            "\n",
            "Monstercat\n",
            "Is EDM Records Label \n",
            "\n",
            "STMPD\n",
            "Is EDM Records Label \n",
            "\n"
          ]
        }
      ],
      "source": [
        "for record in records: # Indentation\n",
        "\n",
        "    print(record);\n",
        "\n",
        "    print(\"Is EDM Records Label \\n\"); # Print In The Umberella Of Indentation"
      ]
    },
    {
      "cell_type": "code",
      "execution_count": 49,
      "metadata": {
        "colab": {
          "base_uri": "https://localhost:8080/"
        },
        "id": "uJJ-4RqL7oKx",
        "outputId": "899332b1-84b8-486c-e732-9a0e16d69add"
      },
      "outputs": [
        {
          "output_type": "stream",
          "name": "stdout",
          "text": [
            "Revealed\n",
            "Spinnin\n",
            "Armada\n",
            "Monstercat\n",
            "STMPD\n",
            "Is EDM Records Label\n"
          ]
        }
      ],
      "source": [
        "for record in records:\n",
        "\n",
        "    print(record);\n",
        "\n",
        "print(\"Is EDM Records Label\"); # Print In Out Of Indentation"
      ]
    },
    {
      "cell_type": "code",
      "execution_count": 50,
      "metadata": {
        "colab": {
          "base_uri": "https://localhost:8080/"
        },
        "id": "NKop2ZZO7oKy",
        "outputId": "ffbcfd48-1268-4add-bedc-00d9d46e0d53"
      },
      "outputs": [
        {
          "output_type": "stream",
          "name": "stdout",
          "text": [
            "REVEALED\n",
            "Is Top Records Label \n",
            "\n",
            "STMPD\n",
            "Is Top Records Label \n",
            "\n",
            "SPINNIN\n",
            "Is Top Records Label \n",
            "\n"
          ]
        }
      ],
      "source": [
        "records: list[str] = [\"Revealed\", \"Stmpd\", \"Spinnin\", \"Armada\", \"Monstercat\"];\n",
        "\n",
        "for record in records[:3]: # Apply Slicing\n",
        "\n",
        "    print(record.upper());\n",
        "\n",
        "    print(\"Is Top Records Label \\n\");"
      ]
    },
    {
      "cell_type": "code",
      "execution_count": 51,
      "metadata": {
        "colab": {
          "base_uri": "https://localhost:8080/"
        },
        "id": "u7Qydval7oKz",
        "outputId": "161db3a6-0aec-4f87-b3b5-2b743eda1c1b"
      },
      "outputs": [
        {
          "output_type": "stream",
          "name": "stdout",
          "text": [
            "SPINNIN\n",
            "Is EDM Records Label \n",
            "\n",
            "ARMADA\n",
            "Is EDM Records Label \n",
            "\n",
            "MONSTERCAT\n",
            "Is EDM Records Label \n",
            "\n"
          ]
        }
      ],
      "source": [
        "records: list[str] = [\"Revealed\", \"Stmpd\", \"Spinnin\", \"Armada\", \"Monstercat\"];\n",
        "\n",
        "for record in records[-3:]:\n",
        "\n",
        "    print(record.upper());\n",
        "\n",
        "    print(\"Is EDM Records Label \\n\");"
      ]
    },
    {
      "cell_type": "code",
      "execution_count": 52,
      "metadata": {
        "colab": {
          "base_uri": "https://localhost:8080/"
        },
        "id": "9aysVJLG7oK1",
        "outputId": "81867d31-a05d-443a-d9e2-7f584cee07c0"
      },
      "outputs": [
        {
          "output_type": "stream",
          "name": "stdout",
          "text": [
            "MONSTERCAT\n",
            "Is EDM Records Label \n",
            "\n",
            "ARMADA\n",
            "Is EDM Records Label \n",
            "\n",
            "SPINNIN\n",
            "Is EDM Records Label \n",
            "\n",
            "STMPD\n",
            "Is EDM Records Label \n",
            "\n",
            "REVEALED\n",
            "Is EDM Records Label \n",
            "\n"
          ]
        }
      ],
      "source": [
        "records: list[str] = [\"Revealed\", \"Stmpd\", \"Spinnin\", \"Armada\", \"Monstercat\"];\n",
        "\n",
        "for record in records[::-1]:\n",
        "\n",
        "    print(record.upper());\n",
        "\n",
        "    print(\"Is EDM Records Label \\n\");"
      ]
    },
    {
      "cell_type": "code",
      "execution_count": 53,
      "metadata": {
        "colab": {
          "base_uri": "https://localhost:8080/"
        },
        "id": "nTf9xS8o7oK2",
        "outputId": "83f54d4d-d880-412c-d1a4-95a7b5c71350"
      },
      "outputs": [
        {
          "output_type": "stream",
          "name": "stdout",
          "text": [
            "('Ahmed', '456')\n",
            "('AHM X', '628')\n"
          ]
        }
      ],
      "source": [
        "data_base : list[tuple[str,str]] = [(\"Ahmed\",\"456\"), (\"AHM X\",\"628\")];\n",
        "\n",
        "for row in data_base:\n",
        "\n",
        "    print(row);"
      ]
    },
    {
      "cell_type": "code",
      "execution_count": 54,
      "metadata": {
        "colab": {
          "base_uri": "https://localhost:8080/"
        },
        "id": "7xEjkN-H7oK4",
        "outputId": "22b49ef1-f4f6-4806-e509-93b92ff99ab8"
      },
      "outputs": [
        {
          "output_type": "stream",
          "name": "stdout",
          "text": [
            "Ahmed 456\n",
            "AHM X 628\n"
          ]
        }
      ],
      "source": [
        "data_base : list[tuple[str,str]] = [(\"Ahmed\",\"456\"), (\"AHM X\",\"628\")];\n",
        "\n",
        "for row in data_base:\n",
        "\n",
        "    user, number = row;\n",
        "\n",
        "    print(user, number);"
      ]
    },
    {
      "cell_type": "code",
      "execution_count": 55,
      "metadata": {
        "colab": {
          "base_uri": "https://localhost:8080/"
        },
        "id": "To9sFYbu7oK5",
        "outputId": "b652bbc4-2c94-4e86-d4fe-ed544925c267"
      },
      "outputs": [
        {
          "output_type": "stream",
          "name": "stdout",
          "text": [
            "AHM X 628\n"
          ]
        }
      ],
      "source": [
        "data_base : list[tuple[str,str]] = [(\"Ahmed\",\"456\"), (\"AHM X\",\"628\")];\n",
        "\n",
        "for row in data_base:\n",
        "\n",
        "    user, number = row;\n",
        "\n",
        "print(user, number);"
      ]
    },
    {
      "cell_type": "code",
      "execution_count": 56,
      "metadata": {
        "colab": {
          "base_uri": "https://localhost:8080/"
        },
        "id": "cymp7oaZ7oK7",
        "outputId": "d001b6c8-dc3d-4b4b-868b-f0249341ed56"
      },
      "outputs": [
        {
          "output_type": "stream",
          "name": "stdout",
          "text": [
            "Enter User Name: Ahmed\n",
            "Ahmed\n"
          ]
        }
      ],
      "source": [
        "userName : str = input(\"Enter User Name: \");\n",
        "\n",
        "print(userName);"
      ]
    },
    {
      "cell_type": "code",
      "execution_count": 57,
      "metadata": {
        "colab": {
          "base_uri": "https://localhost:8080/"
        },
        "id": "bI2y4YzW7oK8",
        "outputId": "441a3a81-9892-468c-ebb4-8be5a4005f29"
      },
      "outputs": [
        {
          "output_type": "stream",
          "name": "stdout",
          "text": [
            "Enter User Name: AHM X\n",
            "Enter Roll Number: 628\n",
            "AHM X Is Valid User\n"
          ]
        }
      ],
      "source": [
        "data_base : list[tuple[str,str]] = [(\"Ahmed\",\"456\"), (\"AHM X\",\"628\"), (\"Yaseen\", \"197\")];\n",
        "\n",
        "userName : str = input(\"Enter User Name: \");\n",
        "\n",
        "rollNum : str = input(\"Enter Roll Number: \");\n",
        "\n",
        "for row in data_base:\n",
        "\n",
        "    user, number = row;\n",
        "\n",
        "    if userName == user and rollNum == number:\n",
        "\n",
        "        print(f\"{user} Is Valid User\");\n",
        "\n",
        "        break;\n",
        "\n",
        "else:\n",
        "\n",
        "    print(f\"Invalid User Name & Roll Number\");"
      ]
    },
    {
      "cell_type": "code",
      "execution_count": 58,
      "metadata": {
        "colab": {
          "base_uri": "https://localhost:8080/"
        },
        "id": "24v5gMd67oK8",
        "outputId": "cac641f5-0501-4e4a-edfb-66c5c696f20b"
      },
      "outputs": [
        {
          "output_type": "stream",
          "name": "stdout",
          "text": [
            "Ahmed\n",
            "Saleem\n",
            "Shaikh\n",
            "Ahmed Shaykh\n"
          ]
        }
      ],
      "source": [
        "names: list[str] = [\"Ahmed\", \"Saleem\", \"Shaikh\"];\n",
        "\n",
        "for name in names:\n",
        "\n",
        "    print(name);\n",
        "\n",
        "else:\n",
        "\n",
        "    print(\"Ahmed Shaykh\");"
      ]
    },
    {
      "cell_type": "code",
      "execution_count": 59,
      "metadata": {
        "colab": {
          "base_uri": "https://localhost:8080/"
        },
        "id": "xs7OlaCB7oK-",
        "outputId": "2ec8c728-57b3-462c-c888-a39a160f35c9"
      },
      "outputs": [
        {
          "output_type": "stream",
          "name": "stdout",
          "text": [
            "Ahmed\n",
            "Saleem\n",
            "Shaikh\n",
            "Ahmed Shaykh\n"
          ]
        }
      ],
      "source": [
        "names: list[str] = [\"Ahmed\", \"Saleem\", \"Shaikh\"];\n",
        "\n",
        "for name in names:\n",
        "\n",
        "    print(name);\n",
        "\n",
        "print(\"Ahmed Shaykh\");"
      ]
    },
    {
      "cell_type": "code",
      "execution_count": 60,
      "metadata": {
        "colab": {
          "base_uri": "https://localhost:8080/"
        },
        "id": "iLiwNbdH7oLA",
        "outputId": "f497c830-89ef-4285-ae2f-c375ac87482f"
      },
      "outputs": [
        {
          "output_type": "stream",
          "name": "stdout",
          "text": [
            "Ahmed\n"
          ]
        }
      ],
      "source": [
        "names: list[str] = [\"Ahmed\", \"Saleem\", \"Shaikh\"];\n",
        "\n",
        "for name in names:\n",
        "\n",
        "    print(name);\n",
        "\n",
        "    break;\n",
        "\n",
        "else:\n",
        "\n",
        "    print(\"Ahmed Shaykh\");"
      ]
    },
    {
      "cell_type": "code",
      "execution_count": 61,
      "metadata": {
        "colab": {
          "base_uri": "https://localhost:8080/"
        },
        "id": "IeijwrzJ7oLB",
        "outputId": "98c38e80-dd35-4746-9d5a-c786e8bd6e89"
      },
      "outputs": [
        {
          "output_type": "stream",
          "name": "stdout",
          "text": [
            "Ahmed\n",
            "Ahmed Shaykh\n"
          ]
        }
      ],
      "source": [
        "names: list[str] = [\"Ahmed\", \"Saleem\", \"Shaikh\"];\n",
        "\n",
        "for name in names:\n",
        "\n",
        "    print(name);\n",
        "\n",
        "    break;\n",
        "\n",
        "print(\"Ahmed Shaykh\");"
      ]
    },
    {
      "cell_type": "code",
      "execution_count": 62,
      "metadata": {
        "colab": {
          "base_uri": "https://localhost:8080/"
        },
        "id": "dDHKaJvU7oLC",
        "outputId": "6f6ff829-c9dd-4ef8-baf5-d72d6bfcdbb3"
      },
      "outputs": [
        {
          "output_type": "stream",
          "name": "stdout",
          "text": [
            "Alice, That Was A Great Trick! \n",
            "\n",
            "David, That Was A Great Trick! \n",
            "\n",
            "Carolina, That Was A Great Trick! \n",
            "\n",
            "I Can't Wait To See Your Next Trick, Carolina.\n"
          ]
        }
      ],
      "source": [
        "magicians: list[str] = [\"Alice\", \"David\", \"Carolina\"];\n",
        "\n",
        "for magician in magicians:\n",
        "\n",
        "    print(f\"{magician.title()}, That Was A Great Trick! \\n\");\n",
        "\n",
        "print(f\"I Can't Wait To See Your Next Trick, {magician.title()}.\");"
      ]
    },
    {
      "cell_type": "markdown",
      "metadata": {
        "id": "5A-ze4uC7oLD"
      },
      "source": [
        "# **Numbers With LOOP**"
      ]
    },
    {
      "cell_type": "code",
      "execution_count": 63,
      "metadata": {
        "colab": {
          "base_uri": "https://localhost:8080/"
        },
        "id": "7tKLUJjh7oLE",
        "outputId": "d1a28e3a-51eb-46dd-9799-6257ae509e25"
      },
      "outputs": [
        {
          "output_type": "execute_result",
          "data": {
            "text/plain": [
              "[(0, 'Alice'), (1, 'David'), (2, 'Carolina')]"
            ]
          },
          "metadata": {},
          "execution_count": 63
        }
      ],
      "source": [
        "magicians: list[str] = [\"Alice\", \"David\", \"Carolina\"];\n",
        "\n",
        "list(enumerate(magicians))"
      ]
    },
    {
      "cell_type": "code",
      "execution_count": 64,
      "metadata": {
        "colab": {
          "base_uri": "https://localhost:8080/"
        },
        "id": "T3YW0w2O7oLE",
        "outputId": "bd72322e-0603-4440-dc84-c8eea35bed11"
      },
      "outputs": [
        {
          "output_type": "stream",
          "name": "stdout",
          "text": [
            "0 Alice\n",
            "1 David\n",
            "2 Carolina\n"
          ]
        }
      ],
      "source": [
        "magicians: list[str] = [\"Alice\", \"David\", \"Carolina\"];\n",
        "\n",
        "for index, name in enumerate(magicians):\n",
        "\n",
        "    print(index, name);"
      ]
    },
    {
      "cell_type": "code",
      "execution_count": 65,
      "metadata": {
        "colab": {
          "base_uri": "https://localhost:8080/"
        },
        "id": "6OAuiEt17oLF",
        "outputId": "05c2cd12-05b5-494a-a178-d7bbfed675e5"
      },
      "outputs": [
        {
          "output_type": "execute_result",
          "data": {
            "text/plain": [
              "range(0, 10)"
            ]
          },
          "metadata": {},
          "execution_count": 65
        }
      ],
      "source": [
        "range(10)"
      ]
    },
    {
      "cell_type": "code",
      "execution_count": 66,
      "metadata": {
        "colab": {
          "base_uri": "https://localhost:8080/"
        },
        "id": "KvN8Sfo27oLG",
        "outputId": "504cf6ca-1814-416f-f32d-d9e8df1a83c4"
      },
      "outputs": [
        {
          "output_type": "execute_result",
          "data": {
            "text/plain": [
              "[0, 1, 2, 3, 4, 5, 6, 7, 8, 9]"
            ]
          },
          "metadata": {},
          "execution_count": 66
        }
      ],
      "source": [
        "list(range(10))"
      ]
    },
    {
      "cell_type": "code",
      "execution_count": 67,
      "metadata": {
        "colab": {
          "base_uri": "https://localhost:8080/"
        },
        "id": "Kd-Z7_WS7oLH",
        "outputId": "803e4822-67da-4cfa-c4a4-ced84232c8c4"
      },
      "outputs": [
        {
          "output_type": "execute_result",
          "data": {
            "text/plain": [
              "[2, 3, 4, 5, 6, 7, 8, 9]"
            ]
          },
          "metadata": {},
          "execution_count": 67
        }
      ],
      "source": [
        "list(range(2,10))"
      ]
    },
    {
      "cell_type": "code",
      "execution_count": 68,
      "metadata": {
        "colab": {
          "base_uri": "https://localhost:8080/"
        },
        "id": "Dyle57QR7oLI",
        "outputId": "d554f4c3-7541-4750-dc02-d92e88151389"
      },
      "outputs": [
        {
          "output_type": "execute_result",
          "data": {
            "text/plain": [
              "[2, 4, 6, 8, 10, 12, 14, 16, 18, 20]"
            ]
          },
          "metadata": {},
          "execution_count": 68
        }
      ],
      "source": [
        "list(range(2,21,2))"
      ]
    },
    {
      "cell_type": "code",
      "execution_count": 69,
      "metadata": {
        "colab": {
          "base_uri": "https://localhost:8080/"
        },
        "id": "5lRHT4b97oLJ",
        "outputId": "01826042-d662-4475-f564-53ff1f278ec7"
      },
      "outputs": [
        {
          "output_type": "stream",
          "name": "stdout",
          "text": [
            "2\n",
            "4\n",
            "6\n",
            "8\n",
            "10\n",
            "12\n",
            "14\n",
            "16\n",
            "18\n",
            "20\n"
          ]
        }
      ],
      "source": [
        "for n in range(2,21,2):\n",
        "\n",
        "    print(n);"
      ]
    },
    {
      "cell_type": "code",
      "execution_count": 70,
      "metadata": {
        "colab": {
          "base_uri": "https://localhost:8080/"
        },
        "id": "yIASOWmM7oLK",
        "outputId": "04a523bd-5dbe-48a7-bf5b-b168920fc9b4"
      },
      "outputs": [
        {
          "output_type": "stream",
          "name": "stdout",
          "text": [
            "2 X 1 = 2\n",
            "2 X 2 = 4\n",
            "2 X 3 = 6\n",
            "2 X 4 = 8\n",
            "2 X 5 = 10\n",
            "2 X 6 = 12\n",
            "2 X 7 = 14\n",
            "2 X 8 = 16\n",
            "2 X 9 = 18\n",
            "2 X 10 = 20\n"
          ]
        }
      ],
      "source": [
        "for n in range(1,11):\n",
        "\n",
        "    print(f\"{2} X {n} = {n*2}\");"
      ]
    },
    {
      "cell_type": "code",
      "execution_count": 71,
      "metadata": {
        "colab": {
          "base_uri": "https://localhost:8080/"
        },
        "id": "th58uNKB7oLK",
        "outputId": "08fc24bf-4d63-4e0e-c2c4-650cde6a5283"
      },
      "outputs": [
        {
          "output_type": "stream",
          "name": "stdout",
          "text": [
            "[1, 4, 9, 16, 25, 36, 49, 64, 81, 100]\n"
          ]
        }
      ],
      "source": [
        "squares: list[int] = [];\n",
        "\n",
        "for value in range(1, 11):\n",
        "\n",
        "    square = value ** 2;\n",
        "\n",
        "    squares.append(square);\n",
        "\n",
        "print(squares);"
      ]
    },
    {
      "cell_type": "markdown",
      "metadata": {
        "id": "GxyZ2LMf7oLL"
      },
      "source": [
        "# **List Comprehensive**"
      ]
    },
    {
      "cell_type": "code",
      "execution_count": 72,
      "metadata": {
        "colab": {
          "base_uri": "https://localhost:8080/"
        },
        "id": "cxZUaZS87oLN",
        "outputId": "5e7c5ba2-7c7d-430a-d972-0fa454f7e409"
      },
      "outputs": [
        {
          "output_type": "execute_result",
          "data": {
            "text/plain": [
              "[1, 2, 3, 4, 5, 6, 7, 8, 9, 10]"
            ]
          },
          "metadata": {},
          "execution_count": 72
        }
      ],
      "source": [
        "list(range(1,11))"
      ]
    },
    {
      "cell_type": "code",
      "execution_count": 73,
      "metadata": {
        "colab": {
          "base_uri": "https://localhost:8080/"
        },
        "id": "h30basqu7oLO",
        "outputId": "85eb6bed-f86a-4c00-bf68-0efe3a2577ea"
      },
      "outputs": [
        {
          "output_type": "stream",
          "name": "stdout",
          "text": [
            "1\n",
            "4\n",
            "9\n",
            "16\n",
            "25\n",
            "36\n",
            "49\n",
            "64\n",
            "81\n",
            "100\n"
          ]
        }
      ],
      "source": [
        "for i in range(1,11):\n",
        "\n",
        "    print(i ** 2);"
      ]
    },
    {
      "cell_type": "code",
      "execution_count": 74,
      "metadata": {
        "colab": {
          "base_uri": "https://localhost:8080/"
        },
        "id": "POOmnwZm7oLT",
        "outputId": "2ffcb409-7355-4add-abb9-653d96df2b42"
      },
      "outputs": [
        {
          "output_type": "execute_result",
          "data": {
            "text/plain": [
              "[1, 4, 9, 16, 25, 36, 49, 64, 81, 100]"
            ]
          },
          "metadata": {},
          "execution_count": 74
        }
      ],
      "source": [
        "[i ** 2 for i in range(1,11)]"
      ]
    },
    {
      "cell_type": "code",
      "execution_count": 75,
      "metadata": {
        "colab": {
          "base_uri": "https://localhost:8080/"
        },
        "id": "h9xdi4vI7oLU",
        "outputId": "0162e54d-dd09-4984-901e-dda4646118fa"
      },
      "outputs": [
        {
          "output_type": "stream",
          "name": "stdout",
          "text": [
            "[0, 1, 2, 3, 4, 5, 6, 7, 8, 9]\n",
            "9\n",
            "0\n",
            "45\n"
          ]
        }
      ],
      "source": [
        "digits:list[int] = [0, 1, 2, 3, 4, 5, 6, 7, 8, 9];\n",
        "\n",
        "print(digits);\n",
        "\n",
        "print(max(digits));\n",
        "\n",
        "print(min(digits));\n",
        "\n",
        "print(sum(digits));\n"
      ]
    },
    {
      "cell_type": "code",
      "execution_count": 76,
      "metadata": {
        "colab": {
          "base_uri": "https://localhost:8080/"
        },
        "id": "eCsySHfY7oLV",
        "outputId": "3e714586-96a5-4015-8103-bff8339970a4"
      },
      "outputs": [
        {
          "output_type": "stream",
          "name": "stdout",
          "text": [
            "['Pizza', 'Ice Cream', 'Cake']\n",
            "['Pizza', 'Ice Cream', 'Cake']\n",
            "['Pizza', 'Ice Cream', 'Cake']\n",
            "['Tikka', 'Ice Cream', 'Cake']\n"
          ]
        }
      ],
      "source": [
        "foods = [\"Pizza\", \"Ice Cream\", \"Cake\"];\n",
        "\n",
        "friendFoods = foods[:]; # Put List Brackets It's Convert Is Deep Copy\n",
        "\n",
        "print(foods);\n",
        "\n",
        "print(friendFoods);\n",
        "\n",
        "friendFoods[0] = \"Tikka\";\n",
        "\n",
        "print(foods);\n",
        "\n",
        "print(friendFoods);"
      ]
    },
    {
      "cell_type": "markdown",
      "metadata": {
        "id": "KhmvcpjO7oLW"
      },
      "source": [
        "# **Tuples**"
      ]
    },
    {
      "cell_type": "code",
      "execution_count": 77,
      "metadata": {
        "colab": {
          "base_uri": "https://localhost:8080/"
        },
        "id": "daWM4lma7oLX",
        "outputId": "6a4c7b73-5b61-46e5-b9d2-13447e03e027"
      },
      "outputs": [
        {
          "output_type": "stream",
          "name": "stdout",
          "text": [
            "A\n",
            "('A', 'B')\n"
          ]
        }
      ],
      "source": [
        "letters: tuple[str] = (\"A\",\"B\",\"C\"); # Tuple Immutable (Constant)\n",
        "\n",
        "print(letters[0]);\n",
        "\n",
        "print(letters[0:2]);"
      ]
    },
    {
      "cell_type": "code",
      "execution_count": 78,
      "metadata": {
        "colab": {
          "base_uri": "https://localhost:8080/"
        },
        "id": "BteXucjC7oLY",
        "outputId": "7c293126-effb-44ba-a245-36a5cd7221e0"
      },
      "outputs": [
        {
          "output_type": "stream",
          "name": "stdout",
          "text": [
            "('A', 'B', 'C')\n"
          ]
        }
      ],
      "source": [
        "letters: tuple[str] = (\"A\",\"B\",\"C\"); # Tuple Also No Value Update\n",
        "\n",
        "print(letters);\n",
        "\n",
        "letters: tuple[str] = (\"Pakistan\",\"B\",\"C\"); # Reassign Tuple (OverWrite)"
      ]
    },
    {
      "cell_type": "code",
      "execution_count": 79,
      "metadata": {
        "colab": {
          "base_uri": "https://localhost:8080/"
        },
        "id": "TWdXUldr7oLZ",
        "outputId": "3de32e08-f81b-425f-aa9a-1cb01dd1e48b"
      },
      "outputs": [
        {
          "output_type": "stream",
          "name": "stdout",
          "text": [
            "('Ahmed', 56, 7.8)\n"
          ]
        }
      ],
      "source": [
        "data: tuple[str, int, float] = (\"Ahmed\", 56, 7.8);\n",
        "\n",
        "print(data);"
      ]
    },
    {
      "cell_type": "code",
      "execution_count": 80,
      "metadata": {
        "colab": {
          "base_uri": "https://localhost:8080/"
        },
        "id": "UHaZquk77oLb",
        "outputId": "ce5571f1-e3f3-4bd6-c61a-8381bba2f5aa"
      },
      "outputs": [
        {
          "output_type": "stream",
          "name": "stdout",
          "text": [
            "('A', [1, 2, 3], True)\n"
          ]
        }
      ],
      "source": [
        "from typing import Any;\n",
        "\n",
        "data: tuple[Any] = (\"A\", [1,2,3], True);\n",
        "\n",
        "print(data);"
      ]
    },
    {
      "cell_type": "code",
      "execution_count": 81,
      "metadata": {
        "colab": {
          "base_uri": "https://localhost:8080/"
        },
        "id": "AagHT9_67oLb",
        "outputId": "32d86b49-cf2d-45d9-f40c-5766cad5359f"
      },
      "outputs": [
        {
          "output_type": "stream",
          "name": "stdout",
          "text": [
            "[1, 2, 3]\n",
            "('A', [1, 2, 3, 20], True)\n"
          ]
        }
      ],
      "source": [
        "data: tuple[Any] = (\"A\", [1,2,3], True);\n",
        "\n",
        "print(data[1]);\n",
        "\n",
        "data[1].append(20); # Because It's List\n",
        "\n",
        "print(data);"
      ]
    },
    {
      "cell_type": "code",
      "execution_count": 82,
      "metadata": {
        "colab": {
          "base_uri": "https://localhost:8080/"
        },
        "id": "QK-2P0uf7oLc",
        "outputId": "5ae4287b-9355-430a-a0d5-643df4645a08"
      },
      "outputs": [
        {
          "output_type": "stream",
          "name": "stdout",
          "text": [
            "Enter Value: AX\n",
            "<class 'str'>\n",
            "AX\n"
          ]
        }
      ],
      "source": [
        "val = input(\"Enter Value: \");\n",
        "\n",
        "print(type(val));\n",
        "\n",
        "print(val);"
      ]
    },
    {
      "cell_type": "code",
      "execution_count": 83,
      "metadata": {
        "colab": {
          "base_uri": "https://localhost:8080/"
        },
        "id": "sRy4pyXX7oLd",
        "outputId": "0d25cb12-a73e-4cc6-dcf7-956c55b3c9b4"
      },
      "outputs": [
        {
          "output_type": "stream",
          "name": "stdout",
          "text": [
            "[1, 3, 6, 7, 8]\n"
          ]
        }
      ],
      "source": [
        "sort: list[int] = sorted([7,8,1,3,6]);\n",
        "\n",
        "print(sort);"
      ]
    }
  ],
  "metadata": {
    "kernelspec": {
      "display_name": "base",
      "language": "python",
      "name": "python3"
    },
    "language_info": {
      "codemirror_mode": {
        "name": "ipython",
        "version": 3
      },
      "file_extension": ".py",
      "mimetype": "text/x-python",
      "name": "python",
      "nbconvert_exporter": "python",
      "pygments_lexer": "ipython3",
      "version": "3.12.0"
    },
    "colab": {
      "provenance": []
    }
  },
  "nbformat": 4,
  "nbformat_minor": 0
}