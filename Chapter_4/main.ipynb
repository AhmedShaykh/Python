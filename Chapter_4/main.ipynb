{
 "cells": [
  {
   "cell_type": "markdown",
   "metadata": {},
   "source": [
    "# **For LOOP**"
   ]
  },
  {
   "cell_type": "code",
   "execution_count": 1,
   "metadata": {},
   "outputs": [
    {
     "name": "stdout",
     "output_type": "stream",
     "text": [
      "['Revealed', 'Spinnin', 'Armada', 'Monstercat', 'STMPD']\n",
      "Revealed\n",
      "Spinnin\n",
      "Armada\n",
      "Monstercat\n",
      "STMPD\n"
     ]
    }
   ],
   "source": [
    "records: list[str] = [\"Revealed\", \"Spinnin\", \"Armada\", \"Monstercat\", \"STMPD\"];\n",
    "\n",
    "print(records);\n",
    "\n",
    "for record in records:\n",
    "    \n",
    "    print(record);"
   ]
  },
  {
   "cell_type": "code",
   "execution_count": 3,
   "metadata": {},
   "outputs": [
    {
     "name": "stdout",
     "output_type": "stream",
     "text": [
      "Revealed\n",
      "Spinnin\n",
      "Armada\n",
      "Monstercat\n",
      "STMPD\n"
     ]
    }
   ],
   "source": [
    "records: list[str] = [\"Revealed\", \"Spinnin\", \"Armada\", \"Monstercat\", \"STMPD\"];\n",
    "\n",
    "i: int = 0;\n",
    "\n",
    "while i < len(records):\n",
    "\n",
    "    print(records[i]);\n",
    "\n",
    "    i += 1;"
   ]
  },
  {
   "cell_type": "code",
   "execution_count": 4,
   "metadata": {},
   "outputs": [
    {
     "name": "stdout",
     "output_type": "stream",
     "text": [
      "REVEALED\n",
      "SPINNIN\n",
      "ARMADA\n",
      "MONSTERCAT\n",
      "STMPD\n"
     ]
    }
   ],
   "source": [
    "for record in records:\n",
    "    \n",
    "    print(record.upper());"
   ]
  },
  {
   "cell_type": "code",
   "execution_count": 7,
   "metadata": {},
   "outputs": [
    {
     "name": "stdout",
     "output_type": "stream",
     "text": [
      "Revealed\n",
      "Is EDM Records Label \n",
      "\n",
      "Spinnin\n",
      "Is EDM Records Label \n",
      "\n",
      "Armada\n",
      "Is EDM Records Label \n",
      "\n",
      "Monstercat\n",
      "Is EDM Records Label \n",
      "\n",
      "STMPD\n",
      "Is EDM Records Label \n",
      "\n"
     ]
    }
   ],
   "source": [
    "for record in records: # Indentation\n",
    "    \n",
    "    print(record);\n",
    "\n",
    "    print(\"Is EDM Records Label \\n\"); # Print In The Umberella Of Indentation"
   ]
  },
  {
   "cell_type": "code",
   "execution_count": 9,
   "metadata": {},
   "outputs": [
    {
     "name": "stdout",
     "output_type": "stream",
     "text": [
      "Revealed\n",
      "Spinnin\n",
      "Armada\n",
      "Monstercat\n",
      "STMPD\n",
      "Is EDM Records Label\n"
     ]
    }
   ],
   "source": [
    "for record in records:\n",
    "    \n",
    "    print(record);\n",
    "\n",
    "print(\"Is EDM Records Label\"); # Print In Out Of Indentation"
   ]
  },
  {
   "cell_type": "code",
   "execution_count": 10,
   "metadata": {},
   "outputs": [
    {
     "name": "stdout",
     "output_type": "stream",
     "text": [
      "REVEALED\n",
      "Is Top Records Label \n",
      "\n",
      "STMPD\n",
      "Is Top Records Label \n",
      "\n",
      "SPINNIN\n",
      "Is Top Records Label \n",
      "\n"
     ]
    }
   ],
   "source": [
    "records: list[str] = [\"Revealed\", \"Stmpd\", \"Spinnin\", \"Armada\", \"Monstercat\"];\n",
    "\n",
    "for record in records[:3]: # Apply Slicing\n",
    "    \n",
    "    print(record.upper());\n",
    "\n",
    "    print(\"Is Top Records Label \\n\");"
   ]
  },
  {
   "cell_type": "code",
   "execution_count": 11,
   "metadata": {},
   "outputs": [
    {
     "name": "stdout",
     "output_type": "stream",
     "text": [
      "SPINNIN\n",
      "Is EDM Records Label \n",
      "\n",
      "ARMADA\n",
      "Is EDM Records Label \n",
      "\n",
      "MONSTERCAT\n",
      "Is EDM Records Label \n",
      "\n"
     ]
    }
   ],
   "source": [
    "records: list[str] = [\"Revealed\", \"Stmpd\", \"Spinnin\", \"Armada\", \"Monstercat\"];\n",
    "\n",
    "for record in records[-3:]:\n",
    "    \n",
    "    print(record.upper());\n",
    "\n",
    "    print(\"Is EDM Records Label \\n\");"
   ]
  },
  {
   "cell_type": "code",
   "execution_count": 12,
   "metadata": {},
   "outputs": [
    {
     "name": "stdout",
     "output_type": "stream",
     "text": [
      "MONSTERCAT\n",
      "Is EDM Records Label \n",
      "\n",
      "ARMADA\n",
      "Is EDM Records Label \n",
      "\n",
      "SPINNIN\n",
      "Is EDM Records Label \n",
      "\n",
      "STMPD\n",
      "Is EDM Records Label \n",
      "\n",
      "REVEALED\n",
      "Is EDM Records Label \n",
      "\n"
     ]
    }
   ],
   "source": [
    "records: list[str] = [\"Revealed\", \"Stmpd\", \"Spinnin\", \"Armada\", \"Monstercat\"];\n",
    "\n",
    "for record in records[::-1]:\n",
    "    \n",
    "    print(record.upper());\n",
    "\n",
    "    print(\"Is EDM Records Label \\n\");"
   ]
  },
  {
   "cell_type": "code",
   "execution_count": 13,
   "metadata": {},
   "outputs": [
    {
     "name": "stdout",
     "output_type": "stream",
     "text": [
      "('Ahmed', '456')\n",
      "('Bilal', '628')\n"
     ]
    }
   ],
   "source": [
    "data_base : list[tuple[str,str]] = [(\"Ahmed\",\"456\"), (\"Bilal\",\"628\")];\n",
    "\n",
    "for row in data_base:\n",
    "    \n",
    "    print(row);"
   ]
  },
  {
   "cell_type": "code",
   "execution_count": 16,
   "metadata": {},
   "outputs": [
    {
     "name": "stdout",
     "output_type": "stream",
     "text": [
      "Ahmed 456\n",
      "Bilal 628\n"
     ]
    }
   ],
   "source": [
    "data_base : list[tuple[str,str]] = [(\"Ahmed\",\"456\"), (\"Bilal\",\"628\")];\n",
    "\n",
    "for row in data_base:\n",
    "    \n",
    "    user, number = row;\n",
    "\n",
    "    print(user, number);"
   ]
  },
  {
   "cell_type": "code",
   "execution_count": 19,
   "metadata": {},
   "outputs": [
    {
     "name": "stdout",
     "output_type": "stream",
     "text": [
      "Bilal 628\n"
     ]
    }
   ],
   "source": [
    "data_base : list[tuple[str,str]] = [(\"Ahmed\",\"456\"), (\"Bilal\",\"628\")];\n",
    "\n",
    "for row in data_base:\n",
    "    \n",
    "    user, number = row;\n",
    "\n",
    "print(user, number);"
   ]
  },
  {
   "cell_type": "code",
   "execution_count": 20,
   "metadata": {},
   "outputs": [
    {
     "name": "stdout",
     "output_type": "stream",
     "text": [
      "AHM X\n"
     ]
    }
   ],
   "source": [
    "userName : str = input(\"Enter User Name\");\n",
    "\n",
    "print(userName);"
   ]
  },
  {
   "cell_type": "code",
   "execution_count": 22,
   "metadata": {},
   "outputs": [
    {
     "name": "stdout",
     "output_type": "stream",
     "text": [
      "Ahmed Is Valid User\n"
     ]
    }
   ],
   "source": [
    "data_base : list[tuple[str,str]] = [(\"Ahmed\",\"456\"), (\"Bilal\",\"628\"), (\"Yaseen\", \"197\")];\n",
    "\n",
    "userName : str = input(\"Enter User Name\");\n",
    "\n",
    "rollNum : str = input(\"Enter Roll Number\");\n",
    "\n",
    "for row in data_base:\n",
    "\n",
    "    user, number = row;\n",
    "\n",
    "    if userName == user and rollNum == number:\n",
    "\n",
    "        print(f\"{user} Is Valid User\");\n",
    "\n",
    "        break;\n",
    "\n",
    "else:\n",
    "\n",
    "    print(f\"Invalid User Name & Roll Number\");"
   ]
  },
  {
   "cell_type": "code",
   "execution_count": 23,
   "metadata": {},
   "outputs": [
    {
     "name": "stdout",
     "output_type": "stream",
     "text": [
      "Ahmed\n",
      "Saleem\n",
      "Shaikh\n",
      "Ahmed Shaykh\n"
     ]
    }
   ],
   "source": [
    "names: list[str] = [\"Ahmed\", \"Saleem\", \"Shaikh\"];\n",
    "\n",
    "for name in names:\n",
    "\n",
    "    print(name);\n",
    "\n",
    "else:\n",
    "\n",
    "    print(\"Ahmed Shaykh\");"
   ]
  },
  {
   "cell_type": "code",
   "execution_count": 24,
   "metadata": {},
   "outputs": [
    {
     "name": "stdout",
     "output_type": "stream",
     "text": [
      "Ahmed\n",
      "Saleem\n",
      "Shaikh\n",
      "Ahmed Shaykh\n"
     ]
    }
   ],
   "source": [
    "names: list[str] = [\"Ahmed\", \"Saleem\", \"Shaikh\"];\n",
    "\n",
    "for name in names:\n",
    "\n",
    "    print(name);\n",
    "\n",
    "print(\"Ahmed Shaykh\");"
   ]
  },
  {
   "cell_type": "code",
   "execution_count": 27,
   "metadata": {},
   "outputs": [
    {
     "name": "stdout",
     "output_type": "stream",
     "text": [
      "Ahmed\n"
     ]
    }
   ],
   "source": [
    "names: list[str] = [\"Ahmed\", \"Saleem\", \"Shaikh\"];\n",
    "\n",
    "for name in names:\n",
    "\n",
    "    print(name);\n",
    "\n",
    "    break;\n",
    "\n",
    "else:\n",
    "\n",
    "    print(\"Ahmed Shaykh\");"
   ]
  },
  {
   "cell_type": "code",
   "execution_count": 33,
   "metadata": {},
   "outputs": [
    {
     "name": "stdout",
     "output_type": "stream",
     "text": [
      "Ahmed\n",
      "Ahmed Shaykh\n"
     ]
    }
   ],
   "source": [
    "names: list[str] = [\"Ahmed\", \"Saleem\", \"Shaikh\"];\n",
    "\n",
    "for name in names:\n",
    "\n",
    "    print(name);\n",
    "\n",
    "    break;\n",
    "\n",
    "print(\"Ahmed Shaykh\");"
   ]
  },
  {
   "cell_type": "code",
   "execution_count": 34,
   "metadata": {},
   "outputs": [
    {
     "name": "stdout",
     "output_type": "stream",
     "text": [
      "Alice, That Was A Great Trick! \n",
      "\n",
      "David, That Was A Great Trick! \n",
      "\n",
      "Carolina, That Was A Great Trick! \n",
      "\n",
      "I Can't Wait To See Your Next Trick, Carolina.\n"
     ]
    }
   ],
   "source": [
    "magicians: list[str] = [\"Alice\", \"David\", \"Carolina\"];\n",
    "\n",
    "for magician in magicians:\n",
    "\n",
    "    print(f\"{magician.title()}, That Was A Great Trick! \\n\");\n",
    "    \n",
    "print(f\"I Can't Wait To See Your Next Trick, {magician.title()}.\");"
   ]
  },
  {
   "cell_type": "markdown",
   "metadata": {},
   "source": [
    "# **Numbers With LOOP**"
   ]
  },
  {
   "cell_type": "code",
   "execution_count": 41,
   "metadata": {},
   "outputs": [
    {
     "data": {
      "text/plain": [
       "[(0, 'Alice'), (1, 'David'), (2, 'Carolina')]"
      ]
     },
     "execution_count": 41,
     "metadata": {},
     "output_type": "execute_result"
    }
   ],
   "source": [
    "magicians: list[str] = [\"Alice\", \"David\", \"Carolina\"];\n",
    "\n",
    "list(enumerate(magicians))"
   ]
  },
  {
   "cell_type": "code",
   "execution_count": 36,
   "metadata": {},
   "outputs": [
    {
     "name": "stdout",
     "output_type": "stream",
     "text": [
      "0 Alice\n",
      "1 David\n",
      "2 Carolina\n"
     ]
    }
   ],
   "source": [
    "magicians: list[str] = [\"Alice\", \"David\", \"Carolina\"];\n",
    "\n",
    "for index, name in enumerate(magicians):\n",
    "\n",
    "    print(index, name);"
   ]
  },
  {
   "cell_type": "code",
   "execution_count": 34,
   "metadata": {},
   "outputs": [
    {
     "data": {
      "text/plain": [
       "range(0, 10)"
      ]
     },
     "execution_count": 34,
     "metadata": {},
     "output_type": "execute_result"
    }
   ],
   "source": [
    "range(10)"
   ]
  },
  {
   "cell_type": "code",
   "execution_count": 37,
   "metadata": {},
   "outputs": [
    {
     "data": {
      "text/plain": [
       "[0, 1, 2, 3, 4, 5, 6, 7, 8, 9]"
      ]
     },
     "execution_count": 37,
     "metadata": {},
     "output_type": "execute_result"
    }
   ],
   "source": [
    "list(range(10))"
   ]
  },
  {
   "cell_type": "code",
   "execution_count": 38,
   "metadata": {},
   "outputs": [
    {
     "data": {
      "text/plain": [
       "[2, 3, 4, 5, 6, 7, 8, 9]"
      ]
     },
     "execution_count": 38,
     "metadata": {},
     "output_type": "execute_result"
    }
   ],
   "source": [
    "list(range(2,10))"
   ]
  },
  {
   "cell_type": "code",
   "execution_count": 39,
   "metadata": {},
   "outputs": [
    {
     "data": {
      "text/plain": [
       "[2, 4, 6, 8, 10, 12, 14, 16, 18, 20]"
      ]
     },
     "execution_count": 39,
     "metadata": {},
     "output_type": "execute_result"
    }
   ],
   "source": [
    "list(range(2,21,2))"
   ]
  },
  {
   "cell_type": "code",
   "execution_count": 41,
   "metadata": {},
   "outputs": [
    {
     "name": "stdout",
     "output_type": "stream",
     "text": [
      "2\n",
      "4\n",
      "6\n",
      "8\n",
      "10\n",
      "12\n",
      "14\n",
      "16\n",
      "18\n",
      "20\n"
     ]
    }
   ],
   "source": [
    "for n in range(2,21,2):\n",
    "\n",
    "    print(n);"
   ]
  },
  {
   "cell_type": "code",
   "execution_count": 42,
   "metadata": {},
   "outputs": [
    {
     "name": "stdout",
     "output_type": "stream",
     "text": [
      "2 X 1 = 2\n",
      "2 X 2 = 4\n",
      "2 X 3 = 6\n",
      "2 X 4 = 8\n",
      "2 X 5 = 10\n",
      "2 X 6 = 12\n",
      "2 X 7 = 14\n",
      "2 X 8 = 16\n",
      "2 X 9 = 18\n",
      "2 X 10 = 20\n"
     ]
    }
   ],
   "source": [
    "for n in range(1,11):\n",
    "\n",
    "    print(f\"{2} X {n} = {n*2}\");"
   ]
  },
  {
   "cell_type": "code",
   "execution_count": 71,
   "metadata": {},
   "outputs": [
    {
     "name": "stdout",
     "output_type": "stream",
     "text": [
      "[1, 4, 9, 16, 25, 36, 49, 64, 81, 100]\n"
     ]
    }
   ],
   "source": [
    "squares: list[int] = [];\n",
    "\n",
    "for value in range(1, 11):\n",
    "\n",
    "    square = value ** 2;\n",
    "\n",
    "    squares.append(square);\n",
    "\n",
    "print(squares);"
   ]
  },
  {
   "cell_type": "markdown",
   "metadata": {},
   "source": [
    "# **List Comprehensive**"
   ]
  },
  {
   "cell_type": "code",
   "execution_count": 45,
   "metadata": {},
   "outputs": [
    {
     "data": {
      "text/plain": [
       "[1, 2, 3, 4, 5, 6, 7, 8, 9, 10]"
      ]
     },
     "execution_count": 45,
     "metadata": {},
     "output_type": "execute_result"
    }
   ],
   "source": [
    "list(range(1,11))"
   ]
  },
  {
   "cell_type": "code",
   "execution_count": 47,
   "metadata": {},
   "outputs": [
    {
     "name": "stdout",
     "output_type": "stream",
     "text": [
      "1\n",
      "4\n",
      "9\n",
      "16\n",
      "25\n",
      "36\n",
      "49\n",
      "64\n",
      "81\n",
      "100\n"
     ]
    }
   ],
   "source": [
    "for i in range(1,11):\n",
    "\n",
    "    print(i ** 2);"
   ]
  },
  {
   "cell_type": "code",
   "execution_count": 50,
   "metadata": {},
   "outputs": [
    {
     "data": {
      "text/plain": [
       "[1, 4, 9, 16, 25, 36, 49, 64, 81, 100]"
      ]
     },
     "execution_count": 50,
     "metadata": {},
     "output_type": "execute_result"
    }
   ],
   "source": [
    "[i ** 2 for i in range(1,11)]"
   ]
  },
  {
   "cell_type": "code",
   "execution_count": 51,
   "metadata": {},
   "outputs": [
    {
     "name": "stdout",
     "output_type": "stream",
     "text": [
      "[0, 1, 2, 3, 4, 5, 6, 7, 8, 9]\n",
      "9\n",
      "0\n",
      "45\n"
     ]
    }
   ],
   "source": [
    "digits:list[int] = [0, 1, 2, 3, 4, 5, 6, 7, 8, 9];\n",
    "\n",
    "print(digits);\n",
    "\n",
    "print(max(digits));\n",
    "\n",
    "print(min(digits));\n",
    "\n",
    "print(sum(digits));\n"
   ]
  },
  {
   "cell_type": "code",
   "execution_count": 56,
   "metadata": {},
   "outputs": [
    {
     "name": "stdout",
     "output_type": "stream",
     "text": [
      "['Pizza', 'Ice Cream', 'Cake']\n",
      "['Pizza', 'Ice Cream', 'Cake']\n",
      "['Pizza', 'Ice Cream', 'Cake']\n",
      "['Tikka', 'Ice Cream', 'Cake']\n"
     ]
    }
   ],
   "source": [
    "foods = [\"Pizza\", \"Ice Cream\", \"Cake\"];\n",
    "\n",
    "friendFoods = foods[:]; # Put List Brackets It's Convert Is Deep Copy\n",
    "\n",
    "print(foods);\n",
    "\n",
    "print(friendFoods);\n",
    "\n",
    "friendFoods[0] = \"Tikka\";\n",
    "\n",
    "print(foods);\n",
    "\n",
    "print(friendFoods);"
   ]
  },
  {
   "cell_type": "markdown",
   "metadata": {},
   "source": [
    "# **Tuples**"
   ]
  },
  {
   "cell_type": "code",
   "execution_count": 57,
   "metadata": {},
   "outputs": [
    {
     "name": "stdout",
     "output_type": "stream",
     "text": [
      "A\n",
      "('A', 'B')\n"
     ]
    }
   ],
   "source": [
    "letters: tuple[str] = (\"A\",\"B\",\"C\"); # Tuple Immutable (Constant)\n",
    "\n",
    "print(letters[0]);\n",
    "\n",
    "print(letters[0:2]);"
   ]
  },
  {
   "cell_type": "code",
   "execution_count": 59,
   "metadata": {},
   "outputs": [
    {
     "name": "stdout",
     "output_type": "stream",
     "text": [
      "('A', 'B', 'C')\n"
     ]
    }
   ],
   "source": [
    "letters: tuple[str] = (\"A\",\"B\",\"C\"); # Tuple Also No Value Update\n",
    "\n",
    "print(letters);\n",
    "\n",
    "letters: tuple[str] = (\"Pakistan\",\"B\",\"C\"); # Reassign Tuple (OverWrite)"
   ]
  },
  {
   "cell_type": "code",
   "execution_count": 61,
   "metadata": {},
   "outputs": [
    {
     "name": "stdout",
     "output_type": "stream",
     "text": [
      "('Ahmed', 56, 7)\n"
     ]
    }
   ],
   "source": [
    "data: tuple[str, int, float] = (\"Ahmed\", 56, 7.8);\n",
    "\n",
    "print(data);"
   ]
  },
  {
   "cell_type": "code",
   "execution_count": 63,
   "metadata": {},
   "outputs": [
    {
     "name": "stdout",
     "output_type": "stream",
     "text": [
      "('A', [1, 2, 3], True)\n"
     ]
    }
   ],
   "source": [
    "from typing import Any;\n",
    "\n",
    "data: tuple[Any] = (\"A\", [1,2,3], True);\n",
    "\n",
    "print(data);"
   ]
  },
  {
   "cell_type": "code",
   "execution_count": 74,
   "metadata": {},
   "outputs": [
    {
     "name": "stdout",
     "output_type": "stream",
     "text": [
      "[1, 2, 3]\n",
      "('A', [1, 2, 3, 20], True)\n"
     ]
    }
   ],
   "source": [
    "data: tuple[Any] = (\"A\", [1,2,3], True);\n",
    "\n",
    "print(data[1]);\n",
    "\n",
    "data[1].append(20); # Because It's List\n",
    "\n",
    "print(data);"
   ]
  },
  {
   "cell_type": "code",
   "execution_count": 69,
   "metadata": {},
   "outputs": [
    {
     "name": "stdout",
     "output_type": "stream",
     "text": [
      "<class 'str'>\n",
      "True\n"
     ]
    }
   ],
   "source": [
    "val = input(\"Enter Value\");\n",
    "\n",
    "print(type(val));\n",
    "\n",
    "print(val);"
   ]
  },
  {
   "cell_type": "code",
   "execution_count": 70,
   "metadata": {},
   "outputs": [
    {
     "name": "stdout",
     "output_type": "stream",
     "text": [
      "[1, 3, 6, 7, 8]\n"
     ]
    }
   ],
   "source": [
    "sort: list[int] = sorted([7,8,1,3,6]);\n",
    "\n",
    "print(sort);"
   ]
  }
 ],
 "metadata": {
  "kernelspec": {
   "display_name": "base",
   "language": "python",
   "name": "python3"
  },
  "language_info": {
   "codemirror_mode": {
    "name": "ipython",
    "version": 3
   },
   "file_extension": ".py",
   "mimetype": "text/x-python",
   "name": "python",
   "nbconvert_exporter": "python",
   "pygments_lexer": "ipython3",
   "version": "3.12.0"
  }
 },
 "nbformat": 4,
 "nbformat_minor": 2
}
