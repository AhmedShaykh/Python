{
 "cells": [
  {
   "cell_type": "markdown",
   "metadata": {},
   "source": [
    "# **For LOOP**"
   ]
  },
  {
   "cell_type": "code",
   "execution_count": 8,
   "metadata": {},
   "outputs": [
    {
     "name": "stdout",
     "output_type": "stream",
     "text": [
      "['Revealed', 'Spinnin', 'Armada', 'Monstercat', 'STMPD']\n",
      "Revealed\n",
      "Spinnin\n",
      "Armada\n",
      "Monstercat\n",
      "STMPD\n"
     ]
    }
   ],
   "source": [
    "records: list[str] = [\"Revealed\", \"Spinnin\", \"Armada\", \"Monstercat\", \"STMPD\"];\n",
    "\n",
    "print(records);\n",
    "\n",
    "for record in records:\n",
    "    \n",
    "    print(record);"
   ]
  },
  {
   "cell_type": "code",
   "execution_count": 9,
   "metadata": {},
   "outputs": [
    {
     "name": "stdout",
     "output_type": "stream",
     "text": [
      "Revealed\n",
      "Spinnin\n",
      "Armada\n",
      "Monstercat\n",
      "STMPD\n"
     ]
    }
   ],
   "source": [
    "records: list[str] = [\"Revealed\", \"Spinnin\", \"Armada\", \"Monstercat\", \"STMPD\"];\n",
    "\n",
    "i: int = 0;\n",
    "\n",
    "while i < len(records):\n",
    "\n",
    "    print(records[i]);\n",
    "\n",
    "    i += 1;"
   ]
  },
  {
   "cell_type": "code",
   "execution_count": 10,
   "metadata": {},
   "outputs": [
    {
     "name": "stdout",
     "output_type": "stream",
     "text": [
      "REVEALED\n",
      "SPINNIN\n",
      "ARMADA\n",
      "MONSTERCAT\n",
      "STMPD\n"
     ]
    }
   ],
   "source": [
    "for record in records:\n",
    "    \n",
    "    print(record.upper());"
   ]
  },
  {
   "cell_type": "code",
   "execution_count": 11,
   "metadata": {},
   "outputs": [
    {
     "name": "stdout",
     "output_type": "stream",
     "text": [
      "Revealed\n",
      "Is EDM Records Labels \n",
      "\n",
      "Spinnin\n",
      "Is EDM Records Labels \n",
      "\n",
      "Armada\n",
      "Is EDM Records Labels \n",
      "\n",
      "Monstercat\n",
      "Is EDM Records Labels \n",
      "\n",
      "STMPD\n",
      "Is EDM Records Labels \n",
      "\n"
     ]
    }
   ],
   "source": [
    "for record in records: # Indentation\n",
    "    \n",
    "    print(record);\n",
    "\n",
    "    print(\"Is EDM Records Labels \\n\"); # Print In The Umberella Of Indentation"
   ]
  },
  {
   "cell_type": "code",
   "execution_count": 12,
   "metadata": {},
   "outputs": [
    {
     "name": "stdout",
     "output_type": "stream",
     "text": [
      "Revealed\n",
      "Spinnin\n",
      "Armada\n",
      "Monstercat\n",
      "STMPD\n",
      "Is EDM Records Labels\n"
     ]
    }
   ],
   "source": [
    "for record in records:\n",
    "    \n",
    "    print(record);\n",
    "\n",
    "print(\"Is EDM Records Labels\"); # Print In Out Of Indentation"
   ]
  },
  {
   "cell_type": "code",
   "execution_count": 13,
   "metadata": {},
   "outputs": [
    {
     "name": "stdout",
     "output_type": "stream",
     "text": [
      "REVEALED\n",
      "Is Top Records Labels \n",
      "\n",
      "STMPD\n",
      "Is Top Records Labels \n",
      "\n",
      "SPINNIN\n",
      "Is Top Records Labels \n",
      "\n"
     ]
    }
   ],
   "source": [
    "records: list[str] = [\"Revealed\", \"Stmpd\", \"Spinnin\", \"Armada\", \"Monstercat\"];\n",
    "\n",
    "for record in records[:3]:\n",
    "    \n",
    "    print(record.upper());\n",
    "\n",
    "    print(\"Is Top Records Labels \\n\");"
   ]
  },
  {
   "cell_type": "code",
   "execution_count": 14,
   "metadata": {},
   "outputs": [
    {
     "name": "stdout",
     "output_type": "stream",
     "text": [
      "SPINNIN\n",
      "Is EDM Records Labels \n",
      "\n",
      "ARMADA\n",
      "Is EDM Records Labels \n",
      "\n",
      "MONSTERCAT\n",
      "Is EDM Records Labels \n",
      "\n"
     ]
    }
   ],
   "source": [
    "records: list[str] = [\"Revealed\", \"Stmpd\", \"Spinnin\", \"Armada\", \"Monstercat\"];\n",
    "\n",
    "for record in records[-3:]:\n",
    "    \n",
    "    print(record.upper());\n",
    "\n",
    "    print(\"Is EDM Records Labels \\n\");"
   ]
  },
  {
   "cell_type": "code",
   "execution_count": 15,
   "metadata": {},
   "outputs": [
    {
     "name": "stdout",
     "output_type": "stream",
     "text": [
      "MONSTERCAT\n",
      "Is EDM Records Labels \n",
      "\n",
      "ARMADA\n",
      "Is EDM Records Labels \n",
      "\n",
      "SPINNIN\n",
      "Is EDM Records Labels \n",
      "\n",
      "STMPD\n",
      "Is EDM Records Labels \n",
      "\n",
      "REVEALED\n",
      "Is EDM Records Labels \n",
      "\n"
     ]
    }
   ],
   "source": [
    "records: list[str] = [\"Revealed\", \"Stmpd\", \"Spinnin\", \"Armada\", \"Monstercat\"];\n",
    "\n",
    "for record in records[::-1]:\n",
    "    \n",
    "    print(record.upper());\n",
    "\n",
    "    print(\"Is EDM Records Labels \\n\");"
   ]
  },
  {
   "cell_type": "code",
   "execution_count": 16,
   "metadata": {},
   "outputs": [
    {
     "name": "stdout",
     "output_type": "stream",
     "text": [
      "('Ahmed', '456')\n",
      "('Bilal', '628')\n"
     ]
    }
   ],
   "source": [
    "data_base : list[tuple[str,str]] = [(\"Ahmed\",\"456\"), (\"Bilal\",\"628\")];\n",
    "\n",
    "for row in data_base:\n",
    "    \n",
    "    print(row);"
   ]
  },
  {
   "cell_type": "code",
   "execution_count": 17,
   "metadata": {},
   "outputs": [
    {
     "name": "stdout",
     "output_type": "stream",
     "text": [
      "Ahmed 456\n",
      "Bilal 628\n"
     ]
    }
   ],
   "source": [
    "data_base : list[tuple[str,str]] = [(\"Ahmed\",\"456\"), (\"Bilal\",\"628\")];\n",
    "\n",
    "for row in data_base:\n",
    "    \n",
    "    user, number = row;\n",
    "\n",
    "    print(user, number);"
   ]
  },
  {
   "cell_type": "code",
   "execution_count": 18,
   "metadata": {},
   "outputs": [
    {
     "name": "stdout",
     "output_type": "stream",
     "text": [
      "Bilal 628\n"
     ]
    }
   ],
   "source": [
    "data_base : list[tuple[str,str]] = [(\"Ahmed\",\"456\"), (\"Bilal\",\"628\")];\n",
    "\n",
    "for row in data_base:\n",
    "    \n",
    "    user, number = row;\n",
    "\n",
    "print(user, number);"
   ]
  },
  {
   "cell_type": "code",
   "execution_count": 19,
   "metadata": {},
   "outputs": [
    {
     "name": "stdout",
     "output_type": "stream",
     "text": [
      "AHM X\n"
     ]
    }
   ],
   "source": [
    "userName : str = input(\"Enter User Name\");\n",
    "\n",
    "print(userName);"
   ]
  },
  {
   "cell_type": "code",
   "execution_count": 20,
   "metadata": {},
   "outputs": [
    {
     "name": "stdout",
     "output_type": "stream",
     "text": [
      "Ahmed Is Valid User\n"
     ]
    }
   ],
   "source": [
    "data_base : list[tuple[str,str]] = [(\"Ahmed\",\"456\"), (\"Bilal\",\"628\"), (\"Yaseen\", \"197\")];\n",
    "\n",
    "userName : str = input(\"Enter User Name\");\n",
    "\n",
    "rollNum : str = input(\"Enter Roll Number\");\n",
    "\n",
    "for row in data_base:\n",
    "\n",
    "    user, number = row;\n",
    "\n",
    "    if userName == user and rollNum == number:\n",
    "\n",
    "        print(f\"{user} Is Valid User\");\n",
    "\n",
    "        break;\n",
    "\n",
    "else:\n",
    "\n",
    "    print(f\"Invalid User Name & Roll Number\");"
   ]
  },
  {
   "cell_type": "code",
   "execution_count": 23,
   "metadata": {},
   "outputs": [
    {
     "name": "stdout",
     "output_type": "stream",
     "text": [
      "Ahmed\n",
      "Saleem\n",
      "Shaikh\n",
      "Ahmed Shaykh\n"
     ]
    }
   ],
   "source": [
    "names: list[str] = [\"Ahmed\", \"Saleem\", \"Shaikh\"];\n",
    "\n",
    "for name in names:\n",
    "\n",
    "    print(name);\n",
    "\n",
    "else:\n",
    "\n",
    "    print(\"Ahmed Shaykh\");"
   ]
  },
  {
   "cell_type": "code",
   "execution_count": 25,
   "metadata": {},
   "outputs": [
    {
     "name": "stdout",
     "output_type": "stream",
     "text": [
      "Ahmed\n",
      "Saleem\n",
      "Shaikh\n",
      "Ahmed Shaykh\n"
     ]
    }
   ],
   "source": [
    "names: list[str] = [\"Ahmed\", \"Saleem\", \"Shaikh\"];\n",
    "\n",
    "for name in names:\n",
    "\n",
    "    print(name);\n",
    "\n",
    "print(\"Ahmed Shaykh\");"
   ]
  },
  {
   "cell_type": "code",
   "execution_count": 29,
   "metadata": {},
   "outputs": [
    {
     "name": "stdout",
     "output_type": "stream",
     "text": [
      "Ahmed\n"
     ]
    }
   ],
   "source": [
    "names: list[str] = [\"Ahmed\", \"Saleem\", \"Shaikh\"];\n",
    "\n",
    "for name in names:\n",
    "\n",
    "    print(name);\n",
    "\n",
    "    break;\n",
    "\n",
    "else:\n",
    "\n",
    "    print(\"Ahmed Shaykh\");"
   ]
  },
  {
   "cell_type": "code",
   "execution_count": 27,
   "metadata": {},
   "outputs": [
    {
     "name": "stdout",
     "output_type": "stream",
     "text": [
      "Ahmed\n",
      "Saleem\n",
      "Shaikh\n",
      "Ahmed Shaykh\n"
     ]
    }
   ],
   "source": [
    "names: list[str] = [\"Ahmed\", \"Saleem\", \"Shaikh\"];\n",
    "\n",
    "for name in names:\n",
    "\n",
    "    print(name);\n",
    "\n",
    "print(\"Ahmed Shaykh\");"
   ]
  },
  {
   "cell_type": "code",
   "execution_count": 28,
   "metadata": {},
   "outputs": [
    {
     "name": "stdout",
     "output_type": "stream",
     "text": [
      "Ahmed\n",
      "Ahmed Shaykh\n"
     ]
    }
   ],
   "source": [
    "names: list[str] = [\"Ahmed\", \"Saleem\", \"Shaikh\"];\n",
    "\n",
    "for name in names:\n",
    "\n",
    "    print(name);\n",
    "\n",
    "    break;\n",
    "\n",
    "print(\"Ahmed Shaykh\");"
   ]
  }
 ],
 "metadata": {
  "kernelspec": {
   "display_name": "base",
   "language": "python",
   "name": "python3"
  },
  "language_info": {
   "codemirror_mode": {
    "name": "ipython",
    "version": 3
   },
   "file_extension": ".py",
   "mimetype": "text/x-python",
   "name": "python",
   "nbconvert_exporter": "python",
   "pygments_lexer": "ipython3",
   "version": "3.11.5"
  }
 },
 "nbformat": 4,
 "nbformat_minor": 2
}
