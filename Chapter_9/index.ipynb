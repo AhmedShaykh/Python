{
  "cells": [
    {
      "cell_type": "markdown",
      "metadata": {
        "id": "-iiNR5xx4y6m"
      },
      "source": [
        "# **Call By Value & Reference**"
      ]
    },
    {
      "cell_type": "code",
      "execution_count": 1,
      "metadata": {
        "colab": {
          "base_uri": "https://localhost:8080/"
        },
        "id": "tkzEXmOq4y6q",
        "outputId": "5c53c175-7cd6-4b31-e501-9a64538a827f"
      },
      "outputs": [
        {
          "name": "stdout",
          "output_type": "stream",
          "text": [
            "li2: [1, 2, 3, 4]\n"
          ]
        }
      ],
      "source": [
        "li: list[int] = [1, 2, 3];\n",
        "\n",
        "li2 = li; # Shallow Copy\n",
        "\n",
        "li.append(4);\n",
        "\n",
        "print(\"li2:\", li2);"
      ]
    },
    {
      "cell_type": "code",
      "execution_count": 2,
      "metadata": {
        "colab": {
          "base_uri": "https://localhost:8080/"
        },
        "id": "8-m_ye0D4y6t",
        "outputId": "6e254a45-6fce-4e88-8b84-485c6dd56144"
      },
      "outputs": [
        {
          "name": "stdout",
          "output_type": "stream",
          "text": [
            "num2: 5\n"
          ]
        }
      ],
      "source": [
        "num: int = 5;\n",
        "\n",
        "num2: int = num;\n",
        "\n",
        "num += 1;\n",
        "\n",
        "print(\"num2:\", num2);"
      ]
    },
    {
      "cell_type": "code",
      "execution_count": 3,
      "metadata": {
        "colab": {
          "base_uri": "https://localhost:8080/"
        },
        "id": "No_dDUid4y6v",
        "outputId": "0b6b98e3-0a30-4239-92aa-ac0bc8a0e4f1"
      },
      "outputs": [
        {
          "name": "stdout",
          "output_type": "stream",
          "text": [
            "Before Modification: 10 10751144\n",
            "After Modification: 11 10751176\n"
          ]
        }
      ],
      "source": [
        "x: int = 10;\n",
        "\n",
        "print(\"Before Modification:\", x, id(x));\n",
        "\n",
        "x += 1;\n",
        "\n",
        "print(\"After Modification:\", x, id(x));"
      ]
    },
    {
      "cell_type": "code",
      "execution_count": 4,
      "metadata": {
        "colab": {
          "base_uri": "https://localhost:8080/"
        },
        "id": "yz_pnPrY4y6w",
        "outputId": "ee84d1bd-215c-4443-a21d-17bfa7543542"
      },
      "outputs": [
        {
          "name": "stdout",
          "output_type": "stream",
          "text": [
            "138204184990656\n",
            "138204184987264\n",
            "['A', 'B', 'C', 'D']\n",
            "8\n"
          ]
        }
      ],
      "source": [
        "from typing import List;\n",
        "\n",
        "a : List[str] = [\"A\",\"B\"];\n",
        "\n",
        "b : List[str] = [\"C\",\"D\"];\n",
        "\n",
        "print(id(a));\n",
        "\n",
        "print(id(b));\n",
        "\n",
        "print(a + b);\n",
        "\n",
        "print(15 - 7);"
      ]
    },
    {
      "cell_type": "code",
      "execution_count": 5,
      "metadata": {
        "colab": {
          "base_uri": "https://localhost:8080/"
        },
        "id": "3K52sQHM4y60",
        "outputId": "83828940-c682-4c50-af85-74b64d3a95dc"
      },
      "outputs": [
        {
          "name": "stdout",
          "output_type": "stream",
          "text": [
            "6\n",
            "5\n"
          ]
        }
      ],
      "source": [
        "num: int = 5; # Immutable\n",
        "\n",
        "def myNum(num: int) -> None:\n",
        "\n",
        "    num = 6;\n",
        "\n",
        "    print(num);\n",
        "\n",
        "myNum(num); # Pass By Value Immutable\n",
        "\n",
        "print(num);"
      ]
    },
    {
      "cell_type": "code",
      "execution_count": 6,
      "metadata": {
        "colab": {
          "base_uri": "https://localhost:8080/"
        },
        "id": "moz7XmTB4y61",
        "outputId": "5be1547e-e8b0-41e2-d212-c76bd8db978c"
      },
      "outputs": [
        {
          "name": "stdout",
          "output_type": "stream",
          "text": [
            "Number 2 Value Is [1, 2, 3, 4, 200]\n",
            "[1, 2, 3, 4, 200]\n"
          ]
        }
      ],
      "source": [
        "num: List[int] = [1, 2, 3, 4]; # Mutable\n",
        "\n",
        "def myNum(num: List[int]) -> None:\n",
        "\n",
        "    num.append(200); # Added On Element\n",
        "\n",
        "    print(f\"Number 2 Value Is {num}\");\n",
        "\n",
        "myNum(num); # Pass By Reference (Mutable)\n",
        "\n",
        "print(num);"
      ]
    },
    {
      "cell_type": "code",
      "execution_count": 7,
      "metadata": {
        "colab": {
          "base_uri": "https://localhost:8080/"
        },
        "id": "OW2BxBWO4y62",
        "outputId": "a2d31045-a0e7-4e72-abe9-93f0a05ed192"
      },
      "outputs": [
        {
          "name": "stdout",
          "output_type": "stream",
          "text": [
            "138204185147840\n",
            "Start Of Function [1, 2, 3, 4] & Its Address: 138204185147840\n",
            "End Of Function [1, 2, 3, 4, 200] & Its Address: 138204185147840\n",
            "[1, 2, 3, 4, 200]\n"
          ]
        }
      ],
      "source": [
        "num: List[int] = [1, 2, 3, 4];\n",
        "\n",
        "print(id(num));\n",
        "\n",
        "def myNum(num: List[int]) -> None:\n",
        "\n",
        "    print(f\"Start Of Function {num} & Its Address: {id(num)}\");\n",
        "\n",
        "    num.append(200);\n",
        "\n",
        "    print(f\"End Of Function {num} & Its Address: {id(num)}\"); # Because Its A Mutable Value Then It Same\n",
        "\n",
        "myNum(num);\n",
        "\n",
        "print(num);"
      ]
    },
    {
      "cell_type": "code",
      "execution_count": 8,
      "metadata": {
        "colab": {
          "base_uri": "https://localhost:8080/"
        },
        "id": "kiuBOpGM4y63",
        "outputId": "686e0474-3d22-4e05-f6ff-ee58caa74a82"
      },
      "outputs": [
        {
          "name": "stdout",
          "output_type": "stream",
          "text": [
            "Number 2 Value Is [7, 200]\n",
            "[1, 2, 3, 4]\n"
          ]
        }
      ],
      "source": [
        "num: List[int] = [1, 2, 3, 4];\n",
        "\n",
        "def myNum(num: List[int]) -> None:\n",
        "\n",
        "    num: List[int] = [7]; # OverWrite\n",
        "\n",
        "    num.append(200);\n",
        "\n",
        "    print(f\"Number 2 Value Is {num}\");\n",
        "\n",
        "myNum(num);\n",
        "\n",
        "print(num);"
      ]
    },
    {
      "cell_type": "code",
      "execution_count": 9,
      "metadata": {
        "colab": {
          "base_uri": "https://localhost:8080/"
        },
        "id": "xXM7hxJj4y64",
        "outputId": "6b11da40-c987-48ab-cd23-0274c36353e6"
      },
      "outputs": [
        {
          "name": "stdout",
          "output_type": "stream",
          "text": [
            "Number 2 Value Is [1, 2, 3, 4, 5, 200]\n",
            "[1, 2, 3, 4]\n"
          ]
        }
      ],
      "source": [
        "num: List[int] = [1, 2, 3, 4];\n",
        "\n",
        "def myNum(num: List[int]) -> None:\n",
        "\n",
        "    num: List[int] = [1, 2, 3, 4, 5];\n",
        "\n",
        "    num.append(200);\n",
        "\n",
        "    print(f\"Number 2 Value Is {num}\");\n",
        "\n",
        "myNum(num);\n",
        "\n",
        "print(num);"
      ]
    },
    {
      "cell_type": "code",
      "execution_count": 10,
      "metadata": {
        "colab": {
          "base_uri": "https://localhost:8080/"
        },
        "id": "xjwvdoBU4y65",
        "outputId": "b6d8fe43-234d-457e-fbe7-b4fb49f65587"
      },
      "outputs": [
        {
          "name": "stdout",
          "output_type": "stream",
          "text": [
            "Enter Number 1:\t2\n",
            "Enter Number 2:\t3\n",
            "0\n"
          ]
        }
      ],
      "source": [
        "abc: int = int(input(\"Enter Number 1:\\t\"));\n",
        "\n",
        "xyz: int = int(input(\"Enter Number 2:\\t\"));\n",
        "\n",
        "print(abc // xyz);"
      ]
    },
    {
      "cell_type": "code",
      "execution_count": 11,
      "metadata": {
        "colab": {
          "base_uri": "https://localhost:8080/"
        },
        "id": "I4iocfsv4y66",
        "outputId": "d134c301-32e7-448d-aac8-ba42dc483587"
      },
      "outputs": [
        {
          "name": "stdout",
          "output_type": "stream",
          "text": [
            "Enter Index Number:1\n",
            "Ahmëd\n"
          ]
        }
      ],
      "source": [
        "name: list[str] = [\"Ahmed\", \"Ahmëd\", \"AHM X\"];\n",
        "\n",
        "indx: int = int(input(\"Enter Index Number: \"));\n",
        "\n",
        "print(name[indx]);"
      ]
    },
    {
      "cell_type": "code",
      "execution_count": 12,
      "metadata": {
        "colab": {
          "base_uri": "https://localhost:8080/"
        },
        "id": "OFRcHu7z4y67",
        "outputId": "f57d8eef-1b1c-403e-a306-74f3c4dacf15"
      },
      "outputs": [
        {
          "name": "stdout",
          "output_type": "stream",
          "text": [
            "2\n"
          ]
        }
      ],
      "source": [
        "data : tuple[int, ...] = (1,2,3);\n",
        "\n",
        "print(data[1]);"
      ]
    },
    {
      "cell_type": "markdown",
      "metadata": {
        "id": "pvUAUtD-4y68"
      },
      "source": [
        "# **Try & Except**"
      ]
    },
    {
      "cell_type": "code",
      "execution_count": 13,
      "metadata": {
        "colab": {
          "base_uri": "https://localhost:8080/"
        },
        "id": "vZucw6-o4y68",
        "outputId": "91a0cd6c-0b2e-4454-84ec-b10c2b334942"
      },
      "outputs": [
        {
          "name": "stdout",
          "output_type": "stream",
          "text": [
            "Logic 1\n",
            "Logic 2\n",
            "Zero Division Error!\n",
            "Logic 4\n",
            "Logic 5\n"
          ]
        }
      ],
      "source": [
        "print(\"Logic 1\");\n",
        "\n",
        "print(\"Logic 2\");\n",
        "\n",
        "try:\n",
        "\n",
        "    print(5 / 0);\n",
        "\n",
        "except ZeroDivisionError:\n",
        "\n",
        "    print(\"Zero Division Error!\");\n",
        "\n",
        "print(\"Logic 4\");\n",
        "\n",
        "print(\"Logic 5\");"
      ]
    },
    {
      "cell_type": "code",
      "execution_count": 14,
      "metadata": {
        "colab": {
          "base_uri": "https://localhost:8080/"
        },
        "id": "FVA-xX4O4y68",
        "outputId": "e530a2be-19ed-4918-8948-0f6cfbcfd1ef"
      },
      "outputs": [
        {
          "name": "stdout",
          "output_type": "stream",
          "text": [
            "Logic 1\n",
            "Logic 2\n",
            "Logic 4\n",
            "Logic 5\n"
          ]
        }
      ],
      "source": [
        "print(\"Logic 1\");\n",
        "\n",
        "print(\"Logic 2\");\n",
        "\n",
        "try:\n",
        "\n",
        "    print(5 / 0);\n",
        "\n",
        "except ZeroDivisionError:\n",
        "\n",
        "    pass;\n",
        "\n",
        "print(\"Logic 4\");\n",
        "\n",
        "print(\"Logic 5\");"
      ]
    },
    {
      "cell_type": "code",
      "execution_count": 15,
      "metadata": {
        "colab": {
          "base_uri": "https://localhost:8080/"
        },
        "id": "RQ3rO83b4y69",
        "outputId": "c4f9a411-8a93-47b8-b891-48f28e6e78a9"
      },
      "outputs": [
        {
          "name": "stdout",
          "output_type": "stream",
          "text": [
            "Logic 1\n",
            "Logic 2\n",
            "Error!\n",
            "Logic 4\n",
            "Logic 5\n"
          ]
        }
      ],
      "source": [
        "print(\"Logic 1\");\n",
        "\n",
        "print(\"Logic 2\");\n",
        "\n",
        "li : list[int] = [1, 2, 3];\n",
        "\n",
        "try:\n",
        "\n",
        "    print(5 / 0);\n",
        "\n",
        "    li[0] = 23;\n",
        "\n",
        "except ZeroDivisionError:\n",
        "\n",
        "    print(\"Error!\");\n",
        "\n",
        "print(\"Logic 4\");\n",
        "\n",
        "print(\"Logic 5\");"
      ]
    },
    {
      "cell_type": "code",
      "execution_count": 16,
      "metadata": {
        "colab": {
          "base_uri": "https://localhost:8080/"
        },
        "id": "Av41Nw7H4y69",
        "outputId": "75771bad-e468-4873-c277-b1e5686e7d70"
      },
      "outputs": [
        {
          "name": "stdout",
          "output_type": "stream",
          "text": [
            "Logic 1\n",
            "Logic 2\n",
            "Error!\n",
            "Logic 4\n",
            "Logic 5\n"
          ]
        }
      ],
      "source": [
        "print(\"Logic 1\");\n",
        "\n",
        "print(\"Logic 2\");\n",
        "\n",
        "li : list[int] = [1, 2, 3];\n",
        "\n",
        "try:\n",
        "\n",
        "    print(5 / 0);\n",
        "\n",
        "    li[0] = 23;\n",
        "\n",
        "    print(z); # Variable Not Exist\n",
        "\n",
        "except (ZeroDivisionError, IndexError, NameError):\n",
        "\n",
        "    print(\"Error!\");\n",
        "\n",
        "print(\"Logic 4\");\n",
        "\n",
        "print(\"Logic 5\");"
      ]
    },
    {
      "cell_type": "code",
      "execution_count": 17,
      "metadata": {
        "colab": {
          "base_uri": "https://localhost:8080/"
        },
        "id": "G7EXIcm_4y6-",
        "outputId": "531b2fdc-612e-4fb0-a6ac-afcddeb05fd8"
      },
      "outputs": [
        {
          "name": "stdout",
          "output_type": "stream",
          "text": [
            "Logic 1\n",
            "Logic 2\n",
            "2.5\n",
            "Error!\n",
            "Logic 4\n",
            "Logic 5\n"
          ]
        }
      ],
      "source": [
        "print(\"Logic 1\");\n",
        "\n",
        "print(\"Logic 2\");\n",
        "\n",
        "li : list[int] = [1, 2, 3];\n",
        "\n",
        "try:\n",
        "\n",
        "    print(5 / 2);\n",
        "\n",
        "    print(z); # Error\n",
        "\n",
        "    print(li[0]);\n",
        "\n",
        "except (ZeroDivisionError, IndexError, NameError):\n",
        "\n",
        "    print(\"Error!\");\n",
        "\n",
        "print(\"Logic 4\");\n",
        "\n",
        "print(\"Logic 5\");"
      ]
    },
    {
      "cell_type": "code",
      "execution_count": 18,
      "metadata": {
        "colab": {
          "base_uri": "https://localhost:8080/"
        },
        "id": "edGpGeFN4y6-",
        "outputId": "c5891b2a-44b4-425d-931d-19c9ce38d4a9"
      },
      "outputs": [
        {
          "name": "stdout",
          "output_type": "stream",
          "text": [
            "Logic 1\n",
            "Logic 2\n",
            "2.5\n",
            "Value Not Defined\n",
            "Logic 4\n",
            "Logic 5\n"
          ]
        }
      ],
      "source": [
        "print(\"Logic 1\");\n",
        "\n",
        "print(\"Logic 2\");\n",
        "\n",
        "li : list[int] = [1, 2, 3];\n",
        "\n",
        "try:\n",
        "\n",
        "    print(5 / 2);\n",
        "\n",
        "    print(z);\n",
        "\n",
        "    print(li[4]);\n",
        "\n",
        "except ZeroDivisionError:\n",
        "\n",
        "    print(\"Zero Division Error!\");\n",
        "\n",
        "except NameError:\n",
        "\n",
        "    print(\"Value Not Defined\");\n",
        "\n",
        "except IndexError:\n",
        "\n",
        "    print(\"Index Error\");\n",
        "\n",
        "print(\"Logic 4\");\n",
        "\n",
        "print(\"Logic 5\");"
      ]
    },
    {
      "cell_type": "code",
      "execution_count": 19,
      "metadata": {
        "colab": {
          "base_uri": "https://localhost:8080/"
        },
        "id": "c5K-Def04y6_",
        "outputId": "938b1dbf-6697-4a68-b43d-2a63dbd63a50"
      },
      "outputs": [
        {
          "name": "stdout",
          "output_type": "stream",
          "text": [
            "Logic 1\n",
            "Logic 2\n",
            "2.5\n",
            "2\n",
            "[1, 2, 3]\n",
            "Something Went Wrong!\n",
            "Logic 4\n",
            "Logic 5\n"
          ]
        }
      ],
      "source": [
        "print(\"Logic 1\");\n",
        "\n",
        "print(\"Logic 2\");\n",
        "\n",
        "li : list[int] = [1, 2, 3];\n",
        "\n",
        "try:\n",
        "\n",
        "    print(5 / 2);\n",
        "\n",
        "    print(li[1]);\n",
        "\n",
        "    print(li);\n",
        "\n",
        "    open(\"app.py\");\n",
        "\n",
        "except ZeroDivisionError:\n",
        "\n",
        "    print(\"Zero Division Error!\");\n",
        "\n",
        "except IndexError:\n",
        "\n",
        "    print(\"Index Error\");\n",
        "\n",
        "except NameError:\n",
        "\n",
        "    print(\"Value Not Defined\");\n",
        "\n",
        "except:\n",
        "\n",
        "    print(\"Something Went Wrong!\");\n",
        "\n",
        "print(\"Logic 4\");\n",
        "\n",
        "print(\"Logic 5\");"
      ]
    },
    {
      "cell_type": "code",
      "execution_count": 20,
      "metadata": {
        "colab": {
          "base_uri": "https://localhost:8080/"
        },
        "id": "t7HhoDsY4y7A",
        "outputId": "ad8181bb-56d5-4a7b-ea9b-ae478d9834f2"
      },
      "outputs": [
        {
          "name": "stdout",
          "output_type": "stream",
          "text": [
            "Something Went Wrong!\n",
            "list index out of range\n"
          ]
        }
      ],
      "source": [
        "try:\n",
        "\n",
        "    print(li[200]);\n",
        "\n",
        "except Exception as e:\n",
        "\n",
        "    print(f\"Something Went Wrong!\\n{e}\");"
      ]
    },
    {
      "cell_type": "code",
      "execution_count": 23,
      "metadata": {
        "colab": {
          "base_uri": "https://localhost:8080/"
        },
        "id": "AgodHija4y7A",
        "outputId": "a092f297-e94f-4e12-da00-a327e8fc8d7d"
      },
      "outputs": [
        {
          "name": "stdout",
          "output_type": "stream",
          "text": [
            "Ahmed 44 23\n"
          ]
        }
      ],
      "source": [
        "class StudentCard():\n",
        "\n",
        "    def __init__(self, roll_no: int, name: str, age: int) -> None:\n",
        "\n",
        "        if age < 18 or age > 60:\n",
        "\n",
        "            raise StudentAgeError(\"Your Are Not Eligible For This Program!\"); # Raise Throw Error\n",
        "\n",
        "        self.roll_no = roll_no;\n",
        "\n",
        "        self.name = name;\n",
        "\n",
        "        self.age = age;\n",
        "\n",
        "class StudentAgeError(Exception): # Custom Error Class\n",
        "\n",
        "    pass;\n",
        "\n",
        "student = StudentCard(44, \"Ahmed\", 23);\n",
        "\n",
        "print(student.name, student.roll_no, student.age);"
      ]
    },
    {
      "cell_type": "code",
      "execution_count": null,
      "metadata": {
        "id": "rGsT8WOe4y7B"
      },
      "outputs": [],
      "source": [
        "student2 = StudentCard(34, \"Usman\", 17);\n",
        "\n",
        "print(student2.name, student2.roll_no, student2.age); # Return Error(\"Your Are Not Eligible For This Program!\");"
      ]
    },
    {
      "cell_type": "markdown",
      "metadata": {
        "id": "kRySMmaF4y7B"
      },
      "source": [
        "# **File Handling**\n",
        "\n",
        "https://www.geeksforgeeks.org/reading-writing-text-files-python/\n",
        "\n",
        "<img src=\"https://camo.githubusercontent.com/8b065463b6592a4170ae2e9a7c40c05de5c503542b970d10dd6ec15fdfd65876/68747470733a2f2f6e65742d696e666f726d6174696f6e732e636f6d2f707974686f6e2f66696c652f696d672f6d6f6465732e706e67\">"
      ]
    },
    {
      "cell_type": "code",
      "execution_count": 29,
      "metadata": {
        "colab": {
          "base_uri": "https://localhost:8080/"
        },
        "id": "t0xUqtrP4y7B",
        "outputId": "77ec0157-4620-436e-8046-ca519feecd20"
      },
      "outputs": [
        {
          "data": {
            "text/plain": [
              "<_io.TextIOWrapper name='./app.txt' mode='r' encoding='UTF-8'>"
            ]
          },
          "execution_count": 29,
          "metadata": {},
          "output_type": "execute_result"
        }
      ],
      "source": [
        "open(\"./app.txt\")"
      ]
    },
    {
      "cell_type": "code",
      "execution_count": 30,
      "metadata": {
        "colab": {
          "base_uri": "https://localhost:8080/"
        },
        "id": "CaCOxxQE4y7C",
        "outputId": "4ad2af1c-f619-4a9d-cb69-d526a00ac77c"
      },
      "outputs": [
        {
          "name": "stdout",
          "output_type": "stream",
          "text": [
            "<_io.TextIOWrapper name='./app.txt' mode='r' encoding='UTF-8'>\n"
          ]
        }
      ],
      "source": [
        "data = open(\"./app.txt\");\n",
        "\n",
        "print(data);"
      ]
    },
    {
      "cell_type": "code",
      "execution_count": 31,
      "metadata": {
        "colab": {
          "base_uri": "https://localhost:8080/"
        },
        "id": "12vt5OmT4y7C",
        "outputId": "72296c8c-7de2-4140-9fdd-628096fbeb02"
      },
      "outputs": [
        {
          "data": {
            "text/plain": [
              "['_CHUNK_SIZE',\n",
              " '_checkClosed',\n",
              " '_checkReadable',\n",
              " '_checkSeekable',\n",
              " '_checkWritable',\n",
              " '_finalizing',\n",
              " 'buffer',\n",
              " 'close',\n",
              " 'closed',\n",
              " 'detach',\n",
              " 'encoding',\n",
              " 'errors',\n",
              " 'fileno',\n",
              " 'flush',\n",
              " 'isatty',\n",
              " 'line_buffering',\n",
              " 'mode',\n",
              " 'name',\n",
              " 'newlines',\n",
              " 'read',\n",
              " 'readable',\n",
              " 'readline',\n",
              " 'readlines',\n",
              " 'reconfigure',\n",
              " 'seek',\n",
              " 'seekable',\n",
              " 'tell',\n",
              " 'truncate',\n",
              " 'writable',\n",
              " 'write',\n",
              " 'write_through',\n",
              " 'writelines']"
            ]
          },
          "execution_count": 31,
          "metadata": {},
          "output_type": "execute_result"
        }
      ],
      "source": [
        "[i for i in dir(data) if \"__\" not in i]"
      ]
    },
    {
      "cell_type": "code",
      "execution_count": 32,
      "metadata": {
        "colab": {
          "base_uri": "https://localhost:8080/"
        },
        "id": "o48CFI9g4y7C",
        "outputId": "c1bd909c-47ac-4fd2-879d-a34c51943ee3"
      },
      "outputs": [
        {
          "name": "stdout",
          "output_type": "stream",
          "text": [
            "<class '_io.TextIOWrapper'>\n"
          ]
        }
      ],
      "source": [
        "print(type(data));"
      ]
    },
    {
      "cell_type": "code",
      "execution_count": 33,
      "metadata": {
        "colab": {
          "base_uri": "https://localhost:8080/"
        },
        "id": "k6HmHgJq4y7D",
        "outputId": "f2e53b42-0465-46c0-8ccd-ccaad07630b2"
      },
      "outputs": [
        {
          "name": "stdout",
          "output_type": "stream",
          "text": [
            "Learning Python\n"
          ]
        }
      ],
      "source": [
        "from typing import TextIO;\n",
        "\n",
        "data: TextIO = open(\"./app.txt\"); # Connectivity With File\n",
        "\n",
        "print(data.read());"
      ]
    },
    {
      "cell_type": "code",
      "execution_count": 34,
      "metadata": {
        "colab": {
          "base_uri": "https://localhost:8080/"
        },
        "id": "II1uLwH44y7D",
        "outputId": "ceb3d0fe-4739-4cf2-bf43-6e4f940d15bf"
      },
      "outputs": [
        {
          "name": "stdout",
          "output_type": "stream",
          "text": [
            "Learning Python\n"
          ]
        }
      ],
      "source": [
        "data: TextIO = open(\"./app.txt\"); # Connectivity With File\n",
        "\n",
        "print(data.read());\n",
        "\n",
        "data.close(); # Close Connectivity"
      ]
    },
    {
      "cell_type": "code",
      "execution_count": 35,
      "metadata": {
        "colab": {
          "base_uri": "https://localhost:8080/"
        },
        "id": "1XfcUiD_4y7D",
        "outputId": "4a9ba7f9-bae5-48d2-8863-d4552070a958"
      },
      "outputs": [
        {
          "name": "stdout",
          "output_type": "stream",
          "text": [
            "<class '_io.TextIOWrapper'>\n",
            "Learning Python\n",
            "Free Palestine\n"
          ]
        }
      ],
      "source": [
        "with open(\"./app.txt\") as file: # The With Method Automatically Close Your File After Done\n",
        "\n",
        "    print(type(file));\n",
        "\n",
        "    print(file.read());\n",
        "\n",
        "print(\"Free Palestine\");"
      ]
    },
    {
      "cell_type": "code",
      "execution_count": 36,
      "metadata": {
        "colab": {
          "base_uri": "https://localhost:8080/"
        },
        "id": "c1QxDBVs4y7E",
        "outputId": "1eaecee3-2919-40ec-836b-21ac7c60876a"
      },
      "outputs": [
        {
          "name": "stdout",
          "output_type": "stream",
          "text": [
            "JavaScript\n",
            "\n",
            "TypeScript\n",
            "\n"
          ]
        }
      ],
      "source": [
        "with open(\"./app2.txt\") as file:\n",
        "\n",
        "    print(file.readline()); # Read Only One Line At A Time\n",
        "\n",
        "    print(file.readline());"
      ]
    },
    {
      "cell_type": "code",
      "execution_count": 37,
      "metadata": {
        "colab": {
          "base_uri": "https://localhost:8080/"
        },
        "id": "1SIGyodB4y7E",
        "outputId": "19a31eae-eb50-4814-b356-a0471db93ef6"
      },
      "outputs": [
        {
          "name": "stdout",
          "output_type": "stream",
          "text": [
            "JavaScript\n",
            "TypeScript\n"
          ]
        }
      ],
      "source": [
        "with open(\"./app2.txt\") as file:\n",
        "\n",
        "    print(file.readline(), end=\"\");\n",
        "\n",
        "    print(file.readline(), end=\"\");"
      ]
    },
    {
      "cell_type": "code",
      "execution_count": 38,
      "metadata": {
        "colab": {
          "base_uri": "https://localhost:8080/"
        },
        "id": "iLdK67Xf4y7F",
        "outputId": "b161db05-75a1-4cac-d598-bd5e0f5bd634"
      },
      "outputs": [
        {
          "name": "stdout",
          "output_type": "stream",
          "text": [
            "['JavaScript\\n', 'TypeScript\\n', 'Python\\n', 'Solidity']\n"
          ]
        }
      ],
      "source": [
        "with open(\"./app2.txt\") as file:\n",
        "\n",
        "    print(file.readlines());"
      ]
    },
    {
      "cell_type": "code",
      "execution_count": 39,
      "metadata": {
        "colab": {
          "base_uri": "https://localhost:8080/"
        },
        "id": "tOI3ml2f4y7F",
        "outputId": "f8a7fb4a-eaae-499b-e910-226dbf71d978"
      },
      "outputs": [
        {
          "name": "stdout",
          "output_type": "stream",
          "text": [
            "['TypeScript\\n', 'Python\\n']\n"
          ]
        }
      ],
      "source": [
        "with open(\"./app2.txt\", \"r\") as file: # By Default Is R (Read)\n",
        "\n",
        "    print(file.readlines()[1:3]);"
      ]
    },
    {
      "cell_type": "code",
      "execution_count": 40,
      "metadata": {
        "id": "QVXUw9ae4y7G"
      },
      "outputs": [],
      "source": [
        "with open(\"./app3.txt\", \"w\") as file: # W Is Write Only\n",
        "\n",
        "    file.write(\"Imran Khan\");"
      ]
    },
    {
      "cell_type": "code",
      "execution_count": 41,
      "metadata": {
        "colab": {
          "base_uri": "https://localhost:8080/"
        },
        "id": "gb36x9uq4y7H",
        "outputId": "2c68806e-b0c7-44ed-8fd3-d4880f1e294f"
      },
      "outputs": [
        {
          "name": "stdout",
          "output_type": "stream",
          "text": [
            "Imran Khan\n"
          ]
        }
      ],
      "source": [
        "with open(\"./app3.txt\") as file:\n",
        "\n",
        "    print(file.read());"
      ]
    },
    {
      "cell_type": "code",
      "execution_count": 42,
      "metadata": {
        "colab": {
          "base_uri": "https://localhost:8080/"
        },
        "id": "VBtScntH4y7I",
        "outputId": "0a273304-bf8b-40d3-f160-22e90986f96a"
      },
      "outputs": [
        {
          "name": "stdout",
          "output_type": "stream",
          "text": [
            "Imran Khan\n",
            "After: \n"
          ]
        }
      ],
      "source": [
        "with open(\"./app3.txt\", \"r+\") as file: # Read & Write Both\n",
        "\n",
        "    print(file.read());\n",
        "\n",
        "    file.write(\" Release Imran Khan\"); # After Run Write Method Cursor Go In Last\n",
        "\n",
        "    print(\"After:\",file.read()); # Then It Show Blank"
      ]
    },
    {
      "cell_type": "code",
      "execution_count": 43,
      "metadata": {
        "colab": {
          "base_uri": "https://localhost:8080/"
        },
        "id": "e3Lpph4L4y7a",
        "outputId": "b4fd5494-dc3d-4c05-c4c1-652fba5ec1cc"
      },
      "outputs": [
        {
          "name": "stdout",
          "output_type": "stream",
          "text": [
            "Imran Khan Release Imran Khan\n",
            "After: Imran Khan Release Imran Khan Release Imran Khan\n"
          ]
        }
      ],
      "source": [
        "with open(\"./app3.txt\", \"r+\") as file:\n",
        "\n",
        "    print(file.read());\n",
        "\n",
        "    file.write(\" Release Imran Khan\");\n",
        "\n",
        "    file.seek(0); # Add Particular Value In Cursor\n",
        "\n",
        "    print(\"After:\",file.read());"
      ]
    },
    {
      "cell_type": "code",
      "execution_count": 44,
      "metadata": {
        "id": "QVDAiufZ4y7b"
      },
      "outputs": [],
      "source": [
        "with open(\"./app4.txt\", \"w\") as file: # If File Exist Then It OverWrite The Text\n",
        "\n",
        "    file.write(\"Free \"); # If File Not Exist Then It Will Create New File"
      ]
    },
    {
      "cell_type": "code",
      "execution_count": 45,
      "metadata": {
        "id": "u6kozKbA4y7b"
      },
      "outputs": [],
      "source": [
        "with open(\"./app4.txt\", \"a\") as file: # If File Not Exist Then It Will Create New File & Exist File Add Content\n",
        "\n",
        "    file.write(\"Palestine\");"
      ]
    },
    {
      "cell_type": "code",
      "execution_count": 47,
      "metadata": {
        "id": "9NsNK1aH4y7c"
      },
      "outputs": [],
      "source": [
        "with open(\"./app5.txt\", \"x\") as file: # If File Not Exist Then It Will Create New File\n",
        "\n",
        "    file.write(\"Pakistan Zindabad\"); # If File Exist Then Return Thorw Error"
      ]
    },
    {
      "cell_type": "code",
      "execution_count": null,
      "metadata": {
        "id": "sc5kzT_M4y7d"
      },
      "outputs": [],
      "source": [
        "with open(\"./app4.txt\", \"rb+\") as file:\n",
        "\n",
        "    print(file.read()); # Binary Format For Read Content"
      ]
    },
    {
      "cell_type": "markdown",
      "metadata": {
        "id": "DdwV1Gsx4y7e"
      },
      "source": [
        "<table class=\"s-table\">\n",
        "    <thead>\n",
        "    <tr>\n",
        "    <th style=\"text-align: center;\">Mode</th>\n",
        "    <th style=\"text-align: center;\">r</th>\n",
        "    <th style=\"text-align: center;\">r+</th>\n",
        "    <th style=\"text-align: center;\">w</th>\n",
        "    <th style=\"text-align: center;\">w+</th>\n",
        "    <th style=\"text-align: center;\">a</th>\n",
        "    <th style=\"text-align: center;\">a+</th>\n",
        "    </tr>\n",
        "    </thead>\n",
        "    <tbody>\n",
        "    <tr>\n",
        "    <td style=\"text-align: center;\">Read</td>\n",
        "    <td style=\"text-align: center;\">+</td>\n",
        "    <td style=\"text-align: center;\">+</td>\n",
        "    <td style=\"text-align: center;\"></td>\n",
        "    <td style=\"text-align: center;\">+</td>\n",
        "    <td style=\"text-align: center;\"></td>\n",
        "    <td style=\"text-align: center;\">+</td>\n",
        "    </tr>\n",
        "    <tr>\n",
        "    <td style=\"text-align: center;\">Write</td>\n",
        "    <td style=\"text-align: center;\"></td>\n",
        "    <td style=\"text-align: center;\">+</td>\n",
        "    <td style=\"text-align: center;\">+</td>\n",
        "    <td style=\"text-align: center;\">+</td>\n",
        "    <td style=\"text-align: center;\">+</td>\n",
        "    <td style=\"text-align: center;\">+</td>\n",
        "    </tr>\n",
        "    <tr>\n",
        "    <td style=\"text-align: center;\">Create</td>\n",
        "    <td style=\"text-align: center;\"></td>\n",
        "    <td style=\"text-align: center;\"></td>\n",
        "    <td style=\"text-align: center;\">+</td>\n",
        "    <td style=\"text-align: center;\">+</td>\n",
        "    <td style=\"text-align: center;\">+</td>\n",
        "    <td style=\"text-align: center;\">+</td>\n",
        "    </tr>\n",
        "    <tr>\n",
        "    <td style=\"text-align: center;\">Cover</td>\n",
        "    <td style=\"text-align: center;\"></td>\n",
        "    <td style=\"text-align: center;\"></td>\n",
        "    <td style=\"text-align: center;\">+</td>\n",
        "    <td style=\"text-align: center;\">+</td>\n",
        "    <td style=\"text-align: center;\"></td>\n",
        "    <td style=\"text-align: center;\"></td>\n",
        "    </tr>\n",
        "    <tr>\n",
        "    <td style=\"text-align: center;\">Point in the beginning</td>\n",
        "    <td style=\"text-align: center;\">+</td>\n",
        "    <td style=\"text-align: center;\">+</td>\n",
        "    <td style=\"text-align: center;\">+</td>\n",
        "    <td style=\"text-align: center;\">+</td>\n",
        "    <td style=\"text-align: center;\"></td>\n",
        "    <td style=\"text-align: center;\"></td>\n",
        "    </tr>\n",
        "    <tr>\n",
        "    <td style=\"text-align: center;\">Point in the end</td>\n",
        "    <td style=\"text-align: center;\"></td>\n",
        "    <td style=\"text-align: center;\"></td>\n",
        "    <td style=\"text-align: center;\"></td>\n",
        "    <td style=\"text-align: center;\"></td>\n",
        "    <td style=\"text-align: center;\">+</td>\n",
        "    <td style=\"text-align: center;\">+</td>\n",
        "    </tr>\n",
        "    </tbody>\n",
        "    </table>"
      ]
    },
    {
      "cell_type": "code",
      "execution_count": 48,
      "metadata": {
        "colab": {
          "base_uri": "https://localhost:8080/",
          "height": 143
        },
        "id": "2Xmwe9Tu4y7f",
        "outputId": "b56676a4-7e7a-45af-cd91-5e3563112990"
      },
      "outputs": [
        {
          "data": {
            "application/vnd.google.colaboratory.intrinsic+json": {
              "summary": "{\n  \"name\": \"df\",\n  \"rows\": 3,\n  \"fields\": [\n    {\n      \"column\": \"ID\",\n      \"properties\": {\n        \"dtype\": \"number\",\n        \"std\": 1,\n        \"min\": 1,\n        \"max\": 3,\n        \"num_unique_values\": 3,\n        \"samples\": [\n          1,\n          2,\n          3\n        ],\n        \"semantic_type\": \"\",\n        \"description\": \"\"\n      }\n    },\n    {\n      \"column\": \"Name\",\n      \"properties\": {\n        \"dtype\": \"string\",\n        \"num_unique_values\": 3,\n        \"samples\": [\n          \"Ahmed\",\n          \"Usman\",\n          \"Suleman\"\n        ],\n        \"semantic_type\": \"\",\n        \"description\": \"\"\n      }\n    },\n    {\n      \"column\": \"Roll No.\",\n      \"properties\": {\n        \"dtype\": \"number\",\n        \"std\": 282,\n        \"min\": 254,\n        \"max\": 786,\n        \"num_unique_values\": 3,\n        \"samples\": [\n          786,\n          684,\n          254\n        ],\n        \"semantic_type\": \"\",\n        \"description\": \"\"\n      }\n    }\n  ]\n}",
              "type": "dataframe",
              "variable_name": "df"
            },
            "text/html": [
              "\n",
              "  <div id=\"df-8fdf6e95-55f9-4f76-9691-bb7fb8ce3353\" class=\"colab-df-container\">\n",
              "    <div>\n",
              "<style scoped>\n",
              "    .dataframe tbody tr th:only-of-type {\n",
              "        vertical-align: middle;\n",
              "    }\n",
              "\n",
              "    .dataframe tbody tr th {\n",
              "        vertical-align: top;\n",
              "    }\n",
              "\n",
              "    .dataframe thead th {\n",
              "        text-align: right;\n",
              "    }\n",
              "</style>\n",
              "<table border=\"1\" class=\"dataframe\">\n",
              "  <thead>\n",
              "    <tr style=\"text-align: right;\">\n",
              "      <th></th>\n",
              "      <th>ID</th>\n",
              "      <th>Name</th>\n",
              "      <th>Roll No.</th>\n",
              "    </tr>\n",
              "  </thead>\n",
              "  <tbody>\n",
              "    <tr>\n",
              "      <th>0</th>\n",
              "      <td>1</td>\n",
              "      <td>Ahmed</td>\n",
              "      <td>786</td>\n",
              "    </tr>\n",
              "    <tr>\n",
              "      <th>1</th>\n",
              "      <td>2</td>\n",
              "      <td>Usman</td>\n",
              "      <td>684</td>\n",
              "    </tr>\n",
              "    <tr>\n",
              "      <th>2</th>\n",
              "      <td>3</td>\n",
              "      <td>Suleman</td>\n",
              "      <td>254</td>\n",
              "    </tr>\n",
              "  </tbody>\n",
              "</table>\n",
              "</div>\n",
              "    <div class=\"colab-df-buttons\">\n",
              "\n",
              "  <div class=\"colab-df-container\">\n",
              "    <button class=\"colab-df-convert\" onclick=\"convertToInteractive('df-8fdf6e95-55f9-4f76-9691-bb7fb8ce3353')\"\n",
              "            title=\"Convert this dataframe to an interactive table.\"\n",
              "            style=\"display:none;\">\n",
              "\n",
              "  <svg xmlns=\"http://www.w3.org/2000/svg\" height=\"24px\" viewBox=\"0 -960 960 960\">\n",
              "    <path d=\"M120-120v-720h720v720H120Zm60-500h600v-160H180v160Zm220 220h160v-160H400v160Zm0 220h160v-160H400v160ZM180-400h160v-160H180v160Zm440 0h160v-160H620v160ZM180-180h160v-160H180v160Zm440 0h160v-160H620v160Z\"/>\n",
              "  </svg>\n",
              "    </button>\n",
              "\n",
              "  <style>\n",
              "    .colab-df-container {\n",
              "      display:flex;\n",
              "      gap: 12px;\n",
              "    }\n",
              "\n",
              "    .colab-df-convert {\n",
              "      background-color: #E8F0FE;\n",
              "      border: none;\n",
              "      border-radius: 50%;\n",
              "      cursor: pointer;\n",
              "      display: none;\n",
              "      fill: #1967D2;\n",
              "      height: 32px;\n",
              "      padding: 0 0 0 0;\n",
              "      width: 32px;\n",
              "    }\n",
              "\n",
              "    .colab-df-convert:hover {\n",
              "      background-color: #E2EBFA;\n",
              "      box-shadow: 0px 1px 2px rgba(60, 64, 67, 0.3), 0px 1px 3px 1px rgba(60, 64, 67, 0.15);\n",
              "      fill: #174EA6;\n",
              "    }\n",
              "\n",
              "    .colab-df-buttons div {\n",
              "      margin-bottom: 4px;\n",
              "    }\n",
              "\n",
              "    [theme=dark] .colab-df-convert {\n",
              "      background-color: #3B4455;\n",
              "      fill: #D2E3FC;\n",
              "    }\n",
              "\n",
              "    [theme=dark] .colab-df-convert:hover {\n",
              "      background-color: #434B5C;\n",
              "      box-shadow: 0px 1px 3px 1px rgba(0, 0, 0, 0.15);\n",
              "      filter: drop-shadow(0px 1px 2px rgba(0, 0, 0, 0.3));\n",
              "      fill: #FFFFFF;\n",
              "    }\n",
              "  </style>\n",
              "\n",
              "    <script>\n",
              "      const buttonEl =\n",
              "        document.querySelector('#df-8fdf6e95-55f9-4f76-9691-bb7fb8ce3353 button.colab-df-convert');\n",
              "      buttonEl.style.display =\n",
              "        google.colab.kernel.accessAllowed ? 'block' : 'none';\n",
              "\n",
              "      async function convertToInteractive(key) {\n",
              "        const element = document.querySelector('#df-8fdf6e95-55f9-4f76-9691-bb7fb8ce3353');\n",
              "        const dataTable =\n",
              "          await google.colab.kernel.invokeFunction('convertToInteractive',\n",
              "                                                    [key], {});\n",
              "        if (!dataTable) return;\n",
              "\n",
              "        const docLinkHtml = 'Like what you see? Visit the ' +\n",
              "          '<a target=\"_blank\" href=https://colab.research.google.com/notebooks/data_table.ipynb>data table notebook</a>'\n",
              "          + ' to learn more about interactive tables.';\n",
              "        element.innerHTML = '';\n",
              "        dataTable['output_type'] = 'display_data';\n",
              "        await google.colab.output.renderOutput(dataTable, element);\n",
              "        const docLink = document.createElement('div');\n",
              "        docLink.innerHTML = docLinkHtml;\n",
              "        element.appendChild(docLink);\n",
              "      }\n",
              "    </script>\n",
              "  </div>\n",
              "\n",
              "\n",
              "<div id=\"df-1d8a4bdc-a05d-43df-8d87-c30704f157fc\">\n",
              "  <button class=\"colab-df-quickchart\" onclick=\"quickchart('df-1d8a4bdc-a05d-43df-8d87-c30704f157fc')\"\n",
              "            title=\"Suggest charts\"\n",
              "            style=\"display:none;\">\n",
              "\n",
              "<svg xmlns=\"http://www.w3.org/2000/svg\" height=\"24px\"viewBox=\"0 0 24 24\"\n",
              "     width=\"24px\">\n",
              "    <g>\n",
              "        <path d=\"M19 3H5c-1.1 0-2 .9-2 2v14c0 1.1.9 2 2 2h14c1.1 0 2-.9 2-2V5c0-1.1-.9-2-2-2zM9 17H7v-7h2v7zm4 0h-2V7h2v10zm4 0h-2v-4h2v4z\"/>\n",
              "    </g>\n",
              "</svg>\n",
              "  </button>\n",
              "\n",
              "<style>\n",
              "  .colab-df-quickchart {\n",
              "      --bg-color: #E8F0FE;\n",
              "      --fill-color: #1967D2;\n",
              "      --hover-bg-color: #E2EBFA;\n",
              "      --hover-fill-color: #174EA6;\n",
              "      --disabled-fill-color: #AAA;\n",
              "      --disabled-bg-color: #DDD;\n",
              "  }\n",
              "\n",
              "  [theme=dark] .colab-df-quickchart {\n",
              "      --bg-color: #3B4455;\n",
              "      --fill-color: #D2E3FC;\n",
              "      --hover-bg-color: #434B5C;\n",
              "      --hover-fill-color: #FFFFFF;\n",
              "      --disabled-bg-color: #3B4455;\n",
              "      --disabled-fill-color: #666;\n",
              "  }\n",
              "\n",
              "  .colab-df-quickchart {\n",
              "    background-color: var(--bg-color);\n",
              "    border: none;\n",
              "    border-radius: 50%;\n",
              "    cursor: pointer;\n",
              "    display: none;\n",
              "    fill: var(--fill-color);\n",
              "    height: 32px;\n",
              "    padding: 0;\n",
              "    width: 32px;\n",
              "  }\n",
              "\n",
              "  .colab-df-quickchart:hover {\n",
              "    background-color: var(--hover-bg-color);\n",
              "    box-shadow: 0 1px 2px rgba(60, 64, 67, 0.3), 0 1px 3px 1px rgba(60, 64, 67, 0.15);\n",
              "    fill: var(--button-hover-fill-color);\n",
              "  }\n",
              "\n",
              "  .colab-df-quickchart-complete:disabled,\n",
              "  .colab-df-quickchart-complete:disabled:hover {\n",
              "    background-color: var(--disabled-bg-color);\n",
              "    fill: var(--disabled-fill-color);\n",
              "    box-shadow: none;\n",
              "  }\n",
              "\n",
              "  .colab-df-spinner {\n",
              "    border: 2px solid var(--fill-color);\n",
              "    border-color: transparent;\n",
              "    border-bottom-color: var(--fill-color);\n",
              "    animation:\n",
              "      spin 1s steps(1) infinite;\n",
              "  }\n",
              "\n",
              "  @keyframes spin {\n",
              "    0% {\n",
              "      border-color: transparent;\n",
              "      border-bottom-color: var(--fill-color);\n",
              "      border-left-color: var(--fill-color);\n",
              "    }\n",
              "    20% {\n",
              "      border-color: transparent;\n",
              "      border-left-color: var(--fill-color);\n",
              "      border-top-color: var(--fill-color);\n",
              "    }\n",
              "    30% {\n",
              "      border-color: transparent;\n",
              "      border-left-color: var(--fill-color);\n",
              "      border-top-color: var(--fill-color);\n",
              "      border-right-color: var(--fill-color);\n",
              "    }\n",
              "    40% {\n",
              "      border-color: transparent;\n",
              "      border-right-color: var(--fill-color);\n",
              "      border-top-color: var(--fill-color);\n",
              "    }\n",
              "    60% {\n",
              "      border-color: transparent;\n",
              "      border-right-color: var(--fill-color);\n",
              "    }\n",
              "    80% {\n",
              "      border-color: transparent;\n",
              "      border-right-color: var(--fill-color);\n",
              "      border-bottom-color: var(--fill-color);\n",
              "    }\n",
              "    90% {\n",
              "      border-color: transparent;\n",
              "      border-bottom-color: var(--fill-color);\n",
              "    }\n",
              "  }\n",
              "</style>\n",
              "\n",
              "  <script>\n",
              "    async function quickchart(key) {\n",
              "      const quickchartButtonEl =\n",
              "        document.querySelector('#' + key + ' button');\n",
              "      quickchartButtonEl.disabled = true;  // To prevent multiple clicks.\n",
              "      quickchartButtonEl.classList.add('colab-df-spinner');\n",
              "      try {\n",
              "        const charts = await google.colab.kernel.invokeFunction(\n",
              "            'suggestCharts', [key], {});\n",
              "      } catch (error) {\n",
              "        console.error('Error during call to suggestCharts:', error);\n",
              "      }\n",
              "      quickchartButtonEl.classList.remove('colab-df-spinner');\n",
              "      quickchartButtonEl.classList.add('colab-df-quickchart-complete');\n",
              "    }\n",
              "    (() => {\n",
              "      let quickchartButtonEl =\n",
              "        document.querySelector('#df-1d8a4bdc-a05d-43df-8d87-c30704f157fc button');\n",
              "      quickchartButtonEl.style.display =\n",
              "        google.colab.kernel.accessAllowed ? 'block' : 'none';\n",
              "    })();\n",
              "  </script>\n",
              "</div>\n",
              "\n",
              "  <div id=\"id_52e85125-5396-44a7-9518-4b9d9831e593\">\n",
              "    <style>\n",
              "      .colab-df-generate {\n",
              "        background-color: #E8F0FE;\n",
              "        border: none;\n",
              "        border-radius: 50%;\n",
              "        cursor: pointer;\n",
              "        display: none;\n",
              "        fill: #1967D2;\n",
              "        height: 32px;\n",
              "        padding: 0 0 0 0;\n",
              "        width: 32px;\n",
              "      }\n",
              "\n",
              "      .colab-df-generate:hover {\n",
              "        background-color: #E2EBFA;\n",
              "        box-shadow: 0px 1px 2px rgba(60, 64, 67, 0.3), 0px 1px 3px 1px rgba(60, 64, 67, 0.15);\n",
              "        fill: #174EA6;\n",
              "      }\n",
              "\n",
              "      [theme=dark] .colab-df-generate {\n",
              "        background-color: #3B4455;\n",
              "        fill: #D2E3FC;\n",
              "      }\n",
              "\n",
              "      [theme=dark] .colab-df-generate:hover {\n",
              "        background-color: #434B5C;\n",
              "        box-shadow: 0px 1px 3px 1px rgba(0, 0, 0, 0.15);\n",
              "        filter: drop-shadow(0px 1px 2px rgba(0, 0, 0, 0.3));\n",
              "        fill: #FFFFFF;\n",
              "      }\n",
              "    </style>\n",
              "    <button class=\"colab-df-generate\" onclick=\"generateWithVariable('df')\"\n",
              "            title=\"Generate code using this dataframe.\"\n",
              "            style=\"display:none;\">\n",
              "\n",
              "  <svg xmlns=\"http://www.w3.org/2000/svg\" height=\"24px\"viewBox=\"0 0 24 24\"\n",
              "       width=\"24px\">\n",
              "    <path d=\"M7,19H8.4L18.45,9,17,7.55,7,17.6ZM5,21V16.75L18.45,3.32a2,2,0,0,1,2.83,0l1.4,1.43a1.91,1.91,0,0,1,.58,1.4,1.91,1.91,0,0,1-.58,1.4L9.25,21ZM18.45,9,17,7.55Zm-12,3A5.31,5.31,0,0,0,4.9,8.1,5.31,5.31,0,0,0,1,6.5,5.31,5.31,0,0,0,4.9,4.9,5.31,5.31,0,0,0,6.5,1,5.31,5.31,0,0,0,8.1,4.9,5.31,5.31,0,0,0,12,6.5,5.46,5.46,0,0,0,6.5,12Z\"/>\n",
              "  </svg>\n",
              "    </button>\n",
              "    <script>\n",
              "      (() => {\n",
              "      const buttonEl =\n",
              "        document.querySelector('#id_52e85125-5396-44a7-9518-4b9d9831e593 button.colab-df-generate');\n",
              "      buttonEl.style.display =\n",
              "        google.colab.kernel.accessAllowed ? 'block' : 'none';\n",
              "\n",
              "      buttonEl.onclick = () => {\n",
              "        google.colab.notebook.generateWithVariable('df');\n",
              "      }\n",
              "      })();\n",
              "    </script>\n",
              "  </div>\n",
              "\n",
              "    </div>\n",
              "  </div>\n"
            ],
            "text/plain": [
              "   ID     Name  Roll No.\n",
              "0   1    Ahmed       786\n",
              "1   2    Usman       684\n",
              "2   3  Suleman       254"
            ]
          },
          "execution_count": 48,
          "metadata": {},
          "output_type": "execute_result"
        }
      ],
      "source": [
        "import pandas as pd;\n",
        "\n",
        "df : pd.DataFrame = pd.read_csv(\"./data.csv\");\n",
        "\n",
        "df"
      ]
    },
    {
      "cell_type": "code",
      "execution_count": 49,
      "metadata": {
        "colab": {
          "base_uri": "https://localhost:8080/",
          "height": 175
        },
        "id": "x2lysbNC4y7g",
        "outputId": "d77403eb-3e1c-4531-ee6f-206581625886"
      },
      "outputs": [
        {
          "data": {
            "application/vnd.google.colaboratory.intrinsic+json": {
              "summary": "{\n  \"name\": \"df\",\n  \"rows\": 4,\n  \"fields\": [\n    {\n      \"column\": \"ID\",\n      \"properties\": {\n        \"dtype\": \"number\",\n        \"std\": 1,\n        \"min\": 1,\n        \"max\": 4,\n        \"num_unique_values\": 4,\n        \"samples\": [\n          2,\n          4,\n          1\n        ],\n        \"semantic_type\": \"\",\n        \"description\": \"\"\n      }\n    },\n    {\n      \"column\": \"Name\",\n      \"properties\": {\n        \"dtype\": \"string\",\n        \"num_unique_values\": 4,\n        \"samples\": [\n          \"Yaseen\",\n          \"Majid\",\n          \"Ahmed\"\n        ],\n        \"semantic_type\": \"\",\n        \"description\": \"\"\n      }\n    },\n    {\n      \"column\": \"Worth\",\n      \"properties\": {\n        \"dtype\": \"number\",\n        \"std\": 41840,\n        \"min\": 6000,\n        \"max\": 100000,\n        \"num_unique_values\": 4,\n        \"samples\": [\n          20000,\n          6000,\n          30000\n        ],\n        \"semantic_type\": \"\",\n        \"description\": \"\"\n      }\n    }\n  ]\n}",
              "type": "dataframe",
              "variable_name": "df"
            },
            "text/html": [
              "\n",
              "  <div id=\"df-236bf4cb-76c6-41f3-aedc-046ce9313b12\" class=\"colab-df-container\">\n",
              "    <div>\n",
              "<style scoped>\n",
              "    .dataframe tbody tr th:only-of-type {\n",
              "        vertical-align: middle;\n",
              "    }\n",
              "\n",
              "    .dataframe tbody tr th {\n",
              "        vertical-align: top;\n",
              "    }\n",
              "\n",
              "    .dataframe thead th {\n",
              "        text-align: right;\n",
              "    }\n",
              "</style>\n",
              "<table border=\"1\" class=\"dataframe\">\n",
              "  <thead>\n",
              "    <tr style=\"text-align: right;\">\n",
              "      <th></th>\n",
              "      <th>ID</th>\n",
              "      <th>Name</th>\n",
              "      <th>Worth</th>\n",
              "    </tr>\n",
              "  </thead>\n",
              "  <tbody>\n",
              "    <tr>\n",
              "      <th>0</th>\n",
              "      <td>1</td>\n",
              "      <td>Ahmed</td>\n",
              "      <td>30000</td>\n",
              "    </tr>\n",
              "    <tr>\n",
              "      <th>1</th>\n",
              "      <td>2</td>\n",
              "      <td>Yaseen</td>\n",
              "      <td>20000</td>\n",
              "    </tr>\n",
              "    <tr>\n",
              "      <th>2</th>\n",
              "      <td>3</td>\n",
              "      <td>Saqlain</td>\n",
              "      <td>100000</td>\n",
              "    </tr>\n",
              "    <tr>\n",
              "      <th>3</th>\n",
              "      <td>4</td>\n",
              "      <td>Majid</td>\n",
              "      <td>6000</td>\n",
              "    </tr>\n",
              "  </tbody>\n",
              "</table>\n",
              "</div>\n",
              "    <div class=\"colab-df-buttons\">\n",
              "\n",
              "  <div class=\"colab-df-container\">\n",
              "    <button class=\"colab-df-convert\" onclick=\"convertToInteractive('df-236bf4cb-76c6-41f3-aedc-046ce9313b12')\"\n",
              "            title=\"Convert this dataframe to an interactive table.\"\n",
              "            style=\"display:none;\">\n",
              "\n",
              "  <svg xmlns=\"http://www.w3.org/2000/svg\" height=\"24px\" viewBox=\"0 -960 960 960\">\n",
              "    <path d=\"M120-120v-720h720v720H120Zm60-500h600v-160H180v160Zm220 220h160v-160H400v160Zm0 220h160v-160H400v160ZM180-400h160v-160H180v160Zm440 0h160v-160H620v160ZM180-180h160v-160H180v160Zm440 0h160v-160H620v160Z\"/>\n",
              "  </svg>\n",
              "    </button>\n",
              "\n",
              "  <style>\n",
              "    .colab-df-container {\n",
              "      display:flex;\n",
              "      gap: 12px;\n",
              "    }\n",
              "\n",
              "    .colab-df-convert {\n",
              "      background-color: #E8F0FE;\n",
              "      border: none;\n",
              "      border-radius: 50%;\n",
              "      cursor: pointer;\n",
              "      display: none;\n",
              "      fill: #1967D2;\n",
              "      height: 32px;\n",
              "      padding: 0 0 0 0;\n",
              "      width: 32px;\n",
              "    }\n",
              "\n",
              "    .colab-df-convert:hover {\n",
              "      background-color: #E2EBFA;\n",
              "      box-shadow: 0px 1px 2px rgba(60, 64, 67, 0.3), 0px 1px 3px 1px rgba(60, 64, 67, 0.15);\n",
              "      fill: #174EA6;\n",
              "    }\n",
              "\n",
              "    .colab-df-buttons div {\n",
              "      margin-bottom: 4px;\n",
              "    }\n",
              "\n",
              "    [theme=dark] .colab-df-convert {\n",
              "      background-color: #3B4455;\n",
              "      fill: #D2E3FC;\n",
              "    }\n",
              "\n",
              "    [theme=dark] .colab-df-convert:hover {\n",
              "      background-color: #434B5C;\n",
              "      box-shadow: 0px 1px 3px 1px rgba(0, 0, 0, 0.15);\n",
              "      filter: drop-shadow(0px 1px 2px rgba(0, 0, 0, 0.3));\n",
              "      fill: #FFFFFF;\n",
              "    }\n",
              "  </style>\n",
              "\n",
              "    <script>\n",
              "      const buttonEl =\n",
              "        document.querySelector('#df-236bf4cb-76c6-41f3-aedc-046ce9313b12 button.colab-df-convert');\n",
              "      buttonEl.style.display =\n",
              "        google.colab.kernel.accessAllowed ? 'block' : 'none';\n",
              "\n",
              "      async function convertToInteractive(key) {\n",
              "        const element = document.querySelector('#df-236bf4cb-76c6-41f3-aedc-046ce9313b12');\n",
              "        const dataTable =\n",
              "          await google.colab.kernel.invokeFunction('convertToInteractive',\n",
              "                                                    [key], {});\n",
              "        if (!dataTable) return;\n",
              "\n",
              "        const docLinkHtml = 'Like what you see? Visit the ' +\n",
              "          '<a target=\"_blank\" href=https://colab.research.google.com/notebooks/data_table.ipynb>data table notebook</a>'\n",
              "          + ' to learn more about interactive tables.';\n",
              "        element.innerHTML = '';\n",
              "        dataTable['output_type'] = 'display_data';\n",
              "        await google.colab.output.renderOutput(dataTable, element);\n",
              "        const docLink = document.createElement('div');\n",
              "        docLink.innerHTML = docLinkHtml;\n",
              "        element.appendChild(docLink);\n",
              "      }\n",
              "    </script>\n",
              "  </div>\n",
              "\n",
              "\n",
              "<div id=\"df-826c498e-f444-4101-a37f-902a7ce22f60\">\n",
              "  <button class=\"colab-df-quickchart\" onclick=\"quickchart('df-826c498e-f444-4101-a37f-902a7ce22f60')\"\n",
              "            title=\"Suggest charts\"\n",
              "            style=\"display:none;\">\n",
              "\n",
              "<svg xmlns=\"http://www.w3.org/2000/svg\" height=\"24px\"viewBox=\"0 0 24 24\"\n",
              "     width=\"24px\">\n",
              "    <g>\n",
              "        <path d=\"M19 3H5c-1.1 0-2 .9-2 2v14c0 1.1.9 2 2 2h14c1.1 0 2-.9 2-2V5c0-1.1-.9-2-2-2zM9 17H7v-7h2v7zm4 0h-2V7h2v10zm4 0h-2v-4h2v4z\"/>\n",
              "    </g>\n",
              "</svg>\n",
              "  </button>\n",
              "\n",
              "<style>\n",
              "  .colab-df-quickchart {\n",
              "      --bg-color: #E8F0FE;\n",
              "      --fill-color: #1967D2;\n",
              "      --hover-bg-color: #E2EBFA;\n",
              "      --hover-fill-color: #174EA6;\n",
              "      --disabled-fill-color: #AAA;\n",
              "      --disabled-bg-color: #DDD;\n",
              "  }\n",
              "\n",
              "  [theme=dark] .colab-df-quickchart {\n",
              "      --bg-color: #3B4455;\n",
              "      --fill-color: #D2E3FC;\n",
              "      --hover-bg-color: #434B5C;\n",
              "      --hover-fill-color: #FFFFFF;\n",
              "      --disabled-bg-color: #3B4455;\n",
              "      --disabled-fill-color: #666;\n",
              "  }\n",
              "\n",
              "  .colab-df-quickchart {\n",
              "    background-color: var(--bg-color);\n",
              "    border: none;\n",
              "    border-radius: 50%;\n",
              "    cursor: pointer;\n",
              "    display: none;\n",
              "    fill: var(--fill-color);\n",
              "    height: 32px;\n",
              "    padding: 0;\n",
              "    width: 32px;\n",
              "  }\n",
              "\n",
              "  .colab-df-quickchart:hover {\n",
              "    background-color: var(--hover-bg-color);\n",
              "    box-shadow: 0 1px 2px rgba(60, 64, 67, 0.3), 0 1px 3px 1px rgba(60, 64, 67, 0.15);\n",
              "    fill: var(--button-hover-fill-color);\n",
              "  }\n",
              "\n",
              "  .colab-df-quickchart-complete:disabled,\n",
              "  .colab-df-quickchart-complete:disabled:hover {\n",
              "    background-color: var(--disabled-bg-color);\n",
              "    fill: var(--disabled-fill-color);\n",
              "    box-shadow: none;\n",
              "  }\n",
              "\n",
              "  .colab-df-spinner {\n",
              "    border: 2px solid var(--fill-color);\n",
              "    border-color: transparent;\n",
              "    border-bottom-color: var(--fill-color);\n",
              "    animation:\n",
              "      spin 1s steps(1) infinite;\n",
              "  }\n",
              "\n",
              "  @keyframes spin {\n",
              "    0% {\n",
              "      border-color: transparent;\n",
              "      border-bottom-color: var(--fill-color);\n",
              "      border-left-color: var(--fill-color);\n",
              "    }\n",
              "    20% {\n",
              "      border-color: transparent;\n",
              "      border-left-color: var(--fill-color);\n",
              "      border-top-color: var(--fill-color);\n",
              "    }\n",
              "    30% {\n",
              "      border-color: transparent;\n",
              "      border-left-color: var(--fill-color);\n",
              "      border-top-color: var(--fill-color);\n",
              "      border-right-color: var(--fill-color);\n",
              "    }\n",
              "    40% {\n",
              "      border-color: transparent;\n",
              "      border-right-color: var(--fill-color);\n",
              "      border-top-color: var(--fill-color);\n",
              "    }\n",
              "    60% {\n",
              "      border-color: transparent;\n",
              "      border-right-color: var(--fill-color);\n",
              "    }\n",
              "    80% {\n",
              "      border-color: transparent;\n",
              "      border-right-color: var(--fill-color);\n",
              "      border-bottom-color: var(--fill-color);\n",
              "    }\n",
              "    90% {\n",
              "      border-color: transparent;\n",
              "      border-bottom-color: var(--fill-color);\n",
              "    }\n",
              "  }\n",
              "</style>\n",
              "\n",
              "  <script>\n",
              "    async function quickchart(key) {\n",
              "      const quickchartButtonEl =\n",
              "        document.querySelector('#' + key + ' button');\n",
              "      quickchartButtonEl.disabled = true;  // To prevent multiple clicks.\n",
              "      quickchartButtonEl.classList.add('colab-df-spinner');\n",
              "      try {\n",
              "        const charts = await google.colab.kernel.invokeFunction(\n",
              "            'suggestCharts', [key], {});\n",
              "      } catch (error) {\n",
              "        console.error('Error during call to suggestCharts:', error);\n",
              "      }\n",
              "      quickchartButtonEl.classList.remove('colab-df-spinner');\n",
              "      quickchartButtonEl.classList.add('colab-df-quickchart-complete');\n",
              "    }\n",
              "    (() => {\n",
              "      let quickchartButtonEl =\n",
              "        document.querySelector('#df-826c498e-f444-4101-a37f-902a7ce22f60 button');\n",
              "      quickchartButtonEl.style.display =\n",
              "        google.colab.kernel.accessAllowed ? 'block' : 'none';\n",
              "    })();\n",
              "  </script>\n",
              "</div>\n",
              "\n",
              "  <div id=\"id_ab9407df-cf98-4fcf-a6c6-22ca414534cb\">\n",
              "    <style>\n",
              "      .colab-df-generate {\n",
              "        background-color: #E8F0FE;\n",
              "        border: none;\n",
              "        border-radius: 50%;\n",
              "        cursor: pointer;\n",
              "        display: none;\n",
              "        fill: #1967D2;\n",
              "        height: 32px;\n",
              "        padding: 0 0 0 0;\n",
              "        width: 32px;\n",
              "      }\n",
              "\n",
              "      .colab-df-generate:hover {\n",
              "        background-color: #E2EBFA;\n",
              "        box-shadow: 0px 1px 2px rgba(60, 64, 67, 0.3), 0px 1px 3px 1px rgba(60, 64, 67, 0.15);\n",
              "        fill: #174EA6;\n",
              "      }\n",
              "\n",
              "      [theme=dark] .colab-df-generate {\n",
              "        background-color: #3B4455;\n",
              "        fill: #D2E3FC;\n",
              "      }\n",
              "\n",
              "      [theme=dark] .colab-df-generate:hover {\n",
              "        background-color: #434B5C;\n",
              "        box-shadow: 0px 1px 3px 1px rgba(0, 0, 0, 0.15);\n",
              "        filter: drop-shadow(0px 1px 2px rgba(0, 0, 0, 0.3));\n",
              "        fill: #FFFFFF;\n",
              "      }\n",
              "    </style>\n",
              "    <button class=\"colab-df-generate\" onclick=\"generateWithVariable('df')\"\n",
              "            title=\"Generate code using this dataframe.\"\n",
              "            style=\"display:none;\">\n",
              "\n",
              "  <svg xmlns=\"http://www.w3.org/2000/svg\" height=\"24px\"viewBox=\"0 0 24 24\"\n",
              "       width=\"24px\">\n",
              "    <path d=\"M7,19H8.4L18.45,9,17,7.55,7,17.6ZM5,21V16.75L18.45,3.32a2,2,0,0,1,2.83,0l1.4,1.43a1.91,1.91,0,0,1,.58,1.4,1.91,1.91,0,0,1-.58,1.4L9.25,21ZM18.45,9,17,7.55Zm-12,3A5.31,5.31,0,0,0,4.9,8.1,5.31,5.31,0,0,0,1,6.5,5.31,5.31,0,0,0,4.9,4.9,5.31,5.31,0,0,0,6.5,1,5.31,5.31,0,0,0,8.1,4.9,5.31,5.31,0,0,0,12,6.5,5.46,5.46,0,0,0,6.5,12Z\"/>\n",
              "  </svg>\n",
              "    </button>\n",
              "    <script>\n",
              "      (() => {\n",
              "      const buttonEl =\n",
              "        document.querySelector('#id_ab9407df-cf98-4fcf-a6c6-22ca414534cb button.colab-df-generate');\n",
              "      buttonEl.style.display =\n",
              "        google.colab.kernel.accessAllowed ? 'block' : 'none';\n",
              "\n",
              "      buttonEl.onclick = () => {\n",
              "        google.colab.notebook.generateWithVariable('df');\n",
              "      }\n",
              "      })();\n",
              "    </script>\n",
              "  </div>\n",
              "\n",
              "    </div>\n",
              "  </div>\n"
            ],
            "text/plain": [
              "   ID     Name   Worth\n",
              "0   1    Ahmed   30000\n",
              "1   2   Yaseen   20000\n",
              "2   3  Saqlain  100000\n",
              "3   4    Majid    6000"
            ]
          },
          "execution_count": 49,
          "metadata": {},
          "output_type": "execute_result"
        }
      ],
      "source": [
        "# !pip install matplotlib openpyxl\n",
        "\n",
        "import pandas as pd;\n",
        "\n",
        "df : pd.DataFrame = pd.read_excel(\"./data.xlsx\");\n",
        "\n",
        "df"
      ]
    },
    {
      "cell_type": "code",
      "execution_count": 50,
      "metadata": {
        "colab": {
          "base_uri": "https://localhost:8080/",
          "height": 413
        },
        "id": "2cnM4moE4y7g",
        "outputId": "e60fe100-8908-411d-9420-b66d6a7bcd1e"
      },
      "outputs": [
        {
          "data": {
            "text/plain": [
              "<matplotlib.image.AxesImage at 0x7db1ff36e090>"
            ]
          },
          "execution_count": 50,
          "metadata": {},
          "output_type": "execute_result"
        },
        {
          "data": {
            "image/png": "[encoded data removed]",
            "text/plain": [
              "<Figure size 640x480 with 1 Axes>"
            ]
          },
          "metadata": {},
          "output_type": "display_data"
        }
      ],
      "source": [
        "import matplotlib.pyplot as plt;\n",
        "\n",
        "import matplotlib.image as mpimg;\n",
        "\n",
        "img = mpimg.imread(\"./PM.jpeg\");\n",
        "\n",
        "plt.imshow(img)"
      ]
    },
    {
      "cell_type": "code",
      "execution_count": 53,
      "metadata": {
        "colab": {
          "base_uri": "https://localhost:8080/"
        },
        "id": "XEZgxd756xGA",
        "outputId": "4ff2bdab-bd4d-4e70-aaf9-06d13b449bda"
      },
      "outputs": [
        {
          "name": "stdout",
          "output_type": "stream",
          "text": [
            "Collecting PyPDF2\n",
            "  Downloading pypdf2-3.0.1-py3-none-any.whl.metadata (6.8 kB)\n",
            "Downloading pypdf2-3.0.1-py3-none-any.whl (232 kB)\n",
            "\u001b[2K   \u001b[90m━━━━━━━━━━━━━━━━━━━━━━━━━━━━━━━━━━━━━━━━\u001b[0m \u001b[32m232.6/232.6 kB\u001b[0m \u001b[31m3.7 MB/s\u001b[0m eta \u001b[36m0:00:00\u001b[0m\n",
            "\u001b[?25hInstalling collected packages: PyPDF2\n",
            "Successfully installed PyPDF2-3.0.1\n"
          ]
        }
      ],
      "source": [
        "!pip install PyPDF2"
      ]
    },
    {
      "cell_type": "code",
      "execution_count": 54,
      "metadata": {
        "colab": {
          "base_uri": "https://localhost:8080/"
        },
        "id": "4RONeneJ4y7h",
        "outputId": "7d456268-f525-4fb6-c21a-06adb4204f5e"
      },
      "outputs": [
        {
          "data": {
            "text/plain": [
              "['Pakistan Zindabad', 'Free Palestine', 'Imran Khan']"
            ]
          },
          "execution_count": 54,
          "metadata": {},
          "output_type": "execute_result"
        }
      ],
      "source": [
        "from typing import List;\n",
        "\n",
        "import PyPDF2;\n",
        "\n",
        "def read_pdf(file_path: str) -> List[str]:\n",
        "\n",
        "    with open(file_path, \"rb\") as file:\n",
        "\n",
        "        reader: PyPDF2.PdfReader = PyPDF2.PdfReader(file);\n",
        "\n",
        "        text_content: List[str] = [page.extract_text() for page in reader.pages];\n",
        "\n",
        "        return text_content;\n",
        "\n",
        "pages: list[str] = read_pdf(\"./mypdf.pdf\");\n",
        "\n",
        "pages"
      ]
    }
  ],
  "metadata": {
    "colab": {
      "provenance": []
    },
    "kernelspec": {
      "display_name": "base",
      "language": "python",
      "name": "python3"
    },
    "language_info": {
      "codemirror_mode": {
        "name": "ipython",
        "version": 3
      },
      "file_extension": ".py",
      "mimetype": "text/x-python",
      "name": "python",
      "nbconvert_exporter": "python",
      "pygments_lexer": "ipython3",
      "version": "3.12.0"
    }
  },
  "nbformat": 4,
  "nbformat_minor": 0
}
