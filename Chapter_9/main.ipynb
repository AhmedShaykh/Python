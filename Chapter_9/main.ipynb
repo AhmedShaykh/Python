{
 "cells": [
  {
   "cell_type": "markdown",
   "metadata": {},
   "source": [
    "# **Call By Value & Reference**"
   ]
  },
  {
   "cell_type": "code",
   "execution_count": 12,
   "metadata": {},
   "outputs": [
    {
     "name": "stdout",
     "output_type": "stream",
     "text": [
      "li2: [1, 2, 3, 4]\n"
     ]
    }
   ],
   "source": [
    "li: list[int] = [1, 2, 3];\n",
    "\n",
    "li2 = li;\n",
    "\n",
    "li.append(4);\n",
    "\n",
    "print(\"li2:\", li2);"
   ]
  },
  {
   "cell_type": "code",
   "execution_count": 13,
   "metadata": {},
   "outputs": [
    {
     "name": "stdout",
     "output_type": "stream",
     "text": [
      "num2: 5\n"
     ]
    }
   ],
   "source": [
    "num: int = 5;\n",
    "\n",
    "num2: int = num;\n",
    "\n",
    "num += 1;\n",
    "\n",
    "print(\"num2:\", num2);"
   ]
  },
  {
   "cell_type": "code",
   "execution_count": 14,
   "metadata": {},
   "outputs": [
    {
     "name": "stdout",
     "output_type": "stream",
     "text": [
      "Before Modification: 10 140705454724168\n",
      "After Modification: 11 140705454724200\n"
     ]
    }
   ],
   "source": [
    "x: int = 10;\n",
    "\n",
    "print(\"Before Modification:\", x, id(x));\n",
    "\n",
    "x += 1;\n",
    "\n",
    "print(\"After Modification:\", x, id(x));"
   ]
  },
  {
   "cell_type": "code",
   "execution_count": 15,
   "metadata": {},
   "outputs": [
    {
     "name": "stdout",
     "output_type": "stream",
     "text": [
      "2526724670784\n",
      "2526724721600\n",
      "['A', 'B', 'C', 'D']\n",
      "8\n"
     ]
    }
   ],
   "source": [
    "from typing import List;\n",
    "\n",
    "a : List[str] = [\"A\",\"B\"];\n",
    "\n",
    "b : List[str] = [\"C\",\"D\"];\n",
    "\n",
    "print(id(a));\n",
    "\n",
    "print(id(b));\n",
    "\n",
    "print(a + b);\n",
    "\n",
    "print(15 - 7);"
   ]
  },
  {
   "cell_type": "code",
   "execution_count": 20,
   "metadata": {},
   "outputs": [
    {
     "name": "stdout",
     "output_type": "stream",
     "text": [
      "6\n",
      "5\n"
     ]
    }
   ],
   "source": [
    "num: int = 5; # Immutable\n",
    "\n",
    "def myNum(num: int) -> None:\n",
    "\n",
    "    num = 6;\n",
    "\n",
    "    print(num);\n",
    "\n",
    "myNum(num); # Pass By Value Immutable\n",
    "\n",
    "print(num);"
   ]
  },
  {
   "cell_type": "code",
   "execution_count": 21,
   "metadata": {},
   "outputs": [
    {
     "name": "stdout",
     "output_type": "stream",
     "text": [
      "Number 2 Value Is [1, 2, 3, 4, 200]\n",
      "[1, 2, 3, 4, 200]\n"
     ]
    }
   ],
   "source": [
    "num: List[int] = [1, 2, 3, 4]; # Mutable\n",
    "\n",
    "def myNum(num: List[int]) -> None:\n",
    "\n",
    "    num.append(200); # Added On Element\n",
    "\n",
    "    print(f\"Number 2 Value Is {num}\");\n",
    "\n",
    "myNum(num); # Pass By Reference (Mutable Data Type)\n",
    "\n",
    "print(num);"
   ]
  },
  {
   "cell_type": "code",
   "execution_count": 24,
   "metadata": {},
   "outputs": [
    {
     "name": "stdout",
     "output_type": "stream",
     "text": [
      "2526724593472\n",
      "Start Of Function [1, 2, 3, 4] & Its Address: 2526724593472\n",
      "End Of Function [1, 2, 3, 4, 200] & Its Address: 2526724593472\n",
      "[1, 2, 3, 4, 200]\n"
     ]
    }
   ],
   "source": [
    "num: List[int] = [1, 2, 3, 4];\n",
    "\n",
    "print(id(num));\n",
    "\n",
    "def myNum(num: List[int]) -> None:\n",
    "\n",
    "    print(f\"Start Of Function {num} & Its Address: {id(num)}\");\n",
    "\n",
    "    num.append(200);\n",
    "\n",
    "    print(f\"End Of Function {num} & Its Address: {id(num)}\"); # Because Its A Mutable Value Then It Same \n",
    "\n",
    "myNum(num);\n",
    "\n",
    "print(num);"
   ]
  },
  {
   "cell_type": "code",
   "execution_count": 25,
   "metadata": {},
   "outputs": [
    {
     "name": "stdout",
     "output_type": "stream",
     "text": [
      "Number 2 Value Is [7, 200]\n",
      "[1, 2, 3, 4]\n"
     ]
    }
   ],
   "source": [
    "num: List[int] = [1, 2, 3, 4];\n",
    "\n",
    "def myNum(num: List[int]) -> None:\n",
    "\n",
    "    num: List[int] = [7];\n",
    "\n",
    "    num.append(200);\n",
    "\n",
    "    print(f\"Number 2 Value Is {num}\");\n",
    "\n",
    "myNum(num);\n",
    "\n",
    "print(num);"
   ]
  },
  {
   "cell_type": "code",
   "execution_count": 26,
   "metadata": {},
   "outputs": [
    {
     "name": "stdout",
     "output_type": "stream",
     "text": [
      "Number 2 Value Is [1, 2, 3, 4, 5, 200]\n",
      "[1, 2, 3, 4]\n"
     ]
    }
   ],
   "source": [
    "num: List[int] = [1, 2, 3, 4];\n",
    "\n",
    "def myNum(num: List[int]) -> None:\n",
    "\n",
    "    num: List[int] = [1, 2, 3, 4, 5];\n",
    "\n",
    "    num.append(200);\n",
    "\n",
    "    print(f\"Number 2 Value Is {num}\");\n",
    "\n",
    "myNum(num);\n",
    "\n",
    "print(num);"
   ]
  },
  {
   "cell_type": "code",
   "execution_count": 28,
   "metadata": {},
   "outputs": [
    {
     "name": "stdout",
     "output_type": "stream",
     "text": [
      "5.0\n"
     ]
    }
   ],
   "source": [
    "abc: int = int(input(\"Enter Number 1:\\t\"));\n",
    "\n",
    "xyz: int = int(input(\"Enter Number 2:\\t\"));\n",
    "\n",
    "print(abc / xyz);"
   ]
  },
  {
   "cell_type": "code",
   "execution_count": 31,
   "metadata": {},
   "outputs": [
    {
     "name": "stdout",
     "output_type": "stream",
     "text": [
      "Ahmëd\n"
     ]
    }
   ],
   "source": [
    "name: list[str] = [\"Ahmed\", \"Ahmëd\", \"AHM X\"];\n",
    "\n",
    "indx: int = int(input(\"Enter Index Number:\"));\n",
    "\n",
    "print(name[indx]);"
   ]
  },
  {
   "cell_type": "code",
   "execution_count": 33,
   "metadata": {},
   "outputs": [
    {
     "name": "stdout",
     "output_type": "stream",
     "text": [
      "2\n"
     ]
    }
   ],
   "source": [
    "data : tuple[int,int,int] = (1,2,3);\n",
    "\n",
    "print(data[1]);"
   ]
  },
  {
   "cell_type": "markdown",
   "metadata": {},
   "source": [
    "# **Try & Except**"
   ]
  },
  {
   "cell_type": "code",
   "execution_count": 34,
   "metadata": {},
   "outputs": [
    {
     "name": "stdout",
     "output_type": "stream",
     "text": [
      "Logic 1\n",
      "Logic 2\n",
      "Zero Division Error!\n",
      "Logic 4\n",
      "Logic 5\n"
     ]
    }
   ],
   "source": [
    "print(\"Logic 1\");\n",
    "\n",
    "print(\"Logic 2\");\n",
    "\n",
    "try:\n",
    "\n",
    "    print(5 / 0);\n",
    "\n",
    "except ZeroDivisionError:\n",
    "    \n",
    "    print(\"Zero Division Error!\");\n",
    "\n",
    "print(\"Logic 4\");\n",
    "\n",
    "print(\"Logic 5\");"
   ]
  },
  {
   "cell_type": "code",
   "execution_count": 35,
   "metadata": {},
   "outputs": [
    {
     "name": "stdout",
     "output_type": "stream",
     "text": [
      "Logic 1\n",
      "Logic 2\n",
      "Logic 4\n",
      "Logic 5\n"
     ]
    }
   ],
   "source": [
    "print(\"Logic 1\");\n",
    "\n",
    "print(\"Logic 2\");\n",
    "\n",
    "try:\n",
    "\n",
    "    print(5 / 0);\n",
    "\n",
    "except ZeroDivisionError:\n",
    "    \n",
    "    pass;\n",
    "\n",
    "print(\"Logic 4\");\n",
    "\n",
    "print(\"Logic 5\");"
   ]
  },
  {
   "cell_type": "code",
   "execution_count": 37,
   "metadata": {},
   "outputs": [
    {
     "name": "stdout",
     "output_type": "stream",
     "text": [
      "Logic 1\n",
      "Logic 2\n",
      "Error!\n",
      "Logic 4\n",
      "Logic 5\n"
     ]
    }
   ],
   "source": [
    "print(\"Logic 1\");\n",
    "\n",
    "print(\"Logic 2\");\n",
    "\n",
    "li : list[int] = [1, 2, 3];\n",
    "\n",
    "try:\n",
    "\n",
    "    print(5 / 0);\n",
    "\n",
    "    li[0] = 23; # Mutable Value Not Change\n",
    "\n",
    "    print(xyz); # Variable Not Exist\n",
    "\n",
    "except ZeroDivisionError:\n",
    "    \n",
    "    print(\"Error!\");\n",
    "\n",
    "print(\"Logic 4\");\n",
    "\n",
    "print(\"Logic 5\");"
   ]
  },
  {
   "cell_type": "code",
   "execution_count": 39,
   "metadata": {},
   "outputs": [
    {
     "name": "stdout",
     "output_type": "stream",
     "text": [
      "Logic 1\n",
      "Logic 2\n",
      "Error!\n",
      "Logic 4\n",
      "Logic 5\n"
     ]
    }
   ],
   "source": [
    "print(\"Logic 1\");\n",
    "\n",
    "print(\"Logic 2\");\n",
    "\n",
    "li : list[int] = [1, 2, 3];\n",
    "\n",
    "try:\n",
    "\n",
    "    print(5 / 0);\n",
    "\n",
    "    li[0] = 23;\n",
    "\n",
    "    print(xyz);\n",
    "\n",
    "except (ZeroDivisionError, IndexError, NameError):\n",
    "    \n",
    "    print(\"Error!\");\n",
    "\n",
    "print(\"Logic 4\");\n",
    "\n",
    "print(\"Logic 5\");"
   ]
  }
 ],
 "metadata": {
  "kernelspec": {
   "display_name": "base",
   "language": "python",
   "name": "python3"
  },
  "language_info": {
   "codemirror_mode": {
    "name": "ipython",
    "version": 3
   },
   "file_extension": ".py",
   "mimetype": "text/x-python",
   "name": "python",
   "nbconvert_exporter": "python",
   "pygments_lexer": "ipython3",
   "version": "3.11.5"
  }
 },
 "nbformat": 4,
 "nbformat_minor": 2
}
