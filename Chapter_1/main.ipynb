{
  "cells": [
    {
      "cell_type": "code",
      "execution_count": null,
      "metadata": {
        "colab": {
          "base_uri": "https://localhost:8080/"
        },
        "id": "fViPfmP9PReM",
        "outputId": "4b4d2806-5f39-49b2-cf62-a0e72a0b933e"
      },
      "outputs": [
        {
          "name": "stdout",
          "output_type": "stream",
          "text": [
            "Learning Python With Type Strict!\n"
          ]
        }
      ],
      "source": [
        "print(\"Learning Python With Type Strict!\");"
      ]
    },
    {
      "cell_type": "code",
      "execution_count": 10,
      "metadata": {
        "colab": {
          "base_uri": "https://localhost:8080/"
        },
        "id": "VtXyMhkUQD1k",
        "outputId": "25d36454-80ca-45ac-d8fe-a0408eca72d8"
      },
      "outputs": [
        {
          "name": "stdout",
          "output_type": "stream",
          "text": [
            "Hello Python 3.12 Interpreter!\n"
          ]
        }
      ],
      "source": [
        "print(\"Hello Python 3.12 Interpreter!\");"
      ]
    },
    {
      "cell_type": "code",
      "execution_count": 9,
      "metadata": {
        "colab": {
          "base_uri": "https://localhost:8080/"
        },
        "id": "bj5QmQapQyYg",
        "outputId": "ef86bbfb-53f4-4e25-8b0d-78810245bf7d"
      },
      "outputs": [
        {
          "name": "stdout",
          "output_type": "stream",
          "text": [
            "Hello Python World!\n"
          ]
        }
      ],
      "source": [
        "print(\"Hello Python World!\");"
      ]
    }
  ],
  "metadata": {
    "colab": {
      "provenance": []
    },
    "kernelspec": {
      "display_name": "Python 3",
      "name": "python3"
    },
    "language_info": {
      "name": "python"
    }
  },
  "nbformat": 4,
  "nbformat_minor": 0
}
