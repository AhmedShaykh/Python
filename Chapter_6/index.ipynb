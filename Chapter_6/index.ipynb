{
  "cells": [
    {
      "cell_type": "markdown",
      "metadata": {
        "id": "r93rVjGAB5tA"
      },
      "source": [
        "# **Dictionary**"
      ]
    },
    {
      "cell_type": "code",
      "execution_count": 53,
      "metadata": {
        "colab": {
          "base_uri": "https://localhost:8080/"
        },
        "id": "i48HILMiB5tE",
        "outputId": "cca32301-c0a5-4063-c30c-bd57f6def380"
      },
      "outputs": [
        {
          "output_type": "stream",
          "name": "stdout",
          "text": [
            "{'fName': 'Ahmed', 'mName': 'Saleem', 'lName': 'Shaikh'}\n"
          ]
        }
      ],
      "source": [
        "from typing import Dict;\n",
        "\n",
        "data : Dict[str,str] = { \"fName\": \"Ahmed\", \"mName\": \"Saleem\", \"lName\": \"Shaikh\" };\n",
        "\n",
        "print(data);"
      ]
    },
    {
      "cell_type": "code",
      "execution_count": 54,
      "metadata": {
        "colab": {
          "base_uri": "https://localhost:8080/"
        },
        "id": "rtJvZln7B5tI",
        "outputId": "2f3e3493-6964-4400-940e-6b37cba7d446"
      },
      "outputs": [
        {
          "output_type": "stream",
          "name": "stdout",
          "text": [
            "{'fName': 'Ahmed', 'lName': 'Shaikh', 'mName': 'Saleem'}\n"
          ]
        }
      ],
      "source": [
        "from typing import Dict;\n",
        "import pprint;\n",
        "\n",
        "data : Dict[str,str] = { \"fName\": \"Ahmed\", \"mName\": \"Saleem\", \"lName\": \"Shaikh\" };\n",
        "\n",
        "pprint.pprint(data); # Print In Sequence"
      ]
    },
    {
      "cell_type": "code",
      "execution_count": 55,
      "metadata": {
        "colab": {
          "base_uri": "https://localhost:8080/"
        },
        "id": "yLf9cnRFB5tJ",
        "outputId": "1fa58ec2-daba-4e95-c406-32f5fd83df8a"
      },
      "outputs": [
        {
          "output_type": "stream",
          "name": "stdout",
          "text": [
            "{1, 4, 5, 7}\n"
          ]
        }
      ],
      "source": [
        "data: set = { 1, 1, 4, 5, 4, 7 };\n",
        "\n",
        "print(data); # Set Type Return Unique Value In Order & Not Apply Indexing"
      ]
    },
    {
      "cell_type": "code",
      "execution_count": 56,
      "metadata": {
        "colab": {
          "base_uri": "https://localhost:8080/"
        },
        "id": "VAU0got8B5tK",
        "outputId": "ec6df90d-e14e-4065-d1d9-0458a8441c6b"
      },
      "outputs": [
        {
          "output_type": "execute_result",
          "data": {
            "text/plain": [
              "['add',\n",
              " 'clear',\n",
              " 'copy',\n",
              " 'difference',\n",
              " 'difference_update',\n",
              " 'discard',\n",
              " 'intersection',\n",
              " 'intersection_update',\n",
              " 'isdisjoint',\n",
              " 'issubset',\n",
              " 'issuperset',\n",
              " 'pop',\n",
              " 'remove',\n",
              " 'symmetric_difference',\n",
              " 'symmetric_difference_update',\n",
              " 'union',\n",
              " 'update']"
            ]
          },
          "metadata": {},
          "execution_count": 56
        }
      ],
      "source": [
        "[i for i in dir(data) if \"__\" not in i] # Check Set Data Types Methods & Attributes"
      ]
    },
    {
      "cell_type": "code",
      "execution_count": 57,
      "metadata": {
        "colab": {
          "base_uri": "https://localhost:8080/"
        },
        "id": "2j6SWkK-B5tK",
        "outputId": "856d577c-e4cd-4e4f-88ef-8fef00d8eeba"
      },
      "outputs": [
        {
          "output_type": "stream",
          "name": "stdout",
          "text": [
            "{'fName': 'Ahmed', 'lName': 'Shaikh', 'mName': 'Saleem'}\n"
          ]
        }
      ],
      "source": [
        "from typing import Dict, Union;\n",
        "import pprint;\n",
        "\n",
        "Key = Union[int, str];\n",
        "\n",
        "Value = Union[int, str, list, dict, tuple, set];\n",
        "\n",
        "data : Dict[Key, Value] = {\n",
        "                            \"fName\": \"Ahmed\",\n",
        "                            \"mName\": \"Saleem\",\n",
        "                            \"lName\": \"Shaikh\"\n",
        "                        };\n",
        "\n",
        "pprint.pprint(data);"
      ]
    },
    {
      "cell_type": "code",
      "execution_count": 58,
      "metadata": {
        "colab": {
          "base_uri": "https://localhost:8080/"
        },
        "id": "d_U2s4_OB5tL",
        "outputId": "2b0ac5f9-81ac-4590-9a28-a127c8ae232a"
      },
      "outputs": [
        {
          "output_type": "stream",
          "name": "stdout",
          "text": [
            "{100: 'Pakistan',\n",
            " 'Array': [1, 2, 3],\n",
            " 'Fun': (1, 2, 3),\n",
            " 'Obj': {1, 2, 3},\n",
            " 'Oop': {'A': 1, 'B': 2},\n",
            " 'fName': 'Ahmed',\n",
            " 'lName': 'Shaikh',\n",
            " 'mName': 'Saleem'}\n",
            "Ahmed\n",
            "Pakistan\n",
            "{1, 2, 3}\n",
            "{'A': 1, 'B': 2}\n"
          ]
        }
      ],
      "source": [
        "from typing import Dict, Union;\n",
        "import pprint;\n",
        "\n",
        "Key = Union[int, str];\n",
        "\n",
        "Value = Union[int, str, list, dict, tuple, set];\n",
        "\n",
        "data : Dict[Key, Value] = {\n",
        "                              \"fName\": \"Ahmed\",\n",
        "                              \"mName\": \"Saleem\",\n",
        "                              \"lName\": \"Shaikh\",\n",
        "                              100: \"Pakistan\",\n",
        "                              \"Array\": [1, 2, 3],\n",
        "                              \"Obj\": {1, 2, 3},\n",
        "                              \"Fun\": (1, 2, 3),\n",
        "                              \"Oop\": {\"A\": 1, \"B\": 2}\n",
        "                         };\n",
        "\n",
        "pprint.pprint(data);\n",
        "\n",
        "print(data[\"fName\"]);\n",
        "\n",
        "print(data[100]);\n",
        "\n",
        "print(data[\"Obj\"]);\n",
        "\n",
        "print(data[\"Oop\"]);"
      ]
    },
    {
      "cell_type": "code",
      "execution_count": 59,
      "metadata": {
        "colab": {
          "base_uri": "https://localhost:8080/"
        },
        "id": "UnpUAH70B5tM",
        "outputId": "161eab8a-a780-4ba6-a1c1-4bcc881fb916"
      },
      "outputs": [
        {
          "output_type": "stream",
          "name": "stdout",
          "text": [
            "{1, 4, 5, 7}\n",
            "[1, 4, 5, 7]\n"
          ]
        }
      ],
      "source": [
        "data: set = { 1, 1, 4, 5, 4, 7 };\n",
        "\n",
        "print(data);\n",
        "\n",
        "listData: list[int] = list(data);\n",
        "\n",
        "print(listData);"
      ]
    },
    {
      "cell_type": "code",
      "execution_count": 60,
      "metadata": {
        "colab": {
          "base_uri": "https://localhost:8080/"
        },
        "id": "lKca-36FB5tN",
        "outputId": "a75bbd77-88c4-4d38-ca5b-876a691a70f5"
      },
      "outputs": [
        {
          "output_type": "stream",
          "name": "stdout",
          "text": [
            "1\n"
          ]
        }
      ],
      "source": [
        "from typing import Dict, Union;\n",
        "\n",
        "Key = Union[int, str];\n",
        "\n",
        "Value = Union[int, str, list, dict, tuple, set];\n",
        "\n",
        "data : Dict[Key, Value] = {\n",
        "                              \"fName\": \"Ahmed\",\n",
        "                              \"mName\": \"Saleem\",\n",
        "                              \"lName\": \"Shaikh\",\n",
        "                              100: \"Pakistan\",\n",
        "                              \"Array\": [1, 2, 3],\n",
        "                              \"Obj\": {1, 2, 3},\n",
        "                              \"Fun\": (1, 2, 3),\n",
        "                              \"Oop\": {\"A\": 1, \"B\": 2}\n",
        "                         };\n",
        "\n",
        "print(data[\"Oop\"][\"A\"]);"
      ]
    },
    {
      "cell_type": "code",
      "execution_count": 61,
      "metadata": {
        "colab": {
          "base_uri": "https://localhost:8080/"
        },
        "id": "_up5YDWwB5tN",
        "outputId": "e3fbccb4-605e-40a7-f2a1-ddd1ff2778dc"
      },
      "outputs": [
        {
          "output_type": "stream",
          "name": "stdout",
          "text": [
            "{'Country': 'Nertherlands',\n",
            " 'Learning Language': 'Python',\n",
            " 'Message': 'Free Palestine'}\n"
          ]
        }
      ],
      "source": [
        "from typing import Dict, Union;\n",
        "import pprint;\n",
        "\n",
        "Key = Union[int, str];\n",
        "\n",
        "Value = Union[int, str, list, dict, tuple, set];\n",
        "\n",
        "data : Dict[Key, Value] = {};\n",
        "\n",
        "data[\"Country\"] = \"Nertherlands\";\n",
        "\n",
        "data[\"Message\"] = \"Free Palestine\";\n",
        "\n",
        "data[\"Learning Language\"] = \"Python\";\n",
        "\n",
        "pprint.pprint(data);"
      ]
    },
    {
      "cell_type": "code",
      "execution_count": 62,
      "metadata": {
        "colab": {
          "base_uri": "https://localhost:8080/"
        },
        "id": "02L3bHlaB5tP",
        "outputId": "1c4449ea-58eb-4c01-c949-b3df299de327"
      },
      "outputs": [
        {
          "output_type": "stream",
          "name": "stdout",
          "text": [
            "{'Country': 'Nertherlands',\n",
            " 'Learning Language': 'Python',\n",
            " 'Message': 'Free Palestine'}\n"
          ]
        }
      ],
      "source": [
        "from typing import Dict, Union;\n",
        "import pprint;\n",
        "\n",
        "Key = Union[int, str];\n",
        "\n",
        "Value = Union[int, str, list, dict, tuple, set];\n",
        "\n",
        "data : Dict[Key, Value] = {\n",
        "                            \"Country\": \"Nertherlands\",\n",
        "                            \"Message\": \"Free Palestine\",\n",
        "                            \"Learning Language\":\"Python\"\n",
        "                        };\n",
        "\n",
        "pprint.pprint(data);"
      ]
    },
    {
      "cell_type": "code",
      "execution_count": 63,
      "metadata": {
        "colab": {
          "base_uri": "https://localhost:8080/"
        },
        "id": "D5RyHrlLB5tP",
        "outputId": "eedeb124-70e0-449d-bddd-4417389dd2fb"
      },
      "outputs": [
        {
          "output_type": "stream",
          "name": "stdout",
          "text": [
            "{'Country': 'Nertherlands',\n",
            " 'Learning Language': 'Python',\n",
            " 'Message': 'Free Palestine',\n",
            " 'fullName': 'Ahmed Shaykh'}\n"
          ]
        }
      ],
      "source": [
        "\n",
        "data[\"fullName\"] = \"Ahmed Shaykh\";\n",
        "\n",
        "pprint.pprint(data);"
      ]
    },
    {
      "cell_type": "markdown",
      "metadata": {
        "id": "WxNAVl71B5tQ"
      },
      "source": [
        "# **Dictionary Methods**"
      ]
    },
    {
      "cell_type": "code",
      "execution_count": 64,
      "metadata": {
        "colab": {
          "base_uri": "https://localhost:8080/"
        },
        "id": "f9ALGcGiB5tQ",
        "outputId": "739e139d-7bfe-4a49-cf5f-12f07b6bc543"
      },
      "outputs": [
        {
          "output_type": "execute_result",
          "data": {
            "text/plain": [
              "['clear',\n",
              " 'copy',\n",
              " 'fromkeys',\n",
              " 'get',\n",
              " 'items',\n",
              " 'keys',\n",
              " 'pop',\n",
              " 'popitem',\n",
              " 'setdefault',\n",
              " 'update',\n",
              " 'values']"
            ]
          },
          "metadata": {},
          "execution_count": 64
        }
      ],
      "source": [
        "[i for i in dir(data) if \"__\" not in i]"
      ]
    },
    {
      "cell_type": "code",
      "execution_count": 65,
      "metadata": {
        "colab": {
          "base_uri": "https://localhost:8080/"
        },
        "id": "1wnKWN04B5tR",
        "outputId": "292de8b4-d6f1-45c4-e16b-d5140890a32a"
      },
      "outputs": [
        {
          "output_type": "stream",
          "name": "stdout",
          "text": [
            "Not Available\n",
            "Free Palestine\n"
          ]
        }
      ],
      "source": [
        "print(data.get(\"Pakistan\", \"Not Available\"));\n",
        "\n",
        "print(data.get(\"Message\", \"Not Available\"));"
      ]
    },
    {
      "cell_type": "code",
      "execution_count": 66,
      "metadata": {
        "colab": {
          "base_uri": "https://localhost:8080/"
        },
        "id": "_6ES1m4aB5tS",
        "outputId": "0da84fdf-c02f-49b2-f01a-e21da4cdd8af"
      },
      "outputs": [
        {
          "output_type": "stream",
          "name": "stdout",
          "text": [
            "'Country'\n",
            "'Message'\n",
            "'Learning Language'\n"
          ]
        }
      ],
      "source": [
        "from typing import Dict, Union;\n",
        "import pprint;\n",
        "\n",
        "Key = Union[int, str];\n",
        "\n",
        "Value = Union[int, str, list, dict, tuple, set];\n",
        "\n",
        "data : Dict[Key, Value] = {\n",
        "                            \"Country\": \"Nertherlands\",\n",
        "                            \"Message\": \"Free Palestine\",\n",
        "                            \"Learning Language\": \"Python\"\n",
        "                        };\n",
        "\n",
        "for key in data:\n",
        "\n",
        "    pprint.pprint(key);"
      ]
    },
    {
      "cell_type": "code",
      "execution_count": 67,
      "metadata": {
        "colab": {
          "base_uri": "https://localhost:8080/"
        },
        "id": "4JEdgO-UB5tS",
        "outputId": "a0685615-a294-45eb-e4ee-4dacdc8b4a2a"
      },
      "outputs": [
        {
          "output_type": "stream",
          "name": "stdout",
          "text": [
            "dict_keys(['Country', 'Message', 'Learning Language'])\n",
            "dict_values(['Nertherlands', 'Free Palestine', 'Python'])\n",
            "dict_items([('Country', 'Nertherlands'), ('Message', 'Free Palestine'), ('Learning Language', 'Python')])\n",
            "Country\n",
            "Nertherlands \n",
            "\n",
            "Message\n",
            "Free Palestine \n",
            "\n",
            "Learning Language\n",
            "Python \n",
            "\n"
          ]
        }
      ],
      "source": [
        "from typing import Dict, Union;\n",
        "\n",
        "Key = Union[int, str];\n",
        "\n",
        "Value = Union[int, str, list, dict, tuple, set];\n",
        "\n",
        "data : Dict[Key, Value] = {\n",
        "                            \"Country\": \"Nertherlands\",\n",
        "                            \"Message\": \"Free Palestine\",\n",
        "                            \"Learning Language\":\"Python\"\n",
        "                        };\n",
        "\n",
        "print(data.keys()); # Keys\n",
        "print(data.values()); # Values\n",
        "print(data.items()); # All Items In Dictionary\n",
        "\n",
        "for val in data.keys():\n",
        "\n",
        "    print(val);\n",
        "\n",
        "    print(f\"{data[val]} \\n\");"
      ]
    },
    {
      "cell_type": "code",
      "execution_count": 68,
      "metadata": {
        "colab": {
          "base_uri": "https://localhost:8080/"
        },
        "id": "q4aHOHa4B5tT",
        "outputId": "a156bb50-9b43-41e6-d2f5-19e17f4aa842"
      },
      "outputs": [
        {
          "output_type": "stream",
          "name": "stdout",
          "text": [
            "Country Nertherlands\n",
            "Message Free Palestine\n",
            "Learning Language Python\n"
          ]
        }
      ],
      "source": [
        "for key, val in data.items():\n",
        "\n",
        "    print(key, val);"
      ]
    },
    {
      "cell_type": "code",
      "execution_count": 69,
      "metadata": {
        "colab": {
          "base_uri": "https://localhost:8080/"
        },
        "id": "QqAlH3YVB5tT",
        "outputId": "087ab657-6563-48b0-e854-b3ffc102bc97"
      },
      "outputs": [
        {
          "output_type": "stream",
          "name": "stdout",
          "text": [
            "{'Country': 'Nertherlands',\n",
            " 'Learning Language': 'Python',\n",
            " 'Message': 'Free Palestine'}\n"
          ]
        }
      ],
      "source": [
        "import pprint;\n",
        "\n",
        "pprint.pprint({ key: val for key, val in data.items() }); # List Comprehensive"
      ]
    },
    {
      "cell_type": "code",
      "execution_count": 70,
      "metadata": {
        "colab": {
          "base_uri": "https://localhost:8080/"
        },
        "id": "YWL2RnycB5tU",
        "outputId": "5ec57c6f-cf65-419b-ccd9-f4708e27399d"
      },
      "outputs": [
        {
          "output_type": "stream",
          "name": "stdout",
          "text": [
            "{'Free Palestine': 'Message',\n",
            " 'Nertherlands': 'Country',\n",
            " 'Python': 'Learning Language'}\n"
          ]
        }
      ],
      "source": [
        "import pprint;\n",
        "\n",
        "pprint.pprint({ val: key for key, val in data.items() }); # Shuffle"
      ]
    },
    {
      "cell_type": "code",
      "execution_count": 71,
      "metadata": {
        "colab": {
          "base_uri": "https://localhost:8080/"
        },
        "id": "Sq8F_v_bB5tU",
        "outputId": "b2e2ac3b-6ba9-4601-b72e-447312776d06"
      },
      "outputs": [
        {
          "output_type": "stream",
          "name": "stdout",
          "text": [
            "9 7\n"
          ]
        }
      ],
      "source": [
        "a : int = 7;\n",
        "b : int = 9;\n",
        "\n",
        "a, b = b, a; # Shuffle\n",
        "\n",
        "print(a, b);"
      ]
    },
    {
      "cell_type": "code",
      "execution_count": 72,
      "metadata": {
        "colab": {
          "base_uri": "https://localhost:8080/"
        },
        "id": "QhionYpYB5tV",
        "outputId": "43b4d95f-7ecb-4bbb-9415-587a6fbeb785"
      },
      "outputs": [
        {
          "output_type": "stream",
          "name": "stdout",
          "text": [
            "{'Country': 'Nertherlands', 'Message': 'Free Palestine', 'Learning Language': 'Python'}\n",
            "{}\n"
          ]
        }
      ],
      "source": [
        "from typing import Dict, Union;\n",
        "\n",
        "Key = Union[int, str];\n",
        "\n",
        "Value = Union[int, str, list, dict, tuple, set];\n",
        "\n",
        "data : Dict[Key, Value] = {\n",
        "                            \"Country\": \"Nertherlands\",\n",
        "                            \"Message\": \"Free Palestine\",\n",
        "                            \"Learning Language\":\"Python\"\n",
        "                        };\n",
        "\n",
        "print(data);\n",
        "\n",
        "data.clear();\n",
        "\n",
        "print(data);"
      ]
    },
    {
      "cell_type": "code",
      "execution_count": 73,
      "metadata": {
        "colab": {
          "base_uri": "https://localhost:8080/"
        },
        "id": "RXYComv7B5tW",
        "outputId": "481c431a-be32-406f-b89e-db359fdbce02"
      },
      "outputs": [
        {
          "output_type": "stream",
          "name": "stdout",
          "text": [
            "{'Country': 'Nertherlands',\n",
            " 'Learning Language': 'Python',\n",
            " 'Message': 'Free Palestine 🇵🇸'}\n",
            "Nertherlands\n",
            "{'Learning Language': 'Python', 'Message': 'Free Palestine 🇵🇸'}\n"
          ]
        }
      ],
      "source": [
        "from typing import Dict, Union;\n",
        "import pprint;\n",
        "\n",
        "Key = Union[int, str];\n",
        "\n",
        "Value = Union[int, str, list, dict, tuple, set];\n",
        "\n",
        "data : Dict[Key, Value] = {\n",
        "                            \"Country\": \"Nertherlands\",\n",
        "                            \"Message\": \"Free Palestine 🇵🇸\",\n",
        "                            \"Learning Language\":\"Python\"\n",
        "                        };\n",
        "\n",
        "pprint.pprint(data);\n",
        "\n",
        "val: str = data.pop(\"Country\");\n",
        "\n",
        "print(val); # Pop Remove Particular Item\n",
        "\n",
        "pprint.pprint(data);"
      ]
    },
    {
      "cell_type": "code",
      "execution_count": 74,
      "metadata": {
        "colab": {
          "base_uri": "https://localhost:8080/"
        },
        "id": "ApEcQEVXB5tX",
        "outputId": "00b2a3d9-4efc-4129-b93f-f06a608ffecf"
      },
      "outputs": [
        {
          "output_type": "stream",
          "name": "stdout",
          "text": [
            "{'Country': 'Nertherlands',\n",
            " 'Learning Language': 'Python',\n",
            " 'Message': 'Free Palestine'}\n",
            "('Learning Language', 'Python')\n",
            "{'Country': 'Nertherlands', 'Message': 'Free Palestine'}\n"
          ]
        }
      ],
      "source": [
        "from typing import Dict, Union;\n",
        "import pprint;\n",
        "\n",
        "Key = Union[int, str];\n",
        "\n",
        "Value = Union[int, str, list, dict, tuple, set];\n",
        "\n",
        "data : Dict[Key, Value] = {\n",
        "                            \"Country\": \"Nertherlands\",\n",
        "                            \"Message\": \"Free Palestine\",\n",
        "                            \"Learning Language\":\"Python\"\n",
        "                        };\n",
        "\n",
        "pprint.pprint(data);\n",
        "\n",
        "val: str = data.popitem();\n",
        "\n",
        "print(val); # PopItem Remove Last Item\n",
        "\n",
        "pprint.pprint(data);"
      ]
    },
    {
      "cell_type": "code",
      "execution_count": 75,
      "metadata": {
        "colab": {
          "base_uri": "https://localhost:8080/"
        },
        "id": "5Y4-IcN9B5tY",
        "outputId": "13551d56-9aed-42a7-8f9d-8b4c6ebe61c0"
      },
      "outputs": [
        {
          "output_type": "stream",
          "name": "stdout",
          "text": [
            "{'Country': 'Nertherlands',\n",
            " 'Learning Language': 'Python',\n",
            " 'Message': 'Free Palestine'}\n",
            "Free Palestine\n",
            "{'Country': 'Nertherlands',\n",
            " 'Learning Language': 'Python',\n",
            " 'Message': 'Free Palestine'}\n"
          ]
        }
      ],
      "source": [
        "from typing import Dict, Union;\n",
        "import pprint;\n",
        "\n",
        "Key = Union[int, str];\n",
        "\n",
        "Value = Union[int, str, list, dict, tuple, set];\n",
        "\n",
        "data : Dict[Key, Value] = {\n",
        "                            \"Country\": \"Nertherlands\",\n",
        "                            \"Message\": \"Free Palestine\",\n",
        "                            \"Learning Language\":\"Python\"\n",
        "                        };\n",
        "\n",
        "pprint.pprint(data);\n",
        "\n",
        "val: str = data.get(\"Message\", \"No Message Available\");\n",
        "\n",
        "print(val);\n",
        "\n",
        "pprint.pprint(data);"
      ]
    },
    {
      "cell_type": "code",
      "execution_count": 76,
      "metadata": {
        "colab": {
          "base_uri": "https://localhost:8080/"
        },
        "id": "5cXRauS9B5tZ",
        "outputId": "9e56ceb5-f25e-4fa8-af32-79bdcb9688cd"
      },
      "outputs": [
        {
          "output_type": "stream",
          "name": "stdout",
          "text": [
            "{'Country': 'Nertherlands',\n",
            " 'Learning Language': 'Python',\n",
            " 'Message': 'Free Palestine'}\n",
            "Python\n",
            "Empty Value\n",
            "{'Country': 'Nertherlands',\n",
            " 'LLM': 'Empty Value',\n",
            " 'Learning Language': 'Python',\n",
            " 'Message': 'Free Palestine'}\n"
          ]
        }
      ],
      "source": [
        "from typing import Dict, Union;\n",
        "import pprint;\n",
        "\n",
        "Key = Union[int, str];\n",
        "\n",
        "Value = Union[int, str, list, dict, tuple, set];\n",
        "\n",
        "data : Dict[Key, Value] = {\n",
        "                            \"Country\": \"Nertherlands\",\n",
        "                            \"Message\": \"Free Palestine\",\n",
        "                            \"Learning Language\":\"Python\"\n",
        "                        };\n",
        "\n",
        "pprint.pprint(data);\n",
        "\n",
        "val: str = data.setdefault(\"Learning Language\", \"TypeScript\"); # Return Same Value Not Update Value\n",
        "\n",
        "print(val);\n",
        "\n",
        "val2: str = data.setdefault(\"LLM\", \"Empty Value\"); # Add New Value In Object Not Return Error Message\n",
        "\n",
        "print(val2);\n",
        "\n",
        "pprint.pprint(data);"
      ]
    },
    {
      "cell_type": "code",
      "execution_count": 77,
      "metadata": {
        "colab": {
          "base_uri": "https://localhost:8080/"
        },
        "id": "gmbj6uayB5ta",
        "outputId": "2e980bcf-295c-487c-b188-c8f7213a4a28"
      },
      "outputs": [
        {
          "output_type": "stream",
          "name": "stdout",
          "text": [
            "{'Country': 'Nertherlands',\n",
            " 'Learning Language': 'Python',\n",
            " 'Message': 'Free Palestine',\n",
            " 'fName': 'Ahmed',\n",
            " 'lName': 'Shaikh',\n",
            " 'mName': 'Saleem'}\n"
          ]
        }
      ],
      "source": [
        "from typing import Dict, Union;\n",
        "import pprint;\n",
        "\n",
        "Key = Union[int, str];\n",
        "\n",
        "Value = Union[int, str, list, dict, tuple, set];\n",
        "\n",
        "data : Dict[str,str] = {\n",
        "                        \"fName\": \"Ahmed\",\n",
        "                        \"mName\": \"Saleem\",\n",
        "                        \"lName\": \"Shaikh\",\n",
        "                        \"Country\": \"Pakistan\"\n",
        "                    };\n",
        "\n",
        "data2 : Dict[Key, Value] = {\n",
        "                            \"Country\": \"Nertherlands\",\n",
        "                            \"Message\": \"Free Palestine\",\n",
        "                            \"Learning Language\": \"Python\"\n",
        "                        };\n",
        "\n",
        "data.update(data2);\n",
        "\n",
        "pprint.pprint(data);"
      ]
    },
    {
      "cell_type": "code",
      "execution_count": 78,
      "metadata": {
        "colab": {
          "base_uri": "https://localhost:8080/"
        },
        "id": "PVjDNwAOB5tb",
        "outputId": "82cbad5d-320b-49c3-edb6-f97cf0f9f5bd"
      },
      "outputs": [
        {
          "output_type": "stream",
          "name": "stdout",
          "text": [
            "dict_keys(['fName', 'mName', 'lName', 'Country', 'Message', 'Learning Language']) \n",
            "\n",
            "dict_values(['Ahmed', 'Saleem', 'Shaikh', 'Nertherlands', 'Free Palestine', 'Python']) \n",
            "\n",
            "(\"dict_items([('fName', 'Ahmed'), ('mName', 'Saleem'), ('lName', 'Shaikh'), \"\n",
            " \"('Country', 'Nertherlands'), ('Message', 'Free Palestine'), ('Learning \"\n",
            " \"Language', 'Python')])\")\n"
          ]
        }
      ],
      "source": [
        "print(f\"{data.keys()} \\n\");\n",
        "\n",
        "print(f\"{data.values()} \\n\");\n",
        "\n",
        "pprint.pprint(f\"{data.items()}\");"
      ]
    },
    {
      "cell_type": "code",
      "execution_count": 79,
      "metadata": {
        "colab": {
          "base_uri": "https://localhost:8080/"
        },
        "id": "niKA_4gPB5tc",
        "outputId": "31aa08d4-3867-4a1e-d22b-811738c80dce"
      },
      "outputs": [
        {
          "output_type": "stream",
          "name": "stdout",
          "text": [
            "{'fName': None, 'mName': None, 'lName': None, 'Country': None}\n"
          ]
        }
      ],
      "source": [
        "from typing import Dict, Union, List;\n",
        "\n",
        "Key = Union[int, str];\n",
        "\n",
        "Value = Union[int, str, list, dict, tuple, set];\n",
        "\n",
        "keys : List[str] = [\"fName\", \"mName\", \"lName\", \"Country\"];\n",
        "\n",
        "data : Dict[Key,Value] = {};\n",
        "\n",
        "data = data.fromkeys(keys);\n",
        "\n",
        "print(data);"
      ]
    },
    {
      "cell_type": "code",
      "execution_count": 80,
      "metadata": {
        "colab": {
          "base_uri": "https://localhost:8080/"
        },
        "id": "EJwdgMRMB5tc",
        "outputId": "135ff309-811e-4ea0-d538-d9f21c466538"
      },
      "outputs": [
        {
          "output_type": "stream",
          "name": "stdout",
          "text": [
            "{'fName': 1, 'mName': 1, 'lName': 1, 'Country': 1}\n"
          ]
        }
      ],
      "source": [
        "data = data.fromkeys(keys, 1);\n",
        "\n",
        "print(data);"
      ]
    },
    {
      "cell_type": "code",
      "execution_count": 81,
      "metadata": {
        "colab": {
          "base_uri": "https://localhost:8080/"
        },
        "id": "sXYXbBDfB5td",
        "outputId": "14d65054-964d-4ae5-bfb0-f4fa0c6dfc75"
      },
      "outputs": [
        {
          "output_type": "stream",
          "name": "stdout",
          "text": [
            "{'Country': ['Ahmed', 'Saleem', 'Shaikh', 'Pakistan'],\n",
            " 'fName': ['Ahmed', 'Saleem', 'Shaikh', 'Pakistan'],\n",
            " 'lName': ['Ahmed', 'Saleem', 'Shaikh', 'Pakistan'],\n",
            " 'mName': ['Ahmed', 'Saleem', 'Shaikh', 'Pakistan']}\n"
          ]
        }
      ],
      "source": [
        "values : List[str] = [\"Ahmed\", \"Saleem\", \"Shaikh\", \"Pakistan\"];\n",
        "\n",
        "data = data.fromkeys(keys, values); # Values Add In All Keys Items\n",
        "\n",
        "pprint.pprint(data);"
      ]
    },
    {
      "cell_type": "code",
      "execution_count": 82,
      "metadata": {
        "colab": {
          "base_uri": "https://localhost:8080/",
          "height": 143
        },
        "id": "GknVrWbNB5te",
        "outputId": "ef06ca30-6544-4d48-d7c1-df0c265a099a"
      },
      "outputs": [
        {
          "output_type": "execute_result",
          "data": {
            "text/plain": [
              "   No Company         Net Worth\n",
              "0   1   Apple    $2.72 Trillion\n",
              "1   2  SpaceX      $150 Billion\n",
              "2   3  Google  $1585.58 Billion"
            ],
            "text/html": [
              "\n",
              "  <div id=\"df-00c3f539-dcdc-44e6-828f-bb4237d93ac3\" class=\"colab-df-container\">\n",
              "    <div>\n",
              "<style scoped>\n",
              "    .dataframe tbody tr th:only-of-type {\n",
              "        vertical-align: middle;\n",
              "    }\n",
              "\n",
              "    .dataframe tbody tr th {\n",
              "        vertical-align: top;\n",
              "    }\n",
              "\n",
              "    .dataframe thead th {\n",
              "        text-align: right;\n",
              "    }\n",
              "</style>\n",
              "<table border=\"1\" class=\"dataframe\">\n",
              "  <thead>\n",
              "    <tr style=\"text-align: right;\">\n",
              "      <th></th>\n",
              "      <th>No</th>\n",
              "      <th>Company</th>\n",
              "      <th>Net Worth</th>\n",
              "    </tr>\n",
              "  </thead>\n",
              "  <tbody>\n",
              "    <tr>\n",
              "      <th>0</th>\n",
              "      <td>1</td>\n",
              "      <td>Apple</td>\n",
              "      <td>$2.72 Trillion</td>\n",
              "    </tr>\n",
              "    <tr>\n",
              "      <th>1</th>\n",
              "      <td>2</td>\n",
              "      <td>SpaceX</td>\n",
              "      <td>$150 Billion</td>\n",
              "    </tr>\n",
              "    <tr>\n",
              "      <th>2</th>\n",
              "      <td>3</td>\n",
              "      <td>Google</td>\n",
              "      <td>$1585.58 Billion</td>\n",
              "    </tr>\n",
              "  </tbody>\n",
              "</table>\n",
              "</div>\n",
              "    <div class=\"colab-df-buttons\">\n",
              "\n",
              "  <div class=\"colab-df-container\">\n",
              "    <button class=\"colab-df-convert\" onclick=\"convertToInteractive('df-00c3f539-dcdc-44e6-828f-bb4237d93ac3')\"\n",
              "            title=\"Convert this dataframe to an interactive table.\"\n",
              "            style=\"display:none;\">\n",
              "\n",
              "  <svg xmlns=\"http://www.w3.org/2000/svg\" height=\"24px\" viewBox=\"0 -960 960 960\">\n",
              "    <path d=\"M120-120v-720h720v720H120Zm60-500h600v-160H180v160Zm220 220h160v-160H400v160Zm0 220h160v-160H400v160ZM180-400h160v-160H180v160Zm440 0h160v-160H620v160ZM180-180h160v-160H180v160Zm440 0h160v-160H620v160Z\"/>\n",
              "  </svg>\n",
              "    </button>\n",
              "\n",
              "  <style>\n",
              "    .colab-df-container {\n",
              "      display:flex;\n",
              "      gap: 12px;\n",
              "    }\n",
              "\n",
              "    .colab-df-convert {\n",
              "      background-color: #E8F0FE;\n",
              "      border: none;\n",
              "      border-radius: 50%;\n",
              "      cursor: pointer;\n",
              "      display: none;\n",
              "      fill: #1967D2;\n",
              "      height: 32px;\n",
              "      padding: 0 0 0 0;\n",
              "      width: 32px;\n",
              "    }\n",
              "\n",
              "    .colab-df-convert:hover {\n",
              "      background-color: #E2EBFA;\n",
              "      box-shadow: 0px 1px 2px rgba(60, 64, 67, 0.3), 0px 1px 3px 1px rgba(60, 64, 67, 0.15);\n",
              "      fill: #174EA6;\n",
              "    }\n",
              "\n",
              "    .colab-df-buttons div {\n",
              "      margin-bottom: 4px;\n",
              "    }\n",
              "\n",
              "    [theme=dark] .colab-df-convert {\n",
              "      background-color: #3B4455;\n",
              "      fill: #D2E3FC;\n",
              "    }\n",
              "\n",
              "    [theme=dark] .colab-df-convert:hover {\n",
              "      background-color: #434B5C;\n",
              "      box-shadow: 0px 1px 3px 1px rgba(0, 0, 0, 0.15);\n",
              "      filter: drop-shadow(0px 1px 2px rgba(0, 0, 0, 0.3));\n",
              "      fill: #FFFFFF;\n",
              "    }\n",
              "  </style>\n",
              "\n",
              "    <script>\n",
              "      const buttonEl =\n",
              "        document.querySelector('#df-00c3f539-dcdc-44e6-828f-bb4237d93ac3 button.colab-df-convert');\n",
              "      buttonEl.style.display =\n",
              "        google.colab.kernel.accessAllowed ? 'block' : 'none';\n",
              "\n",
              "      async function convertToInteractive(key) {\n",
              "        const element = document.querySelector('#df-00c3f539-dcdc-44e6-828f-bb4237d93ac3');\n",
              "        const dataTable =\n",
              "          await google.colab.kernel.invokeFunction('convertToInteractive',\n",
              "                                                    [key], {});\n",
              "        if (!dataTable) return;\n",
              "\n",
              "        const docLinkHtml = 'Like what you see? Visit the ' +\n",
              "          '<a target=\"_blank\" href=https://colab.research.google.com/notebooks/data_table.ipynb>data table notebook</a>'\n",
              "          + ' to learn more about interactive tables.';\n",
              "        element.innerHTML = '';\n",
              "        dataTable['output_type'] = 'display_data';\n",
              "        await google.colab.output.renderOutput(dataTable, element);\n",
              "        const docLink = document.createElement('div');\n",
              "        docLink.innerHTML = docLinkHtml;\n",
              "        element.appendChild(docLink);\n",
              "      }\n",
              "    </script>\n",
              "  </div>\n",
              "\n",
              "\n",
              "<div id=\"df-5ccb95fb-8407-492d-99a6-5aa439eca8ff\">\n",
              "  <button class=\"colab-df-quickchart\" onclick=\"quickchart('df-5ccb95fb-8407-492d-99a6-5aa439eca8ff')\"\n",
              "            title=\"Suggest charts\"\n",
              "            style=\"display:none;\">\n",
              "\n",
              "<svg xmlns=\"http://www.w3.org/2000/svg\" height=\"24px\"viewBox=\"0 0 24 24\"\n",
              "     width=\"24px\">\n",
              "    <g>\n",
              "        <path d=\"M19 3H5c-1.1 0-2 .9-2 2v14c0 1.1.9 2 2 2h14c1.1 0 2-.9 2-2V5c0-1.1-.9-2-2-2zM9 17H7v-7h2v7zm4 0h-2V7h2v10zm4 0h-2v-4h2v4z\"/>\n",
              "    </g>\n",
              "</svg>\n",
              "  </button>\n",
              "\n",
              "<style>\n",
              "  .colab-df-quickchart {\n",
              "      --bg-color: #E8F0FE;\n",
              "      --fill-color: #1967D2;\n",
              "      --hover-bg-color: #E2EBFA;\n",
              "      --hover-fill-color: #174EA6;\n",
              "      --disabled-fill-color: #AAA;\n",
              "      --disabled-bg-color: #DDD;\n",
              "  }\n",
              "\n",
              "  [theme=dark] .colab-df-quickchart {\n",
              "      --bg-color: #3B4455;\n",
              "      --fill-color: #D2E3FC;\n",
              "      --hover-bg-color: #434B5C;\n",
              "      --hover-fill-color: #FFFFFF;\n",
              "      --disabled-bg-color: #3B4455;\n",
              "      --disabled-fill-color: #666;\n",
              "  }\n",
              "\n",
              "  .colab-df-quickchart {\n",
              "    background-color: var(--bg-color);\n",
              "    border: none;\n",
              "    border-radius: 50%;\n",
              "    cursor: pointer;\n",
              "    display: none;\n",
              "    fill: var(--fill-color);\n",
              "    height: 32px;\n",
              "    padding: 0;\n",
              "    width: 32px;\n",
              "  }\n",
              "\n",
              "  .colab-df-quickchart:hover {\n",
              "    background-color: var(--hover-bg-color);\n",
              "    box-shadow: 0 1px 2px rgba(60, 64, 67, 0.3), 0 1px 3px 1px rgba(60, 64, 67, 0.15);\n",
              "    fill: var(--button-hover-fill-color);\n",
              "  }\n",
              "\n",
              "  .colab-df-quickchart-complete:disabled,\n",
              "  .colab-df-quickchart-complete:disabled:hover {\n",
              "    background-color: var(--disabled-bg-color);\n",
              "    fill: var(--disabled-fill-color);\n",
              "    box-shadow: none;\n",
              "  }\n",
              "\n",
              "  .colab-df-spinner {\n",
              "    border: 2px solid var(--fill-color);\n",
              "    border-color: transparent;\n",
              "    border-bottom-color: var(--fill-color);\n",
              "    animation:\n",
              "      spin 1s steps(1) infinite;\n",
              "  }\n",
              "\n",
              "  @keyframes spin {\n",
              "    0% {\n",
              "      border-color: transparent;\n",
              "      border-bottom-color: var(--fill-color);\n",
              "      border-left-color: var(--fill-color);\n",
              "    }\n",
              "    20% {\n",
              "      border-color: transparent;\n",
              "      border-left-color: var(--fill-color);\n",
              "      border-top-color: var(--fill-color);\n",
              "    }\n",
              "    30% {\n",
              "      border-color: transparent;\n",
              "      border-left-color: var(--fill-color);\n",
              "      border-top-color: var(--fill-color);\n",
              "      border-right-color: var(--fill-color);\n",
              "    }\n",
              "    40% {\n",
              "      border-color: transparent;\n",
              "      border-right-color: var(--fill-color);\n",
              "      border-top-color: var(--fill-color);\n",
              "    }\n",
              "    60% {\n",
              "      border-color: transparent;\n",
              "      border-right-color: var(--fill-color);\n",
              "    }\n",
              "    80% {\n",
              "      border-color: transparent;\n",
              "      border-right-color: var(--fill-color);\n",
              "      border-bottom-color: var(--fill-color);\n",
              "    }\n",
              "    90% {\n",
              "      border-color: transparent;\n",
              "      border-bottom-color: var(--fill-color);\n",
              "    }\n",
              "  }\n",
              "</style>\n",
              "\n",
              "  <script>\n",
              "    async function quickchart(key) {\n",
              "      const quickchartButtonEl =\n",
              "        document.querySelector('#' + key + ' button');\n",
              "      quickchartButtonEl.disabled = true;  // To prevent multiple clicks.\n",
              "      quickchartButtonEl.classList.add('colab-df-spinner');\n",
              "      try {\n",
              "        const charts = await google.colab.kernel.invokeFunction(\n",
              "            'suggestCharts', [key], {});\n",
              "      } catch (error) {\n",
              "        console.error('Error during call to suggestCharts:', error);\n",
              "      }\n",
              "      quickchartButtonEl.classList.remove('colab-df-spinner');\n",
              "      quickchartButtonEl.classList.add('colab-df-quickchart-complete');\n",
              "    }\n",
              "    (() => {\n",
              "      let quickchartButtonEl =\n",
              "        document.querySelector('#df-5ccb95fb-8407-492d-99a6-5aa439eca8ff button');\n",
              "      quickchartButtonEl.style.display =\n",
              "        google.colab.kernel.accessAllowed ? 'block' : 'none';\n",
              "    })();\n",
              "  </script>\n",
              "</div>\n",
              "\n",
              "  <div id=\"id_af3c8ad3-ff07-478b-bb5b-4835528fa716\">\n",
              "    <style>\n",
              "      .colab-df-generate {\n",
              "        background-color: #E8F0FE;\n",
              "        border: none;\n",
              "        border-radius: 50%;\n",
              "        cursor: pointer;\n",
              "        display: none;\n",
              "        fill: #1967D2;\n",
              "        height: 32px;\n",
              "        padding: 0 0 0 0;\n",
              "        width: 32px;\n",
              "      }\n",
              "\n",
              "      .colab-df-generate:hover {\n",
              "        background-color: #E2EBFA;\n",
              "        box-shadow: 0px 1px 2px rgba(60, 64, 67, 0.3), 0px 1px 3px 1px rgba(60, 64, 67, 0.15);\n",
              "        fill: #174EA6;\n",
              "      }\n",
              "\n",
              "      [theme=dark] .colab-df-generate {\n",
              "        background-color: #3B4455;\n",
              "        fill: #D2E3FC;\n",
              "      }\n",
              "\n",
              "      [theme=dark] .colab-df-generate:hover {\n",
              "        background-color: #434B5C;\n",
              "        box-shadow: 0px 1px 3px 1px rgba(0, 0, 0, 0.15);\n",
              "        filter: drop-shadow(0px 1px 2px rgba(0, 0, 0, 0.3));\n",
              "        fill: #FFFFFF;\n",
              "      }\n",
              "    </style>\n",
              "    <button class=\"colab-df-generate\" onclick=\"generateWithVariable('result')\"\n",
              "            title=\"Generate code using this dataframe.\"\n",
              "            style=\"display:none;\">\n",
              "\n",
              "  <svg xmlns=\"http://www.w3.org/2000/svg\" height=\"24px\"viewBox=\"0 0 24 24\"\n",
              "       width=\"24px\">\n",
              "    <path d=\"M7,19H8.4L18.45,9,17,7.55,7,17.6ZM5,21V16.75L18.45,3.32a2,2,0,0,1,2.83,0l1.4,1.43a1.91,1.91,0,0,1,.58,1.4,1.91,1.91,0,0,1-.58,1.4L9.25,21ZM18.45,9,17,7.55Zm-12,3A5.31,5.31,0,0,0,4.9,8.1,5.31,5.31,0,0,0,1,6.5,5.31,5.31,0,0,0,4.9,4.9,5.31,5.31,0,0,0,6.5,1,5.31,5.31,0,0,0,8.1,4.9,5.31,5.31,0,0,0,12,6.5,5.46,5.46,0,0,0,6.5,12Z\"/>\n",
              "  </svg>\n",
              "    </button>\n",
              "    <script>\n",
              "      (() => {\n",
              "      const buttonEl =\n",
              "        document.querySelector('#id_af3c8ad3-ff07-478b-bb5b-4835528fa716 button.colab-df-generate');\n",
              "      buttonEl.style.display =\n",
              "        google.colab.kernel.accessAllowed ? 'block' : 'none';\n",
              "\n",
              "      buttonEl.onclick = () => {\n",
              "        google.colab.notebook.generateWithVariable('result');\n",
              "      }\n",
              "      })();\n",
              "    </script>\n",
              "  </div>\n",
              "\n",
              "    </div>\n",
              "  </div>\n"
            ],
            "application/vnd.google.colaboratory.intrinsic+json": {
              "type": "dataframe",
              "variable_name": "result",
              "summary": "{\n  \"name\": \"result\",\n  \"rows\": 3,\n  \"fields\": [\n    {\n      \"column\": \"No\",\n      \"properties\": {\n        \"dtype\": \"number\",\n        \"std\": 1,\n        \"min\": 1,\n        \"max\": 3,\n        \"num_unique_values\": 3,\n        \"samples\": [\n          1,\n          2,\n          3\n        ],\n        \"semantic_type\": \"\",\n        \"description\": \"\"\n      }\n    },\n    {\n      \"column\": \"Company\",\n      \"properties\": {\n        \"dtype\": \"string\",\n        \"num_unique_values\": 3,\n        \"samples\": [\n          \"Apple\",\n          \"SpaceX\",\n          \"Google\"\n        ],\n        \"semantic_type\": \"\",\n        \"description\": \"\"\n      }\n    },\n    {\n      \"column\": \"Net Worth\",\n      \"properties\": {\n        \"dtype\": \"string\",\n        \"num_unique_values\": 3,\n        \"samples\": [\n          \"$2.72 Trillion\",\n          \"$150 Billion\",\n          \"$1585.58 Billion\"\n        ],\n        \"semantic_type\": \"\",\n        \"description\": \"\"\n      }\n    }\n  ]\n}"
            }
          },
          "metadata": {},
          "execution_count": 82
        }
      ],
      "source": [
        "import pandas as pd;\n",
        "from typing import Any;\n",
        "\n",
        "data : Dict[str, list[Any]] = {\n",
        "                                \"No\": [1, 2, 3],\n",
        "                                \"Company\": [\"Apple\", \"SpaceX\", \"Google\"],\n",
        "                                \"Net Worth\": [\"$2.72 Trillion\", \"$150 Billion\", \"$1585.58 Billion\"],\n",
        "                            };\n",
        "\n",
        "result: pd.DataFrame = pd.DataFrame(data);\n",
        "\n",
        "result"
      ]
    },
    {
      "cell_type": "code",
      "execution_count": 83,
      "metadata": {
        "colab": {
          "base_uri": "https://localhost:8080/"
        },
        "id": "_CluQ4MzB5tg",
        "outputId": "879bfdfb-47f0-408c-97c9-d480f69b955e"
      },
      "outputs": [
        {
          "output_type": "stream",
          "name": "stdout",
          "text": [
            "Original Position: 0\n",
            "New Position: 2\n"
          ]
        }
      ],
      "source": [
        "from typing import Dict, Any;\n",
        "\n",
        "alien: Dict[Any, Any] = {\"XPosition\": 0, \"YPosition\": 25, \"Speed\": \"Medium\"};\n",
        "\n",
        "print(f\"\"\"Original Position: {alien[\"XPosition\"]}\"\"\");\n",
        "\n",
        "if alien[\"Speed\"] == \"Slow\":\n",
        "\n",
        "    increment = 1;\n",
        "\n",
        "elif alien[\"Speed\"] == \"Medium\":\n",
        "\n",
        "    increment = 2;\n",
        "\n",
        "else:\n",
        "\n",
        "    increment = 3;\n",
        "\n",
        "alien[\"XPosition\"] += increment;\n",
        "\n",
        "print(f\"\"\"New Position: {alien[\"XPosition\"]}\"\"\");"
      ]
    },
    {
      "cell_type": "code",
      "execution_count": 84,
      "metadata": {
        "colab": {
          "base_uri": "https://localhost:8080/"
        },
        "id": "frIiv5mOB5tg",
        "outputId": "9484f677-3472-44a1-ca5f-44686cb04326"
      },
      "outputs": [
        {
          "output_type": "stream",
          "name": "stdout",
          "text": [
            "New Position: 3\n"
          ]
        }
      ],
      "source": [
        "from typing import Dict, Any;\n",
        "\n",
        "alien: Dict[Any, Any] = {\"XPosition\": 0, \"YPosition\": 25, \"Speed\": \"Medium\"};\n",
        "\n",
        "alien[\"Speed\"] = \"Fast\";\n",
        "\n",
        "if alien[\"Speed\"] == \"Slow\":\n",
        "\n",
        "    increment = 1;\n",
        "\n",
        "elif alien[\"Speed\"] == \"Medium\":\n",
        "\n",
        "    increment = 2;\n",
        "\n",
        "else:\n",
        "\n",
        "    increment = 3;\n",
        "\n",
        "alien[\"XPosition\"] += increment;\n",
        "\n",
        "print(f\"\"\"New Position: {alien[\"XPosition\"]}\"\"\");"
      ]
    },
    {
      "cell_type": "code",
      "execution_count": 85,
      "metadata": {
        "colab": {
          "base_uri": "https://localhost:8080/"
        },
        "id": "zgK2VQuqB5th",
        "outputId": "b733ea89-705f-41a3-a45a-2338ec5c2538"
      },
      "outputs": [
        {
          "output_type": "stream",
          "name": "stdout",
          "text": [
            "{'fName': 'Ahm X', 'mName': 'Saleem', 'lName': 'Shaikh'}\n",
            "My Name Is AHM X\n"
          ]
        }
      ],
      "source": [
        "data : Dict[str,str] = {\n",
        "                        \"fName\": \"Ahmed\",\n",
        "                        \"mName\": \"Saleem\",\n",
        "                        \"lName\": \"Shaikh\",\n",
        "                        \"fName\": \"Ahm X\" # Key Is Always Unique Put In Multiple Same Value But It Support Last Value\n",
        "                    };\n",
        "\n",
        "print(data);\n",
        "\n",
        "val = data[\"fName\"].upper();\n",
        "\n",
        "print(f\"My Name Is {val}\");"
      ]
    },
    {
      "cell_type": "code",
      "execution_count": 86,
      "metadata": {
        "colab": {
          "base_uri": "https://localhost:8080/"
        },
        "id": "ESqUE_7hB5ti",
        "outputId": "40718db0-f84a-4bbf-b710-016e6a0ce340"
      },
      "outputs": [
        {
          "output_type": "stream",
          "name": "stdout",
          "text": [
            "Hi Jen\n",
            "Hi Sarah\n",
            "SARAH, I See You Love Python\n",
            "Hi Edward\n",
            "Hi Phil\n",
            "PHIL, I See You Love TypeScript\n"
          ]
        }
      ],
      "source": [
        "favLanguages : Dict[str,str] = {\n",
        "                                \"Jen\": \"JavaScript\",\n",
        "                                \"Sarah\": \"Python\",\n",
        "                                \"Edward\": \"Solidity\",\n",
        "                                \"Phil\": \"TypeScript\",\n",
        "                            };\n",
        "\n",
        "friends: List[str] = [\"Phil\", \"Sarah\"];\n",
        "\n",
        "for name in favLanguages.keys():\n",
        "\n",
        "    print(f\"Hi {name}\");\n",
        "\n",
        "    if name in friends:\n",
        "\n",
        "        languages = favLanguages[name];\n",
        "\n",
        "        print(f\"{name.upper()}, I See You Love {languages}\");"
      ]
    },
    {
      "cell_type": "code",
      "execution_count": 87,
      "metadata": {
        "colab": {
          "base_uri": "https://localhost:8080/"
        },
        "id": "ZgBnKtHrB5tj",
        "outputId": "c5f0d719-2bcb-479f-dc7f-e7a1ada99211"
      },
      "outputs": [
        {
          "output_type": "stream",
          "name": "stdout",
          "text": [
            "True\n",
            "dict_keys(['Jen', 'Sarah', 'Edward', 'Phil'])\n"
          ]
        }
      ],
      "source": [
        "print(\"Erin\" not in favLanguages.keys());\n",
        "\n",
        "print(favLanguages.keys());"
      ]
    },
    {
      "cell_type": "code",
      "execution_count": 88,
      "metadata": {
        "colab": {
          "base_uri": "https://localhost:8080/"
        },
        "id": "8z-yIoHbB5tj",
        "outputId": "df7f1ab4-a1ca-4fc7-8328-849d866aefa7"
      },
      "outputs": [
        {
          "output_type": "stream",
          "name": "stdout",
          "text": [
            "True\n"
          ]
        }
      ],
      "source": [
        "check: str = \"Ahmed\" in \"\"\"My Name Is Ahmed. I'm Full Stack Developer\"\"\";\n",
        "\n",
        "print(check); # In Method Check Value In Word As Word"
      ]
    },
    {
      "cell_type": "code",
      "execution_count": 89,
      "metadata": {
        "colab": {
          "base_uri": "https://localhost:8080/"
        },
        "id": "9dVstMu3B5tk",
        "outputId": "78315956-caa0-41df-a52d-5af9cc5ee4b8"
      },
      "outputs": [
        {
          "output_type": "stream",
          "name": "stdout",
          "text": [
            "[{'Color': 'Green', 'Points': 5}, {'Color': 'Yellow', 'Points': 10}, {'Color': 'Red', 'Points': 15}]\n",
            "{'Color': 'Green', 'Points': 5}\n",
            "{'Color': 'Yellow', 'Points': 10}\n",
            "{'Color': 'Red', 'Points': 15}\n"
          ]
        }
      ],
      "source": [
        "from typing import Dict, List;\n",
        "\n",
        "alien: Dict[str, int] = {\"Color\": \"Green\", \"Points\": 5};\n",
        "\n",
        "alien2: Dict[str, int] = {\"Color\": \"Yellow\", \"Points\": 10};\n",
        "\n",
        "alien3: Dict[str, int] = {\"Color\": \"Red\", \"Points\": 15};\n",
        "\n",
        "aliens: List[Dict[str, int]] = [alien, alien2, alien3];\n",
        "\n",
        "print(aliens);\n",
        "\n",
        "for alienData in aliens:\n",
        "\n",
        "    print(alienData);"
      ]
    },
    {
      "cell_type": "code",
      "execution_count": 90,
      "metadata": {
        "colab": {
          "base_uri": "https://localhost:8080/"
        },
        "id": "fxoHLa5KB5ty",
        "outputId": "81c5d671-477b-498a-86b3-d5c1c8fc52f6"
      },
      "outputs": [
        {
          "output_type": "stream",
          "name": "stdout",
          "text": [
            "[]\n",
            "[{'Color': 'Black', 'Points': 15, 'Speed': 'Fast'},\n",
            " {'Color': 'Black', 'Points': 15, 'Speed': 'Fast'},\n",
            " {'Color': 'Black', 'Points': 15, 'Speed': 'Fast'},\n",
            " {'Color': 'Black', 'Points': 15, 'Speed': 'Fast'},\n",
            " {'Color': 'Black', 'Points': 15, 'Speed': 'Fast'},\n",
            " {'Color': 'Black', 'Points': 15, 'Speed': 'Fast'},\n",
            " {'Color': 'Black', 'Points': 15, 'Speed': 'Fast'},\n",
            " {'Color': 'Black', 'Points': 15, 'Speed': 'Fast'},\n",
            " {'Color': 'Black', 'Points': 15, 'Speed': 'Fast'},\n",
            " {'Color': 'Black', 'Points': 15, 'Speed': 'Fast'},\n",
            " {'Color': 'Black', 'Points': 15, 'Speed': 'Fast'},\n",
            " {'Color': 'Black', 'Points': 15, 'Speed': 'Fast'},\n",
            " {'Color': 'Black', 'Points': 15, 'Speed': 'Fast'},\n",
            " {'Color': 'Black', 'Points': 15, 'Speed': 'Fast'},\n",
            " {'Color': 'Black', 'Points': 15, 'Speed': 'Fast'},\n",
            " {'Color': 'Black', 'Points': 15, 'Speed': 'Fast'},\n",
            " {'Color': 'Black', 'Points': 15, 'Speed': 'Fast'},\n",
            " {'Color': 'Black', 'Points': 15, 'Speed': 'Fast'},\n",
            " {'Color': 'Black', 'Points': 15, 'Speed': 'Fast'},\n",
            " {'Color': 'Black', 'Points': 15, 'Speed': 'Fast'},\n",
            " {'Color': 'Black', 'Points': 15, 'Speed': 'Fast'},\n",
            " {'Color': 'Black', 'Points': 15, 'Speed': 'Fast'},\n",
            " {'Color': 'Black', 'Points': 15, 'Speed': 'Fast'},\n",
            " {'Color': 'Black', 'Points': 15, 'Speed': 'Fast'},\n",
            " {'Color': 'Black', 'Points': 15, 'Speed': 'Fast'},\n",
            " {'Color': 'Black', 'Points': 15, 'Speed': 'Fast'},\n",
            " {'Color': 'Black', 'Points': 15, 'Speed': 'Fast'},\n",
            " {'Color': 'Black', 'Points': 15, 'Speed': 'Fast'},\n",
            " {'Color': 'Black', 'Points': 15, 'Speed': 'Fast'},\n",
            " {'Color': 'Black', 'Points': 15, 'Speed': 'Fast'}]\n"
          ]
        }
      ],
      "source": [
        "import pprint;\n",
        "\n",
        "aliens: List[Dict[str, int]] = [];\n",
        "\n",
        "print(aliens);\n",
        "\n",
        "for alienNumber in range(30):\n",
        "\n",
        "    alien = {\"Color\": \"Black\", \"Points\": 15, \"Speed\": \"Fast\"};\n",
        "\n",
        "    aliens.append(alien);\n",
        "\n",
        "pprint.pprint(aliens);"
      ]
    },
    {
      "cell_type": "code",
      "execution_count": 91,
      "metadata": {
        "colab": {
          "base_uri": "https://localhost:8080/"
        },
        "id": "kuKP7paIB5ty",
        "outputId": "5f5d1ecd-1350-4510-a769-fdfb937e90f9"
      },
      "outputs": [
        {
          "output_type": "stream",
          "name": "stdout",
          "text": [
            "[{'Color': 'Black', 'Points': 15, 'Speed': 'Fast'},\n",
            " {'Color': 'Black', 'Points': 15, 'Speed': 'Fast'},\n",
            " {'Color': 'Black', 'Points': 15, 'Speed': 'Fast'},\n",
            " {'Color': 'Black', 'Points': 15, 'Speed': 'Fast'},\n",
            " {'Color': 'Black', 'Points': 15, 'Speed': 'Fast'}]\n"
          ]
        }
      ],
      "source": [
        "pprint.pprint(aliens[:5]);"
      ]
    },
    {
      "cell_type": "code",
      "execution_count": 92,
      "metadata": {
        "id": "YGceqrHwB5tz"
      },
      "outputs": [],
      "source": [
        "for alien in aliens[:5]:\n",
        "\n",
        "    if alien[\"Color\"] == \"Black\":\n",
        "\n",
        "        alien[\"Color\"] = \"Blue\";\n",
        "\n",
        "        alien[\"Speed\"] = \"Medium\";\n",
        "\n",
        "        alien[\"Points\"] = 10;"
      ]
    },
    {
      "cell_type": "code",
      "execution_count": 93,
      "metadata": {
        "colab": {
          "base_uri": "https://localhost:8080/"
        },
        "id": "CbIoKviIB5t0",
        "outputId": "5d799f3d-aa87-40e1-958e-b8f6e1863c9b"
      },
      "outputs": [
        {
          "output_type": "stream",
          "name": "stdout",
          "text": [
            "[{'Color': 'Blue', 'Points': 10, 'Speed': 'Medium'},\n",
            " {'Color': 'Blue', 'Points': 10, 'Speed': 'Medium'},\n",
            " {'Color': 'Blue', 'Points': 10, 'Speed': 'Medium'},\n",
            " {'Color': 'Blue', 'Points': 10, 'Speed': 'Medium'},\n",
            " {'Color': 'Blue', 'Points': 10, 'Speed': 'Medium'},\n",
            " {'Color': 'Black', 'Points': 15, 'Speed': 'Fast'},\n",
            " {'Color': 'Black', 'Points': 15, 'Speed': 'Fast'},\n",
            " {'Color': 'Black', 'Points': 15, 'Speed': 'Fast'},\n",
            " {'Color': 'Black', 'Points': 15, 'Speed': 'Fast'},\n",
            " {'Color': 'Black', 'Points': 15, 'Speed': 'Fast'}]\n"
          ]
        }
      ],
      "source": [
        "pprint.pprint(aliens[:10]);"
      ]
    },
    {
      "cell_type": "code",
      "execution_count": 94,
      "metadata": {
        "colab": {
          "base_uri": "https://localhost:8080/"
        },
        "id": "saT7w6czB5t0",
        "outputId": "bd4adf5f-95c6-49bf-db75-d98c0d2aca34"
      },
      "outputs": [
        {
          "output_type": "stream",
          "name": "stdout",
          "text": [
            "[{'Color': 'White', 'Points': 5, 'Speed': 'Slow'},\n",
            " {'Color': 'White', 'Points': 5, 'Speed': 'Slow'},\n",
            " {'Color': 'White', 'Points': 5, 'Speed': 'Slow'},\n",
            " {'Color': 'White', 'Points': 5, 'Speed': 'Slow'},\n",
            " {'Color': 'White', 'Points': 5, 'Speed': 'Slow'},\n",
            " {'Color': 'Blue', 'Points': 10, 'Speed': 'Medium'},\n",
            " {'Color': 'Blue', 'Points': 10, 'Speed': 'Medium'},\n",
            " {'Color': 'Blue', 'Points': 10, 'Speed': 'Medium'},\n",
            " {'Color': 'Blue', 'Points': 10, 'Speed': 'Medium'},\n",
            " {'Color': 'Black', 'Points': 15, 'Speed': 'Fast'},\n",
            " {'Color': 'Black', 'Points': 15, 'Speed': 'Fast'},\n",
            " {'Color': 'Black', 'Points': 15, 'Speed': 'Fast'},\n",
            " {'Color': 'Black', 'Points': 15, 'Speed': 'Fast'},\n",
            " {'Color': 'Black', 'Points': 15, 'Speed': 'Fast'},\n",
            " {'Color': 'Black', 'Points': 15, 'Speed': 'Fast'},\n",
            " {'Color': 'Black', 'Points': 15, 'Speed': 'Fast'},\n",
            " {'Color': 'Black', 'Points': 15, 'Speed': 'Fast'},\n",
            " {'Color': 'Black', 'Points': 15, 'Speed': 'Fast'},\n",
            " {'Color': 'Black', 'Points': 15, 'Speed': 'Fast'},\n",
            " {'Color': 'Black', 'Points': 15, 'Speed': 'Fast'},\n",
            " {'Color': 'Black', 'Points': 15, 'Speed': 'Fast'},\n",
            " {'Color': 'Black', 'Points': 15, 'Speed': 'Fast'},\n",
            " {'Color': 'Black', 'Points': 15, 'Speed': 'Fast'},\n",
            " {'Color': 'Black', 'Points': 15, 'Speed': 'Fast'},\n",
            " {'Color': 'Black', 'Points': 15, 'Speed': 'Fast'},\n",
            " {'Color': 'Black', 'Points': 15, 'Speed': 'Fast'},\n",
            " {'Color': 'Black', 'Points': 15, 'Speed': 'Fast'},\n",
            " {'Color': 'Black', 'Points': 15, 'Speed': 'Fast'},\n",
            " {'Color': 'Black', 'Points': 15, 'Speed': 'Fast'},\n",
            " {'Color': 'Black', 'Points': 15, 'Speed': 'Fast'}]\n"
          ]
        }
      ],
      "source": [
        "for alien in aliens[0:9]:\n",
        "\n",
        "    if alien[\"Color\"] == \"Black\":\n",
        "\n",
        "        alien[\"Color\"] = \"Blue\";\n",
        "\n",
        "        alien[\"Speed\"] = \"Medium\";\n",
        "\n",
        "        alien[\"Points\"] = 10;\n",
        "\n",
        "    elif alien[\"Color\"] == \"Blue\":\n",
        "\n",
        "        alien[\"Color\"] = \"White\";\n",
        "\n",
        "        alien[\"Speed\"] = \"Slow\";\n",
        "\n",
        "        alien[\"Points\"] = 5;\n",
        "\n",
        "pprint.pprint(aliens);"
      ]
    },
    {
      "cell_type": "code",
      "execution_count": 95,
      "metadata": {
        "colab": {
          "base_uri": "https://localhost:8080/"
        },
        "id": "lTSXKTx8B5t2",
        "outputId": "dfeb93e7-da43-4e2e-9793-38feaec35453"
      },
      "outputs": [
        {
          "output_type": "stream",
          "name": "stdout",
          "text": [
            "{'Country': 'Nertherlands', 'Message': 'Free Palestine', 'Learning Language': 'Python'}\n",
            "<class 'dict'>\n"
          ]
        }
      ],
      "source": [
        "from typing import Dict, Union;\n",
        "\n",
        "Key = Union[int, str];\n",
        "\n",
        "Value = Union[int, str, list, dict, tuple, set];\n",
        "\n",
        "data : Dict[Key, Value] = {\n",
        "                            \"Country\": \"Nertherlands\",\n",
        "                            \"Message\": \"Free Palestine\",\n",
        "                            \"Learning Language\":\"Python\"\n",
        "                        };\n",
        "\n",
        "print(data);\n",
        "\n",
        "print(type(data));"
      ]
    },
    {
      "cell_type": "code",
      "execution_count": 96,
      "metadata": {
        "colab": {
          "base_uri": "https://localhost:8080/",
          "height": 140
        },
        "id": "GEkDGLzjB5t3",
        "outputId": "444d7f30-f0a1-4592-a7ac-a5034e8ca8ae"
      },
      "outputs": [
        {
          "output_type": "stream",
          "name": "stdout",
          "text": [
            "<class 'str'>\n"
          ]
        },
        {
          "output_type": "display_data",
          "data": {
            "text/plain": [
              "'{\\n    \"Country\": \"Nertherlands\",\\n    \"Message\": \"Free Palestine\",\\n    \"Learning Language\": \"Python\"\\n}'"
            ],
            "application/vnd.google.colaboratory.intrinsic+json": {
              "type": "string"
            }
          },
          "metadata": {}
        },
        {
          "output_type": "stream",
          "name": "stdout",
          "text": [
            "{\n",
            "    \"Country\": \"Nertherlands\",\n",
            "    \"Message\": \"Free Palestine\",\n",
            "    \"Learning Language\": \"Python\"\n",
            "}\n"
          ]
        }
      ],
      "source": [
        "import json;\n",
        "\n",
        "dataJSON = json.dumps(data, indent = 4); # Indent Add Space In JSON\n",
        "\n",
        "print(type(dataJSON));\n",
        "\n",
        "display(dataJSON);\n",
        "\n",
        "print(dataJSON);"
      ]
    },
    {
      "cell_type": "code",
      "execution_count": 97,
      "metadata": {
        "colab": {
          "base_uri": "https://localhost:8080/",
          "height": 122
        },
        "id": "zfdfCuFlB5t3",
        "outputId": "2d81c088-4fa3-4ae2-93c2-f05a70e67851"
      },
      "outputs": [
        {
          "output_type": "display_data",
          "data": {
            "text/plain": [
              "'{\\n            \"Country\": \"Nertherlands\",\\n            \"Message\": \"Free Palestine\",\\n            \"Learning Language\": \"Python\"\\n}'"
            ],
            "application/vnd.google.colaboratory.intrinsic+json": {
              "type": "string"
            }
          },
          "metadata": {}
        },
        {
          "output_type": "stream",
          "name": "stdout",
          "text": [
            "{\n",
            "            \"Country\": \"Nertherlands\",\n",
            "            \"Message\": \"Free Palestine\",\n",
            "            \"Learning Language\": \"Python\"\n",
            "}\n"
          ]
        }
      ],
      "source": [
        "dataJSON = json.dumps(data, indent = 12);\n",
        "\n",
        "display(dataJSON);\n",
        "\n",
        "print(dataJSON);"
      ]
    },
    {
      "cell_type": "markdown",
      "metadata": {
        "id": "SVVlLCfoB5t4"
      },
      "source": [
        "# **Nested Dictionary Type**"
      ]
    },
    {
      "cell_type": "code",
      "execution_count": 98,
      "metadata": {
        "colab": {
          "base_uri": "https://localhost:8080/"
        },
        "id": "rKzI8S4yB5t5",
        "outputId": "10de8615-8136-4800-f3d6-e1390503bcf9"
      },
      "outputs": [
        {
          "output_type": "stream",
          "name": "stdout",
          "text": [
            "{'abc': [1, 2, 3],\n",
            " 'cde': {'a': 1, 'b': 2},\n",
            " 'efg': (1, 2, 3),\n",
            " 'fname': 'Ahmed Saleem',\n",
            " 'id': 44,\n",
            " 'name': 'Ahmed',\n",
            " 'xyz': {1, 2, 3}}\n"
          ]
        }
      ],
      "source": [
        "from typing import Union, TypedDict, Tuple, Set, List;\n",
        "import pprint;\n",
        "\n",
        "dataType = TypedDict(\n",
        "    \"dataType\",\n",
        "    {\n",
        "        \"a\": int,\n",
        "        \"b\": int\n",
        "    }\n",
        ");\n",
        "\n",
        "myDataType = TypedDict(\n",
        "    \"myDataType\", {\n",
        "        \"fname\": str,\n",
        "        \"name\": str,\n",
        "        \"id\": Union[str, int],\n",
        "        \"abc\": List[int],\n",
        "        \"xyz\": Set[int],\n",
        "        \"efg\": Tuple,\n",
        "        \"cde\": dataType\n",
        "    }\n",
        ");\n",
        "\n",
        "data: myDataType = {\n",
        "    \"fname\": \"Ahmed Saleem\",\n",
        "    \"name\": \"Ahmed\",\n",
        "    \"id\": 44,\n",
        "    \"abc\": [1, 2, 3],\n",
        "    \"xyz\": {1, 2, 3},\n",
        "    \"efg\": (1, 2, 3),\n",
        "    \"cde\": {\"a\": 1, \"b\": 2}\n",
        "};\n",
        "\n",
        "pprint.pprint(data);"
      ]
    },
    {
      "cell_type": "code",
      "execution_count": 99,
      "metadata": {
        "colab": {
          "base_uri": "https://localhost:8080/"
        },
        "id": "GHEWsErMB5t6",
        "outputId": "72d69197-dcb5-475c-d48f-eb89106e6cd9"
      },
      "outputs": [
        {
          "output_type": "stream",
          "name": "stdout",
          "text": [
            "2\n",
            "{'a': 1, 'b': 2}\n",
            "44\n"
          ]
        }
      ],
      "source": [
        "print(data[\"cde\"][\"b\"]);\n",
        "\n",
        "print(data[\"cde\"]);\n",
        "\n",
        "print(data[\"id\"]);"
      ]
    }
  ],
  "metadata": {
    "kernelspec": {
      "display_name": "base",
      "language": "python",
      "name": "python3"
    },
    "language_info": {
      "codemirror_mode": {
        "name": "ipython",
        "version": 3
      },
      "file_extension": ".py",
      "mimetype": "text/x-python",
      "name": "python",
      "nbconvert_exporter": "python",
      "pygments_lexer": "ipython3",
      "version": "3.12.0"
    },
    "colab": {
      "provenance": []
    }
  },
  "nbformat": 4,
  "nbformat_minor": 0
}