{
 "cells": [
  {
   "cell_type": "markdown",
   "metadata": {},
   "source": [
    "# **Dictionary**"
   ]
  },
  {
   "cell_type": "code",
   "execution_count": 3,
   "metadata": {},
   "outputs": [
    {
     "name": "stdout",
     "output_type": "stream",
     "text": [
      "{'fName': 'Ahmed', 'mName': 'Saleem', 'lName': 'Shaikh'}\n"
     ]
    }
   ],
   "source": [
    "from typing import Dict;\n",
    "\n",
    "data : Dict[str,str] = { \"fName\": \"Ahmed\", \"mName\": \"Saleem\", \"lName\": \"Shaikh\" };\n",
    "\n",
    "print(data);"
   ]
  },
  {
   "cell_type": "code",
   "execution_count": 4,
   "metadata": {},
   "outputs": [
    {
     "name": "stdout",
     "output_type": "stream",
     "text": [
      "{'fName': 'Ahmed', 'lName': 'Shaikh', 'mName': 'Saleem'}\n"
     ]
    }
   ],
   "source": [
    "from typing import Dict;\n",
    "import pprint;\n",
    "\n",
    "data : Dict[str,str] = { \"fName\": \"Ahmed\", \"mName\": \"Saleem\", \"lName\": \"Shaikh\" };\n",
    "\n",
    "pprint.pprint(data); # Print In Sequence"
   ]
  },
  {
   "cell_type": "code",
   "execution_count": 5,
   "metadata": {},
   "outputs": [
    {
     "name": "stdout",
     "output_type": "stream",
     "text": [
      "{1, 4, 5, 7}\n"
     ]
    }
   ],
   "source": [
    "data: set = {1, 1, 4, 5, 4, 7};\n",
    "\n",
    "print(data); # Set Type Return Unique Value In Order & Not Apply Indexing"
   ]
  },
  {
   "cell_type": "code",
   "execution_count": 7,
   "metadata": {},
   "outputs": [
    {
     "data": {
      "text/plain": [
       "['add',\n",
       " 'clear',\n",
       " 'copy',\n",
       " 'difference',\n",
       " 'difference_update',\n",
       " 'discard',\n",
       " 'intersection',\n",
       " 'intersection_update',\n",
       " 'isdisjoint',\n",
       " 'issubset',\n",
       " 'issuperset',\n",
       " 'pop',\n",
       " 'remove',\n",
       " 'symmetric_difference',\n",
       " 'symmetric_difference_update',\n",
       " 'union',\n",
       " 'update']"
      ]
     },
     "execution_count": 7,
     "metadata": {},
     "output_type": "execute_result"
    }
   ],
   "source": [
    "[i for i in dir(data) if \"__\" not in i] # Check Set Data Types Methods & Attributes"
   ]
  },
  {
   "cell_type": "code",
   "execution_count": 8,
   "metadata": {},
   "outputs": [
    {
     "name": "stdout",
     "output_type": "stream",
     "text": [
      "{'fName': 'Ahmed', 'lName': 'Shaikh', 'mName': 'Saleem'}\n"
     ]
    }
   ],
   "source": [
    "from typing import Dict, Union;\n",
    "import pprint;\n",
    "\n",
    "Key = Union[int, str];\n",
    "\n",
    "Value = Union[int, str, list, dict, tuple, set];\n",
    "\n",
    "data : Dict[Key, Value] = { \n",
    "                            \"fName\": \"Ahmed\", \n",
    "                            \"mName\": \"Saleem\", \n",
    "                            \"lName\": \"Shaikh\"\n",
    "                        };\n",
    "\n",
    "pprint.pprint(data);"
   ]
  },
  {
   "cell_type": "code",
   "execution_count": 10,
   "metadata": {},
   "outputs": [
    {
     "name": "stdout",
     "output_type": "stream",
     "text": [
      "{100: 'Pakistan',\n",
      " 'Array': [1, 2, 3],\n",
      " 'Fun': (1, 2, 3),\n",
      " 'Obj': {1, 2, 3},\n",
      " 'Oop': {'A': 1, 'B': 2},\n",
      " 'fName': 'Ahmed',\n",
      " 'lName': 'Shaikh',\n",
      " 'mName': 'Saleem'}\n",
      "Ahmed\n",
      "Pakistan\n",
      "{1, 2, 3}\n",
      "{'A': 1, 'B': 2}\n"
     ]
    }
   ],
   "source": [
    "from typing import Dict, Union;\n",
    "import pprint;\n",
    "\n",
    "Key = Union[int, str];\n",
    "\n",
    "Value = Union[int, str, list, dict, tuple, set];\n",
    "\n",
    "data : Dict[Key, Value] = { \n",
    "                              \"fName\": \"Ahmed\", \n",
    "                              \"mName\": \"Saleem\", \n",
    "                              \"lName\": \"Shaikh\",\n",
    "                              100: \"Pakistan\",\n",
    "                              \"Array\": [1, 2, 3],\n",
    "                              \"Obj\": {1, 2, 3},\n",
    "                              \"Fun\": (1, 2, 3),\n",
    "                              \"Oop\": {\"A\": 1, \"B\": 2}\n",
    "                         };\n",
    "\n",
    "pprint.pprint(data);\n",
    "\n",
    "print(data[\"fName\"]);\n",
    "\n",
    "print(data[100]);\n",
    "\n",
    "print(data[\"Obj\"]);\n",
    "\n",
    "print(data[\"Oop\"]);"
   ]
  },
  {
   "cell_type": "code",
   "execution_count": 11,
   "metadata": {},
   "outputs": [
    {
     "name": "stdout",
     "output_type": "stream",
     "text": [
      "{1, 4, 5, 7}\n",
      "[1, 4, 5, 7]\n"
     ]
    }
   ],
   "source": [
    "data: set = {1, 1, 4, 5, 4, 7};\n",
    "\n",
    "print(data);\n",
    "\n",
    "listData: list[int] = list(data);\n",
    "\n",
    "print(listData);"
   ]
  },
  {
   "cell_type": "code",
   "execution_count": 12,
   "metadata": {},
   "outputs": [
    {
     "name": "stdout",
     "output_type": "stream",
     "text": [
      "1\n"
     ]
    }
   ],
   "source": [
    "from typing import Dict, Union;\n",
    "\n",
    "Key = Union[int, str];\n",
    "\n",
    "Value = Union[int, str, list, dict, tuple, set];\n",
    "\n",
    "data : Dict[Key, Value] = { \n",
    "                              \"fName\": \"Ahmed\", \n",
    "                              \"mName\": \"Saleem\", \n",
    "                              \"lName\": \"Shaikh\",\n",
    "                              100: \"Pakistan\",\n",
    "                              \"Array\": [1, 2, 3],\n",
    "                              \"Obj\": {1, 2, 3},\n",
    "                              \"Fun\": (1, 2, 3),\n",
    "                              \"Oop\": {\"A\": 1, \"B\": 2}\n",
    "                         };\n",
    "\n",
    "print(data[\"Oop\"][\"A\"]);"
   ]
  },
  {
   "cell_type": "code",
   "execution_count": 13,
   "metadata": {},
   "outputs": [
    {
     "name": "stdout",
     "output_type": "stream",
     "text": [
      "{'Country': 'Nertherlands',\n",
      " 'Learning Language': 'Python',\n",
      " 'Message': 'Free Palenstine'}\n"
     ]
    }
   ],
   "source": [
    "from typing import Dict, Union;\n",
    "import pprint;\n",
    "\n",
    "Key = Union[int, str];\n",
    "\n",
    "Value = Union[int, str, list, dict, tuple, set];\n",
    "\n",
    "data : Dict[Key, Value] = {};\n",
    "\n",
    "data[\"Country\"] = \"Nertherlands\";\n",
    "\n",
    "data[\"Message\"] = \"Free Palenstine\";\n",
    "\n",
    "data[\"Learning Language\"] = \"Python\";\n",
    "\n",
    "pprint.pprint(data);"
   ]
  },
  {
   "cell_type": "code",
   "execution_count": 15,
   "metadata": {},
   "outputs": [
    {
     "name": "stdout",
     "output_type": "stream",
     "text": [
      "{'Country': 'Nertherlands',\n",
      " 'Learning Language': 'Python',\n",
      " 'Message': 'Free Palenstine'}\n"
     ]
    }
   ],
   "source": [
    "from typing import Dict, Union;\n",
    "import pprint;\n",
    "\n",
    "Key = Union[int, str];\n",
    "\n",
    "Value = Union[int, str, list, dict, tuple, set];\n",
    "\n",
    "data : Dict[Key, Value] = { \n",
    "                            \"Country\": \"Nertherlands\",\n",
    "                            \"Message\": \"Free Palenstine\",\n",
    "                            \"Learning Language\":\"Python\"\n",
    "                        };\n",
    "\n",
    "pprint.pprint(data);"
   ]
  },
  {
   "cell_type": "code",
   "execution_count": 21,
   "metadata": {},
   "outputs": [
    {
     "name": "stdout",
     "output_type": "stream",
     "text": [
      "{'Country': 'Nertherlands',\n",
      " 'Learning Language': 'Python',\n",
      " 'Message': 'Free Palenstine',\n",
      " 'fullName': 'Ahmed Shaykh'}\n"
     ]
    }
   ],
   "source": [
    "\n",
    "data[\"fullName\"] = \"Ahmed Shaykh\";\n",
    "\n",
    "pprint.pprint(data);"
   ]
  },
  {
   "cell_type": "markdown",
   "metadata": {},
   "source": [
    "# **Dictionary Methods**"
   ]
  },
  {
   "cell_type": "code",
   "execution_count": 22,
   "metadata": {},
   "outputs": [
    {
     "data": {
      "text/plain": [
       "['clear',\n",
       " 'copy',\n",
       " 'fromkeys',\n",
       " 'get',\n",
       " 'items',\n",
       " 'keys',\n",
       " 'pop',\n",
       " 'popitem',\n",
       " 'setdefault',\n",
       " 'update',\n",
       " 'values']"
      ]
     },
     "execution_count": 22,
     "metadata": {},
     "output_type": "execute_result"
    }
   ],
   "source": [
    "[i for i in dir(data) if \"__\" not in i]"
   ]
  },
  {
   "cell_type": "code",
   "execution_count": 25,
   "metadata": {},
   "outputs": [
    {
     "name": "stdout",
     "output_type": "stream",
     "text": [
      "Not Available\n",
      "Free Palenstine\n"
     ]
    }
   ],
   "source": [
    "print(data.get(\"Pakistan\", \"Not Available\"));\n",
    "\n",
    "print(data.get(\"Message\", \"Not Available\"));"
   ]
  },
  {
   "cell_type": "code",
   "execution_count": 81,
   "metadata": {},
   "outputs": [
    {
     "name": "stdout",
     "output_type": "stream",
     "text": [
      "'Country'\n",
      "'Message'\n",
      "'Learning Language'\n"
     ]
    }
   ],
   "source": [
    "from typing import Dict, Union;\n",
    "import pprint;\n",
    "\n",
    "Key = Union[int, str];\n",
    "\n",
    "Value = Union[int, str, list, dict, tuple, set];\n",
    "\n",
    "data : Dict[Key, Value] = { \n",
    "                            \"Country\": \"Nertherlands\",\n",
    "                            \"Message\": \"Free Palenstine\",\n",
    "                            \"Learning Language\": \"Python\"\n",
    "                        };\n",
    "\n",
    "for key in data:\n",
    "\n",
    "    pprint.pprint(key);"
   ]
  },
  {
   "cell_type": "code",
   "execution_count": 31,
   "metadata": {},
   "outputs": [
    {
     "name": "stdout",
     "output_type": "stream",
     "text": [
      "dict_keys(['Country', 'Message', 'Learning Language'])\n",
      "dict_values(['Nertherlands', 'Free Palenstine', 'Python'])\n",
      "dict_items([('Country', 'Nertherlands'), ('Message', 'Free Palenstine'), ('Learning Language', 'Python')])\n",
      "Country\n",
      "Nertherlands \n",
      "\n",
      "Message\n",
      "Free Palenstine \n",
      "\n",
      "Learning Language\n",
      "Python \n",
      "\n"
     ]
    }
   ],
   "source": [
    "from typing import Dict, Union;\n",
    "\n",
    "Key = Union[int, str];\n",
    "\n",
    "Value = Union[int, str, list, dict, tuple, set];\n",
    "\n",
    "data : Dict[Key, Value] = { \n",
    "                            \"Country\": \"Nertherlands\",\n",
    "                            \"Message\": \"Free Palenstine\",\n",
    "                            \"Learning Language\":\"Python\"\n",
    "                        };\n",
    "\n",
    "print(data.keys()); # Keys\n",
    "print(data.values()); # Values\n",
    "print(data.items()); # All Items In Dictionary\n",
    "\n",
    "for val in data.keys():\n",
    "\n",
    "    print(val);\n",
    "\n",
    "    print(f\"{data[val]} \\n\");"
   ]
  },
  {
   "cell_type": "code",
   "execution_count": 32,
   "metadata": {},
   "outputs": [
    {
     "name": "stdout",
     "output_type": "stream",
     "text": [
      "Country Nertherlands\n",
      "Message Free Palenstine\n",
      "Learning Language Python\n"
     ]
    }
   ],
   "source": [
    "for key, val in data.items():\n",
    "\n",
    "    print(key, val);"
   ]
  },
  {
   "cell_type": "code",
   "execution_count": 35,
   "metadata": {},
   "outputs": [
    {
     "name": "stdout",
     "output_type": "stream",
     "text": [
      "{'Country': 'Nertherlands',\n",
      " 'Learning Language': 'Python',\n",
      " 'Message': 'Free Palenstine'}\n"
     ]
    }
   ],
   "source": [
    "import pprint;\n",
    "\n",
    "pprint.pprint({ key: val for key, val in data.items() }); # List Comprehensive"
   ]
  },
  {
   "cell_type": "code",
   "execution_count": 37,
   "metadata": {},
   "outputs": [
    {
     "name": "stdout",
     "output_type": "stream",
     "text": [
      "{'Free Palenstine': 'Message',\n",
      " 'Nertherlands': 'Country',\n",
      " 'Python': 'Learning Language'}\n"
     ]
    }
   ],
   "source": [
    "import pprint;\n",
    "\n",
    "pprint.pprint({ val: key for key, val in data.items() }); # Shuffle"
   ]
  },
  {
   "cell_type": "code",
   "execution_count": 39,
   "metadata": {},
   "outputs": [
    {
     "name": "stdout",
     "output_type": "stream",
     "text": [
      "9 7\n"
     ]
    }
   ],
   "source": [
    "a : int = 7;\n",
    "b : int = 9;\n",
    "\n",
    "a, b = b, a; # Shuffle\n",
    "\n",
    "print(a, b);"
   ]
  },
  {
   "cell_type": "code",
   "execution_count": 41,
   "metadata": {},
   "outputs": [
    {
     "name": "stdout",
     "output_type": "stream",
     "text": [
      "{'Country': 'Nertherlands', 'Message': 'Free Palenstine', 'Learning Language': 'Python'}\n",
      "{}\n"
     ]
    }
   ],
   "source": [
    "from typing import Dict, Union;\n",
    "\n",
    "Key = Union[int, str];\n",
    "\n",
    "Value = Union[int, str, list, dict, tuple, set];\n",
    "\n",
    "data : Dict[Key, Value] = { \n",
    "                            \"Country\": \"Nertherlands\",\n",
    "                            \"Message\": \"Free Palenstine\",\n",
    "                            \"Learning Language\":\"Python\"\n",
    "                        };\n",
    "\n",
    "print(data);\n",
    "\n",
    "data.clear();\n",
    "\n",
    "print(data);"
   ]
  },
  {
   "cell_type": "code",
   "execution_count": 42,
   "metadata": {},
   "outputs": [
    {
     "name": "stdout",
     "output_type": "stream",
     "text": [
      "{'Country': 'Nertherlands',\n",
      " 'Learning Language': 'Python',\n",
      " 'Message': 'Free Palenstine 🇵🇸'}\n",
      "Nertherlands\n",
      "{'Learning Language': 'Python', 'Message': 'Free Palenstine 🇵🇸'}\n"
     ]
    }
   ],
   "source": [
    "from typing import Dict, Union;\n",
    "import pprint;\n",
    "\n",
    "Key = Union[int, str];\n",
    "\n",
    "Value = Union[int, str, list, dict, tuple, set];\n",
    "\n",
    "data : Dict[Key, Value] = { \n",
    "                            \"Country\": \"Nertherlands\",\n",
    "                            \"Message\": \"Free Palenstine 🇵🇸\",\n",
    "                            \"Learning Language\":\"Python\"\n",
    "                        };\n",
    "\n",
    "pprint.pprint(data);\n",
    "\n",
    "val: str = data.pop(\"Country\");\n",
    "\n",
    "print(val); # Pop Remove Particular Item\n",
    "\n",
    "pprint.pprint(data);"
   ]
  },
  {
   "cell_type": "code",
   "execution_count": 43,
   "metadata": {},
   "outputs": [
    {
     "name": "stdout",
     "output_type": "stream",
     "text": [
      "{'Country': 'Nertherlands',\n",
      " 'Learning Language': 'Python',\n",
      " 'Message': 'Free Palenstine'}\n",
      "('Learning Language', 'Python')\n",
      "{'Country': 'Nertherlands', 'Message': 'Free Palenstine'}\n"
     ]
    }
   ],
   "source": [
    "from typing import Dict, Union;\n",
    "import pprint;\n",
    "\n",
    "Key = Union[int, str];\n",
    "\n",
    "Value = Union[int, str, list, dict, tuple, set];\n",
    "\n",
    "data : Dict[Key, Value] = { \n",
    "                            \"Country\": \"Nertherlands\",\n",
    "                            \"Message\": \"Free Palenstine\",\n",
    "                            \"Learning Language\":\"Python\"\n",
    "                        };\n",
    "\n",
    "pprint.pprint(data);\n",
    "\n",
    "val: str = data.popitem();\n",
    "\n",
    "print(val); # PopItem Remove Last Item\n",
    "\n",
    "pprint.pprint(data);"
   ]
  },
  {
   "cell_type": "code",
   "execution_count": 45,
   "metadata": {},
   "outputs": [
    {
     "name": "stdout",
     "output_type": "stream",
     "text": [
      "{'Country': 'Nertherlands',\n",
      " 'Learning Language': 'Python',\n",
      " 'Message': 'Free Palenstine'}\n",
      "Free Palenstine\n",
      "{'Country': 'Nertherlands',\n",
      " 'Learning Language': 'Python',\n",
      " 'Message': 'Free Palenstine'}\n"
     ]
    }
   ],
   "source": [
    "from typing import Dict, Union;\n",
    "import pprint;\n",
    "\n",
    "Key = Union[int, str];\n",
    "\n",
    "Value = Union[int, str, list, dict, tuple, set];\n",
    "\n",
    "data : Dict[Key, Value] = { \n",
    "                            \"Country\": \"Nertherlands\",\n",
    "                            \"Message\": \"Free Palenstine\",\n",
    "                            \"Learning Language\":\"Python\"\n",
    "                        };\n",
    "\n",
    "pprint.pprint(data);\n",
    "\n",
    "val: str = data.get(\"Message\", \"No Message Available\");\n",
    "\n",
    "print(val);\n",
    "\n",
    "pprint.pprint(data);"
   ]
  },
  {
   "cell_type": "code",
   "execution_count": 49,
   "metadata": {},
   "outputs": [
    {
     "name": "stdout",
     "output_type": "stream",
     "text": [
      "{'Country': 'Nertherlands',\n",
      " 'Learning Language': 'Python',\n",
      " 'Message': 'Free Palenstine'}\n",
      "Python\n",
      "Empty Value\n",
      "{'Country': 'Nertherlands',\n",
      " 'LLM': 'Empty Value',\n",
      " 'Learning Language': 'Python',\n",
      " 'Message': 'Free Palenstine'}\n"
     ]
    }
   ],
   "source": [
    "from typing import Dict, Union;\n",
    "import pprint;\n",
    "\n",
    "Key = Union[int, str];\n",
    "\n",
    "Value = Union[int, str, list, dict, tuple, set];\n",
    "\n",
    "data : Dict[Key, Value] = { \n",
    "                            \"Country\": \"Nertherlands\",\n",
    "                            \"Message\": \"Free Palenstine\",\n",
    "                            \"Learning Language\":\"Python\"\n",
    "                        };\n",
    "\n",
    "pprint.pprint(data);\n",
    "\n",
    "val: str = data.setdefault(\"Learning Language\", \"TypeScript\"); # Return Same Value Not Update Value\n",
    "\n",
    "print(val);\n",
    "\n",
    "val2: str = data.setdefault(\"LLM\", \"Empty Value\"); # Add New Value In Object Not Return Error Message\n",
    "\n",
    "print(val2);\n",
    "\n",
    "pprint.pprint(data);"
   ]
  },
  {
   "cell_type": "code",
   "execution_count": 51,
   "metadata": {},
   "outputs": [
    {
     "name": "stdout",
     "output_type": "stream",
     "text": [
      "{'Country': 'Nertherlands',\n",
      " 'Learning Language': 'Python',\n",
      " 'Message': 'Free Palenstine',\n",
      " 'fName': 'Ahmed',\n",
      " 'lName': 'Shaikh',\n",
      " 'mName': 'Saleem'}\n"
     ]
    }
   ],
   "source": [
    "from typing import Dict, Union;\n",
    "import pprint;\n",
    "\n",
    "Key = Union[int, str];\n",
    "\n",
    "Value = Union[int, str, list, dict, tuple, set];\n",
    "\n",
    "data : Dict[str,str] = { \n",
    "                        \"fName\": \"Ahmed\", \n",
    "                        \"mName\": \"Saleem\", \n",
    "                        \"lName\": \"Shaikh\",\n",
    "                        \"Country\": \"Pakistan\"\n",
    "                    };\n",
    "\n",
    "data2 : Dict[Key, Value] = { \n",
    "                            \"Country\": \"Nertherlands\",\n",
    "                            \"Message\": \"Free Palenstine\",\n",
    "                            \"Learning Language\": \"Python\"\n",
    "                        };\n",
    "\n",
    "data.update(data2);\n",
    "\n",
    "pprint.pprint(data);"
   ]
  },
  {
   "cell_type": "code",
   "execution_count": 52,
   "metadata": {},
   "outputs": [
    {
     "name": "stdout",
     "output_type": "stream",
     "text": [
      "dict_keys(['fName', 'mName', 'lName', 'Country', 'Message', 'Learning Language']) \n",
      "\n",
      "dict_values(['Ahmed', 'Saleem', 'Shaikh', 'Nertherlands', 'Free Palenstine', 'Python']) \n",
      "\n",
      "(\"dict_items([('fName', 'Ahmed'), ('mName', 'Saleem'), ('lName', 'Shaikh'), \"\n",
      " \"('Country', 'Nertherlands'), ('Message', 'Free Palenstine'), ('Learning \"\n",
      " \"Language', 'Python')])\")\n"
     ]
    }
   ],
   "source": [
    "print(f\"{data.keys()} \\n\");\n",
    "\n",
    "print(f\"{data.values()} \\n\");\n",
    "\n",
    "pprint.pprint(f\"{data.items()}\");"
   ]
  },
  {
   "cell_type": "code",
   "execution_count": 53,
   "metadata": {},
   "outputs": [
    {
     "name": "stdout",
     "output_type": "stream",
     "text": [
      "{'fName': None, 'mName': None, 'lName': None, 'Country': None}\n"
     ]
    }
   ],
   "source": [
    "from typing import Dict, Union, List;\n",
    "\n",
    "Key = Union[int, str];\n",
    "\n",
    "Value = Union[int, str, list, dict, tuple, set];\n",
    "\n",
    "keys : List[str] = [\"fName\", \"mName\", \"lName\", \"Country\"];\n",
    "\n",
    "data : Dict[Key,Value] = {};\n",
    "\n",
    "data = data.fromkeys(keys);\n",
    "\n",
    "print(data);"
   ]
  },
  {
   "cell_type": "code",
   "execution_count": 54,
   "metadata": {},
   "outputs": [
    {
     "name": "stdout",
     "output_type": "stream",
     "text": [
      "{'fName': 1, 'mName': 1, 'lName': 1, 'Country': 1}\n"
     ]
    }
   ],
   "source": [
    "data = data.fromkeys(keys, 1);\n",
    "\n",
    "print(data);"
   ]
  },
  {
   "cell_type": "code",
   "execution_count": 55,
   "metadata": {},
   "outputs": [
    {
     "name": "stdout",
     "output_type": "stream",
     "text": [
      "{'Country': ['Ahmed', 'Saleem', 'Shaikh', 'Pakistan'],\n",
      " 'fName': ['Ahmed', 'Saleem', 'Shaikh', 'Pakistan'],\n",
      " 'lName': ['Ahmed', 'Saleem', 'Shaikh', 'Pakistan'],\n",
      " 'mName': ['Ahmed', 'Saleem', 'Shaikh', 'Pakistan']}\n"
     ]
    }
   ],
   "source": [
    "values : List[str] = [\"Ahmed\", \"Saleem\", \"Shaikh\", \"Pakistan\"];\n",
    "\n",
    "data = data.fromkeys(keys, values); # Values Add In All Keys Items\n",
    "\n",
    "pprint.pprint(data);"
   ]
  },
  {
   "cell_type": "code",
   "execution_count": 58,
   "metadata": {},
   "outputs": [
    {
     "data": {
      "text/html": [
       "<div>\n",
       "<style scoped>\n",
       "    .dataframe tbody tr th:only-of-type {\n",
       "        vertical-align: middle;\n",
       "    }\n",
       "\n",
       "    .dataframe tbody tr th {\n",
       "        vertical-align: top;\n",
       "    }\n",
       "\n",
       "    .dataframe thead th {\n",
       "        text-align: right;\n",
       "    }\n",
       "</style>\n",
       "<table border=\"1\" class=\"dataframe\">\n",
       "  <thead>\n",
       "    <tr style=\"text-align: right;\">\n",
       "      <th></th>\n",
       "      <th>No</th>\n",
       "      <th>Company</th>\n",
       "      <th>Net Worth</th>\n",
       "    </tr>\n",
       "  </thead>\n",
       "  <tbody>\n",
       "    <tr>\n",
       "      <th>0</th>\n",
       "      <td>1</td>\n",
       "      <td>Apple</td>\n",
       "      <td>$2.72 Trillion</td>\n",
       "    </tr>\n",
       "    <tr>\n",
       "      <th>1</th>\n",
       "      <td>2</td>\n",
       "      <td>SpaceX</td>\n",
       "      <td>$150 Billion</td>\n",
       "    </tr>\n",
       "    <tr>\n",
       "      <th>2</th>\n",
       "      <td>3</td>\n",
       "      <td>Google</td>\n",
       "      <td>$1585.58 Billion</td>\n",
       "    </tr>\n",
       "  </tbody>\n",
       "</table>\n",
       "</div>"
      ],
      "text/plain": [
       "   No Company         Net Worth\n",
       "0   1   Apple    $2.72 Trillion\n",
       "1   2  SpaceX      $150 Billion\n",
       "2   3  Google  $1585.58 Billion"
      ]
     },
     "execution_count": 58,
     "metadata": {},
     "output_type": "execute_result"
    }
   ],
   "source": [
    "import pandas as pd;\n",
    "from typing import Any;\n",
    "\n",
    "data : Dict[str, list[Any]] = {\n",
    "                                \"No\": [1, 2, 3], \n",
    "                                \"Company\": [\"Apple\", \"SpaceX\", \"Google\"],\n",
    "                                \"Net Worth\": [\"$2.72 Trillion\", \"$150 Billion\", \"$1585.58 Billion\"],\n",
    "                            };\n",
    "\n",
    "result: pd.DataFrame = pd.DataFrame(data);\n",
    "\n",
    "result"
   ]
  },
  {
   "cell_type": "code",
   "execution_count": 59,
   "metadata": {},
   "outputs": [
    {
     "name": "stdout",
     "output_type": "stream",
     "text": [
      "Original Position: 0\n",
      "New Position: 2\n"
     ]
    }
   ],
   "source": [
    "from typing import Dict, Any;\n",
    "\n",
    "alien: Dict[Any, Any] = {\"XPosition\": 0, \"YPosition\": 25, \"Speed\": \"Medium\"};\n",
    "\n",
    "print(f\"\"\"Original Position: {alien[\"XPosition\"]}\"\"\");\n",
    "\n",
    "if alien[\"Speed\"] == \"Slow\":\n",
    "\n",
    "    increment = 1;\n",
    "\n",
    "elif alien[\"Speed\"] == \"Medium\":\n",
    "\n",
    "    increment = 2;\n",
    "\n",
    "else:\n",
    "\n",
    "    increment = 3;\n",
    "\n",
    "alien[\"XPosition\"] += increment;\n",
    "\n",
    "print(f\"\"\"New Position: {alien[\"XPosition\"]}\"\"\");"
   ]
  },
  {
   "cell_type": "code",
   "execution_count": 61,
   "metadata": {},
   "outputs": [
    {
     "name": "stdout",
     "output_type": "stream",
     "text": [
      "New Position: 3\n"
     ]
    }
   ],
   "source": [
    "from typing import Dict, Any;\n",
    "\n",
    "alien: Dict[Any, Any] = {\"XPosition\": 0, \"YPosition\": 25, \"Speed\": \"Medium\"};\n",
    "\n",
    "alien[\"Speed\"] = \"Fast\";\n",
    "\n",
    "if alien[\"Speed\"] == \"Slow\":\n",
    "\n",
    "    increment = 1;\n",
    "\n",
    "elif alien[\"Speed\"] == \"Medium\":\n",
    "\n",
    "    increment = 2;\n",
    "\n",
    "else:\n",
    "\n",
    "    increment = 3;\n",
    "\n",
    "alien[\"XPosition\"] += increment;\n",
    "\n",
    "print(f\"\"\"New Position: {alien[\"XPosition\"]}\"\"\");"
   ]
  },
  {
   "cell_type": "code",
   "execution_count": 83,
   "metadata": {},
   "outputs": [
    {
     "name": "stdout",
     "output_type": "stream",
     "text": [
      "{'fName': 'Ahm X', 'mName': 'Saleem', 'lName': 'Shaikh'}\n",
      "My Name Is AHM X\n"
     ]
    }
   ],
   "source": [
    "data : Dict[str,str] = { \n",
    "                        \"fName\": \"Ahmed\", \n",
    "                        \"mName\": \"Saleem\", \n",
    "                        \"lName\": \"Shaikh\",\n",
    "                        \"fName\": \"Ahm X\" # Key Is Always Unique Put In Multiple Same Value But It Support Last Value\n",
    "                    };\n",
    "\n",
    "print(data);\n",
    "\n",
    "val = data[\"fName\"].upper();\n",
    "\n",
    "print(f\"My Name Is {val}\");"
   ]
  },
  {
   "cell_type": "code",
   "execution_count": 64,
   "metadata": {},
   "outputs": [
    {
     "name": "stdout",
     "output_type": "stream",
     "text": [
      "Hi Jen\n",
      "Hi Sarah\n",
      "SARAH, I See You Love Python\n",
      "Hi Edward\n",
      "Hi Phil\n",
      "PHIL, I See You Love TypeScript\n"
     ]
    }
   ],
   "source": [
    "favLanguages : Dict[str,str] = { \n",
    "                                \"Jen\": \"JavaScript\",\n",
    "                                \"Sarah\": \"Python\",\n",
    "                                \"Edward\": \"Solidity\",\n",
    "                                \"Phil\": \"TypeScript\",\n",
    "                            };\n",
    "\n",
    "friends: List[str] = [\"Phil\", \"Sarah\"];\n",
    "\n",
    "for name in favLanguages.keys():\n",
    "\n",
    "    print(f\"Hi {name}\");\n",
    "\n",
    "    if name in friends:\n",
    "\n",
    "        languages = favLanguages[name];\n",
    "\n",
    "        print(f\"{name.upper()}, I See You Love {languages}\");"
   ]
  },
  {
   "cell_type": "code",
   "execution_count": 66,
   "metadata": {},
   "outputs": [
    {
     "name": "stdout",
     "output_type": "stream",
     "text": [
      "True\n",
      "dict_keys(['Jen', 'Sarah', 'Edward', 'Phil'])\n"
     ]
    }
   ],
   "source": [
    "print(\"Erin\" not in favLanguages.keys());\n",
    "\n",
    "print(favLanguages.keys());"
   ]
  },
  {
   "cell_type": "code",
   "execution_count": 67,
   "metadata": {},
   "outputs": [
    {
     "name": "stdout",
     "output_type": "stream",
     "text": [
      "True\n"
     ]
    }
   ],
   "source": [
    "check: str = \"Ahmed\" in \"\"\"My Name Is Ahmed. I'm Full Stack Developer\"\"\";\n",
    "\n",
    "print(check); # In Method Check Value In Word As Word"
   ]
  },
  {
   "cell_type": "code",
   "execution_count": 68,
   "metadata": {},
   "outputs": [
    {
     "name": "stdout",
     "output_type": "stream",
     "text": [
      "[{'Color': 'Green', 'Points': 5}, {'Color': 'Yellow', 'Points': 10}, {'Color': 'Red', 'Points': 15}]\n",
      "{'Color': 'Green', 'Points': 5}\n",
      "{'Color': 'Yellow', 'Points': 10}\n",
      "{'Color': 'Red', 'Points': 15}\n"
     ]
    }
   ],
   "source": [
    "from typing import Dict, List;\n",
    "\n",
    "alien: Dict[str, int] = {\"Color\": \"Green\", \"Points\": 5};\n",
    "\n",
    "alien2: Dict[str, int] = {\"Color\": \"Yellow\", \"Points\": 10};\n",
    "\n",
    "alien3: Dict[str, int] = {\"Color\": \"Red\", \"Points\": 15};\n",
    "\n",
    "aliens: List[Dict[str, int]] = [alien, alien2, alien3];\n",
    "\n",
    "print(aliens);\n",
    "\n",
    "for alienData in aliens:\n",
    "\n",
    "    print(alienData);"
   ]
  },
  {
   "cell_type": "code",
   "execution_count": 93,
   "metadata": {},
   "outputs": [
    {
     "name": "stdout",
     "output_type": "stream",
     "text": [
      "[]\n",
      "[{'Color': 'Black', 'Points': 15, 'Speed': 'Fast'},\n",
      " {'Color': 'Black', 'Points': 15, 'Speed': 'Fast'},\n",
      " {'Color': 'Black', 'Points': 15, 'Speed': 'Fast'},\n",
      " {'Color': 'Black', 'Points': 15, 'Speed': 'Fast'},\n",
      " {'Color': 'Black', 'Points': 15, 'Speed': 'Fast'},\n",
      " {'Color': 'Black', 'Points': 15, 'Speed': 'Fast'},\n",
      " {'Color': 'Black', 'Points': 15, 'Speed': 'Fast'},\n",
      " {'Color': 'Black', 'Points': 15, 'Speed': 'Fast'},\n",
      " {'Color': 'Black', 'Points': 15, 'Speed': 'Fast'},\n",
      " {'Color': 'Black', 'Points': 15, 'Speed': 'Fast'},\n",
      " {'Color': 'Black', 'Points': 15, 'Speed': 'Fast'},\n",
      " {'Color': 'Black', 'Points': 15, 'Speed': 'Fast'},\n",
      " {'Color': 'Black', 'Points': 15, 'Speed': 'Fast'},\n",
      " {'Color': 'Black', 'Points': 15, 'Speed': 'Fast'},\n",
      " {'Color': 'Black', 'Points': 15, 'Speed': 'Fast'},\n",
      " {'Color': 'Black', 'Points': 15, 'Speed': 'Fast'},\n",
      " {'Color': 'Black', 'Points': 15, 'Speed': 'Fast'},\n",
      " {'Color': 'Black', 'Points': 15, 'Speed': 'Fast'},\n",
      " {'Color': 'Black', 'Points': 15, 'Speed': 'Fast'},\n",
      " {'Color': 'Black', 'Points': 15, 'Speed': 'Fast'},\n",
      " {'Color': 'Black', 'Points': 15, 'Speed': 'Fast'},\n",
      " {'Color': 'Black', 'Points': 15, 'Speed': 'Fast'},\n",
      " {'Color': 'Black', 'Points': 15, 'Speed': 'Fast'},\n",
      " {'Color': 'Black', 'Points': 15, 'Speed': 'Fast'},\n",
      " {'Color': 'Black', 'Points': 15, 'Speed': 'Fast'},\n",
      " {'Color': 'Black', 'Points': 15, 'Speed': 'Fast'},\n",
      " {'Color': 'Black', 'Points': 15, 'Speed': 'Fast'},\n",
      " {'Color': 'Black', 'Points': 15, 'Speed': 'Fast'},\n",
      " {'Color': 'Black', 'Points': 15, 'Speed': 'Fast'},\n",
      " {'Color': 'Black', 'Points': 15, 'Speed': 'Fast'}]\n"
     ]
    }
   ],
   "source": [
    "import pprint;\n",
    "\n",
    "aliens: List[Dict[str, int]] = [];\n",
    "\n",
    "print(aliens);\n",
    "\n",
    "for alienNumber in range(30):\n",
    "\n",
    "    alien = {\"Color\": \"Black\", \"Points\": 15, \"Speed\": \"Fast\"};\n",
    "    \n",
    "    aliens.append(alien);\n",
    "\n",
    "pprint.pprint(aliens);"
   ]
  },
  {
   "cell_type": "code",
   "execution_count": 94,
   "metadata": {},
   "outputs": [
    {
     "name": "stdout",
     "output_type": "stream",
     "text": [
      "[{'Color': 'Black', 'Points': 15, 'Speed': 'Fast'},\n",
      " {'Color': 'Black', 'Points': 15, 'Speed': 'Fast'},\n",
      " {'Color': 'Black', 'Points': 15, 'Speed': 'Fast'},\n",
      " {'Color': 'Black', 'Points': 15, 'Speed': 'Fast'},\n",
      " {'Color': 'Black', 'Points': 15, 'Speed': 'Fast'}]\n"
     ]
    }
   ],
   "source": [
    "pprint.pprint(aliens[:5]);"
   ]
  },
  {
   "cell_type": "code",
   "execution_count": 95,
   "metadata": {},
   "outputs": [],
   "source": [
    "for alien in aliens[:5]:\n",
    "\n",
    "    if alien[\"Color\"] == \"Black\":\n",
    "\n",
    "        alien[\"Color\"] = \"Blue\";\n",
    "\n",
    "        alien[\"Speed\"] = \"Medium\";\n",
    "\n",
    "        alien[\"Points\"] = 10;"
   ]
  },
  {
   "cell_type": "code",
   "execution_count": 96,
   "metadata": {},
   "outputs": [
    {
     "name": "stdout",
     "output_type": "stream",
     "text": [
      "[{'Color': 'Blue', 'Points': 10, 'Speed': 'Medium'},\n",
      " {'Color': 'Blue', 'Points': 10, 'Speed': 'Medium'},\n",
      " {'Color': 'Blue', 'Points': 10, 'Speed': 'Medium'},\n",
      " {'Color': 'Blue', 'Points': 10, 'Speed': 'Medium'},\n",
      " {'Color': 'Blue', 'Points': 10, 'Speed': 'Medium'},\n",
      " {'Color': 'Black', 'Points': 15, 'Speed': 'Fast'},\n",
      " {'Color': 'Black', 'Points': 15, 'Speed': 'Fast'},\n",
      " {'Color': 'Black', 'Points': 15, 'Speed': 'Fast'},\n",
      " {'Color': 'Black', 'Points': 15, 'Speed': 'Fast'},\n",
      " {'Color': 'Black', 'Points': 15, 'Speed': 'Fast'}]\n"
     ]
    }
   ],
   "source": [
    "pprint.pprint(aliens[:10]);"
   ]
  },
  {
   "cell_type": "code",
   "execution_count": 98,
   "metadata": {},
   "outputs": [
    {
     "name": "stdout",
     "output_type": "stream",
     "text": [
      "[{'Color': 'White', 'Points': 5, 'Speed': 'Slow'},\n",
      " {'Color': 'White', 'Points': 5, 'Speed': 'Slow'},\n",
      " {'Color': 'White', 'Points': 5, 'Speed': 'Slow'},\n",
      " {'Color': 'White', 'Points': 5, 'Speed': 'Slow'},\n",
      " {'Color': 'White', 'Points': 5, 'Speed': 'Slow'},\n",
      " {'Color': 'Blue', 'Points': 10, 'Speed': 'Medium'},\n",
      " {'Color': 'Blue', 'Points': 10, 'Speed': 'Medium'},\n",
      " {'Color': 'Blue', 'Points': 10, 'Speed': 'Medium'},\n",
      " {'Color': 'Blue', 'Points': 10, 'Speed': 'Medium'},\n",
      " {'Color': 'Black', 'Points': 15, 'Speed': 'Fast'},\n",
      " {'Color': 'Black', 'Points': 15, 'Speed': 'Fast'},\n",
      " {'Color': 'Black', 'Points': 15, 'Speed': 'Fast'},\n",
      " {'Color': 'Black', 'Points': 15, 'Speed': 'Fast'},\n",
      " {'Color': 'Black', 'Points': 15, 'Speed': 'Fast'},\n",
      " {'Color': 'Black', 'Points': 15, 'Speed': 'Fast'},\n",
      " {'Color': 'Black', 'Points': 15, 'Speed': 'Fast'},\n",
      " {'Color': 'Black', 'Points': 15, 'Speed': 'Fast'},\n",
      " {'Color': 'Black', 'Points': 15, 'Speed': 'Fast'},\n",
      " {'Color': 'Black', 'Points': 15, 'Speed': 'Fast'},\n",
      " {'Color': 'Black', 'Points': 15, 'Speed': 'Fast'},\n",
      " {'Color': 'Black', 'Points': 15, 'Speed': 'Fast'},\n",
      " {'Color': 'Black', 'Points': 15, 'Speed': 'Fast'},\n",
      " {'Color': 'Black', 'Points': 15, 'Speed': 'Fast'},\n",
      " {'Color': 'Black', 'Points': 15, 'Speed': 'Fast'},\n",
      " {'Color': 'Black', 'Points': 15, 'Speed': 'Fast'},\n",
      " {'Color': 'Black', 'Points': 15, 'Speed': 'Fast'},\n",
      " {'Color': 'Black', 'Points': 15, 'Speed': 'Fast'},\n",
      " {'Color': 'Black', 'Points': 15, 'Speed': 'Fast'},\n",
      " {'Color': 'Black', 'Points': 15, 'Speed': 'Fast'},\n",
      " {'Color': 'Black', 'Points': 15, 'Speed': 'Fast'}]\n"
     ]
    }
   ],
   "source": [
    "for alien in aliens[0:9]:\n",
    "\n",
    "    if alien[\"Color\"] == \"Black\":\n",
    "\n",
    "        alien[\"Color\"] = \"Blue\";\n",
    "\n",
    "        alien[\"Speed\"] = \"Medium\";\n",
    "\n",
    "        alien[\"Points\"] = 10;\n",
    "\n",
    "    elif alien[\"Color\"] == \"Blue\":\n",
    "\n",
    "        alien[\"Color\"] = \"White\";\n",
    "\n",
    "        alien[\"Speed\"] = \"Slow\";\n",
    "\n",
    "        alien[\"Points\"] = 5;\n",
    "\n",
    "pprint.pprint(aliens);"
   ]
  },
  {
   "cell_type": "code",
   "execution_count": 75,
   "metadata": {},
   "outputs": [
    {
     "name": "stdout",
     "output_type": "stream",
     "text": [
      "{'Country': 'Nertherlands', 'Message': 'Free Palenstine', 'Learning Language': 'Python'}\n",
      "<class 'dict'>\n"
     ]
    }
   ],
   "source": [
    "from typing import Dict, Union;\n",
    "\n",
    "Key = Union[int, str];\n",
    "\n",
    "Value = Union[int, str, list, dict, tuple, set];\n",
    "\n",
    "data : Dict[Key, Value] = { \n",
    "                            \"Country\": \"Nertherlands\",\n",
    "                            \"Message\": \"Free Palenstine\",\n",
    "                            \"Learning Language\":\"Python\"\n",
    "                        };\n",
    "\n",
    "print(data);\n",
    "\n",
    "print(type(data));"
   ]
  },
  {
   "cell_type": "code",
   "execution_count": 77,
   "metadata": {},
   "outputs": [
    {
     "name": "stdout",
     "output_type": "stream",
     "text": [
      "<class 'str'>\n"
     ]
    },
    {
     "data": {
      "text/plain": [
       "'{\\n    \"Country\": \"Nertherlands\",\\n    \"Message\": \"Free Palenstine\",\\n    \"Learning Language\": \"Python\"\\n}'"
      ]
     },
     "metadata": {},
     "output_type": "display_data"
    },
    {
     "name": "stdout",
     "output_type": "stream",
     "text": [
      "{\n",
      "    \"Country\": \"Nertherlands\",\n",
      "    \"Message\": \"Free Palenstine\",\n",
      "    \"Learning Language\": \"Python\"\n",
      "}\n"
     ]
    }
   ],
   "source": [
    "import json;\n",
    "\n",
    "dataJSON = json.dumps(data, indent = 4); # Indent Add Space In JSON\n",
    "\n",
    "print(type(dataJSON));\n",
    "\n",
    "display(dataJSON);\n",
    "\n",
    "print(dataJSON);"
   ]
  },
  {
   "cell_type": "code",
   "execution_count": 78,
   "metadata": {},
   "outputs": [
    {
     "data": {
      "text/plain": [
       "'{\\n            \"Country\": \"Nertherlands\",\\n            \"Message\": \"Free Palenstine\",\\n            \"Learning Language\": \"Python\"\\n}'"
      ]
     },
     "metadata": {},
     "output_type": "display_data"
    },
    {
     "name": "stdout",
     "output_type": "stream",
     "text": [
      "{\n",
      "            \"Country\": \"Nertherlands\",\n",
      "            \"Message\": \"Free Palenstine\",\n",
      "            \"Learning Language\": \"Python\"\n",
      "}\n"
     ]
    }
   ],
   "source": [
    "dataJSON = json.dumps(data, indent = 12);\n",
    "\n",
    "display(dataJSON);\n",
    "\n",
    "print(dataJSON);"
   ]
  },
  {
   "cell_type": "markdown",
   "metadata": {},
   "source": [
    "# **Nested Dictionary Type**"
   ]
  },
  {
   "cell_type": "code",
   "execution_count": 99,
   "metadata": {},
   "outputs": [
    {
     "name": "stdout",
     "output_type": "stream",
     "text": [
      "{'abc': [1, 2, 3],\n",
      " 'cde': {'a': 1, 'b': 2},\n",
      " 'efg': (1, 2, 3),\n",
      " 'fname': 'Ahmed Saleem',\n",
      " 'id': 44,\n",
      " 'name': 'Ahmed',\n",
      " 'xyz': {1, 2, 3}}\n"
     ]
    }
   ],
   "source": [
    "from typing import Union, TypedDict, Tuple, Set, List;\n",
    "import pprint;\n",
    "\n",
    "dataType = TypedDict(\n",
    "    \"dataType\",\n",
    "    {\n",
    "        \"a\": int,\n",
    "        \"b\": int\n",
    "    }\n",
    ");\n",
    "\n",
    "myDataType = TypedDict(\n",
    "    \"myDataType\", {\n",
    "        \"fname\": str,\n",
    "        \"name\": str,\n",
    "        \"id\": Union[str, int],\n",
    "        \"abc\": List[int],\n",
    "        \"xyz\": Set[int],\n",
    "        \"efg\": Tuple,\n",
    "        \"cde\": dataType\n",
    "    }\n",
    ");\n",
    "\n",
    "data: myDataType = {\n",
    "    \"fname\": \"Ahmed Saleem\",\n",
    "    \"name\": \"Ahmed\",\n",
    "    \"id\": 44,\n",
    "    \"abc\": [1, 2, 3],\n",
    "    \"xyz\": {1, 2, 3},\n",
    "    \"efg\": (1, 2, 3),\n",
    "    \"cde\": {\"a\": 1, \"b\": 2}\n",
    "};\n",
    "\n",
    "pprint.pprint(data);"
   ]
  },
  {
   "cell_type": "code",
   "execution_count": 100,
   "metadata": {},
   "outputs": [
    {
     "name": "stdout",
     "output_type": "stream",
     "text": [
      "2\n",
      "{'a': 1, 'b': 2}\n",
      "44\n"
     ]
    }
   ],
   "source": [
    "print(data[\"cde\"][\"b\"]);\n",
    "\n",
    "print(data[\"cde\"]);\n",
    "\n",
    "print(data[\"id\"]);"
   ]
  }
 ],
 "metadata": {
  "kernelspec": {
   "display_name": "base",
   "language": "python",
   "name": "python3"
  },
  "language_info": {
   "codemirror_mode": {
    "name": "ipython",
    "version": 3
   },
   "file_extension": ".py",
   "mimetype": "text/x-python",
   "name": "python",
   "nbconvert_exporter": "python",
   "pygments_lexer": "ipython3",
   "version": "3.12.0"
  }
 },
 "nbformat": 4,
 "nbformat_minor": 2
}
