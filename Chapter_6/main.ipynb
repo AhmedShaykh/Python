{
 "cells": [
  {
   "cell_type": "markdown",
   "metadata": {},
   "source": [
    "# **Dictionary**"
   ]
  },
  {
   "cell_type": "code",
   "execution_count": 46,
   "metadata": {},
   "outputs": [
    {
     "data": {
      "text/plain": [
       "{'fName': 'Ahmed', 'mName': 'Saleem', 'lName': 'Shaikh'}"
      ]
     },
     "metadata": {},
     "output_type": "display_data"
    },
    {
     "name": "stdout",
     "output_type": "stream",
     "text": [
      "{'fName': 'Ahmed', 'mName': 'Saleem', 'lName': 'Shaikh'}\n"
     ]
    }
   ],
   "source": [
    "from typing import Dict;\n",
    "\n",
    "data : Dict[str,str] = { \"fName\": \"Ahmed\", \"mName\": \"Saleem\", \"lName\": \"Shaikh\" };\n",
    "\n",
    "display(data);\n",
    "\n",
    "print(data);"
   ]
  },
  {
   "cell_type": "code",
   "execution_count": 47,
   "metadata": {},
   "outputs": [
    {
     "name": "stdout",
     "output_type": "stream",
     "text": [
      "{'fName': 'Ahmed', 'lName': 'Shaikh', 'mName': 'Saleem'}\n"
     ]
    }
   ],
   "source": [
    "from typing import Dict;\n",
    "import pprint;\n",
    "\n",
    "data : Dict[str,str] = { \"fName\": \"Ahmed\", \"mName\": \"Saleem\", \"lName\": \"Shaikh\" };\n",
    "\n",
    "pprint.pprint(data);"
   ]
  },
  {
   "cell_type": "code",
   "execution_count": 48,
   "metadata": {},
   "outputs": [
    {
     "name": "stdout",
     "output_type": "stream",
     "text": [
      "{1, 4, 5, 7}\n"
     ]
    }
   ],
   "source": [
    "data: set = {1, 1, 4, 5, 4, 7};\n",
    "\n",
    "print(data); # Set Type Return Unique Value In Order & Not Apply Indexing"
   ]
  },
  {
   "cell_type": "code",
   "execution_count": 49,
   "metadata": {},
   "outputs": [
    {
     "data": {
      "text/plain": [
       "['add',\n",
       " 'clear',\n",
       " 'copy',\n",
       " 'difference',\n",
       " 'difference_update',\n",
       " 'discard',\n",
       " 'intersection',\n",
       " 'intersection_update',\n",
       " 'isdisjoint',\n",
       " 'issubset',\n",
       " 'issuperset',\n",
       " 'pop',\n",
       " 'remove',\n",
       " 'symmetric_difference',\n",
       " 'symmetric_difference_update',\n",
       " 'union',\n",
       " 'update']"
      ]
     },
     "execution_count": 49,
     "metadata": {},
     "output_type": "execute_result"
    }
   ],
   "source": [
    "[i for i in dir(data) if \"__\" not in i] # Check Set Data Types Methods & Attributes"
   ]
  },
  {
   "cell_type": "code",
   "execution_count": 50,
   "metadata": {},
   "outputs": [
    {
     "name": "stdout",
     "output_type": "stream",
     "text": [
      "{'fName': 'Ahmed', 'lName': 'Shaikh', 'mName': 'Saleem'}\n"
     ]
    }
   ],
   "source": [
    "from typing import Dict, Union;\n",
    "import pprint;\n",
    "\n",
    "Key = Union[int, str];\n",
    "\n",
    "Value = Union[int, str, list, dict, tuple, set];\n",
    "\n",
    "data : Dict[Key, Value] = { \n",
    "                            \"fName\": \"Ahmed\", \n",
    "                            \"mName\": \"Saleem\", \n",
    "                            \"lName\": \"Shaikh\"\n",
    "                         };\n",
    "\n",
    "pprint.pprint(data);"
   ]
  },
  {
   "cell_type": "code",
   "execution_count": 51,
   "metadata": {},
   "outputs": [
    {
     "name": "stdout",
     "output_type": "stream",
     "text": [
      "{100: 'Pakistan',\n",
      " 'Array': [1, 2, 3],\n",
      " 'Fun': (1, 2, 3),\n",
      " 'Obj': {1, 2, 3},\n",
      " 'Oop': {'A': 1, 'B': 2},\n",
      " 'fName': 'Ahmed',\n",
      " 'lName': 'Shaikh',\n",
      " 'mName': 'Saleem'}\n",
      "Ahmed\n",
      "Pakistan\n",
      "{1, 2, 3}\n",
      "{'A': 1, 'B': 2}\n"
     ]
    }
   ],
   "source": [
    "from typing import Dict, Union;\n",
    "import pprint;\n",
    "\n",
    "Key = Union[int, str];\n",
    "\n",
    "Value = Union[int, str, list, dict, tuple, set];\n",
    "\n",
    "data : Dict[Key, Value] = { \n",
    "                              \"fName\": \"Ahmed\", \n",
    "                              \"mName\": \"Saleem\", \n",
    "                              \"lName\": \"Shaikh\",\n",
    "                              100: \"Pakistan\",\n",
    "                              \"Array\": [1, 2, 3],\n",
    "                              \"Obj\": {1, 2, 3},\n",
    "                              \"Fun\": (1, 2, 3),\n",
    "                              \"Oop\": {\"A\": 1, \"B\": 2}\n",
    "                         };\n",
    "\n",
    "pprint.pprint(data);\n",
    "\n",
    "print(data[\"fName\"]);\n",
    "\n",
    "print(data[100]);\n",
    "\n",
    "print(data[\"Obj\"]);\n",
    "\n",
    "print(data[\"Oop\"]);"
   ]
  },
  {
   "cell_type": "code",
   "execution_count": 52,
   "metadata": {},
   "outputs": [
    {
     "name": "stdout",
     "output_type": "stream",
     "text": [
      "{1, 4, 5, 7}\n",
      "[1, 4, 5, 7]\n"
     ]
    }
   ],
   "source": [
    "data: set = {1, 1, 4, 5, 4, 7};\n",
    "\n",
    "print(data);\n",
    "\n",
    "listData: list[int] = list(data);\n",
    "\n",
    "print(listData);"
   ]
  },
  {
   "cell_type": "code",
   "execution_count": 53,
   "metadata": {},
   "outputs": [
    {
     "name": "stdout",
     "output_type": "stream",
     "text": [
      "1\n"
     ]
    }
   ],
   "source": [
    "from typing import Dict, Union;\n",
    "\n",
    "Key = Union[int, str];\n",
    "\n",
    "Value = Union[int, str, list, dict, tuple, set];\n",
    "\n",
    "data : Dict[Key, Value] = { \n",
    "                              \"fName\": \"Ahmed\", \n",
    "                              \"mName\": \"Saleem\", \n",
    "                              \"lName\": \"Shaikh\",\n",
    "                              100: \"Pakistan\",\n",
    "                              \"Array\": [1, 2, 3],\n",
    "                              \"Obj\": {1, 2, 3},\n",
    "                              \"Fun\": (1, 2, 3),\n",
    "                              \"Oop\": {\"A\": 1, \"B\": 2}\n",
    "                         };\n",
    "\n",
    "print(data[\"Oop\"][\"A\"]);"
   ]
  },
  {
   "cell_type": "code",
   "execution_count": 54,
   "metadata": {},
   "outputs": [
    {
     "name": "stdout",
     "output_type": "stream",
     "text": [
      "{'Country': 'Nertherlands',\n",
      " 'Learning Language': 'Python',\n",
      " 'Message': 'Free Palenstine 🇵🇸'}\n"
     ]
    }
   ],
   "source": [
    "from typing import Dict, Union;\n",
    "import pprint;\n",
    "\n",
    "Key = Union[int, str];\n",
    "\n",
    "Value = Union[int, str, list, dict, tuple, set];\n",
    "\n",
    "data : Dict[Key, Value] = {};\n",
    "\n",
    "data[\"Country\"] = \"Nertherlands\";\n",
    "\n",
    "data[\"Message\"] = \"Free Palenstine 🇵🇸\";\n",
    "\n",
    "data[\"Learning Language\"] = \"Python\";\n",
    "\n",
    "pprint.pprint(data);"
   ]
  },
  {
   "cell_type": "code",
   "execution_count": 55,
   "metadata": {},
   "outputs": [
    {
     "name": "stdout",
     "output_type": "stream",
     "text": [
      "{'Country': 'Nertherlands',\n",
      " 'Learning Language': 'Python',\n",
      " 'Message': 'Free Palenstine 🇵🇸'}\n"
     ]
    }
   ],
   "source": [
    "from typing import Dict, Union;\n",
    "import pprint;\n",
    "\n",
    "Key = Union[int, str];\n",
    "\n",
    "Value = Union[int, str, list, dict, tuple, set];\n",
    "\n",
    "data : Dict[Key, Value] = { \n",
    "                            \"Country\": \"Nertherlands\",\n",
    "                            \"Message\": \"Free Palenstine 🇵🇸\",\n",
    "                            \"Learning Language\":\"Python\"\n",
    "                            };\n",
    "\n",
    "pprint.pprint(data);"
   ]
  },
  {
   "cell_type": "code",
   "execution_count": 56,
   "metadata": {},
   "outputs": [
    {
     "name": "stdout",
     "output_type": "stream",
     "text": [
      "{'Country': 'Nertherlands',\n",
      " 'Learning Language': 'Python',\n",
      " 'Message': 'Free Palenstine 🇵🇸',\n",
      " 'fullName': 'Ahmed Shaykh'}\n"
     ]
    }
   ],
   "source": [
    "\n",
    "data[\"fullName\"] = \"Ahmed Shaykh\";\n",
    "\n",
    "pprint.pprint(data);"
   ]
  },
  {
   "cell_type": "markdown",
   "metadata": {},
   "source": [
    "# **Dictionary Methods**"
   ]
  },
  {
   "cell_type": "code",
   "execution_count": 57,
   "metadata": {},
   "outputs": [
    {
     "name": "stdout",
     "output_type": "stream",
     "text": [
      "['clear', 'copy', 'fromkeys', 'get', 'items', 'keys', 'pop', 'popitem', 'setdefault', 'update', 'values']\n"
     ]
    }
   ],
   "source": [
    "print([i for i in dir(data) if \"__\" not in i]);"
   ]
  },
  {
   "cell_type": "code",
   "execution_count": 58,
   "metadata": {},
   "outputs": [
    {
     "name": "stdout",
     "output_type": "stream",
     "text": [
      "Not Available\n",
      "Free Palenstine 🇵🇸\n"
     ]
    }
   ],
   "source": [
    "print(data.get(\"Pakistan\", \"Not Available\"));\n",
    "\n",
    "print(data.get(\"Message\", \"Not Available\"));"
   ]
  },
  {
   "cell_type": "code",
   "execution_count": 59,
   "metadata": {},
   "outputs": [
    {
     "name": "stdout",
     "output_type": "stream",
     "text": [
      "'Country'\n",
      "'Message'\n",
      "'Learning Language'\n"
     ]
    }
   ],
   "source": [
    "from typing import Dict, Union;\n",
    "import pprint;\n",
    "\n",
    "Key = Union[int, str];\n",
    "\n",
    "Value = Union[int, str, list, dict, tuple, set];\n",
    "\n",
    "data : Dict[Key, Value] = { \n",
    "                            \"Country\": \"Nertherlands\",\n",
    "                            \"Message\": \"Free Palenstine 🇵🇸\",\n",
    "                            \"Learning Language\":\"Python\"\n",
    "                            };\n",
    "\n",
    "for value in data:\n",
    "\n",
    "    pprint.pprint(value);"
   ]
  },
  {
   "cell_type": "code",
   "execution_count": 60,
   "metadata": {},
   "outputs": [
    {
     "name": "stdout",
     "output_type": "stream",
     "text": [
      "dict_keys(['Country', 'Message', 'Learning Language'])\n",
      "dict_values(['Nertherlands', 'Free Palenstine 🇵🇸', 'Python'])\n",
      "dict_items([('Country', 'Nertherlands'), ('Message', 'Free Palenstine 🇵🇸'), ('Learning Language', 'Python')])\n",
      "Country\n",
      "Nertherlands \n",
      "\n",
      "Message\n",
      "Free Palenstine 🇵🇸 \n",
      "\n",
      "Learning Language\n",
      "Python \n",
      "\n"
     ]
    }
   ],
   "source": [
    "from typing import Dict, Union;\n",
    "\n",
    "Key = Union[int, str];\n",
    "\n",
    "Value = Union[int, str, list, dict, tuple, set];\n",
    "\n",
    "data : Dict[Key, Value] = { \n",
    "                            \"Country\": \"Nertherlands\",\n",
    "                            \"Message\": \"Free Palenstine 🇵🇸\",\n",
    "                            \"Learning Language\":\"Python\"\n",
    "                            };\n",
    "\n",
    "print(data.keys()); # Keys\n",
    "print(data.values()); # Values\n",
    "print(data.items()); # All Items In Dictionary\n",
    "\n",
    "for val in data.keys():\n",
    "\n",
    "    print(val);\n",
    "\n",
    "    print(f\"{data[val]} \\n\");"
   ]
  },
  {
   "cell_type": "code",
   "execution_count": 61,
   "metadata": {},
   "outputs": [
    {
     "name": "stdout",
     "output_type": "stream",
     "text": [
      "Country Nertherlands\n",
      "Message Free Palenstine 🇵🇸\n",
      "Learning Language Python\n"
     ]
    }
   ],
   "source": [
    "for key, val in data.items():\n",
    "\n",
    "    print(key, val);"
   ]
  },
  {
   "cell_type": "code",
   "execution_count": 62,
   "metadata": {},
   "outputs": [
    {
     "name": "stdout",
     "output_type": "stream",
     "text": [
      "{'Country': 'Nertherlands',\n",
      " 'Learning Language': 'Python',\n",
      " 'Message': 'Free Palenstine 🇵🇸'}\n"
     ]
    }
   ],
   "source": [
    "import pprint;\n",
    "\n",
    "pprint.pprint({ key:val for key,val in data.items() }); # Comprehension List"
   ]
  },
  {
   "cell_type": "code",
   "execution_count": 63,
   "metadata": {},
   "outputs": [
    {
     "name": "stdout",
     "output_type": "stream",
     "text": [
      "{'Free Palenstine 🇵🇸': 'Message',\n",
      " 'Nertherlands': 'Country',\n",
      " 'Python': 'Learning Language'}\n"
     ]
    }
   ],
   "source": [
    "import pprint;\n",
    "\n",
    "pprint.pprint({ val:key for key,val in data.items() }); # Shuffle"
   ]
  },
  {
   "cell_type": "code",
   "execution_count": 64,
   "metadata": {},
   "outputs": [
    {
     "name": "stdout",
     "output_type": "stream",
     "text": [
      "9 7\n"
     ]
    }
   ],
   "source": [
    "a : int = 7;\n",
    "b : int = 9;\n",
    "\n",
    "a, b = b, a; # Shuffle\n",
    "\n",
    "print(a,b);"
   ]
  },
  {
   "cell_type": "code",
   "execution_count": 65,
   "metadata": {},
   "outputs": [
    {
     "name": "stdout",
     "output_type": "stream",
     "text": [
      "{'Country': 'Nertherlands', 'Message': 'Free Palenstine 🇵🇸', 'Learning Language': 'Python'}\n",
      "{}\n"
     ]
    }
   ],
   "source": [
    "from typing import Dict, Union;\n",
    "\n",
    "Key = Union[int, str];\n",
    "\n",
    "Value = Union[int, str, list, dict, tuple, set];\n",
    "\n",
    "data : Dict[Key, Value] = { \n",
    "                            \"Country\": \"Nertherlands\",\n",
    "                            \"Message\": \"Free Palenstine 🇵🇸\",\n",
    "                            \"Learning Language\":\"Python\"\n",
    "                            };\n",
    "\n",
    "print(data);\n",
    "\n",
    "data.clear();\n",
    "\n",
    "print(data);"
   ]
  },
  {
   "cell_type": "code",
   "execution_count": 66,
   "metadata": {},
   "outputs": [
    {
     "name": "stdout",
     "output_type": "stream",
     "text": [
      "{'Country': 'Nertherlands',\n",
      " 'Learning Language': 'Python',\n",
      " 'Message': 'Free Palenstine 🇵🇸'}\n",
      "Nertherlands\n",
      "{'Learning Language': 'Python', 'Message': 'Free Palenstine 🇵🇸'}\n"
     ]
    }
   ],
   "source": [
    "from typing import Dict, Union;\n",
    "import pprint;\n",
    "\n",
    "Key = Union[int, str];\n",
    "\n",
    "Value = Union[int, str, list, dict, tuple, set];\n",
    "\n",
    "data : Dict[Key, Value] = { \n",
    "                            \"Country\": \"Nertherlands\",\n",
    "                            \"Message\": \"Free Palenstine 🇵🇸\",\n",
    "                            \"Learning Language\":\"Python\"\n",
    "                            };\n",
    "\n",
    "pprint.pprint(data);\n",
    "\n",
    "val: str = data.pop(\"Country\");\n",
    "\n",
    "print(val); # Pop Remove Particular Item\n",
    "\n",
    "pprint.pprint(data);"
   ]
  },
  {
   "cell_type": "code",
   "execution_count": 67,
   "metadata": {},
   "outputs": [
    {
     "name": "stdout",
     "output_type": "stream",
     "text": [
      "{'Country': 'Nertherlands',\n",
      " 'Learning Language': 'Python',\n",
      " 'Message': 'Free Palenstine 🇵🇸'}\n",
      "('Learning Language', 'Python')\n",
      "{'Country': 'Nertherlands', 'Message': 'Free Palenstine 🇵🇸'}\n"
     ]
    }
   ],
   "source": [
    "from typing import Dict, Union;\n",
    "import pprint;\n",
    "\n",
    "Key = Union[int, str];\n",
    "\n",
    "Value = Union[int, str, list, dict, tuple, set];\n",
    "\n",
    "data : Dict[Key, Value] = { \n",
    "                            \"Country\": \"Nertherlands\",\n",
    "                            \"Message\": \"Free Palenstine 🇵🇸\",\n",
    "                            \"Learning Language\":\"Python\"\n",
    "                            };\n",
    "\n",
    "pprint.pprint(data);\n",
    "\n",
    "val: str = data.popitem();\n",
    "\n",
    "print(val); # PopItem Remove Last Item\n",
    "\n",
    "pprint.pprint(data);"
   ]
  },
  {
   "cell_type": "code",
   "execution_count": 68,
   "metadata": {},
   "outputs": [
    {
     "name": "stdout",
     "output_type": "stream",
     "text": [
      "{'Country': 'Nertherlands',\n",
      " 'Learning Language': 'Python',\n",
      " 'Message': 'Free Palenstine 🇵🇸'}\n",
      "Free Palenstine 🇵🇸\n",
      "{'Country': 'Nertherlands',\n",
      " 'Learning Language': 'Python',\n",
      " 'Message': 'Free Palenstine 🇵🇸'}\n"
     ]
    }
   ],
   "source": [
    "from typing import Dict, Union;\n",
    "import pprint;\n",
    "\n",
    "Key = Union[int, str];\n",
    "\n",
    "Value = Union[int, str, list, dict, tuple, set];\n",
    "\n",
    "data : Dict[Key, Value] = { \n",
    "                            \"Country\": \"Nertherlands\",\n",
    "                            \"Message\": \"Free Palenstine 🇵🇸\",\n",
    "                            \"Learning Language\":\"Python\"\n",
    "                            };\n",
    "\n",
    "pprint.pprint(data);\n",
    "\n",
    "val: str = data.get(\"Message\", \"No Message Available\");\n",
    "\n",
    "print(val);\n",
    "\n",
    "pprint.pprint(data);"
   ]
  },
  {
   "cell_type": "code",
   "execution_count": 69,
   "metadata": {},
   "outputs": [
    {
     "name": "stdout",
     "output_type": "stream",
     "text": [
      "{'Country': 'Nertherlands',\n",
      " 'Learning Language': 'Python',\n",
      " 'Message': 'Free Palenstine 🇵🇸'}\n",
      "Python\n",
      "Empty Value\n",
      "{'Country': 'Nertherlands',\n",
      " 'LLM': 'Empty Value',\n",
      " 'Learning Language': 'Python',\n",
      " 'Message': 'Free Palenstine 🇵🇸'}\n"
     ]
    }
   ],
   "source": [
    "from typing import Dict, Union;\n",
    "import pprint;\n",
    "\n",
    "Key = Union[int, str];\n",
    "\n",
    "Value = Union[int, str, list, dict, tuple, set];\n",
    "\n",
    "data : Dict[Key, Value] = { \n",
    "                            \"Country\": \"Nertherlands\",\n",
    "                            \"Message\": \"Free Palenstine 🇵🇸\",\n",
    "                            \"Learning Language\":\"Python\"\n",
    "                            };\n",
    "\n",
    "pprint.pprint(data);\n",
    "\n",
    "val: str = data.setdefault(\"Learning Language\", \"TypeScript\"); # Return Same Value Not Update\n",
    "\n",
    "print(val);\n",
    "\n",
    "val2: str = data.setdefault(\"LLM\", \"Empty Value\"); # Add New Value In Object Not Return Error Message\n",
    "\n",
    "print(val2);\n",
    "\n",
    "pprint.pprint(data);"
   ]
  },
  {
   "cell_type": "code",
   "execution_count": 70,
   "metadata": {},
   "outputs": [
    {
     "name": "stdout",
     "output_type": "stream",
     "text": [
      "{'Country': 'Nertherlands',\n",
      " 'Learning Language': 'Python',\n",
      " 'Message': 'Free Palenstine 🇵🇸',\n",
      " 'fName': 'Ahmed',\n",
      " 'lName': 'Shaikh',\n",
      " 'mName': 'Saleem'}\n"
     ]
    }
   ],
   "source": [
    "from typing import Dict, Union;\n",
    "import pprint;\n",
    "\n",
    "Key = Union[int, str];\n",
    "\n",
    "Value = Union[int, str, list, dict, tuple, set];\n",
    "\n",
    "data : Dict[str,str] = { \n",
    "                        \"fName\": \"Ahmed\", \n",
    "                        \"mName\": \"Saleem\", \n",
    "                        \"lName\": \"Shaikh\",\n",
    "                        \"Country\": \"Pakistan\"\n",
    "                        };\n",
    "\n",
    "data2 : Dict[Key, Value] = { \n",
    "                            \"Country\": \"Nertherlands\",\n",
    "                            \"Message\": \"Free Palenstine 🇵🇸\",\n",
    "                            \"Learning Language\":\"Python\"\n",
    "                            };\n",
    "\n",
    "data.update(data2);\n",
    "\n",
    "pprint.pprint(data);"
   ]
  },
  {
   "cell_type": "code",
   "execution_count": 71,
   "metadata": {},
   "outputs": [
    {
     "name": "stdout",
     "output_type": "stream",
     "text": [
      "dict_keys(['fName', 'mName', 'lName', 'Country', 'Message', 'Learning Language']) \n",
      "\n",
      "dict_values(['Ahmed', 'Saleem', 'Shaikh', 'Nertherlands', 'Free Palenstine 🇵🇸', 'Python']) \n",
      "\n",
      "(\"dict_items([('fName', 'Ahmed'), ('mName', 'Saleem'), ('lName', 'Shaikh'), \"\n",
      " \"('Country', 'Nertherlands'), ('Message', 'Free Palenstine 🇵🇸'), ('Learning \"\n",
      " \"Language', 'Python')])\")\n"
     ]
    }
   ],
   "source": [
    "print(f\"{data.keys()} \\n\");\n",
    "\n",
    "print(f\"{data.values()} \\n\");\n",
    "\n",
    "pprint.pprint(f\"{data.items()}\");"
   ]
  },
  {
   "cell_type": "code",
   "execution_count": 81,
   "metadata": {},
   "outputs": [
    {
     "name": "stdout",
     "output_type": "stream",
     "text": [
      "{'fName': None, 'mName': None, 'lName': None, 'Country': None}\n"
     ]
    }
   ],
   "source": [
    "from typing import Dict, Union, List;\n",
    "\n",
    "Key = Union[int, str];\n",
    "\n",
    "Value = Union[int, str, list, dict, tuple, set];\n",
    "\n",
    "keys : List[str] = [\"fName\", \"mName\", \"lName\", \"Country\"];\n",
    "\n",
    "data : Dict[Key,Value] = {};\n",
    "\n",
    "data = data.fromkeys(keys);\n",
    "\n",
    "print(data);"
   ]
  },
  {
   "cell_type": "code",
   "execution_count": 83,
   "metadata": {},
   "outputs": [
    {
     "name": "stdout",
     "output_type": "stream",
     "text": [
      "{'fName': 1, 'mName': 1, 'lName': 1, 'Country': 1}\n"
     ]
    }
   ],
   "source": [
    "values : List[str] = [\"Ahmed\", \"Saleem\", \"Shaikh\", \"Pakistan\"];\n",
    "\n",
    "data = data.fromkeys(keys, 1);\n",
    "\n",
    "print(data);"
   ]
  },
  {
   "cell_type": "code",
   "execution_count": 84,
   "metadata": {},
   "outputs": [
    {
     "name": "stdout",
     "output_type": "stream",
     "text": [
      "{'Country': ['Ahmed', 'Saleem', 'Shaikh', 'Pakistan'],\n",
      " 'fName': ['Ahmed', 'Saleem', 'Shaikh', 'Pakistan'],\n",
      " 'lName': ['Ahmed', 'Saleem', 'Shaikh', 'Pakistan'],\n",
      " 'mName': ['Ahmed', 'Saleem', 'Shaikh', 'Pakistan']}\n"
     ]
    }
   ],
   "source": [
    "values : List[str] = [\"Ahmed\", \"Saleem\", \"Shaikh\", \"Pakistan\"];\n",
    "\n",
    "data = data.fromkeys(keys, values); # Values Add In All Keys Items\n",
    "\n",
    "pprint.pprint(data);"
   ]
  }
 ],
 "metadata": {
  "kernelspec": {
   "display_name": "base",
   "language": "python",
   "name": "python3"
  },
  "language_info": {
   "codemirror_mode": {
    "name": "ipython",
    "version": 3
   },
   "file_extension": ".py",
   "mimetype": "text/x-python",
   "name": "python",
   "nbconvert_exporter": "python",
   "pygments_lexer": "ipython3",
   "version": "3.11.5"
  }
 },
 "nbformat": 4,
 "nbformat_minor": 2
}
