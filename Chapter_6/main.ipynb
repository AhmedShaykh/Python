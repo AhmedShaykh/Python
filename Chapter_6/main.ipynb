{
 "cells": [
  {
   "cell_type": "markdown",
   "metadata": {},
   "source": [
    "# **Dictionary**"
   ]
  },
  {
   "cell_type": "code",
   "execution_count": 52,
   "metadata": {},
   "outputs": [
    {
     "data": {
      "text/plain": [
       "{'fName': 'Ahmed', 'mName': 'Saleem', 'lName': 'Shaikh'}"
      ]
     },
     "metadata": {},
     "output_type": "display_data"
    },
    {
     "name": "stdout",
     "output_type": "stream",
     "text": [
      "{'fName': 'Ahmed', 'mName': 'Saleem', 'lName': 'Shaikh'}\n"
     ]
    }
   ],
   "source": [
    "from typing import Dict;\n",
    "\n",
    "data : Dict[str,str] = { \"fName\": \"Ahmed\", \"mName\": \"Saleem\", \"lName\": \"Shaikh\" };\n",
    "\n",
    "display(data);\n",
    "\n",
    "print(data);"
   ]
  },
  {
   "cell_type": "code",
   "execution_count": 53,
   "metadata": {},
   "outputs": [
    {
     "name": "stdout",
     "output_type": "stream",
     "text": [
      "{'fName': 'Ahmed', 'lName': 'Shaikh', 'mName': 'Saleem'}\n"
     ]
    }
   ],
   "source": [
    "from typing import Dict;\n",
    "import pprint;\n",
    "\n",
    "data : Dict[str,str] = { \"fName\": \"Ahmed\", \"mName\": \"Saleem\", \"lName\": \"Shaikh\" };\n",
    "\n",
    "pprint.pprint(data);"
   ]
  },
  {
   "cell_type": "code",
   "execution_count": 54,
   "metadata": {},
   "outputs": [
    {
     "name": "stdout",
     "output_type": "stream",
     "text": [
      "{1, 4, 5, 7}\n"
     ]
    }
   ],
   "source": [
    "data: set = {1, 1, 4, 5, 4, 7};\n",
    "\n",
    "print(data); # Set Type Return Unique Value In Order & Not Apply Indexing"
   ]
  },
  {
   "cell_type": "code",
   "execution_count": 55,
   "metadata": {},
   "outputs": [
    {
     "data": {
      "text/plain": [
       "['add',\n",
       " 'clear',\n",
       " 'copy',\n",
       " 'difference',\n",
       " 'difference_update',\n",
       " 'discard',\n",
       " 'intersection',\n",
       " 'intersection_update',\n",
       " 'isdisjoint',\n",
       " 'issubset',\n",
       " 'issuperset',\n",
       " 'pop',\n",
       " 'remove',\n",
       " 'symmetric_difference',\n",
       " 'symmetric_difference_update',\n",
       " 'union',\n",
       " 'update']"
      ]
     },
     "execution_count": 55,
     "metadata": {},
     "output_type": "execute_result"
    }
   ],
   "source": [
    "[i for i in dir(data) if \"__\" not in i] # Check Set Data Types Methods & Attributes"
   ]
  },
  {
   "cell_type": "code",
   "execution_count": 56,
   "metadata": {},
   "outputs": [
    {
     "name": "stdout",
     "output_type": "stream",
     "text": [
      "{'fName': 'Ahmed', 'lName': 'Shaikh', 'mName': 'Saleem'}\n"
     ]
    }
   ],
   "source": [
    "from typing import Dict, Union, Optional;\n",
    "import pprint;\n",
    "\n",
    "Key = Union[int, str];\n",
    "\n",
    "Value = Union[int, str, list, dict, tuple, set];\n",
    "\n",
    "data : Dict[Key, Value] = { \n",
    "                            \"fName\": \"Ahmed\", \n",
    "                            \"mName\": \"Saleem\", \n",
    "                            \"lName\": \"Shaikh\"\n",
    "                         };\n",
    "\n",
    "pprint.pprint(data);"
   ]
  },
  {
   "cell_type": "code",
   "execution_count": 57,
   "metadata": {},
   "outputs": [
    {
     "name": "stdout",
     "output_type": "stream",
     "text": [
      "{'fName': 'Ahmed', 'mName': 'Saleem', 'lName': 'Shaikh', 100: 'Pakistan'}\n",
      "Ahmed\n",
      "Pakistan\n"
     ]
    }
   ],
   "source": [
    "from typing import Dict, Union, Optional;\n",
    "\n",
    "Key = Union[int, str];\n",
    "\n",
    "Value = Union[int, str, list, dict, tuple, set];\n",
    "\n",
    "data : Dict[Key, Value] = { \n",
    "                            \"fName\": \"Ahmed\", \n",
    "                            \"mName\": \"Saleem\", \n",
    "                            \"lName\": \"Shaikh\",\n",
    "                            100: \"Pakistan\"\n",
    "                         };\n",
    "\n",
    "print(data);\n",
    "\n",
    "print(data[\"fName\"]);\n",
    "\n",
    "print(data[100]);"
   ]
  }
 ],
 "metadata": {
  "kernelspec": {
   "display_name": "base",
   "language": "python",
   "name": "python3"
  },
  "language_info": {
   "codemirror_mode": {
    "name": "ipython",
    "version": 3
   },
   "file_extension": ".py",
   "mimetype": "text/x-python",
   "name": "python",
   "nbconvert_exporter": "python",
   "pygments_lexer": "ipython3",
   "version": "3.11.5"
  }
 },
 "nbformat": 4,
 "nbformat_minor": 2
}
